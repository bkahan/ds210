{
 "cells": [
  {
   "cell_type": "markdown",
   "id": "eb562b1c",
   "metadata": {
    "cell_style": "center",
    "slideshow": {
     "slide_type": "slide"
    }
   },
   "source": [
    "# DS-210: Programming for Data Science\n",
    "\n",
    "\n",
    "# Lecture 4: Sample predictive data analysis pipeline"
   ]
  },
  {
   "cell_type": "markdown",
   "id": "c60584af",
   "metadata": {
    "cell_style": "center",
    "slideshow": {
     "slide_type": "slide"
    }
   },
   "source": [
    "## Typical steps in predictive data analysis\n",
    "\n",
    "* Collect, validate, and clean data\n",
    "\n",
    "* Feature selection and additional data preparation\n",
    "\n",
    "* Split data into training and testing set\n",
    "\n",
    "* Train your algorithm\n",
    "\n",
    "* Estimate its accuracy"
   ]
  },
  {
   "cell_type": "code",
   "execution_count": 2,
   "id": "484455e2",
   "metadata": {
    "slideshow": {
     "slide_type": "fragment"
    }
   },
   "outputs": [],
   "source": [
    "# set up our environment\n",
    "import pandas as pd\n",
    "\n",
    "def print_file(filename):\n",
    "    with open(filename) as f:\n",
    "        print(f.read(),end='')"
   ]
  },
  {
   "cell_type": "markdown",
   "id": "410402d8",
   "metadata": {
    "cell_style": "center",
    "slideshow": {
     "slide_type": "subslide"
    }
   },
   "source": [
    "## Data preparation"
   ]
  },
  {
   "cell_type": "markdown",
   "id": "1d08ce12",
   "metadata": {
    "cell_style": "split",
    "slideshow": {
     "slide_type": "-"
    }
   },
   "source": [
    "### Data collection\n",
    "* can be non-trivial\n",
    "* may require combining information from several sources\n",
    "\n",
    "### Data validation\n",
    "* ensure the proper format\n",
    "* no missing values of any kind\n",
    "* basic data consistency"
   ]
  },
  {
   "cell_type": "markdown",
   "id": "2e038f45",
   "metadata": {
    "cell_style": "split",
    "slideshow": {
     "slide_type": "fragment"
    }
   },
   "source": [
    "### Data cleaning\n",
    "* decide how to fix data\n",
    "* examples:\n",
    "  * remove duplicate entries?\n",
    "  * drop entries with incorrect or missing info?\n",
    "  * fix entries with incorrect or missing info?\n",
    "  * fix misspellings?"
   ]
  },
  {
   "cell_type": "markdown",
   "id": "2666237c",
   "metadata": {
    "slideshow": {
     "slide_type": "subslide"
    }
   },
   "source": [
    "## Sample of data validation"
   ]
  },
  {
   "cell_type": "code",
   "execution_count": 3,
   "id": "0f07c90c",
   "metadata": {
    "cell_style": "split",
    "slideshow": {
     "slide_type": "-"
    }
   },
   "outputs": [
    {
     "name": "stdout",
     "output_type": "stream",
     "text": [
      "Name;FavoriteNumber;PPG\n",
      "Alice;7;13.2\n",
      ";8;12.7\n",
      "Carol;13;8.2\n",
      "Dave;\"five\"\n",
      "Jack;32;\n",
      ";;\n"
     ]
    }
   ],
   "source": [
    "filename = 'data_validation.csv'\n",
    "print_file(filename)"
   ]
  },
  {
   "cell_type": "code",
   "execution_count": 11,
   "id": "960c5903",
   "metadata": {
    "cell_style": "split",
    "slideshow": {
     "slide_type": "fragment"
    }
   },
   "outputs": [
    {
     "data": {
      "text/html": [
       "<div>\n",
       "<style scoped>\n",
       "    .dataframe tbody tr th:only-of-type {\n",
       "        vertical-align: middle;\n",
       "    }\n",
       "\n",
       "    .dataframe tbody tr th {\n",
       "        vertical-align: top;\n",
       "    }\n",
       "\n",
       "    .dataframe thead th {\n",
       "        text-align: right;\n",
       "    }\n",
       "</style>\n",
       "<table border=\"1\" class=\"dataframe\">\n",
       "  <thead>\n",
       "    <tr style=\"text-align: right;\">\n",
       "      <th></th>\n",
       "      <th>Name</th>\n",
       "      <th>FavoriteNumber</th>\n",
       "      <th>PPG</th>\n",
       "    </tr>\n",
       "  </thead>\n",
       "  <tbody>\n",
       "    <tr>\n",
       "      <th>0</th>\n",
       "      <td>Alice</td>\n",
       "      <td>7</td>\n",
       "      <td>13.2</td>\n",
       "    </tr>\n",
       "    <tr>\n",
       "      <th>1</th>\n",
       "      <td>NaN</td>\n",
       "      <td>8</td>\n",
       "      <td>12.7</td>\n",
       "    </tr>\n",
       "    <tr>\n",
       "      <th>2</th>\n",
       "      <td>Carol</td>\n",
       "      <td>13</td>\n",
       "      <td>8.2</td>\n",
       "    </tr>\n",
       "    <tr>\n",
       "      <th>3</th>\n",
       "      <td>Dave</td>\n",
       "      <td>five</td>\n",
       "      <td>NaN</td>\n",
       "    </tr>\n",
       "    <tr>\n",
       "      <th>4</th>\n",
       "      <td>Jack</td>\n",
       "      <td>32</td>\n",
       "      <td>NaN</td>\n",
       "    </tr>\n",
       "    <tr>\n",
       "      <th>5</th>\n",
       "      <td>NaN</td>\n",
       "      <td>NaN</td>\n",
       "      <td>NaN</td>\n",
       "    </tr>\n",
       "  </tbody>\n",
       "</table>\n",
       "</div>"
      ],
      "text/plain": [
       "    Name FavoriteNumber   PPG\n",
       "0  Alice              7  13.2\n",
       "1    NaN              8  12.7\n",
       "2  Carol             13   8.2\n",
       "3   Dave           five   NaN\n",
       "4   Jack             32   NaN\n",
       "5    NaN            NaN   NaN"
      ]
     },
     "execution_count": 11,
     "metadata": {},
     "output_type": "execute_result"
    }
   ],
   "source": [
    "data = pd.read_csv(filename, sep=';')\n",
    "data"
   ]
  },
  {
   "cell_type": "code",
   "execution_count": 12,
   "id": "213e8e82",
   "metadata": {
    "cell_style": "split",
    "slideshow": {
     "slide_type": "fragment"
    }
   },
   "outputs": [
    {
     "data": {
      "text/plain": [
       "Name               object\n",
       "FavoriteNumber     object\n",
       "PPG               float64\n",
       "dtype: object"
      ]
     },
     "execution_count": 12,
     "metadata": {},
     "output_type": "execute_result"
    }
   ],
   "source": [
    "# check if types are as expected\n",
    "# if not, incorrect entry\n",
    "data.dtypes "
   ]
  },
  {
   "cell_type": "code",
   "execution_count": 19,
   "id": "fd045f16",
   "metadata": {
    "cell_style": "split",
    "scrolled": true,
    "slideshow": {
     "slide_type": "fragment"
    }
   },
   "outputs": [
    {
     "name": "stdout",
     "output_type": "stream",
     "text": [
      "3 missing entries in PPG\n"
     ]
    }
   ],
   "source": [
    "# count missing entries in a column\n",
    "column = 'PPG'\n",
    "missing = pd.isnull(data[column]).sum()\n",
    "print(f'{missing} missing entries in {column}')\n",
    "# Let's find out how many rows in dataset have nulls\n",
    "#pd3 = pd.isnull(data)\n",
    "#for i in range(pd3.shape[0]):\n",
    "#    rowisnull = False\n",
    "#    for j in range(pd3.shape[1]):\n",
    "#        rowisnull = rowisnull or pd3.iloc[i][j]\n",
    "#    print('row ', i, 'has null status ', rowisnull)\n"
   ]
  },
  {
   "cell_type": "markdown",
   "id": "bfaf0f13",
   "metadata": {
    "slideshow": {
     "slide_type": "slide"
    }
   },
   "source": [
    "## Sample of data cleaning"
   ]
  },
  {
   "cell_type": "code",
   "execution_count": 7,
   "id": "ebf2d0ad",
   "metadata": {
    "cell_style": "split"
   },
   "outputs": [
    {
     "data": {
      "text/html": [
       "<div>\n",
       "<style scoped>\n",
       "    .dataframe tbody tr th:only-of-type {\n",
       "        vertical-align: middle;\n",
       "    }\n",
       "\n",
       "    .dataframe tbody tr th {\n",
       "        vertical-align: top;\n",
       "    }\n",
       "\n",
       "    .dataframe thead th {\n",
       "        text-align: right;\n",
       "    }\n",
       "</style>\n",
       "<table border=\"1\" class=\"dataframe\">\n",
       "  <thead>\n",
       "    <tr style=\"text-align: right;\">\n",
       "      <th></th>\n",
       "      <th>Name</th>\n",
       "      <th>FavoriteNumber</th>\n",
       "      <th>PPG</th>\n",
       "    </tr>\n",
       "  </thead>\n",
       "  <tbody>\n",
       "    <tr>\n",
       "      <th>0</th>\n",
       "      <td>Alice</td>\n",
       "      <td>7</td>\n",
       "      <td>13.2</td>\n",
       "    </tr>\n",
       "    <tr>\n",
       "      <th>1</th>\n",
       "      <td>NaN</td>\n",
       "      <td>8</td>\n",
       "      <td>12.7</td>\n",
       "    </tr>\n",
       "    <tr>\n",
       "      <th>2</th>\n",
       "      <td>Carol</td>\n",
       "      <td>13</td>\n",
       "      <td>8.2</td>\n",
       "    </tr>\n",
       "    <tr>\n",
       "      <th>3</th>\n",
       "      <td>Dave</td>\n",
       "      <td>five</td>\n",
       "      <td>NaN</td>\n",
       "    </tr>\n",
       "    <tr>\n",
       "      <th>4</th>\n",
       "      <td>Jack</td>\n",
       "      <td>32</td>\n",
       "      <td>NaN</td>\n",
       "    </tr>\n",
       "  </tbody>\n",
       "</table>\n",
       "</div>"
      ],
      "text/plain": [
       "    Name FavoriteNumber   PPG\n",
       "0  Alice              7  13.2\n",
       "1    NaN              8  12.7\n",
       "2  Carol             13   8.2\n",
       "3   Dave           five   NaN\n",
       "4   Jack             32   NaN"
      ]
     },
     "execution_count": 7,
     "metadata": {},
     "output_type": "execute_result"
    }
   ],
   "source": [
    "# drop entries with a NaN\n",
    "data = pd.read_csv(filename, sep=';')\n",
    "#data = data.dropna(axis=0,how='any')\n",
    "data = data.dropna(axis=0,how='all')\n",
    "data"
   ]
  },
  {
   "cell_type": "code",
   "execution_count": 7,
   "id": "8a558044",
   "metadata": {
    "cell_style": "split",
    "slideshow": {
     "slide_type": "fragment"
    }
   },
   "outputs": [
    {
     "data": {
      "text/html": [
       "<div>\n",
       "<style scoped>\n",
       "    .dataframe tbody tr th:only-of-type {\n",
       "        vertical-align: middle;\n",
       "    }\n",
       "\n",
       "    .dataframe tbody tr th {\n",
       "        vertical-align: top;\n",
       "    }\n",
       "\n",
       "    .dataframe thead th {\n",
       "        text-align: right;\n",
       "    }\n",
       "</style>\n",
       "<table border=\"1\" class=\"dataframe\">\n",
       "  <thead>\n",
       "    <tr style=\"text-align: right;\">\n",
       "      <th></th>\n",
       "      <th>Name</th>\n",
       "      <th>FavoriteNumber</th>\n",
       "      <th>PPG</th>\n",
       "    </tr>\n",
       "  </thead>\n",
       "  <tbody>\n",
       "    <tr>\n",
       "      <th>0</th>\n",
       "      <td>Alice</td>\n",
       "      <td>7</td>\n",
       "      <td>13.2</td>\n",
       "    </tr>\n",
       "    <tr>\n",
       "      <th>1</th>\n",
       "      <td>????</td>\n",
       "      <td>8</td>\n",
       "      <td>12.7</td>\n",
       "    </tr>\n",
       "    <tr>\n",
       "      <th>2</th>\n",
       "      <td>Carol</td>\n",
       "      <td>13</td>\n",
       "      <td>8.2</td>\n",
       "    </tr>\n",
       "    <tr>\n",
       "      <th>3</th>\n",
       "      <td>Dave</td>\n",
       "      <td>five</td>\n",
       "      <td>0.0</td>\n",
       "    </tr>\n",
       "    <tr>\n",
       "      <th>4</th>\n",
       "      <td>Jack</td>\n",
       "      <td>32</td>\n",
       "      <td>0.0</td>\n",
       "    </tr>\n",
       "  </tbody>\n",
       "</table>\n",
       "</div>"
      ],
      "text/plain": [
       "    Name FavoriteNumber   PPG\n",
       "0  Alice              7  13.2\n",
       "1   ????              8  12.7\n",
       "2  Carol             13   8.2\n",
       "3   Dave           five   0.0\n",
       "4   Jack             32   0.0"
      ]
     },
     "execution_count": 7,
     "metadata": {},
     "output_type": "execute_result"
    }
   ],
   "source": [
    "# replace NaNs with specific value\n",
    "data['PPG'] = data['PPG'].fillna(0)\n",
    "data['Name'] = data['Name'].fillna('????')\n",
    "data['FavoriteNumber'] = data['FavoriteNumber']\\\n",
    "                          .fillna(0)\n",
    "data"
   ]
  },
  {
   "cell_type": "code",
   "execution_count": 8,
   "id": "919c0bba",
   "metadata": {
    "cell_style": "split",
    "slideshow": {
     "slide_type": "fragment"
    }
   },
   "outputs": [],
   "source": [
    "def fix(x):\n",
    "    if x == \"five\":\n",
    "        return 5\n",
    "    return x\n",
    "\n",
    "data['FavoriteNumber'] = data['FavoriteNumber']\\\n",
    "                           .apply(fix)"
   ]
  },
  {
   "cell_type": "code",
   "execution_count": 9,
   "id": "398d6a25",
   "metadata": {
    "cell_style": "split",
    "slideshow": {
     "slide_type": "fragment"
    }
   },
   "outputs": [
    {
     "name": "stdout",
     "output_type": "stream",
     "text": [
      ";Name;FavoriteNumber;PPG\n",
      "0;Alice;7;13.2\n",
      "1;????;8;12.7\n",
      "2;Carol;13;8.2\n",
      "3;Dave;5;0.0\n",
      "4;Jack;32;0.0\n"
     ]
    }
   ],
   "source": [
    "better_file = \"cleaned.csv\"\n",
    "data.to_csv(better_file, sep=\";\")\n",
    "print_file(better_file)"
   ]
  },
  {
   "cell_type": "markdown",
   "id": "37715d7e",
   "metadata": {
    "cell_style": "center",
    "slideshow": {
     "slide_type": "subslide"
    }
   },
   "source": [
    "## Digression: Conditional expressions and lambda functions\n",
    "\n",
    "How to create and pass function `fix(x)` more concisely:\n",
    "\n",
    "```python\n",
    "def fix(x):\n",
    "    if x == \"five\":\n",
    "        return 5\n",
    "    return x\n",
    "```"
   ]
  },
  {
   "cell_type": "markdown",
   "id": "55789c07",
   "metadata": {
    "cell_style": "center",
    "slideshow": {
     "slide_type": "fragment"
    }
   },
   "source": [
    "Conditional expression: `<x> if <condition> else <y>`<br>\n",
    "(in C++: `<condition> ? <x> : <y>`)"
   ]
  },
  {
   "cell_type": "code",
   "execution_count": 10,
   "id": "77692d7d",
   "metadata": {},
   "outputs": [
    {
     "data": {
      "text/plain": [
       "'all good'"
      ]
     },
     "execution_count": 10,
     "metadata": {},
     "output_type": "execute_result"
    }
   ],
   "source": [
    "\"all good\" if 2 + 2 == 4 else \"what??!!\""
   ]
  },
  {
   "cell_type": "markdown",
   "id": "9eb878f5",
   "metadata": {
    "slideshow": {
     "slide_type": "fragment"
    }
   },
   "source": [
    "More concise version:\n",
    "```python\n",
    "def fix(x):\n",
    "    return 5 if x == \"five\" else x\n",
    "```"
   ]
  },
  {
   "cell_type": "markdown",
   "id": "23dddf3a",
   "metadata": {
    "cell_style": "center",
    "slideshow": {
     "slide_type": "subslide"
    }
   },
   "source": [
    "## Digression: Conditional expressions and lambda functions\n",
    "### Lambda functions: `lambda <x> : <expression>`\n",
    "(in OCaml: `fun <x> -> <expression>`)<br>\n",
    "(in C++: `[] (<type-of-x> <x>) {return <expression;}`)"
   ]
  },
  {
   "cell_type": "code",
   "execution_count": 11,
   "id": "9815de40",
   "metadata": {
    "cell_style": "split"
   },
   "outputs": [
    {
     "data": {
      "text/plain": [
       "256"
      ]
     },
     "execution_count": 11,
     "metadata": {},
     "output_type": "execute_result"
    }
   ],
   "source": [
    "f = lambda x : x * x\n",
    "f(16)"
   ]
  },
  {
   "cell_type": "markdown",
   "id": "30e2e90f",
   "metadata": {
    "cell_style": "split",
    "slideshow": {
     "slide_type": "fragment"
    }
   },
   "source": [
    "OCaml: `fun x -> x * x`<br>\n",
    "C++: `[](int x) { return x * x;}`"
   ]
  },
  {
   "cell_type": "markdown",
   "id": "c78e02f4",
   "metadata": {
    "slideshow": {
     "slide_type": "fragment"
    }
   },
   "source": [
    "We don't have to create a named function to execute this step"
   ]
  },
  {
   "cell_type": "code",
   "execution_count": 12,
   "id": "0ce05cb2",
   "metadata": {
    "cell_style": "center",
    "slideshow": {
     "slide_type": "-"
    }
   },
   "outputs": [
    {
     "data": {
      "text/plain": [
       "0     7\n",
       "1     8\n",
       "2    13\n",
       "3     5\n",
       "4    32\n",
       "Name: FavoriteNumber, dtype: object"
      ]
     },
     "execution_count": 12,
     "metadata": {},
     "output_type": "execute_result"
    }
   ],
   "source": [
    "data['FavoriteNumber'].apply(lambda x : 5 if x == \"five\" else x)"
   ]
  },
  {
   "cell_type": "markdown",
   "id": "23f49c4a",
   "metadata": {
    "slideshow": {
     "slide_type": "slide"
    }
   },
   "source": [
    "## Feature selection and additional data preparation\n",
    "\n",
    "**Important:** select a subset of available attributes, especially if you have few labeled samples\n",
    "\n",
    "**Otherwise:** the training algorithm could focus on non-useful data\n"
   ]
  },
  {
   "cell_type": "markdown",
   "id": "4dd433a6",
   "metadata": {
    "slideshow": {
     "slide_type": "fragment"
    }
   },
   "source": [
    "### Additional data preparation (algorithm dependent)\n",
    "\n",
    "* Normalize the selected features"
   ]
  },
  {
   "cell_type": "markdown",
   "id": "12566959",
   "metadata": {
    "slideshow": {
     "slide_type": "fragment"
    }
   },
   "source": [
    "* Warning for decision trees in `scikit-learn` (applies to Homework 1):\n",
    "  - The algorithm only works for numerical attributes\n",
    "  - So you have to convert your data to numerical\n",
    "  - For instance, replace `\"Male\"`/`\"Female\"` with `0`/`1`"
   ]
  },
  {
   "cell_type": "markdown",
   "id": "bca95b28",
   "metadata": {
    "cell_style": "split",
    "slideshow": {
     "slide_type": "slide"
    }
   },
   "source": [
    "## Validation of results\n",
    "\n",
    "General idea:\n",
    "  * split your data at random:\n",
    "      * training set\n",
    "      * test set\n",
    "  * use the training set to train your prediction model\n",
    "  * use the test set to see how well it performs"
   ]
  },
  {
   "cell_type": "code",
   "execution_count": 13,
   "id": "adb8dfa2",
   "metadata": {
    "cell_style": "split",
    "slideshow": {
     "slide_type": "fragment"
    }
   },
   "outputs": [],
   "source": [
    "# split the data set\n",
    "from sklearn.datasets import load_iris\n",
    "from sklearn.model_selection import train_test_split\n",
    "from sklearn import tree\n",
    "iris = load_iris()\n",
    "X,y = iris.data,iris.target\n",
    "X_train,X_test,y_train,y_test = train_test_split(X,y)"
   ]
  },
  {
   "cell_type": "code",
   "execution_count": 14,
   "id": "28b7c276",
   "metadata": {
    "cell_style": "split",
    "slideshow": {
     "slide_type": "fragment"
    }
   },
   "outputs": [],
   "source": [
    "# train your decision tree\n",
    "clf = tree.DecisionTreeClassifier(max_leaf_nodes=3)\n",
    "clf = clf.fit(X_train,y_train)"
   ]
  },
  {
   "cell_type": "code",
   "execution_count": 15,
   "id": "4c3e7249",
   "metadata": {
    "cell_style": "split",
    "slideshow": {
     "slide_type": "fragment"
    }
   },
   "outputs": [
    {
     "data": {
      "text/plain": [
       "0.9210526315789473"
      ]
     },
     "execution_count": 15,
     "metadata": {},
     "output_type": "execute_result"
    }
   ],
   "source": [
    "# what was the prediction accuracy?\n",
    "prediction = clf.predict(X_test)\n",
    "correct = 0\n",
    "for i in range(len(y_test)):\n",
    "    if prediction[i] == y_test[i]:\n",
    "        correct += 1\n",
    "correct / len(y_test)\n"
   ]
  }
 ],
 "metadata": {
  "celltoolbar": "Slideshow",
  "kernelspec": {
   "display_name": "Python 3 (ipykernel)",
   "language": "python",
   "name": "python3"
  },
  "language_info": {
   "codemirror_mode": {
    "name": "ipython",
    "version": 3
   },
   "file_extension": ".py",
   "mimetype": "text/x-python",
   "name": "python",
   "nbconvert_exporter": "python",
   "pygments_lexer": "ipython3",
   "version": "3.8.3"
  },
  "rise": {
   "enable_chalkboard": true,
   "theme": "serif"
  }
 },
 "nbformat": 4,
 "nbformat_minor": 5
}
