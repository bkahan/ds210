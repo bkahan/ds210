{
 "cells": [
  {
   "cell_type": "markdown",
   "id": "cf7f87e3",
   "metadata": {
    "slideshow": {
     "slide_type": "slide"
    }
   },
   "source": [
    "<div align=\"center\">\n",
    "    <h1>DS-210: Programming for Data Science</h1>\n",
    "    <h1>Lecture 21</h1>\n",
    "</div>\n",
    "\n",
    "# 0. Any questions about the final project proposal?\n",
    "# 1. Useful predefined generic data types\n",
    "# 2. Traits\n"
   ]
  },
  {
   "cell_type": "markdown",
   "id": "1fb6d19f",
   "metadata": {
    "slideshow": {
     "slide_type": "slide"
    }
   },
   "source": [
    "<br><br>\n",
    "<div align=\"center\">\n",
    "<h1>The final project proposal</h1><br><br>\n",
    "<h1>Any questions?</h1>\n",
    "</div>"
   ]
  },
  {
   "cell_type": "markdown",
   "id": "56d38255",
   "metadata": {
    "slideshow": {
     "slide_type": "slide"
    }
   },
   "source": [
    "# <font color=\"red\">1. Useful predefined generic data types</font>\n",
    "# 2. Traits"
   ]
  },
  {
   "cell_type": "markdown",
   "id": "077a3786",
   "metadata": {
    "slideshow": {
     "slide_type": "slide"
    }
   },
   "source": [
    "## Last time: generics and generic data types"
   ]
  },
  {
   "cell_type": "markdown",
   "id": "eab90795",
   "metadata": {
    "cell_style": "split",
    "slideshow": {
     "slide_type": "-"
    }
   },
   "source": [
    "* Generic code\n",
    "* Method for avoiding copying code\n",
    "* No runtime penalty: different versions created during compilation"
   ]
  },
  {
   "cell_type": "markdown",
   "id": "38095f9e",
   "metadata": {
    "cell_style": "split",
    "slideshow": {
     "slide_type": "fragment"
    }
   },
   "source": [
    "Generic data types:\n",
    "* Data types (struct/enum) parameterized by types\n",
    "\n",
    "Two useful predifined types: `Option<T>` and `Result<T, E>`"
   ]
  },
  {
   "cell_type": "markdown",
   "id": "d2413756",
   "metadata": {
    "cell_style": "split",
    "slideshow": {
     "slide_type": "slide"
    }
   },
   "source": [
    "## Enum `Option<T>`\n",
    "\n",
    "`Some(T)` or `None`\n",
    "\n",
    "* Useful for when there may be no output\n",
    "* Compared to `None` or `null` in other programming languages:\n",
    "  * Rust forces handling of this case\n",
    "  \n",
    "<div align=\"center\">\n",
    "<img src=\"null.png\" alt=\"[abc]\" >\n",
    "</div>"
   ]
  },
  {
   "cell_type": "code",
   "execution_count": 2,
   "id": "27470d38",
   "metadata": {
    "cell_style": "split",
    "slideshow": {
     "slide_type": "fragment"
    }
   },
   "outputs": [],
   "source": [
    "fn prime(x:u32) -> bool {\n",
    "    if x <= 1 { return false;}\n",
    "    for i in 2..=((x as f64).sqrt() as u32) {\n",
    "        if x % i == 0 {\n",
    "            return false;\n",
    "        }\n",
    "    } \n",
    "    true\n",
    "}\n",
    "\n",
    "fn prime_in_range(a:u32,b:u32) -> Option<u32> {\n",
    "    for i in a..=b {\n",
    "        if prime(i) {return Some(i);}\n",
    "    }\n",
    "    None\n",
    "}"
   ]
  },
  {
   "cell_type": "code",
   "execution_count": 3,
   "id": "470090e2",
   "metadata": {
    "cell_style": "split",
    "slideshow": {
     "slide_type": "fragment"
    }
   },
   "outputs": [
    {
     "data": {
      "text/plain": [
       "None"
      ]
     },
     "execution_count": 3,
     "metadata": {},
     "output_type": "execute_result"
    }
   ],
   "source": [
    "prime_in_range(890,906)"
   ]
  },
  {
   "cell_type": "code",
   "execution_count": 4,
   "id": "b7c4594c",
   "metadata": {
    "cell_style": "split",
    "slideshow": {
     "slide_type": "fragment"
    }
   },
   "outputs": [
    {
     "data": {
      "text/plain": [
       "Some(839)"
      ]
     },
     "execution_count": 4,
     "metadata": {},
     "output_type": "execute_result"
    }
   ],
   "source": [
    "let tmp : Option<u32> = prime_in_range(830,856);\n",
    "tmp"
   ]
  },
  {
   "cell_type": "code",
   "execution_count": 5,
   "id": "0c5e0b05",
   "metadata": {
    "cell_style": "split",
    "slideshow": {
     "slide_type": "fragment"
    }
   },
   "outputs": [
    {
     "name": "stdout",
     "output_type": "stream",
     "text": [
      "839\n",
      "839\n",
      "Another way 839\n"
     ]
    },
    {
     "data": {
      "text/plain": [
       "()"
      ]
     },
     "execution_count": 5,
     "metadata": {},
     "output_type": "execute_result"
    }
   ],
   "source": [
    "// extracting the content of Some(...)\n",
    "if let Some(x) = tmp {\n",
    "    println!(\"{}\",x);\n",
    "}\n",
    "match tmp {\n",
    "    Some(x) => println!(\"{}\",x),\n",
    "    None => println!(\"None\"),\n",
    "};\n",
    "println!(\"Another way {}\", tmp.unwrap())"
   ]
  },
  {
   "cell_type": "code",
   "execution_count": 6,
   "id": "03985b48",
   "metadata": {},
   "outputs": [
    {
     "name": "stdout",
     "output_type": "stream",
     "text": [
      "None\n"
     ]
    }
   ],
   "source": [
    "// extracting the content of Some(...)\n",
    "let tmp: Option<u32> = None;\n",
    "if let Some(x) = tmp {\n",
    "    println!(\"{}\",x);\n",
    "}\n",
    "match tmp {\n",
    "    Some(x) => println!(\"{}\",x),\n",
    "    None => println!(\"{:?}\", tmp),\n",
    "};\n",
    "// Boom!!!!!\n",
    "// println!(\"Another way {}\", tmp.unwrap())"
   ]
  },
  {
   "cell_type": "markdown",
   "id": "055b4316",
   "metadata": {
    "slideshow": {
     "slide_type": "subslide"
    }
   },
   "source": [
    "## Interesting related fact: Bertrand's postulate\n",
    "\n",
    "<br>\n",
    "<br>\n",
    "<div align=\"center\">\n",
    "<h4>There is always a prime number in $[k,2k]$.</h4>\n",
    "    <a> https://en.wikipedia.org/wiki/Prime_number_theorem </a>\n",
    "</div>"
   ]
  },
  {
   "cell_type": "markdown",
   "id": "4b5877e5",
   "metadata": {
    "slideshow": {
     "slide_type": "subslide"
    }
   },
   "source": [
    "# Enum `Option<T>`: useful methods"
   ]
  },
  {
   "cell_type": "markdown",
   "id": "bec3ed69",
   "metadata": {
    "cell_style": "split"
   },
   "source": [
    "Check the variant\n",
    "* `.is_some() -> bool`\n",
    "* `.is_none() -> bool`\n",
    "\n",
    "Get the value in `Some` or terminate with an error\n",
    "* `.unwrap() -> T`\n",
    "* `.expect(message) -> T`\n",
    "\n",
    "Get the value in `Some` or a default value\n",
    "* `.unwrap_or(default_value:T) -> T`"
   ]
  },
  {
   "cell_type": "code",
   "execution_count": 7,
   "id": "08a9c2a5",
   "metadata": {
    "cell_style": "split",
    "slideshow": {
     "slide_type": "fragment"
    }
   },
   "outputs": [
    {
     "data": {
      "text/plain": [
       "true"
      ]
     },
     "execution_count": 7,
     "metadata": {},
     "output_type": "execute_result"
    }
   ],
   "source": [
    "let x = Some(3);\n",
    "x.is_some()"
   ]
  },
  {
   "cell_type": "code",
   "execution_count": 8,
   "id": "e74aa62e",
   "metadata": {
    "cell_style": "split",
    "slideshow": {
     "slide_type": "fragment"
    }
   },
   "outputs": [
    {
     "data": {
      "text/plain": [
       "3"
      ]
     },
     "execution_count": 8,
     "metadata": {},
     "output_type": "execute_result"
    }
   ],
   "source": [
    "let x = Some(3);\n",
    "//let x = None;\n",
    "let y = x.expect(\"This should have been an integer\");\n",
    "y"
   ]
  },
  {
   "cell_type": "code",
   "execution_count": 9,
   "id": "ddccfee9",
   "metadata": {
    "cell_style": "split",
    "slideshow": {
     "slide_type": "fragment"
    }
   },
   "outputs": [
    {
     "data": {
      "text/plain": [
       "0"
      ]
     },
     "execution_count": 9,
     "metadata": {},
     "output_type": "execute_result"
    }
   ],
   "source": [
    "//let x = Some(3);\n",
    "let x = None;\n",
    "x.unwrap_or(0)"
   ]
  },
  {
   "cell_type": "markdown",
   "id": "cc7e18bd",
   "metadata": {
    "cell_style": "split",
    "slideshow": {
     "slide_type": "fragment"
    }
   },
   "source": [
    "More details:\n",
    "* https://doc.rust-lang.org/std/option/\n",
    "* https://doc.rust-lang.org/std/option/enum.Option.html"
   ]
  },
  {
   "cell_type": "markdown",
   "id": "17d16ca2",
   "metadata": {
    "cell_style": "split",
    "slideshow": {
     "slide_type": "slide"
    }
   },
   "source": [
    "## Enum `Result<T, E>`\n",
    "\n",
    "`Ok(T)` or `Err(E)`\n",
    "\n",
    "* Useful when you want to pass a solution or information about an error"
   ]
  },
  {
   "cell_type": "code",
   "execution_count": 10,
   "id": "8fcf19b4",
   "metadata": {
    "cell_style": "split",
    "slideshow": {
     "slide_type": "fragment"
    }
   },
   "outputs": [],
   "source": [
    "fn divide(a:u32,b:u32) -> Result<u32,String> {\n",
    "    match b {\n",
    "        0 => Err(String::from(\"Division by zero\")),\n",
    "        _ => Ok(a / b)\n",
    "    }\n",
    "}"
   ]
  },
  {
   "cell_type": "code",
   "execution_count": 11,
   "id": "76054aaf",
   "metadata": {
    "cell_style": "split",
    "slideshow": {
     "slide_type": "fragment"
    }
   },
   "outputs": [
    {
     "data": {
      "text/plain": [
       "Err(\"Division by zero\")"
      ]
     },
     "execution_count": 11,
     "metadata": {},
     "output_type": "execute_result"
    }
   ],
   "source": [
    "divide(3,0)"
   ]
  },
  {
   "cell_type": "code",
   "execution_count": 12,
   "id": "5d990fa2",
   "metadata": {
    "cell_style": "split",
    "slideshow": {
     "slide_type": "fragment"
    }
   },
   "outputs": [
    {
     "data": {
      "text/plain": [
       "Ok(674)"
      ]
     },
     "execution_count": 12,
     "metadata": {},
     "output_type": "execute_result"
    }
   ],
   "source": [
    "divide(2022,3)"
   ]
  },
  {
   "cell_type": "markdown",
   "id": "01615249",
   "metadata": {
    "slideshow": {
     "slide_type": "subslide"
    }
   },
   "source": [
    "# Enum `Result<T, E>`: useful methods"
   ]
  },
  {
   "cell_type": "markdown",
   "id": "0c8f536f",
   "metadata": {
    "cell_style": "split"
   },
   "source": [
    "Check the variant\n",
    "* `.is_ok() -> bool`\n",
    "* `.is_err() -> bool`\n",
    "\n",
    "Get the value in `Ok` or terminate with an error\n",
    "* `.unwrap() -> T`\n",
    "* `.expect(message) -> T`\n",
    "\n",
    "Get the value in `Ok` or a default value\n",
    "* `.unwrap_or(default_value:T) -> T`"
   ]
  },
  {
   "cell_type": "code",
   "execution_count": 13,
   "id": "9dfc135a",
   "metadata": {
    "cell_style": "split"
   },
   "outputs": [
    {
     "data": {
      "text/plain": [
       "true"
      ]
     },
     "execution_count": 13,
     "metadata": {},
     "output_type": "execute_result"
    }
   ],
   "source": [
    "let r1 : Result<i32,()> = Ok(3);\n",
    "//r1.is_err()\n",
    "r1.is_ok()"
   ]
  },
  {
   "cell_type": "code",
   "execution_count": 14,
   "id": "a41563ca",
   "metadata": {
    "cell_style": "split",
    "slideshow": {
     "slide_type": "fragment"
    }
   },
   "outputs": [
    {
     "data": {
      "text/plain": [
       "3"
      ]
     },
     "execution_count": 14,
     "metadata": {},
     "output_type": "execute_result"
    }
   ],
   "source": [
    "r1.unwrap()"
   ]
  },
  {
   "cell_type": "code",
   "execution_count": 15,
   "id": "4681b99b",
   "metadata": {
    "cell_style": "split",
    "slideshow": {
     "slide_type": "fragment"
    }
   },
   "outputs": [
    {
     "name": "stdout",
     "output_type": "stream",
     "text": [
      "r2: 0\n",
      "r3: 123\n"
     ]
    }
   ],
   "source": [
    "let r2 : Result<u32,()> = Err(());\n",
    "let r3 : Result<u32,()> = Ok(123);\n",
    "println!(\"r2: {}\\nr3: {}\",\n",
    "    r2.unwrap_or(0),\n",
    "    r3.unwrap_or(0));\n"
   ]
  },
  {
   "cell_type": "markdown",
   "id": "6bd41a7b",
   "metadata": {
    "cell_style": "split",
    "slideshow": {
     "slide_type": "fragment"
    }
   },
   "source": [
    "More details:\n",
    "* https://doc.rust-lang.org/std/result/\n",
    "* https://doc.rust-lang.org/std/result/enum.Result.html"
   ]
  },
  {
   "cell_type": "markdown",
   "id": "ba2306f5",
   "metadata": {
    "slideshow": {
     "slide_type": "slide"
    }
   },
   "source": [
    "# 1. Useful predefined generic data types\n",
    "# <font color=\"red\">2. Traits</font>"
   ]
  },
  {
   "cell_type": "markdown",
   "id": "67dd84f9",
   "metadata": {
    "slideshow": {
     "slide_type": "slide"
    }
   },
   "source": [
    "## Traits\n",
    "\n",
    "* Common behavior for a set of types\n",
    "* Some other programming languages: interface"
   ]
  },
  {
   "cell_type": "markdown",
   "id": "1a4195c8",
   "metadata": {
    "slideshow": {
     "slide_type": "fragment"
    }
   },
   "source": [
    "### Sample trait definition"
   ]
  },
  {
   "cell_type": "code",
   "execution_count": 16,
   "id": "77cf335e",
   "metadata": {
    "slideshow": {
     "slide_type": "-"
    }
   },
   "outputs": [],
   "source": [
    "trait Person {\n",
    "    // method header specifications\n",
    "    fn get_name(&self) -> String;\n",
    "    fn get_age(&self) -> u32;\n",
    "    \n",
    "    // default implementation of a method \n",
    "    fn description(&self) -> String {\n",
    "        format!(\"{} ({})\",self.get_name(),self.get_age())\n",
    "    }\n",
    "}"
   ]
  },
  {
   "cell_type": "markdown",
   "id": "23a912a2",
   "metadata": {
    "slideshow": {
     "slide_type": "subslide"
    }
   },
   "source": [
    "## Sample trait implementation 1"
   ]
  },
  {
   "cell_type": "code",
   "execution_count": 17,
   "id": "12990cbc",
   "metadata": {
    "cell_style": "center"
   },
   "outputs": [],
   "source": [
    "struct SoccerPlayer {\n",
    "    name: String,\n",
    "    age: u32,\n",
    "    team: String,\n",
    "}\n",
    "\n",
    "impl Person for SoccerPlayer {\n",
    "    fn get_age(&self) -> u32 {\n",
    "        self.age\n",
    "    }\n",
    "    \n",
    "    fn get_name(&self) -> String {\n",
    "        self.name.clone()\n",
    "    }\n",
    "}\n",
    "\n",
    "impl SoccerPlayer {\n",
    "    fn create(name:String,age:u32,team:String) -> SoccerPlayer{\n",
    "        SoccerPlayer{name,age,team}\n",
    "    }\n",
    "}"
   ]
  },
  {
   "cell_type": "markdown",
   "id": "7a22671f",
   "metadata": {
    "slideshow": {
     "slide_type": "subslide"
    }
   },
   "source": [
    "## Sample trait implementation 2"
   ]
  },
  {
   "cell_type": "code",
   "execution_count": 18,
   "id": "730fa607",
   "metadata": {},
   "outputs": [],
   "source": [
    "#[derive(Debug)]\n",
    "struct RegularPerson {\n",
    "    year_born: u32,\n",
    "    first_name: String,\n",
    "    middle_name: String,\n",
    "    last_name: String,\n",
    "}\n",
    "\n",
    "impl Person for RegularPerson {\n",
    "    fn get_age(&self) -> u32 {\n",
    "        2022 - self.year_born\n",
    "    }\n",
    "    \n",
    "    fn get_name(&self) -> String {\n",
    "        if self.middle_name == \"\" {\n",
    "            format!(\"{} {}\",self.first_name,self.last_name)\n",
    "        } else {\n",
    "            format!(\"{} {} {}\",self.first_name,self.middle_name,self.last_name)\n",
    "        }\n",
    "    }\n",
    "}\n",
    "\n",
    "impl RegularPerson {\n",
    "    fn create(first_name:String,middle_name:String,last_name:String,year_born:u32) -> RegularPerson {\n",
    "        RegularPerson{first_name,middle_name,last_name,year_born}\n",
    "    }\n",
    "}"
   ]
  },
  {
   "cell_type": "markdown",
   "id": "1cb7538e",
   "metadata": {
    "slideshow": {
     "slide_type": "subslide"
    }
   },
   "source": [
    "## Using traits in functions"
   ]
  },
  {
   "cell_type": "code",
   "execution_count": 19,
   "id": "c3fddb4a",
   "metadata": {},
   "outputs": [],
   "source": [
    "// sample function accepting object implementing trait\n",
    "fn long_description(person: &impl Person) {\n",
    "    println!(\"{}, who is {} old\", person.get_name(), person.get_age());\n",
    "}"
   ]
  },
  {
   "cell_type": "markdown",
   "id": "7ab9d40c",
   "metadata": {
    "slideshow": {
     "slide_type": "fragment"
    }
   },
   "source": [
    "### Examples"
   ]
  },
  {
   "cell_type": "code",
   "execution_count": 20,
   "id": "c71d8fa6",
   "metadata": {},
   "outputs": [],
   "source": [
    "let mlk = RegularPerson::create(\n",
    "    String::from(\"Martin\"),\n",
    "    String::from(\"Luther\"),\n",
    "    String::from(\"King\"),\n",
    "    1929\n",
    ");\n",
    "\n",
    "let zlatan = SoccerPlayer::create(String::from(\"Zlatan Ibrahimovic\"), 40, String::from(\"AC Milan\"));"
   ]
  },
  {
   "cell_type": "code",
   "execution_count": 21,
   "id": "ef43b5eb",
   "metadata": {
    "slideshow": {
     "slide_type": "fragment"
    }
   },
   "outputs": [
    {
     "name": "stdout",
     "output_type": "stream",
     "text": [
      "Martin Luther King (93)\n",
      "Zlatan Ibrahimovic, who is 40 old\n"
     ]
    }
   ],
   "source": [
    "println!(\"{}\",mlk.description());\n",
    "long_description(&zlatan);"
   ]
  },
  {
   "cell_type": "markdown",
   "id": "e3877f7c",
   "metadata": {
    "slideshow": {
     "slide_type": "subslide"
    }
   },
   "source": [
    "## Using traits in functions: long vs. short form"
   ]
  },
  {
   "cell_type": "code",
   "execution_count": 26,
   "id": "03402cd2",
   "metadata": {},
   "outputs": [],
   "source": [
    "// short version\n",
    "fn long_description(person: &impl Person) {\n",
    "    println!(\"{}, who is {} old\", person.get_name(), person.get_age());\n",
    "}\n",
    "\n",
    "// other short version\n",
    "fn long_description_2(person: &dyn Person) {\n",
    "    println!(\"{}, who is {} old\", person.get_name(), person.get_age());\n",
    "}\n",
    "\n",
    "\n",
    "// longer version\n",
    "fn long_description_3<T: Person>(person: &T) {\n",
    "    println!(\"{}, who is {} old\", person.get_name(), person.get_age());\n",
    "}\n"
   ]
  },
  {
   "cell_type": "code",
   "execution_count": 27,
   "id": "d8816c0a",
   "metadata": {
    "slideshow": {
     "slide_type": "fragment"
    }
   },
   "outputs": [
    {
     "name": "stdout",
     "output_type": "stream",
     "text": [
      "Zlatan Ibrahimovic, who is 40 old\n",
      "Zlatan Ibrahimovic, who is 40 old\n",
      "Zlatan Ibrahimovic, who is 40 old\n"
     ]
    }
   ],
   "source": [
    "long_description(&zlatan);\n",
    "long_description_2(&zlatan);\n",
    "long_description_3(&zlatan);"
   ]
  },
  {
   "cell_type": "code",
   "execution_count": 28,
   "id": "e585a45a",
   "metadata": {},
   "outputs": [
    {
     "name": "stdout",
     "output_type": "stream",
     "text": [
      "Martin Luther King, who is 93 old\n",
      "Martin Luther King, who is 93 old\n",
      "Martin Luther King, who is 93 old\n"
     ]
    }
   ],
   "source": [
    "long_description(&mlk);\n",
    "long_description_2(&mlk);\n",
    "long_description_3(&mlk);"
   ]
  },
  {
   "cell_type": "code",
   "execution_count": 41,
   "id": "65808009",
   "metadata": {},
   "outputs": [
    {
     "ename": "Error",
     "evalue": "trait objects must include the `dyn` keyword",
     "output_type": "error",
     "traceback": [
      "    let someperson: &Person = &zlatan;",
      "\u001b[91m                     ^^^^^^\u001b[0m \u001b[94m\u001b[0m",
      "trait objects must include the `dyn` keyword",
      "\u001b[1mhelp\u001b[0m: add `dyn` keyword before this trait\n\ndyn"
     ]
    }
   ],
   "source": [
    "fn random() -> u32 {\n",
    "    let mut x = 12236;\n",
    "    let y = 10329;\n",
    "    x = x ^ y;\n",
    "    x = x & y;\n",
    "    x = x >> 2;\n",
    "    x = x ^ y;\n",
    "    return x;\n",
    "}\n",
    "fn testme() {\n",
    "    let mlk = RegularPerson::create(\n",
    "    String::from(\"Martin\"),\n",
    "    String::from(\"Luther\"),\n",
    "    String::from(\"King\"),\n",
    "    1929\n",
    ");\n",
    "    let zlatan = SoccerPlayer::create(String::from(\"Zlatan Ibrahimovic\"), 40, String::from(\"AC Milan\"));\n",
    "    let someperson: &Person = &zlatan;\n",
    "    if random() > 5 {\n",
    "        someperson = &zlatan;\n",
    "    } else {\n",
    "        someperson = &mlk;\n",
    "    }\n",
    "    // long_description(someperson);\n",
    "    long_description_2(someperson);\n",
    "    // long_description_3(someperson);\n",
    "}\n",
    "testme();"
   ]
  },
  {
   "cell_type": "markdown",
   "id": "c3a97476",
   "metadata": {},
   "source": [
    "### So what's up with the different ways to specify traits (It's complicated!!!!)\n",
    "* `&impl and &T` -> static dispatch (also relevant in the context of return values)\n",
    "* `&dyn` -> dynamic dispatch (again also relevant in the context of return values)\n",
    "* `&T` restricts the type especially if you plan to pass multiple arguments of the same type (relevant to inputs)\n",
    "* Read https://joshleeb.com/posts/rust-traits-and-trait-objects if you want to dig deep but without a background in programming languages and compilers this will not be possible to understand.\n"
   ]
  },
  {
   "cell_type": "markdown",
   "id": "e797862d",
   "metadata": {
    "slideshow": {
     "slide_type": "subslide"
    }
   },
   "source": [
    "## Using traits in functions: multiple traits"
   ]
  },
  {
   "cell_type": "code",
   "execution_count": 41,
   "id": "bdd32948",
   "metadata": {},
   "outputs": [],
   "source": [
    "use core::fmt::Debug;\n",
    "\n",
    "fn multiple_1(person: &(impl Person + Debug)) {\n",
    "    println!(\"{:?}\",person);\n",
    "    println!(\"Age: {}\",person.get_age());\n",
    "}"
   ]
  },
  {
   "cell_type": "code",
   "execution_count": 42,
   "id": "7cabe019",
   "metadata": {
    "slideshow": {
     "slide_type": "fragment"
    }
   },
   "outputs": [
    {
     "name": "stdout",
     "output_type": "stream",
     "text": [
      "SoccerPlayer { name: \"Zlatan Ibrahimovic\", age: 40, team: \"AC Milan\" }\n",
      "Age: 40\n"
     ]
    }
   ],
   "source": [
    "multiple_1(&zlatan);"
   ]
  },
  {
   "cell_type": "code",
   "execution_count": 43,
   "id": "5b784d2d",
   "metadata": {
    "slideshow": {
     "slide_type": "fragment"
    }
   },
   "outputs": [
    {
     "name": "stdout",
     "output_type": "stream",
     "text": [
      "RegularPerson { year_born: 1929, first_name: \"Martin\", middle_name: \"Luther\", last_name: \"King\" }\n",
      "Age: 93\n"
     ]
    }
   ],
   "source": [
    "multiple_1(&mlk);"
   ]
  },
  {
   "cell_type": "markdown",
   "id": "2c7b058e",
   "metadata": {
    "slideshow": {
     "slide_type": "subslide"
    }
   },
   "source": [
    "## Using traits in functions: multiple traits"
   ]
  },
  {
   "cell_type": "code",
   "execution_count": 34,
   "id": "9bdd0a53",
   "metadata": {},
   "outputs": [],
   "source": [
    "// three options, useful for different settings\n",
    "\n",
    "fn multiple_1(person: &(impl Person + Debug)) {\n",
    "    println!(\"{:?}\",person);\n",
    "    println!(\"Age: {}\",person.get_age());\n",
    "}\n",
    "\n",
    "fn multiple_2<T: Person + Debug>(person: &T) {\n",
    "    println!(\"{:?}\",person);\n",
    "    println!(\"Age: {}\",person.get_age());\n",
    "}\n",
    "\n",
    "fn multiple_3<T>(person: &T)\n",
    "    where T: Person + Debug\n",
    "{\n",
    "    println!(\"{:?}\",person);\n",
    "    println!(\"Age: {}\",person.get_age());\n",
    "}\n"
   ]
  },
  {
   "cell_type": "code",
   "execution_count": 35,
   "id": "46c70923",
   "metadata": {
    "slideshow": {
     "slide_type": "fragment"
    }
   },
   "outputs": [
    {
     "name": "stdout",
     "output_type": "stream",
     "text": [
      "RegularPerson { year_born: 1929, first_name: \"Martin\", middle_name: \"Luther\", last_name: \"King\" }\n",
      "Age: 93\n",
      "RegularPerson { year_born: 1929, first_name: \"Martin\", middle_name: \"Luther\", last_name: \"King\" }\n",
      "Age: 93\n",
      "RegularPerson { year_born: 1929, first_name: \"Martin\", middle_name: \"Luther\", last_name: \"King\" }\n",
      "Age: 93\n"
     ]
    }
   ],
   "source": [
    "multiple_1(&mlk);\n",
    "multiple_2(&mlk);\n",
    "multiple_3(&mlk);"
   ]
  },
  {
   "cell_type": "markdown",
   "id": "4e114dd2",
   "metadata": {
    "slideshow": {
     "slide_type": "subslide"
    }
   },
   "source": [
    "## Returning types implementing a trait"
   ]
  },
  {
   "cell_type": "code",
   "execution_count": 36,
   "id": "b34d3033",
   "metadata": {},
   "outputs": [],
   "source": [
    "fn get_zlatan() -> impl Person {\n",
    "    SoccerPlayer::create(String::from(\"Zlatan Ibrahimovic\"), 40, String::from(\"AC Milan\")) \n",
    "}"
   ]
  },
  {
   "cell_type": "code",
   "execution_count": 37,
   "id": "88c542e7",
   "metadata": {
    "slideshow": {
     "slide_type": "fragment"
    }
   },
   "outputs": [
    {
     "name": "stdout",
     "output_type": "stream",
     "text": [
      "Zlatan Ibrahimovic, who is 40 old\n"
     ]
    }
   ],
   "source": [
    "{\n",
    "    let zlatan_2 = get_zlatan();\n",
    "    long_description(&zlatan_2);\n",
    "};"
   ]
  },
  {
   "cell_type": "markdown",
   "id": "daf0846a",
   "metadata": {},
   "source": [
    "### Read Chapter 10 but skip section 10.3 around lifetimes.  "
   ]
  },
  {
   "cell_type": "code",
   "execution_count": null,
   "id": "95c81f2b",
   "metadata": {},
   "outputs": [],
   "source": []
  }
 ],
 "metadata": {
  "celltoolbar": "Slideshow",
  "kernelspec": {
   "display_name": "Rust",
   "language": "rust",
   "name": "rust"
  },
  "language_info": {
   "codemirror_mode": "rust",
   "file_extension": ".rs",
   "mimetype": "text/rust",
   "name": "Rust",
   "pygment_lexer": "rust",
   "version": ""
  },
  "rise": {
   "theme": "beige",
   "transition": "fade"
  }
 },
 "nbformat": 4,
 "nbformat_minor": 5
}
