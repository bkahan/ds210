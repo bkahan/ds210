{
 "cells": [
  {
   "cell_type": "markdown",
   "id": "cf7f87e3",
   "metadata": {
    "slideshow": {
     "slide_type": "slide"
    }
   },
   "source": [
    "<div align=\"center\">\n",
    "    <h1>DS-210: Programming for Data Science</h1>\n",
    "    <h1>Lecture 36</h1>\n",
    "</div>\n",
    "\n",
    "# 1. Multithreading, concurrency, parallelism\n",
    "\n",
    "# 2. Simple multithreading: crate `rayon`\n",
    "\n",
    "# 3. Other things available in Rust and in general"
   ]
  },
  {
   "cell_type": "markdown",
   "id": "6cd72069",
   "metadata": {
    "slideshow": {
     "slide_type": "slide"
    }
   },
   "source": [
    "# <font color=\"red\">1. Multithreading, concurrency, parallelism</font>\n",
    "\n",
    "# 2. Simple multithreading: crate `rayon`\n",
    "\n",
    "# 3. Other things available in Rust and in general"
   ]
  },
  {
   "cell_type": "markdown",
   "id": "348f73ec",
   "metadata": {
    "slideshow": {
     "slide_type": "slide"
    }
   },
   "source": [
    "## Running multiple things at once\n",
    "\n",
    "Various reasons:"
   ]
  },
  {
   "cell_type": "markdown",
   "id": "a3408993",
   "metadata": {
    "slideshow": {
     "slide_type": "fragment"
    }
   },
   "source": [
    "* Separate GUI from the processing engine in your application\n",
    "  * more responsive user experience"
   ]
  },
  {
   "cell_type": "markdown",
   "id": "e0e44069",
   "metadata": {
    "slideshow": {
     "slide_type": "fragment"
    }
   },
   "source": [
    "* Big scale computation: solving big data problems"
   ]
  },
  {
   "cell_type": "markdown",
   "id": "6db68532",
   "metadata": {
    "slideshow": {
     "slide_type": "fragment"
    }
   },
   "source": [
    "* Running analytics on your laptop:\n",
    "  * speeding up a single core more and more challenging\n",
    "  * more cores even in consumer laptops\n",
    "  "
   ]
  },
  {
   "cell_type": "markdown",
   "id": "95d68e21",
   "metadata": {
    "slideshow": {
     "slide_type": "fragment"
    }
   },
   "source": [
    "* GPUs offer **a lot** of (restricted) parallelism"
   ]
  },
  {
   "cell_type": "markdown",
   "id": "a6185659",
   "metadata": {
    "slideshow": {
     "slide_type": "slide"
    }
   },
   "source": [
    "## Term explanation"
   ]
  },
  {
   "cell_type": "markdown",
   "id": "3ff18b9e",
   "metadata": {
    "slideshow": {
     "slide_type": "fragment"
    }
   },
   "source": [
    "* Parallelism: things running at the very same time, different cores, processors, machines "
   ]
  },
  {
   "cell_type": "markdown",
   "id": "044ae62c",
   "metadata": {
    "slideshow": {
     "slide_type": "fragment"
    }
   },
   "source": [
    "* Concurrency: the art of sharing resources, even if only one thread is running at a time"
   ]
  },
  {
   "cell_type": "markdown",
   "id": "d3331243",
   "metadata": {
    "slideshow": {
     "slide_type": "fragment"
    }
   },
   "source": [
    "* Threads:\n",
    " * minimum organizational unit of your computation on a single machine\n",
    " * multiple of them allowed, running at the same or different times"
   ]
  },
  {
   "cell_type": "markdown",
   "id": "1065801e",
   "metadata": {
    "slideshow": {
     "slide_type": "slide"
    }
   },
   "source": [
    "## Solving a given problem more efficiently via parallel computation?\n",
    "\n",
    "* Very problem dependent:\n",
    "\n",
    "<div align=\"center\">\n",
    "    <b>digging the Suez canal&nbsp;&nbsp;&nbsp;&nbsp;vs.&nbsp;&nbsp;&nbsp;&nbsp;digging a deep well</b>\n",
    "</div>"
   ]
  },
  {
   "cell_type": "markdown",
   "id": "080c343c",
   "metadata": {
    "slideshow": {
     "slide_type": "-"
    }
   },
   "source": [
    "* What is possible: one of the deepest questions in computer science"
   ]
  },
  {
   "cell_type": "markdown",
   "id": "296d0e13",
   "metadata": {
    "slideshow": {
     "slide_type": "slide"
    }
   },
   "source": [
    "## Programming: difficult and very error–prone\n",
    "\n",
    "Challenges: \n",
    "\n",
    "* Information exchange\n",
    "\n",
    "* Sharing resources\n",
    "\n",
    "* Taking and returning them properly:\n",
    "  * Similar to challenges in memory management"
   ]
  },
  {
   "cell_type": "markdown",
   "id": "f6383597",
   "metadata": {
    "slideshow": {
     "slide_type": "slide"
    }
   },
   "source": [
    "## Dining philosophers' problem\n",
    "\n",
    "* Multiple philosophers sitting around the table\n",
    "  * they do two things: think and eat"
   ]
  },
  {
   "cell_type": "markdown",
   "id": "3cb26909",
   "metadata": {
    "cell_style": "split",
    "slideshow": {
     "slide_type": "fragment"
    }
   },
   "source": [
    "* A single fork between each two of them\n",
    "\n",
    "* A philosopher needs two forks to eat"
   ]
  },
  {
   "cell_type": "markdown",
   "id": "f6ddf56a",
   "metadata": {
    "cell_style": "split",
    "slideshow": {
     "slide_type": ""
    }
   },
   "source": [
    "<div align=\"center\">\n",
    "    <img src=\"philosophers.png\" alt=\"[philosophers]\" width=\"50%\">\n",
    "</div>"
   ]
  },
  {
   "cell_type": "markdown",
   "id": "f4ed23e5",
   "metadata": {
    "slideshow": {
     "slide_type": "fragment"
    }
   },
   "source": [
    "<div align=\"center\">\n",
    "    <b>What algorithm could the philosophers use to achieve their life goals: eating and thinking?</b>\n",
    "</div>"
   ]
  },
  {
   "cell_type": "markdown",
   "id": "f6854414",
   "metadata": {
    "slideshow": {
     "slide_type": "subslide"
    }
   },
   "source": [
    "## Potential problems"
   ]
  },
  {
   "cell_type": "markdown",
   "id": "264e212c",
   "metadata": {
    "cell_style": "split",
    "slideshow": {
     "slide_type": "fragment"
    }
   },
   "source": [
    "How about this algorithm?\n",
    "\n",
    "```\n",
    "repeat:\n",
    "   think\n",
    "   take left fork when available\n",
    "   take right fork when available\n",
    "   eat\n",
    "   return left fork\n",
    "   return right fork\n",
    "```"
   ]
  },
  {
   "cell_type": "markdown",
   "id": "a4198b21",
   "metadata": {
    "cell_style": "split",
    "slideshow": {
     "slide_type": "fragment"
    }
   },
   "source": [
    "* All philosophers could reach for the left fork at the same time!\n",
    "\n",
    "* They are all stuck\n",
    "\n",
    "* This is called **deadlock**"
   ]
  },
  {
   "cell_type": "markdown",
   "id": "b8d737a3",
   "metadata": {
    "slideshow": {
     "slide_type": "subslide"
    }
   },
   "source": [
    "## Potential problems"
   ]
  },
  {
   "cell_type": "markdown",
   "id": "54b045b2",
   "metadata": {
    "cell_style": "split",
    "slideshow": {
     "slide_type": "-"
    }
   },
   "source": [
    "How about this algorithm?\n",
    "\n",
    "```\n",
    "repeat:\n",
    "   think\n",
    "   take any of the forks\n",
    "   if the other available:\n",
    "       take it\n",
    "       eat\n",
    "   return all forks you have \n",
    "```"
   ]
  },
  {
   "cell_type": "markdown",
   "id": "8456720c",
   "metadata": {
    "cell_style": "split",
    "slideshow": {
     "slide_type": "fragment"
    }
   },
   "source": [
    "* A philosopher may never eat!\n",
    "\n",
    "* This is called **starvation**"
   ]
  },
  {
   "cell_type": "markdown",
   "id": "627b13f3",
   "metadata": {
    "slideshow": {
     "slide_type": "slide"
    }
   },
   "source": [
    "# 1. Multithreading, concurrency, parallelism\n",
    "\n",
    "# <font color=\"red\">2. Simple multithreading: crate `rayon`</font>\n",
    "\n",
    "# 3. Other things available in Rust and in general"
   ]
  },
  {
   "cell_type": "markdown",
   "id": "a99537fb",
   "metadata": {
    "slideshow": {
     "slide_type": "slide"
    }
   },
   "source": [
    "## Crate `rayon`\n",
    "\n",
    "General case difficult:\n",
    "  * manual management of threads\n",
    "  * communication and sharing work by them\n",
    "\n",
    "Often you may want to speed up simple tasks:\n",
    "  * sorting\n",
    "  * a loop with independent iterations \n",
    "  \n",
    "(Similar in many ways to OpenMP for C/C++/Fortran)"
   ]
  },
  {
   "cell_type": "markdown",
   "id": "5131a5c4",
   "metadata": {
    "slideshow": {
     "slide_type": "slide"
    }
   },
   "source": [
    "## Auxiliary definitions"
   ]
  },
  {
   "cell_type": "code",
   "execution_count": null,
   "id": "ca5a725d",
   "metadata": {
    "slideshow": {
     "slide_type": ""
    }
   },
   "outputs": [],
   "source": [
    ":dep rayon\n",
    ":dep rand\n",
    "use rayon::prelude::*;\n",
    "use std::thread;\n",
    "use std::time::{Duration,SystemTime};\n",
    "use rand::Rng;\n",
    "use std::time::\n",
    "\n",
    "// see how long something is executing\n",
    "fn execute_it(f:fn(u64)->(), id:usize, millis:u64) {\n",
    "    let before = SystemTime::now();\n",
    "    f(millis);\n",
    "    let after = SystemTime::now();\n",
    "    println!(\"Thread {} Time: {:.3?}\", id, after.duration_since(before).unwrap())\n",
    "}\n",
    "\n",
    "// do nothing for a specific number of milliseconds\n",
    "fn wait(millis:u64) {\n",
    "    std::thread::sleep(Duration::from_millis(millis));\n",
    "}\n",
    "\n",
    "let mut handles = vec![];\n",
    "for i in 0..10 {\n",
    "    let handle = thread::spawn(move || {\n",
    "        execute_it(wait, i, 1000);\n",
    "    });\n",
    "    handles.push(handle);\n",
    "}\n",
    "for handle in handles {\n",
    "    handle.join().unwrap();\n",
    "}"
   ]
  },
  {
   "cell_type": "markdown",
   "id": "fc7e4acd",
   "metadata": {
    "slideshow": {
     "slide_type": "subslide"
    }
   },
   "source": [
    "## Example of sorting"
   ]
  },
  {
   "cell_type": "code",
   "execution_count": null,
   "id": "390ab133",
   "metadata": {},
   "outputs": [],
   "source": [
    "fn time_it(f: impl FnOnce() -> ()) {\n",
    "    let before = SystemTime::now();\n",
    "    f();\n",
    "    let after = SystemTime::now();\n",
    "    println!(\"Time: {:.3?}\", after.duration_since(before).unwrap())\n",
    "}\n",
    "\n",
    "// random \n",
    "const N: usize = 30_000_000;\n",
    "let mut v = Vec::new();\n",
    "for i in 0..N {\n",
    "    v.push(rand::thread_rng().gen_range(0..(N as i32)));\n",
    "};"
   ]
  },
  {
   "cell_type": "code",
   "execution_count": 18,
   "id": "fbe6f10a",
   "metadata": {
    "slideshow": {
     "slide_type": "fragment"
    }
   },
   "outputs": [
    {
     "name": "stdout",
     "output_type": "stream",
     "text": [
      "Time: 847.172ms\n",
      "Time: 2.063s\n"
     ]
    }
   ],
   "source": [
    "let mut v_copy = v.clone();\n",
    "time_it(|| v_copy.sort_unstable());\n",
    "\n",
    "let mut v_copy = v.clone();\n",
    "time_it(|| v_copy.sort());"
   ]
  },
  {
   "cell_type": "code",
   "execution_count": 19,
   "id": "f30fdf47",
   "metadata": {
    "slideshow": {
     "slide_type": "fragment"
    }
   },
   "outputs": [
    {
     "name": "stdout",
     "output_type": "stream",
     "text": [
      "Time: 139.276ms\n",
      "Time: 301.458ms\n"
     ]
    }
   ],
   "source": [
    "let mut v_copy = v.clone();\n",
    "time_it(|| v_copy.par_sort_unstable());\n",
    "\n",
    "let mut v_copy = v.clone();\n",
    "time_it(|| v_copy.par_sort());"
   ]
  },
  {
   "cell_type": "markdown",
   "id": "de4f3670",
   "metadata": {
    "slideshow": {
     "slide_type": "slide"
    }
   },
   "source": [
    "## Replacing iterators with parallel iterators\n",
    "\n",
    "Replace `iter()` with `par_iter()`, `into_iter()` with `into_par_iter()`, etc."
   ]
  },
  {
   "cell_type": "code",
   "execution_count": 20,
   "id": "c489daae",
   "metadata": {},
   "outputs": [
    {
     "name": "stdout",
     "output_type": "stream",
     "text": [
      "1\n",
      "2\n",
      "3\n",
      "4\n",
      "5\n",
      "6\n",
      "7\n",
      "8\n",
      "9\n",
      "10\n",
      "11\n",
      "12\n",
      "13\n",
      "14\n",
      "15\n",
      "16\n",
      "17\n",
      "18\n",
      "19\n",
      "20\n"
     ]
    }
   ],
   "source": [
    "// standard version\n",
    "(1..=20).for_each(|x| {println!(\"{}\",x);});"
   ]
  },
  {
   "cell_type": "markdown",
   "id": "5b9664ca",
   "metadata": {
    "slideshow": {
     "slide_type": "subslide"
    }
   },
   "source": [
    "## Replacing iterators with parallel iterators\n",
    "\n",
    "Replace `iter()` with `par_iter()`, `into_iter()` with `into_par_iter()`, etc."
   ]
  },
  {
   "cell_type": "code",
   "execution_count": 21,
   "id": "262e9b78",
   "metadata": {},
   "outputs": [
    {
     "name": "stdout",
     "output_type": "stream",
     "text": [
      "1\n",
      "2\n",
      "3\n",
      "4\n",
      "5\n",
      "6\n",
      "7\n",
      "8\n",
      "9\n",
      "10\n",
      "11\n",
      "12\n",
      "13\n",
      "14\n",
      "15\n",
      "16\n",
      "17\n",
      "18\n",
      "19\n",
      "20\n"
     ]
    }
   ],
   "source": [
    "// add explicit iterator construction\n",
    "(1..=20).into_iter().for_each(|x| {println!(\"{}\",x);});"
   ]
  },
  {
   "cell_type": "markdown",
   "id": "a0bc4845",
   "metadata": {
    "slideshow": {
     "slide_type": "subslide"
    }
   },
   "source": [
    "## Replacing iterators with parallel iterators\n",
    "\n",
    "Replace `iter()` with `par_iter()`, `into_iter()` with `into_par_iter()`, etc."
   ]
  },
  {
   "cell_type": "code",
   "execution_count": 22,
   "id": "059171e2",
   "metadata": {},
   "outputs": [
    {
     "name": "stdout",
     "output_type": "stream",
     "text": [
      "1\n",
      "11\n",
      "3\n",
      "6\n",
      "2\n",
      "8\n",
      "7\n",
      "9\n",
      "16\n",
      "4\n",
      "12\n",
      "10\n",
      "18\n",
      "19\n",
      "17\n",
      "13\n",
      "20\n",
      "14\n",
      "15\n",
      "5\n"
     ]
    }
   ],
   "source": [
    "// replace into_iter() with into_par_iter() and wait for 500 ms to slow things down\n",
    "(1..=20).into_par_iter().for_each(|x| {wait(500); println!(\"{}\",x);});"
   ]
  },
  {
   "cell_type": "markdown",
   "id": "c6efe5f5",
   "metadata": {
    "slideshow": {
     "slide_type": "subslide"
    }
   },
   "source": [
    "## Replacing iterators with parallel iterators\n",
    "\n",
    "Replace `iter()` with `par_iter()`, `into_iter()` with `into_par_iter()`, etc."
   ]
  },
  {
   "cell_type": "code",
   "execution_count": 23,
   "id": "9c4f2dff",
   "metadata": {},
   "outputs": [
    {
     "name": "stdout",
     "output_type": "stream",
     "text": [
      "1\n",
      "2\n",
      "3\n",
      "4\n",
      "6\n",
      "5\n",
      "8\n",
      "9\n",
      "7\n",
      "10\n",
      "11\n",
      "12\n",
      "13\n",
      "14\n",
      "16\n",
      "15\n",
      "18\n",
      "17\n",
      "19\n",
      "20\n"
     ]
    }
   ],
   "source": [
    "// make the wait time variable to see other patterns of execution\n",
    "(1..=20).into_par_iter().for_each(|x| {wait(x*x*10); println!(\"{}\",x);});"
   ]
  },
  {
   "cell_type": "markdown",
   "id": "91d71581",
   "metadata": {
    "slideshow": {
     "slide_type": "slide"
    }
   },
   "source": [
    "## Benchmarking parallel processing of a long vector"
   ]
  },
  {
   "cell_type": "code",
   "execution_count": 24,
   "id": "e07de0b9",
   "metadata": {},
   "outputs": [],
   "source": [
    "let mut v1 : Vec<i32> = (1..=50_000_000).collect();\n",
    "let mut v2 = v1.clone();"
   ]
  },
  {
   "cell_type": "code",
   "execution_count": 25,
   "id": "0f138594",
   "metadata": {
    "slideshow": {
     "slide_type": "fragment"
    }
   },
   "outputs": [
    {
     "name": "stdout",
     "output_type": "stream",
     "text": [
      "Time: 41.776ms\n"
     ]
    }
   ],
   "source": [
    "// non-parallel version\n",
    "time_it(|| v1.iter_mut().for_each(|x| *x += 100 / *x + *x / 100));"
   ]
  },
  {
   "cell_type": "code",
   "execution_count": 26,
   "id": "40740192",
   "metadata": {
    "slideshow": {
     "slide_type": "fragment"
    }
   },
   "outputs": [
    {
     "name": "stdout",
     "output_type": "stream",
     "text": [
      "Time: 13.228ms\n"
     ]
    }
   ],
   "source": [
    "// using parallel iterators\n",
    "time_it(|| v2.par_iter_mut().for_each(|x| *x += 100 / *x + *x / 100));"
   ]
  },
  {
   "cell_type": "markdown",
   "id": "1ce145e0",
   "metadata": {
    "slideshow": {
     "slide_type": "slide"
    }
   },
   "source": [
    "# 1. Multithreading, concurrency, parallelism\n",
    "\n",
    "# 2. Simple multithreading: crate `rayon`\n",
    "\n",
    "# <font color=\"red\">3. Other things available in Rust and in general</font>"
   ]
  },
  {
   "cell_type": "markdown",
   "id": "5f2b8a88",
   "metadata": {
    "slideshow": {
     "slide_type": "slide"
    }
   },
   "source": [
    "## Sample other things available in Rust and beyond"
   ]
  },
  {
   "cell_type": "markdown",
   "id": "b8df35ae",
   "metadata": {
    "slideshow": {
     "slide_type": "fragment"
    }
   },
   "source": [
    "* Starting separate threads and channels to share data\n",
    "  * communicating to share data:\n",
    "    * data sent between threads via channels\n",
    "    * data that was transmitted cannot be accessed anymore:\n",
    "      * verification via Rust's ownership rules\n",
    "      * checked at compile time!"
   ]
  },
  {
   "cell_type": "markdown",
   "id": "2b24edad",
   "metadata": {
    "slideshow": {
     "slide_type": "fragment"
    }
   },
   "source": [
    "* Mutex\n",
    "  * a lock for accessing a specific resource\n",
    "  * various versions:\n",
    "    * only one thread has access at a time\n",
    "    * or multiple threads with read access / only one thread with write access"
   ]
  },
  {
   "cell_type": "markdown",
   "id": "c90758ef",
   "metadata": {
    "slideshow": {
     "slide_type": "fragment"
    }
   },
   "source": [
    "* Chapter 16 of \"The Rust Programming Language\": overview of some mechanisms available in Rust\n",
    "* More on parallel programming and Rust support for it next lecture"
   ]
  },
  {
   "cell_type": "code",
   "execution_count": null,
   "id": "5ff2fa99",
   "metadata": {},
   "outputs": [],
   "source": []
  }
 ],
 "metadata": {
  "celltoolbar": "Slideshow",
  "kernelspec": {
   "display_name": "Rust",
   "language": "rust",
   "name": "rust"
  },
  "language_info": {
   "codemirror_mode": "rust",
   "file_extension": ".rs",
   "mimetype": "text/rust",
   "name": "Rust",
   "pygment_lexer": "rust",
   "version": ""
  },
  "rise": {
   "theme": "beige",
   "transition": "fade"
  }
 },
 "nbformat": 4,
 "nbformat_minor": 5
}
