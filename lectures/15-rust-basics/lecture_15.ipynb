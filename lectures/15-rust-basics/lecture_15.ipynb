{
 "cells": [
  {
   "cell_type": "markdown",
   "id": "cf7f87e3",
   "metadata": {
    "slideshow": {
     "slide_type": "slide"
    }
   },
   "source": [
    "<div align=\"center\">\n",
    "    <h1>DS-210: Programming for Data Science</h1>\n",
    "    <h1>Lecture 15</h1>\n",
    "</div>\n",
    "\n",
    "\n",
    "# Rust: Compiling. Basic types and variables. Project manager (`cargo`).\n"
   ]
  },
  {
   "cell_type": "markdown",
   "id": "fb20c383",
   "metadata": {
    "slideshow": {
     "slide_type": "slide"
    }
   },
   "source": [
    "\n",
    "<div align=\"center\">\n",
    "<h2>Reminder: Midterm is on Friday</h2>\n",
    "</div>\n",
    "\n",
    "* Same time as always\n",
    "\n",
    "* Arrive early or on time"
   ]
  },
  {
   "cell_type": "markdown",
   "id": "a2f9196e",
   "metadata": {},
   "source": [
    "## Source of Truth\n",
    "* https://doc.rust-lang.org/stable/book/"
   ]
  },
  {
   "cell_type": "markdown",
   "id": "fc3872e6",
   "metadata": {
    "slideshow": {
     "slide_type": "slide"
    }
   },
   "source": [
    "## Write and compile simple Rust program"
   ]
  },
  {
   "cell_type": "code",
   "execution_count": 26,
   "id": "67c23db7",
   "metadata": {
    "cell_style": "center"
   },
   "outputs": [],
   "source": [
    "// A bunch of the output routines\n",
    "fn main() {\n",
    "    let x = 9;\n",
    "    let y = 16;\n",
    "    print!(\"Hello, DS210!\\n\");\n",
    "    println!(\"Hello, DS210!\\n\");\n",
    "    println!(\"{} plus {} is {}\\n\", x, y, x+y);\n",
    "    println!(\"{:?} plus {:?} is {:?}\\n\", x, y, x+y);\n",
    "    println!(\"{:X} plus {:X} is {:X}\\n\", x, y, x+y);\n",
    "    let z = format!(\"{} plus {} is {}\\n\", x, y, x+y);\n",
    "    println!(\"{}\", z);  \n",
    "    eprint!(\"E {} plus {} is {}\\n\", x, y, x+y);      \n",
    "    eprintln!(\"E {} plus {} is {}\\n\", x, y, x+y);   \n",
    "}"
   ]
  },
  {
   "cell_type": "code",
   "execution_count": 27,
   "id": "5ec85fb0",
   "metadata": {},
   "outputs": [
    {
     "name": "stdout",
     "output_type": "stream",
     "text": [
      "Hello, DS210!\n",
      "Hello, DS210!\n",
      "\n"
     ]
    },
    {
     "name": "stderr",
     "output_type": "stream",
     "text": [
      "9 plus 16 is 25\n",
      "9 plus 16 is 25\n",
      "\n"
     ]
    },
    {
     "name": "stdout",
     "output_type": "stream",
     "text": [
      "9 plus 16 is 25\n",
      "\n",
      "9 plus 16 is 25\n",
      "\n",
      "9 plus 10 is 19\n",
      "\n",
      "9 plus 16 is 25\n",
      "\n"
     ]
    }
   ],
   "source": [
    "main();"
   ]
  },
  {
   "cell_type": "markdown",
   "id": "dc825bfb",
   "metadata": {},
   "source": [
    "```\n",
    "// And some input routines\n",
    "// Unfortunately jupyter notebook does not have support for reading from the terminal with Rust at this point.\n",
    "// So this is for demo purposes\n",
    "use std::io;\n",
    "use std::io::Write;\n",
    "\n",
    "fn main() {\n",
    "    let mut user_input = String::new();\n",
    "    print!(\"enter input: \");\n",
    "    io::stdout.flush().expect(\"Error flushing\");\n",
    "    io::stdin().read_line(&mut user_input);\n",
    "    println!(\"input was: {}\", user_input);\n",
    "}\n",
    "```"
   ]
  },
  {
   "cell_type": "markdown",
   "id": "a86c66c0",
   "metadata": {
    "cell_style": "split"
   },
   "source": [
    "**A few facts:**\n",
    "* function `main`: the code that is executed\n",
    "* `println!` is a macro:\n",
    "   - first parameter is a format string\n",
    "   - `{}` are replaced by the following parameters"
   ]
  },
  {
   "cell_type": "markdown",
   "id": "52f67153",
   "metadata": {
    "cell_style": "split",
    "slideshow": {
     "slide_type": "fragment"
    }
   },
   "source": [
    "**Simplest way to compile:**\n",
    "  * put the content in file `hello.rs`\n",
    "  * command line:\n",
    "    - navigate to this folder\n",
    "    - `rustc hello.rs`\n",
    "    - run `./hello` or `hello.exe`"
   ]
  },
  {
   "cell_type": "markdown",
   "id": "1b003b2e",
   "metadata": {
    "slideshow": {
     "slide_type": "slide"
    }
   },
   "source": [
    "## Variable definitions"
   ]
  },
  {
   "cell_type": "markdown",
   "id": "2e32bd0c",
   "metadata": {
    "cell_style": "split"
   },
   "source": [
    "* By default immutable!"
   ]
  },
  {
   "cell_type": "code",
   "execution_count": 9,
   "id": "e1633e52",
   "metadata": {
    "cell_style": "split"
   },
   "outputs": [
    {
     "ename": "Error",
     "evalue": "cannot assign twice to immutable variable `x`",
     "output_type": "error",
     "traceback": [
      "let x = 3;",
      "\u001b[91m    ^\u001b[0m \u001b[94mfirst assignment to `x`\u001b[0m",
      "x = x + 1; // <== error here",
      "\u001b[91m^^^^^^^^^\u001b[0m \u001b[94mcannot assign twice to immutable variable\u001b[0m",
      "cannot assign twice to immutable variable `x`",
      "\u001b[1mhelp\u001b[0m: consider making this binding mutable\n\nmut x"
     ]
    }
   ],
   "source": [
    "let x = 3;\n",
    "x = x + 1; // <== error here"
   ]
  },
  {
   "cell_type": "markdown",
   "id": "8b94531a",
   "metadata": {
    "cell_style": "split",
    "slideshow": {
     "slide_type": "fragment"
    }
   },
   "source": [
    "* Use `mut` to make them mutable"
   ]
  },
  {
   "cell_type": "code",
   "execution_count": 10,
   "id": "5369e767",
   "metadata": {
    "cell_style": "split"
   },
   "outputs": [
    {
     "data": {
      "text/plain": [
       "4"
      ]
     },
     "execution_count": 10,
     "metadata": {},
     "output_type": "execute_result"
    }
   ],
   "source": [
    "// mutable variable\n",
    "let mut x = 3;\n",
    "x = x + 1;\n",
    "x"
   ]
  },
  {
   "cell_type": "markdown",
   "id": "61d2fc70",
   "metadata": {
    "cell_style": "split",
    "slideshow": {
     "slide_type": "fragment"
    }
   },
   "source": [
    "* Variable shadowing: new variable with the same name"
   ]
  },
  {
   "cell_type": "code",
   "execution_count": 29,
   "id": "75626afb",
   "metadata": {
    "cell_style": "split"
   },
   "outputs": [
    {
     "name": "stdout",
     "output_type": "stream",
     "text": [
      "solution = 6\n",
      "solution = This is a string\n"
     ]
    }
   ],
   "source": [
    "let solution = \"4\";\n",
    "let solution : i32 = solution.parse()\n",
    "                     .expect(\"Not a number!\");\n",
    "let solution = solution * (solution - 1) / 2;\n",
    "println!(\"solution = {}\",solution);\n",
    "let solution = \"This is a string\";\n",
    "println!(\"solution = {}\", solution);"
   ]
  },
  {
   "cell_type": "markdown",
   "id": "86010062",
   "metadata": {
    "slideshow": {
     "slide_type": "slide"
    }
   },
   "source": [
    "## Basic types: integers and floats\n",
    "\n",
    "* unsigned integers: `u8`, `u16`, `u32`, `u64`, `u128`, `usize` (architecture specific size)\n",
    "   - from $0$ to $2^n-1$\n",
    "* signed integers: `i8`, `i16`, `i32` (default), `i64`, `i128`, `isize` (architecture specific size)\n",
    "   - from $-2^{n-1}$ to $2^{n-1}-1$\n",
    "\n",
    "(if you need to convert, use the `as` operator)\n",
    "\n",
    "| Number literals |\tExample |\n",
    "| :-: | :-:|\n",
    "| Decimal | 98_222 |\n",
    "| Hex | 0xff |\n",
    "| Octal | 0o77 |\n",
    "| Binary | 0b1111_0000 |\n",
    "| Byte (u8 only) | b'A' |"
   ]
  },
  {
   "cell_type": "code",
   "execution_count": 34,
   "id": "614b2b4f",
   "metadata": {},
   "outputs": [
    {
     "name": "stdout",
     "output_type": "stream",
     "text": [
      "U8 min is 0 max is 255\n",
      "I8 min is -128 max is 127\n",
      "U16 min is 0 max is 65535\n",
      "I16 min is -32768 max is 32767\n",
      "U32 min is 0 max is 4294967295\n",
      "I32 min is -2147483648 max is 2147483647\n",
      "U64 min is 0 max is 18446744073709551615\n",
      "I64 min is -9223372036854775808 max is 9223372036854775807\n",
      "U128 min is 0 max is 340282366920938463463374607431768211455\n",
      "I128 min is -170141183460469231731687303715884105728 max is 170141183460469231731687303715884105727\n",
      "USIZE min is 0 max is 18446744073709551615\n",
      "ISIZE min is -9223372036854775808 max is 9223372036854775807\n"
     ]
    }
   ],
   "source": [
    "println!(\"U8 min is {} max is {}\", u8::MIN, u8::MAX);\n",
    "println!(\"I8 min is {} max is {}\", i8::MIN, i8::MAX);\n",
    "println!(\"U16 min is {} max is {}\", u16::MIN, u16::MAX);\n",
    "println!(\"I16 min is {} max is {}\", i16::MIN, i16::MAX);\n",
    "println!(\"U32 min is {} max is {}\", u32::MIN, u32::MAX);\n",
    "println!(\"I32 min is {} max is {}\", i32::MIN, i32::MAX);\n",
    "println!(\"U64 min is {} max is {}\", u64::MIN, u64::MAX);\n",
    "println!(\"I64 min is {} max is {}\", i64::MIN, i64::MAX);\n",
    "println!(\"U128 min is {} max is {}\", u128::MIN, u128::MAX);\n",
    "println!(\"I128 min is {} max is {}\", i128::MIN, i128::MAX);\n",
    "println!(\"USIZE min is {} max is {}\", usize::MIN, usize::MAX);\n",
    "println!(\"ISIZE min is {} max is {}\", isize::MIN, isize::MAX);"
   ]
  },
  {
   "cell_type": "code",
   "execution_count": 5,
   "id": "b52f786f",
   "metadata": {
    "slideshow": {
     "slide_type": "fragment"
    }
   },
   "outputs": [
    {
     "data": {
      "text/plain": [
       "-221"
      ]
     },
     "execution_count": 5,
     "metadata": {},
     "output_type": "execute_result"
    }
   ],
   "source": [
    "let x : i16 = 13;\n",
    "let y : i32 = -17;\n",
    "// won't work without the conversion\n",
    "(x as i32) * y "
   ]
  },
  {
   "cell_type": "markdown",
   "id": "24bd9e7a",
   "metadata": {
    "slideshow": {
     "slide_type": "fragment"
    }
   },
   "source": [
    "* floats: `f32` and `f64` (default)\n",
    "* There is talk about adding f128 to the language but it is not as useful as u128/i128."
   ]
  },
  {
   "cell_type": "code",
   "execution_count": 41,
   "id": "c456e8e8",
   "metadata": {},
   "outputs": [
    {
     "data": {
      "text/plain": [
       "5.0"
      ]
     },
     "execution_count": 41,
     "metadata": {},
     "output_type": "execute_result"
    }
   ],
   "source": [
    "let x:f32 = 4.0;\n",
    "// let x:f32 = 4; // Will not work.  It will not autoconvert for you.\n",
    "let z = 1.25; // default float type: f64\n",
    "// won't work without the conversion\n",
    "(x as f64) * z"
   ]
  },
  {
   "cell_type": "markdown",
   "id": "50991766",
   "metadata": {},
   "source": [
    "### Why 128 bit integers but not floats? AES128 (and AES192, AES256)\n",
    "\n",
    "The first key-recovery attacks on full AES were by Andrey Bogdanov, Dmitry Khovratovich, and Christian Rechberger, and were published in 2011.[25] The attack is a biclique attack and is faster than brute force by a factor of about four. It requires 2126.2 operations to recover an AES-128 key. For AES-192 and AES-256, 2190.2 and 2254.6 operations are needed, respectively. This result has been further improved to 2126.0 for AES-128, 2189.9 for AES-192 and 2254.3 for AES-256,[26] which are the current best results in key recovery attack against AES.\n",
    "\n",
    "This is a very small gain, as a 126-bit key (instead of 128-bits) would still take billions of years to brute force on current and foreseeable hardware. Also, the authors calculate the best attack using their technique on AES with a 128-bit key requires storing 288 bits of data. That works out to about 38 trillion terabytes of data, which is more than all the data stored on all the computers on the planet in 2016. As such, there are no practical implications on AES security.[27] The space complexity has later been improved to 256 bits,[26] which is 9007 terabytes (while still keeping a time complexity of 2126.2).\n",
    "\n"
   ]
  },
  {
   "cell_type": "markdown",
   "id": "99aaf839",
   "metadata": {
    "slideshow": {
     "slide_type": "subslide"
    }
   },
   "source": [
    "## Basic types: Booleans, characters, and strings\n",
    "\n",
    "* `bool` uses one byte of memory"
   ]
  },
  {
   "cell_type": "code",
   "execution_count": 7,
   "id": "6e1d86d2",
   "metadata": {},
   "outputs": [
    {
     "data": {
      "text/plain": [
       "true"
      ]
     },
     "execution_count": 7,
     "metadata": {},
     "output_type": "execute_result"
    }
   ],
   "source": [
    "let x = true;\n",
    "let y: bool = false;\n",
    "\n",
    "// x and (not y)\n",
    "x && !y"
   ]
  },
  {
   "cell_type": "markdown",
   "id": "e30fc3f3",
   "metadata": {
    "slideshow": {
     "slide_type": "fragment"
    }
   },
   "source": [
    "* `char` defined via single quote, uses four bytes of memory (Unicode scalar value)\n",
    "* For a complete list of UTF-8 characters check https://www.fileformat.info/info/charset/UTF-8/list.htm"
   ]
  },
  {
   "cell_type": "code",
   "execution_count": 8,
   "id": "10e2b93a",
   "metadata": {},
   "outputs": [],
   "source": [
    "let x = 'a';\n",
    "let y = '🚦';\n",
    "let z = '🦕';"
   ]
  },
  {
   "cell_type": "markdown",
   "id": "ad8cbbcc",
   "metadata": {
    "slideshow": {
     "slide_type": "fragment"
    }
   },
   "source": [
    "* string slice defined via double quotes (not so basic actually!)"
   ]
  },
  {
   "cell_type": "code",
   "execution_count": 37,
   "id": "0d33722a",
   "metadata": {},
   "outputs": [
    {
     "name": "stdout",
     "output_type": "stream",
     "text": [
      "Hello! How are you, 🦕? Καλημέρα από την Βοστώνη και την DS210\n",
      "l\n",
      "η\n"
     ]
    }
   ],
   "source": [
    "let s1 = \"Hello! How are you, 🦕?\";\n",
    "let s2 : &str = \"Καλημέρα από την Βοστώνη και την DS210\";\n",
    "println!(\"{} {}\", s1, s2);\n",
    "// println!(\"{}\", s1[3]);\n",
    "// println!(\"{}\", s2[3]);\n",
    "println!(\"{}\", s1.chars().nth(3).unwrap());\n",
    "println!(\"{}\", s2.chars().nth(3).unwrap());"
   ]
  },
  {
   "cell_type": "markdown",
   "id": "af0e1a6f",
   "metadata": {
    "slideshow": {
     "slide_type": "slide"
    }
   },
   "source": [
    "## Project manager: `cargo`\n",
    "\n",
    "* create a project: `cargo new PROJECT-NAME`\n",
    "* main file will be `PROJECT-NAME/src/main.rs`"
   ]
  },
  {
   "cell_type": "markdown",
   "id": "16acc09d",
   "metadata": {
    "slideshow": {
     "slide_type": "fragment"
    }
   },
   "source": [
    "* to run: `cargo run`\n",
    "* to just build: `cargo build`"
   ]
  },
  {
   "cell_type": "markdown",
   "id": "78610341",
   "metadata": {
    "slideshow": {
     "slide_type": "fragment"
    }
   },
   "source": [
    "Add `--release` to create a \"fully optimized\" version:\n",
    " * longer compilation\n",
    " * faster execution\n",
    " * some runtime checks not included (e.g., integer overflow)\n",
    " * debuging information not included\n",
    " * the executable in a different folder\n",
    " * Demo fibonacci on the terminal"
   ]
  },
  {
   "cell_type": "markdown",
   "id": "65d979d7",
   "metadata": {
    "slideshow": {
     "slide_type": "subslide"
    }
   },
   "source": [
    "## Project manager: `cargo`\n",
    "\n",
    "If you just want to **check** if your current version compiles: `cargo check`\n",
    "  * Much faster for big projects"
   ]
  },
  {
   "cell_type": "markdown",
   "id": "e04ae4bc",
   "metadata": {},
   "source": [
    "## Read book chapter 1 and sections 3.1 and 3.2"
   ]
  },
  {
   "cell_type": "code",
   "execution_count": null,
   "id": "154ec6ad",
   "metadata": {},
   "outputs": [],
   "source": []
  }
 ],
 "metadata": {
  "celltoolbar": "Slideshow",
  "kernelspec": {
   "display_name": "Rust",
   "language": "rust",
   "name": "rust"
  },
  "language_info": {
   "codemirror_mode": "rust",
   "file_extension": ".rs",
   "mimetype": "text/rust",
   "name": "Rust",
   "pygment_lexer": "rust",
   "version": ""
  },
  "rise": {
   "theme": "beige",
   "transition": "fade"
  }
 },
 "nbformat": 4,
 "nbformat_minor": 5
}
