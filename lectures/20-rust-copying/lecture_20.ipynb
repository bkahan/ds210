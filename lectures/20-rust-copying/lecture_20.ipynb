{
 "cells": [
  {
   "cell_type": "markdown",
   "id": "cf7f87e3",
   "metadata": {
    "slideshow": {
     "slide_type": "slide"
    }
   },
   "source": [
    "<div align=\"center\">\n",
    "    <h1>DS-210: Programming for Data Science</h1>\n",
    "    <h1>Lecture 20</h1>\n",
    "</div>\n",
    "\n",
    "\n",
    "# 1. Copying instead of moving\n",
    "# 2. Multiple references in parallel\n",
    "# 3. Generics\n"
   ]
  },
  {
   "cell_type": "markdown",
   "id": "65e7d405",
   "metadata": {
    "slideshow": {
     "slide_type": "slide"
    }
   },
   "source": [
    "## Last time: ownership and moving"
   ]
  },
  {
   "cell_type": "code",
   "execution_count": 8,
   "id": "3600708d",
   "metadata": {
    "cell_style": "split"
   },
   "outputs": [],
   "source": [
    "#[derive(Debug)]\n",
    "struct BoxSize {\n",
    "    height: f64,\n",
    "    width: f64,\n",
    "    depth: f64,\n",
    "}\n",
    "\n",
    "impl BoxSize {\n",
    "    fn new(height: f64, width: f64, depth: f64)\n",
    "        -> BoxSize {\n",
    "        BoxSize{\n",
    "            height: height, \n",
    "            width, // = width: width\n",
    "            depth, // = depth: depth\n",
    "        }\n",
    "    }\n",
    "}"
   ]
  },
  {
   "cell_type": "code",
   "execution_count": 4,
   "id": "1556eaaf",
   "metadata": {
    "cell_style": "split",
    "slideshow": {
     "slide_type": "fragment"
    }
   },
   "outputs": [
    {
     "ename": "Error",
     "evalue": "borrow of moved value: `xl_box`",
     "output_type": "error",
     "traceback": [
      "let move_it_here = xl_box;",
      "\u001b[91m                   ^^^^^^\u001b[0m \u001b[94mvalue moved here\u001b[0m",
      "println!(\"{:?}\", xl_box);",
      "\u001b[91m                 ^^^^^^\u001b[0m \u001b[94mvalue borrowed here after move\u001b[0m",
      "let xl_box = BoxSize::new(24.0,18.0,24.0);",
      "\u001b[91m    ^^^^^^\u001b[0m \u001b[94mmove occurs because `xl_box` has type `BoxSize`, which does not implement the `Copy` trait\u001b[0m",
      "borrow of moved value: `xl_box`"
     ]
    }
   ],
   "source": [
    "let xl_box = BoxSize::new(24.0,18.0,24.0);\n",
    "println!(\"{:?}\", xl_box);\n",
    "let move_it_here = xl_box;\n",
    "println!(\"{:?}\", xl_box);"
   ]
  },
  {
   "cell_type": "markdown",
   "id": "7770bbc8",
   "metadata": {
    "cell_style": "split"
   },
   "source": [
    "<div align=\"center\">\n",
    "<img src=\"uhaul_xl.png\" alt=\"[image of a box]\">\n",
    "</div>"
   ]
  },
  {
   "cell_type": "markdown",
   "id": "64330461",
   "metadata": {
    "slideshow": {
     "slide_type": "slide"
    }
   },
   "source": [
    "## Cloning\n",
    "\n",
    "How to make a copy of data?"
   ]
  },
  {
   "cell_type": "markdown",
   "id": "1baa2fc9",
   "metadata": {
    "slideshow": {
     "slide_type": "fragment"
    }
   },
   "source": [
    "**Option 1:** Implement yourself"
   ]
  },
  {
   "cell_type": "code",
   "execution_count": 5,
   "id": "429359fe",
   "metadata": {
    "cell_style": "split"
   },
   "outputs": [],
   "source": [
    "impl BoxSize {\n",
    "    fn give_me_a_copy(&self) -> BoxSize {\n",
    "        let BoxSize{height,width,depth} = *self;\n",
    "        BoxSize{height,width,depth}\n",
    "    }\n",
    "}"
   ]
  },
  {
   "cell_type": "code",
   "execution_count": 6,
   "id": "3760325b",
   "metadata": {
    "cell_style": "split",
    "slideshow": {
     "slide_type": "fragment"
    }
   },
   "outputs": [
    {
     "name": "stdout",
     "output_type": "stream",
     "text": [
      "BoxSize { height: 1.1, width: 2.2, depth: 3.3 }\n",
      "================\n",
      "BoxSize { height: 1.1, width: 2.2, depth: 3.3 }\n",
      "BoxSize { height: 1.1, width: 2.2, depth: 3.3 }\n"
     ]
    }
   ],
   "source": [
    "let box_1 = BoxSize::new(1.1,2.2,3.3);\n",
    "println!(\"{:?}\",box_1);\n",
    "let box_2 = box_1.give_me_a_copy();\n",
    "println!(\"================\");\n",
    "println!(\"{:?}\",box_1);\n",
    "println!(\"{:?}\",box_2);"
   ]
  },
  {
   "cell_type": "markdown",
   "id": "569bf100",
   "metadata": {
    "slideshow": {
     "slide_type": "subslide"
    }
   },
   "source": [
    "## Cloning"
   ]
  },
  {
   "cell_type": "markdown",
   "id": "ef0f4b7e",
   "metadata": {},
   "source": [
    "**Option 2:** Default cloning (with some extra benefits)\n",
    "* Use `#[derive(Clone)]` in the definition\n",
    "* Use method `.clone()` to clone an object"
   ]
  },
  {
   "cell_type": "code",
   "execution_count": 7,
   "id": "a1589eac",
   "metadata": {
    "cell_style": "split"
   },
   "outputs": [],
   "source": [
    "#[derive(Clone,Debug)]\n",
    "struct CloneablePoint {\n",
    "    x: f64,\n",
    "    y: f64,\n",
    "}"
   ]
  },
  {
   "cell_type": "code",
   "execution_count": 8,
   "id": "52628254",
   "metadata": {
    "cell_style": "split",
    "slideshow": {
     "slide_type": "fragment"
    }
   },
   "outputs": [
    {
     "name": "stdout",
     "output_type": "stream",
     "text": [
      "CloneablePoint { x: 2.2, y: -1.4 }\n",
      "CloneablePoint { x: 2.2, y: -1.4 }\n"
     ]
    }
   ],
   "source": [
    "let point_1 = CloneablePoint{x:2.2,y:-1.4};\n",
    "let point_2 = point_1.clone();\n",
    "println!(\"{:?}\\n{:?}\",point_1,point_2);"
   ]
  },
  {
   "cell_type": "markdown",
   "id": "1ccbd267",
   "metadata": {
    "slideshow": {
     "slide_type": "fragment"
    }
   },
   "source": [
    "Can then be used recursively:"
   ]
  },
  {
   "cell_type": "code",
   "execution_count": 9,
   "id": "064625b8",
   "metadata": {
    "cell_style": "split",
    "slideshow": {
     "slide_type": "-"
    }
   },
   "outputs": [],
   "source": [
    "// will work\n",
    "let tuple_point = (1,CloneablePoint{x:1.1,y:1.1});\n",
    "let copy_tuple_point = tuple_point.clone();"
   ]
  },
  {
   "cell_type": "code",
   "execution_count": 10,
   "id": "57d2248a",
   "metadata": {
    "cell_style": "split",
    "slideshow": {
     "slide_type": "fragment"
    }
   },
   "outputs": [
    {
     "ename": "Error",
     "evalue": "the method `clone` exists for tuple `({integer}, BoxSize)`, but its trait bounds were not satisfied",
     "output_type": "error",
     "traceback": [
      "let copy_tuple_box = tuple_box.clone();",
      "\u001b[91m                               ^^^^^\u001b[0m \u001b[94mmethod cannot be called on `({integer}, BoxSize)` due to unsatisfied trait bounds\u001b[0m",
      "the method `clone` exists for tuple `({integer}, BoxSize)`, but its trait bounds were not satisfied",
      "\u001b[1mhelp\u001b[0m: consider annotating `BoxSize` with `#[derive(Clone)]`\n\n#[derive(Clone)]"
     ]
    }
   ],
   "source": [
    "// won't work\n",
    "let tuple_box = (1,BoxSize::new(1.1,1.2,1.3));\n",
    "let copy_tuple_box = tuple_box.clone();"
   ]
  },
  {
   "cell_type": "markdown",
   "id": "70d838b5",
   "metadata": {
    "cell_style": "center",
    "slideshow": {
     "slide_type": "slide"
    }
   },
   "source": [
    "## Implicit copying\n",
    "\n",
    "* Works for intergers, floats, booleans, ...\n",
    "* Also for tuples made of items for which it works\n",
    "* But not for other types including those that implement clone"
   ]
  },
  {
   "cell_type": "code",
   "execution_count": 11,
   "id": "8dc2c861",
   "metadata": {
    "cell_style": "split"
   },
   "outputs": [
    {
     "name": "stdout",
     "output_type": "stream",
     "text": [
      "3\n",
      "3\n"
     ]
    }
   ],
   "source": [
    "let int = 3;\n",
    "let int_2 = int;\n",
    "println!(\"{}\\n{}\",int,int_2);"
   ]
  },
  {
   "cell_type": "code",
   "execution_count": 12,
   "id": "568b8874",
   "metadata": {
    "cell_style": "split",
    "slideshow": {
     "slide_type": "fragment"
    }
   },
   "outputs": [
    {
     "name": "stdout",
     "output_type": "stream",
     "text": [
      "(1.2, 3.1)\n",
      "(1.2, 3.1)\n"
     ]
    }
   ],
   "source": [
    "let tuple = (1.2,3.1);\n",
    "let tuple_2 = tuple;\n",
    "println!(\"{:?}\\n{:?}\",tuple,tuple_2);"
   ]
  },
  {
   "cell_type": "markdown",
   "id": "cba602d2",
   "metadata": {
    "slideshow": {
     "slide_type": "fragment"
    }
   },
   "source": [
    "To make it work: use `#[derive(Copy)]` in the definition\n",
    "* `(Clone)` needed as well"
   ]
  },
  {
   "cell_type": "code",
   "execution_count": 13,
   "id": "dcfdddf7",
   "metadata": {
    "cell_style": "split"
   },
   "outputs": [],
   "source": [
    "#[derive(Copy,Clone,Debug)]\n",
    "enum SearchResult {\n",
    "    DidntFindIt,\n",
    "    FoundIt(usize),\n",
    "}"
   ]
  },
  {
   "cell_type": "code",
   "execution_count": 14,
   "id": "77e2477d",
   "metadata": {
    "cell_style": "split",
    "slideshow": {
     "slide_type": "fragment"
    }
   },
   "outputs": [
    {
     "name": "stdout",
     "output_type": "stream",
     "text": [
      "DidntFindIt\n",
      "DidntFindIt\n"
     ]
    }
   ],
   "source": [
    "let result = SearchResult::DidntFindIt;\n",
    "let will_it_move = result;\n",
    "\n",
    "println!(\"{:?}\\n{:?}\",result,will_it_move);"
   ]
  },
  {
   "cell_type": "markdown",
   "id": "d379cf98",
   "metadata": {
    "slideshow": {
     "slide_type": "subslide"
    }
   },
   "source": [
    "## What really happens with `derive(Copy)` and `derive(Clone)`"
   ]
  },
  {
   "cell_type": "markdown",
   "id": "8b834223",
   "metadata": {
    "slideshow": {
     "slide_type": "fragment"
    }
   },
   "source": [
    "* Defining a specific method or methods (i.e., `clone`)"
   ]
  },
  {
   "cell_type": "markdown",
   "id": "f43fe5c7",
   "metadata": {
    "slideshow": {
     "slide_type": "fragment"
    }
   },
   "source": [
    "* It tells Rust that the type meets specific requirements \n",
    "  * they are called a trait\n",
    "  * to be covered later in class (next lecture?)"
   ]
  },
  {
   "cell_type": "markdown",
   "id": "ad6c71c1",
   "metadata": {
    "slideshow": {
     "slide_type": "slide"
    }
   },
   "source": [
    "## Multiple references at once\n",
    "\n",
    "* useful for when we may want to access the same thing from multiple places\n",
    "* they can be passed around like values"
   ]
  },
  {
   "cell_type": "code",
   "execution_count": 2,
   "id": "47420ca6",
   "metadata": {
    "cell_style": "split",
    "slideshow": {
     "slide_type": "fragment"
    }
   },
   "outputs": [],
   "source": [
    "// auxiliary functions\n",
    "\n",
    "fn display(x:&i32) {\n",
    "    println!(\"{}\",x);    \n",
    "}\n",
    "\n",
    "fn double(x:&mut i32) {\n",
    "    *x *= 2;\n",
    "}"
   ]
  },
  {
   "cell_type": "code",
   "execution_count": 3,
   "id": "439631d7",
   "metadata": {
    "cell_style": "split",
    "slideshow": {
     "slide_type": "fragment"
    }
   },
   "outputs": [
    {
     "name": "stdout",
     "output_type": "stream",
     "text": [
      "1\n",
      "1\n"
     ]
    }
   ],
   "source": [
    "// two immutable references\n",
    "let mut integer = 1;\n",
    "{ \n",
    "    let ir = &integer;\n",
    "    let ir2 = &integer;\n",
    "    display(ir);\n",
    "    display(ir2);\n",
    "};"
   ]
  },
  {
   "cell_type": "markdown",
   "id": "49b34bec",
   "metadata": {
    "slideshow": {
     "slide_type": "subslide"
    }
   },
   "source": [
    "## Multiple references at once\n",
    "\n",
    "* useful for when we may want to access the same thing from multiple places\n",
    "* they can be passed around like values"
   ]
  },
  {
   "cell_type": "code",
   "execution_count": 4,
   "id": "05a36f2c",
   "metadata": {
    "cell_style": "split",
    "slideshow": {
     "slide_type": "fragment"
    }
   },
   "outputs": [
    {
     "name": "stdout",
     "output_type": "stream",
     "text": [
      "2\n"
     ]
    }
   ],
   "source": [
    "// one mutable reference\n",
    "{\n",
    "    let mr = &mut integer;\n",
    "    double(mr);\n",
    "    display(mr);\n",
    "};"
   ]
  },
  {
   "cell_type": "code",
   "execution_count": 5,
   "id": "c1b411a9",
   "metadata": {
    "cell_style": "split",
    "slideshow": {
     "slide_type": "fragment"
    }
   },
   "outputs": [
    {
     "ename": "Error",
     "evalue": "cannot borrow `integer` as mutable more than once at a time",
     "output_type": "error",
     "traceback": [
      "    let mr = &mut integer;",
      "\u001b[91m             ^^^^^^^^^^^^\u001b[0m \u001b[94mfirst mutable borrow occurs here\u001b[0m",
      "    let mr2 = &mut integer;",
      "\u001b[91m              ^^^^^^^^^^^^\u001b[0m \u001b[94msecond mutable borrow occurs here\u001b[0m",
      "    double(mr);",
      "\u001b[91m           ^^\u001b[0m \u001b[94mfirst borrow later used here\u001b[0m",
      "cannot borrow `integer` as mutable more than once at a time"
     ]
    }
   ],
   "source": [
    "// two mutable references\n",
    "{\n",
    "    let mr = &mut integer;\n",
    "    let mr2 = &mut integer;\n",
    "    double(mr);\n",
    "    double(mr2);\n",
    "};"
   ]
  },
  {
   "cell_type": "markdown",
   "id": "96901a0c",
   "metadata": {
    "slideshow": {
     "slide_type": "subslide"
    }
   },
   "source": [
    "## Multiple references at once\n",
    "\n",
    "* useful for when we may want to access the same thing from multiple places\n",
    "* they can be passed around like values"
   ]
  },
  {
   "cell_type": "code",
   "execution_count": 6,
   "id": "aa445a6d",
   "metadata": {
    "cell_style": "split"
   },
   "outputs": [
    {
     "ename": "Error",
     "evalue": "cannot borrow `integer` as mutable because it is also borrowed as immutable",
     "output_type": "error",
     "traceback": [
      "    let mr2 = &mut integer;",
      "\u001b[91m              ^^^^^^^^^^^^\u001b[0m \u001b[94mmutable borrow occurs here\u001b[0m",
      "    let mr = &integer;",
      "\u001b[91m             ^^^^^^^^\u001b[0m \u001b[94mimmutable borrow occurs here\u001b[0m",
      "    display(mr);",
      "\u001b[91m            ^^\u001b[0m \u001b[94mimmutable borrow later used here\u001b[0m",
      "cannot borrow `integer` as mutable because it is also borrowed as immutable"
     ]
    }
   ],
   "source": [
    "// immutable and mutable references\n",
    "{\n",
    "    let mr = &integer;\n",
    "    let mr2 = &mut integer;\n",
    "    display(mr);\n",
    "    double(mr2);\n",
    "};"
   ]
  },
  {
   "cell_type": "code",
   "execution_count": 7,
   "id": "bbc34787",
   "metadata": {
    "cell_style": "split",
    "slideshow": {
     "slide_type": "fragment"
    }
   },
   "outputs": [
    {
     "name": "stdout",
     "output_type": "stream",
     "text": [
      "2\n",
      "4\n"
     ]
    }
   ],
   "source": [
    "// immutable and mutable references\n",
    "{\n",
    "    let ir = &integer;\n",
    "    display(ir);\n",
    "    let mr2 = &mut integer;\n",
    "    double(mr2);\n",
    "    let ir2 = &integer;\n",
    "    display(ir2);\n",
    "};"
   ]
  },
  {
   "cell_type": "markdown",
   "id": "f77396c2",
   "metadata": {
    "cell_style": "split",
    "slideshow": {
     "slide_type": "fragment"
    }
   },
   "source": [
    "Rust can figure out which references no longer used"
   ]
  },
  {
   "cell_type": "markdown",
   "id": "1c63a433",
   "metadata": {
    "slideshow": {
     "slide_type": "subslide"
    }
   },
   "source": [
    "## Multiple references at once\n",
    "\n",
    "* useful for when we may want to access the same data from multiple places\n",
    "* they can be passed around like values"
   ]
  },
  {
   "cell_type": "markdown",
   "id": "c82d12f9",
   "metadata": {
    "cell_style": "split"
   },
   "source": [
    "### Rules\n",
    "* At most one mutable reference at a time\n",
    "* Multiple immutable references allowed\n",
    "* No mutable and immutable references at the same time"
   ]
  },
  {
   "cell_type": "markdown",
   "id": "2b4b6878",
   "metadata": {
    "cell_style": "split",
    "slideshow": {
     "slide_type": "fragment"
    }
   },
   "source": [
    "### How it could be useful\n",
    "* More clear what is happening\n",
    "  * Potential early bug detection\n",
    "* Additional optimizations possible\n",
    "* Multithreading (running things in parallel):\n",
    "  * each thread accesses things through references\n",
    "  * potentially very unpredictable behaviour\n",
    "    without these rules"
   ]
  },
  {
   "cell_type": "markdown",
   "id": "05d60ead",
   "metadata": {
    "slideshow": {
     "slide_type": "subslide"
    }
   },
   "source": [
    "## Not covered today: lifetimes\n",
    "* how long a reference lives\n",
    "* important for making sure that references passed around are not in conflict\n",
    "* useful for dealing with some data processing patterns"
   ]
  },
  {
   "cell_type": "markdown",
   "id": "be6ce237",
   "metadata": {
    "slideshow": {
     "slide_type": "slide"
    }
   },
   "source": [
    "## New Topic: Avoiding copying code for different types"
   ]
  },
  {
   "cell_type": "markdown",
   "id": "10189c34",
   "metadata": {
    "cell_style": "split"
   },
   "source": [
    "Python:\n",
    "\n",
    "```python\n",
    "def max(x,y):\n",
    "    return x if x > y else y\n",
    "```\n",
    "```python\n",
    "max(3,2)\n",
    "```\n",
    "```\n",
    "3\n",
    "```\n",
    "```python\n",
    "max(3.1,2.2)\n",
    "```\n",
    "```\n",
    "3.1\n",
    "```"
   ]
  },
  {
   "cell_type": "markdown",
   "id": "36508643",
   "metadata": {
    "cell_style": "split",
    "slideshow": {
     "slide_type": "fragment"
    }
   },
   "source": [
    "Very flexible! Any downsides?"
   ]
  },
  {
   "cell_type": "markdown",
   "id": "0df96311",
   "metadata": {
    "cell_style": "split",
    "slideshow": {
     "slide_type": "fragment"
    }
   },
   "source": [
    "* Requires checking each time what types are used\n",
    "* Runtime penalty"
   ]
  },
  {
   "cell_type": "markdown",
   "id": "71258848",
   "metadata": {
    "slideshow": {
     "slide_type": "subslide"
    }
   },
   "source": [
    "## New Topic: Avoiding copying code for different types"
   ]
  },
  {
   "cell_type": "markdown",
   "id": "ae4e45b9",
   "metadata": {
    "cell_style": "center"
   },
   "source": [
    "Possible Rust \"equivalent\": create a copy for each type"
   ]
  },
  {
   "cell_type": "code",
   "execution_count": 21,
   "id": "0c3ec34e",
   "metadata": {
    "cell_style": "split"
   },
   "outputs": [
    {
     "data": {
      "text/plain": [
       "8"
      ]
     },
     "execution_count": 21,
     "metadata": {},
     "output_type": "execute_result"
    }
   ],
   "source": [
    "fn max_i32(x:i32,y:i32) -> i32 {\n",
    "    if x > y {x} else {y}\n",
    "}\n",
    "\n",
    "max_i32(3,8)"
   ]
  },
  {
   "cell_type": "code",
   "execution_count": 22,
   "id": "7dd89dec",
   "metadata": {
    "cell_style": "split"
   },
   "outputs": [
    {
     "data": {
      "text/plain": [
       "8.1"
      ]
     },
     "execution_count": 22,
     "metadata": {},
     "output_type": "execute_result"
    }
   ],
   "source": [
    "fn max_f64(x:f64,y:f64) -> f64 {\n",
    "    if x > y {x} else {y}\n",
    "}\n",
    "\n",
    "max_f64(3.3,8.1)"
   ]
  },
  {
   "cell_type": "markdown",
   "id": "f85bb800",
   "metadata": {
    "cell_style": "center",
    "slideshow": {
     "slide_type": "fragment"
    }
   },
   "source": [
    "Lots of work! Make the compiler do it!"
   ]
  },
  {
   "cell_type": "code",
   "execution_count": 23,
   "id": "641b844b",
   "metadata": {
    "cell_style": "split",
    "slideshow": {
     "slide_type": "-"
    }
   },
   "outputs": [
    {
     "ename": "Error",
     "evalue": "binary operation `>` cannot be applied to type `T`",
     "output_type": "error",
     "traceback": [
      "        if x > y {x} else {y}",
      "\u001b[91m           ^\u001b[0m \u001b[94mT\u001b[0m",
      "        if x > y {x} else {y}",
      "\u001b[91m               ^\u001b[0m \u001b[94mT\u001b[0m",
      "        if x > y {x} else {y}",
      "\u001b[91m             ^\u001b[0m \u001b[94m\u001b[0m",
      "binary operation `>` cannot be applied to type `T`",
      "\u001b[1mhelp\u001b[0m: consider restricting type parameter `T`\n\n: std::cmp::PartialOrd"
     ]
    }
   ],
   "source": [
    "fn max<T>(x:T,y:T) -> T {\n",
    "        if x > y {x} else {y}\n",
    "}"
   ]
  },
  {
   "cell_type": "code",
   "execution_count": 24,
   "id": "f0eb0679",
   "metadata": {
    "cell_style": "split",
    "slideshow": {
     "slide_type": "fragment"
    }
   },
   "outputs": [
    {
     "name": "stdout",
     "output_type": "stream",
     "text": [
      "8\n",
      "8.1\n",
      "b\n"
     ]
    }
   ],
   "source": [
    "// add info that elements of T are comparable\n",
    "fn max<T:PartialOrd>(x:T,y:T) -> T {\n",
    "        if x > y {x} else {y}\n",
    "}\n",
    "\n",
    "println!(\"{}\",max(3,8));\n",
    "println!(\"{}\",max(3.3,8.1));\n",
    "println!(\"{}\",max('a','b'));"
   ]
  },
  {
   "cell_type": "markdown",
   "id": "05e087c6",
   "metadata": {
    "slideshow": {
     "slide_type": "subslide"
    }
   },
   "source": [
    "## Generics / Generic data types\n",
    "In other programming languages:<br>\n",
    "&nbsp;&nbsp;&nbsp;&nbsp;$\\bullet$ C++: templates<br>\n",
    "&nbsp;&nbsp;&nbsp;&nbsp;$\\bullet$ Java: generics<br>\n",
    "&nbsp;&nbsp;&nbsp;&nbsp;$\\bullet$ Go: generics<br>\n",
    "&nbsp;&nbsp;&nbsp;&nbsp;$\\bullet$ ML, Haskell: parametric polymorphism"
   ]
  },
  {
   "cell_type": "markdown",
   "id": "65a7d6b8",
   "metadata": {
    "cell_style": "center",
    "slideshow": {
     "slide_type": "fragment"
    }
   },
   "source": [
    "**Earlier this week:**\n",
    "<div align=\"center\">\n",
    "    <img src=\"go_generics.png\" alt=\"[headline screenshot]\" width=\"60%\">\n",
    "</div>\n",
    "    "
   ]
  },
  {
   "cell_type": "markdown",
   "id": "c8d50e43",
   "metadata": {
    "slideshow": {
     "slide_type": "slide"
    }
   },
   "source": [
    "## Use with data types"
   ]
  },
  {
   "cell_type": "code",
   "execution_count": 25,
   "id": "a3d22a07",
   "metadata": {
    "cell_style": "split"
   },
   "outputs": [],
   "source": [
    "#[derive(Debug)]\n",
    "struct Point<T> {\n",
    "    x: T,\n",
    "    y: T,\n",
    "}"
   ]
  },
  {
   "cell_type": "code",
   "execution_count": 26,
   "id": "cb11a0d5",
   "metadata": {
    "cell_style": "split",
    "slideshow": {
     "slide_type": "fragment"
    }
   },
   "outputs": [
    {
     "name": "stdout",
     "output_type": "stream",
     "text": [
      "Point { x: 2, y: 3 }\n",
      "Point { x: 4.2, y: 3.1 }\n"
     ]
    }
   ],
   "source": [
    "let point_int = Point {x: 2, y: 3};\n",
    "println!(\"{:?}\", point_int);\n",
    "\n",
    "let point_float = Point {x: 4.2, y: 3.1};\n",
    "println!(\"{:?}\", point_float);\n"
   ]
  },
  {
   "cell_type": "markdown",
   "id": "92e03094",
   "metadata": {
    "slideshow": {
     "slide_type": "fragment"
    }
   },
   "source": [
    "Functions and methods for generic data types"
   ]
  },
  {
   "cell_type": "code",
   "execution_count": 27,
   "id": "f77b9356",
   "metadata": {
    "cell_style": "split"
   },
   "outputs": [],
   "source": [
    "impl<T> Point<T> {\n",
    "    fn create(x:T,y:T) -> Point<T> {\n",
    "        Point{x,y}\n",
    "    }\n",
    "}"
   ]
  },
  {
   "cell_type": "code",
   "execution_count": 28,
   "id": "8d926f7d",
   "metadata": {
    "cell_style": "split",
    "slideshow": {
     "slide_type": "fragment"
    }
   },
   "outputs": [],
   "source": [
    "let point = Point::create('a','b');\n",
    "let point2 = Point::<char>::create('c','d');\n",
    "let point3 : Point<char> = Point::create('c','d');\n"
   ]
  },
  {
   "cell_type": "markdown",
   "id": "7833ce75",
   "metadata": {
    "slideshow": {
     "slide_type": "subslide"
    }
   },
   "source": [
    "## Use with data types"
   ]
  },
  {
   "cell_type": "markdown",
   "id": "de52f735",
   "metadata": {},
   "source": [
    "Implementing a method"
   ]
  },
  {
   "cell_type": "code",
   "execution_count": 29,
   "id": "fba3701b",
   "metadata": {
    "cell_style": "split"
   },
   "outputs": [],
   "source": [
    "impl<T:Copy> Point<T> {\n",
    "    fn swap(&mut self) {\n",
    "        let z = self.x;\n",
    "        self.x = self.y;\n",
    "        self.y = z;\n",
    "    }\n",
    "}"
   ]
  },
  {
   "cell_type": "code",
   "execution_count": 30,
   "id": "dbc20293",
   "metadata": {
    "cell_style": "split",
    "slideshow": {
     "slide_type": "fragment"
    }
   },
   "outputs": [
    {
     "name": "stdout",
     "output_type": "stream",
     "text": [
      "Point { x: 2, y: 3 }\n",
      "Point { x: 3, y: 2 }\n"
     ]
    }
   ],
   "source": [
    "let mut point = Point::create(2,3);\n",
    "println!(\"{:?}\",point);\n",
    "point.swap();\n",
    "println!(\"{:?}\",point);\n"
   ]
  },
  {
   "cell_type": "markdown",
   "id": "0f3d9384",
   "metadata": {
    "slideshow": {
     "slide_type": "subslide"
    }
   },
   "source": [
    "## Use with data types"
   ]
  },
  {
   "cell_type": "markdown",
   "id": "1f3342ab",
   "metadata": {},
   "source": [
    "Specialized versions for different types"
   ]
  },
  {
   "cell_type": "code",
   "execution_count": 31,
   "id": "9e18ef15",
   "metadata": {
    "cell_style": "split"
   },
   "outputs": [],
   "source": [
    "impl Point<i32> {\n",
    "    fn do_you_use_f64(&self) -> bool {\n",
    "        false\n",
    "    }\n",
    "}"
   ]
  },
  {
   "cell_type": "code",
   "execution_count": 32,
   "id": "17524372",
   "metadata": {
    "cell_style": "split"
   },
   "outputs": [],
   "source": [
    "impl Point<f64> {\n",
    "    fn do_you_use_f64(&self) -> bool {\n",
    "        true\n",
    "    }\n",
    "}\n"
   ]
  },
  {
   "cell_type": "code",
   "execution_count": 33,
   "id": "6b330d3d",
   "metadata": {
    "cell_style": "split",
    "slideshow": {
     "slide_type": "fragment"
    }
   },
   "outputs": [
    {
     "data": {
      "text/plain": [
       "false"
      ]
     },
     "execution_count": 33,
     "metadata": {},
     "output_type": "execute_result"
    }
   ],
   "source": [
    "let p_i32 = Point::create(2,3);\n",
    "p_i32.do_you_use_f64()"
   ]
  },
  {
   "cell_type": "code",
   "execution_count": 34,
   "id": "cad5df2a",
   "metadata": {
    "cell_style": "split",
    "slideshow": {
     "slide_type": "fragment"
    }
   },
   "outputs": [
    {
     "data": {
      "text/plain": [
       "true"
      ]
     },
     "execution_count": 34,
     "metadata": {},
     "output_type": "execute_result"
    }
   ],
   "source": [
    "let p_f64 = Point::create(2.1,3.1);\n",
    "p_f64.do_you_use_f64()"
   ]
  },
  {
   "cell_type": "markdown",
   "id": "a9aec4c5",
   "metadata": {},
   "source": [
    "## Read chapter 10"
   ]
  },
  {
   "cell_type": "code",
   "execution_count": null,
   "id": "1dd18c18",
   "metadata": {},
   "outputs": [],
   "source": []
  }
 ],
 "metadata": {
  "celltoolbar": "Slideshow",
  "kernelspec": {
   "display_name": "Rust",
   "language": "rust",
   "name": "rust"
  },
  "language_info": {
   "codemirror_mode": "rust",
   "file_extension": ".rs",
   "mimetype": "text/rust",
   "name": "Rust",
   "pygment_lexer": "rust",
   "version": ""
  },
  "rise": {
   "theme": "beige",
   "transition": "fade"
  }
 },
 "nbformat": 4,
 "nbformat_minor": 5
}
