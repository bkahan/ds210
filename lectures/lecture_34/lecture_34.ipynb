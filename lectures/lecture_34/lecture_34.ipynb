{
 "cells": [
  {
   "cell_type": "markdown",
   "id": "cf7f87e3",
   "metadata": {
    "slideshow": {
     "slide_type": "slide"
    }
   },
   "source": [
    "<div align=\"center\">\n",
    "    <h1>DS-210: Programming for Data Science</h1>\n",
    "    <h1>Lecture 34</h1>\n",
    "</div>\n",
    "\n",
    "# 1. Error handling in Rust\n",
    "# 2. Algorithm design: dynamic programming \n"
   ]
  },
  {
   "cell_type": "markdown",
   "id": "3821ef7a",
   "metadata": {
    "slideshow": {
     "slide_type": "slide"
    }
   },
   "source": [
    "# <font color=\"red\">1. Error handling in Rust</font>\n",
    "# 2. Algorithm design: dynamic programming \n"
   ]
  },
  {
   "cell_type": "markdown",
   "id": "5e174edb",
   "metadata": {
    "slideshow": {
     "slide_type": "slide"
    }
   },
   "source": [
    "## Error handling in Rust\n",
    "\n",
    "Two basic options:\n",
    "\n",
    "* terminate when an error occurs: macro `panic!(...)`\n",
    "\n",
    "* pass information about an error: enum `Result<T,E>`"
   ]
  },
  {
   "cell_type": "markdown",
   "id": "f87cdda8",
   "metadata": {
    "slideshow": {
     "slide_type": "subslide"
    }
   },
   "source": [
    "## Macro `panic!(...)`\n",
    "\n",
    "* Use for unrecoverable errors\n",
    "* Terminates the application"
   ]
  },
  {
   "cell_type": "code",
   "execution_count": 2,
   "id": "1bdff7e7",
   "metadata": {
    "slideshow": {
     "slide_type": "fragment"
    }
   },
   "outputs": [],
   "source": [
    "fn divide(a:u32, b:u32) -> u32 {\n",
    "    if b == 0 {\n",
    "        panic!(\"I'm sorry, Dave. I'm afraid I can't do that.\");\n",
    "    }\n",
    "    a/b\n",
    "}"
   ]
  },
  {
   "cell_type": "code",
   "execution_count": 3,
   "id": "53393c9f",
   "metadata": {
    "cell_style": "split",
    "slideshow": {
     "slide_type": "fragment"
    }
   },
   "outputs": [
    {
     "data": {
      "text/plain": [
       "2"
      ]
     },
     "execution_count": 3,
     "metadata": {},
     "output_type": "execute_result"
    }
   ],
   "source": [
    "divide(20,7)"
   ]
  },
  {
   "cell_type": "code",
   "execution_count": 4,
   "id": "ba46324b",
   "metadata": {
    "cell_style": "split",
    "slideshow": {
     "slide_type": "fragment"
    }
   },
   "outputs": [
    {
     "name": "stderr",
     "output_type": "stream",
     "text": [
      "thread '<unnamed>' panicked at 'I'm sorry, Dave. I'm afraid I can't do that.', src/lib.rs:4:9\n",
      "stack backtrace:\n",
      "   0: _rust_begin_unwind\n",
      "   1: core::panicking::panic_fmt\n",
      "   2: _run_user_code_3\n",
      "   3: evcxr::runtime::Runtime::run_loop\n",
      "   4: evcxr::runtime::runtime_hook\n",
      "   5: evcxr_jupyter::main\n",
      "note: Some details are omitted, run with `RUST_BACKTRACE=full` for a verbose backtrace.\n"
     ]
    },
    {
     "ename": "Error",
     "evalue": "Subprocess terminated with status: exit status: 101",
     "output_type": "error",
     "traceback": [
      "Subprocess terminated with status: exit status: 101"
     ]
    }
   ],
   "source": [
    "divide(20,0)"
   ]
  },
  {
   "cell_type": "markdown",
   "id": "2826eede",
   "metadata": {
    "slideshow": {
     "slide_type": "subslide"
    }
   },
   "source": [
    "## Enum `Result<T,E>`"
   ]
  },
  {
   "cell_type": "markdown",
   "id": "bf986700",
   "metadata": {
    "cell_style": "split",
    "slideshow": {
     "slide_type": ""
    }
   },
   "source": [
    "```rust\n",
    "enum Result<T,E> {\n",
    "    Ok(T),\n",
    "    Err(E),\n",
    "}\n",
    "```"
   ]
  },
  {
   "cell_type": "markdown",
   "id": "6065e1de",
   "metadata": {
    "cell_style": "split",
    "slideshow": {
     "slide_type": ""
    }
   },
   "source": [
    "Functions can use it to\n",
    "* return a result\n",
    "* or information about an encountered error"
   ]
  },
  {
   "cell_type": "code",
   "execution_count": 7,
   "id": "030932f5",
   "metadata": {
    "slideshow": {
     "slide_type": "fragment"
    }
   },
   "outputs": [],
   "source": [
    "fn divide(a:u32, b:u32) -> Result<u32, String> {\n",
    "    if b != 0 {\n",
    "        Ok(a / b)\n",
    "    } else {\n",
    "        let str = format!(\"Division by zero {} {}\", a, b);\n",
    "        Err(str)\n",
    "    }\n",
    "}"
   ]
  },
  {
   "cell_type": "code",
   "execution_count": 8,
   "id": "d8b6eb95",
   "metadata": {
    "cell_style": "split",
    "slideshow": {
     "slide_type": "fragment"
    }
   },
   "outputs": [
    {
     "data": {
      "text/plain": [
       "Ok(2)"
      ]
     },
     "execution_count": 8,
     "metadata": {},
     "output_type": "execute_result"
    }
   ],
   "source": [
    "divide(20,7)"
   ]
  },
  {
   "cell_type": "code",
   "execution_count": 9,
   "id": "d10d0f8d",
   "metadata": {
    "cell_style": "split"
   },
   "outputs": [
    {
     "data": {
      "text/plain": [
       "Err(\"Division by zero 20 0\")"
      ]
     },
     "execution_count": 9,
     "metadata": {},
     "output_type": "execute_result"
    }
   ],
   "source": [
    "divide(20,0)"
   ]
  },
  {
   "cell_type": "markdown",
   "id": "f3e26027",
   "metadata": {
    "slideshow": {
     "slide_type": "fragment"
    }
   },
   "source": [
    "* Useful when the error best handled somewhere else\n",
    "* **Example:** input/output subroutines in the standard library"
   ]
  },
  {
   "cell_type": "markdown",
   "id": "64880229",
   "metadata": {
    "slideshow": {
     "slide_type": "slide"
    }
   },
   "source": [
    "## Common pattern: propagating errors\n",
    "\n",
    "* We are interested in the positive outcome: `t` in `Ok(t)`\n",
    "* But if an error occurs, we want to propagate it\n",
    "* This can be handled using `match` statements"
   ]
  },
  {
   "cell_type": "code",
   "execution_count": 11,
   "id": "d6cc2db6",
   "metadata": {},
   "outputs": [],
   "source": [
    "// compute a/b + c/d\n",
    "fn calculate(a:u32, b:u32, c:u32, d:u32) -> Result<u32, String> {\n",
    "    let first = match divide(a,b) {\n",
    "        Ok(t) => t,\n",
    "        Err(e) => return Err(e),\n",
    "    };\n",
    "    let second = match divide(c,d) {\n",
    "        Ok(t) => t,\n",
    "        Err(e) => return Err(e),\n",
    "    };    \n",
    "    Ok(first + second)\n",
    "}\n"
   ]
  },
  {
   "cell_type": "code",
   "execution_count": 12,
   "id": "231f7792",
   "metadata": {
    "cell_style": "split",
    "slideshow": {
     "slide_type": "fragment"
    }
   },
   "outputs": [
    {
     "data": {
      "text/plain": [
       "Ok(10)"
      ]
     },
     "execution_count": 12,
     "metadata": {},
     "output_type": "execute_result"
    }
   ],
   "source": [
    "calculate(16,4,18,3)"
   ]
  },
  {
   "cell_type": "code",
   "execution_count": 13,
   "id": "9f05e946",
   "metadata": {
    "cell_style": "split"
   },
   "outputs": [
    {
     "data": {
      "text/plain": [
       "Err(\"Division by zero 16 0\")"
      ]
     },
     "execution_count": 13,
     "metadata": {},
     "output_type": "execute_result"
    }
   ],
   "source": [
    "calculate(16,0,18,3)"
   ]
  },
  {
   "cell_type": "markdown",
   "id": "5a386c9a",
   "metadata": {
    "slideshow": {
     "slide_type": "subslide"
    }
   },
   "source": [
    "## The question mark shortcut\n",
    "\n",
    "* Place `?` after an expression that returns `Result<T,E>`\n",
    "\n",
    "* This will:\n",
    "  * give the content of `Ok(t)`\n",
    "  * or return `Err(e)` from the encompassing function"
   ]
  },
  {
   "cell_type": "code",
   "execution_count": 14,
   "id": "087d4e4c",
   "metadata": {
    "slideshow": {
     "slide_type": "fragment"
    }
   },
   "outputs": [],
   "source": [
    "// compute a/b + c/d\n",
    "fn calculate(a:u32, b:u32, c:u32, d:u32) -> Result<u32, String> {\n",
    "    Ok(divide(a,b)? + divide(c,d)?)\n",
    "}"
   ]
  },
  {
   "cell_type": "code",
   "execution_count": 15,
   "id": "9aaa0f32",
   "metadata": {
    "cell_style": "split",
    "slideshow": {
     "slide_type": "fragment"
    }
   },
   "outputs": [
    {
     "data": {
      "text/plain": [
       "Ok(10)"
      ]
     },
     "execution_count": 15,
     "metadata": {},
     "output_type": "execute_result"
    }
   ],
   "source": [
    "calculate(16,4,18,3)"
   ]
  },
  {
   "cell_type": "code",
   "execution_count": 16,
   "id": "12cb304d",
   "metadata": {
    "cell_style": "split"
   },
   "outputs": [
    {
     "data": {
      "text/plain": [
       "Err(\"Division by zero 16 0\")"
      ]
     },
     "execution_count": 16,
     "metadata": {},
     "output_type": "execute_result"
    }
   ],
   "source": [
    "calculate(16,0,18,3)"
   ]
  },
  {
   "cell_type": "markdown",
   "id": "19b2254b",
   "metadata": {},
   "source": [
    "### Error handling summary\n",
    "\n",
    "* In some languages we have the pattern try/catch or throw/catch or try/except (C++, Java, Javascript, Python).\n",
    "* Rust does not have something equivalent\n",
    "\n",
    "The Rust pattern for error handling is the following:\n",
    "```\n",
    "    let do_steps = || -> Result<(), MyError> {\n",
    "        do_step_1()?;\n",
    "        do_step_2()?;\n",
    "        do_step_3()?;\n",
    "        Ok(())\n",
    "    };\n",
    "\n",
    "    if let Err(_err) = do_steps() {\n",
    "        println!(\"Failed to perform necessary steps\");\n",
    "    }\n",
    "```\n",
    "\n",
    "* Create a closure with the code you want to guard.  Use the ? shorthand inside the closure for anything that can return an Error.  Use a match or if let statement to catch the error."
   ]
  },
  {
   "cell_type": "markdown",
   "id": "27b09bb1",
   "metadata": {
    "slideshow": {
     "slide_type": "slide"
    }
   },
   "source": [
    "# 1. Error handling in Rust\n",
    "# <font color=\"red\">2. Algorithm design: dynamic programming</font>\n"
   ]
  },
  {
   "cell_type": "markdown",
   "id": "4ed77916",
   "metadata": {
    "slideshow": {
     "slide_type": "slide"
    }
   },
   "source": [
    "## Big picture: rest of this lecture and next\n",
    "\n",
    "Review a few approaches to algorithm design:\n",
    "\n",
    "* dynamic programming\n",
    "\n",
    "* greedy approach\n",
    "\n",
    "* divide and conquer"
   ]
  },
  {
   "cell_type": "markdown",
   "id": "3fd24adb",
   "metadata": {
    "slideshow": {
     "slide_type": "slide"
    }
   },
   "source": [
    "## Homework 9: Best decision tree for a classification problem\n",
    "\n",
    "**Input:** set of $n$ labelled points $(x_i, z_i)$, where $x_i \\in \\mathbb R$ and $z_i \\in \\{0,1\\}$\n",
    "\n",
    "**Goal:** find decision tree with $L$ leaves and highest accuracy on the input set"
   ]
  },
  {
   "cell_type": "markdown",
   "id": "90246360",
   "metadata": {
    "slideshow": {
     "slide_type": "slide"
    }
   },
   "source": [
    "## Homework 9 restriction: $L=2$\n",
    "\n",
    "<div align=\"center\">\n",
    "    <b>How to solve it?</b>\n",
    "</div>"
   ]
  },
  {
   "cell_type": "markdown",
   "id": "3823b1ed",
   "metadata": {
    "slideshow": {
     "slide_type": "fragment"
    }
   },
   "source": [
    "**Two–leaf decision tree:** if $x < T$, output $\\alpha$, else output $(1-\\alpha)$"
   ]
  },
  {
   "cell_type": "markdown",
   "id": "ce4d187c",
   "metadata": {
    "slideshow": {
     "slide_type": "fragment"
    }
   },
   "source": [
    "**Two parameters:** $T$ and $\\alpha$\n",
    "  * suffices to try $T = x_i$ for all $x_i$'s and $\\alpha \\in \\{0,1\\}$\n",
    "  * at most $2n$ options"
   ]
  },
  {
   "cell_type": "markdown",
   "id": "348cc89f",
   "metadata": {
    "slideshow": {
     "slide_type": "fragment"
    }
   },
   "source": [
    "**Algorithms:**\n",
    "* **Simple:** evaluate accuracy for each $T$ and $\\alpha$ ${}\\Rightarrow{}$ $O(n^2)$ time\n",
    "* **More sophisticated:** sort points, move the threshold for each $\\alpha$ updating accuracies ${}\\Rightarrow{}$ $O(n \\log n)$ time"
   ]
  },
  {
   "cell_type": "markdown",
   "id": "aff8ae3f",
   "metadata": {
    "slideshow": {
     "slide_type": "slide"
    }
   },
   "source": [
    "## General $L$"
   ]
  },
  {
   "cell_type": "markdown",
   "id": "eef69898",
   "metadata": {
    "slideshow": {
     "slide_type": "fragment"
    }
   },
   "source": [
    "**How do decision trees with at most $L$ leaves partition the line?**"
   ]
  },
  {
   "cell_type": "markdown",
   "id": "62ad9dc6",
   "metadata": {
    "slideshow": {
     "slide_type": "fragment"
    }
   },
   "source": [
    "* at most $L$ line segments: prediction fixed to $0$ or $1$ for each\n",
    "\n",
    "* $\\binom{n}{L-1} = O\\left(n^{L-1}\\right)$ thresholds configurations to consider\n",
    "\n",
    "* test each: $O\\left(n^L\\right)$–time algorithm"
   ]
  },
  {
   "cell_type": "markdown",
   "id": "60f59d6b",
   "metadata": {
    "slideshow": {
     "slide_type": "fragment"
    }
   },
   "source": [
    "<div align=\"center\">\n",
    "    <h2>Our goal: much faster algorithm</h2>\n",
    "</div>"
   ]
  },
  {
   "cell_type": "markdown",
   "id": "b863b5f2",
   "metadata": {
    "slideshow": {
     "slide_type": "slide"
    }
   },
   "source": [
    "## Define subproblems\n",
    "\n",
    "**Simplifying assumption:** $x_1 < x_2 < \\ldots < x_n$"
   ]
  },
  {
   "cell_type": "markdown",
   "id": "1f994d2a",
   "metadata": {
    "slideshow": {
     "slide_type": "fragment"
    }
   },
   "source": [
    "$M[l,k] ={}$the minimum number of mistakes, when classifying the first $k$ points, using $l$ ranges\n",
    " * $l \\in \\{1,\\ldots,L\\}$\n",
    " * $k \\in \\{1,\\ldots,n\\}$"
   ]
  },
  {
   "cell_type": "markdown",
   "id": "120fb122",
   "metadata": {
    "slideshow": {
     "slide_type": "fragment"
    }
   },
   "source": [
    "$M[L,n]$ will give the best accuracy"
   ]
  },
  {
   "cell_type": "markdown",
   "id": "d7fdfb7b",
   "metadata": {
    "slideshow": {
     "slide_type": "subslide"
    }
   },
   "source": [
    "## How to compute $M[l,k]$?\n",
    "$M[l,k] ={}$the minimum number of mistakes, when classifying the first $k$ points, using $l$ ranges\n",
    " * $l \\in \\{1,\\ldots,L\\}$\n",
    " * $k \\in \\{1,\\ldots,n\\}$"
   ]
  },
  {
   "cell_type": "markdown",
   "id": "19f6aa7b",
   "metadata": {
    "cell_style": "split",
    "slideshow": {
     "slide_type": "fragment"
    }
   },
   "source": [
    "### One label predictions on $\\{x_k: i \\le k \\le j\\}$\n",
    "\n",
    "* Define $S[i,j] = {}$number of mispredictions for one label classifiers on this set which is all the numbers between locations $i$ and $j$.\n",
    "\n",
    "* $S[i,j]$ minimum of the numbers of $0$ and $1$ labels on this set\n",
    "\n",
    "\n",
    "\n"
   ]
  },
  {
   "cell_type": "markdown",
   "id": "c4c5dfe9",
   "metadata": {
    "cell_style": "split",
    "slideshow": {
     "slide_type": "fragment"
    }
   },
   "source": [
    "### Compute $M[1,k]$ for all $k$\n",
    "  * $M[1,k] \\leftarrow S[1,k]$\n",
    "  * $O(n)$ time overall"
   ]
  },
  {
   "cell_type": "markdown",
   "id": "369dbeae",
   "metadata": {
    "slideshow": {
     "slide_type": "subslide"
    }
   },
   "source": [
    "## How to compute $M[l,k]$?\n",
    "$M[l,k] ={}$the minimum number of mistakes, when classifying the first $k$ points, using at most $l$ ranges\n",
    " * $l \\in \\{1,\\ldots,L\\}$\n",
    " * $k \\in \\{1,\\ldots,n\\}$\n",
    "\n",
    "$S[i,j] = {}$the minimum number of mistakes, when classifying points $\\{x_k: i \\le k \\le j\\}$ with one range"
   ]
  },
  {
   "cell_type": "markdown",
   "id": "5a446153",
   "metadata": {
    "slideshow": {
     "slide_type": "fragment"
    }
   },
   "source": [
    "### Compute $M[l,k]$ for $l\\ge 2$ and  all $k$\n",
    "\n",
    "  $$For\\ k\\ in\\ (1,\\ldots,n)\\ \\ M[2,k] \\leftarrow \\min_{i=\\{1,\\ldots,k\\}}\\left(M[1,i] + S[i+1,k]\\right)$$\n",
    "  $$\\vdots$$\n",
    "  $$\\vdots$$\n",
    "  $$For\\ k\\ in\\ (1,\\ldots,n)\\ \\ M[l,k] \\leftarrow \\min_{i=\\{1,\\ldots,k\\}}\\left(M[l-1,i] + S[i+1,k]\\right)$$\n"
   ]
  },
  {
   "cell_type": "markdown",
   "id": "d708ff7b",
   "metadata": {
    "slideshow": {
     "slide_type": "slide"
    }
   },
   "source": [
    "## Time complexity?"
   ]
  },
  {
   "cell_type": "markdown",
   "id": "befcd416",
   "metadata": {
    "slideshow": {
     "slide_type": "fragment"
    }
   },
   "source": [
    "* Computing $S[i,j]$ for all $i$ and $j$: $O(n^2)$"
   ]
  },
  {
   "cell_type": "markdown",
   "id": "6cccc55d",
   "metadata": {
    "slideshow": {
     "slide_type": "fragment"
    }
   },
   "source": [
    "* Computing $M[l+1,i]$ for all $i$ from $M[l,i]$: $O(n^2)$"
   ]
  },
  {
   "cell_type": "markdown",
   "id": "6e493a58",
   "metadata": {
    "slideshow": {
     "slide_type": "fragment"
    }
   },
   "source": [
    "* Total running time: $O(L) \\cdot O(n^2) = O(Ln^2)$\n",
    "\n",
    "* Much better than the more straightforward $O(n^L)$"
   ]
  },
  {
   "cell_type": "markdown",
   "id": "f5a25a48",
   "metadata": {
    "cell_style": "center",
    "slideshow": {
     "slide_type": "subslide"
    }
   },
   "source": [
    "## Reconstructing the solution\n",
    "\n",
    "* This gives us $M[L,n]={}$the minimum number of mistakes overall\n",
    "* How to get the best solution, not just the best cost?"
   ]
  },
  {
   "cell_type": "markdown",
   "id": "4b981792",
   "metadata": {
    "slideshow": {
     "slide_type": "fragment"
    }
   },
   "source": [
    "Iteratively:\n",
    "* Start from $M[L,n]$\n",
    "* Find $i$ the best $M[L-1,i] + S[i + 1, n]$\n",
    "* Label $\\{x_{i+1},\\ldots,x_n\\}$ with the better of $0$ and $1$\n",
    "* Continue with $M[L-1,i]$\n",
    "* ..."
   ]
  },
  {
   "cell_type": "markdown",
   "id": "077da128",
   "metadata": {
    "slideshow": {
     "slide_type": "slide"
    }
   },
   "source": [
    "## Dynamic programming in general\n",
    "\n",
    "* Define a small number of subproblems that are\n",
    "  * sufficient to solve the general problem\n",
    "  * helpful to solve each other"
   ]
  },
  {
   "cell_type": "markdown",
   "id": "bdc87379",
   "metadata": {
    "slideshow": {
     "slide_type": "fragment"
    }
   },
   "source": [
    "**The most classic example:** edit distance\n",
    "  * minimum number of edits to turn one string into another\n",
    "  * edits: deletions, insertions, substitutions\n",
    "  * correcting spelling mistakes: how far are two words?\n",
    "\n",
    "**Can you solve it?**\n",
    "\n",
    "https://www.geeksforgeeks.org/edit-distance-dp-5/"
   ]
  },
  {
   "cell_type": "code",
   "execution_count": 18,
   "id": "0b8acd2a",
   "metadata": {},
   "outputs": [
    {
     "name": "stdout",
     "output_type": "stream",
     "text": [
      "Distance between THis is a cat and This is a corgie is 6\n"
     ]
    }
   ],
   "source": [
    "fn edit_distance(str1: &Vec<char>, str2: &Vec<char>) -> usize {\n",
    "    let m: usize = str1.len();\n",
    "    let n: usize = str2.len();\n",
    "\n",
    "    let mut dp: Vec<Vec<usize>> = vec![vec![0; n + 1]; m + 1];\n",
    "    for i in 0..=m {\n",
    "        for j in 0..=n {\n",
    "            if i == 0 {\n",
    "                dp[i][j] = j;\n",
    "            } else if j == 0 {\n",
    "                dp[i][j] = i;\n",
    "            } else if str1[i - 1] == str2[j - 1] {\n",
    "                dp[i][j] = dp[i - 1][j - 1];\n",
    "            } else {\n",
    "                let x = std::cmp::min(dp[i][j - 1], dp[i - 1][j]);\n",
    "                let y = std::cmp::min(x, dp[i - 1][j - 1]);\n",
    "                dp[i][j] = 1 + y;\n",
    "            }\n",
    "        }\n",
    "    }\n",
    "\n",
    "    return dp[m][n];\n",
    "}\n",
    "\n",
    "let str1 = \"THis is a cat\";\n",
    "let str2 = \"This is a corgie\";\n",
    "let v1: Vec<char> = str1.chars().collect();\n",
    "let v2: Vec<char> = str2.chars().collect();\n",
    "let dist = edit_distance(&v1, &v2);\n",
    "println!(\"Distance between {} and {} is {}\", str1, str2, dist);\n"
   ]
  },
  {
   "cell_type": "code",
   "execution_count": null,
   "id": "f32a6d62",
   "metadata": {},
   "outputs": [],
   "source": []
  }
 ],
 "metadata": {
  "celltoolbar": "Slideshow",
  "kernelspec": {
   "display_name": "Rust",
   "language": "rust",
   "name": "rust"
  },
  "language_info": {
   "codemirror_mode": "rust",
   "file_extension": ".rs",
   "mimetype": "text/rust",
   "name": "Rust",
   "pygment_lexer": "rust",
   "version": ""
  },
  "rise": {
   "theme": "beige",
   "transition": "fade"
  }
 },
 "nbformat": 4,
 "nbformat_minor": 5
}
