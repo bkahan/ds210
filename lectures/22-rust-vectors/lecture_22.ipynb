{
 "cells": [
  {
   "cell_type": "markdown",
   "id": "cf7f87e3",
   "metadata": {
    "slideshow": {
     "slide_type": "slide"
    }
   },
   "source": [
    "<div align=\"center\">\n",
    "    <h1>DS-210: Programming for Data Science</h1>\n",
    "    <h1>Lecture 22</h1>\n",
    "</div>\n",
    "\n",
    "# 1. Collections\n",
    "# 2. Vectors\n",
    "# 3. Tests"
   ]
  },
  {
   "cell_type": "markdown",
   "id": "56d38255",
   "metadata": {
    "slideshow": {
     "slide_type": "slide"
    }
   },
   "source": [
    "# <font color=\"red\">1. Collections</font>\n"
   ]
  },
  {
   "cell_type": "markdown",
   "id": "0b2c04e8",
   "metadata": {
    "slideshow": {
     "slide_type": "slide"
    }
   },
   "source": [
    "## Collections\n",
    "\n",
    "**Examples:** lists/vectors, hash tables, stack, queue, balanced binary search trees"
   ]
  },
  {
   "cell_type": "markdown",
   "id": "a064e478",
   "metadata": {
    "cell_style": "split",
    "slideshow": {
     "slide_type": "fragment"
    }
   },
   "source": [
    "### Why useful\n",
    "\n",
    "* Storing multiple items, number unknown in advance\n",
    "\n",
    "* Also the primary reason why generics exist: collections that work for different types of items"
   ]
  },
  {
   "cell_type": "markdown",
   "id": "5fcb0c24",
   "metadata": {
    "cell_style": "split",
    "slideshow": {
     "slide_type": "fragment"
    }
   },
   "source": [
    "### Badly kept secret\n",
    "\n",
    "* Most tasks: little memory management needed\n",
    "* Collections will do all the work for you\n",
    "* Caveat:\n",
    "  - don't copy large amount of memory\n",
    "  - use references"
   ]
  },
  {
   "cell_type": "markdown",
   "id": "b1b69480",
   "metadata": {
    "slideshow": {
     "slide_type": "fragment"
    }
   },
   "source": [
    "### Collection selection\n",
    "* Driven by efficiency and access needs"
   ]
  },
  {
   "cell_type": "markdown",
   "id": "84729e72",
   "metadata": {
    "cell_style": "center",
    "slideshow": {
     "slide_type": "slide"
    }
   },
   "source": [
    "# <font color=\"red\">2. Vectors</font>"
   ]
  },
  {
   "cell_type": "markdown",
   "id": "64012152",
   "metadata": {
    "slideshow": {
     "slide_type": "slide"
    }
   },
   "source": [
    "## Vectors\n",
    "\n",
    "Extandable and shrinkable array of items:\n",
    "* Python: list\n",
    "* C++: vector\n",
    "* Rust: vector\n",
    "* Also numpy.resize() but not numpy.reshape()."
   ]
  },
  {
   "cell_type": "markdown",
   "id": "b05129b1",
   "metadata": {},
   "source": [
    "**Type:** `Vec<T>` stores a collection of values of type `T`"
   ]
  },
  {
   "cell_type": "markdown",
   "id": "f4de8f27",
   "metadata": {
    "slideshow": {
     "slide_type": "subslide"
    }
   },
   "source": [
    "## Creating vectors via macro `vec![...]`"
   ]
  },
  {
   "cell_type": "code",
   "execution_count": 2,
   "id": "79a2baaa",
   "metadata": {
    "cell_style": "split"
   },
   "outputs": [
    {
     "data": {
      "text/plain": [
       "[2, 3, 5, 7, 11]"
      ]
     },
     "execution_count": 2,
     "metadata": {},
     "output_type": "execute_result"
    }
   ],
   "source": [
    "// useful macro: vec![...]\n",
    "// syntax similar to array\n",
    "\n",
    "let small_primes = vec![2,3,5,7,11];\n",
    "small_primes"
   ]
  },
  {
   "cell_type": "code",
   "execution_count": 3,
   "id": "17471ebc",
   "metadata": {
    "slideshow": {
     "slide_type": "fragment"
    }
   },
   "outputs": [
    {
     "data": {
      "text/plain": [
       "[0, 0, 0, 0, 0, 0, 0, 0, 0, 0]"
      ]
     },
     "execution_count": 3,
     "metadata": {},
     "output_type": "execute_result"
    }
   ],
   "source": [
    "// specifc length filled with a given value\n",
    "let zeros = vec![0;10];\n",
    "zeros"
   ]
  },
  {
   "cell_type": "code",
   "execution_count": 4,
   "id": "8971ade3",
   "metadata": {
    "slideshow": {
     "slide_type": "fragment"
    }
   },
   "outputs": [
    {
     "data": {
      "text/plain": [
       "[1, 1, 1, 1, 1, 1, 1, 1, 1, 1, 1, 1, 1]"
      ]
     },
     "execution_count": 4,
     "metadata": {},
     "output_type": "execute_result"
    }
   ],
   "source": [
    "// size doesn't have to be known in advance\n",
    "fn get_ones(how_many:usize) -> Vec<i32> {\n",
    "    vec![1;how_many]\n",
    "}\n",
    "\n",
    "let ones = get_ones(13);\n",
    "ones"
   ]
  },
  {
   "cell_type": "markdown",
   "id": "e8639b1c",
   "metadata": {
    "slideshow": {
     "slide_type": "subslide"
    }
   },
   "source": [
    "## Creating empty via the `new` constructor"
   ]
  },
  {
   "cell_type": "code",
   "execution_count": 5,
   "id": "4856cccb",
   "metadata": {
    "cell_style": "split"
   },
   "outputs": [],
   "source": [
    "// creating a new empty vectors\n",
    "// with explicit type specification\n",
    "let v1 : Vec<f64> = Vec::new();\n",
    "let mut v2 = Vec::<bool>::new();"
   ]
  },
  {
   "cell_type": "code",
   "execution_count": 6,
   "id": "60b6806f",
   "metadata": {
    "cell_style": "split",
    "slideshow": {
     "slide_type": "fragment"
    }
   },
   "outputs": [
    {
     "ename": "Error",
     "evalue": "type annotations needed for `Vec<T>`",
     "output_type": "error",
     "traceback": [
      "let v3 = Vec::new();",
      "\u001b[91m    ^^\u001b[0m \u001b[94mconsider giving `v3` the explicit type `Vec<T>`, where the type parameter `T` is specified\u001b[0m",
      "let v3 = Vec::new();",
      "\u001b[91m         ^^^^^^^^\u001b[0m \u001b[94mcannot infer type for type parameter `T`\u001b[0m",
      "type annotations needed for `Vec<T>`"
     ]
    }
   ],
   "source": [
    "// won't work: no type specified\n",
    "let v3 = Vec::new();"
   ]
  },
  {
   "cell_type": "code",
   "execution_count": 7,
   "id": "9ef95ef7",
   "metadata": {
    "slideshow": {
     "slide_type": "fragment"
    }
   },
   "outputs": [],
   "source": [
    "// here Rust can infer what the type is\n",
    "let mut v4 = Vec::new();\n",
    "v4.push(123); // <= add element at the end"
   ]
  },
  {
   "cell_type": "markdown",
   "id": "1c4cf900",
   "metadata": {
    "slideshow": {
     "slide_type": "subslide"
    }
   },
   "source": [
    "## Basic operations"
   ]
  },
  {
   "cell_type": "code",
   "execution_count": 8,
   "id": "c5da2ec5",
   "metadata": {
    "cell_style": "split"
   },
   "outputs": [
    {
     "name": "stdout",
     "output_type": "stream",
     "text": [
      "[] (length=0)\n",
      "[true, false] (length=2)\n"
     ]
    }
   ],
   "source": [
    "// adding elements at the end\n",
    "println!(\"{:?} (length={})\", v2, v2.len());\n",
    "v2.push(true);\n",
    "v2.push(false);\n",
    "println!(\"{:?} (length={})\", v2, v2.len());"
   ]
  },
  {
   "cell_type": "code",
   "execution_count": 9,
   "id": "772cc8d8",
   "metadata": {
    "cell_style": "split",
    "slideshow": {
     "slide_type": "fragment"
    }
   },
   "outputs": [
    {
     "name": "stdout",
     "output_type": "stream",
     "text": [
      "[false, false]\n"
     ]
    }
   ],
   "source": [
    "// accessing specific element\n",
    "v2[0] = v2[1];\n",
    "println!(\"{:?}\",v2);\n",
    "\n",
    "// works because of bool values are copied\n",
    "// by default"
   ]
  },
  {
   "cell_type": "code",
   "execution_count": 10,
   "id": "4ad26751",
   "metadata": {
    "cell_style": "split",
    "slideshow": {
     "slide_type": "fragment"
    }
   },
   "outputs": [
    {
     "ename": "Error",
     "evalue": "cannot move out of index of `Vec<Seconds>`",
     "output_type": "error",
     "traceback": [
      "let z = v[0];",
      "\u001b[91m        ^^^^\u001b[0m \u001b[94mmove occurs because value has type `Seconds`, which does not implement the `Copy` trait\u001b[0m",
      "cannot move out of index of `Vec<Seconds>`",
      "\u001b[1mhelp\u001b[0m: consider borrowing here\n\n&v[0]"
     ]
    }
   ],
   "source": [
    "// won't work\n",
    "struct Seconds(i64);\n",
    "let mut v = Vec::new();\n",
    "v.push(Seconds(123));\n",
    "v.push(Seconds(321));\n",
    "let z = v[0];"
   ]
  },
  {
   "cell_type": "code",
   "execution_count": 14,
   "id": "57a5411d",
   "metadata": {
    "cell_style": "split",
    "slideshow": {
     "slide_type": "fragment"
    }
   },
   "outputs": [],
   "source": [
    "// references do work\n",
    "struct Minutes(i64);\n",
    "{\n",
    "    let mut v = Vec::new();\n",
    "    v.push(Minutes(123));\n",
    "    v.push(Minutes(321));\n",
    "    let z1 : &Minutes = &v[1];\n",
    "    let z2 : &mut Minutes = &mut v[1];\n",
    "};"
   ]
  },
  {
   "cell_type": "code",
   "execution_count": 16,
   "id": "7343b56e",
   "metadata": {
    "slideshow": {
     "slide_type": "fragment"
    }
   },
   "outputs": [
    {
     "name": "stderr",
     "output_type": "stream",
     "text": [
      "thread '<unnamed>' panicked at 'index out of bounds: the len is 5 but the index is 100', src/lib.rs:129:40\n",
      "stack backtrace:\n",
      "   0: rust_begin_unwind\n",
      "             at /rustc/9d1b2106e23b1abd32fce1f17267604a5102f57a/library/std/src/panicking.rs:498:5\n",
      "   1: core::panicking::panic_fmt\n",
      "             at /rustc/9d1b2106e23b1abd32fce1f17267604a5102f57a/library/core/src/panicking.rs:116:14\n",
      "   2: core::panicking::panic_bounds_check\n",
      "             at /rustc/9d1b2106e23b1abd32fce1f17267604a5102f57a/library/core/src/panicking.rs:84:5\n",
      "   3: run_user_code_9\n",
      "   4: evcxr::runtime::Runtime::run_loop\n",
      "   5: evcxr::runtime::runtime_hook\n",
      "   6: evcxr_jupyter::main\n",
      "note: Some details are omitted, run with `RUST_BACKTRACE=full` for a verbose backtrace.\n",
      "Segmentation fault.\n",
      "   0: evcxr::runtime::Runtime::install_crash_handlers::segfault_handler\n",
      "   1: <unknown>\n",
      "   2: mi_free\n",
      "   3: alloc::alloc::dealloc\n",
      "             at /rustc/9d1b2106e23b1abd32fce1f17267604a5102f57a/library/alloc/src/alloc.rs:105:14\n",
      "      <alloc::alloc::Global as core::alloc::Allocator>::deallocate\n",
      "             at /rustc/9d1b2106e23b1abd32fce1f17267604a5102f57a/library/alloc/src/alloc.rs:242:22\n",
      "      alloc::alloc::box_free\n",
      "             at /rustc/9d1b2106e23b1abd32fce1f17267604a5102f57a/library/alloc/src/alloc.rs:340:9\n",
      "      panic_unwind::real_imp::cleanup\n",
      "             at /rustc/9d1b2106e23b1abd32fce1f17267604a5102f57a/library/panic_unwind/src/gcc.rs:83:5\n",
      "      __rust_panic_cleanup\n",
      "             at /rustc/9d1b2106e23b1abd32fce1f17267604a5102f57a/library/panic_unwind/src/lib.rs:97:19\n",
      "   4: std::panicking::try::cleanup\n",
      "             at /rustc/9d1b2106e23b1abd32fce1f17267604a5102f57a/library/std/src/panicking.rs:387:42\n",
      "   5: std::panicking::try::do_catch\n",
      "             at /rustc/9d1b2106e23b1abd32fce1f17267604a5102f57a/library/std/src/panicking.rs:431:23\n",
      "      std::panicking::try\n",
      "             at /rustc/9d1b2106e23b1abd32fce1f17267604a5102f57a/library/std/src/panicking.rs:370:19\n",
      "      std::panic::catch_unwind\n",
      "             at /rustc/9d1b2106e23b1abd32fce1f17267604a5102f57a/library/std/src/panic.rs:133:14\n",
      "      std::rt::lang_start_internal::{{closure}}\n",
      "             at /rustc/9d1b2106e23b1abd32fce1f17267604a5102f57a/library/std/src/rt.rs:128:48\n",
      "      std::panicking::try::do_call\n",
      "             at /rustc/9d1b2106e23b1abd32fce1f17267604a5102f57a/library/std/src/panicking.rs:406:40\n",
      "      std::panicking::try\n",
      "             at /rustc/9d1b2106e23b1abd32fce1f17267604a5102f57a/library/std/src/panicking.rs:370:19\n",
      "      std::panic::catch_unwind\n",
      "             at /rustc/9d1b2106e23b1abd32fce1f17267604a5102f57a/library/std/src/panic.rs:133:14\n",
      "      std::rt::lang_start_internal\n",
      "             at /rustc/9d1b2106e23b1abd32fce1f17267604a5102f57a/library/std/src/rt.rs:128:20\n",
      "   6: main\n",
      "   7: __libc_start_main\n",
      "   8: _start\n",
      "\n"
     ]
    },
    {
     "ename": "Error",
     "evalue": "Child process terminated with status: signal: 6 (core dumped)",
     "output_type": "error",
     "traceback": [
      "Child process terminated with status: signal: 6 (core dumped)"
     ]
    }
   ],
   "source": [
    "// reaching out of bounds (panics in debug mode, continues in release mode)\n",
    "let v = vec![1,2,3,4,5];\n",
    "v[100]"
   ]
  },
  {
   "cell_type": "markdown",
   "id": "4e3ee23a",
   "metadata": {
    "cell_style": "center",
    "slideshow": {
     "slide_type": "subslide"
    }
   },
   "source": [
    "## Basic operations"
   ]
  },
  {
   "cell_type": "code",
   "execution_count": 2,
   "id": "139c49e2",
   "metadata": {
    "cell_style": "split",
    "slideshow": {
     "slide_type": "-"
    }
   },
   "outputs": [
    {
     "data": {
      "text/plain": [
       "Some(2)"
      ]
     },
     "execution_count": 2,
     "metadata": {},
     "output_type": "execute_result"
    }
   ],
   "source": [
    "// With bound checking\n",
    "// .get(index) returns Option<&T>\n",
    "let mut v = vec![0,1,2];\n",
    "v.get(2)"
   ]
  },
  {
   "cell_type": "code",
   "execution_count": 3,
   "id": "621fb565",
   "metadata": {
    "cell_style": "split",
    "slideshow": {
     "slide_type": "-"
    }
   },
   "outputs": [
    {
     "data": {
      "text/plain": [
       "None"
      ]
     },
     "execution_count": 3,
     "metadata": {},
     "output_type": "execute_result"
    }
   ],
   "source": [
    "v.get(10)"
   ]
  },
  {
   "cell_type": "code",
   "execution_count": 10,
   "id": "8d793d21",
   "metadata": {
    "slideshow": {
     "slide_type": "fragment"
    }
   },
   "outputs": [
    {
     "name": "stdout",
     "output_type": "stream",
     "text": [
      "None, []\n"
     ]
    }
   ],
   "source": [
    "// removing last element\n",
    "// returns `Option<T>)\n",
    "let last = v.pop();\n",
    "println!(\"{:?}, {:?}\", last, v);"
   ]
  },
  {
   "cell_type": "markdown",
   "id": "53a829b3",
   "metadata": {
    "slideshow": {
     "slide_type": "subslide"
    }
   },
   "source": [
    "## Iterating over vector\n",
    "* Iterating: `.iter`\n",
    "* Mutable iterating: `.iter_mut`"
   ]
  },
  {
   "cell_type": "code",
   "execution_count": 23,
   "id": "e3c2cc5e",
   "metadata": {
    "cell_style": "split",
    "slideshow": {
     "slide_type": "fragment"
    }
   },
   "outputs": [
    {
     "name": "stdout",
     "output_type": "stream",
     "text": [
      "2\n",
      "1\n",
      "0\n"
     ]
    }
   ],
   "source": [
    "let mut v = vec![2,1,0];\n",
    "for z in &v { // z in v.iter()\n",
    "    println!(\"{}\",z);\n",
    "};"
   ]
  },
  {
   "cell_type": "code",
   "execution_count": 24,
   "id": "cb0f6a48",
   "metadata": {
    "cell_style": "split",
    "slideshow": {
     "slide_type": "fragment"
    }
   },
   "outputs": [
    {
     "name": "stdout",
     "output_type": "stream",
     "text": [
      "[3, 2, 1]\n"
     ]
    }
   ],
   "source": [
    "for z in &mut v { // z in v.iter_mut()\n",
    "    *z += 1;\n",
    "}\n",
    "println!(\"{:?}\",v);"
   ]
  },
  {
   "cell_type": "code",
   "execution_count": 25,
   "id": "563675b3",
   "metadata": {
    "slideshow": {
     "slide_type": "fragment"
    }
   },
   "outputs": [
    {
     "name": "stdout",
     "output_type": "stream",
     "text": [
      "0: 3\n",
      "1: 2\n",
      "2: 1\n"
     ]
    }
   ],
   "source": [
    "// if you need index as well\n",
    "for (i,z) in v.iter().enumerate() {\n",
    "    println!(\"{}: {}\",i,z);\n",
    "};"
   ]
  },
  {
   "cell_type": "code",
   "execution_count": 14,
   "id": "225af1c1",
   "metadata": {},
   "outputs": [
    {
     "ename": "Error",
     "evalue": "borrow of moved value: `v1`",
     "output_type": "error",
     "traceback": [
      "let mut v2 = v1;",
      "\u001b[91m             ^^\u001b[0m \u001b[94mvalue moved here\u001b[0m",
      "println!(\"v1={:?}, v2-{:?}\", v1, v2);",
      "\u001b[91m                             ^^\u001b[0m \u001b[94mvalue borrowed here after move\u001b[0m",
      "let mut v1 = vec![2,1,0];",
      "\u001b[91m    ^^^^^^\u001b[0m \u001b[94mmove occurs because `v1` has type `Vec<i32>`, which does not implement the `Copy` trait\u001b[0m",
      "borrow of moved value: `v1`"
     ]
    }
   ],
   "source": [
    "// Will not work since vectors have to obey memory ownership semantics (allocated in the heap)\n",
    "let mut v1 = vec![2,1,0];\n",
    "let mut v2 = v1;\n",
    "println!(\"v1={:?}, v2={:?}\", v1, v2);"
   ]
  },
  {
   "cell_type": "code",
   "execution_count": 16,
   "id": "18acdd74",
   "metadata": {},
   "outputs": [
    {
     "name": "stdout",
     "output_type": "stream",
     "text": [
      "v1=[12, 1, 0], v2-[2, 1, 0]\n"
     ]
    }
   ],
   "source": [
    "let mut v1 = vec![2,1,0];\n",
    "let mut v2 = v1.clone();\n",
    "v1[0] = 12;\n",
    "println!(\"v1={:?}, v2={:?}\", v1, v2);"
   ]
  },
  {
   "cell_type": "code",
   "execution_count": 28,
   "id": "f5b5f5a0",
   "metadata": {},
   "outputs": [
    {
     "name": "stdout",
     "output_type": "stream",
     "text": [
      "v1=[2, 1, 0], v2=[2, 1, 0]\n"
     ]
    }
   ],
   "source": [
    "fn testme() {\n",
    "    let mut v1: Vec<u32> = vec![2,1,0];\n",
    "    let mut v2: &Vec<u32> =  &v1;\n",
    "    println!(\"v1={:?}, v2={:?}\", v1, v2);\n",
    "}\n",
    "testme();"
   ]
  },
  {
   "cell_type": "code",
   "execution_count": 41,
   "id": "aa35a44f",
   "metadata": {},
   "outputs": [
    {
     "name": "stdout",
     "output_type": "stream",
     "text": [
      "v2=[12, 1, 0]\n",
      "v1=[12, 1, 0]\n"
     ]
    }
   ],
   "source": [
    "fn testme() {\n",
    "    let mut v1: Vec<u32> = vec![2,1,0];\n",
    "    let mut v2: &mut Vec<u32> =  &mut v1;\n",
    "    v2[0] = 12;\n",
    "    println!(\"v2={:?}\", v2);\n",
    "    println!(\"v1={:?}\", v1);\n",
    "    // But the two below will not work.  Compiler is not smart enough to analyze what is happening inside println\n",
    "    // So it appears like you are passing two references one that is immutable (v1) and one mutable (v2)\n",
    "    // which is not safe.\n",
    "    // println!(\"v2={:?}\", v2);\n",
    "    //println!(\"v1={:?}, v2={:?}\", v1, v2);\n",
    "}\n",
    "testme();"
   ]
  },
  {
   "cell_type": "markdown",
   "id": "ef30ae17",
   "metadata": {},
   "source": [
    "# <font color=\"red\">3. Tests</font>\n",
    "\n"
   ]
  },
  {
   "cell_type": "markdown",
   "id": "15bf4796",
   "metadata": {},
   "source": [
    "* Why are tests useful?\n",
    "* What is typical test to functional code ratio? (730K lines of code in Meta proxy server)\n",
    "    `https://github.com/facebook/proxygen`"
   ]
  },
  {
   "cell_type": "code",
   "execution_count": 47,
   "id": "77707f49",
   "metadata": {},
   "outputs": [
    {
     "name": "stdout",
     "output_type": "stream",
     "text": [
      "V = [2.0, 3.0, 4.0] W = [4.1, 6.1, 8.1]\n"
     ]
    },
    {
     "data": {
      "text/plain": [
       "()"
      ]
     },
     "execution_count": 47,
     "metadata": {},
     "output_type": "execute_result"
    }
   ],
   "source": [
    "fn doubleme(inp: &Vec<f64>) -> Vec<f64> {\n",
    "    let mut nv = inp.clone();\n",
    "    for (i, x) in inp.iter().enumerate() {\n",
    "        nv[i] = *x * 2.0 + 0.1;\n",
    "    }\n",
    "    nv\n",
    "}\n",
    "\n",
    "#[test]\n",
    "fn test_doubleme_positive() {\n",
    "    let v = vec![1.0, 2.0, 3.0];\n",
    "    let w = doubleme(&v);\n",
    "    for (x, y) in v.iter().zip(w.iter()) {\n",
    "        assert_eq!(*y, 2.0 * *x, \"Element is not double\");\n",
    "    }\n",
    "}\n",
    "#[test]\n",
    "fn test_doubleme_negative() {\n",
    "    let v = vec![-1.0, -2.0, -3.0];\n",
    "    let w = doubleme(&v);\n",
    "    for (x, y) in v.iter().zip(w.iter()) {\n",
    "        assert_eq!(*y, 2.0 * *x, \"Negative element is not double\");\n",
    "    }\n",
    "}\n",
    "#[test]\n",
    "fn test_doubleme_zero() {\n",
    "    let v = vec![0.0];\n",
    "    let w = doubleme(&v);\n",
    "    for (x, y) in v.iter().zip(w.iter()) {\n",
    "        assert_eq!(*y, 2.0 * *x, \"Zero element is not double\");\n",
    "    }\n",
    "}\n",
    "#[test]\n",
    "fn test_doubleme_empty() {\n",
    "    let v: Vec<f64> = vec![];\n",
    "    let w = doubleme(&v);\n",
    "    assert_eq!(w.len(), 0, \"Empty Vector is not empty\");\n",
    "}\n",
    "\n",
    "fn main() {\n",
    "    let v: Vec<f64> = vec![2.0, 3.0, 4.0];\n",
    "    let w = doubleme(&v);\n",
    "    println!(\"V = {:?} W = {:?}\", v, w);\n",
    "}\n",
    "main()"
   ]
  },
  {
   "cell_type": "markdown",
   "id": "e2e6e1d9",
   "metadata": {
    "slideshow": {
     "slide_type": "subslide"
    }
   },
   "source": [
    "## Under the hood: select implementation details\n",
    "\n",
    "<br><br><br>\n",
    "<div align=\"center\">\n",
    "    <h2>How to make push/pop operations efficient?</h2>\n",
    "</div>\n",
    "<br><br><br>\n",
    "<div align=\"center\">\n",
    "    <h2>(To be continued...)</h2>\n",
    "</div>"
   ]
  }
 ],
 "metadata": {
  "celltoolbar": "Slideshow",
  "kernelspec": {
   "display_name": "Rust",
   "language": "rust",
   "name": "rust"
  },
  "language_info": {
   "codemirror_mode": "rust",
   "file_extension": ".rs",
   "mimetype": "text/rust",
   "name": "Rust",
   "pygment_lexer": "rust",
   "version": ""
  },
  "rise": {
   "theme": "beige",
   "transition": "fade"
  }
 },
 "nbformat": 4,
 "nbformat_minor": 5
}
