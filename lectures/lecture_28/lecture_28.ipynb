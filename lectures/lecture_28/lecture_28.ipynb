{
 "cells": [
  {
   "cell_type": "markdown",
   "id": "cf7f87e3",
   "metadata": {
    "slideshow": {
     "slide_type": "slide"
    }
   },
   "source": [
    "<div align=\"center\">\n",
    "    <h1>DS-210: Programming for Data Science</h1>\n",
    "    <h1>Lecture 29</h1>\n",
    "</div>\n",
    "\n",
    "# 1. Graph exploration overview\n",
    "# 2. Breadth–first search (BFS)\n",
    "# 3. Depth–first search (DFS)\n",
    "# 4. Strongly connected components"
   ]
  },
  {
   "cell_type": "markdown",
   "id": "bca4e02a",
   "metadata": {
    "slideshow": {
     "slide_type": "slide"
    }
   },
   "source": [
    "# <font color=\"red\">1. Graph exploration overview</font>\n",
    "# 2. Breadth–first search (BFS)\n",
    "# 3. Depth–first search (DFS)\n",
    "# 4. Strongly connected components"
   ]
  },
  {
   "cell_type": "markdown",
   "id": "5735b434",
   "metadata": {
    "slideshow": {
     "slide_type": "slide"
    }
   },
   "source": [
    "## Graph exploration\n",
    "\n",
    "**Sample popular methods:**\n",
    "\n",
    "* breadth–first search (BFS)\n",
    "  * uses a queue"
   ]
  },
  {
   "cell_type": "markdown",
   "id": "762122f2",
   "metadata": {
    "slideshow": {
     "slide_type": "fragment"
    }
   },
   "source": [
    "* depth–first search (DFS)\n",
    "  * uses a stack"
   ]
  },
  {
   "cell_type": "markdown",
   "id": "2d4d59c6",
   "metadata": {
    "slideshow": {
     "slide_type": "fragment"
    }
   },
   "source": [
    "* random walks\n",
    "  * example: PageRank (see Homework 10)"
   ]
  },
  {
   "cell_type": "markdown",
   "id": "702e55cc",
   "metadata": {
    "slideshow": {
     "slide_type": "slide"
    }
   },
   "source": [
    "## Useful graph subroutines"
   ]
  },
  {
   "cell_type": "code",
   "execution_count": 2,
   "id": "3c83536e",
   "metadata": {
    "cell_style": "center"
   },
   "outputs": [
    {
     "data": {
      "text/plain": [
       "[(2, 3), (1, 1), (100, 0), (0, 100)]"
      ]
     },
     "execution_count": 2,
     "metadata": {},
     "output_type": "execute_result"
    }
   ],
   "source": [
    "type Vertex = usize;\n",
    "type ListOfEdges = Vec<(Vertex,Vertex)>;\n",
    "type AdjacencyLists = Vec<Vec<Vertex>>;\n",
    "\n",
    "#[derive(Debug)]\n",
    "struct Graph {\n",
    "    n: usize, // vertex labels in {0,...,n-1}\n",
    "    outedges: AdjacencyLists,\n",
    "}\n",
    "\n",
    "// reverse direction of edges on a list\n",
    "fn reverse_edges(list:&ListOfEdges)\n",
    "        -> ListOfEdges {\n",
    "    let mut new_list = vec![];\n",
    "    for (u,v) in list {\n",
    "        new_list.push((*v,*u));\n",
    "    }\n",
    "    new_list\n",
    "}\n",
    "\n",
    "reverse_edges(&vec![(3,2),(1,1),(0,100),(100,0)])"
   ]
  },
  {
   "cell_type": "code",
   "execution_count": 3,
   "id": "59773f25",
   "metadata": {
    "cell_style": "center",
    "slideshow": {
     "slide_type": "fragment"
    }
   },
   "outputs": [],
   "source": [
    "impl Graph {\n",
    "    fn add_directed_edges(&mut self,\n",
    "                          edges:&ListOfEdges) {\n",
    "        for (u,v) in edges {\n",
    "            self.outedges[*u].push(*v);\n",
    "        }\n",
    "    }\n",
    "    fn sort_graph_lists(&mut self) {\n",
    "        for l in self.outedges.iter_mut() {\n",
    "            l.sort();\n",
    "        }\n",
    "    }\n",
    "    fn create_directed(n:usize,edges:&ListOfEdges)\n",
    "                                            -> Graph {\n",
    "        let mut g = Graph{n,outedges:vec![vec![];n]};\n",
    "        g.add_directed_edges(edges);\n",
    "        g.sort_graph_lists();\n",
    "        g                                        \n",
    "    }\n",
    "    \n",
    "    fn create_undirected(n:usize,edges:&ListOfEdges)\n",
    "                                            -> Graph {\n",
    "        let mut g = Self::create_directed(n,edges);\n",
    "        g.add_directed_edges(&reverse_edges(edges));\n",
    "        g.sort_graph_lists();\n",
    "        g                                        \n",
    "    }\n",
    "}"
   ]
  },
  {
   "cell_type": "markdown",
   "id": "8e7d819e",
   "metadata": {
    "slideshow": {
     "slide_type": "slide"
    }
   },
   "source": [
    "# 1. Graph exploration overview\n",
    "# <font color=\"red\">2. Breadth–first search (BFS)</font>\n",
    "# 3. Depth–first search (DFS)\n",
    "# 4. Strongly connected components"
   ]
  },
  {
   "cell_type": "markdown",
   "id": "dd50c376",
   "metadata": {
    "slideshow": {
     "slide_type": "slide"
    }
   },
   "source": [
    "## Sample graph\n",
    "\n",
    "<div align=\"center\">\n",
    "    <img src=\"graphs/graph_1_0.svg\" alt=\"[first sample graph]\" width=\"50%\">\n",
    "</div>"
   ]
  },
  {
   "cell_type": "code",
   "execution_count": 4,
   "id": "ad7afed5",
   "metadata": {},
   "outputs": [
    {
     "name": "stdout",
     "output_type": "stream",
     "text": [
      "[(0, 1), (0, 2), (1, 2), (1, 9), (2, 3), (2, 4), (4, 3), (4, 5), (4, 6), (5, 6), (6, 7), (6, 8), (8, 7)]\n",
      "0 [1, 2]\n",
      "1 [0, 2, 9]\n",
      "2 [0, 1, 3, 4]\n",
      "3 [2, 4]\n",
      "4 [2, 3, 5, 6]\n",
      "5 [4, 6]\n",
      "6 [4, 5, 7, 8]\n",
      "7 [6, 8]\n",
      "8 [6, 7]\n",
      "9 [1]\n"
     ]
    },
    {
     "data": {
      "text/plain": [
       "()"
      ]
     },
     "execution_count": 4,
     "metadata": {},
     "output_type": "execute_result"
    }
   ],
   "source": [
    "let n: usize = 10;\n",
    "let mut edges: ListOfEdges = vec![(0,1),(0,2),(1,2),(2,4),(2,3),(4,3),(4,5),(5,6),(4,6),(6,8),(6,7),(8,7),(1,9)];\n",
    "edges.sort();\n",
    "println!(\"{:?}\",edges);\n",
    "let graph = Graph::create_undirected(n,&edges);\n",
    "for (i, l) in graph.outedges.iter().enumerate() {\n",
    "    println!(\"{} {:?}\", i, *l);\n",
    "}"
   ]
  },
  {
   "cell_type": "markdown",
   "id": "08648b79",
   "metadata": {
    "slideshow": {
     "slide_type": "slide"
    }
   },
   "source": [
    "## Breadth–first search (BFS)\n",
    "\n",
    "**General idea:**\n",
    "* start from some vertex and explore its neighbors (distance 1)\n",
    "* then explore neighbors of neighbors (distance 2)\n",
    "* then explore neighbors of neighbors of neighbors (distance 3)\n",
    "* ..."
   ]
  },
  {
   "cell_type": "markdown",
   "id": "14fc3dc3",
   "metadata": {
    "cell_style": "split"
   },
   "source": [
    "<div align=\"center\">\n",
    "    <b>Our example:</b> start from vertex 2<br><br>\n",
    "</div>   \n",
    "<div align=\"center\">\n",
    "    <img src=\"graphs/graph_1_1.svg\" alt=\"[first sample graph]\">\n",
    "</div>"
   ]
  },
  {
   "cell_type": "markdown",
   "id": "6be65af6",
   "metadata": {
    "cell_style": "split",
    "slideshow": {
     "slide_type": "fragment"
    }
   },
   "source": [
    "<div align=\"center\">\n",
    "    <img src=\"graphs/graph_1_2.svg\" alt=\"[first sample graph, grouped into layers]\">\n",
    "</div>"
   ]
  },
  {
   "cell_type": "markdown",
   "id": "f6bbeb01",
   "metadata": {
    "slideshow": {
     "slide_type": "subslide"
    }
   },
   "source": [
    "## Implementation: compute distances from vertex 2 via BFS\n",
    "\n",
    "`distance[v]`: distance of `v` from vertex 2 (`None` is unknown)"
   ]
  },
  {
   "cell_type": "code",
   "execution_count": 5,
   "id": "9d67a935",
   "metadata": {
    "slideshow": {
     "slide_type": ""
    }
   },
   "outputs": [
    {
     "data": {
      "text/plain": [
       "[None, None, Some(0), None, None, None, None, None, None, None]"
      ]
     },
     "execution_count": 5,
     "metadata": {},
     "output_type": "execute_result"
    }
   ],
   "source": [
    "let start: Vertex = 2; // <= we'll start from this vertex\n",
    "\n",
    "let mut distance: Vec<Option<u32>> = vec![None;graph.n];\n",
    "distance[start] = Some(0); // <= we know this distance\n",
    "distance"
   ]
  },
  {
   "cell_type": "markdown",
   "id": "ccbd15e2",
   "metadata": {
    "slideshow": {
     "slide_type": "fragment"
    }
   },
   "source": [
    "`queue`: vertices to consider, they will arrive layer by layer"
   ]
  },
  {
   "cell_type": "code",
   "execution_count": 6,
   "id": "9d8c10eb",
   "metadata": {
    "slideshow": {
     "slide_type": ""
    }
   },
   "outputs": [
    {
     "data": {
      "text/plain": [
       "[2]"
      ]
     },
     "execution_count": 6,
     "metadata": {},
     "output_type": "execute_result"
    }
   ],
   "source": [
    "use std::collections::VecDeque;\n",
    "let mut queue: VecDeque<Vertex> = VecDeque::new();\n",
    "queue.push_back(start);\n",
    "queue"
   ]
  },
  {
   "cell_type": "markdown",
   "id": "35f9ad17",
   "metadata": {
    "slideshow": {
     "slide_type": "subslide"
    }
   },
   "source": [
    "## Implementation: compute distances from vertex 2 via BFS\n",
    "**Main loop:**<br>\n",
    "&nbsp;&nbsp;$\\bullet$ consider vertices one by one<br>\n",
    "&nbsp;&nbsp;$\\bullet$ add their new neighbors to the processing queue"
   ]
  },
  {
   "cell_type": "code",
   "execution_count": 7,
   "id": "35f20012",
   "metadata": {
    "slideshow": {
     "slide_type": "fragment"
    }
   },
   "outputs": [
    {
     "name": "stdout",
     "output_type": "stream",
     "text": [
      "[2]\n",
      "top []\n",
      "In [0]\n",
      "In [0, 1]\n",
      "In [0, 1, 3]\n",
      "In [0, 1, 3, 4]\n",
      "top [1, 3, 4]\n",
      "top [3, 4]\n",
      "In [3, 4, 9]\n",
      "top [4, 9]\n",
      "top [9]\n",
      "In [9, 5]\n",
      "In [9, 5, 6]\n",
      "top [5, 6]\n",
      "top [6]\n",
      "top []\n",
      "In [7]\n",
      "In [7, 8]\n",
      "top [8]\n",
      "top []\n"
     ]
    }
   ],
   "source": [
    "println!(\"{:?}\",queue);\n",
    "while let Some(v) = queue.pop_front() { // new unprocessed vertex\n",
    "    println!(\"top {:?}\",queue);\n",
    "    for u in graph.outedges[v].iter() {\n",
    "        if let None = distance[*u] { // consider all unprocessed neighbors of v\n",
    "            distance[*u] = Some(distance[v].unwrap() + 1);\n",
    "            queue.push_back(*u);\n",
    "            println!(\"In {:?}\",queue);\n",
    "        }\n",
    "    }\n",
    "};"
   ]
  },
  {
   "cell_type": "markdown",
   "id": "ede78814",
   "metadata": {
    "slideshow": {
     "slide_type": "subslide"
    }
   },
   "source": [
    "## Implementation: compute distances from vertex 2 via BFS\n",
    "\n",
    "Compare results:\n",
    "\n",
    "<div align=\"center\">\n",
    "    <img src=\"graphs/graph_1_2.svg\" alt=\"[layers]\">\n",
    "</div>"
   ]
  },
  {
   "cell_type": "code",
   "execution_count": 9,
   "id": "fa1d7f16",
   "metadata": {
    "slideshow": {
     "slide_type": ""
    }
   },
   "outputs": [
    {
     "name": "stdout",
     "output_type": "stream",
     "text": [
      "vertex:distance   0:1   1:1   2:0   3:1   4:1   5:2   6:2   7:3   8:3   9:2\n"
     ]
    }
   ],
   "source": [
    "print!(\"vertex:distance\");\n",
    "for v in 0..graph.n {\n",
    "    print!(\"   {}:{}\",v,distance[v].unwrap());\n",
    "}\n",
    "println!();"
   ]
  },
  {
   "cell_type": "markdown",
   "id": "3e04433e",
   "metadata": {},
   "source": [
    "## What if we wanted the distance from all to all?"
   ]
  },
  {
   "cell_type": "code",
   "execution_count": 10,
   "id": "d42958f8",
   "metadata": {},
   "outputs": [
    {
     "name": "stdout",
     "output_type": "stream",
     "text": [
      "Distances from node 0\n",
      "vertex:distance   0:0   1:1   2:1   3:2   4:2   5:3   6:3   7:4   8:4   9:2\n",
      "Distances from node 1\n",
      "vertex:distance   0:1   1:0   2:1   3:2   4:2   5:3   6:3   7:4   8:4   9:1\n",
      "Distances from node 2\n",
      "vertex:distance   0:1   1:1   2:0   3:1   4:1   5:2   6:2   7:3   8:3   9:2\n",
      "Distances from node 3\n",
      "vertex:distance   0:2   1:2   2:1   3:0   4:1   5:2   6:2   7:3   8:3   9:3\n",
      "Distances from node 4\n",
      "vertex:distance   0:2   1:2   2:1   3:1   4:0   5:1   6:1   7:2   8:2   9:3\n",
      "Distances from node 5\n",
      "vertex:distance   0:3   1:3   2:2   3:2   4:1   5:0   6:1   7:2   8:2   9:4\n",
      "Distances from node 6\n",
      "vertex:distance   0:3   1:3   2:2   3:2   4:1   5:1   6:0   7:1   8:1   9:4\n",
      "Distances from node 7\n",
      "vertex:distance   0:4   1:4   2:3   3:3   4:2   5:2   6:1   7:0   8:1   9:5\n",
      "Distances from node 8\n",
      "vertex:distance   0:4   1:4   2:3   3:3   4:2   5:2   6:1   7:1   8:0   9:5\n",
      "Distances from node 9\n",
      "vertex:distance   0:2   1:1   2:2   3:3   4:3   5:4   6:4   7:5   8:5   9:0\n"
     ]
    },
    {
     "data": {
      "text/plain": [
       "()"
      ]
     },
     "execution_count": 10,
     "metadata": {},
     "output_type": "execute_result"
    }
   ],
   "source": [
    "fn compute_and_print_distance_bfs(start: Vertex, graph: &Graph) {\n",
    "    let mut distance: Vec<Option<u32>> = vec![None;graph.n];\n",
    "    distance[start] = Some(0); // <= we know this distance\n",
    "    let mut queue: VecDeque<Vertex> = VecDeque::new();\n",
    "    queue.push_back(start);\n",
    "    while let Some(v) = queue.pop_front() { // new unprocessed vertex\n",
    "        for u in graph.outedges[v].iter() {\n",
    "            if let None = distance[*u] { // consider all unprocessed neighbors of v\n",
    "                distance[*u] = Some(distance[v].unwrap() + 1);\n",
    "                queue.push_back(*u);\n",
    "            }\n",
    "        }\n",
    "    }\n",
    "    print!(\"vertex:distance\");\n",
    "    for v in 0..graph.n {\n",
    "        print!(\"   {}:{}\",v,distance[v].unwrap());\n",
    "    }\n",
    "    println!();\n",
    "}\n",
    "\n",
    "for i in 0..graph.n {\n",
    "    println!(\"Distances from node {}\", i);\n",
    "    compute_and_print_distance_bfs(i, &graph);\n",
    "}\n"
   ]
  },
  {
   "cell_type": "markdown",
   "id": "aaaacdbc",
   "metadata": {},
   "source": [
    "\n",
    "\n",
    "\n",
    "\n",
    "# Connected components via BFS"
   ]
  },
  {
   "cell_type": "markdown",
   "id": "6825e076",
   "metadata": {
    "cell_style": "split"
   },
   "source": [
    "<br><br><br>\n",
    "*Connected component* (in an undirected graph):\n",
    "\n",
    "<br>\n",
    "<div align=\"center\">\n",
    "a maximal set of vertices that are connected\n",
    "</div>"
   ]
  },
  {
   "cell_type": "markdown",
   "id": "6b051e8d",
   "metadata": {
    "cell_style": "split",
    "slideshow": {
     "slide_type": "-"
    }
   },
   "source": [
    "<div align=\"center\">\n",
    "    <img src=\"graphs/graph_2.svg\" alt=\"[second graph]\" width=\"65%\">\n",
    "</div>"
   ]
  },
  {
   "cell_type": "markdown",
   "id": "57310d76",
   "metadata": {
    "slideshow": {
     "slide_type": "fragment"
    }
   },
   "source": [
    "Sample graph:"
   ]
  },
  {
   "cell_type": "code",
   "execution_count": 11,
   "id": "a02cfea3",
   "metadata": {
    "cell_style": "center",
    "slideshow": {
     "slide_type": ""
    }
   },
   "outputs": [],
   "source": [
    "let n: usize = 9;\n",
    "let edges: Vec<(Vertex,Vertex)> = vec![(0,1),(0,2),(1,2),(2,4),(0,4),(5,7),(6,8)];\n",
    "let graph = Graph::create_undirected(n, &edges);"
   ]
  },
  {
   "cell_type": "markdown",
   "id": "78ef3beb",
   "metadata": {
    "slideshow": {
     "slide_type": "subslide"
    }
   },
   "source": [
    "## Discovering vertices of a connected component via BFS\n",
    "`component[v]`: `v`'s component's number (`None`${}\\equiv{}$not assigned yet)"
   ]
  },
  {
   "cell_type": "code",
   "execution_count": 13,
   "id": "1a4c10d6",
   "metadata": {
    "slideshow": {
     "slide_type": ""
    }
   },
   "outputs": [],
   "source": [
    "type Component = usize;\n",
    "\n",
    "fn mark_component_bfs(vertex:Vertex, graph:&Graph, component:&mut Vec<Option<Component>>, component_no:Component) {\n",
    "    component[vertex] = Some(component_no);\n",
    "    \n",
    "    let mut queue = std::collections::VecDeque::new();\n",
    "    queue.push_back(vertex);\n",
    "    \n",
    "    while let Some(v) = queue.pop_front() {\n",
    "        for w in graph.outedges[v].iter() {\n",
    "            if let None = component[*w] {\n",
    "                component[*w] = Some(component_no);\n",
    "                queue.push_back(*w);\n",
    "            }\n",
    "        }\n",
    "    }\n",
    "}"
   ]
  },
  {
   "cell_type": "markdown",
   "id": "1436689c",
   "metadata": {
    "slideshow": {
     "slide_type": "slide"
    }
   },
   "source": [
    "## Marking all connected components"
   ]
  },
  {
   "cell_type": "markdown",
   "id": "6ed5987c",
   "metadata": {},
   "source": [
    "Loop over all unassigned vertices and assign component numbers"
   ]
  },
  {
   "cell_type": "code",
   "execution_count": 14,
   "id": "df3b857d",
   "metadata": {
    "slideshow": {
     "slide_type": ""
    }
   },
   "outputs": [],
   "source": [
    "let mut component: Vec<Option<Component>> = vec![None;n];\n",
    "let mut component_count = 0;\n",
    "for v in 0..n {\n",
    "    if let None = component[v] {\n",
    "        component_count += 1;\n",
    "        mark_component_bfs(v, &graph, &mut component, component_count);\n",
    "    }\n",
    "};"
   ]
  },
  {
   "cell_type": "code",
   "execution_count": 15,
   "id": "2d951410",
   "metadata": {
    "cell_style": "split",
    "slideshow": {
     "slide_type": "fragment"
    }
   },
   "outputs": [
    {
     "name": "stdout",
     "output_type": "stream",
     "text": [
      "4 components:\n",
      "[  0:1  1:1  2:1  3:2  4:1  5:3  6:4  7:3  8:4  ]\n",
      "\n"
     ]
    }
   ],
   "source": [
    "// Let's verify the assignment!\n",
    "print!(\"{} components:\\n[  \",component_count);\n",
    "for v in 0..n {\n",
    "    print!(\"{}:{}  \",v,component[v].unwrap());\n",
    "}\n",
    "println!(\"]\\n\");"
   ]
  },
  {
   "cell_type": "markdown",
   "id": "edce6b1d",
   "metadata": {
    "cell_style": "split"
   },
   "source": [
    "<div align=\"center\">\n",
    "    <img src=\"graphs/graph_2.svg\" alt=\"[components]\" width=\"50%\">\n",
    "</div>"
   ]
  },
  {
   "cell_type": "markdown",
   "id": "9900ed37",
   "metadata": {
    "slideshow": {
     "slide_type": "slide"
    }
   },
   "source": [
    "# 1. Graph exploration overview\n",
    "# 2. Breadth–first search (BFS)\n",
    "# <font color=\"red\">3. Depth–first search (DFS)</font>\n",
    "# 4. Strongly connected components"
   ]
  },
  {
   "cell_type": "markdown",
   "id": "a12cfb3b",
   "metadata": {
    "slideshow": {
     "slide_type": "slide"
    }
   },
   "source": [
    "## Depth–First Search (DFS)"
   ]
  },
  {
   "cell_type": "markdown",
   "id": "7f6232f4",
   "metadata": {
    "cell_style": "split"
   },
   "source": [
    "General idea:\n",
    "* keep going to an unvisited vertex\n",
    "* when stuck make a step back and try again"
   ]
  },
  {
   "cell_type": "markdown",
   "id": "6da8935c",
   "metadata": {
    "cell_style": "split"
   },
   "source": [
    "<div align=\"center\">\n",
    "<img src=\"graphs/graph_3_1.svg\" alt=\"[dfs demo]\" width=\"60%\">\n",
    "</div>"
   ]
  },
  {
   "cell_type": "markdown",
   "id": "fc289720",
   "metadata": {
    "slideshow": {
     "slide_type": "subslide"
    }
   },
   "source": [
    "## Depth–First Search (DFS)"
   ]
  },
  {
   "cell_type": "markdown",
   "id": "be79e308",
   "metadata": {
    "cell_style": "split"
   },
   "source": [
    "General idea:\n",
    "* keep going to an unvisited vertex\n",
    "* when stuck make a step back and try again"
   ]
  },
  {
   "cell_type": "markdown",
   "id": "84fb6b18",
   "metadata": {
    "cell_style": "split"
   },
   "source": [
    "<div align=\"center\">\n",
    "<img src=\"graphs/graph_3_2.svg\" alt=\"[dfs demo]\" width=\"60%\">\n",
    "</div>"
   ]
  },
  {
   "cell_type": "markdown",
   "id": "b0f7a4af",
   "metadata": {
    "slideshow": {
     "slide_type": "subslide"
    }
   },
   "source": [
    "## Depth–First Search (DFS)"
   ]
  },
  {
   "cell_type": "markdown",
   "id": "2f540e31",
   "metadata": {
    "cell_style": "split"
   },
   "source": [
    "General idea:\n",
    "* keep going to an unvisited vertex\n",
    "* when stuck make a step back and try again"
   ]
  },
  {
   "cell_type": "markdown",
   "id": "f7cf7d9a",
   "metadata": {
    "cell_style": "split"
   },
   "source": [
    "<div align=\"center\">\n",
    "<img src=\"graphs/graph_3_3.svg\" alt=\"[dfs demo]\" width=\"60%\">\n",
    "</div>"
   ]
  },
  {
   "cell_type": "markdown",
   "id": "20c2f169",
   "metadata": {
    "slideshow": {
     "slide_type": "subslide"
    }
   },
   "source": [
    "## Depth–First Search (DFS)"
   ]
  },
  {
   "cell_type": "markdown",
   "id": "ca62b7b5",
   "metadata": {
    "cell_style": "split"
   },
   "source": [
    "General idea:\n",
    "* keep going to an unvisited vertex\n",
    "* when stuck make a step back and try again"
   ]
  },
  {
   "cell_type": "markdown",
   "id": "37ad92c9",
   "metadata": {
    "cell_style": "split"
   },
   "source": [
    "<div align=\"center\">\n",
    "<img src=\"graphs/graph_3_4.svg\" alt=\"[dfs demo]\" width=\"60%\">\n",
    "</div>"
   ]
  },
  {
   "cell_type": "markdown",
   "id": "96e644af",
   "metadata": {
    "slideshow": {
     "slide_type": "subslide"
    }
   },
   "source": [
    "## Depth–First Search (DFS)"
   ]
  },
  {
   "cell_type": "markdown",
   "id": "bb61f578",
   "metadata": {
    "cell_style": "split"
   },
   "source": [
    "General idea:\n",
    "* keep moving to an unvisited neighbor\n",
    "* when stuck make a step back and try again"
   ]
  },
  {
   "cell_type": "markdown",
   "id": "e5f0dae9",
   "metadata": {
    "cell_style": "split"
   },
   "source": [
    "<div align=\"center\">\n",
    "<img src=\"graphs/graph_3_5.svg\" alt=\"[dfs demo]\" width=\"60%\">\n",
    "</div>"
   ]
  },
  {
   "cell_type": "markdown",
   "id": "56dc27dc",
   "metadata": {
    "slideshow": {
     "slide_type": "subslide"
    }
   },
   "source": [
    "## Depth–First Search (DFS)"
   ]
  },
  {
   "cell_type": "markdown",
   "id": "b4e7890a",
   "metadata": {
    "cell_style": "split"
   },
   "source": [
    "General idea:\n",
    "* keep going to an unvisited vertex\n",
    "* when stuck make a step back and try again"
   ]
  },
  {
   "cell_type": "markdown",
   "id": "64f56381",
   "metadata": {
    "cell_style": "split"
   },
   "source": [
    "<div align=\"center\">\n",
    "<img src=\"graphs/graph_3_6.svg\" alt=\"[dfs demo]\" width=\"60%\">\n",
    "</div>"
   ]
  },
  {
   "cell_type": "markdown",
   "id": "e421a12c",
   "metadata": {
    "slideshow": {
     "slide_type": "subslide"
    }
   },
   "source": [
    "## Depth–First Search (DFS)"
   ]
  },
  {
   "cell_type": "markdown",
   "id": "9b04ca57",
   "metadata": {
    "cell_style": "split"
   },
   "source": [
    "General idea:\n",
    "* keep going to an unvisited vertex\n",
    "* when stuck make a step back and try again"
   ]
  },
  {
   "cell_type": "markdown",
   "id": "ecdb4878",
   "metadata": {
    "cell_style": "split"
   },
   "source": [
    "<div align=\"center\">\n",
    "<img src=\"graphs/graph_3_7.svg\" alt=\"[dfs demo]\" width=\"60%\">\n",
    "</div>"
   ]
  },
  {
   "cell_type": "markdown",
   "id": "46b89ab5",
   "metadata": {
    "slideshow": {
     "slide_type": "subslide"
    }
   },
   "source": [
    "## Depth–First Search (DFS)"
   ]
  },
  {
   "cell_type": "markdown",
   "id": "36a6de90",
   "metadata": {
    "cell_style": "split"
   },
   "source": [
    "General idea:\n",
    "* keep going to an unvisited vertex\n",
    "* when stuck make a step back and try again"
   ]
  },
  {
   "cell_type": "markdown",
   "id": "2a91dc47",
   "metadata": {
    "cell_style": "split"
   },
   "source": [
    "<div align=\"center\">\n",
    "<img src=\"graphs/graph_3_8.svg\" alt=\"[dfs demo]\" width=\"60%\">\n",
    "</div>"
   ]
  },
  {
   "cell_type": "markdown",
   "id": "63150168",
   "metadata": {
    "slideshow": {
     "slide_type": "subslide"
    }
   },
   "source": [
    "## Depth–First Search (DFS)"
   ]
  },
  {
   "cell_type": "markdown",
   "id": "f2b00053",
   "metadata": {
    "cell_style": "split"
   },
   "source": [
    "General idea:\n",
    "* keep going to an unvisited vertex\n",
    "* when stuck make a step back and try again"
   ]
  },
  {
   "cell_type": "markdown",
   "id": "df667311",
   "metadata": {
    "cell_style": "split"
   },
   "source": [
    "<div align=\"center\">\n",
    "<img src=\"graphs/graph_3_9.svg\" alt=\"[dfs demo]\" width=\"60%\">\n",
    "</div>"
   ]
  },
  {
   "cell_type": "markdown",
   "id": "37918f7b",
   "metadata": {
    "slideshow": {
     "slide_type": "subslide"
    }
   },
   "source": [
    "## Depth–First Search (DFS)"
   ]
  },
  {
   "cell_type": "markdown",
   "id": "e75a195d",
   "metadata": {
    "cell_style": "split"
   },
   "source": [
    "General idea:\n",
    "* keep going to an unvisited vertex\n",
    "* when stuck make a step back and try again"
   ]
  },
  {
   "cell_type": "markdown",
   "id": "83c5b434",
   "metadata": {
    "cell_style": "split"
   },
   "source": [
    "<div align=\"center\">\n",
    "<img src=\"graphs/graph_3_10.svg\" alt=\"[dfs demo]\" width=\"60%\">\n",
    "</div>"
   ]
  },
  {
   "cell_type": "markdown",
   "id": "7105b6a6",
   "metadata": {
    "slideshow": {
     "slide_type": "subslide"
    }
   },
   "source": [
    "## Depth–First Search (DFS)"
   ]
  },
  {
   "cell_type": "markdown",
   "id": "0f3b0c0e",
   "metadata": {
    "cell_style": "split"
   },
   "source": [
    "General idea:\n",
    "* keep going to an unvisited vertex\n",
    "* when stuck make a step back and try again"
   ]
  },
  {
   "cell_type": "markdown",
   "id": "7c44174d",
   "metadata": {
    "cell_style": "split"
   },
   "source": [
    "<div align=\"center\">\n",
    "<img src=\"graphs/graph_3_11.svg\" alt=\"[dfs demo]\" width=\"60%\">\n",
    "</div>"
   ]
  },
  {
   "cell_type": "markdown",
   "id": "39755ecb",
   "metadata": {
    "slideshow": {
     "slide_type": "subslide"
    }
   },
   "source": [
    "## Depth–First Search (DFS)"
   ]
  },
  {
   "cell_type": "markdown",
   "id": "1bbcbaf8",
   "metadata": {
    "cell_style": "split"
   },
   "source": [
    "General idea:\n",
    "* keep going to an unvisited vertex\n",
    "* when stuck make a step back and try again"
   ]
  },
  {
   "cell_type": "markdown",
   "id": "de995a59",
   "metadata": {
    "cell_style": "split"
   },
   "source": [
    "<div align=\"center\">\n",
    "<img src=\"graphs/graph_3_12.svg\" alt=\"[dfs demo]\" width=\"60%\">\n",
    "</div>"
   ]
  },
  {
   "cell_type": "markdown",
   "id": "a923f67f",
   "metadata": {
    "slideshow": {
     "slide_type": "subslide"
    }
   },
   "source": [
    "## Depth–First Search (DFS)"
   ]
  },
  {
   "cell_type": "markdown",
   "id": "29d7d832",
   "metadata": {
    "cell_style": "split"
   },
   "source": [
    "General idea:\n",
    "* keep going to an unvisited vertex\n",
    "* when stuck make a step back and try again"
   ]
  },
  {
   "cell_type": "markdown",
   "id": "e912f70e",
   "metadata": {
    "cell_style": "split"
   },
   "source": [
    "<div align=\"center\">\n",
    "<img src=\"graphs/graph_3_13.svg\" alt=\"[dfs demo]\" width=\"60%\">\n",
    "</div>"
   ]
  },
  {
   "cell_type": "markdown",
   "id": "94ba3926",
   "metadata": {
    "slideshow": {
     "slide_type": "subslide"
    }
   },
   "source": [
    "## Depth–First Search (DFS)"
   ]
  },
  {
   "cell_type": "markdown",
   "id": "faeab8a0",
   "metadata": {
    "cell_style": "split"
   },
   "source": [
    "General idea:\n",
    "* keep going to an unvisited vertex\n",
    "* when stuck make a step back and try again"
   ]
  },
  {
   "cell_type": "markdown",
   "id": "5d00e247",
   "metadata": {
    "cell_style": "split"
   },
   "source": [
    "<div align=\"center\">\n",
    "<img src=\"graphs/graph_3_14.svg\" alt=\"[dfs demo]\" width=\"60%\">\n",
    "</div>"
   ]
  },
  {
   "cell_type": "markdown",
   "id": "6cabfaa7",
   "metadata": {
    "slideshow": {
     "slide_type": "subslide"
    }
   },
   "source": [
    "## Depth–First Search (DFS)"
   ]
  },
  {
   "cell_type": "markdown",
   "id": "1f62a452",
   "metadata": {
    "cell_style": "split"
   },
   "source": [
    "General idea:\n",
    "* keep going to an unvisited vertex\n",
    "* when stuck make a step back and try again"
   ]
  },
  {
   "cell_type": "markdown",
   "id": "d210a9d6",
   "metadata": {
    "cell_style": "split"
   },
   "source": [
    "<div align=\"center\">\n",
    "<img src=\"graphs/graph_3_15.svg\" alt=\"[dfs demo]\" width=\"60%\">\n",
    "</div>"
   ]
  },
  {
   "cell_type": "markdown",
   "id": "828c45ce",
   "metadata": {
    "cell_style": "center"
   },
   "source": [
    "## Our sample graph from BFS\n",
    "\n",
    "<div align=\"center\">\n",
    "    <img src=\"graphs/graph_1_0.svg\" alt=\"[first sample graph]\" width=\"50%\">\n",
    "</div>"
   ]
  },
  {
   "cell_type": "code",
   "execution_count": 16,
   "id": "bff8bfe5",
   "metadata": {
    "cell_style": "center"
   },
   "outputs": [
    {
     "name": "stdout",
     "output_type": "stream",
     "text": [
      "vertex:distance\n",
      "   0:1   1:2   2:0   3:1   4:2   5:3   6:4   7:5   8:6   9:3\n"
     ]
    }
   ],
   "source": [
    "fn dfs(vertex:Vertex, graph: &Graph, d: usize, visited: &mut Vec<bool>, distance: &mut Vec<usize> ){\n",
    "    for w in graph.outedges[vertex].iter() {\n",
    "      if visited[*w] == false {\n",
    "        distance[*w] = d;\n",
    "        visited[*w] = true;\n",
    "        dfs(*w, graph, d+1, visited, distance);\n",
    "      }\n",
    "    }\n",
    "}\n",
    "\n",
    "let n: usize = 10;\n",
    "let edges: ListOfEdges = vec![(0,1),(0,2),(1,2),(2,4),(2,3),(4,3),(4,5),(5,6),(4,6),(6,8),(6,7),(8,7),(1,9)];\n",
    "let graph = Graph::create_undirected(n,&edges);\n",
    "let mut visited = vec![false;graph.n];\n",
    "let mut distance = vec![0;graph.n];\n",
    "\n",
    "visited[2] = true;\n",
    "distance[2] = 0;\n",
    "dfs(2, &graph, 1, &mut visited, &mut distance);\n",
    "println!(\"vertex:distance\");\n",
    "for v in 0..graph.n {\n",
    "    print!(\"   {}:{}\",v,distance[v]);\n",
    "}\n",
    "println!();\n",
    "\n",
    "// For comparison this was the distance from bfs \n",
    "// vertex:distance   0:1   1:1   2:0   3:1   4:1   5:2   6:2   7:3   8:3   9:2"
   ]
  },
  {
   "cell_type": "markdown",
   "id": "a2c6a076",
   "metadata": {
    "slideshow": {
     "slide_type": "slide"
    }
   },
   "source": [
    "# Connected components via DFS\n",
    "Recursive DFS exploration:"
   ]
  },
  {
   "cell_type": "code",
   "execution_count": 17,
   "id": "ba11d51b",
   "metadata": {},
   "outputs": [],
   "source": [
    "fn mark_component_dfs(vertex:Vertex, graph:&Graph, component:&mut Vec<Option<Component>>, component_no:Component) {\n",
    "    component[vertex] = Some(component_no);\n",
    "    for w in graph.outedges[vertex].iter() {\n",
    "        if let None = component[*w] {\n",
    "            mark_component_dfs(*w,graph,component,component_no);\n",
    "        }        \n",
    "    }\n",
    "}"
   ]
  },
  {
   "cell_type": "markdown",
   "id": "3acda500",
   "metadata": {
    "cell_style": "center",
    "slideshow": {
     "slide_type": "fragment"
    }
   },
   "source": [
    "Going over all components and assigning vertices:"
   ]
  },
  {
   "cell_type": "code",
   "execution_count": 18,
   "id": "7e441180",
   "metadata": {
    "slideshow": {
     "slide_type": ""
    }
   },
   "outputs": [],
   "source": [
    "let n: usize = 9;\n",
    "let edges: Vec<(Vertex,Vertex)> = vec![(0,1),(0,2),(1,2),(2,4),(0,4),(5,7),(6,8)];\n",
    "let graph = Graph::create_undirected(n, &edges);\n",
    "\n",
    "let mut component = vec![None;graph.n];\n",
    "let mut component_count = 0;\n",
    "\n",
    "for v in 0..graph.n {\n",
    "    if let None = component[v] {\n",
    "        component_count += 1;\n",
    "        mark_component_dfs(v,&graph,&mut component,component_count);\n",
    "    }\n",
    "};"
   ]
  },
  {
   "cell_type": "markdown",
   "id": "835d8ee3",
   "metadata": {
    "slideshow": {
     "slide_type": "subslide"
    }
   },
   "source": [
    "# Connected components via DFS"
   ]
  },
  {
   "cell_type": "markdown",
   "id": "ef14fe77",
   "metadata": {
    "slideshow": {
     "slide_type": ""
    }
   },
   "source": [
    "Let's verify the results:"
   ]
  },
  {
   "cell_type": "code",
   "execution_count": 19,
   "id": "f03dd6b8",
   "metadata": {
    "cell_style": "split",
    "slideshow": {
     "slide_type": ""
    }
   },
   "outputs": [
    {
     "name": "stdout",
     "output_type": "stream",
     "text": [
      "4 components:\n",
      "[  0:1  1:1  2:1  3:2  4:1  5:3  6:4  7:3  8:4  ]\n",
      "\n"
     ]
    }
   ],
   "source": [
    "print!(\"{} components:\\n[  \",component_count);\n",
    "for v in 0..n {\n",
    "    print!(\"{}:{}  \",v,component[v].unwrap());\n",
    "}\n",
    "println!(\"]\\n\");"
   ]
  },
  {
   "cell_type": "markdown",
   "id": "f11cea46",
   "metadata": {
    "cell_style": "split"
   },
   "source": [
    "<div align=\"center\">\n",
    "    <img src=\"graphs/graph_2.svg\" alt=\"[components]\" width=\"65%\">\n",
    "</div>"
   ]
  },
  {
   "cell_type": "markdown",
   "id": "52b03442",
   "metadata": {
    "cell_style": "center",
    "slideshow": {
     "slide_type": "slide"
    }
   },
   "source": [
    "## BFS vs. DFS\n",
    "\n",
    "### BFS\n",
    "* gives graph distances between vertices (fundamental problem!)\n",
    "* connectivity "
   ]
  },
  {
   "cell_type": "markdown",
   "id": "55ba1a0a",
   "metadata": {
    "cell_style": "split",
    "slideshow": {
     "slide_type": "fragment"
    }
   },
   "source": [
    "### DFS\n",
    "  * What is it good for?"
   ]
  },
  {
   "cell_type": "markdown",
   "id": "c5342799",
   "metadata": {
    "cell_style": "split",
    "slideshow": {
     "slide_type": "fragment"
    }
   },
   "source": [
    "### Lots of things!\n",
    "\n",
    "Examples:\n",
    " * find edges/vertices crucial for connectivity\n",
    " * orient edges of a graph so it is still connected\n",
    " * strongly connected components in directed graphs\n",
    " * Traversal of trees (inorder, preorder, postorder)\n",
    " * Topological Sorting (Scheduling)\n",
    " * Matching people and jobs"
   ]
  },
  {
   "cell_type": "markdown",
   "id": "e931c749",
   "metadata": {},
   "source": [
    "### Topological sort "
   ]
  },
  {
   "cell_type": "markdown",
   "id": "2c8266e3",
   "metadata": {
    "slideshow": {
     "slide_type": "slide"
    }
   },
   "source": [
    "# 1. Graph exploration overview\n",
    "# 2. Breadth–first search (BFS)\n",
    "# 3. Depth–first search (DFS)\n",
    "# <font color=\"red\">4. Strongly connected components</font>"
   ]
  },
  {
   "cell_type": "markdown",
   "id": "011ef4a4",
   "metadata": {
    "slideshow": {
     "slide_type": "slide"
    }
   },
   "source": [
    "## Strong connectivity\n",
    "<br>\n",
    "<div align=\"center\">\n",
    "    <b>What does connectivity mean in directed graphs?</b><br>\n",
    "    <b>What if you can get from $v$ to $w$, but not from $w$ to $v$?</b><br>\n",
    "</div>"
   ]
  },
  {
   "cell_type": "markdown",
   "id": "47b6ae87",
   "metadata": {
    "slideshow": {
     "slide_type": "fragment"
    }
   },
   "source": [
    "<br>\n",
    "<b>Strongly connected component:</b>\n",
    "<div align=\"center\">\n",
    "a maximal set of vertices such that you can get from any of them to any other one.  So like connected components but taking directionality into account\n",
    "</div>"
   ]
  },
  {
   "cell_type": "markdown",
   "id": "80d220a9",
   "metadata": {
    "slideshow": {
     "slide_type": "fragment"
    }
   },
   "source": [
    "<br>\n",
    "<b>Fact:</b> There is a unique decomposition"
   ]
  },
  {
   "cell_type": "markdown",
   "id": "8ea81403",
   "metadata": {
    "slideshow": {
     "slide_type": "slide"
    }
   },
   "source": [
    "## Find the unique decomposition via two DFS runs\n",
    "\n",
    "### General idea"
   ]
  },
  {
   "cell_type": "markdown",
   "id": "058a59e3",
   "metadata": {
    "slideshow": {
     "slide_type": ""
    }
   },
   "source": [
    "First DFS:\n",
    "* maintain auxiliary stack $S$\n",
    "* visit all vertices, starting DFS multiple times from unvisited vertices as needed\n",
    "* put each vertex, when done going over its neighbors, on the stack"
   ]
  },
  {
   "cell_type": "markdown",
   "id": "d435a19c",
   "metadata": {
    "slideshow": {
     "slide_type": "fragment"
    }
   },
   "source": [
    "Second DFS:\n",
    "* **reverse edges of the graph!!!**\n",
    "* consider vertices in order from the stack\n",
    "* for each unvisited vertex, start DFS: it will visit a new strongly connected component"
   ]
  },
  {
   "cell_type": "markdown",
   "id": "ad6b5cd6",
   "metadata": {
    "slideshow": {
     "slide_type": "slide"
    }
   },
   "source": [
    "## Implementation"
   ]
  },
  {
   "cell_type": "code",
   "execution_count": 30,
   "id": "38f3308d",
   "metadata": {
    "slideshow": {
     "slide_type": ""
    }
   },
   "outputs": [
    {
     "name": "stdout",
     "output_type": "stream",
     "text": [
      "Graph { n: 7, outedges: [[1], [2], [0, 3], [4], [5], [3], [5]] }\n",
      "Graph { n: 7, outedges: [[2], [0], [1], [2, 5], [3], [4, 6], []] }\n"
     ]
    }
   ],
   "source": [
    "let n: usize = 7;\n",
    "let edges: ListOfEdges = vec![(0,1),(1,2),(2,0),(3,4),(4,5),(5,3),(2,3),(6,5)];\n",
    "let graph = Graph::create_directed(n, &edges);\n",
    "let graph_reverse = Graph::create_directed(n,&reverse_edges(&edges));\n",
    "println!(\"{:?}\\n{:?}\",graph,graph_reverse);"
   ]
  },
  {
   "cell_type": "markdown",
   "id": "9a576e99",
   "metadata": {
    "slideshow": {
     "slide_type": "slide"
    }
   },
   "source": [
    "## Implementation (first DFS)"
   ]
  },
  {
   "cell_type": "code",
   "execution_count": 31,
   "id": "9c6f4a38",
   "metadata": {
    "slideshow": {
     "slide_type": ""
    }
   },
   "outputs": [],
   "source": [
    "let mut stack: Vec<Vertex> = Vec::new();\n",
    "let mut visited = vec![false;graph.n];"
   ]
  },
  {
   "cell_type": "code",
   "execution_count": 32,
   "id": "5d4dc506",
   "metadata": {
    "slideshow": {
     "slide_type": "fragment"
    }
   },
   "outputs": [],
   "source": [
    "fn dfs_collect_stack(v:Vertex, graph:&Graph, stack:&mut Vec<Vertex>, visited:&mut Vec<bool>) {\n",
    "    if !visited[v] {\n",
    "        visited[v] = true;\n",
    "        for w in graph.outedges[v].iter() {\n",
    "            dfs_collect_stack(*w, graph, stack, visited);\n",
    "        }\n",
    "        stack.push(v);\n",
    "    }\n",
    "}"
   ]
  },
  {
   "cell_type": "code",
   "execution_count": 33,
   "id": "176d3fdc",
   "metadata": {
    "slideshow": {
     "slide_type": "fragment"
    }
   },
   "outputs": [
    {
     "data": {
      "text/plain": [
       "[5, 4, 3, 2, 1, 0, 6]"
      ]
     },
     "execution_count": 33,
     "metadata": {},
     "output_type": "execute_result"
    }
   ],
   "source": [
    "for v in 0..graph.n {\n",
    "    dfs_collect_stack(v,&graph,&mut stack,&mut visited);\n",
    "};\n",
    "stack"
   ]
  },
  {
   "cell_type": "markdown",
   "id": "40bc6382",
   "metadata": {
    "slideshow": {
     "slide_type": "slide"
    }
   },
   "source": [
    "## Implementation (second DFS, reversed graph)"
   ]
  },
  {
   "cell_type": "code",
   "execution_count": 34,
   "id": "4824c9a9",
   "metadata": {
    "slideshow": {
     "slide_type": "-"
    }
   },
   "outputs": [],
   "source": [
    "let mut component: Vec<Option<Component>> = vec![None;graph.n];\n",
    "let mut component_count = 0;\n",
    "\n",
    "while let Some(v) = stack.pop() {\n",
    "    if let None = component[v] {\n",
    "        component_count += 1;\n",
    "        mark_component_dfs(v, &graph_reverse, &mut component, component_count);\n",
    "    }\n",
    "};"
   ]
  },
  {
   "cell_type": "code",
   "execution_count": 38,
   "id": "0ac4732f",
   "metadata": {
    "cell_style": "split",
    "slideshow": {
     "slide_type": "fragment"
    }
   },
   "outputs": [
    {
     "name": "stdout",
     "output_type": "stream",
     "text": [
      "3 components:\n",
      "Component 1: 6 \n",
      "Component 2: 0 1 2 \n",
      "Component 3: 3 4 5 \n",
      "\n"
     ]
    }
   ],
   "source": [
    "print!(\"{} components:\\n\",component_count);\n",
    "for c in 1..=component_count {\n",
    "    print!(\"Component {}: \", c);\n",
    "    for v in 0..n {\n",
    "       if component[v].unwrap() == c {\n",
    "          print!(\"{} \",v);\n",
    "       }\n",
    "    }\n",
    "    println!();\n",
    "}\n",
    "println!();"
   ]
  },
  {
   "attachments": {
    "graph_4.0.png": {
     "image/png": "[encoded data removed]"
    }
   },
   "cell_type": "markdown",
   "id": "d7b3637f",
   "metadata": {
    "cell_style": "split"
   },
   "source": [
    "![graph_4.0.png](attachment:graph_4.0.png)"
   ]
  },
  {
   "cell_type": "code",
   "execution_count": null,
   "id": "b0e8c935",
   "metadata": {},
   "outputs": [],
   "source": []
  }
 ],
 "metadata": {
  "celltoolbar": "Slideshow",
  "kernelspec": {
   "display_name": "Rust",
   "language": "rust",
   "name": "rust"
  },
  "language_info": {
   "codemirror_mode": "rust",
   "file_extension": ".rs",
   "mimetype": "text/rust",
   "name": "Rust",
   "pygment_lexer": "rust",
   "version": ""
  },
  "rise": {
   "theme": "beige",
   "transition": "fade"
  }
 },
 "nbformat": 4,
 "nbformat_minor": 5
}
