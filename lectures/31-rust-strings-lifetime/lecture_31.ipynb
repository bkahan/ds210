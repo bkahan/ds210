{
 "cells": [
  {
   "cell_type": "markdown",
   "id": "cf7f87e3",
   "metadata": {
    "slideshow": {
     "slide_type": "slide"
    }
   },
   "source": [
    "<div align=\"center\">\n",
    "    <h1>DS-210: Programming for Data Science</h1>\n",
    "    <h1>Lecture 31</h1>\n",
    "</div>\n",
    "\n",
    "# 1. Strings: `String` and `&str`\n",
    "# 2. Lifetimes"
   ]
  },
  {
   "cell_type": "markdown",
   "id": "68224c27",
   "metadata": {
    "slideshow": {
     "slide_type": "slide"
    }
   },
   "source": [
    "# <font color=\"red\">1. Strings: `String` and `&str`</font>\n",
    "# 2. Lifetimes"
   ]
  },
  {
   "cell_type": "markdown",
   "id": "51b6521f",
   "metadata": {
    "slideshow": {
     "slide_type": "slide"
    }
   },
   "source": [
    "## Rust and strings"
   ]
  },
  {
   "cell_type": "markdown",
   "id": "03b177bb",
   "metadata": {
    "cell_style": "split"
   },
   "source": [
    "* We have avoided this topic so far\n",
    "\n",
    "\n",
    "* It's complicated\n",
    "\n",
    "\n",
    "* Unicode is complicated\n",
    "\n",
    "\n",
    "* Advantages: internationalization and emojis out of the box"
   ]
  },
  {
   "cell_type": "markdown",
   "id": "070a8225",
   "metadata": {
    "cell_style": "split",
    "slideshow": {
     "slide_type": "fragment"
    }
   },
   "source": [
    "* **Rust:** Unicode strings are a first–class citizen\n",
    "\n",
    "\n",
    "* **Classical programming languages:**\n",
    "  * ASCII strings are the default\n",
    "  * Easier to manage\n",
    "  * Additional libraries needed to deal with Unicode\n"
   ]
  },
  {
   "cell_type": "markdown",
   "id": "a4d62583",
   "metadata": {
    "slideshow": {
     "slide_type": "slide"
    }
   },
   "source": [
    "## Reminder: Single characters (Unicode scalar values)\n",
    "\n",
    "* Type: `char`\n",
    "* Size: 4 bytes\n",
    "* Note the single quotes!"
   ]
  },
  {
   "cell_type": "code",
   "execution_count": 2,
   "id": "ea2e726d",
   "metadata": {
    "cell_style": "split",
    "slideshow": {
     "slide_type": "fragment"
    }
   },
   "outputs": [],
   "source": [
    "let a : char = 'a';\n",
    "let b = '🦕';"
   ]
  },
  {
   "cell_type": "markdown",
   "id": "b4477735",
   "metadata": {
    "cell_style": "split"
   },
   "source": [
    "Dinosaurs:<br>\n",
    "&nbsp;&nbsp;&nbsp;🦕 (U+1F995)<br>\n",
    "&nbsp;&nbsp;&nbsp;🦖 (U+1F996)"
   ]
  },
  {
   "cell_type": "code",
   "execution_count": 3,
   "id": "b205e425",
   "metadata": {
    "slideshow": {
     "slide_type": "fragment"
    }
   },
   "outputs": [],
   "source": [
    "// Mayan numeral (not all unicode characters are supported everywhere)\n",
    "let c = '𝋥';"
   ]
  },
  {
   "cell_type": "code",
   "execution_count": 4,
   "id": "0c94e308",
   "metadata": {
    "cell_style": "split",
    "slideshow": {
     "slide_type": "fragment"
    }
   },
   "outputs": [
    {
     "data": {
      "text/plain": [
       "4"
      ]
     },
     "execution_count": 4,
     "metadata": {},
     "output_type": "execute_result"
    }
   ],
   "source": [
    "std::mem::size_of_val(&a)"
   ]
  },
  {
   "cell_type": "code",
   "execution_count": 5,
   "id": "5ec622fe",
   "metadata": {
    "cell_style": "split"
   },
   "outputs": [
    {
     "data": {
      "text/plain": [
       "4"
      ]
     },
     "execution_count": 5,
     "metadata": {},
     "output_type": "execute_result"
    }
   ],
   "source": [
    "std::mem::size_of_val(&b)"
   ]
  },
  {
   "cell_type": "markdown",
   "id": "fdd79470",
   "metadata": {
    "slideshow": {
     "slide_type": "slide"
    }
   },
   "source": [
    "## String literals\n",
    "\n",
    "* String literal${}={}$when you create a string `\"like this\"`\n",
    "* Note the double quotes\n",
    "* What type are they?"
   ]
  },
  {
   "cell_type": "code",
   "execution_count": 6,
   "id": "c2897656",
   "metadata": {
    "slideshow": {
     "slide_type": "fragment"
    }
   },
   "outputs": [],
   "source": [
    "let sample = \"Hello, DS210!\";"
   ]
  },
  {
   "cell_type": "code",
   "execution_count": 7,
   "id": "cfe8f27b",
   "metadata": {
    "slideshow": {
     "slide_type": "fragment"
    }
   },
   "outputs": [
    {
     "ename": "Error",
     "evalue": "mismatched types",
     "output_type": "error",
     "traceback": [
      "let sample: String = \"Hello, DS210!\";",
      "\u001b[91m                     ^^^^^^^^^^^^^^^\u001b[0m \u001b[94mexpected struct `String`, found `&str`\u001b[0m",
      "let sample: String = \"Hello, DS210!\";",
      "\u001b[91m            ^^^^^^\u001b[0m \u001b[94mexpected due to this\u001b[0m",
      "mismatched types",
      "\u001b[1mhelp\u001b[0m: try using a conversion method\n\n.to_string()"
     ]
    }
   ],
   "source": [
    "let sample: String = \"Hello, DS210!\";"
   ]
  },
  {
   "cell_type": "code",
   "execution_count": 8,
   "id": "dfd760b1",
   "metadata": {
    "slideshow": {
     "slide_type": "fragment"
    }
   },
   "outputs": [],
   "source": [
    "let sample: &str = \"Hello, DS210!\";"
   ]
  },
  {
   "cell_type": "markdown",
   "id": "220b41d9",
   "metadata": {
    "slideshow": {
     "slide_type": "fragment"
    }
   },
   "source": [
    "`&str` is a **string slice**, internally behaves like `&[u8]`"
   ]
  },
  {
   "cell_type": "markdown",
   "id": "fb78aa0e",
   "metadata": {
    "slideshow": {
     "slide_type": "subslide"
    }
   },
   "source": [
    "## Encoding of characters\n",
    "\n",
    "`a` and `🦕` were both 4 bytes"
   ]
  },
  {
   "cell_type": "code",
   "execution_count": 9,
   "id": "a7a9989b",
   "metadata": {
    "cell_style": "split"
   },
   "outputs": [
    {
     "data": {
      "text/plain": [
       "1"
      ]
     },
     "execution_count": 9,
     "metadata": {},
     "output_type": "execute_result"
    }
   ],
   "source": [
    "std::mem::size_of_val(\"a\")"
   ]
  },
  {
   "cell_type": "code",
   "execution_count": 10,
   "id": "70d37ee2",
   "metadata": {
    "cell_style": "split",
    "slideshow": {
     "slide_type": "fragment"
    }
   },
   "outputs": [
    {
     "data": {
      "text/plain": [
       "4"
      ]
     },
     "execution_count": 10,
     "metadata": {},
     "output_type": "execute_result"
    }
   ],
   "source": [
    "std::mem::size_of_val(\"🦕\")"
   ]
  },
  {
   "cell_type": "markdown",
   "id": "46b10dd2",
   "metadata": {
    "cell_style": "split",
    "slideshow": {
     "slide_type": "fragment"
    }
   },
   "source": [
    "Characters need 1–4 bytes to be encoded."
   ]
  },
  {
   "cell_type": "code",
   "execution_count": 11,
   "id": "8eddc16e",
   "metadata": {
    "slideshow": {
     "slide_type": "fragment"
    }
   },
   "outputs": [
    {
     "data": {
      "text/plain": [
       "8"
      ]
     },
     "execution_count": 11,
     "metadata": {},
     "output_type": "execute_result"
    }
   ],
   "source": [
    "let dinos = \"🦕🦖\";\n",
    "std::mem::size_of_val(dinos)"
   ]
  },
  {
   "cell_type": "code",
   "execution_count": 5,
   "id": "d9dba167",
   "metadata": {},
   "outputs": [
    {
     "data": {
      "text/plain": [
       "10"
      ]
     },
     "execution_count": 5,
     "metadata": {},
     "output_type": "execute_result"
    }
   ],
   "source": [
    "let mixed = \"a🦖b🦕\";\n",
    "std::mem::size_of_val(mixed)"
   ]
  },
  {
   "cell_type": "code",
   "execution_count": 6,
   "id": "e0bcb175",
   "metadata": {},
   "outputs": [
    {
     "name": "stdout",
     "output_type": "stream",
     "text": [
      "0 a 4\n",
      "1 🦖 4\n",
      "2 b 4\n",
      "3 🦕 4\n"
     ]
    },
    {
     "data": {
      "text/plain": [
       "()"
      ]
     },
     "execution_count": 6,
     "metadata": {},
     "output_type": "execute_result"
    }
   ],
   "source": [
    "// Iterating through characters\n",
    "for (i, c) in mixed.chars().enumerate() {\n",
    "    println!(\"{} {} {}\", i, c, std::mem::size_of_val(&c));\n",
    "}\n"
   ]
  },
  {
   "cell_type": "markdown",
   "id": "4141f05a",
   "metadata": {
    "slideshow": {
     "slide_type": "fragment"
    }
   },
   "source": [
    "Can select substrings, but they must be aligned with actual characters (or runtime error)"
   ]
  },
  {
   "cell_type": "code",
   "execution_count": 12,
   "id": "e70b2602",
   "metadata": {
    "cell_style": "split"
   },
   "outputs": [
    {
     "name": "stderr",
     "output_type": "stream",
     "text": [
      "thread '<unnamed>' panicked at 'byte index 1 is not a char boundary; it is inside '🦕' (bytes 0..4) of `🦕🦖`', src/lib.rs:130:40\n",
      "stack backtrace:\n",
      "   0: rust_begin_unwind\n",
      "             at /rustc/9d1b2106e23b1abd32fce1f17267604a5102f57a/library/std/src/panicking.rs:498:5\n",
      "   1: core::panicking::panic_fmt\n",
      "             at /rustc/9d1b2106e23b1abd32fce1f17267604a5102f57a/library/core/src/panicking.rs:116:14\n",
      "   2: core::str::slice_error_fail\n",
      "   3: run_user_code_10\n",
      "   4: evcxr::runtime::Runtime::run_loop\n",
      "   5: evcxr::runtime::runtime_hook\n",
      "   6: evcxr_jupyter::main\n",
      "note: Some details are omitted, run with `RUST_BACKTRACE=full` for a verbose backtrace.\n",
      "Segmentation fault.\n",
      "   0: evcxr::runtime::Runtime::install_crash_handlers::segfault_handler\n",
      "   1: <unknown>\n",
      "   2: mi_free\n",
      "   3: alloc::alloc::dealloc\n",
      "             at /rustc/9d1b2106e23b1abd32fce1f17267604a5102f57a/library/alloc/src/alloc.rs:105:14\n",
      "      <alloc::alloc::Global as core::alloc::Allocator>::deallocate\n",
      "             at /rustc/9d1b2106e23b1abd32fce1f17267604a5102f57a/library/alloc/src/alloc.rs:242:22\n",
      "      alloc::alloc::box_free\n",
      "             at /rustc/9d1b2106e23b1abd32fce1f17267604a5102f57a/library/alloc/src/alloc.rs:340:9\n",
      "      panic_unwind::real_imp::cleanup\n",
      "             at /rustc/9d1b2106e23b1abd32fce1f17267604a5102f57a/library/panic_unwind/src/gcc.rs:83:5\n",
      "      __rust_panic_cleanup\n",
      "             at /rustc/9d1b2106e23b1abd32fce1f17267604a5102f57a/library/panic_unwind/src/lib.rs:97:19\n",
      "   4: std::panicking::try::cleanup\n",
      "             at /rustc/9d1b2106e23b1abd32fce1f17267604a5102f57a/library/std/src/panicking.rs:387:42\n",
      "   5: std::panicking::try::do_catch\n",
      "             at /rustc/9d1b2106e23b1abd32fce1f17267604a5102f57a/library/std/src/panicking.rs:431:23\n",
      "      std::panicking::try\n",
      "             at /rustc/9d1b2106e23b1abd32fce1f17267604a5102f57a/library/std/src/panicking.rs:370:19\n",
      "      std::panic::catch_unwind\n",
      "             at /rustc/9d1b2106e23b1abd32fce1f17267604a5102f57a/library/std/src/panic.rs:133:14\n",
      "      std::rt::lang_start_internal::{{closure}}\n",
      "             at /rustc/9d1b2106e23b1abd32fce1f17267604a5102f57a/library/std/src/rt.rs:128:48\n",
      "      std::panicking::try::do_call\n",
      "             at /rustc/9d1b2106e23b1abd32fce1f17267604a5102f57a/library/std/src/panicking.rs:406:40\n",
      "      std::panicking::try\n",
      "             at /rustc/9d1b2106e23b1abd32fce1f17267604a5102f57a/library/std/src/panicking.rs:370:19\n",
      "      std::panic::catch_unwind\n",
      "             at /rustc/9d1b2106e23b1abd32fce1f17267604a5102f57a/library/std/src/panic.rs:133:14\n",
      "      std::rt::lang_start_internal\n",
      "             at /rustc/9d1b2106e23b1abd32fce1f17267604a5102f57a/library/std/src/rt.rs:128:20\n",
      "   6: main\n",
      "   7: __libc_start_main\n",
      "   8: _start\n",
      "\n"
     ]
    },
    {
     "ename": "Error",
     "evalue": "Child process terminated with status: signal: 6 (core dumped)",
     "output_type": "error",
     "traceback": [
      "Child process terminated with status: signal: 6 (core dumped)"
     ]
    }
   ],
   "source": [
    "dinos[0..1]"
   ]
  },
  {
   "cell_type": "code",
   "execution_count": 13,
   "id": "984ac44e",
   "metadata": {
    "cell_style": "split",
    "slideshow": {
     "slide_type": "fragment"
    }
   },
   "outputs": [
    {
     "data": {
      "text/plain": [
       "\"🦕\""
      ]
     },
     "execution_count": 13,
     "metadata": {},
     "output_type": "execute_result"
    }
   ],
   "source": [
    "let dinos = \"🦕🦖\";\n",
    "dinos[0..4]"
   ]
  },
  {
   "cell_type": "code",
   "execution_count": 14,
   "id": "317ad7ac",
   "metadata": {
    "cell_style": "split",
    "slideshow": {
     "slide_type": "fragment"
    }
   },
   "outputs": [
    {
     "data": {
      "text/plain": [
       "\"world!\""
      ]
     },
     "execution_count": 14,
     "metadata": {},
     "output_type": "execute_result"
    }
   ],
   "source": [
    "let sample = \"Hello, world!\";\n",
    "sample[7..]"
   ]
  },
  {
   "cell_type": "markdown",
   "id": "976c18e7",
   "metadata": {
    "slideshow": {
     "slide_type": "slide"
    }
   },
   "source": [
    "## Strings\n",
    "\n",
    "* String type is dynamic: `Vec<u8>` internally\n",
    "* Can add characters and strings to the end"
   ]
  },
  {
   "cell_type": "code",
   "execution_count": 15,
   "id": "3723fd16",
   "metadata": {
    "slideshow": {
     "slide_type": "fragment"
    }
   },
   "outputs": [
    {
     "data": {
      "text/plain": [
       "\"abc\""
      ]
     },
     "execution_count": 15,
     "metadata": {},
     "output_type": "execute_result"
    }
   ],
   "source": [
    "let mut sample = String::new();\n",
    "\n",
    "//append string\n",
    "sample.push_str(\"abc\");\n",
    "sample"
   ]
  },
  {
   "cell_type": "code",
   "execution_count": 16,
   "id": "1c342519",
   "metadata": {
    "slideshow": {
     "slide_type": "fragment"
    }
   },
   "outputs": [
    {
     "data": {
      "text/plain": [
       "\"abcd\""
      ]
     },
     "execution_count": 16,
     "metadata": {},
     "output_type": "execute_result"
    }
   ],
   "source": [
    "// append character\n",
    "sample.push('d');\n",
    "sample"
   ]
  },
  {
   "cell_type": "markdown",
   "id": "ef90cc08",
   "metadata": {
    "slideshow": {
     "slide_type": "subslide"
    }
   },
   "source": [
    "## Converting literals to type `String`"
   ]
  },
  {
   "cell_type": "markdown",
   "id": "df005bd4",
   "metadata": {},
   "source": [
    "Use `.to_string()` or `String::from(...)`"
   ]
  },
  {
   "cell_type": "code",
   "execution_count": 17,
   "id": "ab9f98b8",
   "metadata": {},
   "outputs": [
    {
     "data": {
      "text/plain": [
       "true"
      ]
     },
     "execution_count": 17,
     "metadata": {},
     "output_type": "execute_result"
    }
   ],
   "source": [
    "let string_1 = \"This is a test\".to_string();\n",
    "let string_2 = String::from(\"This is a test\");\n",
    "string_1 == string_2"
   ]
  },
  {
   "cell_type": "markdown",
   "id": "030e9482",
   "metadata": {
    "slideshow": {
     "slide_type": "fragment"
    }
   },
   "source": [
    "Can also use macro `format!(...)`:\n",
    "  * same syntax as `println!(...)`\n",
    "  * produces an object of type `String`"
   ]
  },
  {
   "cell_type": "code",
   "execution_count": 18,
   "id": "f5250e06",
   "metadata": {},
   "outputs": [
    {
     "data": {
      "text/plain": [
       "\"This is a test == This is a test\""
      ]
     },
     "execution_count": 18,
     "metadata": {},
     "output_type": "execute_result"
    }
   ],
   "source": [
    "let sample: String = format!(\"{} == {}\",string_1,string_2);\n",
    "sample"
   ]
  },
  {
   "cell_type": "markdown",
   "id": "674281d1",
   "metadata": {
    "slideshow": {
     "slide_type": "slide"
    }
   },
   "source": [
    "## String concatenation via `+`\n",
    "\n",
    "* Takes ownership of the first parameter\n",
    "* Second parameter: `&str`"
   ]
  },
  {
   "cell_type": "code",
   "execution_count": 11,
   "id": "6f95ae68",
   "metadata": {},
   "outputs": [],
   "source": [
    "let string_1 = \"abc\".to_string();\n",
    "let string_2 = \"def\".to_string();"
   ]
  },
  {
   "cell_type": "code",
   "execution_count": 13,
   "id": "b2c847b4",
   "metadata": {},
   "outputs": [
    {
     "data": {
      "text/plain": [
       "\"abcdef\""
      ]
     },
     "execution_count": 13,
     "metadata": {},
     "output_type": "execute_result"
    }
   ],
   "source": [
    "string_1 + &string_2"
   ]
  },
  {
   "cell_type": "markdown",
   "id": "62cc4a9b",
   "metadata": {
    "slideshow": {
     "slide_type": "fragment"
    }
   },
   "source": [
    "Why `+` takes ownership of `string_1`:\n",
    " * reason: efficiency\n",
    " * no need to copy the content of the first string (unless the container size has to be increased)"
   ]
  },
  {
   "cell_type": "markdown",
   "id": "fc688efc",
   "metadata": {
    "slideshow": {
     "slide_type": "slide"
    }
   },
   "source": [
    "## Writing generic code\n",
    "* Use string slices &str if possible\n",
    "* This will work with `String` and `&str`"
   ]
  },
  {
   "cell_type": "code",
   "execution_count": 21,
   "id": "1fd56552",
   "metadata": {},
   "outputs": [],
   "source": [
    "fn show(message: &str) {\n",
    "    println!(\"{}\",message);\n",
    "}"
   ]
  },
  {
   "cell_type": "code",
   "execution_count": 22,
   "id": "ecd4bcea",
   "metadata": {
    "slideshow": {
     "slide_type": "fragment"
    }
   },
   "outputs": [
    {
     "name": "stdout",
     "output_type": "stream",
     "text": [
      "ds210\n",
      "ds210\n"
     ]
    }
   ],
   "source": [
    "// automatic conversion to &str from &String\n",
    "let mut my_string = String::from(\"ds210\");\n",
    "show(&my_string);\n",
    "show(\"ds210\");"
   ]
  },
  {
   "cell_type": "markdown",
   "id": "78234fc0",
   "metadata": {
    "slideshow": {
     "slide_type": "slide"
    }
   },
   "source": [
    "# 1. Strings: `String` and `&str`\n",
    "# <font color=\"red\">2. Lifetimes</font>"
   ]
  },
  {
   "cell_type": "markdown",
   "id": "4334f90c",
   "metadata": {
    "slideshow": {
     "slide_type": "slide"
    }
   },
   "source": [
    "## Lifetimes\n",
    "\n",
    "* How long your reference is valid\n",
    "* Important when sharing references\n",
    "  * Example: via function output"
   ]
  },
  {
   "cell_type": "markdown",
   "id": "3703e221",
   "metadata": {
    "slideshow": {
     "slide_type": "fragment"
    }
   },
   "source": [
    "**Challenge:** return the reference to the greater of two integers "
   ]
  },
  {
   "cell_type": "code",
   "execution_count": 23,
   "id": "37bc5f6a",
   "metadata": {
    "slideshow": {
     "slide_type": "fragment"
    }
   },
   "outputs": [
    {
     "ename": "Error",
     "evalue": "missing lifetime specifier",
     "output_type": "error",
     "traceback": [
      "fn ref_to_max(x:&mut i32, y:&mut i32) -> &mut i32 {",
      "\u001b[91m                ^^^^^^^^\u001b[0m \u001b[94m\u001b[0m",
      "fn ref_to_max(x:&mut i32, y:&mut i32) -> &mut i32 {",
      "\u001b[91m                            ^^^^^^^^\u001b[0m \u001b[94m\u001b[0m",
      "fn ref_to_max(x:&mut i32, y:&mut i32) -> &mut i32 {",
      "\u001b[91m                                         ^\u001b[0m \u001b[94mexpected named lifetime parameter\u001b[0m",
      "missing lifetime specifier",
      "\u001b[1mhelp\u001b[0m: this function's return type contains a borrowed value, but the signature does not say whether it is borrowed from `x` or `y`",
      "\u001b[1mhelp\u001b[0m: consider introducing a named lifetime parameter\n\n<'a>"
     ]
    }
   ],
   "source": [
    "fn ref_to_max(x:&mut i32, y:&mut i32) -> &mut i32 {\n",
    "    if *x >= *y {\n",
    "        x\n",
    "    } else {\n",
    "        y\n",
    "    }\n",
    "}"
   ]
  },
  {
   "cell_type": "markdown",
   "id": "8515aea8",
   "metadata": {
    "slideshow": {
     "slide_type": "slide"
    }
   },
   "source": [
    "## Specifying lifetimes"
   ]
  },
  {
   "cell_type": "markdown",
   "id": "9296ee82",
   "metadata": {
    "cell_style": "split",
    "slideshow": {
     "slide_type": ""
    }
   },
   "source": [
    "<code>'t</code> specifies how long a reference lives (`t` is some string) "
   ]
  },
  {
   "cell_type": "markdown",
   "id": "2965a70f",
   "metadata": {
    "cell_style": "split",
    "slideshow": {
     "slide_type": ""
    }
   },
   "source": [
    " * immutable example: <code>&'t i32</code>\n",
    " * mutable example: <code>&'t mut i32</code>"
   ]
  },
  {
   "cell_type": "code",
   "execution_count": 24,
   "id": "58a78047",
   "metadata": {
    "slideshow": {
     "slide_type": "fragment"
    }
   },
   "outputs": [],
   "source": [
    "fn ref_to_max<'a>(x:&'a mut i32, y:&'a mut i32) -> &'a mut i32 {\n",
    "    if *x >= *y {\n",
    "        x\n",
    "    } else {\n",
    "        y\n",
    "    }\n",
    "}"
   ]
  },
  {
   "cell_type": "code",
   "execution_count": 25,
   "id": "b36bdb7f",
   "metadata": {
    "slideshow": {
     "slide_type": "fragment"
    }
   },
   "outputs": [
    {
     "name": "stdout",
     "output_type": "stream",
     "text": [
      "13 3\n",
      "5 3\n",
      "1 3\n",
      "1 0\n"
     ]
    }
   ],
   "source": [
    "let mut x = 13;\n",
    "let mut y = 3;\n",
    "{\n",
    "    println!(\"{} {}\",x,y);\n",
    "    *ref_to_max(&mut x, & mut y) = 5;\n",
    "    println!(\"{} {}\",x,y);\n",
    "    *ref_to_max(&mut x, & mut y) = 1;\n",
    "    println!(\"{} {}\",x,y);\n",
    "    *ref_to_max(&mut x, & mut y) = 0;\n",
    "    println!(\"{} {}\",x,y);\n",
    "};"
   ]
  },
  {
   "cell_type": "markdown",
   "id": "85fa5380",
   "metadata": {
    "slideshow": {
     "slide_type": "slide"
    }
   },
   "source": [
    "## Applying this function\n",
    "\n",
    "* Different references may have different lifetimes\n",
    "* Rust will automatically select the shortest "
   ]
  },
  {
   "cell_type": "code",
   "execution_count": 26,
   "id": "b2d11610",
   "metadata": {
    "slideshow": {
     "slide_type": "fragment"
    }
   },
   "outputs": [
    {
     "data": {
      "text/plain": [
       "(1, -3)"
      ]
     },
     "execution_count": 26,
     "metadata": {},
     "output_type": "execute_result"
    }
   ],
   "source": [
    "let mut x = 1;\n",
    "let mut y = 10;\n",
    "{\n",
    "    let ref1 = &mut y;\n",
    "    {\n",
    "        let ref2 = &mut x;\n",
    "        *ref_to_max(ref1, ref2) = 3;\n",
    "    }\n",
    "    *ref1 *= -1;\n",
    "};\n",
    "(x,y)"
   ]
  },
  {
   "cell_type": "markdown",
   "id": "a93c3b7a",
   "metadata": {
    "slideshow": {
     "slide_type": "fragment"
    }
   },
   "source": [
    "## Multiple lifetimes possible"
   ]
  },
  {
   "cell_type": "code",
   "execution_count": 27,
   "id": "8da22400",
   "metadata": {},
   "outputs": [
    {
     "data": {
      "text/plain": [
       "(\"abc\", \"def\")"
      ]
     },
     "execution_count": 27,
     "metadata": {},
     "output_type": "execute_result"
    }
   ],
   "source": [
    "fn multiple<'a, 'b>(x:&'a str, y:&'b str) -> (&'a str,&'b str) {\n",
    "    (x,y)\n",
    "}\n",
    "multiple(\"abc\",\"def\")"
   ]
  },
  {
   "cell_type": "markdown",
   "id": "23e84577",
   "metadata": {
    "slideshow": {
     "slide_type": "slide"
    }
   },
   "source": [
    "## String literals are forever\n",
    "\n",
    "* Memory for them assigned in the code\n",
    "\n",
    "* Their references do not expire\n",
    "\n",
    "* Can be specified by `'static`"
   ]
  },
  {
   "cell_type": "code",
   "execution_count": 28,
   "id": "10dcc6ce",
   "metadata": {},
   "outputs": [],
   "source": [
    "let example: &'static str = \"abc\";"
   ]
  },
  {
   "cell_type": "markdown",
   "id": "872fa5de",
   "metadata": {
    "slideshow": {
     "slide_type": "slide"
    }
   },
   "source": [
    "# The 3 rules of lifetimes\n",
    "\n",
    "* The compiler assigns a lifetime parameter to each parameter that’s a reference. A function with one parameter gets one lifetime parameter: fn foo<'a>(x: &'a i32); a function with two parameters gets two separate lifetime parameters: fn foo<'a, 'b>(x: &'a i32, y: &'b i32); and so on.\n",
    "\n",
    "* If there is exactly one input lifetime parameter, that lifetime is assigned to all output lifetime parameters: fn foo<'a>(x: &'a i32) -> &'a i32.\n",
    "\n",
    "* If there are multiple input lifetime parameters, but one of them is &self or &mut self because this is a method, the lifetime of self is assigned to all output lifetime parameters. \n",
    "\n",
    "All functions `get_shorter` below equivalent"
   ]
  },
  {
   "cell_type": "code",
   "execution_count": 2,
   "id": "1b545340",
   "metadata": {
    "cell_style": "split"
   },
   "outputs": [],
   "source": [
    "struct TwoStrings{\n",
    "    a: String,\n",
    "    b: String,\n",
    "}"
   ]
  },
  {
   "cell_type": "code",
   "execution_count": 3,
   "id": "73157b82",
   "metadata": {
    "cell_style": "split"
   },
   "outputs": [],
   "source": [
    "fn get_shorter_1(ts:&TwoStrings) -> &str {\n",
    "    if ts.a.len() < ts.b.len() {\n",
    "        &ts.a\n",
    "    } else {\n",
    "        &ts.b\n",
    "    }\n",
    "}"
   ]
  },
  {
   "cell_type": "code",
   "execution_count": 4,
   "id": "020aadb1",
   "metadata": {
    "cell_style": "split"
   },
   "outputs": [],
   "source": [
    "fn get_shorter_2<'a>(ts:&'a TwoStrings) -> &'a str {\n",
    "    if ts.a.len() < ts.b.len() {\n",
    "        &ts.a\n",
    "    } else {\n",
    "        &ts.b\n",
    "    }\n",
    "}"
   ]
  },
  {
   "cell_type": "code",
   "execution_count": 5,
   "id": "5f042a7e",
   "metadata": {
    "cell_style": "split"
   },
   "outputs": [],
   "source": [
    "fn get_shorter_3<'a>(ts:&'a TwoStrings) -> &str {\n",
    "    if ts.a.len() < ts.b.len() {\n",
    "        &ts.a\n",
    "    } else {\n",
    "        &ts.b\n",
    "    }\n",
    "}"
   ]
  },
  {
   "cell_type": "code",
   "execution_count": 6,
   "id": "a3706ce9",
   "metadata": {},
   "outputs": [
    {
     "name": "stdout",
     "output_type": "stream",
     "text": [
      "1 abc\n",
      "2 abc\n",
      "3 abc\n"
     ]
    }
   ],
   "source": [
    "let two_strings: TwoStrings = TwoStrings {a:\"abc\".to_string(), b:\"defg\".to_string()};\n",
    "println!(\"1 {}\", get_shorter_1(&two_strings));\n",
    "println!(\"2 {}\", get_shorter_2(&two_strings));\n",
    "println!(\"3 {}\", get_shorter_3(&two_strings));\n"
   ]
  },
  {
   "cell_type": "markdown",
   "id": "c3b16c43",
   "metadata": {
    "slideshow": {
     "slide_type": "slide"
    }
   },
   "source": [
    "# What about the 3rd rule\n",
    "**Example 2:** one of the lifetime parameters is `&self` or `&mut self` => its lifetime used as the lifetime of output\n",
    "\n",
    "Methods `get_longer` below equivalent"
   ]
  },
  {
   "cell_type": "code",
   "execution_count": 7,
   "id": "804321af",
   "metadata": {},
   "outputs": [],
   "source": [
    "impl TwoStrings {\n",
    "    fn get_longer_1(&self, _unused:&TwoStrings) -> &str {\n",
    "        if self.a.len() < self.b.len() {\n",
    "            &self.a\n",
    "        } else {\n",
    "            &self.b\n",
    "        }\n",
    "    }\n",
    "\n",
    "    fn get_longer_2<'a, 'b>(&'a self, _unused:&'b TwoStrings) -> &'a str {\n",
    "        if self.a.len() < self.b.len() {\n",
    "            &self.a\n",
    "        } else {\n",
    "            &self.b\n",
    "        }\n",
    "    }\n",
    "}"
   ]
  },
  {
   "cell_type": "code",
   "execution_count": 8,
   "id": "57604bba",
   "metadata": {},
   "outputs": [
    {
     "ename": "Error",
     "evalue": "lifetime may not live long enough",
     "output_type": "error",
     "traceback": [
      "    fn get_longer_3(&self, unused:&TwoStrings) -> &str {",
      "\u001b[91m                                  ^\u001b[0m \u001b[94mlet's call the lifetime of this reference `'1`\u001b[0m",
      "    fn get_longer_3(&self, unused:&TwoStrings) -> &str {",
      "\u001b[91m                    ^\u001b[0m \u001b[94mlet's call the lifetime of this reference `'2`\u001b[0m",
      "            &unused.a",
      "\u001b[91m            ^^^^^^^^^\u001b[0m \u001b[94massociated function was supposed to return data with lifetime `'2` but it is returning data with lifetime `'1`\u001b[0m",
      "lifetime may not live long enough",
      "\u001b[1mhelp\u001b[0m: consider introducing a named lifetime parameter and update trait if needed\n\n'a"
     ]
    }
   ],
   "source": [
    "impl TwoStrings {\n",
    "    fn get_longer_3(&self, unused:&TwoStrings) -> &str {\n",
    "        if self.a.len() < self.b.len() {\n",
    "            &unused.a\n",
    "        } else {\n",
    "            &unused.b\n",
    "        }\n",
    "    }\n",
    "    \n",
    "}"
   ]
  },
  {
   "cell_type": "code",
   "execution_count": 9,
   "id": "977c7993",
   "metadata": {},
   "outputs": [],
   "source": [
    "impl TwoStrings {\n",
    "    fn get_longer_3<'a, 'b>(&'a self, unused:&'b TwoStrings) -> &'b str {\n",
    "        if self.a.len() < self.b.len() {\n",
    "            &unused.a\n",
    "        } else {\n",
    "            &unused.b\n",
    "        }\n",
    "    }\n",
    "    \n",
    "}"
   ]
  },
  {
   "cell_type": "code",
   "execution_count": 12,
   "id": "bae2ab5e",
   "metadata": {},
   "outputs": [
    {
     "name": "stdout",
     "output_type": "stream",
     "text": [
      "1 abc \n",
      "2 abc \n",
      "3 foobar \n"
     ]
    }
   ],
   "source": [
    "let other_strings: TwoStrings = TwoStrings {a:\"foobar\".to_string(), b:\"barfoo\".to_string()};\n",
    "\n",
    "println!(\"1 {} \", two_strings.get_longer_1(&other_strings));\n",
    "println!(\"2 {} \", two_strings.get_longer_2(&other_strings));\n",
    "println!(\"3 {} \", two_strings.get_longer_3(&other_strings));"
   ]
  },
  {
   "cell_type": "markdown",
   "id": "262079c4",
   "metadata": {},
   "source": [
    "## Read section 10.3 for lifetimes"
   ]
  },
  {
   "cell_type": "code",
   "execution_count": null,
   "id": "674485d9",
   "metadata": {},
   "outputs": [],
   "source": []
  }
 ],
 "metadata": {
  "celltoolbar": "Slideshow",
  "kernelspec": {
   "display_name": "Rust",
   "language": "rust",
   "name": "rust"
  },
  "language_info": {
   "codemirror_mode": "rust",
   "file_extension": ".rs",
   "mimetype": "text/rust",
   "name": "Rust",
   "pygment_lexer": "rust",
   "version": ""
  },
  "rise": {
   "theme": "beige",
   "transition": "fade"
  }
 },
 "nbformat": 4,
 "nbformat_minor": 5
}
