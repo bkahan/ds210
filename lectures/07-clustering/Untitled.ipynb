{
 "cells": [
  {
   "cell_type": "code",
   "execution_count": 3,
   "id": "d38b9650-a808-4a20-90da-fe00c1903a8c",
   "metadata": {},
   "outputs": [],
   "source": [
    "import numpy as np\n",
    "from sklearn.tree import DecisionTreeRegressor\n",
    "import matplotlib.pyplot as plt\n",
    "rng = np.random.RandomState(1)\n",
    "X = np.sort(5 * rng.rand(80, 1), axis=0)"
   ]
  },
  {
   "cell_type": "code",
   "execution_count": 6,
   "id": "5214ae9d-b09f-426b-bc7b-2f946579842f",
   "metadata": {},
   "outputs": [
    {
     "data": {
      "text/plain": [
       "array([5.71874087e-04, 9.14413867e-02, 9.68347894e-02, 1.36937966e-01,\n",
       "       1.95273916e-01, 2.49767295e-01, 2.66812726e-01, 4.25221057e-01,\n",
       "       4.61692974e-01, 4.91734169e-01, 5.11672144e-01, 5.16130033e-01,\n",
       "       6.50142861e-01, 6.87373521e-01, 6.96381736e-01, 7.01934693e-01,\n",
       "       7.33642875e-01, 7.33779454e-01, 8.26770986e-01, 8.49152098e-01,\n",
       "       9.31301057e-01, 9.90507445e-01, 1.02226125e+00, 1.05814058e+00,\n",
       "       1.32773330e+00, 1.40221996e+00, 1.43887669e+00, 1.46807074e+00,\n",
       "       1.51166286e+00, 1.56712089e+00, 1.57757816e+00, 1.72780364e+00,\n",
       "       1.73882930e+00, 1.98383737e+00, 1.98838418e+00, 2.07027994e+00,\n",
       "       2.07089635e+00, 2.08511002e+00, 2.08652401e+00, 2.09597257e+00,\n",
       "       2.10553813e+00, 2.23946763e+00, 2.45786580e+00, 2.57444556e+00,\n",
       "       2.66582642e+00, 2.67948203e+00, 2.69408367e+00, 2.79344914e+00,\n",
       "       2.87058803e+00, 2.93277520e+00, 2.94652768e+00, 3.31897323e+00,\n",
       "       3.35233755e+00, 3.39417766e+00, 3.42609750e+00, 3.43250464e+00,\n",
       "       3.45938557e+00, 3.46161308e+00, 3.47200079e+00, 3.49879180e+00,\n",
       "       3.60162247e+00, 3.62998993e+00, 3.74082827e+00, 3.75072157e+00,\n",
       "       3.75406052e+00, 3.94639664e+00, 4.00372284e+00, 4.03695644e+00,\n",
       "       4.17312836e+00, 4.38194576e+00, 4.39058718e+00, 4.39071252e+00,\n",
       "       4.47303332e+00, 4.51700958e+00, 4.54297752e+00, 4.63754290e+00,\n",
       "       4.72297378e+00, 4.78944765e+00, 4.84130788e+00, 4.94430544e+00])"
      ]
     },
     "execution_count": 6,
     "metadata": {},
     "output_type": "execute_result"
    }
   ],
   "source": [
    "X.ravel()"
   ]
  },
  {
   "cell_type": "code",
   "execution_count": null,
   "id": "2ac27d28-ca41-43d3-a09d-60216c7c57dc",
   "metadata": {},
   "outputs": [],
   "source": []
  }
 ],
 "metadata": {
  "kernelspec": {
   "display_name": "Python 3 (ipykernel)",
   "language": "python",
   "name": "python3"
  },
  "language_info": {
   "codemirror_mode": {
    "name": "ipython",
    "version": 3
   },
   "file_extension": ".py",
   "mimetype": "text/x-python",
   "name": "python",
   "nbconvert_exporter": "python",
   "pygments_lexer": "ipython3",
   "version": "3.8.5"
  }
 },
 "nbformat": 4,
 "nbformat_minor": 5
}
