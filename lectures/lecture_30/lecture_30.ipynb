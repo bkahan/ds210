{
 "cells": [
  {
   "cell_type": "markdown",
   "id": "cf7f87e3",
   "metadata": {
    "slideshow": {
     "slide_type": "slide"
    }
   },
   "source": [
    "<div align=\"center\">\n",
    "    <h1>DS-210: Programming for Data Science</h1>\n",
    "    <h1>Lecture 31</h1>\n",
    "</div>\n",
    "\n",
    "# 1. Applications of priority queues: sorting and shortest paths\n",
    "# 2. Slices\n"
   ]
  },
  {
   "cell_type": "markdown",
   "id": "f4016fcb",
   "metadata": {
    "slideshow": {
     "slide_type": "slide"
    }
   },
   "source": [
    "# <font color=\"red\">1. Applications of priority queues: sorting and shortest paths</font>\n",
    "# 2. Slices"
   ]
  },
  {
   "cell_type": "markdown",
   "id": "81cdfa07",
   "metadata": {
    "slideshow": {
     "slide_type": "slide"
    }
   },
   "source": [
    "# Last time: priority queues\n",
    "\n",
    "Collection of items:\n",
    "  * `push`: insert an item\n",
    "  * `pop`: remove and return the greatest item in a collection\n",
    "  "
   ]
  },
  {
   "cell_type": "markdown",
   "id": "acd3761b",
   "metadata": {
    "slideshow": {
     "slide_type": "fragment"
    }
   },
   "source": [
    "Popular implementation: **binary heap**\n",
    "  * push and pop in $O(\\log n)$ time\n",
    "  * Rust: `std::collections::BinaryHeap<T>`\n",
    "\n",
    "<div align=\"center\">\n",
    "    <img src=\"order.png\" alt=\"[sample binary heap]\" width=\"40%\">\n",
    "</div>"
   ]
  },
  {
   "cell_type": "markdown",
   "id": "7e324479",
   "metadata": {
    "slideshow": {
     "slide_type": "slide"
    }
   },
   "source": [
    "## Application 1: Sorting a.k.a. HeapSort"
   ]
  },
  {
   "cell_type": "markdown",
   "id": "c81cd19a",
   "metadata": {
    "slideshow": {
     "slide_type": "fragment"
    }
   },
   "source": [
    "* Put everything into a priority queue\n",
    "* Remove items in order"
   ]
  },
  {
   "cell_type": "code",
   "execution_count": 22,
   "id": "7dd86264",
   "metadata": {
    "slideshow": {
     "slide_type": "fragment"
    }
   },
   "outputs": [],
   "source": [
    "use std::collections::BinaryHeap;\n",
    "\n",
    "fn heap_sort(v:&mut Vec<i32>) {\n",
    "    let mut pq = BinaryHeap::new();\n",
    "    for v in v.iter() {\n",
    "        pq.push(*v);\n",
    "    }\n",
    "    for i in (0..v.len()).rev() {\n",
    "        v[i] = pq.pop().unwrap();\n",
    "    }\n",
    "}"
   ]
  },
  {
   "cell_type": "code",
   "execution_count": 23,
   "id": "a8df6978",
   "metadata": {
    "slideshow": {
     "slide_type": "fragment"
    }
   },
   "outputs": [
    {
     "data": {
      "text/plain": [
       "[-11, -9, 7, 11, 12, 14, 23, 37]"
      ]
     },
     "execution_count": 23,
     "metadata": {},
     "output_type": "execute_result"
    }
   ],
   "source": [
    "let mut v = vec![23,12,-11,-9,7,37,14,11];\n",
    "heap_sort(&mut v);\n",
    "v"
   ]
  },
  {
   "cell_type": "markdown",
   "id": "41836225",
   "metadata": {
    "slideshow": {
     "slide_type": "fragment"
    }
   },
   "source": [
    "**Total running time:** $O(n \\log n)$ for $n$ numbers"
   ]
  },
  {
   "cell_type": "markdown",
   "id": "7051f828",
   "metadata": {
    "slideshow": {
     "slide_type": "slide"
    }
   },
   "source": [
    "## More direct, using Rust operations"
   ]
  },
  {
   "cell_type": "code",
   "execution_count": 8,
   "id": "f69f1686",
   "metadata": {
    "slideshow": {
     "slide_type": ""
    }
   },
   "outputs": [],
   "source": [
    "fn heap_sort_2(v:Vec<i32>) -> Vec<i32> {\n",
    "   BinaryHeap::from(v).into_sorted_vec()\n",
    "}"
   ]
  },
  {
   "cell_type": "markdown",
   "id": "690bd0db",
   "metadata": {},
   "source": [
    "No extra memory allocated: the initial vector, intermediate binary heap, and final vector all use the same space on the heap\n",
    "* `BinaryHeap::from(v)` consumes `v`\n",
    "* `into_sorted_vec()` consumes the intermediate binary heap"
   ]
  },
  {
   "cell_type": "code",
   "execution_count": 9,
   "id": "08a31e51",
   "metadata": {
    "slideshow": {
     "slide_type": "fragment"
    }
   },
   "outputs": [
    {
     "data": {
      "text/plain": [
       "[1, 3, 7, 8, 11, 17]"
      ]
     },
     "execution_count": 9,
     "metadata": {},
     "output_type": "execute_result"
    }
   ],
   "source": [
    "let mut v = vec![7,17,3,1,8,11];\n",
    "heap_sort_2(v)"
   ]
  },
  {
   "cell_type": "markdown",
   "id": "2dba0b07",
   "metadata": {
    "slideshow": {
     "slide_type": "fragment"
    }
   },
   "source": [
    "Sorting already provided for vectors (currently use other algorithms): `sort` and `sort_unstable`"
   ]
  },
  {
   "cell_type": "code",
   "execution_count": 10,
   "id": "1e1fe6fa",
   "metadata": {
    "cell_style": "split",
    "slideshow": {
     "slide_type": "-"
    }
   },
   "outputs": [
    {
     "data": {
      "text/plain": [
       "[1, 3, 7, 8, 11, 17]"
      ]
     },
     "execution_count": 10,
     "metadata": {},
     "output_type": "execute_result"
    }
   ],
   "source": [
    "let mut v = vec![7,17,3,1,8,11];\n",
    "v.sort();\n",
    "v"
   ]
  },
  {
   "cell_type": "code",
   "execution_count": 11,
   "id": "cf18635c",
   "metadata": {
    "cell_style": "split",
    "slideshow": {
     "slide_type": "-"
    }
   },
   "outputs": [
    {
     "data": {
      "text/plain": [
       "[1, 3, 7, 8, 11, 17]"
      ]
     },
     "execution_count": 11,
     "metadata": {},
     "output_type": "execute_result"
    }
   ],
   "source": [
    "let mut v = vec![7,17,3,1,8,11];\n",
    "v.sort_unstable();\n",
    "v"
   ]
  },
  {
   "cell_type": "markdown",
   "id": "a5202a48",
   "metadata": {
    "cell_style": "center",
    "slideshow": {
     "slide_type": "slide"
    }
   },
   "source": [
    "## Application 2: Shortest weighted paths (Dijkstra's algorithm)\n",
    "\n",
    "* **Input graph:** edges with *positive* values, directed or undirected\n",
    "* **Goal:** Compute all distances from a given vertex $v$"
   ]
  },
  {
   "cell_type": "markdown",
   "id": "5dafc607",
   "metadata": {},
   "source": [
    "### Some quotes from Edjer Dijkstra\n",
    "\n",
    "<em> The use of COBOL cripples the mind; its teaching should, therefore, be regarded as a criminal offence. </em>\n",
    " \n",
    "<em> It is practically impossible to teach good programming to students that have had a prior exposure to BASIC: as potential programmers they are mentally mutilated beyond hope of regeneration. </em>\n",
    "\n",
    "<em> One morning I was shopping in Amsterdam with my young fiancée, and tired, we sat down on the café terrace to drink a cup of coffee and I was just thinking... Eventually, that algorithm became to my great amazement, one of the cornerstones of my fame </em>"
   ]
  },
  {
   "cell_type": "markdown",
   "id": "09d66b02",
   "metadata": {},
   "source": [
    "* Mark all nodes unvisited. Create a set of all the unvisited nodes called the unvisited set.\n",
    "* Assign to every node a tentative distance value: set it to zero for our initial node and to infinity for all other nodes. During the run of the algorithm, the tentative distance of a node v is the length of the shortest path discovered so far between the node v and the starting node. Since initially no path is known to any other vertex than the source itself (which is a path of length zero), all other tentative distances are initially set to infinity. Set the initial node as current.\n",
    "* For the current node, consider all of its unvisited neighbors and calculate their tentative distances through the current node. Compare the newly calculated tentative distance to the one currently assigned to the neighbor and assign it the smaller one. For example, if the current node A is marked with a distance of 6, and the edge connecting it with a neighbor B has length 2, then the distance to B through A will be 6 + 2 = 8. If B was previously marked with a distance greater than 8 then change it to 8. Otherwise, the current value will be kept.\n",
    "* When we are done considering all of the unvisited neighbors of the current node, mark the current node as visited and remove it from the unvisited set. A visited node will never be checked again (this is valid and optimal in connection with the behavior in step 6.: that the next nodes to visit will always be in the order of 'smallest distance from initial node first' so any visits after would have a greater distance).\n",
    "* If all nodes have been marked visited or if the smallest tentative distance among the nodes in the unvisited set is infinity (when planning a complete traversal; occurs when there is no connection between the initial node and remaining unvisited nodes), then stop. The algorithm has finished.\n",
    "* Otherwise, select the unvisited node that is marked with the smallest tentative distance, set it as the new current node, and go back to step 3.\n"
   ]
  },
  {
   "cell_type": "markdown",
   "id": "52999bba",
   "metadata": {
    "slideshow": {
     "slide_type": "fragment"
    }
   },
   "source": [
    "<div align=\"center\">\n",
    "    <b>[see the demo on the board]</b>\n",
    "</div>"
   ]
  },
  {
   "cell_type": "markdown",
   "id": "1899bb7c",
   "metadata": {
    "cell_style": "center",
    "slideshow": {
     "slide_type": "fragment"
    }
   },
   "source": [
    "**How it works:**\n",
    "\n",
    "* Greedily take the closest unprocessed vertex\n",
    "  * Its distance must be correct\n",
    "  \n",
    "* Keep updating distances of unprocessed vertices\n"
   ]
  },
  {
   "attachments": {
    "dijkstra_graph-2.png": {
     "image/png": "[encoded data removed]"
    }
   },
   "cell_type": "markdown",
   "id": "6806f0bf",
   "metadata": {},
   "source": [
    "![dijkstra_graph-2.png](attachment:dijkstra_graph-2.png)"
   ]
  },
  {
   "cell_type": "markdown",
   "id": "7b914507",
   "metadata": {
    "slideshow": {
     "slide_type": "slide"
    }
   },
   "source": [
    "## Auxiliary graph definitions"
   ]
  },
  {
   "cell_type": "code",
   "execution_count": 12,
   "id": "c641aa5c",
   "metadata": {
    "cell_style": "center",
    "slideshow": {
     "slide_type": ""
    }
   },
   "outputs": [],
   "source": [
    "use std::collections::BinaryHeap;\n",
    "\n",
    "type Vertex = usize;\n",
    "type Distance = usize;\n",
    "type Edge = (Vertex, Vertex, Distance);\n",
    "\n",
    "#[derive(Debug,Copy,Clone)]\n",
    "struct Outedge {\n",
    "    vertex: Vertex,\n",
    "    length: Distance,\n",
    "}\n",
    "\n",
    "type AdjacencyList = Vec<Outedge>;\n",
    "\n",
    "#[derive(Debug)]\n",
    "struct Graph {\n",
    "    n: usize,\n",
    "    outedges: Vec<AdjacencyList>,\n",
    "}\n",
    "\n",
    "impl Graph {\n",
    "    fn create_directed(n:usize,edges:&Vec<Edge>) -> Graph {\n",
    "        let mut outedges = vec![vec![];n];\n",
    "        for (u, v, length) in edges {\n",
    "            outedges[*u].push(Outedge{vertex: *v, length: *length});\n",
    "        }\n",
    "        Graph{n,outedges}\n",
    "    }\n",
    "}"
   ]
  },
  {
   "cell_type": "markdown",
   "id": "1c4b3b1f",
   "metadata": {
    "slideshow": {
     "slide_type": "subslide"
    }
   },
   "source": [
    "## Load our graph"
   ]
  },
  {
   "cell_type": "code",
   "execution_count": 13,
   "id": "27fbd28a",
   "metadata": {},
   "outputs": [
    {
     "data": {
      "text/plain": [
       "Graph { n: 6, outedges: [[Outedge { vertex: 1, length: 5 }, Outedge { vertex: 2, length: 2 }], [Outedge { vertex: 3, length: 5 }, Outedge { vertex: 5, length: 11 }], [Outedge { vertex: 1, length: 1 }, Outedge { vertex: 4, length: 1 }], [Outedge { vertex: 5, length: 5 }], [Outedge { vertex: 3, length: 1 }, Outedge { vertex: 5, length: 8 }], []] }"
      ]
     },
     "execution_count": 13,
     "metadata": {},
     "output_type": "execute_result"
    }
   ],
   "source": [
    "let n = 6;\n",
    "let edges: Vec<Edge> = vec![(0,1,5),(0,2,2),(2,1,1),(2,4,1),(1,3,5),(4,3,1),(1,5,11),(3,5,5),(4,5,8)];\n",
    "let graph = Graph::create_directed(n, &edges);\n",
    "graph"
   ]
  },
  {
   "cell_type": "markdown",
   "id": "bd5f7b22",
   "metadata": {
    "slideshow": {
     "slide_type": "subslide"
    }
   },
   "source": [
    "## Our implementation"
   ]
  },
  {
   "cell_type": "code",
   "execution_count": 18,
   "id": "382308d8",
   "metadata": {},
   "outputs": [],
   "source": [
    "let start: Vertex = 0;\n",
    "\n",
    "let mut distances: Vec<Option<Distance> > = vec![None; graph.n];\n",
    "distances[start] = Some(0);"
   ]
  },
  {
   "cell_type": "code",
   "execution_count": 19,
   "id": "bcaa8561",
   "metadata": {},
   "outputs": [],
   "source": [
    "use core::cmp::Reverse;\n",
    "\n",
    "let mut pq = BinaryHeap::<Reverse<(Distance,Vertex)>>::new();\n",
    "pq.push(Reverse((0,start)));"
   ]
  },
  {
   "cell_type": "code",
   "execution_count": 20,
   "id": "6380e6e2",
   "metadata": {
    "slideshow": {
     "slide_type": "fragment"
    }
   },
   "outputs": [],
   "source": [
    "while let Some(Reverse((dist,v))) = pq.pop() {\n",
    "    for Outedge{vertex,length} in graph.outedges[v].iter() {\n",
    "        let new_dist = dist + *length;\n",
    "        let update = match distances[*vertex] {\n",
    "            None => {true} |\n",
    "            Some(d) => {new_dist < d}\n",
    "        };\n",
    "        if update {\n",
    "            distances[*vertex] = Some(new_dist);\n",
    "            pq.push(Reverse((new_dist,*vertex)));\n",
    "        }\n",
    "    }\n",
    "};"
   ]
  },
  {
   "cell_type": "code",
   "execution_count": 21,
   "id": "4f90e84e",
   "metadata": {
    "slideshow": {
     "slide_type": "fragment"
    }
   },
   "outputs": [
    {
     "data": {
      "text/plain": [
       "[Some(0), Some(3), Some(2), Some(4), Some(3), Some(9)]"
      ]
     },
     "execution_count": 21,
     "metadata": {},
     "output_type": "execute_result"
    }
   ],
   "source": [
    "distances"
   ]
  },
  {
   "cell_type": "markdown",
   "id": "ab2fdaf5",
   "metadata": {},
   "source": [
    "### Complexity and properties of Dijkstra's algorithm\n",
    "* $O(V^2)$\n",
    "* Works just as well with undirected graphs\n",
    "* Doesn't work if path weights can be negative (why?)"
   ]
  },
  {
   "cell_type": "markdown",
   "id": "fde33944",
   "metadata": {},
   "source": [
    "## Traveling salesman\n",
    "\n",
    "On the surface similar to shortest paths\n",
    "\n",
    "Given an undirected graph with weighted non-negative edges find the shortest path that starts at a specified vertex, traverses every vertex in the graph and returns to the starting point\n",
    "\n",
    "#### BUT\n",
    "\n",
    "Much harder to solve (will not cover here).  Provably NP-complete (can not be solved in Polynomial time)\n",
    "\n",
    "Held-Karp algorithm one of the best exact algorithms with complexity $O(n^2*2^n)$  \n",
    "Many heuristics that run fast but yield suboptimal results"
   ]
  },
  {
   "cell_type": "markdown",
   "id": "357092d7",
   "metadata": {},
   "source": [
    "### Greedy Heuristic\n",
    "\n",
    "Mark all nodes as unvisited. \n",
    "Use your starting node and pick the next node with shortest distance and visit it.  DFS using minimum distance criteria until all nodes have been visited.\n",
    "\n",
    "### Minimum Spanning Tree Heuristic\n",
    "\n",
    "https://apps.dtic.mil/dtic/tr/fulltext/u2/a025602.pdf  \n",
    "Runs in $O(N)$ time and guaranteed to be no more than 50% worse than the optimal.\n",
    "\n",
    "### More recently\n",
    "\n",
    "https://arxiv.org/pdf/2007.01409.pdf (March 2022).   \n",
    "0.2 billionth of a trillionth of a trillionth of a percent better but the first improvement since 1976."
   ]
  },
  {
   "cell_type": "markdown",
   "id": "9a1da6df",
   "metadata": {
    "slideshow": {
     "slide_type": "slide"
    }
   },
   "source": [
    "## Slices\n",
    "\n",
    "Slice = reference to subsection of the data"
   ]
  },
  {
   "cell_type": "markdown",
   "id": "d68ab39f",
   "metadata": {
    "slideshow": {
     "slide_type": "fragment"
    }
   },
   "source": [
    "Slices of an array:\n",
    " * array of type `[T, _]`\n",
    " * slice of type `&[T]` or `&mut [T]`"
   ]
  },
  {
   "cell_type": "code",
   "execution_count": 14,
   "id": "b00268f7",
   "metadata": {
    "cell_style": "split"
   },
   "outputs": [
    {
     "name": "stdout",
     "output_type": "stream",
     "text": [
      "[1, 2]\n",
      "1\n"
     ]
    }
   ],
   "source": [
    "{\n",
    "    // immutable slice of an array\n",
    "    let arr: [i32; 5] = [0,1,2,3,4];\n",
    "    let slice: &[i32] = &arr[1..3];\n",
    "    println!(\"{:?}\",slice);\n",
    "    println!(\"{}\", slice[0]);\n",
    "};"
   ]
  },
  {
   "cell_type": "code",
   "execution_count": 15,
   "id": "73fe820a",
   "metadata": {
    "cell_style": "split",
    "slideshow": {
     "slide_type": "fragment"
    }
   },
   "outputs": [
    {
     "name": "stdout",
     "output_type": "stream",
     "text": [
      "[2, 3]\n",
      "4\n",
      "[0, 1, 4, 3, 4]\n"
     ]
    }
   ],
   "source": [
    "{\n",
    "    // mutable slice of an array\n",
    "    let mut arr = [0,1,2,3,4];\n",
    "    let mut slice = &mut arr[2..4];\n",
    "    println!(\"{:?}\",slice);\n",
    "    slice[0] = slice[0] * slice[0];\n",
    "    println!(\"{}\", slice[0]);\n",
    "    println!(\"{:?}\",arr);\n",
    "};"
   ]
  },
  {
   "cell_type": "markdown",
   "id": "4be8ef33",
   "metadata": {
    "slideshow": {
     "slide_type": "subslide"
    }
   },
   "source": [
    "## Slices\n",
    "\n",
    "Work for vectors too!"
   ]
  },
  {
   "cell_type": "code",
   "execution_count": 16,
   "id": "54906088",
   "metadata": {},
   "outputs": [
    {
     "name": "stdout",
     "output_type": "stream",
     "text": [
      "[1, 2]\n"
     ]
    }
   ],
   "source": [
    "let mut v = vec![0,1,2,3,4];\n",
    "{\n",
    "    let slice = &v[1..3];\n",
    "    println!(\"{:?}\",slice);\n",
    "};"
   ]
  },
  {
   "cell_type": "code",
   "execution_count": 17,
   "id": "736f262e",
   "metadata": {
    "slideshow": {
     "slide_type": "fragment"
    }
   },
   "outputs": [
    {
     "data": {
      "text/plain": [
       "[0, 1000, 2000, 3, 4]"
      ]
     },
     "execution_count": 17,
     "metadata": {},
     "output_type": "execute_result"
    }
   ],
   "source": [
    "{\n",
    "    let mut slice = &mut v[1..3];\n",
    "    \n",
    "    // iterating over slices works as well\n",
    "    for x in slice.iter_mut() {\n",
    "        *x *= 1000;\n",
    "    }\n",
    "};\n",
    "v"
   ]
  },
  {
   "cell_type": "markdown",
   "id": "672c0f9c",
   "metadata": {
    "slideshow": {
     "slide_type": "subslide"
    }
   },
   "source": [
    "## Slices are references: all borrowing rules still apply!\n",
    "\n",
    "* At most one mutable reference at a time\n",
    "* No immutable references allowed with a mutable reference\n",
    "* Many immutable references allowed simultaneously"
   ]
  },
  {
   "cell_type": "code",
   "execution_count": 18,
   "id": "31d3ca03",
   "metadata": {
    "cell_style": "split",
    "scrolled": true,
    "slideshow": {
     "slide_type": "fragment"
    }
   },
   "outputs": [
    {
     "ename": "Error",
     "evalue": "cannot borrow `v` as immutable because it is also borrowed as mutable",
     "output_type": "error",
     "traceback": [
      "    let ref_2 = &v[1..3];",
      "\u001b[91m                 ^\u001b[0m \u001b[94mimmutable borrow occurs here\u001b[0m",
      "    let ref_1 = &mut v[2..5];",
      "\u001b[91m                     ^\u001b[0m \u001b[94mmutable borrow occurs here\u001b[0m",
      "    ref_1[0] = 7;",
      "\u001b[91m    ^^^^^^^^\u001b[0m \u001b[94mmutable borrow later used here\u001b[0m",
      "cannot borrow `v` as immutable because it is also borrowed as mutable"
     ]
    }
   ],
   "source": [
    "// this won't work!\n",
    "let mut v = vec![1,2,3,4,5,6,7];\n",
    "{\n",
    "    let ref_1 = &mut v[2..5];\n",
    "    let ref_2 = &v[1..3];\n",
    "    ref_1[0] = 7;\n",
    "    println!(\"{}\",ref_2[1]);\n",
    "}"
   ]
  },
  {
   "cell_type": "code",
   "execution_count": 19,
   "id": "00b650f7",
   "metadata": {
    "cell_style": "split",
    "slideshow": {
     "slide_type": "fragment"
    }
   },
   "outputs": [
    {
     "name": "stdout",
     "output_type": "stream",
     "text": [
      "7\n"
     ]
    }
   ],
   "source": [
    "// and this reordering will\n",
    "let mut v = vec![1,2,3,4,5,6,7];\n",
    "{\n",
    "    let ref_1 = &mut v[2..5];\n",
    "    ref_1[0] = 7;\n",
    "    let ref_2 = &v[1..3];\n",
    "    println!(\"{}\",ref_2[1]);\n",
    "};"
   ]
  },
  {
   "cell_type": "markdown",
   "id": "68df05d8",
   "metadata": {
    "slideshow": {
     "slide_type": "subslide"
    }
   },
   "source": [
    "## Memory representation of slices"
   ]
  },
  {
   "cell_type": "markdown",
   "id": "c158260d",
   "metadata": {
    "cell_style": "split",
    "slideshow": {
     "slide_type": "-"
    }
   },
   "source": [
    "* Pointer (to heap or stack)\n",
    "* Length"
   ]
  },
  {
   "cell_type": "markdown",
   "id": "6693fea4",
   "metadata": {
    "cell_style": "split",
    "slideshow": {
     "slide_type": "-"
    }
   },
   "source": [
    "**Compared to vector:** no capacity (cannot be extended)"
   ]
  },
  {
   "cell_type": "markdown",
   "id": "59ffd0da",
   "metadata": {
    "slideshow": {
     "slide_type": "-"
    }
   },
   "source": [
    "<div align=\"center\">\n",
    "    <img src=\"rust_container_cheat_sheet_cropped.png\" alt=\"[Cropped Rust container cheat sheet]\" width=\"35%\">\n",
    "</div>\n",
    "\n",
    "<div class=\"small\">\n",
    "<font size=\"2\">Cropped from \"Rust container cheat sheet\" by Raph Levien, Copyright Google Inc. 2017\n",
    "&nbsp;&nbsp;&nbsp;&nbsp;&nbsp;&nbsp;&nbsp;&nbsp;&nbsp;\n",
    "Source: <a href=\"https://docs.google.com/presentation/d/1q-c7UAyrUlM-eZyTo1pd8SZ0qwA_wYxmPZVOQkoDmH4/edit#slide=id.p\">https://docs.google.com/presentation/d/1q-c7UAyrUlM-eZyTo1pd8SZ0qwA_wYxmPZVOQkoDmH4/edit#slide=id.p</a>\n",
    "&nbsp;&nbsp;&nbsp;&nbsp;&nbsp;&nbsp;&nbsp;&nbsp;&nbsp;\n",
    "    License: CC BY (<a href=\"https://creativecommons.org/licenses/by/4.0\">https://creativecommons.org/licenses/by/4.0</a>)</font><br>\n",
    "</div>"
   ]
  }
 ],
 "metadata": {
  "celltoolbar": "Slideshow",
  "kernelspec": {
   "display_name": "Rust",
   "language": "rust",
   "name": "rust"
  },
  "language_info": {
   "codemirror_mode": "rust",
   "file_extension": ".rs",
   "mimetype": "text/rust",
   "name": "Rust",
   "pygment_lexer": "rust",
   "version": ""
  },
  "rise": {
   "theme": "beige",
   "transition": "fade"
  }
 },
 "nbformat": 4,
 "nbformat_minor": 5
}
