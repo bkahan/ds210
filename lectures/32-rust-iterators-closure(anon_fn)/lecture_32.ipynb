{
 "cells": [
  {
   "cell_type": "markdown",
   "id": "cf7f87e3",
   "metadata": {
    "slideshow": {
     "slide_type": "slide"
    }
   },
   "source": [
    "<div align=\"center\">\n",
    "    <h1>DS-210: Programming for Data Science</h1>\n",
    "    <h1>Lecture 33</h1>\n",
    "</div>\n",
    "\n",
    "# 1. Closures (anonymous functions)\n",
    "# 2. Iterators\n",
    "# 3. Iterator + closure magic\n",
    "# 4. How about Python?"
   ]
  },
  {
   "cell_type": "markdown",
   "id": "0e53dea8",
   "metadata": {},
   "source": [
    "# Course Evaluation\n",
    "\n",
    "## https://bu.campuslabs.com/courseeval/"
   ]
  },
  {
   "cell_type": "markdown",
   "id": "22a794a6",
   "metadata": {},
   "source": [
    "\n",
    "\n",
    "# <font color=\"red\">1. Closures (anonymous functions)</font>\n",
    "# 2. Iterators\n",
    "# 3. Iterator + closure magic\n",
    "# 4. How about Python?"
   ]
  },
  {
   "cell_type": "markdown",
   "id": "9c39e17c",
   "metadata": {
    "slideshow": {
     "slide_type": "slide"
    }
   },
   "source": [
    "## Closures (anonymous functions)\n",
    "\n",
    "We have seen them before in Python (as lambda functions):\n",
    "\n",
    "```Python\n",
    "lambda a b: a * b\n",
    "```"
   ]
  },
  {
   "cell_type": "markdown",
   "id": "879cbfae",
   "metadata": {
    "slideshow": {
     "slide_type": "fragment"
    }
   },
   "source": [
    "In Rust (with implicit or explicit type specification):\n",
    "```\n",
    "|a, b| a * b\n",
    "|a: i32, b: i32| -> i32 {a * b}\n",
    "```"
   ]
  },
  {
   "cell_type": "code",
   "execution_count": 2,
   "id": "e6a0ee59",
   "metadata": {
    "slideshow": {
     "slide_type": "fragment"
    }
   },
   "outputs": [
    {
     "name": "stdout",
     "output_type": "stream",
     "text": [
      "200\n"
     ]
    }
   ],
   "source": [
    "{\n",
    "  let f = |a, b| a * b;\n",
    "  let x = 10;\n",
    "  let y = 20;\n",
    "  println!(\"{}\",f(x,y));\n",
    "};"
   ]
  },
  {
   "cell_type": "markdown",
   "id": "98c1495c",
   "metadata": {
    "slideshow": {
     "slide_type": "slide"
    }
   },
   "source": [
    "## Sample application: lazy evaluation of a value\n",
    "Compute a value only if needed"
   ]
  },
  {
   "cell_type": "code",
   "execution_count": 3,
   "id": "45df233f",
   "metadata": {},
   "outputs": [],
   "source": [
    "// What does it compute?\n",
    "fn expensive_function(i:u32) -> u128 {\n",
    "    if i <= 1 {\n",
    "        i as u128\n",
    "    } else {\n",
    "        expensive_function(i-1) + expensive_function(i-2)\n",
    "    }\n",
    "}"
   ]
  },
  {
   "cell_type": "code",
   "execution_count": 4,
   "id": "b6b2108f",
   "metadata": {},
   "outputs": [
    {
     "data": {
      "text/plain": [
       "701408733"
      ]
     },
     "execution_count": 4,
     "metadata": {},
     "output_type": "execute_result"
    }
   ],
   "source": [
    "expensive_function(44)"
   ]
  },
  {
   "cell_type": "code",
   "execution_count": 6,
   "id": "43629687",
   "metadata": {
    "slideshow": {
     "slide_type": "fragment"
    }
   },
   "outputs": [],
   "source": [
    "// This function always computes expensive_function(44), even if not needed.\n",
    "// Method unwrap_or takes a default value as a parameter.\n",
    "fn value_or_fib44(input:Option<u128>) -> u128 {\n",
    "    input.unwrap_or(expensive_function(44))\n",
    "}"
   ]
  },
  {
   "cell_type": "code",
   "execution_count": 12,
   "id": "376786a8",
   "metadata": {
    "cell_style": "split"
   },
   "outputs": [
    {
     "name": "stdout",
     "output_type": "stream",
     "text": [
      "3069\n"
     ]
    }
   ],
   "source": [
    "use std::time::SystemTime;\n",
    "let d = SystemTime::now();\n",
    "// slow\n",
    "value_or_fib44(None);\n",
    "let elapsed = d.elapsed().unwrap().as_millis();\n",
    "println!(\"{}\", elapsed);"
   ]
  },
  {
   "cell_type": "code",
   "execution_count": 14,
   "id": "1961bee6",
   "metadata": {
    "cell_style": "split"
   },
   "outputs": [
    {
     "name": "stdout",
     "output_type": "stream",
     "text": [
      "3052\n"
     ]
    }
   ],
   "source": [
    "let d = SystemTime::now();\n",
    "// slow\n",
    "value_or_fib44(Some(123));\n",
    "let elapsed = d.elapsed().unwrap().as_millis();\n",
    "println!(\"{}\", elapsed);"
   ]
  },
  {
   "cell_type": "markdown",
   "id": "e1a21029",
   "metadata": {
    "slideshow": {
     "slide_type": "slide"
    }
   },
   "source": [
    "## Sample application: lazy evaluation of a value\n",
    "Compute a value only if needed"
   ]
  },
  {
   "cell_type": "code",
   "execution_count": 17,
   "id": "af10ad78",
   "metadata": {
    "slideshow": {
     "slide_type": ""
    }
   },
   "outputs": [],
   "source": [
    "// This function computes expensive_function(44) only if needed.\n",
    "// Method unwrap_or_else's parameter is a function that computes\n",
    "// the default value, not the default value itself. \n",
    "fn value_or_fib44_version_2(input:Option<u128>) -> u128 {\n",
    "    input.unwrap_or_else(|| expensive_function(44))\n",
    "}"
   ]
  },
  {
   "cell_type": "code",
   "execution_count": 18,
   "id": "40d76bfb",
   "metadata": {
    "cell_style": "split"
   },
   "outputs": [
    {
     "name": "stdout",
     "output_type": "stream",
     "text": [
      "3049\n"
     ]
    }
   ],
   "source": [
    "// slow\n",
    "let d = SystemTime::now();\n",
    "value_or_fib44_version_2(None);\n",
    "let elapsed = d.elapsed().unwrap().as_millis();\n",
    "println!(\"{}\", elapsed);"
   ]
  },
  {
   "cell_type": "code",
   "execution_count": 19,
   "id": "da687b9d",
   "metadata": {
    "cell_style": "split"
   },
   "outputs": [
    {
     "name": "stdout",
     "output_type": "stream",
     "text": [
      "0\n"
     ]
    }
   ],
   "source": [
    "// fast\n",
    "let d = SystemTime::now();\n",
    "value_or_fib44_version_2(Some(1));\n",
    "let elapsed = d.elapsed().unwrap().as_millis();\n",
    "println!(\"{}\", elapsed);"
   ]
  },
  {
   "cell_type": "markdown",
   "id": "b43977e1",
   "metadata": {
    "slideshow": {
     "slide_type": "fragment"
    }
   },
   "source": [
    "* This programing pattern appears in many places.\n",
    "* Another example: default value for an entry in HashMap"
   ]
  },
  {
   "cell_type": "code",
   "execution_count": 11,
   "id": "5321fc75",
   "metadata": {},
   "outputs": [
    {
     "name": "stdout",
     "output_type": "stream",
     "text": [
      "1:Some(-1)    2:Some(-701408733)\n"
     ]
    }
   ],
   "source": [
    "let mut map = std::collections::HashMap::<i32,i32>::new();\n",
    "map.insert(1, 1);\n",
    "*map.entry(1).or_insert_with(|| expensive_function(44) as i32) *= -1;\n",
    "*map.entry(2).or_insert_with(|| expensive_function(44) as i32) *= -1;\n",
    "println!(\"{}:{:?}    {}:{:?}\",1,map.get(&1),2,map.get(&2));"
   ]
  },
  {
   "cell_type": "markdown",
   "id": "b7c1dd9c",
   "metadata": {
    "slideshow": {
     "slide_type": "slide"
    }
   },
   "source": [
    "# 1. Closures (anonymous functions)\n",
    "# <font color=\"red\">2. Iterators</font>\n",
    "# 3. Iterator + closure magic\n",
    "# 4. How about Python?"
   ]
  },
  {
   "cell_type": "markdown",
   "id": "88594cd2",
   "metadata": {
    "slideshow": {
     "slide_type": "slide"
    }
   },
   "source": [
    "## Iterators\n",
    "\n",
    "* provide values one by one\n",
    "* method `next` provides next one\n",
    "* `Some(value)` or `None` if no more available"
   ]
  },
  {
   "cell_type": "markdown",
   "id": "cfcd35dd",
   "metadata": {
    "slideshow": {
     "slide_type": "fragment"
    }
   },
   "source": [
    "Some ranges are iterators:\n",
    "* `1..100`\n",
    "* `0..`\n",
    "\n",
    "First value has to be known (so `..` and `..123` are not)"
   ]
  },
  {
   "cell_type": "code",
   "execution_count": 9,
   "id": "89aa24c6",
   "metadata": {
    "slideshow": {
     "slide_type": "fragment"
    }
   },
   "outputs": [],
   "source": [
    "let mut iter = 1..3; // must be mutable"
   ]
  },
  {
   "cell_type": "code",
   "execution_count": 12,
   "id": "43053673",
   "metadata": {},
   "outputs": [
    {
     "name": "stdout",
     "output_type": "stream",
     "text": [
      "Some(1)\n",
      "Some(2)\n",
      "None\n",
      "None\n",
      "None\n"
     ]
    }
   ],
   "source": [
    "println!(\"{:?}\", iter.next());\n",
    "println!(\"{:?}\", iter.next());\n",
    "println!(\"{:?}\", iter.next());\n",
    "println!(\"{:?}\", iter.next());\n",
    "println!(\"{:?}\", iter.next());"
   ]
  },
  {
   "cell_type": "markdown",
   "id": "4a2f472d",
   "metadata": {
    "slideshow": {
     "slide_type": "slide"
    }
   },
   "source": [
    "## Iterator from scratch: implement trait `Iterator`"
   ]
  },
  {
   "cell_type": "code",
   "execution_count": 14,
   "id": "aecc2ed5",
   "metadata": {},
   "outputs": [],
   "source": [
    "struct Fib {\n",
    "    current: u128,\n",
    "    next: u128,\n",
    "}\n",
    "\n",
    "impl Fib {\n",
    "    fn new() -> Fib {\n",
    "        Fib{current: 0, next: 1}\n",
    "    }\n",
    "}\n",
    "\n",
    "impl Iterator for Fib {\n",
    "    type Item = u128;\n",
    "    \n",
    "    fn next(&mut self) -> Option<Self::Item> {\n",
    "        let now = self.current;\n",
    "        self.current = self.next;\n",
    "        self.next = now + self.current;\n",
    "        Some(now)\n",
    "    }\n",
    "}"
   ]
  },
  {
   "cell_type": "code",
   "execution_count": 15,
   "id": "72618e3d",
   "metadata": {
    "slideshow": {
     "slide_type": "fragment"
    }
   },
   "outputs": [
    {
     "name": "stdout",
     "output_type": "stream",
     "text": [
      "0 1 1 2 3 5 8 13 21 34 \n"
     ]
    }
   ],
   "source": [
    "let mut fib = Fib::new();\n",
    "for _ in 0..10 {\n",
    "    print!(\"{:?} \",fib.next().unwrap());\n",
    "}\n",
    "println!();"
   ]
  },
  {
   "cell_type": "markdown",
   "id": "daa30f7f",
   "metadata": {
    "slideshow": {
     "slide_type": "slide"
    }
   },
   "source": [
    "## Iterators come with many useful functions implemented"
   ]
  },
  {
   "cell_type": "markdown",
   "id": "8f4167ad",
   "metadata": {},
   "source": [
    "* `next() -> Get the next element of an iterator (None if there isn't one)`\n",
    "* `collect() -> Put iterator elements in vector`\n",
    "* `take(N) -> take first N elements of an iterator and turn them into an iterator`\n",
    "* `cycle() -> Turn a finite iterator into an infinite one that repeats itself`\n",
    "* `for_each(||, ) -> Apply a closure to each element in the iterator`\n",
    "* `filter(||, ) -> Create new iterator from old one for elements where closure is true`\n",
    "* `map(||, ) -> Create new iterator by applying closure to input iterator`\n",
    "* `any(||, ) -> Return true if closure is true for any element of the iterator`\n",
    "* `fold(a, |a, |, ) -> Initialize expression to a, execute closure on iterator and accumulate into a`\n",
    "* `reduce(|x, y|, ) -> Similar to fold but the initial value is the first element in the iterator`\n",
    "* `zip(iterator) -> Zip two iterators together to turn them into pairs`"
   ]
  },
  {
   "cell_type": "markdown",
   "id": "24244e02",
   "metadata": {},
   "source": [
    "`collect` can be used to put elements of an iterator into a vector:"
   ]
  },
  {
   "cell_type": "code",
   "execution_count": 16,
   "id": "4dc39d75",
   "metadata": {},
   "outputs": [
    {
     "data": {
      "text/plain": [
       "[1, 2, 3, 4, 5, 6, 7, 8, 9, 10]"
      ]
     },
     "execution_count": 16,
     "metadata": {},
     "output_type": "execute_result"
    }
   ],
   "source": [
    "let small_numbers : Vec<_> = (1..=10).collect();\n",
    "small_numbers"
   ]
  },
  {
   "cell_type": "markdown",
   "id": "21d56e0f",
   "metadata": {
    "slideshow": {
     "slide_type": "fragment"
    }
   },
   "source": [
    "`take` turns an iterator into an iterator that provides at most a specific number of elements"
   ]
  },
  {
   "cell_type": "code",
   "execution_count": 17,
   "id": "c7de25ce",
   "metadata": {},
   "outputs": [
    {
     "data": {
      "text/plain": [
       "[1, 2, 3, 4, 5, 6, 7, 8, 9, 10]"
      ]
     },
     "execution_count": 17,
     "metadata": {},
     "output_type": "execute_result"
    }
   ],
   "source": [
    "let small_numbers : Vec<_> = (1..).take(10).collect();\n",
    "small_numbers"
   ]
  },
  {
   "cell_type": "markdown",
   "id": "4d035e63",
   "metadata": {
    "slideshow": {
     "slide_type": "fragment"
    }
   },
   "source": [
    "`cycle` creates an iterator that repeats itself forever:"
   ]
  },
  {
   "cell_type": "code",
   "execution_count": 18,
   "id": "e2bc4713",
   "metadata": {},
   "outputs": [
    {
     "data": {
      "text/plain": [
       "[1, 2, 3, 1, 2, 3, 1, 2, 3, 1, 2, 3, 1, 2, 3, 1, 2, 3, 1, 2]"
      ]
     },
     "execution_count": 18,
     "metadata": {},
     "output_type": "execute_result"
    }
   ],
   "source": [
    "let cycle : Vec<_> = (1..4).cycle().take(20).collect();\n",
    "cycle"
   ]
  },
  {
   "cell_type": "markdown",
   "id": "c011a0c6",
   "metadata": {
    "slideshow": {
     "slide_type": "slide"
    }
   },
   "source": [
    "# 1. Closures (anonymous functions)\n",
    "# 2. Iterators\n",
    "# <font color=\"red\">3. Iterator + closure magic</font>\n",
    "# 4. How about Python?"
   ]
  },
  {
   "cell_type": "markdown",
   "id": "a82a7291",
   "metadata": {
    "slideshow": {
     "slide_type": "slide"
    }
   },
   "source": [
    "## Iterator + closure magic\n",
    "* Operate on entire sequence, sometimes lazily by creating a new iterator\n",
    "* Allows for concise expression of many concepts"
   ]
  },
  {
   "cell_type": "markdown",
   "id": "d82dcf36",
   "metadata": {
    "slideshow": {
     "slide_type": "fragment"
    }
   },
   "source": [
    "`for_each` applies a function to each element"
   ]
  },
  {
   "cell_type": "code",
   "execution_count": 19,
   "id": "f8971545",
   "metadata": {},
   "outputs": [
    {
     "name": "stdout",
     "output_type": "stream",
     "text": [
      "0\n",
      "1\n",
      "2\n",
      "3\n",
      "4\n"
     ]
    }
   ],
   "source": [
    "(0..5).for_each(|x| println!(\"{}\",x));"
   ]
  },
  {
   "cell_type": "markdown",
   "id": "43b599be",
   "metadata": {
    "slideshow": {
     "slide_type": "fragment"
    }
   },
   "source": [
    "`filter` creates a new iterator that has elements for which the given function is true"
   ]
  },
  {
   "cell_type": "code",
   "execution_count": 3,
   "id": "796245e1",
   "metadata": {},
   "outputs": [
    {
     "data": {
      "text/plain": [
       "[1, 2, 4, 5, 7, 8]"
      ]
     },
     "execution_count": 3,
     "metadata": {},
     "output_type": "execute_result"
    }
   ],
   "source": [
    "let not_divisible_by_3 : Vec<_> = (0..10).filter(|x| x % 3 != 0).collect();\n",
    "not_divisible_by_3"
   ]
  },
  {
   "cell_type": "markdown",
   "id": "045f973b",
   "metadata": {
    "slideshow": {
     "slide_type": "slide"
    }
   },
   "source": [
    "## Iterator + closure magic\n",
    "* Operate on entire sequence, sometimes lazily by creating a new iterator\n",
    "* Allows for concise expression of many concepts"
   ]
  },
  {
   "cell_type": "markdown",
   "id": "68b039ff",
   "metadata": {},
   "source": [
    "\n",
    "`map` creates a new iterator in which values are processed by a function"
   ]
  },
  {
   "cell_type": "code",
   "execution_count": 2,
   "id": "83804cc0",
   "metadata": {},
   "outputs": [
    {
     "ename": "Error",
     "evalue": "failed to resolve: use of undeclared type `Fib`",
     "output_type": "error",
     "traceback": [
      "let fibonacci_squared : Vec<_> = Fib::new().take(10).map(|x| x*x).collect();",
      "\u001b[91m                                 ^^^\u001b[0m \u001b[94muse of undeclared type `Fib`\u001b[0m",
      "failed to resolve: use of undeclared type `Fib`"
     ]
    }
   ],
   "source": [
    "let fibonacci_squared : Vec<_> = Fib::new().take(10).map(|x| x*x).collect();\n",
    "fibonacci_squared"
   ]
  },
  {
   "cell_type": "markdown",
   "id": "b52efa6f",
   "metadata": {
    "slideshow": {
     "slide_type": "slide"
    }
   },
   "source": [
    "## Primes\n",
    "`any` is true if the passed function is true on some element"
   ]
  },
  {
   "cell_type": "markdown",
   "id": "0fa3e014",
   "metadata": {
    "slideshow": {
     "slide_type": ""
    }
   },
   "source": [
    "Is a number prime?"
   ]
  },
  {
   "cell_type": "code",
   "execution_count": 22,
   "id": "2ce889bd",
   "metadata": {},
   "outputs": [],
   "source": [
    "fn is_prime(k:u32) -> bool {\n",
    "    !(2..k).any(|x| k % x == 0)\n",
    "}"
   ]
  },
  {
   "cell_type": "code",
   "execution_count": 25,
   "id": "90aa6346",
   "metadata": {
    "slideshow": {
     "slide_type": "fragment"
    }
   },
   "outputs": [
    {
     "data": {
      "text/plain": [
       "true"
      ]
     },
     "execution_count": 25,
     "metadata": {},
     "output_type": "execute_result"
    }
   ],
   "source": [
    "is_prime(31)"
   ]
  },
  {
   "cell_type": "markdown",
   "id": "8263a265",
   "metadata": {
    "slideshow": {
     "slide_type": "fragment"
    }
   },
   "source": [
    "Create infinite iterator over primes:"
   ]
  },
  {
   "cell_type": "code",
   "execution_count": 13,
   "id": "831a3586",
   "metadata": {
    "slideshow": {
     "slide_type": ""
    }
   },
   "outputs": [
    {
     "data": {
      "text/plain": [
       "[2, 3, 5, 7, 11, 13, 17, 19, 23, 29, 31, 37, 41, 43, 47, 53, 59, 61, 67, 71, 73, 79, 83, 89, 97, 101, 103, 107, 109, 113, 127, 131, 137, 139, 149, 151, 157, 163, 167, 173, 179, 181, 191, 193, 197, 199, 211, 223, 227, 229, 233, 239, 241, 251, 257, 263, 269, 271, 277, 281, 283, 293, 307, 311, 313, 317, 331, 337, 347, 349, 353, 359, 367, 373, 379, 383, 389, 397, 401, 409, 419, 421, 431, 433, 439, 443, 449, 457, 461, 463, 467, 479, 487, 491, 499, 503, 509, 521, 523, 541, 547, 557, 563, 569, 571, 577, 587, 593, 599, 601, 607, 613, 617, 619, 631, 641, 643, 647, 653, 659, 661, 673, 677, 683, 691, 701, 709, 719, 727, 733, 739, 743, 751, 757, 761, 769, 773, 787, 797, 809, 811, 821, 823, 827, 829, 839, 853, 857, 859, 863, 877, 881, 883, 887, 907, 911, 919, 929, 937, 941, 947, 953, 967, 971, 977, 983, 991, 997, 1009, 1013, 1019, 1021, 1031, 1033, 1039, 1049, 1051, 1061, 1063, 1069, 1087, 1091, 1093, 1097, 1103, 1109, 1117, 1123, 1129, 1151, 1153, 1163, 1171, 1181, 1187, 1193, 1201, 1213, 1217, 1223]"
      ]
     },
     "execution_count": 13,
     "metadata": {},
     "output_type": "execute_result"
    }
   ],
   "source": [
    "{\n",
    "  let primes = (2..).filter(|k| !(2..*k).any(|x| k % x == 0));\n",
    "  let v : Vec<_> = primes.take(200).collect();\n",
    "  v\n",
    "}"
   ]
  },
  {
   "cell_type": "markdown",
   "id": "d3fe7595",
   "metadata": {
    "slideshow": {
     "slide_type": "slide"
    }
   },
   "source": [
    "## Functional programming classics: `fold` and `reduce`\n",
    "\n",
    "`iterator.fold(init,f)` equivalent to\n",
    "```rust\n",
    "let mut accumulator = init;\n",
    "while let Some(x) = iterator.next() {\n",
    "    accumulator = f(accumulator,x);\n",
    "}\n",
    "accumulator\n",
    "```"
   ]
  },
  {
   "cell_type": "markdown",
   "id": "d5943f01",
   "metadata": {
    "cell_style": "center",
    "slideshow": {
     "slide_type": "fragment"
    }
   },
   "source": [
    "**Example:** compute $\\sum_{i=1}^{10} x^2$"
   ]
  },
  {
   "cell_type": "code",
   "execution_count": 27,
   "id": "1e8772af",
   "metadata": {
    "cell_style": "center"
   },
   "outputs": [
    {
     "data": {
      "text/plain": [
       "385"
      ]
     },
     "execution_count": 27,
     "metadata": {},
     "output_type": "execute_result"
    }
   ],
   "source": [
    "let sum_of_squares: i32 = (1..=10).fold(0,|a,x| a + x * x);\n",
    "sum_of_squares"
   ]
  },
  {
   "cell_type": "code",
   "execution_count": 28,
   "id": "0b2fa6da",
   "metadata": {
    "slideshow": {
     "slide_type": "fragment"
    }
   },
   "outputs": [
    {
     "data": {
      "text/plain": [
       "385"
      ]
     },
     "execution_count": 28,
     "metadata": {},
     "output_type": "execute_result"
    }
   ],
   "source": [
    "// Another approach: using `sum` (which can be implemented using `fold`)\n",
    "let sum_of_squares: i32 = (1..=10).map(|x| x * x).sum();\n",
    "sum_of_squares"
   ]
  },
  {
   "cell_type": "markdown",
   "id": "9315b543",
   "metadata": {
    "slideshow": {
     "slide_type": "subslide"
    }
   },
   "source": [
    "## Functional programming classics: `fold` and `reduce`\n",
    "\n",
    "`iterator.reduce(f)` equivalent to\n",
    "```rust\n",
    "if let Some(x) = iterator.next() {\n",
    "    let mut accumulator = x;\n",
    "    while let Some(y) = iterator.next() { accumulator = f(accumulator,y}\n",
    "    Some(accumulator)\n",
    "} else {\n",
    "    None\n",
    "}\n",
    "```\n",
    "\n",
    "Differences from `fold`:\n",
    "* no default value for an empty sequence \n",
    "* output must be the same type as elements of input sequence\n",
    "* output for length–one sequence equals the only element in the sequence"
   ]
  },
  {
   "cell_type": "markdown",
   "id": "57fa6683",
   "metadata": {
    "slideshow": {
     "slide_type": "subslide"
    }
   },
   "source": [
    "## Functional programming classics: `fold` and `reduce`\n",
    "\n",
    "`iterator.reduce(f)` equivalent to\n",
    "```rust\n",
    "if let Some(x) = iterator.next() {\n",
    "    let mut accumulator = x;\n",
    "    while let Some(y) = iterator.next() { accumulator = f(accumulator,y) }\n",
    "    Some(accumulator)\n",
    "} else {\n",
    "    None\n",
    "}\n",
    "```"
   ]
  },
  {
   "cell_type": "markdown",
   "id": "b80890d0",
   "metadata": {
    "slideshow": {
     "slide_type": ""
    }
   },
   "source": [
    "**Example:** computing the maximum number in $\\{x^2 \\bmod 7853: x \\in [123] \\}$"
   ]
  },
  {
   "cell_type": "code",
   "execution_count": 29,
   "id": "afd8267e",
   "metadata": {},
   "outputs": [
    {
     "data": {
      "text/plain": [
       "7744"
      ]
     },
     "execution_count": 29,
     "metadata": {},
     "output_type": "execute_result"
    }
   ],
   "source": [
    "(1..=123).map(|x| (x*x) % 7853).reduce(|x,y| x.max(y)).unwrap()"
   ]
  },
  {
   "cell_type": "code",
   "execution_count": 30,
   "id": "3e081ffa",
   "metadata": {
    "slideshow": {
     "slide_type": "fragment"
    }
   },
   "outputs": [
    {
     "data": {
      "text/plain": [
       "7744"
      ]
     },
     "execution_count": 30,
     "metadata": {},
     "output_type": "execute_result"
    }
   ],
   "source": [
    "// in this case one can use the builtin `max` method (which can be implemented, using `fold`)\n",
    "(1..=123).map(|x| (x*x) % 7853).max().unwrap()"
   ]
  },
  {
   "cell_type": "markdown",
   "id": "282d77ec",
   "metadata": {
    "slideshow": {
     "slide_type": "slide"
    }
   },
   "source": [
    "## Combining two iterators: `zip`\n",
    "\n",
    "* Returns an iterator of pairs\n",
    "* The length is the minimum of the lengths"
   ]
  },
  {
   "cell_type": "code",
   "execution_count": 31,
   "id": "cce27d91",
   "metadata": {
    "slideshow": {
     "slide_type": "fragment"
    }
   },
   "outputs": [
    {
     "data": {
      "text/plain": [
       "[(1, 11), (2, 12), (3, 13), (4, 14), (5, 15), (6, 16), (7, 17), (8, 18), (9, 19)]"
      ]
     },
     "execution_count": 31,
     "metadata": {},
     "output_type": "execute_result"
    }
   ],
   "source": [
    "let v: Vec<_> = (1..10).zip(11..20).collect();\n",
    "v"
   ]
  },
  {
   "cell_type": "markdown",
   "id": "7fd9416d",
   "metadata": {
    "slideshow": {
     "slide_type": "fragment"
    }
   },
   "source": [
    "Inner product of two vectors:"
   ]
  },
  {
   "cell_type": "code",
   "execution_count": 32,
   "id": "37170085",
   "metadata": {},
   "outputs": [
    {
     "data": {
      "text/plain": [
       "-5.72"
      ]
     },
     "execution_count": 32,
     "metadata": {},
     "output_type": "execute_result"
    }
   ],
   "source": [
    "let x: Vec<f64> = vec![1.1,  2.2, -1.3,  2.2];\n",
    "let y: Vec<f64>  = vec![2.7, -1.2, -1.1, -3.4];\n",
    "let inner_product: f64 = x.iter().zip(y.iter()).map(|(a,b)| a * b).sum();\n",
    "inner_product"
   ]
  },
  {
   "cell_type": "markdown",
   "id": "9b434538",
   "metadata": {
    "slideshow": {
     "slide_type": "slide"
    }
   },
   "source": [
    "# 1. Closures (anonymous functions)\n",
    "# 2. Iterators\n",
    "# 3. Iterator + closure magic\n",
    "# <font color=\"red\">4. How about Python?</font>"
   ]
  },
  {
   "cell_type": "markdown",
   "id": "7e628f99",
   "metadata": {
    "slideshow": {
     "slide_type": "slide"
    }
   },
   "source": [
    "<div align=\"center\">\n",
    "    <h1>[Switch to the Python notebook]</h1>\n",
    "</div>"
   ]
  }
 ],
 "metadata": {
  "celltoolbar": "Slideshow",
  "kernelspec": {
   "display_name": "Rust",
   "language": "rust",
   "name": "rust"
  },
  "language_info": {
   "codemirror_mode": "rust",
   "file_extension": ".rs",
   "mimetype": "text/rust",
   "name": "Rust",
   "pygment_lexer": "rust",
   "version": ""
  },
  "rise": {
   "theme": "beige",
   "transition": "fade"
  }
 },
 "nbformat": 4,
 "nbformat_minor": 5
}
