{
 "cells": [
  {
   "cell_type": "markdown",
   "id": "09ab05aa",
   "metadata": {
    "slideshow": {
     "slide_type": "slide"
    }
   },
   "source": [
    "## Quick look at a 20th century programming language"
   ]
  },
  {
   "cell_type": "markdown",
   "id": "2c505eed",
   "metadata": {},
   "source": [
    "Generators:\n",
    "* they can be defined like functions\n",
    "* use `yield` instead of `return` to provide a sequence of values"
   ]
  },
  {
   "cell_type": "code",
   "execution_count": 1,
   "id": "1f17fa36",
   "metadata": {
    "slideshow": {
     "slide_type": "fragment"
    }
   },
   "outputs": [],
   "source": [
    "def fib(up_to):\n",
    "    current, next = 0, 1\n",
    "    while current <= up_to:\n",
    "        yield current\n",
    "        current, next = next, current + next"
   ]
  },
  {
   "cell_type": "code",
   "execution_count": 2,
   "id": "1c811484",
   "metadata": {
    "slideshow": {
     "slide_type": "fragment"
    }
   },
   "outputs": [
    {
     "name": "stdout",
     "output_type": "stream",
     "text": [
      "0 1 1 2 3 5 8 13 21 34 55 89 144 233 377 610 987 "
     ]
    }
   ],
   "source": [
    "# output Fibonacci numbers up to 1000\n",
    "for x in fib(1000):\n",
    "    print(x,end=\" \")"
   ]
  },
  {
   "cell_type": "markdown",
   "id": "c61ee4bd",
   "metadata": {
    "slideshow": {
     "slide_type": "subslide"
    }
   },
   "source": [
    "## Example: `map` in Python"
   ]
  },
  {
   "cell_type": "code",
   "execution_count": 3,
   "id": "7a7f05f0",
   "metadata": {
    "slideshow": {
     "slide_type": ""
    }
   },
   "outputs": [
    {
     "name": "stdout",
     "output_type": "stream",
     "text": [
      "0 1 1 4 9 25 64 169 441 1156 3025 7921 20736 54289 142129 372100 974169 "
     ]
    }
   ],
   "source": [
    "# * using `map` in Python\n",
    "# * output squares of the same Fibonacci numbers\n",
    "for x in map(lambda x: x*x, fib(1000)):\n",
    "    print(x,end=\" \")"
   ]
  },
  {
   "cell_type": "markdown",
   "id": "6cc207d1",
   "metadata": {
    "slideshow": {
     "slide_type": "fragment"
    }
   },
   "source": [
    "\n",
    "Compute the maximum of the squares of the same Fibonacci numbers modulo 789:"
   ]
  },
  {
   "cell_type": "code",
   "execution_count": 4,
   "id": "933b7146",
   "metadata": {
    "slideshow": {
     "slide_type": ""
    }
   },
   "outputs": [
    {
     "data": {
      "text/plain": [
       "658"
      ]
     },
     "execution_count": 4,
     "metadata": {},
     "output_type": "execute_result"
    }
   ],
   "source": [
    "max(map(lambda x: (x*x) % 789, fib(1000)))"
   ]
  },
  {
   "cell_type": "markdown",
   "id": "730f4cf1",
   "metadata": {
    "slideshow": {
     "slide_type": "subslide"
    }
   },
   "source": [
    "## List comprehensions and generator expressions"
   ]
  },
  {
   "cell_type": "markdown",
   "id": "3d2ccc0f",
   "metadata": {
    "slideshow": {
     "slide_type": ""
    }
   },
   "source": [
    " * more Pythonic\n",
    " * often a great replacement for functional primitives"
   ]
  },
  {
   "cell_type": "code",
   "execution_count": 5,
   "id": "9f3aba19",
   "metadata": {
    "slideshow": {
     "slide_type": "fragment"
    }
   },
   "outputs": [
    {
     "data": {
      "text/plain": [
       "658"
      ]
     },
     "execution_count": 5,
     "metadata": {},
     "output_type": "execute_result"
    }
   ],
   "source": [
    "max((x*x) % 789 for x in fib(1000))"
   ]
  },
  {
   "cell_type": "markdown",
   "id": "60554446",
   "metadata": {
    "slideshow": {
     "slide_type": "fragment"
    }
   },
   "source": [
    "<br>\n",
    "\n",
    "* Good overview of some of these topics: https://realpython.com/python-map-function/"
   ]
  },
  {
   "cell_type": "markdown",
   "id": "29fb27b5",
   "metadata": {},
   "source": [
    "<br>\n",
    "\n",
    "* An attempt at eliminating functional features from Python 3.0 was not successful :-) https://www.artima.com/weblogs/viewpost.jsp?thread=98196"
   ]
  }
 ],
 "metadata": {
  "celltoolbar": "Slideshow",
  "kernelspec": {
   "display_name": "Python 3 (ipykernel)",
   "language": "python",
   "name": "python3"
  },
  "language_info": {
   "codemirror_mode": {
    "name": "ipython",
    "version": 3
   },
   "file_extension": ".py",
   "mimetype": "text/x-python",
   "name": "python",
   "nbconvert_exporter": "python",
   "pygments_lexer": "ipython3",
   "version": "3.8.10"
  },
  "rise": {
   "enable_chalkboard": false,
   "theme": "serif",
   "transition": "fade"
  }
 },
 "nbformat": 4,
 "nbformat_minor": 5
}
