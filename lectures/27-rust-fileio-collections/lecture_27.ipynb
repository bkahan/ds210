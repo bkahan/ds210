{
 "cells": [
  {
   "cell_type": "markdown",
   "id": "cf7f87e3",
   "metadata": {
    "slideshow": {
     "slide_type": "slide"
    }
   },
   "source": [
    "<div align=\"center\">\n",
    "    <h1>DS-210: Programming for Data Science</h1>\n",
    "    <h1>Lecture 27</h1>\n",
    "</div>\n",
    "\n",
    "# 1. External crate example: `csv` (reading csv)\n",
    "# 2. File I/O\n",
    "# 3. Basic collections: stack and queue\n",
    "# 4. Graph exploration: breadth–first search (BFS)"
   ]
  },
  {
   "cell_type": "markdown",
   "id": "ac872f55",
   "metadata": {
    "slideshow": {
     "slide_type": "slide"
    }
   },
   "source": [
    "# <font color=\"red\">1. External crate example: `csv` (reading csv)</font>\n",
    "# 2 File I/O\n",
    "# 3. Basic collections: stack and queue\n",
    "# 4. Graph exploration: breadth–first search (BFS)"
   ]
  },
  {
   "cell_type": "markdown",
   "id": "e6985d92",
   "metadata": {
    "cell_style": "center",
    "slideshow": {
     "slide_type": "slide"
    }
   },
   "source": [
    "## Crate `csv` (and `serde`): reading a CSV file\n",
    "See:\n",
    "  * https://crates.io/crates/csv\n",
    "  * https://crates.io/crates/serde"
   ]
  },
  {
   "cell_type": "markdown",
   "id": "7c6ceaf1",
   "metadata": {
    "cell_style": "split"
   },
   "source": [
    "* Create a new project\n",
    "* Add to `Cargo.toml`:\n",
    "```\n",
    "   csv = \"1.1.6\"\n",
    "   serde = \"1.0.136\"\n",
    "```"
   ]
  },
  {
   "cell_type": "markdown",
   "id": "7b054ad6",
   "metadata": {
    "cell_style": "split",
    "slideshow": {
     "slide_type": "fragment"
    }
   },
   "source": [
    "* Copy the second example from the `csv` docs\n",
    "* Update the field names"
   ]
  },
  {
   "cell_type": "markdown",
   "id": "c8f62ebe",
   "metadata": {
    "cell_style": "center",
    "slideshow": {
     "slide_type": "fragment"
    }
   },
   "source": [
    "<div align=\"center\">\n",
    "    <b>Doesn't work!!!!!</b>\n",
    "</div>\n",
    "\n",
    "* Search for solution online!"
   ]
  },
  {
   "cell_type": "markdown",
   "id": "63009152",
   "metadata": {
    "slideshow": {
     "slide_type": "subslide"
    }
   },
   "source": [
    "## Crate `csv` (and `serde`): reading a CSV file"
   ]
  },
  {
   "cell_type": "markdown",
   "id": "c7e2ff45",
   "metadata": {},
   "source": [
    "**Solution:** modify `Cargo.toml` for `serde`\n",
    "```\n",
    "serde = { version = \"1.0.136\", features = [\"derive\"] }\n",
    "```"
   ]
  },
  {
   "cell_type": "markdown",
   "id": "9978b6c8",
   "metadata": {
    "slideshow": {
     "slide_type": "fragment"
    }
   },
   "source": [
    "**Our case:** add this before `Record` to supress warnings\n",
    "```\n",
    "#[allow(dead_code,non_snake_case)]\n",
    "```"
   ]
  },
  {
   "cell_type": "markdown",
   "id": "22bcebd1",
   "metadata": {
    "slideshow": {
     "slide_type": "fragment"
    }
   },
   "source": [
    "**Bottom line:**\n",
    "* parameters other than the version number possible in `Cargo.toml`"
   ]
  },
  {
   "cell_type": "markdown",
   "id": "4d1a42dc",
   "metadata": {
    "slideshow": {
     "slide_type": "slide"
    }
   },
   "source": [
    "## Relying on external projects"
   ]
  },
  {
   "cell_type": "markdown",
   "id": "df8c192f",
   "metadata": {
    "cell_style": "split"
   },
   "source": [
    "Things to consider about external libraries:\n",
    "* trustworthy?\n",
    "* stable?\n",
    "* long–term survival?\n",
    "* do you really need it?"
   ]
  },
  {
   "cell_type": "markdown",
   "id": "be3815c1",
   "metadata": {
    "cell_style": "split",
    "slideshow": {
     "slide_type": "fragment"
    }
   },
   "source": [
    "Many things best left to professionals:\n",
    "\n",
    "<div align=\"center\">\n",
    "    <b><font color=\"red\">Never implement your own crypto!</font></b>\n",
    "</div>"
   ]
  },
  {
   "cell_type": "markdown",
   "id": "72ff3520",
   "metadata": {
    "cell_style": "split",
    "slideshow": {
     "slide_type": "fragment"
    }
   },
   "source": [
    "Implementing your own things can be a great educational experience!"
   ]
  },
  {
   "cell_type": "markdown",
   "id": "1ef1eda8",
   "metadata": {
    "slideshow": {
     "slide_type": "subslide"
    }
   },
   "source": [
    "## Extreme example\n",
    "\n",
    "<br>\n",
    "<div align=\"center\">\n",
    "    <img src=\"left-pad.png\" alt=\"[article about left-pad]\" width=\"35%\">\n",
    "</div>\n",
    "</br>"
   ]
  },
  {
   "cell_type": "markdown",
   "id": "68a1a709",
   "metadata": {
    "slideshow": {
     "slide_type": "fragment"
    }
   },
   "source": [
    "Rust and `cargo`: can't delete libraries that were published"
   ]
  },
  {
   "cell_type": "markdown",
   "id": "deec35b3",
   "metadata": {},
   "source": [
    "# 1. External crate example: `csv` (reading csv)\n",
    "# <font color=\"red\">2. File I/O</font>\n",
    "# 3. Basic collections: stack and queue\n",
    "# 4. Graph exploration: breadth–first search (BFS)"
   ]
  },
  {
   "cell_type": "code",
   "execution_count": 4,
   "id": "0678fd9d",
   "metadata": {},
   "outputs": [
    {
     "data": {
      "text/plain": [
       "[(0, 1), (1, 2), (1, 7), (1, 2), (1, 4), (1, 2), (1, 4), (1, 9), (1, 6), (1, 3), (1, 9), (1, 7), (1, 4), (1, 6), (1, 5), (1, 3), (1, 6), (2, 9), (2, 6), (2, 8), (2, 0), (2, 7), (2, 1), (2, 1), (2, 1), (2, 4), (2, 7), (2, 9), (2, 0), (2, 1), (2, 7), (2, 0), (3, 6), (3, 9), (3, 9), (3, 1), (3, 7), (3, 2), (3, 4), (3, 4), (3, 1), (3, 7), (4, 3), (4, 0), (4, 8), (4, 5), (4, 0), (5, 3), (5, 8), (5, 0), (6, 5), (6, 8), (6, 0), (6, 8), (6, 8), (6, 1), (6, 8), (6, 0), (6, 1), (6, 2), (6, 7), (6, 8), (6, 8), (7, 9), (7, 0), (7, 2), (7, 3), (7, 2), (7, 0), (8, 9), (8, 3), (8, 6), (8, 2), (8, 9), (8, 3), (8, 7), (8, 9), (8, 2), (8, 9), (8, 0), (9, 3), (9, 4), (9, 1), (9, 4), (9, 0), (9, 2), (9, 8)]"
      ]
     },
     "execution_count": 4,
     "metadata": {},
     "output_type": "execute_result"
    }
   ],
   "source": [
    ":dep rand=\"0.8.5\"\n",
    "use std::fs::File;\n",
    "use std::io::prelude::*;\n",
    "use rand::Rng;\n",
    "\n",
    "\n",
    "fn generate_file(path: &str, n: usize) {\n",
    "    // Generate a random file of edges for vertices 0.999\n",
    "    let mut file = File::create(path).expect(\"Unable to create file\");\n",
    "    for i in 0..n {\n",
    "        // How many neighbors will this node have\n",
    "        let rng = rand::thread_rng().gen_range(0..20) as usize;\n",
    "        for _j in 0..rng {\n",
    "            // Randomly select a neighbor (even with duplicates but not to ourselves)\n",
    "            let neighbor = rand::thread_rng().gen_range(0..n) as usize;\n",
    "            if neighbor != i {\n",
    "                let s: String = format!(\"{} {}\\n\", i, neighbor);\n",
    "                file.write_all(s.as_bytes()).expect(\"Unable to write file\");\n",
    "            }\n",
    "        }\n",
    "    }\n",
    "}\n",
    "\n",
    "fn read_file(path: &str) -> Vec<(u32, u32)> {\n",
    "    let mut result: Vec<(u32, u32)> = Vec::new();\n",
    "    let file = File::open(path).expect(\"Could not open file\");\n",
    "    let buf_reader = std::io::BufReader::new(file).lines();\n",
    "    for line in buf_reader {\n",
    "        let line_str = line.expect(\"Error reading\");\n",
    "        let v: Vec<&str> = line_str.trim().split(' ').collect();\n",
    "        let x = v[0].parse::<u32>().unwrap();\n",
    "        let y = v[1].parse::<u32>().unwrap();\n",
    "        result.push((x, y));\n",
    "    }\n",
    "    return result;\n",
    "}\n",
    "\n",
    "generate_file(\"list_of_edges.txt\", 10);\n",
    "let edges = read_file(\"list_of_edges.txt\");\n",
    "edges\n"
   ]
  },
  {
   "cell_type": "markdown",
   "id": "098a8112",
   "metadata": {},
   "source": [
    "### Read sections 12.1 and 12.2 from the Rust book"
   ]
  },
  {
   "cell_type": "markdown",
   "id": "f916af9c",
   "metadata": {
    "slideshow": {
     "slide_type": "slide"
    }
   },
   "source": [
    "# 1. External crate example: `csv` (reading csv)\n",
    "# 2. File I/O\n",
    "# <font color=\"red\">3. Basic collections: stack and queue</font>\n",
    "# 4. Graph exploration: breadth–first search (BFS)"
   ]
  },
  {
   "cell_type": "markdown",
   "id": "f52429fc",
   "metadata": {
    "slideshow": {
     "slide_type": "slide"
    }
   },
   "source": [
    "## Basic data structures: stack and queue"
   ]
  },
  {
   "cell_type": "markdown",
   "id": "acfa5f08",
   "metadata": {
    "cell_style": "split"
   },
   "source": [
    "Stack (same name as in \"stack vs. heap\"):\n",
    "* FILO: first in last out / LIFO: last in first out\n",
    "* put items on the top\n",
    "* get items from the top\n",
    "* can use `Vec` for this: methods `push` and `pop`"
   ]
  },
  {
   "cell_type": "markdown",
   "id": "f0240447",
   "metadata": {
    "cell_style": "split",
    "slideshow": {
     "slide_type": "fragment"
    }
   },
   "source": [
    "Queue:\n",
    "* FIFO: first in last out\n",
    "* add items at the end\n",
    "* get items from the front"
   ]
  },
  {
   "cell_type": "markdown",
   "id": "66259aeb",
   "metadata": {
    "slideshow": {
     "slide_type": "slide"
    }
   },
   "source": [
    "## Rust: `std::collections::VecDeque<T>`\n",
    "\n",
    "* generalization of queue and stack\n",
    "* accessing front: methods `push_front(x)` and `pop_front()`\n",
    "* accessing back: methods `push_back(x)` and `pop_back()`\n",
    "* `pop_front` and `pop_back` return `Option<T>`"
   ]
  },
  {
   "cell_type": "code",
   "execution_count": 2,
   "id": "2d0b016f",
   "metadata": {
    "cell_style": "split",
    "slideshow": {
     "slide_type": "fragment"
    }
   },
   "outputs": [
    {
     "name": "stdout",
     "output_type": "stream",
     "text": [
      "Some(3)\n",
      "Some(2)\n",
      "Some(5)\n"
     ]
    }
   ],
   "source": [
    "use std::collections::VecDeque;\n",
    "\n",
    "// using as a stack: push_back & pop_back\n",
    "let mut stack = VecDeque::new();\n",
    "\n",
    "stack.push_back(1);\n",
    "stack.push_back(2);\n",
    "stack.push_back(3);\n",
    "\n",
    "println!(\"{:?}\",stack.pop_back());\n",
    "println!(\"{:?}\",stack.pop_back());\n",
    "\n",
    "stack.push_back(4);\n",
    "stack.push_back(5);\n",
    "\n",
    "println!(\"{:?}\",stack.pop_back());"
   ]
  },
  {
   "cell_type": "code",
   "execution_count": 3,
   "id": "19feabe9",
   "metadata": {
    "cell_style": "split",
    "slideshow": {
     "slide_type": "fragment"
    }
   },
   "outputs": [
    {
     "name": "stdout",
     "output_type": "stream",
     "text": [
      "Some(1)\n",
      "Some(2)\n",
      "Some(3)\n"
     ]
    }
   ],
   "source": [
    "// using as a queue: push_back & pop_front\n",
    "let mut queue = VecDeque::new();\n",
    "\n",
    "queue.push_back(1);\n",
    "queue.push_back(2);\n",
    "queue.push_back(3);\n",
    "\n",
    "println!(\"{:?}\",queue.pop_front());\n",
    "println!(\"{:?}\",queue.pop_front());\n",
    "\n",
    "queue.push_back(4);\n",
    "queue.push_back(5);\n",
    "\n",
    "println!(\"{:?}\",queue.pop_front());"
   ]
  },
  {
   "cell_type": "markdown",
   "id": "15d583b8",
   "metadata": {
    "cell_style": "center",
    "slideshow": {
     "slide_type": "subslide"
    }
   },
   "source": [
    "## Implementation of `VecDeque`\n",
    "\n",
    "<br>\n",
    "<div align=\"center\">\n",
    "    <b>How would you do it?</b>\n",
    "</div>\n",
    "<br>"
   ]
  },
  {
   "cell_type": "markdown",
   "id": "a0c5cb9c",
   "metadata": {
    "cell_style": "split",
    "slideshow": {
     "slide_type": "fragment"
    }
   },
   "source": [
    "* use an array allocated on the heap\n",
    "* keep index of the front and end\n",
    "* wrap around"
   ]
  },
  {
   "cell_type": "markdown",
   "id": "cd34615d",
   "metadata": {
    "cell_style": "split",
    "slideshow": {
     "slide_type": "fragment"
    }
   },
   "source": [
    "**Out of space?**\n",
    "  * double the size\n",
    "  * good complexity due to amortization"
   ]
  },
  {
   "cell_type": "markdown",
   "id": "9a53747f",
   "metadata": {
    "slideshow": {
     "slide_type": "slide"
    }
   },
   "source": [
    "# 1. External crate example: `csv` (reading csv)\n",
    "# 2. File I/O\n",
    "# 3. Basic collections: stack and queue\n",
    "# <font color=\"red\">4. Graph exploration: breadth–first search (BFS)</font>"
   ]
  },
  {
   "cell_type": "markdown",
   "id": "5735b434",
   "metadata": {
    "slideshow": {
     "slide_type": "slide"
    }
   },
   "source": [
    "## Graph exploration\n",
    "\n",
    "**Sample popular methods:**\n",
    "\n",
    "* breadth–first search (BFS)\n",
    "  * next lecture\n",
    "  * uses a queue\n",
    "  * great for computing distances!"
   ]
  },
  {
   "cell_type": "markdown",
   "id": "762122f2",
   "metadata": {
    "slideshow": {
     "slide_type": "fragment"
    }
   },
   "source": [
    "* depth–first search (DFS)\n",
    "  * next lecture\n",
    "  * uses a stack"
   ]
  },
  {
   "cell_type": "markdown",
   "id": "2d4d59c6",
   "metadata": {
    "slideshow": {
     "slide_type": "fragment"
    }
   },
   "source": [
    "* random walks\n",
    "  * example: PageRank (see HW 10)"
   ]
  }
 ],
 "metadata": {
  "celltoolbar": "Slideshow",
  "kernelspec": {
   "display_name": "Rust",
   "language": "rust",
   "name": "rust"
  },
  "language_info": {
   "codemirror_mode": "rust",
   "file_extension": ".rs",
   "mimetype": "text/rust",
   "name": "Rust",
   "pygment_lexer": "rust",
   "version": ""
  },
  "rise": {
   "theme": "beige",
   "transition": "fade"
  }
 },
 "nbformat": 4,
 "nbformat_minor": 5
}
