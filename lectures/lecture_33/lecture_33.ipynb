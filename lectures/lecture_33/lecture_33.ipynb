{
 "cells": [
  {
   "cell_type": "markdown",
   "id": "cf7f87e3",
   "metadata": {
    "slideshow": {
     "slide_type": "slide"
    }
   },
   "source": [
    "<div align=\"center\">\n",
    "    <h1>DS-210: Programming for Data Science</h1>\n",
    "    <h1>Lecture 33</h1>\n",
    "</div>\n",
    "\n",
    "# 1. Binary search trees\n",
    "# 2. Applications (range searching)\n",
    "# 3. Rust: `BTreeMap` and `BTreeSet`\n",
    "# 4. Tries (Prefix Trees)\n"
   ]
  },
  {
   "cell_type": "markdown",
   "id": "3747c566",
   "metadata": {
    "slideshow": {
     "slide_type": "slide"
    }
   },
   "source": [
    "## Binary search trees"
   ]
  },
  {
   "cell_type": "markdown",
   "id": "d485a300",
   "metadata": {
    "cell_style": "split",
    "slideshow": {
     "slide_type": "-"
    }
   },
   "source": [
    "* Organize data into a binary tree\n",
    "  * Similar to binary heaps"
   ]
  },
  {
   "cell_type": "markdown",
   "id": "22185d32",
   "metadata": {
    "cell_style": "split",
    "slideshow": {
     "slide_type": ""
    }
   },
   "source": [
    "<div align=\"center\">\n",
    "<img src=\"sample_tree.png\" alt=\"[sample tree]\" width=\"37%\">\n",
    "</div>"
   ]
  },
  {
   "cell_type": "markdown",
   "id": "68cd3096",
   "metadata": {
    "cell_style": "split",
    "slideshow": {
     "slide_type": "fragment"
    }
   },
   "source": [
    "* Invariant at each node:\n",
    "  * all left descendants${}\\le{}$parent\n",
    "  * parent${}\\le{}$all right descendants"
   ]
  },
  {
   "cell_type": "markdown",
   "id": "4fb456bd",
   "metadata": {
    "cell_style": "split",
    "slideshow": {
     "slide_type": ""
    }
   },
   "source": [
    "<div align=\"center\">\n",
    "<img src=\"relationship.png\" alt=\"[sample tree]\" width=\"37%\">\n",
    "</div>"
   ]
  },
  {
   "cell_type": "markdown",
   "id": "9abef36c",
   "metadata": {
    "slideshow": {
     "slide_type": "fragment"
    }
   },
   "source": [
    "* Compared to binary heaps:\n",
    "  * different ordering of elements"
   ]
  },
  {
   "cell_type": "markdown",
   "id": "bb52e65a",
   "metadata": {
    "slideshow": {
     "slide_type": "subslide"
    }
   },
   "source": [
    "## Basic operations: find a key $k$\n",
    "\n",
    "How can we do this?"
   ]
  },
  {
   "cell_type": "markdown",
   "id": "778ef148",
   "metadata": {
    "slideshow": {
     "slide_type": "fragment"
    }
   },
   "source": [
    "* Descend recursively from the root until $k$ found or stuck:\n",
    "  * If $k<{}$value at the current node, go left\n",
    "  * If $k>{}$value at the current node, go right\n",
    "\n",
    "<br>\n",
    "<br>\n",
    "<div align=\"center\">\n",
    "    <b>[see examples on the board]</b>\n",
    "</div>"
   ]
  },
  {
   "cell_type": "markdown",
   "id": "77b8d3ff",
   "metadata": {
    "slideshow": {
     "slide_type": "subslide"
    }
   },
   "source": [
    "## Basic operations: insert a key $k$\n",
    "\n",
    "How can we do this?"
   ]
  },
  {
   "cell_type": "markdown",
   "id": "3ab152a1",
   "metadata": {
    "slideshow": {
     "slide_type": "fragment"
    }
   },
   "source": [
    "* Keep descending from the root until you leave the tree\n",
    "  * If $k\\le{}$value at the current node, go left\n",
    "  * If $k>{}$value at the current node, go right\n",
    "* Create a new node containing $k$ there\n",
    "\n",
    "<br>\n",
    "<br>\n",
    "<div align=\"center\">\n",
    "    <b>[see examples on the board]</b>\n",
    "</div>"
   ]
  },
  {
   "cell_type": "markdown",
   "id": "811c58e5",
   "metadata": {
    "slideshow": {
     "slide_type": "subslide"
    }
   },
   "source": [
    "## Basic operations: delete a node\n",
    "\n",
    "How can we do this?"
   ]
  },
  {
   "cell_type": "markdown",
   "id": "d2d8f506",
   "metadata": {
    "slideshow": {
     "slide_type": "fragment"
    }
   },
   "source": [
    "* More complicated: need to find a replacement\n",
    "* If the node is a leaf: nothing to do\n",
    "* If only one child: move the child up\n",
    "* Otherwise:\n",
    "  * find the **rightmost** descendant in the **left** subtree\n",
    "  * it will have at most one child\n",
    "\n",
    "<br>\n",
    "<br>\n",
    "<div align=\"center\">\n",
    "    <b>[see examples on the board]</b>\n",
    "</div>"
   ]
  },
  {
   "cell_type": "markdown",
   "id": "d6299556",
   "metadata": {
    "cell_style": "center",
    "slideshow": {
     "slide_type": "slide"
    }
   },
   "source": [
    "## Cost of these operations?"
   ]
  },
  {
   "cell_type": "markdown",
   "id": "038d2c0b",
   "metadata": {
    "slideshow": {
     "slide_type": "fragment"
    }
   },
   "source": [
    "<div align=\"center\">\n",
    "    <b>$O($depth of the tree$)$</b>"
   ]
  },
  {
   "cell_type": "markdown",
   "id": "d156abb0",
   "metadata": {
    "slideshow": {
     "slide_type": "fragment"
    }
   },
   "source": [
    "**Bad news:** the depth can be made proportional to $n$, the number of nodes"
   ]
  },
  {
   "cell_type": "markdown",
   "id": "37dfb2dd",
   "metadata": {
    "slideshow": {
     "slide_type": "fragment"
    }
   },
   "source": [
    "**Good news:** smart ways to make the depth $O(\\log n)$"
   ]
  },
  {
   "cell_type": "markdown",
   "id": "040c2f32",
   "metadata": {
    "cell_style": "center",
    "slideshow": {
     "slide_type": "subslide"
    }
   },
   "source": [
    "## Balanced binary search trees\n",
    "\n",
    "There are smart ways to rebalance the tree!\n",
    "\n",
    "* Depth: $O(\\log n)$"
   ]
  },
  {
   "cell_type": "markdown",
   "id": "de168385",
   "metadata": {
    "cell_style": "center",
    "slideshow": {
     "slide_type": ""
    }
   },
   "source": [
    "* Usually additional information has to be kept at each node"
   ]
  },
  {
   "cell_type": "markdown",
   "id": "16e3908f",
   "metadata": {
    "cell_style": "center",
    "slideshow": {
     "slide_type": ""
    }
   },
   "source": [
    "* Popular examples:\n",
    "  * Red–black trees\n",
    "  * AVL trees\n",
    "  * BTrees (Used in Rust)\n",
    "  * ...\n",
    "  \n",
    "  Fundamentally they all support rebalancing operations using some form of tree rotation."
   ]
  },
  {
   "cell_type": "markdown",
   "id": "0640db2f",
   "metadata": {
    "slideshow": {
     "slide_type": "slide"
    }
   },
   "source": [
    "## Why use binary search trees?\n",
    "\n",
    "* Hash maps and hash sets give us $O(1)$ time operations?"
   ]
  },
  {
   "cell_type": "markdown",
   "id": "4f0a9a8a",
   "metadata": {
    "slideshow": {
     "slide_type": "fragment"
    }
   },
   "source": [
    "### Reason 1: \n",
    "\n",
    "* Good worst case behavior: no need for a good hash function"
   ]
  },
  {
   "cell_type": "markdown",
   "id": "f10c8ac7",
   "metadata": {
    "slideshow": {
     "slide_type": "fragment"
    }
   },
   "source": [
    "### Reason 2:\n",
    "* Can answer efficiently questions such as:\n",
    "  * What is the smallest/greatest element?\n",
    "  * What is the smallest element greater than $x$?\n",
    "  * List all elements between $x$ and $y$\n",
    "  "
   ]
  },
  {
   "cell_type": "markdown",
   "id": "f7ae1460",
   "metadata": {
    "slideshow": {
     "slide_type": "slide"
    }
   },
   "source": [
    "## Example: find the smallest element greater than $x$"
   ]
  },
  {
   "cell_type": "markdown",
   "id": "f781cf7b",
   "metadata": {
    "slideshow": {
     "slide_type": "fragment"
    }
   },
   "source": [
    "**Question:** How can you list all elements in order in $O(n)$ time?"
   ]
  },
  {
   "cell_type": "markdown",
   "id": "fedfbdc9",
   "metadata": {
    "slideshow": {
     "slide_type": "fragment"
    }
   },
   "source": [
    "**Answer:** recursively starting from the root\n",
    "\n",
    "* visit left subtree\n",
    "* output current node\n",
    "* visit right subtree"
   ]
  },
  {
   "cell_type": "markdown",
   "id": "6d8e5073",
   "metadata": {
    "slideshow": {
     "slide_type": "fragment"
    }
   },
   "source": [
    "**Outputting smallest element greater than $x$:**\n",
    "\n",
    "* Like above, ignoring whole subtrees smaller than $x$\n",
    "* Will get the first element greater than $x$ in $O(\\log n)$ time"
   ]
  },
  {
   "cell_type": "markdown",
   "id": "27c2c0fc",
   "metadata": {
    "slideshow": {
     "slide_type": "fragment"
    }
   },
   "source": [
    "For balanced trees: listing $t$ first greater elements takes $O(t + \\log n)$ time"
   ]
  },
  {
   "cell_type": "markdown",
   "id": "d9ea862c",
   "metadata": {
    "slideshow": {
     "slide_type": "slide"
    }
   },
   "source": [
    "## Binary search trees in Rust's standard library?\n",
    "\n",
    "* Not exactly\n",
    "\n",
    "* For efficiency reasons, $B$-trees:\n",
    "  * generalization of binary trees\n",
    "  * between $B$ and $2B$ keys in a node\n",
    "  * corresponding number of subtrees"
   ]
  },
  {
   "cell_type": "markdown",
   "id": "30ae6519",
   "metadata": {
    "slideshow": {
     "slide_type": "fragment"
    }
   },
   "source": [
    "Where can you meet $B$-trees\n",
    "* Traditionally, very popular in databases\n",
    "* Interesting that now considered more efficient for in memory operations"
   ]
  },
  {
   "cell_type": "markdown",
   "id": "d3e3d329",
   "metadata": {
    "slideshow": {
     "slide_type": "slide"
    }
   },
   "source": [
    "## `std::collections::BTreeSet` and `...::BTreeMap`\n",
    "\n",
    "Sets and maps, respectively"
   ]
  },
  {
   "cell_type": "code",
   "execution_count": 2,
   "id": "184307a6",
   "metadata": {
    "slideshow": {
     "slide_type": "fragment"
    }
   },
   "outputs": [],
   "source": [
    "// let's create a set\n",
    "use std::collections::BTreeSet;\n",
    "let mut set: BTreeSet<i32> = BTreeSet::new();\n",
    "set.insert(5);\n",
    "set.insert(7);\n",
    "set.insert(11);\n",
    "set.insert(23);\n",
    "set.insert(25);"
   ]
  },
  {
   "cell_type": "code",
   "execution_count": 3,
   "id": "46a43566",
   "metadata": {
    "slideshow": {
     "slide_type": "fragment"
    }
   },
   "outputs": [
    {
     "name": "stdout",
     "output_type": "stream",
     "text": [
      "7\n",
      "11\n",
      "23\n"
     ]
    }
   ],
   "source": [
    "// listing a range\n",
    "set.range(7..24).for_each(|x| println!(\"{}\", x));"
   ]
  },
  {
   "cell_type": "code",
   "execution_count": 4,
   "id": "71d9b9d6",
   "metadata": {
    "slideshow": {
     "slide_type": "fragment"
    }
   },
   "outputs": [
    {
     "name": "stdout",
     "output_type": "stream",
     "text": [
      "7\n",
      "11\n"
     ]
    }
   ],
   "source": [
    "// listing a range: another way of specifying it\n",
    "use std::ops::Bound::{Included,Excluded};\n",
    "set.range((Excluded(5),Included(11))).for_each(|x| println!(\"{}\", x));"
   ]
  },
  {
   "attachments": {
    "Trie_example.svg.png": {
     "image/png": "[encoded data removed]"
    }
   },
   "cell_type": "markdown",
   "id": "b9d7a004",
   "metadata": {},
   "source": [
    "# Trie\n",
    "\n",
    "A very efficient data structure for dictionary search, word suggestions, error corrections etc.\n",
    "\n",
    "![Trie_example.svg.png](attachment:Trie_example.svg.png)\n",
    "\n",
    "Available in Rust as an external create https://docs.rs/trie-rs/latest/trie_rs/\n"
   ]
  },
  {
   "cell_type": "code",
   "execution_count": 12,
   "id": "08a4e837",
   "metadata": {},
   "outputs": [
    {
     "name": "stdout",
     "output_type": "stream",
     "text": [
      "[\"tea\", \"teapot\", \"ted\", \"ten\"]\n"
     ]
    }
   ],
   "source": [
    ":dep trie-rs=\"0.1.1\"\n",
    "fn testme() {\n",
    "    use std::str;\n",
    "    use trie_rs::TrieBuilder;\n",
    "    let mut builder = TrieBuilder::new();  // Inferred `TrieBuilder<u8>` automatically\n",
    "\n",
    "    builder.push(\"to\");\n",
    "    builder.push(\"tea\");\n",
    "    builder.push(\"ted\");\n",
    "    builder.push(\"ten\");\n",
    "    builder.push(\"teapot\");\n",
    "    builder.push(\"in\");\n",
    "    builder.push(\"inn\");\n",
    "    let trie = builder.build();\n",
    "    let results_in_u8s: Vec<Vec<u8>> = trie.predictive_search(\"te\");\n",
    "    let results_in_str: Vec<&str> = results_in_u8s\n",
    "        .iter()\n",
    "        .map(|u8s| str::from_utf8(u8s).unwrap())\n",
    "        .collect();\n",
    "    println!(\"{:?}\", results_in_str);\n",
    "}\n",
    "\n",
    "testme();\n"
   ]
  },
  {
   "cell_type": "markdown",
   "id": "955fca7c",
   "metadata": {},
   "source": [
    "### Most likely your spellchecker is based on a trie\n",
    "\n",
    "* If your word is not in the trie do the following:\n",
    "  * Step 1: Find the largest prefix that is present and find the trie words with that prefix\n",
    "  * Step 2: Delete the first letter from your word and redo Step 1\n",
    "  * Step 3: Insert a letter (for all letters) to the beginning of the word and redo Step 1\n",
    "  * Step 4: Replace the beginning letter with a different one (for all letters) and redo Step 1\n",
    "  * Step 5: Transpose the first two letters and redo Step 1\n",
    "  * Step 6: Collect all words from Steps 1-5 sort by frequency of occurrence and present t"
   ]
  }
 ],
 "metadata": {
  "celltoolbar": "Slideshow",
  "kernelspec": {
   "display_name": "Rust",
   "language": "rust",
   "name": "rust"
  },
  "language_info": {
   "codemirror_mode": "rust",
   "file_extension": ".rs",
   "mimetype": "text/rust",
   "name": "Rust",
   "pygment_lexer": "rust",
   "version": ""
  },
  "rise": {
   "theme": "beige",
   "transition": "fade"
  }
 },
 "nbformat": 4,
 "nbformat_minor": 5
}
