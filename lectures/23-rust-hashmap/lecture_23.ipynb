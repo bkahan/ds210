{
 "cells": [
  {
   "cell_type": "markdown",
   "id": "cf7f87e3",
   "metadata": {
    "slideshow": {
     "slide_type": "slide"
    }
   },
   "source": [
    "<div align=\"center\">\n",
    "    <h1>DS-210: Programming for Data Science</h1>\n",
    "    <h1>Lecture 23</h1>\n",
    "</div>\n",
    "\n",
    "# 1. Memory management in vectors\n",
    "# 2. Hash maps"
   ]
  },
  {
   "cell_type": "markdown",
   "id": "d0640bf3",
   "metadata": {
    "slideshow": {
     "slide_type": "slide"
    }
   },
   "source": [
    "# <font color=\"red\">1. Memory management in vectors</font>\n",
    "# 2. Hash maps"
   ]
  },
  {
   "cell_type": "markdown",
   "id": "e2e6e1d9",
   "metadata": {
    "slideshow": {
     "slide_type": "slide"
    }
   },
   "source": [
    "## Last time: vectors `Vec<T>`"
   ]
  },
  {
   "cell_type": "markdown",
   "id": "b9db5267",
   "metadata": {
    "cell_style": "split",
    "slideshow": {
     "slide_type": "fragment"
    }
   },
   "source": [
    "* Dynamic-length array/list \n",
    "* Allowed operations:\n",
    "  * access item at specific location\n",
    "  * `push`: add something to the end\n",
    "  * `pop`: remove an element from the end\n",
    "\n"
   ]
  },
  {
   "cell_type": "markdown",
   "id": "a4b11a56",
   "metadata": {
    "cell_style": "split"
   },
   "source": [
    "* Python: list\n",
    "* C++: `vector<T>`\n",
    "* Java: `ArrayList<T>` / `Vector<T>`\n"
   ]
  },
  {
   "cell_type": "markdown",
   "id": "59a81a07",
   "metadata": {
    "slideshow": {
     "slide_type": "fragment"
    }
   },
   "source": [
    "<div align=\"center\">\n",
    "    <h3>How to implement this efficiently?</h3>\n",
    "</div>"
   ]
  },
  {
   "cell_type": "markdown",
   "id": "b02141e1",
   "metadata": {
    "slideshow": {
     "slide_type": "subslide"
    }
   },
   "source": [
    "## Select implementation details"
   ]
  },
  {
   "cell_type": "markdown",
   "id": "e62b9d95",
   "metadata": {
    "cell_style": "split",
    "slideshow": {
     "slide_type": "-"
    }
   },
   "source": [
    "### Challenges\n",
    "\n",
    "* Size changes: allocate on the heap?\n",
    "* What to do if a new element added?\n",
    "  * Allocate a larger array and copy everything? \n",
    "  * Linked list?"
   ]
  },
  {
   "cell_type": "markdown",
   "id": "a85ae811",
   "metadata": {
    "cell_style": "split",
    "slideshow": {
     "slide_type": "fragment"
    }
   },
   "source": [
    "### Solution\n",
    "\n",
    "* Allocate more space than needed!\n",
    "* When out of space:\n",
    "  * Increase storage size by, say, 100%\n",
    "  * Copy everything"
   ]
  },
  {
   "cell_type": "markdown",
   "id": "fe39171b",
   "metadata": {
    "cell_style": "split",
    "slideshow": {
     "slide_type": "fragment"
    }
   },
   "source": [
    "### Under the hood\n",
    "Variable of type `Vec<T>` contains:\n",
    "* pointer to allocated memory\n",
    "* size: the current number of items\n",
    "* capacity: how many items could currently fit\n",
    "\n",
    "**Important:** size${}\\le{}$capacity"
   ]
  },
  {
   "cell_type": "markdown",
   "id": "531bcded",
   "metadata": {
    "slideshow": {
     "slide_type": "subslide"
    }
   },
   "source": [
    "## Example\n",
    "\n",
    "Method `capacity()` reports the current storage size"
   ]
  },
  {
   "cell_type": "code",
   "execution_count": 13,
   "id": "5bf1c7fe",
   "metadata": {},
   "outputs": [],
   "source": [
    "// print out the current size and capacity\n",
    "fn info<T>(vector:&Vec<T>) {\n",
    "    println!(\"size = {}, capacity = {}\",vector.len(),vector.capacity());\n",
    "}"
   ]
  },
  {
   "cell_type": "code",
   "execution_count": 14,
   "id": "0f4dfa75",
   "metadata": {
    "cell_style": "split",
    "slideshow": {
     "slide_type": "fragment"
    }
   },
   "outputs": [
    {
     "name": "stdout",
     "output_type": "stream",
     "text": [
      "size = 0, capacity = 7\n",
      "size = 8, capacity = 14\n",
      "size = 15, capacity = 28\n",
      "size = 29, capacity = 56\n",
      "size = 57, capacity = 112\n",
      "size = 113, capacity = 224\n",
      "size = 225, capacity = 448\n",
      "size = 449, capacity = 896\n",
      "size = 897, capacity = 1792\n"
     ]
    }
   ],
   "source": [
    "let mut v = Vec::with_capacity(7);\n",
    "let mut capacity = v.capacity();\n",
    "info(&v);\n",
    "for i in 1..=1000 {\n",
    "    v.push(i);\n",
    "    if v.capacity() != capacity {\n",
    "        capacity = v.capacity();\n",
    "        info(&v);\n",
    "    }\n",
    "};"
   ]
  },
  {
   "cell_type": "code",
   "execution_count": 15,
   "id": "04340b9e",
   "metadata": {
    "cell_style": "split",
    "slideshow": {
     "slide_type": "fragment"
    }
   },
   "outputs": [
    {
     "name": "stdout",
     "output_type": "stream",
     "text": [
      "size = 1000, capacity = 1792\n",
      "size = 0, capacity = 1792\n"
     ]
    }
   ],
   "source": [
    "info(&v);\n",
    "while let Some(_) = v.pop() {}\n",
    "info(&v);"
   ]
  },
  {
   "cell_type": "markdown",
   "id": "46fb855b",
   "metadata": {
    "slideshow": {
     "slide_type": "subslide"
    }
   },
   "source": [
    "## Example (continued)"
   ]
  },
  {
   "cell_type": "code",
   "execution_count": 17,
   "id": "1794e7ff",
   "metadata": {
    "cell_style": "split"
   },
   "outputs": [
    {
     "name": "stdout",
     "output_type": "stream",
     "text": [
      "size = 0, capacity = 1792\n",
      "size = 13, capacity = 1792\n",
      "size = 13, capacity = 13\n"
     ]
    }
   ],
   "source": [
    "// shrinking the size manually\n",
    "info(&v);\n",
    "\n",
    "for i in 1..=13 {\n",
    "    v.push(i);\n",
    "}\n",
    "\n",
    "info(&v);\n",
    "\n",
    "v.shrink_to_fit();\n",
    "\n",
    "info(&v);\n",
    "// note: size and capacity not guaranteed\n",
    "//       to be the same"
   ]
  },
  {
   "cell_type": "code",
   "execution_count": 18,
   "id": "1917a3eb",
   "metadata": {
    "cell_style": "split",
    "slideshow": {
     "slide_type": "fragment"
    }
   },
   "outputs": [
    {
     "name": "stdout",
     "output_type": "stream",
     "text": [
      "size = 0, capacity = 1234\n"
     ]
    }
   ],
   "source": [
    "// creating vector with specific capacity\n",
    "let mut v2 : Vec<i32> = Vec::with_capacity(1234);\n",
    "info(&v2);\n",
    "\n",
    "// avoids reallocation if you know how many items\n",
    "// to expect"
   ]
  },
  {
   "cell_type": "code",
   "execution_count": 19,
   "id": "7320830d",
   "metadata": {},
   "outputs": [
    {
     "name": "stdout",
     "output_type": "stream",
     "text": [
      "Some(2) [1, 2, 3, 4, 5, 6, 7, 8, 9, 10, 11, 12, 13]\n",
      "Some(13) [1, 2, 3, 4, 5, 6, 7, 8, 9, 10, 11, 12]\n"
     ]
    }
   ],
   "source": [
    "// Does not remove from the vector\n",
    "println!(\"{:?} {:?}\", v.get(1), v);\n",
    "// But this one does\n",
    "println!(\"{:?} {:?}\", v.pop(), v);"
   ]
  },
  {
   "cell_type": "markdown",
   "id": "207a3fd6",
   "metadata": {},
   "source": [
    "### Some other useful functions\n",
    "* `append` Add vector at the end of another `vec.append(&mut vec2)\n",
    "* `clear` Remove all elements from the vector `vec.clear`\n",
    "* `dedup` Remove consecutive identical elements `vec.dedup()`\n",
    "* `drain` Remove a slice from the vector `vec.drain(2..4)`\n",
    "* `remove` Remove an element from the vector `vec.remove(2)`\n",
    "* `sort` Sort the elements of a mutable vector `vec.sort()`\n",
    "* Complete list at https://doc.rust-lang.org/std/vec/struct.Vec.html"
   ]
  },
  {
   "cell_type": "markdown",
   "id": "22407d65",
   "metadata": {
    "slideshow": {
     "slide_type": "slide"
    }
   },
   "source": [
    "## Sketch of analysis: Amortization"
   ]
  },
  {
   "cell_type": "markdown",
   "id": "c9a812a5",
   "metadata": {
    "cell_style": "center"
   },
   "source": [
    "* Inserting an element not constant time, $O(1)$"
   ]
  },
  {
   "cell_type": "markdown",
   "id": "52376d90",
   "metadata": {
    "cell_style": "split",
    "slideshow": {
     "slide_type": "fragment"
    }
   },
   "source": [
    "### However\n",
    "* **Assumption:** allocating memory size $t$ takes $O(t)$ or $O(1)$ time\n",
    "\n",
    "\n",
    "* **Slow operations:** <font color=\"red\">$O($current_size$)$ time</font>\n",
    "* **Fast operations:** <font color=\"green\">$O(1)$ time</font>\n",
    "\n",
    "\n",
    "* Slow operation every $\\Omega($current_size$)$ fast operations"
   ]
  },
  {
   "cell_type": "markdown",
   "id": "86f92d32",
   "metadata": {
    "cell_style": "split",
    "slideshow": {
     "slide_type": "fragment"
    }
   },
   "source": [
    "* **On average:** $O(1)$ time\n",
    "* Fast operations pay for slow operations\n",
    "\n",
    "\n",
    "* **Terminology:** $O(1)$ *amortized* time\n"
   ]
  },
  {
   "cell_type": "markdown",
   "id": "2940fa13",
   "metadata": {
    "cell_style": "split",
    "slideshow": {
     "slide_type": "fragment"
    }
   },
   "source": [
    "### Shrinking?\n",
    "\n",
    "* Can be implemented this way too\n",
    "* Example: shrink by 50% if less than 25% used\n",
    "* Most implementations don't shrink automatically"
   ]
  },
  {
   "cell_type": "markdown",
   "id": "4b091cf6",
   "metadata": {},
   "source": [
    "## Digression (Sorting Vectors in Rust)"
   ]
  },
  {
   "cell_type": "code",
   "execution_count": 26,
   "id": "af9d17a0",
   "metadata": {},
   "outputs": [
    {
     "name": "stdout",
     "output_type": "stream",
     "text": [
      "[1, 3, 4, 5, 6, 8, 12]\n"
     ]
    }
   ],
   "source": [
    "// This works great\n",
    "let mut a = vec![1, 4, 3, 6, 8, 12, 5];\n",
    "a.sort();\n",
    "println!(\"{:?}\", a);"
   ]
  },
  {
   "cell_type": "code",
   "execution_count": 27,
   "id": "5d50b4a9",
   "metadata": {},
   "outputs": [
    {
     "ename": "Error",
     "evalue": "the trait bound `{float}: Ord` is not satisfied",
     "output_type": "error",
     "traceback": [
      "a.sort();",
      "\u001b[91m  ^^^^\u001b[0m \u001b[94mthe trait `Ord` is not implemented for `{float}`\u001b[0m",
      "the trait bound `{float}: Ord` is not satisfied",
      "\u001b[1mhelp\u001b[0m: the following other types implement trait `Ord`:\n  i128\n  i16\n  i32\n  i64\n  i8\n  isize\n  u128\n  u16\nand 4 others"
     ]
    }
   ],
   "source": [
    "// But the compiler does not like this one, since sort depends on total order\n",
    "let mut a = vec![1.0, 4.0, 3.0, 6.0, 8.0, 12.0, 5.0];\n",
    "a.sort();\n",
    "println!(\"{:?}\", a);"
   ]
  },
  {
   "cell_type": "code",
   "execution_count": 28,
   "id": "0bd0e5db",
   "metadata": {},
   "outputs": [
    {
     "name": "stdout",
     "output_type": "stream",
     "text": [
      "[1.0, 3.0, 4.0, 5.0, 6.0, 8.0, 12.0]\n"
     ]
    }
   ],
   "source": [
    "// This is ok since we don't use sort, sort_by depends on the function you pass in to compute order\n",
    "let mut a = vec![1.0, 4.0, 3.0, 6.0, 8.0, 12.0, 5.0];\n",
    "a.sort_by(|x, y| x.partial_cmp(y).unwrap());\n",
    "println!(\"{:?}\", a);"
   ]
  },
  {
   "cell_type": "code",
   "execution_count": 29,
   "id": "f2c36498",
   "metadata": {},
   "outputs": [
    {
     "name": "stderr",
     "output_type": "stream",
     "text": [
      "thread '<unnamed>' panicked at 'called `Option::unwrap()` on a `None` value', src/lib.rs:125:35\n",
      "stack backtrace:\n",
      "   0: _rust_begin_unwind\n",
      "   1: core::panicking::panic_fmt\n",
      "   2: core::panicking::panic\n",
      "   3: alloc::slice::insert_head\n",
      "   4: alloc::slice::merge_sort\n",
      "   5: _run_user_code_20\n"
     ]
    },
    {
     "name": "stdout",
     "output_type": "stream",
     "text": [
      "[1.0, 4.0, 3.0, 6.0, 8.0, 12.0, 5.0, NaN]\n"
     ]
    },
    {
     "name": "stderr",
     "output_type": "stream",
     "text": [
      "   6: evcxr::runtime::Runtime::run_loop\n",
      "   7: evcxr::runtime::runtime_hook\n",
      "   8: evcxr_jupyter::main\n",
      "note: Some details are omitted, run with `RUST_BACKTRACE=full` for a verbose backtrace.\n"
     ]
    },
    {
     "ename": "Error",
     "evalue": "Subprocess terminated with status: exit status: 101",
     "output_type": "error",
     "traceback": [
      "Subprocess terminated with status: exit status: 101"
     ]
    }
   ],
   "source": [
    "// When partial order is not well defined in the inputs you get a panic\n",
    "let mut a = vec![1.0, 4.0, 3.0, 6.0, 8.0, 12.0, 5.0];\n",
    "let mut x: f64 = -1.0;\n",
    "x = x.sqrt();\n",
    "a.push(x);\n",
    "println!(\"{:?}\", a);\n",
    "a.sort_by(|x, y| x.partial_cmp(y).unwrap());\n",
    "println!(\"{:?}\", a);"
   ]
  },
  {
   "cell_type": "markdown",
   "id": "edbad350",
   "metadata": {
    "slideshow": {
     "slide_type": "slide"
    }
   },
   "source": [
    "# 1. Memory management in vectors\n",
    "# <font color=\"red\">2. Hash maps</font>"
   ]
  },
  {
   "cell_type": "markdown",
   "id": "8cc88be9",
   "metadata": {
    "slideshow": {
     "slide_type": "slide"
    }
   },
   "source": [
    "## Collection `HashMap<K,V>`\n",
    "\n",
    "**Goal:** a mapping from elements of `K` to elements of `V`\n",
    "\n",
    "* elements of `K` called *keys*\n",
    "\n",
    "* elements of `V` called *values*\n",
    "\n",
    "\n",
    "* Python: dictionaries\n",
    "* C++: `unordered_map<K,V>`\n",
    "* Java: `Hashtable<K,T>`\n"
   ]
  },
  {
   "cell_type": "code",
   "execution_count": 3,
   "id": "379541b5",
   "metadata": {
    "slideshow": {
     "slide_type": "fragment"
    }
   },
   "outputs": [],
   "source": [
    "// creating a hash map and inserting pair\n",
    "\n",
    "use std::collections::HashMap;\n",
    "\n",
    "// number of wins in a local Conterstrike league\n",
    "let mut wins = HashMap::<String,u16>::new();\n",
    "\n",
    "wins.insert(String::from(\"Boston University\"),24);\n",
    "wins.insert(String::from(\"Harvard\"),22);\n",
    "wins.insert(String::from(\"Boston College\"),20);\n",
    "wins.insert(String::from(\"Northeastern\"),32);"
   ]
  },
  {
   "cell_type": "markdown",
   "id": "d7b29840",
   "metadata": {
    "slideshow": {
     "slide_type": "fragment"
    }
   },
   "source": [
    "Extracting a reference: returns `Option<&V>`"
   ]
  },
  {
   "cell_type": "code",
   "execution_count": 4,
   "id": "c3225187",
   "metadata": {
    "cell_style": "split",
    "slideshow": {
     "slide_type": "-"
    }
   },
   "outputs": [
    {
     "data": {
      "text/plain": [
       "Some(24)"
      ]
     },
     "execution_count": 4,
     "metadata": {},
     "output_type": "execute_result"
    }
   ],
   "source": [
    "wins.get(\"Boston University\")"
   ]
  },
  {
   "cell_type": "code",
   "execution_count": 5,
   "id": "b80f47ce",
   "metadata": {
    "cell_style": "split",
    "slideshow": {
     "slide_type": "fragment"
    }
   },
   "outputs": [
    {
     "data": {
      "text/plain": [
       "None"
      ]
     },
     "execution_count": 5,
     "metadata": {},
     "output_type": "execute_result"
    }
   ],
   "source": [
    "wins.get(\"MIT\")"
   ]
  },
  {
   "cell_type": "markdown",
   "id": "2cb31486",
   "metadata": {
    "slideshow": {
     "slide_type": "subslide"
    }
   },
   "source": [
    "Insert if not present:"
   ]
  },
  {
   "cell_type": "code",
   "execution_count": 6,
   "id": "41b8752c",
   "metadata": {},
   "outputs": [
    {
     "data": {
      "text/plain": [
       "Some(10)"
      ]
     },
     "execution_count": 6,
     "metadata": {},
     "output_type": "execute_result"
    }
   ],
   "source": [
    "wins.entry(String::from(\"MIT\")).or_insert(10);\n",
    "wins.get(\"MIT\")"
   ]
  },
  {
   "cell_type": "markdown",
   "id": "ef25b9f5",
   "metadata": {
    "slideshow": {
     "slide_type": "fragment"
    }
   },
   "source": [
    "Updating:"
   ]
  },
  {
   "cell_type": "code",
   "execution_count": 7,
   "id": "3d8911fa",
   "metadata": {},
   "outputs": [
    {
     "data": {
      "text/plain": [
       "Some(24)"
      ]
     },
     "execution_count": 7,
     "metadata": {},
     "output_type": "execute_result"
    }
   ],
   "source": [
    "{ // block to limit how long the reference lasts\n",
    "    let entry = wins.entry(String::from(\"Boston University\")).or_insert(10);\n",
    "    *entry = 50;\n",
    "}\n",
    "wins.insert(String::from(\"Boston University\"),24);\n",
    "wins.get(\"Boston University\")"
   ]
  },
  {
   "cell_type": "markdown",
   "id": "5cfb593e",
   "metadata": {
    "slideshow": {
     "slide_type": "subslide"
    }
   },
   "source": [
    "## Iterating"
   ]
  },
  {
   "cell_type": "code",
   "execution_count": 8,
   "id": "48b1431b",
   "metadata": {
    "slideshow": {
     "slide_type": "-"
    }
   },
   "outputs": [
    {
     "name": "stdout",
     "output_type": "stream",
     "text": [
      "Northeastern: 32\n",
      "Boston College: 20\n",
      "MIT: 10\n",
      "Boston University: 24\n",
      "Harvard: 22\n",
      "Iter Northeastern: 32\n",
      "Iter Boston College: 20\n",
      "Iter MIT: 10\n",
      "Iter Boston University: 24\n",
      "Iter Harvard: 22\n"
     ]
    }
   ],
   "source": [
    "for (k,v) in &wins {\n",
    "    println!(\"{}: {}\",k,v);\n",
    "};\n",
    "\n",
    "for (k,v) in wins.iter() {\n",
    "    println!(\"Iter {}: {}\",k,v);\n",
    "};\n"
   ]
  },
  {
   "cell_type": "code",
   "execution_count": 9,
   "id": "41dcdf21",
   "metadata": {
    "slideshow": {
     "slide_type": "fragment"
    }
   },
   "outputs": [
    {
     "name": "stdout",
     "output_type": "stream",
     "text": [
      "Northeastern: 33\n",
      "Boston College: 21\n",
      "MIT: 11\n",
      "Boston University: 25\n",
      "Harvard: 23\n",
      "Mut iterNortheastern: 34\n",
      "Mut iterBoston College: 22\n",
      "Mut iterMIT: 12\n",
      "Mut iterBoston University: 26\n",
      "Mut iterHarvard: 24\n"
     ]
    }
   ],
   "source": [
    "for (k,v) in &mut wins {\n",
    "    *v += 1;\n",
    "};\n",
    "\n",
    "for (k,v) in &wins {\n",
    "    println!(\"{}: {}\",k,v);\n",
    "};\n",
    "\n",
    "for (k,v) in wins.iter_mut() {\n",
    "    *v += 1;\n",
    "};\n",
    "\n",
    "for (k,v) in wins.iter() {\n",
    "    println!(\"Mut iter {}: {}\",k,v);\n",
    "};\n",
    "\n"
   ]
  },
  {
   "cell_type": "markdown",
   "id": "e0344b24",
   "metadata": {},
   "source": [
    "### Using HashMaps with Match statements"
   ]
  },
  {
   "cell_type": "code",
   "execution_count": 10,
   "id": "ddc4baef",
   "metadata": {},
   "outputs": [
    {
     "name": "stdout",
     "output_type": "stream",
     "text": [
      "Four Mashroom Crêpe: not on the menu\n",
      "Three Mashroom Crêpe: $8.90\n"
     ]
    }
   ],
   "source": [
    "use std::collections::HashMap;\n",
    "\n",
    "let mut crispy_crêpes_café = HashMap::new();\n",
    "crispy_crêpes_café.insert(String::from(\"Nutella Crêpe\"),5.85);\n",
    "crispy_crêpes_café.insert(String::from(\"Strawberries and Nutella Crêpe\"),8.75);\n",
    "crispy_crêpes_café.insert(String::from(\"Roma Tomato, Pesto and Spinach Crêpe\"),8.90);\n",
    "crispy_crêpes_café.insert(String::from(\"Three Mashroom Crêpe\"),8.90);\n",
    "\n",
    "fn on_the_menu(cafe: &HashMap<String,f64>, s:String) {\n",
    "    print!(\"{}: \",s);\n",
    "    match cafe.get(&s) {\n",
    "        None => println!(\"not on the menu\"),\n",
    "        Some(price) => println!(\"${:.2}\",price),\n",
    "    }\n",
    "}\n",
    "on_the_menu(&crispy_crêpes_café, String::from(\"Four Mashroom Crêpe\"));\n",
    "on_the_menu(&crispy_crêpes_café, String::from(\"Three Mashroom Crêpe\"));\n",
    "\n"
   ]
  },
  {
   "cell_type": "markdown",
   "id": "675a69ea",
   "metadata": {},
   "source": [
    "## Storage\n",
    "\n",
    "* Array representing $B$ buckets\n",
    "* *Hash function* $h: K \\rightarrow \\{0,1,\\ldots,B-1\\}$\n",
    "  * maps keys in the collection to buckets\n",
    "\n",
    "### General ideas\n",
    "  * Store keys (and associated values) in buckets\n",
    "  * Searching: go over the entire bucket\n",
    "\n",
    "### Collision: two keys mapped to the same bucket  \n",
    "  * Make hash function $h$ very random $\\Rightarrow$ few collisions\n",
    "  * What to do if two keys in the same bucket\n",
    "\n"
   ]
  },
  {
   "cell_type": "markdown",
   "id": "152b5955",
   "metadata": {},
   "source": [
    "## Handling collisions\n",
    "\n",
    "### Chaining\n",
    "\n",
    "* Keep collection for items in the same bucket\n",
    "  * (traditional:) linked list\n",
    "  * vector\n",
    "* Search through the collection to find key\n",
    "<br><br><br>"
   ]
  },
  {
   "cell_type": "markdown",
   "id": "670d46e4",
   "metadata": {},
   "source": [
    "### Open addressing (simplest version)\n",
    "\n",
    "* Each array entry: $($key$,$value$)$\n",
    "\n",
    "**Inserting:**\n",
    "  * entry $h(k)$ busy: try $h(k) + 1$, $h(k) + 2$, etc. \n",
    "  * insert into first empty\n",
    "\n",
    "\n",
    "**Searching:**\n",
    "  * try $h(k)$, $h(k) + 1$, $h(k)+2$, etc.\n",
    "  * stop when found or empty entry"
   ]
  },
  {
   "cell_type": "markdown",
   "id": "d2bc9f04",
   "metadata": {
    "cell_style": "split"
   },
   "source": [
    "## Growing collection: amortization\n",
    "\n",
    "Example: if number of keys${}\\ge 0.75 B$\n",
    "* Double $B$\n",
    "* Pick new hash function\n",
    "* Move the information"
   ]
  },
  {
   "cell_type": "markdown",
   "id": "55e866c2",
   "metadata": {
    "cell_style": "split"
   },
   "source": [
    "## Adversarial data\n",
    "\n",
    "* Could create lots of collisions\n",
    "\n",
    "* Potential basis for *denial of service attacks*"
   ]
  },
  {
   "cell_type": "markdown",
   "id": "ab9f8702",
   "metadata": {},
   "source": [
    "### What makes a good hash function?\n",
    "\n",
    "* Uniform distribution of inputs to the buckets available!!!\n",
    "* Consistent hashing adds the property that not too many things move around when the number of buckets changes\n",
    "\n",
    "http://www.partow.net/programming/hashfunctions/index.html  \n",
    "https://en.wikipedia.org/wiki/Consistent_hashing"
   ]
  },
  {
   "cell_type": "markdown",
   "id": "96bea5fc",
   "metadata": {
    "slideshow": {
     "slide_type": "subslide"
    }
   },
   "source": [
    "## Next time\n",
    "\n",
    "* Typical graph representations"
   ]
  },
  {
   "cell_type": "markdown",
   "id": "698a3c73",
   "metadata": {},
   "source": [
    "## Read sections 8.1 and 8.3 from the Rust Book."
   ]
  },
  {
   "cell_type": "code",
   "execution_count": null,
   "id": "9cdf2628",
   "metadata": {},
   "outputs": [],
   "source": []
  }
 ],
 "metadata": {
  "celltoolbar": "Slideshow",
  "kernelspec": {
   "display_name": "Rust",
   "language": "rust",
   "name": "rust"
  },
  "language_info": {
   "codemirror_mode": "rust",
   "file_extension": ".rs",
   "mimetype": "text/rust",
   "name": "Rust",
   "pygment_lexer": "rust",
   "version": ""
  },
  "rise": {
   "theme": "beige",
   "transition": "fade"
  }
 },
 "nbformat": 4,
 "nbformat_minor": 5
}
