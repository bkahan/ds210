{
 "cells": [
  {
   "cell_type": "markdown",
   "id": "cf7f87e3",
   "metadata": {
    "slideshow": {
     "slide_type": "slide"
    }
   },
   "source": [
    "<div align=\"center\">\n",
    "    <h1>DS-210: Programming for Data Science</h1>\n",
    "    <h1>Lecture 26</h1>\n",
    "</div>\n",
    "\n",
    "# 1. Modules and paths\n",
    "# 2. Importing paths via `use`\n",
    "# 3. Structs inside modules\n",
    "# 2. Separating modules into multiple files\n",
    "# 2. Crates: What are they?\n",
    "# 3. Using external crates: `rand` (random numbers) and `csv` (reading csv)"
   ]
  },
  {
   "cell_type": "markdown",
   "id": "dd52e8e7",
   "metadata": {},
   "source": [
    "<div align=\"center\">\n",
    "<img src=\"namespace_tree.png\" alt=\"[namespace tree]\" width=\"50%\">\n",
    "</div>"
   ]
  },
  {
   "cell_type": "markdown",
   "id": "679c14e9",
   "metadata": {},
   "source": [
    "## Paths to modules"
   ]
  },
  {
   "cell_type": "code",
   "execution_count": 2,
   "id": "7694333c",
   "metadata": {
    "cell_style": "split"
   },
   "outputs": [],
   "source": [
    "pub mod level_1 {\n",
    "\n",
    "    pub mod level_2_1 {\n",
    "        \n",
    "        pub mod level_3 {\n",
    "\n",
    "            pub fn where_am_i() {println!(\"3\");}\n",
    "            \n",
    "            pub fn call_someone_else() {\n",
    "                where_am_i();\n",
    "            }\n",
    "        }\n",
    "\n",
    "        pub fn where_am_i() {println!(\"2_1\");}\n",
    "    }\n",
    "    \n",
    "    pub mod level_2_2 {\n",
    "        \n",
    "        pub fn where_am_i() {println!(\"2_2\");}\n",
    "        \n",
    "    }\n",
    "    \n",
    "    pub fn where_am_i() {println!(\"1\");}\n",
    "    \n",
    "}\n",
    "\n",
    "fn where_am_i() {println!(\"main namespace\");}"
   ]
  },
  {
   "cell_type": "code",
   "execution_count": 3,
   "id": "2d36a2df",
   "metadata": {
    "cell_style": "split"
   },
   "outputs": [
    {
     "name": "stdout",
     "output_type": "stream",
     "text": [
      "3\n"
     ]
    }
   ],
   "source": [
    "level_1::level_2_1::level_3::call_someone_else();"
   ]
  },
  {
   "cell_type": "markdown",
   "id": "ab24432b",
   "metadata": {},
   "source": [
    "## Paths to modules\n",
    "\n",
    "**Global paths:** start from `crate`"
   ]
  },
  {
   "cell_type": "code",
   "execution_count": 4,
   "id": "f8c05b14",
   "metadata": {
    "cell_style": "split"
   },
   "outputs": [],
   "source": [
    "mod level_1 {\n",
    "    pub mod level_2_1 {\n",
    "        pub mod level_3 {\n",
    "            pub fn where_am_i() {println!(\"3\");}\n",
    "            \n",
    "            pub fn call_someone_else() {\n",
    "                crate::where_am_i();\n",
    "                crate::level_1::level_2_2::\n",
    "                    where_am_i();\n",
    "                where_am_i();\n",
    "            }\n",
    "        }\n",
    "        pub fn where_am_i() {println!(\"2_1\");}\n",
    "    }\n",
    "    pub mod level_2_2 {   \n",
    "        pub fn where_am_i() {println!(\"2_2\");}\n",
    "    }\n",
    "    \n",
    "    pub fn where_am_i() {println!(\"1\");}\n",
    "}\n",
    "\n",
    "fn where_am_i() {println!(\"main namespace\");}"
   ]
  },
  {
   "cell_type": "code",
   "execution_count": 5,
   "id": "5f84e5d9",
   "metadata": {
    "cell_style": "split"
   },
   "outputs": [
    {
     "name": "stdout",
     "output_type": "stream",
     "text": [
      "main namespace\n",
      "2_2\n",
      "3\n"
     ]
    }
   ],
   "source": [
    "level_1::level_2_1::level_3::call_someone_else();"
   ]
  },
  {
   "cell_type": "markdown",
   "id": "8de85ba9",
   "metadata": {},
   "source": [
    "## Paths to modules\n",
    "\n",
    "**Local paths:**\n",
    "* going one or many levels up via `super`"
   ]
  },
  {
   "cell_type": "code",
   "execution_count": 6,
   "id": "493af8e0",
   "metadata": {
    "cell_style": "split"
   },
   "outputs": [],
   "source": [
    "mod level_1 {\n",
    "    pub mod level_2_1 {\n",
    "        pub mod level_3 {\n",
    "            pub fn where_am_i() {println!(\"3\");}\n",
    "            \n",
    "            pub fn call_someone_else() {\n",
    "                super::where_am_i();\n",
    "                super::super::where_am_i();\n",
    "                super::super::\n",
    "                    level_2_2::where_am_i();\n",
    "            }\n",
    "        }\n",
    "        pub fn where_am_i() {println!(\"2_1\");}\n",
    "    }\n",
    "    pub mod level_2_2 {   \n",
    "        pub fn where_am_i() {println!(\"2_2\");}\n",
    "    }\n",
    "    \n",
    "    pub fn where_am_i() {println!(\"1\");}\n",
    "}\n",
    "\n",
    "fn where_am_i() {println!(\"main namespace\");}"
   ]
  },
  {
   "cell_type": "code",
   "execution_count": 7,
   "id": "a5b0cf50",
   "metadata": {
    "cell_style": "split"
   },
   "outputs": [
    {
     "name": "stdout",
     "output_type": "stream",
     "text": [
      "2_1\n",
      "1\n",
      "2_2\n"
     ]
    }
   ],
   "source": [
    "level_1::level_2_1::level_3::call_someone_else();"
   ]
  },
  {
   "cell_type": "markdown",
   "id": "2b6b935f",
   "metadata": {},
   "source": [
    "## `use` to import things into the current scope\n"
   ]
  },
  {
   "cell_type": "code",
   "execution_count": 9,
   "id": "567a1c93",
   "metadata": {
    "cell_style": "split"
   },
   "outputs": [],
   "source": [
    "mod level_1 {\n",
    "    pub mod level_2_1 {\n",
    "        pub mod level_3 {\n",
    "            pub fn where_am_i() {println!(\"3\");}\n",
    "            \n",
    "            pub fn call_someone_else() {\n",
    "                super::where_am_i();\n",
    "            }\n",
    "        }\n",
    "        pub fn where_am_i() {println!(\"2_1\");}\n",
    "    }\n",
    "    pub mod level_2_2 {   \n",
    "        pub fn where_am_i() {println!(\"2_2\");}\n",
    "    }\n",
    "    \n",
    "    pub fn where_am_i() {println!(\"1\");}\n",
    "}\n",
    "\n",
    "fn where_am_i() {println!(\"main namespace\");}\n",
    "\n"
   ]
  },
  {
   "cell_type": "code",
   "execution_count": 10,
   "id": "56b540b6",
   "metadata": {
    "cell_style": "split"
   },
   "outputs": [
    {
     "name": "stdout",
     "output_type": "stream",
     "text": [
      "3\n",
      "2_1\n",
      "3\n"
     ]
    }
   ],
   "source": [
    "// Bring a submodule to current scope:\n",
    "use level_1::level_2_1::level_3;\n",
    "level_3::where_am_i();\n",
    "// Bring a specific function/type to current scope:\n",
    "// (Don't do that, it can be confusing).\n",
    "use level_3::call_someone_else();\n",
    "call_someone_else();\n",
    "// Bring multiple items to current scope:\n",
    "use level_3::{where_am_i,call_someone_else};\n",
    "where_am_i();"
   ]
  },
  {
   "cell_type": "markdown",
   "id": "d79bea0d",
   "metadata": {},
   "source": [
    "## Structs within modules"
   ]
  },
  {
   "cell_type": "code",
   "execution_count": 12,
   "id": "43a1d9e5",
   "metadata": {
    "cell_style": "split"
   },
   "outputs": [],
   "source": [
    "pub mod test {\n",
    "    #[derive(Debug)]\n",
    "    pub struct Point {\n",
    "       x: i32,\n",
    "       y: i32,\n",
    "    }\n",
    "\n",
    "    impl Point {\n",
    "        pub fn create(x:i32,y:i32) -> Point {\n",
    "            Point{x,y}\n",
    "        }\n",
    "        \n",
    "    }\n",
    "\n",
    "}\n"
   ]
  },
  {
   "cell_type": "code",
   "execution_count": 13,
   "id": "54c9174b",
   "metadata": {
    "cell_style": "split"
   },
   "outputs": [
    {
     "ename": "Error",
     "evalue": "field `x` of struct `Point` is private",
     "output_type": "error",
     "traceback": [
      "p.x = 3;",
      "\u001b[91m  ^\u001b[0m \u001b[94mprivate field\u001b[0m",
      "field `x` of struct `Point` is private"
     ]
    }
   ],
   "source": [
    "use test::Point;\n",
    "let mut p = Point::create(2,3);\n",
    "println!(\"{:?}\",p);\n",
    "p.x = 3;\n",
    "println!(\"{:?}\",p);"
   ]
  },
  {
   "cell_type": "markdown",
   "id": "0dce7eee",
   "metadata": {
    "cell_style": "center"
   },
   "source": [
    "## Structs within modules\n",
    "\n",
    "Make fields and functions public to be accessible"
   ]
  },
  {
   "cell_type": "code",
   "execution_count": 14,
   "id": "556e7569",
   "metadata": {
    "cell_style": "split"
   },
   "outputs": [],
   "source": [
    "mod test {\n",
    "    #[derive(Debug)]\n",
    "    pub struct Point {\n",
    "       pub x: i32,\n",
    "       y: i32,\n",
    "    }\n",
    "\n",
    "    impl Point {\n",
    "        pub fn create(x:i32,y:i32) -> Point {\n",
    "            Point{x,y}\n",
    "        }\n",
    "        \n",
    "        pub fn update_y(&mut self, y:i32) {\n",
    "            self.y = y;\n",
    "        }\n",
    "    }\n",
    "\n",
    "}\n"
   ]
  },
  {
   "cell_type": "code",
   "execution_count": 15,
   "id": "dc67f0a4",
   "metadata": {
    "cell_style": "split"
   },
   "outputs": [
    {
     "name": "stdout",
     "output_type": "stream",
     "text": [
      "Point { x: 2, y: 3 }\n",
      "Point { x: 3, y: 3 }\n"
     ]
    },
    {
     "data": {
      "text/plain": [
       "Point { x: 3, y: 2022 }"
      ]
     },
     "execution_count": 15,
     "metadata": {},
     "output_type": "execute_result"
    }
   ],
   "source": [
    "use test::Point;\n",
    "let mut p = Point::create(2,3);\n",
    "println!(\"{:?}\",p);\n",
    "p.x = 3;\n",
    "println!(\"{:?}\",p);\n",
    "\n",
    "p.update_y(2022);\n",
    "p"
   ]
  },
  {
   "cell_type": "markdown",
   "id": "1c2d6fca",
   "metadata": {
    "cell_style": "center",
    "slideshow": {
     "slide_type": "slide"
    }
   },
   "source": [
    "## Starting point: examples from last week\n",
    "\n",
    "* Creating a graph representation\n",
    "* Counting triangles\n",
    "* Also: get a neighbor of a vertex\n",
    "\n",
    "<br><br>\n",
    "<div align=\"center\">\n",
    "    <b>[live demo: one-file example]</b>\n",
    "</div>"
   ]
  },
  {
   "cell_type": "markdown",
   "id": "18e40262",
   "metadata": {
    "slideshow": {
     "slide_type": "subslide"
    }
   },
   "source": [
    "## Moving a module to separate file"
   ]
  },
  {
   "cell_type": "markdown",
   "id": "3d2ea354",
   "metadata": {
    "cell_style": "split",
    "slideshow": {
     "slide_type": "fragment"
    }
   },
   "source": [
    "Content of module `abc`\n",
    "* either in `src/abc.rs`\n",
    "* or `src/abc/mod.rs`"
   ]
  },
  {
   "cell_type": "markdown",
   "id": "40a6a01b",
   "metadata": {
    "cell_style": "split",
    "slideshow": {
     "slide_type": "fragment"
    }
   },
   "source": [
    "In `main.rs` replace it with `mod abc;`"
   ]
  },
  {
   "cell_type": "markdown",
   "id": "031ec4cf",
   "metadata": {
    "slideshow": {
     "slide_type": "fragment"
    }
   },
   "source": [
    "**Submodules:**"
   ]
  },
  {
   "cell_type": "markdown",
   "id": "15eb0627",
   "metadata": {
    "cell_style": "split",
    "slideshow": {
     "slide_type": ""
    }
   },
   "source": [
    "Example `abc::def`\n",
    "* either in `src/abc/def.rs`\n",
    "* or in `src/abc/def/mod.rs`"
   ]
  },
  {
   "cell_type": "markdown",
   "id": "205999cd",
   "metadata": {
    "cell_style": "split",
    "slideshow": {
     "slide_type": ""
    }
   },
   "source": [
    "Use `mod` recursively"
   ]
  },
  {
   "cell_type": "markdown",
   "id": "006e9247",
   "metadata": {
    "slideshow": {
     "slide_type": "fragment"
    }
   },
   "source": [
    "<div align=\"center\">\n",
    "    <b>[live demo: splitting the sample file into <code>main.rs</code> and three submodules]</b>\n",
    "</div>"
   ]
  },
  {
   "cell_type": "markdown",
   "id": "cba7a425",
   "metadata": {
    "cell_style": "center",
    "slideshow": {
     "slide_type": "slide"
    }
   },
   "source": [
    "## What are crates?"
   ]
  },
  {
   "cell_type": "markdown",
   "id": "5932bda2",
   "metadata": {},
   "source": [
    "Crates provided by a project:\n",
    "* Each binary produced by a project (function `main` is the starting point)\n",
    "  * So far we have seen single binaries\n",
    "* A single library crate: can be used by other projects "
   ]
  },
  {
   "cell_type": "markdown",
   "id": "9fbd2cdd",
   "metadata": {
    "slideshow": {
     "slide_type": "slide"
    }
   },
   "source": [
    "## Shared crates"
   ]
  },
  {
   "cell_type": "markdown",
   "id": "cbf7255a",
   "metadata": {
    "cell_style": "split"
   },
   "source": [
    "**Where to find crates:**\n",
    "* Official list: https://crates.io\n",
    "* Unofficial list: https://lib.rs"
   ]
  },
  {
   "cell_type": "markdown",
   "id": "8c7af2c2",
   "metadata": {
    "cell_style": "split"
   },
   "source": [
    "**Documentation:**\n",
    "* https://docs.rs"
   ]
  },
  {
   "cell_type": "markdown",
   "id": "2508bc95",
   "metadata": {
    "cell_style": "center",
    "slideshow": {
     "slide_type": "subslide"
    }
   },
   "source": [
    "## Crate `rand`: random numbers\n",
    "See: https://crates.io/crates/rand"
   ]
  },
  {
   "cell_type": "markdown",
   "id": "734a44ae",
   "metadata": {
    "slideshow": {
     "slide_type": "fragment"
    }
   },
   "source": [
    "Tell Rust you want to use it:\n",
    "* edit `Cargo.toml`\n",
    "* add `rand=\"0.8.5\"` below dependencies"
   ]
  },
  {
   "cell_type": "markdown",
   "id": "d5d70f04",
   "metadata": {
    "slideshow": {
     "slide_type": "fragment"
    }
   },
   "source": [
    "To generate a random integer from $1$ through $100$:\n",
    "  * add `use rand::Rng`\n",
    "  * then `rand::thread_rng().gen_range(1..=100)`"
   ]
  },
  {
   "cell_type": "markdown",
   "id": "add00309",
   "metadata": {
    "slideshow": {
     "slide_type": "fragment"
    }
   },
   "source": [
    "<div align=\"center\">\n",
    "    <b>[live demo: add <code>get_random</code> to <code>graphs::neighbors</code>]</b>\n",
    "</div>"
   ]
  },
  {
   "cell_type": "markdown",
   "id": "e6985d92",
   "metadata": {
    "cell_style": "center",
    "slideshow": {
     "slide_type": "subslide"
    }
   },
   "source": [
    "## Crate `csv` and `serde`: reading a CSV file\n",
    "See:\n",
    "  * https://crates.io/crates/csv\n",
    "  * https://crates.io/crates/serde\n",
    "\n",
    "<br><br>\n",
    "<div align=\"center\">\n",
    "    <b>[live demo (to be continued in the next lecture)]</b>\n",
    "</div>"
   ]
  },
  {
   "cell_type": "code",
   "execution_count": null,
   "id": "fa93274c",
   "metadata": {},
   "outputs": [],
   "source": []
  }
 ],
 "metadata": {
  "celltoolbar": "Slideshow",
  "kernelspec": {
   "display_name": "Rust",
   "language": "rust",
   "name": "rust"
  },
  "language_info": {
   "codemirror_mode": "rust",
   "file_extension": ".rs",
   "mimetype": "text/rust",
   "name": "Rust",
   "pygment_lexer": "rust",
   "version": ""
  },
  "rise": {
   "theme": "beige",
   "transition": "fade"
  }
 },
 "nbformat": 4,
 "nbformat_minor": 5
}
