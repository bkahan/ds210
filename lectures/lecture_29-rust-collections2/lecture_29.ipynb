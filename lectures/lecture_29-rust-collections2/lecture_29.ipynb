{
 "cells": [
  {
   "cell_type": "markdown",
   "id": "cf7f87e3",
   "metadata": {
    "slideshow": {
     "slide_type": "slide"
    }
   },
   "source": [
    "<div align=\"center\">\n",
    "    <h1>DS-210: Programming for Data Science</h1>\n",
    "    <h1>Lecture 30</h1>\n",
    "</div>\n",
    "\n",
    "# 1. Code formatting\n",
    "# 2. Priority queues\n",
    "# 3. Popular implementation: binary heap"
   ]
  },
  {
   "cell_type": "markdown",
   "id": "ac24e00b",
   "metadata": {
    "slideshow": {
     "slide_type": "slide"
    }
   },
   "source": [
    "# <font color=\"red\">1. Code formatting</font>\n",
    "# 2. Priority queues\n",
    "# 3. Popular implementation: binary heap"
   ]
  },
  {
   "cell_type": "markdown",
   "id": "59a722f1",
   "metadata": {
    "slideshow": {
     "slide_type": "slide"
    }
   },
   "source": [
    "## Don't give up on code formatting!\n",
    "\n",
    "* Rust doesn't require any specific indentation\n",
    "* Still a good idea to make your code readable"
   ]
  },
  {
   "cell_type": "code",
   "execution_count": 2,
   "id": "8b3d7ec8",
   "metadata": {},
   "outputs": [],
   "source": [
    " fn h(z:i32)->i32{let mut t=0.max(z.min(1)-0.max(z-1));for y in 1..=2.min(z){t+=h(z-y)}t}"
   ]
  },
  {
   "cell_type": "code",
   "execution_count": 3,
   "id": "3215079e",
   "metadata": {
    "scrolled": true,
    "slideshow": {
     "slide_type": "fragment"
    }
   },
   "outputs": [
    {
     "name": "stdout",
     "output_type": "stream",
     "text": [
      "0:0\n",
      "1:1\n",
      "2:1\n",
      "3:2\n",
      "4:3\n",
      "5:5\n",
      "6:8\n",
      "7:13\n",
      "8:21\n",
      "9:34\n"
     ]
    }
   ],
   "source": [
    "for i in 0..10 {\n",
    "    println!(\"{}:{}\",i,h(i));\n",
    "};"
   ]
  },
  {
   "cell_type": "markdown",
   "id": "1dcbb3e3",
   "metadata": {
    "slideshow": {
     "slide_type": "slide"
    }
   },
   "source": [
    "## Tool for formatting Rust code: `rustfmt`\n",
    "\n",
    "* If you have Rust installed, you should already have it."
   ]
  },
  {
   "cell_type": "markdown",
   "id": "29d84b1e",
   "metadata": {
    "slideshow": {
     "slide_type": "fragment"
    }
   },
   "source": [
    "* `rustfmt [filename]` replaces the file with nicely formatted version\n",
    "   * use `rustfmt --backup [filename]` to save the original file"
   ]
  },
  {
   "cell_type": "markdown",
   "id": "90553fac",
   "metadata": {
    "slideshow": {
     "slide_type": "fragment"
    }
   },
   "source": [
    "<div align=\"center\">\n",
    "    <b>[see demo with comparison via kdiff3]</b>\n",
    "</div>"
   ]
  },
  {
   "cell_type": "markdown",
   "id": "0bfacfd5",
   "metadata": {
    "slideshow": {
     "slide_type": "fragment"
    }
   },
   "source": [
    "* `rustfmt --help`: see the command line parameters\n",
    "* `rustfmt --print-config default`: default config that can be adjusted"
   ]
  },
  {
   "cell_type": "markdown",
   "id": "3901a9a9",
   "metadata": {
    "slideshow": {
     "slide_type": "slide"
    }
   },
   "source": [
    "# 1. Code formatting\n",
    "# <font color=\"red\">2. Priority queues</font>\n",
    "# 3. Popular implementation: binary heap"
   ]
  },
  {
   "cell_type": "markdown",
   "id": "67ee8f2e",
   "metadata": {
    "slideshow": {
     "slide_type": "slide"
    }
   },
   "source": [
    "## Priority queues"
   ]
  },
  {
   "cell_type": "markdown",
   "id": "a5e29646",
   "metadata": {
    "cell_style": "split",
    "slideshow": {
     "slide_type": "-"
    }
   },
   "source": [
    "**Standard queue:**\n",
    "\n",
    "* things returned in order in which they were inserted"
   ]
  },
  {
   "cell_type": "markdown",
   "id": "2dd9954b",
   "metadata": {
    "cell_style": "split",
    "slideshow": {
     "slide_type": "fragment"
    }
   },
   "source": [
    "**Priority queue:**\n",
    "  * items have priorities\n",
    "  * highest priority items returned first"
   ]
  },
  {
   "cell_type": "markdown",
   "id": "d0257eba",
   "metadata": {
    "slideshow": {
     "slide_type": "slide"
    }
   },
   "source": [
    "## Rust standard library implementation: `BinaryHeap<T>`"
   ]
  },
  {
   "cell_type": "markdown",
   "id": "e4a4e82c",
   "metadata": {
    "cell_style": "split",
    "slideshow": {
     "slide_type": "fragment"
    }
   },
   "source": [
    "<br>\n",
    "\n",
    "* Priorities provided by the ordering of elements of `T` (via trait `Ord`)\n",
    "\n",
    "\n",
    "<br>\n",
    "<br>\n",
    "\n",
    "* Method `push(T)`:<br>push element onto the heap\n",
    "\n",
    "<br>\n",
    "<br>\n",
    "\n",
    "\n",
    "* Method `pop() -> Option<T>`:<br>remove the greatest and return it"
   ]
  },
  {
   "cell_type": "code",
   "execution_count": 9,
   "id": "62e44c72",
   "metadata": {
    "cell_style": "split",
    "slideshow": {
     "slide_type": "fragment"
    }
   },
   "outputs": [
    {
     "name": "stdout",
     "output_type": "stream",
     "text": [
      "Some(7)\n",
      "Some(3)\n",
      "\n",
      "Some(4)\n",
      "Some(3)\n",
      "Some(2)\n",
      "None\n"
     ]
    }
   ],
   "source": [
    "use std::collections::BinaryHeap;\n",
    "\n",
    "let mut pq = BinaryHeap::new();\n",
    "\n",
    "pq.push(2);\n",
    "pq.push(7);\n",
    "pq.push(3);\n",
    "\n",
    "println!(\"{:?}\",pq.pop());\n",
    "println!(\"{:?}\",pq.pop());\n",
    "\n",
    "pq.push(3);\n",
    "pq.push(4);\n",
    "\n",
    "println!(\"\\n{:?}\",pq.pop());\n",
    "println!(\"{:?}\",pq.pop());\n",
    "println!(\"{:?}\",pq.pop());\n",
    "println!(\"{:?}\",pq.pop());"
   ]
  },
  {
   "cell_type": "markdown",
   "id": "be03b60a",
   "metadata": {
    "slideshow": {
     "slide_type": "slide"
    }
   },
   "source": [
    "## Getting the smallest element out first\n",
    "\n",
    "`Reverse<T>`: wrapper that reverses the ordering of elements of a type"
   ]
  },
  {
   "cell_type": "code",
   "execution_count": 10,
   "id": "54acdcdd",
   "metadata": {
    "cell_style": "split"
   },
   "outputs": [
    {
     "data": {
      "text/plain": [
       "true"
      ]
     },
     "execution_count": 10,
     "metadata": {},
     "output_type": "execute_result"
    }
   ],
   "source": [
    "3 < 4"
   ]
  },
  {
   "cell_type": "code",
   "execution_count": 11,
   "id": "6beee48a",
   "metadata": {
    "cell_style": "split"
   },
   "outputs": [
    {
     "data": {
      "text/plain": [
       "false"
      ]
     },
     "execution_count": 11,
     "metadata": {},
     "output_type": "execute_result"
    }
   ],
   "source": [
    "use std::cmp::Reverse;\n",
    "Reverse(3) < Reverse(4)"
   ]
  },
  {
   "cell_type": "code",
   "execution_count": 12,
   "id": "18b23b6c",
   "metadata": {
    "cell_style": "split",
    "slideshow": {
     "slide_type": "fragment"
    }
   },
   "outputs": [
    {
     "data": {
      "text/plain": [
       "false"
      ]
     },
     "execution_count": 12,
     "metadata": {},
     "output_type": "execute_result"
    }
   ],
   "source": [
    "5 < 3"
   ]
  },
  {
   "cell_type": "code",
   "execution_count": 13,
   "id": "cc56d54d",
   "metadata": {
    "cell_style": "split"
   },
   "outputs": [
    {
     "data": {
      "text/plain": [
       "true"
      ]
     },
     "execution_count": 13,
     "metadata": {},
     "output_type": "execute_result"
    }
   ],
   "source": [
    "Reverse(5) < Reverse(3)"
   ]
  },
  {
   "cell_type": "code",
   "execution_count": 14,
   "id": "f9d4f6fb",
   "metadata": {
    "slideshow": {
     "slide_type": "fragment"
    }
   },
   "outputs": [
    {
     "name": "stdout",
     "output_type": "stream",
     "text": [
      "Some(Reverse(1))\n",
      "Some(Reverse(3))\n",
      "\n",
      "Some(Reverse(0))\n"
     ]
    }
   ],
   "source": [
    "let mut pq = BinaryHeap::new();\n",
    "\n",
    "pq.push(Reverse(3));\n",
    "pq.push(Reverse(1));\n",
    "pq.push(Reverse(7));\n",
    "\n",
    "println!(\"{:?}\",pq.pop());\n",
    "println!(\"{:?}\",pq.pop());\n",
    "\n",
    "pq.push(Reverse(0));\n",
    "\n",
    "println!(\"\\n{:?}\",pq.pop());"
   ]
  },
  {
   "cell_type": "markdown",
   "id": "3d696b56",
   "metadata": {
    "slideshow": {
     "slide_type": "slide"
    }
   },
   "source": [
    "## Default lexicographic ordering on tuples and structs\n",
    "\n",
    "Lexicographic ordering:\n",
    "* Compare first elements\n",
    "* If equal, compare second elements\n",
    "* If equal, compare third elements..."
   ]
  },
  {
   "cell_type": "markdown",
   "id": "dc4e3d46",
   "metadata": {
    "slideshow": {
     "slide_type": "fragment"
    }
   },
   "source": [
    "### Tuples"
   ]
  },
  {
   "cell_type": "code",
   "execution_count": 15,
   "id": "324bf9fc",
   "metadata": {
    "cell_style": "split"
   },
   "outputs": [
    {
     "data": {
      "text/plain": [
       "false"
      ]
     },
     "execution_count": 15,
     "metadata": {},
     "output_type": "execute_result"
    }
   ],
   "source": [
    "(3,4) < (2,7)"
   ]
  },
  {
   "cell_type": "code",
   "execution_count": 16,
   "id": "48314402",
   "metadata": {
    "cell_style": "split"
   },
   "outputs": [
    {
     "data": {
      "text/plain": [
       "true"
      ]
     },
     "execution_count": 16,
     "metadata": {},
     "output_type": "execute_result"
    }
   ],
   "source": [
    "(11,2,7) < (11,3,4)"
   ]
  },
  {
   "cell_type": "markdown",
   "id": "1295a44f",
   "metadata": {
    "slideshow": {
     "slide_type": "fragment"
    }
   },
   "source": [
    "### Struct (derive `Ord`)"
   ]
  },
  {
   "cell_type": "code",
   "execution_count": 17,
   "id": "38c22003",
   "metadata": {
    "cell_style": "split"
   },
   "outputs": [],
   "source": [
    "#[derive(PartialEq,Eq,PartialOrd,Ord,Debug)]\n",
    "struct Point {\n",
    "    x: i32,\n",
    "    y: i32,\n",
    "}"
   ]
  },
  {
   "cell_type": "code",
   "execution_count": 18,
   "id": "f4116b74",
   "metadata": {
    "cell_style": "split"
   },
   "outputs": [
    {
     "name": "stdout",
     "output_type": "stream",
     "text": [
      "false\n",
      "true\n"
     ]
    }
   ],
   "source": [
    "let p = Point{x:3,y:4};\n",
    "let q = Point{x:2,y:7};\n",
    "println!(\"{}\", p < q);\n",
    "println!(\"{}\", p > q);"
   ]
  },
  {
   "cell_type": "markdown",
   "id": "a96b0e8a",
   "metadata": {
    "slideshow": {
     "slide_type": "slide"
    }
   },
   "source": [
    "## Another option: implement your own comparison\n",
    "\n",
    "* More complicated, see below\n",
    "\n",
    "* See the documentation for `Ord` or examples online"
   ]
  },
  {
   "cell_type": "code",
   "execution_count": 30,
   "id": "c5b84ff3",
   "metadata": {},
   "outputs": [],
   "source": [
    "#[derive(PartialEq,Eq,Ord,Debug)]\n",
    "struct Point2 {\n",
    "    x: i32,\n",
    "    y: i32,\n",
    "}\n",
    "\n",
    "// Let's assume we want to compare point by their distance to the origin\n",
    "impl std::cmp::PartialOrd for Point2 {\n",
    "    fn partial_cmp(&self, other: &Self) -> Option<std::cmp::Ordering> {\n",
    "        let this = self.x * self.x + self.y + self.y;\n",
    "        let that = other.x * other.x + other.y * other.y;\n",
    "        return this.partial_cmp(&that);\n",
    "    }\n",
    "}\n"
   ]
  },
  {
   "cell_type": "code",
   "execution_count": 31,
   "id": "873cac7f",
   "metadata": {},
   "outputs": [
    {
     "name": "stdout",
     "output_type": "stream",
     "text": [
      "true\n",
      "false\n"
     ]
    }
   ],
   "source": [
    "let p = Point2{x:3,y:1};\n",
    "let q = Point2{x:2,y:100};\n",
    "println!(\"{}\", p < q);\n",
    "println!(\"{}\", p > q);"
   ]
  },
  {
   "cell_type": "markdown",
   "id": "bba72ed8",
   "metadata": {
    "slideshow": {
     "slide_type": "slide"
    }
   },
   "source": [
    "## How to implement a priority queue?\n",
    "Assumptions:\n",
    " * At most $n$ elements\n",
    " * Comparison takes $O(1)$ time"
   ]
  },
  {
   "cell_type": "markdown",
   "id": "c6d721fc",
   "metadata": {
    "slideshow": {
     "slide_type": "fragment"
    }
   },
   "source": [
    "### Straighforward\n",
    "\n",
    "Representation: a vector of elements"
   ]
  },
  {
   "cell_type": "markdown",
   "id": "b67526cb",
   "metadata": {
    "cell_style": "split",
    "slideshow": {
     "slide_type": "fragment"
    }
   },
   "source": [
    "Push:\n",
    "* add to the end of the vector\n",
    "* Time complexity: $O(1)$ (amortized) time"
   ]
  },
  {
   "cell_type": "markdown",
   "id": "b2eeafd7",
   "metadata": {
    "cell_style": "split",
    "slideshow": {
     "slide_type": "fragment"
    }
   },
   "source": [
    "Pop:\n",
    "* go over all elements, select the greatest\n",
    "* Time complexity: $O(n)$"
   ]
  },
  {
   "cell_type": "markdown",
   "id": "888aa92a",
   "metadata": {
    "slideshow": {
     "slide_type": "slide"
    }
   },
   "source": [
    "# 1. Code formatting\n",
    "# 2. Priority queues\n",
    "# <font color=\"red\">3. Popular implementation: binary heap</font>"
   ]
  },
  {
   "cell_type": "markdown",
   "id": "2a568148",
   "metadata": {
    "slideshow": {
     "slide_type": "slide"
    }
   },
   "source": [
    "## Binary heaps\n",
    "\n",
    "* Data organized into a binary tree\n",
    "* Every internal node not smaller than its children\n",
    "\n",
    "**Basic property:**\n",
    "The root has the current maximum (minimum), i.e., the answer to next `pop`\n",
    "\n",
    "<div align=\"center\">\n",
    "    <img src=\"order.png\" alt=\"[picture of basic binary heap with heap ordering]\" width=\"70%\">\n",
    "</div>"
   ]
  },
  {
   "cell_type": "markdown",
   "id": "af1626d2",
   "metadata": {
    "slideshow": {
     "slide_type": "subslide"
    }
   },
   "source": [
    "## Binary heaps"
   ]
  },
  {
   "cell_type": "markdown",
   "id": "b1110664",
   "metadata": {
    "cell_style": "split",
    "slideshow": {
     "slide_type": ""
    }
   },
   "source": [
    "**Efficient storage:**\n",
    "* Tree levels filled from left to right\n",
    "* Can be mapped to a vector"
   ]
  },
  {
   "cell_type": "markdown",
   "id": "99b8da7c",
   "metadata": {
    "cell_style": "split",
    "slideshow": {
     "slide_type": ""
    }
   },
   "source": [
    "<div align=\"center\">\n",
    "    <img src=\"layers.png\" alt=\"[picture of basic binary heap with heap ordering]\" width=\"100%\">\n",
    "</div>"
   ]
  },
  {
   "cell_type": "markdown",
   "id": "780184d2",
   "metadata": {
    "cell_style": "split",
    "slideshow": {
     "slide_type": "fragment"
    }
   },
   "source": [
    "* Easy to move to the parent or children using vector indices"
   ]
  },
  {
   "cell_type": "markdown",
   "id": "baa44df1",
   "metadata": {
    "cell_style": "split",
    "slideshow": {
     "slide_type": ""
    }
   },
   "source": [
    "<div align=\"center\">\n",
    "    <img src=\"indices.png\" alt=\"[picture of basic binary heap with heap ordering]\" width=\"50%\">\n",
    "</div>"
   ]
  },
  {
   "cell_type": "markdown",
   "id": "763000ac",
   "metadata": {
    "slideshow": {
     "slide_type": "subslide"
    }
   },
   "source": [
    "## How are operations implemented?"
   ]
  },
  {
   "cell_type": "markdown",
   "id": "14e43e28",
   "metadata": {
    "slideshow": {
     "slide_type": "fragment"
    }
   },
   "source": [
    "### Push\n",
    "\n",
    "* add at the end the array\n",
    "* fix the ordering by pushing the element up"
   ]
  },
  {
   "cell_type": "markdown",
   "id": "37b28549",
   "metadata": {
    "slideshow": {
     "slide_type": "fragment"
    }
   },
   "source": [
    "### Pop\n",
    "\n",
    "* remove and return the root\n",
    "* replace with the last element\n",
    "* fix the ordering, pushing the element down"
   ]
  },
  {
   "cell_type": "markdown",
   "id": "78329bcc",
   "metadata": {
    "slideshow": {
     "slide_type": "fragment"
    }
   },
   "source": [
    "### Complexity of push and pop\n",
    "\n",
    "* Proportional to the number of levels\n",
    "\n",
    "* So $O(\\log n)$\n"
   ]
  },
  {
   "cell_type": "code",
   "execution_count": 2,
   "id": "0ab9cf63",
   "metadata": {},
   "outputs": [],
   "source": [
    "#[derive(Debug)]\n",
    "struct BinaryHeap {\n",
    "    heap: Vec<i32>,\n",
    "    heap_size: usize,\n",
    "}\n",
    "\n",
    "impl BinaryHeap {\n",
    "    fn new() -> BinaryHeap {\n",
    "        let heap: Vec<i32> = vec![];\n",
    "        let heap_size = 0;\n",
    "        BinaryHeap { heap, heap_size }\n",
    "    }\n",
    "\n",
    "    fn left(i: usize) -> usize {\n",
    "        2 * i + 1\n",
    "    }\n",
    "\n",
    "    fn right(i: usize) -> usize {\n",
    "        2 * i + 2\n",
    "    }\n",
    "\n",
    "    fn parent(i: usize) -> usize {\n",
    "        (i - 1) / 2\n",
    "    }\n",
    "}"
   ]
  },
  {
   "cell_type": "code",
   "execution_count": 3,
   "id": "392dc3a3",
   "metadata": {},
   "outputs": [],
   "source": [
    "impl BinaryHeap {\n",
    "        fn heapify(&mut self, loc: usize) {\n",
    "        let l = Self::left(loc);\n",
    "        let r: usize = Self::right(loc);\n",
    "        let mut largest = loc;\n",
    "        if l < self.heap_size && self.heap[l] > self.heap[largest] {\n",
    "            largest = l;\n",
    "        }\n",
    "        if r < self.heap_size && self.heap[r] > self.heap[largest] {\n",
    "            largest = r;\n",
    "        }\n",
    "        if largest != loc {\n",
    "            let tmp = self.heap[loc];\n",
    "            self.heap[loc] = self.heap[largest];\n",
    "            self.heap[largest] = tmp;\n",
    "            self.heapify(largest);\n",
    "        }\n",
    "    }\n",
    "}"
   ]
  },
  {
   "cell_type": "code",
   "execution_count": 4,
   "id": "b389babd",
   "metadata": {},
   "outputs": [],
   "source": [
    "impl BinaryHeap {\n",
    "        fn insert_val(&mut self, val: i32) {\n",
    "        self.heap_size += 1;\n",
    "        self.heap.push(val);\n",
    "        let mut i = self.heap_size - 1;\n",
    "        while i != 0 && self.heap[Self::parent(i)] < self.heap[i] {\n",
    "            let tmp = self.heap[Self::parent(i)];\n",
    "            self.heap[Self::parent(i)] = self.heap[i];\n",
    "            self.heap[i] = tmp;\n",
    "            i = Self::parent(i);\n",
    "        }\n",
    "    }\n",
    "    \n",
    "    fn extract_max(&mut self) -> i32 {\n",
    "        if self.heap_size == 0 {\n",
    "            return i32::MIN;\n",
    "        }\n",
    "        if self.heap_size == 1 {\n",
    "            self.heap_size -= 1;\n",
    "            return self.heap[0];\n",
    "        }\n",
    "        let root = self.heap[0];\n",
    "        self.heap[0] = self.heap[self.heap_size - 1];\n",
    "        self.heap_size -= 1;\n",
    "        self.heapify(0);\n",
    "        return root;\n",
    "    }\n",
    "}"
   ]
  },
  {
   "cell_type": "code",
   "execution_count": 6,
   "id": "9e6d74b0",
   "metadata": {},
   "outputs": [
    {
     "name": "stdout",
     "output_type": "stream",
     "text": [
      "BinaryHeap { heap: [771, 665, 539, 196, 372, 109, -775, -834, -566, 229], heap_size: 10 }\n",
      "771 665 539 372 229 196 109 -566 -775 -834 \n",
      "BinaryHeap { heap: [-834, -834, -834, -775, -834, -566, -775, -834, -566, 229], heap_size: 0 }\n"
     ]
    }
   ],
   "source": [
    ":dep rand=\"0.8.5\"\n",
    "use rand::Rng;\n",
    "\n",
    "let mut h = BinaryHeap::new();\n",
    "for _i in 0..10 {\n",
    "    let x = rand::thread_rng().gen_range(-1000..1000) as i32;\n",
    "    h.insert_val(x);\n",
    "}\n",
    "println!(\"{:?}\", h);\n",
    "let size = h.heap_size;\n",
    "for _j in 0..size {\n",
    "    let z = h.extract_max();\n",
    "    print!(\"{} \", z);\n",
    "}\n",
    "println!(\"\");\n",
    "println!(\"{:?}\", h);\n"
   ]
  },
  {
   "cell_type": "code",
   "execution_count": null,
   "id": "06cb174b",
   "metadata": {},
   "outputs": [],
   "source": []
  }
 ],
 "metadata": {
  "celltoolbar": "Slideshow",
  "kernelspec": {
   "display_name": "Rust",
   "language": "rust",
   "name": "rust"
  },
  "language_info": {
   "codemirror_mode": "rust",
   "file_extension": ".rs",
   "mimetype": "text/rust",
   "name": "Rust",
   "pygment_lexer": "rust",
   "version": ""
  },
  "rise": {
   "theme": "beige",
   "transition": "fade"
  }
 },
 "nbformat": 4,
 "nbformat_minor": 5
}
