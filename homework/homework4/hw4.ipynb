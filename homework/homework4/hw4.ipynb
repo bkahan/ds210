{
 "cells": [
  {
   "cell_type": "markdown",
   "id": "5319f3a3-fb2f-43bf-9c36-272636c8e26b",
   "metadata": {},
   "source": [
    "Ben Kahan  \n",
    "DS 210  \n",
    "Homework 4. \n",
    "12 October 2022  \n",
    "Collaborators: None"
   ]
  },
  {
   "cell_type": "markdown",
   "id": "9fed9e50-476b-40f2-b6e9-aec9a5fdf6cf",
   "metadata": {},
   "source": [
    "# Question 1"
   ]
  },
  {
   "cell_type": "markdown",
   "id": "5c3822f5-2b7f-4c6a-ba2e-21ea494205f8",
   "metadata": {},
   "source": [
    "For standard `*.txt` files, I use `vim` or `nano` to edit them. However, for `Rust`, I will be using Intellij with the `Rust` plugin.  \n",
    "\n",
    "For version control, I use `git` and GitHub to store my private repositories. "
   ]
  },
  {
   "cell_type": "markdown",
   "id": "b0f92584-7f08-416f-b3b0-21edea4a41b0",
   "metadata": {},
   "source": [
    "For example: \n",
    "\n",
    "```bash\n",
    "git init \n",
    "mkdir \"homework4\"\n",
    "git add homework4/\n",
    "git commit -m \"hw4 dir initial\"\n",
    "cd homework4/ \n",
    "vim example.txt # edit the file using vim commands\n",
    "git add example.txt \n",
    "git commit -m \"example.txt initial\"\n",
    "git push origin main \n",
    "```"
   ]
  },
  {
   "cell_type": "code",
   "execution_count": 2,
   "id": "9829c60b-5fc3-4590-8ed4-fece535be48a",
   "metadata": {},
   "outputs": [
    {
     "name": "stdout",
     "output_type": "stream",
     "text": [
      "rustc 1.64.0 (a55dd71d5 2022-09-19)\n"
     ]
    }
   ],
   "source": [
    "%%bash \n",
    "rustc --version"
   ]
  },
  {
   "cell_type": "code",
   "execution_count": 3,
   "id": "d36f3f8c-5918-4635-8f3c-0108bcc34ad5",
   "metadata": {},
   "outputs": [
    {
     "name": "stdout",
     "output_type": "stream",
     "text": [
      "cargo 1.64.0 (387270bc7 2022-09-16)\n"
     ]
    }
   ],
   "source": [
    "%%bash \n",
    "cargo --version"
   ]
  },
  {
   "cell_type": "markdown",
   "id": "e9334db0-b678-41bf-8821-5a6ebfa9bb8d",
   "metadata": {},
   "source": [
    "For Jupyter, I installed the Rust Jupyter kernel from Google"
   ]
  },
  {
   "cell_type": "markdown",
   "id": "a15dbc41-05bb-4da1-9b14-b936efdad049",
   "metadata": {},
   "source": [
    "# Question 2"
   ]
  },
  {
   "cell_type": "code",
   "execution_count": 53,
   "id": "2f9865a8-01af-412c-ac33-6eefba94511b",
   "metadata": {},
   "outputs": [],
   "source": [
    "from sklearn.tree import DecisionTreeRegressor\n",
    "import matplotlib.pyplot as plt\n",
    "import pandas as pd\n",
    "import numpy as np\n",
    "import math"
   ]
  },
  {
   "cell_type": "code",
   "execution_count": 112,
   "id": "bae715b0-1643-486b-8c42-30975044de9e",
   "metadata": {},
   "outputs": [],
   "source": [
    "A,B = 0,1\n",
    "domain = [0,1]\n",
    "samples = 50\n",
    "x = np.sort(np.random.rand(1,samples).ravel())"
   ]
  },
  {
   "cell_type": "code",
   "execution_count": 113,
   "id": "acec0a75-a1b0-4583-b882-92605fb1deb3",
   "metadata": {},
   "outputs": [],
   "source": [
    "def mse(x): \n",
    "    return np.square(x[0] - x[1]).mean()\n",
    "\n",
    "def mae(x): \n",
    "    return np.abs(x[0] - x[1])"
   ]
  },
  {
   "cell_type": "markdown",
   "id": "a2b4f23b-bd56-47ff-86ba-613a028b5bbd",
   "metadata": {},
   "source": [
    "# Question 4"
   ]
  },
  {
   "cell_type": "code",
   "execution_count": 305,
   "id": "21f4d5de-5e19-4a9b-be86-8f65e39007e4",
   "metadata": {},
   "outputs": [],
   "source": [
    "def f(x):\n",
    "    return (np.random.rand()*np.float_power(x,13) + \\\n",
    "            np.random.rand()*np.float_power(x,-.5) + \\\n",
    "            np.random.rand()* np.cos(x) - \\\n",
    "            .5 * np.random.rand() * \\\n",
    "            np.random.normal(size=samples) \\\n",
    "            ).ravel()"
   ]
  },
  {
   "cell_type": "code",
   "execution_count": 306,
   "id": "32f1e299-77bf-4acd-ad89-503a4e1138cb",
   "metadata": {},
   "outputs": [],
   "source": [
    "y = f(x)"
   ]
  },
  {
   "cell_type": "code",
   "execution_count": 307,
   "id": "dd77df3c-dde5-4fa6-9e80-1d49dcf662cd",
   "metadata": {},
   "outputs": [
    {
     "data": {
      "text/plain": [
       "[<matplotlib.lines.Line2D at 0x130621070>]"
      ]
     },
     "execution_count": 307,
     "metadata": {},
     "output_type": "execute_result"
    },
    {
     "data": {
      "image/png": "[encoded data removed]",
      "text/plain": [
       "<Figure size 640x480 with 1 Axes>"
      ]
     },
     "metadata": {},
     "output_type": "display_data"
    }
   ],
   "source": [
    "plt.plot(x,y)"
   ]
  },
  {
   "cell_type": "code",
   "execution_count": 308,
   "id": "1ca65561-2c7b-497e-885e-e31b4d0156c0",
   "metadata": {},
   "outputs": [],
   "source": [
    "def eval_poly(c,x):\n",
    "    y = np.zeros_like(x)\n",
    "# What does this inner loop do? \n",
    "# ANS: This innerloop indexes for every entry in c\n",
    "# since c, in this context, is the result of numpy.polyfit(),\n",
    "# the method returns a numpy array with the indicies representing\n",
    "# the coefficients of the fit polynomial \n",
    "# thus, the for loop separates each coefficient and: \n",
    "# y = y*x, multiplies itself (y) by x and adds the coefficient \n",
    "# y is an empty array (declared above to alloc mem) \n",
    "# y is then returned which contains the modified entries of the new polynomial\n",
    "    for coeff in c:\n",
    "        y = y * x + coeff\n",
    "    return y"
   ]
  },
  {
   "cell_type": "code",
   "execution_count": 325,
   "id": "bd46f62b-e041-4a7d-848b-e4e5d3f0822a",
   "metadata": {},
   "outputs": [],
   "source": [
    "over = np.polyfit(x,y,17)\n",
    "over_res = eval_poly(over,x)\n",
    "under = np.polyfit(x,y,2)\n",
    "under_res = eval_poly(under,x)"
   ]
  },
  {
   "cell_type": "code",
   "execution_count": 328,
   "id": "bc82577b-f82f-4bc4-87c4-a0b3656ad54e",
   "metadata": {},
   "outputs": [
    {
     "data": {
      "text/plain": [
       "<Figure size 300x500 with 0 Axes>"
      ]
     },
     "execution_count": 328,
     "metadata": {},
     "output_type": "execute_result"
    },
    {
     "data": {
      "image/png": "[encoded data removed]",
      "text/plain": [
       "<Figure size 640x480 with 1 Axes>"
      ]
     },
     "metadata": {},
     "output_type": "display_data"
    },
    {
     "data": {
      "text/plain": [
       "<Figure size 300x500 with 0 Axes>"
      ]
     },
     "metadata": {},
     "output_type": "display_data"
    }
   ],
   "source": [
    "plt.plot(x,y, label=\"Standard Function\")\n",
    "plt.plot(x, over_res, label=\"Overfit\", linestyle=\"--\")\n",
    "plt.plot(x, under_res, label=\"Underfit\", linestyle=\":\")\n",
    "plt.legend()\n",
    "plt.figure(figsize=(3,5))"
   ]
  },
  {
   "cell_type": "code",
   "execution_count": 329,
   "id": "aa077174-e96e-4874-8982-ca40eede448d",
   "metadata": {},
   "outputs": [],
   "source": [
    "underfit_var = np.var(under_res)\n",
    "overfit_var = np.var(over_res)"
   ]
  },
  {
   "cell_type": "code",
   "execution_count": 330,
   "id": "f549f28b-a829-4c90-9238-7ccaa67291eb",
   "metadata": {},
   "outputs": [],
   "source": [
    "def mse(x,y):\n",
    "    return ((x-y)**2).mean()"
   ]
  },
  {
   "cell_type": "code",
   "execution_count": 331,
   "id": "f68d8033-7417-41bc-9fd6-19a1836d1661",
   "metadata": {},
   "outputs": [],
   "source": [
    "underfit_mse = mse(x, under_res)\n",
    "overfit_mse = mse(x, over_res) "
   ]
  },
  {
   "cell_type": "code",
   "execution_count": 338,
   "id": "23196f30-fa08-4d07-8b06-96c6f5119a38",
   "metadata": {},
   "outputs": [
    {
     "data": {
      "text/plain": [
       "(0.407243215287553, 1.5638867829213317)"
      ]
     },
     "execution_count": 338,
     "metadata": {},
     "output_type": "execute_result"
    }
   ],
   "source": [
    "underfit_var, underfit_mse"
   ]
  },
  {
   "cell_type": "code",
   "execution_count": 339,
   "id": "3316d2cf-9080-40fe-8e8c-8832b010b413",
   "metadata": {},
   "outputs": [
    {
     "data": {
      "text/plain": [
       "(0.5408923912150262, 1.6975337442989888)"
      ]
     },
     "execution_count": 339,
     "metadata": {},
     "output_type": "execute_result"
    }
   ],
   "source": [
    "overfit_var, overfit_mse"
   ]
  },
  {
   "cell_type": "markdown",
   "id": "672f4050-8262-4786-9ad2-8356135afcd4",
   "metadata": {},
   "source": [
    "We see that the underfitting leads to lower variance (which is expected) and we see greater bias through the mean squared error estimator of the overfit polynomial. "
   ]
  },
  {
   "cell_type": "code",
   "execution_count": null,
   "id": "40d4778f-78a1-4eaa-bbc4-2b97b6bc0c23",
   "metadata": {},
   "outputs": [],
   "source": []
  }
 ],
 "metadata": {
  "kernelspec": {
   "display_name": "Python 3 (ipykernel)",
   "language": "python",
   "name": "python3"
  },
  "language_info": {
   "codemirror_mode": {
    "name": "ipython",
    "version": 3
   },
   "file_extension": ".py",
   "mimetype": "text/x-python",
   "name": "python",
   "nbconvert_exporter": "python",
   "pygments_lexer": "ipython3",
   "version": "3.8.5"
  }
 },
 "nbformat": 4,
 "nbformat_minor": 5
}
