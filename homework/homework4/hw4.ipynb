{
 "cells": [
  {
   "cell_type": "markdown",
   "id": "5319f3a3-fb2f-43bf-9c36-272636c8e26b",
   "metadata": {},
   "source": [
    "Ben Kahan  \n",
    "DS 210  \n",
    "Homework 4. \n",
    "12 October 2022  \n",
    "Collaborators: None"
   ]
  },
  {
   "cell_type": "markdown",
   "id": "9fed9e50-476b-40f2-b6e9-aec9a5fdf6cf",
   "metadata": {},
   "source": [
    "# Question 1"
   ]
  },
  {
   "cell_type": "markdown",
   "id": "5c3822f5-2b7f-4c6a-ba2e-21ea494205f8",
   "metadata": {},
   "source": [
    "For standard `*.txt` files, I use `vim` or `nano` to edit them. However, for `Rust`, I will be using Intellij with the `Rust` plugin.  \n",
    "\n",
    "For version control, I use `git` and GitHub to store my private repositories. "
   ]
  },
  {
   "cell_type": "markdown",
   "id": "b0f92584-7f08-416f-b3b0-21edea4a41b0",
   "metadata": {},
   "source": [
    "For example: \n",
    "\n",
    "```bash\n",
    "git init \n",
    "mkdir \"homework4\"\n",
    "git add homework4/\n",
    "git commit -m \"hw4 dir initial\"\n",
    "cd homework4/ \n",
    "vim example.txt # edit the file using vim commands\n",
    "git add example.txt \n",
    "git commit -m \"example.txt initial\"\n",
    "git push origin main \n",
    "```"
   ]
  },
  {
   "cell_type": "code",
   "execution_count": 2,
   "id": "9829c60b-5fc3-4590-8ed4-fece535be48a",
   "metadata": {},
   "outputs": [
    {
     "name": "stdout",
     "output_type": "stream",
     "text": [
      "rustc 1.64.0 (a55dd71d5 2022-09-19)\n"
     ]
    }
   ],
   "source": [
    "%%bash \n",
    "rustc --version"
   ]
  },
  {
   "cell_type": "code",
   "execution_count": 3,
   "id": "d36f3f8c-5918-4635-8f3c-0108bcc34ad5",
   "metadata": {},
   "outputs": [
    {
     "name": "stdout",
     "output_type": "stream",
     "text": [
      "cargo 1.64.0 (387270bc7 2022-09-16)\n"
     ]
    }
   ],
   "source": [
    "%%bash \n",
    "cargo --version"
   ]
  },
  {
   "cell_type": "markdown",
   "id": "a15dbc41-05bb-4da1-9b14-b936efdad049",
   "metadata": {},
   "source": [
    "# Question 2"
   ]
  },
  {
   "cell_type": "code",
   "execution_count": null,
   "id": "2f9865a8-01af-412c-ac33-6eefba94511b",
   "metadata": {},
   "outputs": [],
   "source": []
  }
 ],
 "metadata": {
  "kernelspec": {
   "display_name": "Python 3 (ipykernel)",
   "language": "python",
   "name": "python3"
  },
  "language_info": {
   "codemirror_mode": {
    "name": "ipython",
    "version": 3
   },
   "file_extension": ".py",
   "mimetype": "text/x-python",
   "name": "python",
   "nbconvert_exporter": "python",
   "pygments_lexer": "ipython3",
   "version": "3.8.5"
  }
 },
 "nbformat": 4,
 "nbformat_minor": 5
}
