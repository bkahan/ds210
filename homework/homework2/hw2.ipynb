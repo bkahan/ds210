{
 "cells": [
  {
   "cell_type": "markdown",
   "id": "1ae637b1-f256-48b3-b6d6-f5a6b5118b96",
   "metadata": {},
   "source": [
    "Ben Kahan  \n",
    "DS210  \n",
    "Homework 2  \n",
    "Collaborators: none"
   ]
  },
  {
   "cell_type": "code",
   "execution_count": 1,
   "id": "009fe140-fd70-40f2-870e-4d64432677dc",
   "metadata": {},
   "outputs": [],
   "source": [
    "import numpy as np"
   ]
  },
  {
   "cell_type": "markdown",
   "id": "59960fc1-94f6-4721-9304-fd6734e6fb9e",
   "metadata": {},
   "source": [
    "# Question 1"
   ]
  },
  {
   "cell_type": "code",
   "execution_count": 2,
   "id": "d3f274dc-63b4-4681-8a51-729fa743b3b3",
   "metadata": {},
   "outputs": [
    {
     "data": {
      "text/plain": [
       "array([0.77705907, 0.1524523 , 0.69730127, 0.65539378, 0.88934609,\n",
       "       0.85871369, 0.07135603, 0.68803553, 0.98485819, 0.69192367,\n",
       "       0.63233043, 0.81164451, 0.16265036, 0.72100076, 0.7427812 ,\n",
       "       0.77048561, 0.91415767, 0.80714637, 0.26800576, 0.7254081 ,\n",
       "       0.38400698, 0.24450328, 0.98426679, 0.49675951, 0.06049249,\n",
       "       0.03891374, 0.62113934, 0.24209686, 0.08576048, 0.42093651,\n",
       "       0.08379234, 0.66256089, 0.66605277, 0.86127952, 0.94605963])"
      ]
     },
     "execution_count": 2,
     "metadata": {},
     "output_type": "execute_result"
    }
   ],
   "source": [
    "A = np.random.rand(35)\n",
    "A"
   ]
  },
  {
   "cell_type": "code",
   "execution_count": 3,
   "id": "34bafc8c-4aa6-4786-8e81-198572d59f3b",
   "metadata": {},
   "outputs": [
    {
     "name": "stdout",
     "output_type": "stream",
     "text": [
      "0.7770590676982819\n",
      "0.6973012748570396\n",
      "0.6553937841705868\n",
      "0.8893460930267243\n",
      "0.8587136941246958\n",
      "0.6880355301354878\n",
      "0.9848581948938255\n",
      "0.6919236724227836\n",
      "0.6323304349152452\n",
      "0.8116445052324345\n",
      "0.7210007645330389\n",
      "0.7427811994832233\n",
      "0.7704856054654365\n",
      "0.914157670404973\n",
      "0.8071463682257692\n",
      "0.7254081042633956\n",
      "0.9842667931449869\n",
      "0.621139336890205\n",
      "0.6625608877151458\n",
      "0.6660527717748809\n",
      "0.8612795202829662\n",
      "0.9460596323591758\n"
     ]
    }
   ],
   "source": [
    "for x in range(len(A)): \n",
    "    if A[x] > .6: \n",
    "        print(A[x])"
   ]
  },
  {
   "cell_type": "code",
   "execution_count": 4,
   "id": "f2a70048-2b88-4f56-9226-c1bb9bce7d99",
   "metadata": {},
   "outputs": [
    {
     "data": {
      "text/plain": [
       "array([0.60382079, 0.0232417 , 0.48622907, 0.42954101, 0.79093647,\n",
       "       0.73738921, 0.00509168, 0.47339289, 0.96994566, 0.47875837,\n",
       "       0.39984178, 0.6587668 , 0.02645514, 0.5198421 , 0.55172391,\n",
       "       0.59364807, 0.83568425, 0.65148526, 0.07182709, 0.52621692,\n",
       "       0.14746136, 0.05978185, 0.96878112, 0.24677001, 0.00365934,\n",
       "       0.00151428, 0.38581408, 0.05861089, 0.00735486, 0.17718755,\n",
       "       0.00702116, 0.43898693, 0.44362629, 0.74180241, 0.89502883])"
      ]
     },
     "execution_count": 4,
     "metadata": {},
     "output_type": "execute_result"
    }
   ],
   "source": [
    "A = np.square(A)\n",
    "A"
   ]
  },
  {
   "cell_type": "code",
   "execution_count": 5,
   "id": "098f3fcb-1437-4032-95f5-6cfa9f2cbb35",
   "metadata": {},
   "outputs": [
    {
     "data": {
      "text/plain": [
       "array([[0.60382079, 0.0232417 , 0.48622907, 0.42954101, 0.79093647,\n",
       "        0.73738921, 0.00509168],\n",
       "       [0.47339289, 0.96994566, 0.47875837, 0.39984178, 0.6587668 ,\n",
       "        0.02645514, 0.5198421 ],\n",
       "       [0.55172391, 0.59364807, 0.83568425, 0.65148526, 0.07182709,\n",
       "        0.52621692, 0.14746136],\n",
       "       [0.05978185, 0.96878112, 0.24677001, 0.00365934, 0.00151428,\n",
       "        0.38581408, 0.05861089],\n",
       "       [0.00735486, 0.17718755, 0.00702116, 0.43898693, 0.44362629,\n",
       "        0.74180241, 0.89502883]])"
      ]
     },
     "execution_count": 5,
     "metadata": {},
     "output_type": "execute_result"
    }
   ],
   "source": [
    "B = np.reshape(A, (5,7))\n",
    "B"
   ]
  },
  {
   "cell_type": "code",
   "execution_count": 6,
   "id": "00f0408c-8223-4037-8779-c45bdcadc7af",
   "metadata": {},
   "outputs": [
    {
     "name": "stdout",
     "output_type": "stream",
     "text": [
      "0.33921486146559005\n",
      "0.5465608207862636\n",
      "0.41089256916232875\n",
      "0.3847028644736241\n",
      "0.3933341873404578\n",
      "0.4835355509227667\n",
      "0.3252069722293306\n"
     ]
    }
   ],
   "source": [
    "_ , col = B.shape\n",
    "for x in range(col): \n",
    "    print(np.mean(B[:,x]))"
   ]
  },
  {
   "cell_type": "code",
   "execution_count": 7,
   "id": "6662869d-d58e-4c44-89fc-bc3b37daea06",
   "metadata": {},
   "outputs": [],
   "source": [
    "B[:,1] = np.zeros(B[:,1].shape)"
   ]
  },
  {
   "cell_type": "code",
   "execution_count": 8,
   "id": "45336787-2159-46e6-8f73-367e4887712b",
   "metadata": {},
   "outputs": [],
   "source": [
    "for x in range(2,5): \n",
    "    B[x-1,:] = 1 "
   ]
  },
  {
   "cell_type": "code",
   "execution_count": 9,
   "id": "39a1d097-e7d6-44da-be94-9fa9e6fb3603",
   "metadata": {},
   "outputs": [
    {
     "data": {
      "text/plain": [
       "array([[0.60382079, 0.        , 0.48622907, 0.42954101, 0.79093647,\n",
       "        0.73738921, 0.00509168],\n",
       "       [1.        , 1.        , 1.        , 1.        , 1.        ,\n",
       "        1.        , 1.        ],\n",
       "       [1.        , 1.        , 1.        , 1.        , 1.        ,\n",
       "        1.        , 1.        ],\n",
       "       [1.        , 1.        , 1.        , 1.        , 1.        ,\n",
       "        1.        , 1.        ],\n",
       "       [0.00735486, 0.        , 0.00702116, 0.43898693, 0.44362629,\n",
       "        0.74180241, 0.89502883]])"
      ]
     },
     "execution_count": 9,
     "metadata": {},
     "output_type": "execute_result"
    }
   ],
   "source": [
    "B"
   ]
  },
  {
   "cell_type": "code",
   "execution_count": 10,
   "id": "66890f46-f870-4900-b8dd-2613bc534c55",
   "metadata": {},
   "outputs": [
    {
     "data": {
      "text/plain": [
       "array([0.60382079, 0.        , 0.48622907, 0.42954101, 0.79093647,\n",
       "       0.73738921, 0.00509168, 1.        , 1.        , 1.        ,\n",
       "       1.        , 1.        , 1.        , 1.        , 1.        ,\n",
       "       1.        , 1.        , 1.        , 1.        , 1.        ,\n",
       "       1.        , 1.        , 1.        , 1.        , 1.        ,\n",
       "       1.        , 1.        , 1.        , 0.00735486, 0.        ,\n",
       "       0.00702116, 0.43898693, 0.44362629, 0.74180241, 0.89502883])"
      ]
     },
     "execution_count": 10,
     "metadata": {},
     "output_type": "execute_result"
    }
   ],
   "source": [
    "A"
   ]
  },
  {
   "cell_type": "markdown",
   "id": "6b668f6d-0c6e-4c78-ad89-27dff747cc42",
   "metadata": {},
   "source": [
    "Yes, it did modify the original array. This is due to the the way python handles memory and more specificallym , how Python assigns values to variables. It appears that B is a pointer referencing A so when B is modified, it points to A and thus A is modified as well."
   ]
  },
  {
   "cell_type": "markdown",
   "id": "47a8f2dd-28dc-4623-9160-5495a9f901c9",
   "metadata": {},
   "source": [
    "The difference between `numpy.reshape` and `numpy.resize` is that the `resize` directly modifies the original array where `reshape` tries to return a new object but it can also return a copy. "
   ]
  },
  {
   "cell_type": "markdown",
   "id": "c4dd4c6a-ad0e-4ef8-80d2-b6deebe2aa5d",
   "metadata": {},
   "source": [
    "# Question 2"
   ]
  },
  {
   "cell_type": "code",
   "execution_count": 18,
   "id": "a578681e-8ebd-4283-a534-ed8efdca10a8",
   "metadata": {},
   "outputs": [],
   "source": [
    "import pandas as pd\n",
    "from sklearn.model_selection import train_test_split"
   ]
  },
  {
   "cell_type": "code",
   "execution_count": 17,
   "id": "3783f762-f8e3-4f90-8a1b-bd175a904b2a",
   "metadata": {},
   "outputs": [
    {
     "data": {
      "text/html": [
       "<div>\n",
       "<style scoped>\n",
       "    .dataframe tbody tr th:only-of-type {\n",
       "        vertical-align: middle;\n",
       "    }\n",
       "\n",
       "    .dataframe tbody tr th {\n",
       "        vertical-align: top;\n",
       "    }\n",
       "\n",
       "    .dataframe thead th {\n",
       "        text-align: right;\n",
       "    }\n",
       "</style>\n",
       "<table border=\"1\" class=\"dataframe\">\n",
       "  <thead>\n",
       "    <tr style=\"text-align: right;\">\n",
       "      <th></th>\n",
       "      <th>school</th>\n",
       "      <th>sex</th>\n",
       "      <th>age</th>\n",
       "      <th>address</th>\n",
       "      <th>famsize</th>\n",
       "      <th>Pstatus</th>\n",
       "      <th>Medu</th>\n",
       "      <th>Fedu</th>\n",
       "      <th>Mjob</th>\n",
       "      <th>Fjob</th>\n",
       "      <th>...</th>\n",
       "      <th>famrel</th>\n",
       "      <th>freetime</th>\n",
       "      <th>goout</th>\n",
       "      <th>Dalc</th>\n",
       "      <th>Walc</th>\n",
       "      <th>health</th>\n",
       "      <th>absences</th>\n",
       "      <th>G1</th>\n",
       "      <th>G2</th>\n",
       "      <th>G3</th>\n",
       "    </tr>\n",
       "  </thead>\n",
       "  <tbody>\n",
       "    <tr>\n",
       "      <th>0</th>\n",
       "      <td>GP</td>\n",
       "      <td>F</td>\n",
       "      <td>18</td>\n",
       "      <td>U</td>\n",
       "      <td>GT3</td>\n",
       "      <td>A</td>\n",
       "      <td>4</td>\n",
       "      <td>4</td>\n",
       "      <td>at_home</td>\n",
       "      <td>teacher</td>\n",
       "      <td>...</td>\n",
       "      <td>4</td>\n",
       "      <td>3</td>\n",
       "      <td>4</td>\n",
       "      <td>1</td>\n",
       "      <td>1</td>\n",
       "      <td>3</td>\n",
       "      <td>6</td>\n",
       "      <td>5</td>\n",
       "      <td>6</td>\n",
       "      <td>6</td>\n",
       "    </tr>\n",
       "    <tr>\n",
       "      <th>1</th>\n",
       "      <td>GP</td>\n",
       "      <td>F</td>\n",
       "      <td>17</td>\n",
       "      <td>U</td>\n",
       "      <td>GT3</td>\n",
       "      <td>T</td>\n",
       "      <td>1</td>\n",
       "      <td>1</td>\n",
       "      <td>at_home</td>\n",
       "      <td>other</td>\n",
       "      <td>...</td>\n",
       "      <td>5</td>\n",
       "      <td>3</td>\n",
       "      <td>3</td>\n",
       "      <td>1</td>\n",
       "      <td>1</td>\n",
       "      <td>3</td>\n",
       "      <td>4</td>\n",
       "      <td>5</td>\n",
       "      <td>5</td>\n",
       "      <td>6</td>\n",
       "    </tr>\n",
       "    <tr>\n",
       "      <th>2</th>\n",
       "      <td>GP</td>\n",
       "      <td>F</td>\n",
       "      <td>15</td>\n",
       "      <td>U</td>\n",
       "      <td>LE3</td>\n",
       "      <td>T</td>\n",
       "      <td>1</td>\n",
       "      <td>1</td>\n",
       "      <td>at_home</td>\n",
       "      <td>other</td>\n",
       "      <td>...</td>\n",
       "      <td>4</td>\n",
       "      <td>3</td>\n",
       "      <td>2</td>\n",
       "      <td>2</td>\n",
       "      <td>3</td>\n",
       "      <td>3</td>\n",
       "      <td>10</td>\n",
       "      <td>7</td>\n",
       "      <td>8</td>\n",
       "      <td>10</td>\n",
       "    </tr>\n",
       "    <tr>\n",
       "      <th>3</th>\n",
       "      <td>GP</td>\n",
       "      <td>F</td>\n",
       "      <td>15</td>\n",
       "      <td>U</td>\n",
       "      <td>GT3</td>\n",
       "      <td>T</td>\n",
       "      <td>4</td>\n",
       "      <td>2</td>\n",
       "      <td>health</td>\n",
       "      <td>services</td>\n",
       "      <td>...</td>\n",
       "      <td>3</td>\n",
       "      <td>2</td>\n",
       "      <td>2</td>\n",
       "      <td>1</td>\n",
       "      <td>1</td>\n",
       "      <td>5</td>\n",
       "      <td>2</td>\n",
       "      <td>15</td>\n",
       "      <td>14</td>\n",
       "      <td>15</td>\n",
       "    </tr>\n",
       "    <tr>\n",
       "      <th>4</th>\n",
       "      <td>GP</td>\n",
       "      <td>F</td>\n",
       "      <td>16</td>\n",
       "      <td>U</td>\n",
       "      <td>GT3</td>\n",
       "      <td>T</td>\n",
       "      <td>3</td>\n",
       "      <td>3</td>\n",
       "      <td>other</td>\n",
       "      <td>other</td>\n",
       "      <td>...</td>\n",
       "      <td>4</td>\n",
       "      <td>3</td>\n",
       "      <td>2</td>\n",
       "      <td>1</td>\n",
       "      <td>2</td>\n",
       "      <td>5</td>\n",
       "      <td>4</td>\n",
       "      <td>6</td>\n",
       "      <td>10</td>\n",
       "      <td>10</td>\n",
       "    </tr>\n",
       "  </tbody>\n",
       "</table>\n",
       "<p>5 rows × 33 columns</p>\n",
       "</div>"
      ],
      "text/plain": [
       "  school sex  age address famsize Pstatus  Medu  Fedu     Mjob      Fjob  ...  \\\n",
       "0     GP   F   18       U     GT3       A     4     4  at_home   teacher  ...   \n",
       "1     GP   F   17       U     GT3       T     1     1  at_home     other  ...   \n",
       "2     GP   F   15       U     LE3       T     1     1  at_home     other  ...   \n",
       "3     GP   F   15       U     GT3       T     4     2   health  services  ...   \n",
       "4     GP   F   16       U     GT3       T     3     3    other     other  ...   \n",
       "\n",
       "  famrel freetime  goout  Dalc  Walc health absences  G1  G2  G3  \n",
       "0      4        3      4     1     1      3        6   5   6   6  \n",
       "1      5        3      3     1     1      3        4   5   5   6  \n",
       "2      4        3      2     2     3      3       10   7   8  10  \n",
       "3      3        2      2     1     1      5        2  15  14  15  \n",
       "4      4        3      2     1     2      5        4   6  10  10  \n",
       "\n",
       "[5 rows x 33 columns]"
      ]
     },
     "execution_count": 17,
     "metadata": {},
     "output_type": "execute_result"
    }
   ],
   "source": [
    "data = pd.read_csv(\"../homework1/student-mat.csv\", sep=\";\")\n",
    "data.head()"
   ]
  },
  {
   "cell_type": "markdown",
   "id": "d8f835bb-bb43-48df-ac3e-c8ec2b9974e6",
   "metadata": {},
   "source": [
    "I will choose my last subset from Homework 1 and I removed `freetime` and `sex`. In their places, I added: `higher` and `schoolsup`.  \n",
    "\n",
    "The subset that I will use for K-means is: `age`, `romantic`, `internet`, `Pstatus`, `health`, `absences`,`goout`, `famsup`, `paid`, `failures`, `higher`, `schoolsup`, and `studytime`. "
   ]
  },
  {
   "cell_type": "code",
   "execution_count": 20,
   "id": "c10e800c-45cc-4db0-aef6-54ab7740aee2",
   "metadata": {},
   "outputs": [
    {
     "data": {
      "text/plain": [
       "0    18\n",
       "1    17\n",
       "2    15\n",
       "3    15\n",
       "4    16\n",
       "Name: age, dtype: int64"
      ]
     },
     "execution_count": 20,
     "metadata": {},
     "output_type": "execute_result"
    }
   ],
   "source": [
    "data.age.head()"
   ]
  },
  {
   "cell_type": "code",
   "execution_count": 21,
   "id": "9f8b336d-bdf9-4295-891d-f27dda6e5b5e",
   "metadata": {},
   "outputs": [
    {
     "data": {
      "text/plain": [
       "0     no\n",
       "1     no\n",
       "2     no\n",
       "3    yes\n",
       "4     no\n",
       "Name: romantic, dtype: object"
      ]
     },
     "execution_count": 21,
     "metadata": {},
     "output_type": "execute_result"
    }
   ],
   "source": [
    "data.romantic.head()"
   ]
  },
  {
   "cell_type": "code",
   "execution_count": 22,
   "id": "935c111e-04f5-4710-bc08-96edd3a89332",
   "metadata": {},
   "outputs": [
    {
     "data": {
      "text/plain": [
       "0     no\n",
       "1    yes\n",
       "2    yes\n",
       "3    yes\n",
       "4     no\n",
       "Name: internet, dtype: object"
      ]
     },
     "execution_count": 22,
     "metadata": {},
     "output_type": "execute_result"
    }
   ],
   "source": [
    "data.internet.head()"
   ]
  },
  {
   "cell_type": "code",
   "execution_count": 23,
   "id": "6c2ffc58-c098-4ff4-8f07-10ec23e412ce",
   "metadata": {},
   "outputs": [
    {
     "data": {
      "text/plain": [
       "0    A\n",
       "1    T\n",
       "2    T\n",
       "3    T\n",
       "4    T\n",
       "Name: Pstatus, dtype: object"
      ]
     },
     "execution_count": 23,
     "metadata": {},
     "output_type": "execute_result"
    }
   ],
   "source": [
    "data.Pstatus.head()"
   ]
  },
  {
   "cell_type": "code",
   "execution_count": 24,
   "id": "7645e5b9-8351-498e-a6f3-e9c1363e8011",
   "metadata": {},
   "outputs": [
    {
     "data": {
      "text/plain": [
       "0    3\n",
       "1    3\n",
       "2    3\n",
       "3    5\n",
       "4    5\n",
       "Name: health, dtype: int64"
      ]
     },
     "execution_count": 24,
     "metadata": {},
     "output_type": "execute_result"
    }
   ],
   "source": [
    "data.health.head()"
   ]
  },
  {
   "cell_type": "code",
   "execution_count": 25,
   "id": "85b4a0fc-69f4-46ae-b695-93ba6ac7be1f",
   "metadata": {},
   "outputs": [
    {
     "data": {
      "text/plain": [
       "0     6\n",
       "1     4\n",
       "2    10\n",
       "3     2\n",
       "4     4\n",
       "Name: absences, dtype: int64"
      ]
     },
     "execution_count": 25,
     "metadata": {},
     "output_type": "execute_result"
    }
   ],
   "source": [
    "data.absences.head()"
   ]
  },
  {
   "cell_type": "code",
   "execution_count": 26,
   "id": "0754747c-79d0-40a5-bce3-32a8f14d00db",
   "metadata": {},
   "outputs": [
    {
     "data": {
      "text/plain": [
       "0    4\n",
       "1    3\n",
       "2    2\n",
       "3    2\n",
       "4    2\n",
       "Name: goout, dtype: int64"
      ]
     },
     "execution_count": 26,
     "metadata": {},
     "output_type": "execute_result"
    }
   ],
   "source": [
    "data.goout.head()"
   ]
  },
  {
   "cell_type": "code",
   "execution_count": 27,
   "id": "5e302106-5091-4cfc-8390-04a49a474738",
   "metadata": {},
   "outputs": [
    {
     "data": {
      "text/plain": [
       "0     no\n",
       "1    yes\n",
       "2     no\n",
       "3    yes\n",
       "4    yes\n",
       "Name: famsup, dtype: object"
      ]
     },
     "execution_count": 27,
     "metadata": {},
     "output_type": "execute_result"
    }
   ],
   "source": [
    "data.famsup.head()"
   ]
  },
  {
   "cell_type": "code",
   "execution_count": 28,
   "id": "0f43bebb-795c-417d-a0f8-e2f6248894df",
   "metadata": {},
   "outputs": [
    {
     "data": {
      "text/plain": [
       "0     no\n",
       "1     no\n",
       "2    yes\n",
       "3    yes\n",
       "4    yes\n",
       "Name: paid, dtype: object"
      ]
     },
     "execution_count": 28,
     "metadata": {},
     "output_type": "execute_result"
    }
   ],
   "source": [
    "data.paid.head()"
   ]
  },
  {
   "cell_type": "code",
   "execution_count": 30,
   "id": "83b0178b-0288-47ba-9575-b4a56c5c2354",
   "metadata": {},
   "outputs": [
    {
     "data": {
      "text/plain": [
       "0    0\n",
       "1    0\n",
       "2    3\n",
       "3    0\n",
       "4    0\n",
       "Name: failures, dtype: int64"
      ]
     },
     "execution_count": 30,
     "metadata": {},
     "output_type": "execute_result"
    }
   ],
   "source": [
    "data.failures.head()"
   ]
  },
  {
   "cell_type": "code",
   "execution_count": 31,
   "id": "eb148a24-f92c-44f4-9d29-7ab06ec690f4",
   "metadata": {},
   "outputs": [
    {
     "data": {
      "text/plain": [
       "0    yes\n",
       "1    yes\n",
       "2    yes\n",
       "3    yes\n",
       "4    yes\n",
       "Name: higher, dtype: object"
      ]
     },
     "execution_count": 31,
     "metadata": {},
     "output_type": "execute_result"
    }
   ],
   "source": [
    "data.higher.head()"
   ]
  },
  {
   "cell_type": "code",
   "execution_count": 32,
   "id": "d617298d-5a00-4297-84f6-5430751f64dd",
   "metadata": {},
   "outputs": [
    {
     "data": {
      "text/plain": [
       "0    yes\n",
       "1     no\n",
       "2    yes\n",
       "3     no\n",
       "4     no\n",
       "Name: schoolsup, dtype: object"
      ]
     },
     "execution_count": 32,
     "metadata": {},
     "output_type": "execute_result"
    }
   ],
   "source": [
    "data.schoolsup.head()"
   ]
  },
  {
   "cell_type": "code",
   "execution_count": 33,
   "id": "7682f4ef-965e-4cdf-9c1e-ab2bbf2562b4",
   "metadata": {},
   "outputs": [
    {
     "data": {
      "text/plain": [
       "0    2\n",
       "1    2\n",
       "2    2\n",
       "3    3\n",
       "4    2\n",
       "Name: studytime, dtype: int64"
      ]
     },
     "execution_count": 33,
     "metadata": {},
     "output_type": "execute_result"
    }
   ],
   "source": [
    "data.studytime.head()"
   ]
  },
  {
   "cell_type": "markdown",
   "id": "e2912633-0666-470d-90dd-ec7d648826e1",
   "metadata": {},
   "source": [
    "From the data above, we can see that we need to apply numerical categories to: `romantic`, `internet`, `Pstatus`, `famsup`, `paid`, `higher`, and `schoolsup`.\n",
    "\n",
    ": `age`, `romantic`, `internet`, `Pstatus`, `health`, `absences`,`goout`, `famsup`, `paid`, `failures`, `higher`, `schoolsup`, and `studytime`. "
   ]
  },
  {
   "cell_type": "code",
   "execution_count": 47,
   "id": "0706fe86-e643-43c0-bb2b-caf08d371c5d",
   "metadata": {},
   "outputs": [],
   "source": [
    "selectedData = data[['age', 'romantic', 'internet', 'Pstatus', 'health', \n",
    "                     'absences', 'goout', 'famsup', 'paid', 'failures', 'higher',\n",
    "                     'schoolsup', 'studytime', 'G3']]"
   ]
  },
  {
   "cell_type": "code",
   "execution_count": 48,
   "id": "7004b8d7-0c48-4190-a889-250ea405d17b",
   "metadata": {},
   "outputs": [
    {
     "data": {
      "text/html": [
       "<div>\n",
       "<style scoped>\n",
       "    .dataframe tbody tr th:only-of-type {\n",
       "        vertical-align: middle;\n",
       "    }\n",
       "\n",
       "    .dataframe tbody tr th {\n",
       "        vertical-align: top;\n",
       "    }\n",
       "\n",
       "    .dataframe thead th {\n",
       "        text-align: right;\n",
       "    }\n",
       "</style>\n",
       "<table border=\"1\" class=\"dataframe\">\n",
       "  <thead>\n",
       "    <tr style=\"text-align: right;\">\n",
       "      <th></th>\n",
       "      <th>age</th>\n",
       "      <th>romantic</th>\n",
       "      <th>internet</th>\n",
       "      <th>Pstatus</th>\n",
       "      <th>health</th>\n",
       "      <th>absences</th>\n",
       "      <th>goout</th>\n",
       "      <th>famsup</th>\n",
       "      <th>paid</th>\n",
       "      <th>failures</th>\n",
       "      <th>higher</th>\n",
       "      <th>schoolsup</th>\n",
       "      <th>studytime</th>\n",
       "      <th>G3</th>\n",
       "    </tr>\n",
       "  </thead>\n",
       "  <tbody>\n",
       "    <tr>\n",
       "      <th>0</th>\n",
       "      <td>18</td>\n",
       "      <td>no</td>\n",
       "      <td>no</td>\n",
       "      <td>A</td>\n",
       "      <td>3</td>\n",
       "      <td>6</td>\n",
       "      <td>4</td>\n",
       "      <td>no</td>\n",
       "      <td>no</td>\n",
       "      <td>0</td>\n",
       "      <td>yes</td>\n",
       "      <td>yes</td>\n",
       "      <td>2</td>\n",
       "      <td>6</td>\n",
       "    </tr>\n",
       "    <tr>\n",
       "      <th>1</th>\n",
       "      <td>17</td>\n",
       "      <td>no</td>\n",
       "      <td>yes</td>\n",
       "      <td>T</td>\n",
       "      <td>3</td>\n",
       "      <td>4</td>\n",
       "      <td>3</td>\n",
       "      <td>yes</td>\n",
       "      <td>no</td>\n",
       "      <td>0</td>\n",
       "      <td>yes</td>\n",
       "      <td>no</td>\n",
       "      <td>2</td>\n",
       "      <td>6</td>\n",
       "    </tr>\n",
       "    <tr>\n",
       "      <th>2</th>\n",
       "      <td>15</td>\n",
       "      <td>no</td>\n",
       "      <td>yes</td>\n",
       "      <td>T</td>\n",
       "      <td>3</td>\n",
       "      <td>10</td>\n",
       "      <td>2</td>\n",
       "      <td>no</td>\n",
       "      <td>yes</td>\n",
       "      <td>3</td>\n",
       "      <td>yes</td>\n",
       "      <td>yes</td>\n",
       "      <td>2</td>\n",
       "      <td>10</td>\n",
       "    </tr>\n",
       "    <tr>\n",
       "      <th>3</th>\n",
       "      <td>15</td>\n",
       "      <td>yes</td>\n",
       "      <td>yes</td>\n",
       "      <td>T</td>\n",
       "      <td>5</td>\n",
       "      <td>2</td>\n",
       "      <td>2</td>\n",
       "      <td>yes</td>\n",
       "      <td>yes</td>\n",
       "      <td>0</td>\n",
       "      <td>yes</td>\n",
       "      <td>no</td>\n",
       "      <td>3</td>\n",
       "      <td>15</td>\n",
       "    </tr>\n",
       "    <tr>\n",
       "      <th>4</th>\n",
       "      <td>16</td>\n",
       "      <td>no</td>\n",
       "      <td>no</td>\n",
       "      <td>T</td>\n",
       "      <td>5</td>\n",
       "      <td>4</td>\n",
       "      <td>2</td>\n",
       "      <td>yes</td>\n",
       "      <td>yes</td>\n",
       "      <td>0</td>\n",
       "      <td>yes</td>\n",
       "      <td>no</td>\n",
       "      <td>2</td>\n",
       "      <td>10</td>\n",
       "    </tr>\n",
       "  </tbody>\n",
       "</table>\n",
       "</div>"
      ],
      "text/plain": [
       "   age romantic internet Pstatus  health  absences  goout famsup paid  \\\n",
       "0   18       no       no       A       3         6      4     no   no   \n",
       "1   17       no      yes       T       3         4      3    yes   no   \n",
       "2   15       no      yes       T       3        10      2     no  yes   \n",
       "3   15      yes      yes       T       5         2      2    yes  yes   \n",
       "4   16       no       no       T       5         4      2    yes  yes   \n",
       "\n",
       "   failures higher schoolsup  studytime  G3  \n",
       "0         0    yes       yes          2   6  \n",
       "1         0    yes        no          2   6  \n",
       "2         3    yes       yes          2  10  \n",
       "3         0    yes        no          3  15  \n",
       "4         0    yes        no          2  10  "
      ]
     },
     "execution_count": 48,
     "metadata": {},
     "output_type": "execute_result"
    }
   ],
   "source": [
    "selectedData.head()"
   ]
  },
  {
   "cell_type": "code",
   "execution_count": 49,
   "id": "3f9b1068-4d75-46f1-95c2-41f12ff5048c",
   "metadata": {},
   "outputs": [],
   "source": [
    "binaryFeatures = ['romantic', 'internet', 'Pstatus', 'famsup', 'paid', 'higher', 'schoolsup']"
   ]
  },
  {
   "cell_type": "code",
   "execution_count": 50,
   "id": "a9f57183-e4d6-4c8f-9ac5-f7f1e4ca01e0",
   "metadata": {},
   "outputs": [
    {
     "name": "stderr",
     "output_type": "stream",
     "text": [
      "/var/folders/0s/cwxnf6m51pj2nyh3t2ty55gh0000gn/T/ipykernel_32814/2833006768.py:1: SettingWithCopyWarning: \n",
      "A value is trying to be set on a copy of a slice from a DataFrame.\n",
      "Try using .loc[row_indexer,col_indexer] = value instead\n",
      "\n",
      "See the caveats in the documentation: https://pandas.pydata.org/pandas-docs/stable/user_guide/indexing.html#returning-a-view-versus-a-copy\n",
      "  selectedData.romantic = pd.Categorical(selectedData.romantic).codes\n",
      "/var/folders/0s/cwxnf6m51pj2nyh3t2ty55gh0000gn/T/ipykernel_32814/2833006768.py:2: SettingWithCopyWarning: \n",
      "A value is trying to be set on a copy of a slice from a DataFrame.\n",
      "Try using .loc[row_indexer,col_indexer] = value instead\n",
      "\n",
      "See the caveats in the documentation: https://pandas.pydata.org/pandas-docs/stable/user_guide/indexing.html#returning-a-view-versus-a-copy\n",
      "  selectedData.internet = pd.Categorical(selectedData.internet).codes\n",
      "/var/folders/0s/cwxnf6m51pj2nyh3t2ty55gh0000gn/T/ipykernel_32814/2833006768.py:3: SettingWithCopyWarning: \n",
      "A value is trying to be set on a copy of a slice from a DataFrame.\n",
      "Try using .loc[row_indexer,col_indexer] = value instead\n",
      "\n",
      "See the caveats in the documentation: https://pandas.pydata.org/pandas-docs/stable/user_guide/indexing.html#returning-a-view-versus-a-copy\n",
      "  selectedData.Pstatus = pd.Categorical(selectedData.Pstatus).codes\n",
      "/var/folders/0s/cwxnf6m51pj2nyh3t2ty55gh0000gn/T/ipykernel_32814/2833006768.py:4: SettingWithCopyWarning: \n",
      "A value is trying to be set on a copy of a slice from a DataFrame.\n",
      "Try using .loc[row_indexer,col_indexer] = value instead\n",
      "\n",
      "See the caveats in the documentation: https://pandas.pydata.org/pandas-docs/stable/user_guide/indexing.html#returning-a-view-versus-a-copy\n",
      "  selectedData.famsup = pd.Categorical(selectedData.famsup).codes\n",
      "/var/folders/0s/cwxnf6m51pj2nyh3t2ty55gh0000gn/T/ipykernel_32814/2833006768.py:5: SettingWithCopyWarning: \n",
      "A value is trying to be set on a copy of a slice from a DataFrame.\n",
      "Try using .loc[row_indexer,col_indexer] = value instead\n",
      "\n",
      "See the caveats in the documentation: https://pandas.pydata.org/pandas-docs/stable/user_guide/indexing.html#returning-a-view-versus-a-copy\n",
      "  selectedData.paid = pd.Categorical(selectedData.paid).codes\n",
      "/var/folders/0s/cwxnf6m51pj2nyh3t2ty55gh0000gn/T/ipykernel_32814/2833006768.py:6: SettingWithCopyWarning: \n",
      "A value is trying to be set on a copy of a slice from a DataFrame.\n",
      "Try using .loc[row_indexer,col_indexer] = value instead\n",
      "\n",
      "See the caveats in the documentation: https://pandas.pydata.org/pandas-docs/stable/user_guide/indexing.html#returning-a-view-versus-a-copy\n",
      "  selectedData.higher = pd.Categorical(selectedData.higher).codes\n",
      "/var/folders/0s/cwxnf6m51pj2nyh3t2ty55gh0000gn/T/ipykernel_32814/2833006768.py:7: SettingWithCopyWarning: \n",
      "A value is trying to be set on a copy of a slice from a DataFrame.\n",
      "Try using .loc[row_indexer,col_indexer] = value instead\n",
      "\n",
      "See the caveats in the documentation: https://pandas.pydata.org/pandas-docs/stable/user_guide/indexing.html#returning-a-view-versus-a-copy\n",
      "  selectedData.schoolsup = pd.Categorical(selectedData.schoolsup).codes\n"
     ]
    },
    {
     "data": {
      "text/html": [
       "<div>\n",
       "<style scoped>\n",
       "    .dataframe tbody tr th:only-of-type {\n",
       "        vertical-align: middle;\n",
       "    }\n",
       "\n",
       "    .dataframe tbody tr th {\n",
       "        vertical-align: top;\n",
       "    }\n",
       "\n",
       "    .dataframe thead th {\n",
       "        text-align: right;\n",
       "    }\n",
       "</style>\n",
       "<table border=\"1\" class=\"dataframe\">\n",
       "  <thead>\n",
       "    <tr style=\"text-align: right;\">\n",
       "      <th></th>\n",
       "      <th>age</th>\n",
       "      <th>romantic</th>\n",
       "      <th>internet</th>\n",
       "      <th>Pstatus</th>\n",
       "      <th>health</th>\n",
       "      <th>absences</th>\n",
       "      <th>goout</th>\n",
       "      <th>famsup</th>\n",
       "      <th>paid</th>\n",
       "      <th>failures</th>\n",
       "      <th>higher</th>\n",
       "      <th>schoolsup</th>\n",
       "      <th>studytime</th>\n",
       "      <th>G3</th>\n",
       "    </tr>\n",
       "  </thead>\n",
       "  <tbody>\n",
       "    <tr>\n",
       "      <th>0</th>\n",
       "      <td>18</td>\n",
       "      <td>0</td>\n",
       "      <td>0</td>\n",
       "      <td>0</td>\n",
       "      <td>3</td>\n",
       "      <td>6</td>\n",
       "      <td>4</td>\n",
       "      <td>0</td>\n",
       "      <td>0</td>\n",
       "      <td>0</td>\n",
       "      <td>1</td>\n",
       "      <td>1</td>\n",
       "      <td>2</td>\n",
       "      <td>6</td>\n",
       "    </tr>\n",
       "    <tr>\n",
       "      <th>1</th>\n",
       "      <td>17</td>\n",
       "      <td>0</td>\n",
       "      <td>1</td>\n",
       "      <td>1</td>\n",
       "      <td>3</td>\n",
       "      <td>4</td>\n",
       "      <td>3</td>\n",
       "      <td>1</td>\n",
       "      <td>0</td>\n",
       "      <td>0</td>\n",
       "      <td>1</td>\n",
       "      <td>0</td>\n",
       "      <td>2</td>\n",
       "      <td>6</td>\n",
       "    </tr>\n",
       "    <tr>\n",
       "      <th>2</th>\n",
       "      <td>15</td>\n",
       "      <td>0</td>\n",
       "      <td>1</td>\n",
       "      <td>1</td>\n",
       "      <td>3</td>\n",
       "      <td>10</td>\n",
       "      <td>2</td>\n",
       "      <td>0</td>\n",
       "      <td>1</td>\n",
       "      <td>3</td>\n",
       "      <td>1</td>\n",
       "      <td>1</td>\n",
       "      <td>2</td>\n",
       "      <td>10</td>\n",
       "    </tr>\n",
       "    <tr>\n",
       "      <th>3</th>\n",
       "      <td>15</td>\n",
       "      <td>1</td>\n",
       "      <td>1</td>\n",
       "      <td>1</td>\n",
       "      <td>5</td>\n",
       "      <td>2</td>\n",
       "      <td>2</td>\n",
       "      <td>1</td>\n",
       "      <td>1</td>\n",
       "      <td>0</td>\n",
       "      <td>1</td>\n",
       "      <td>0</td>\n",
       "      <td>3</td>\n",
       "      <td>15</td>\n",
       "    </tr>\n",
       "    <tr>\n",
       "      <th>4</th>\n",
       "      <td>16</td>\n",
       "      <td>0</td>\n",
       "      <td>0</td>\n",
       "      <td>1</td>\n",
       "      <td>5</td>\n",
       "      <td>4</td>\n",
       "      <td>2</td>\n",
       "      <td>1</td>\n",
       "      <td>1</td>\n",
       "      <td>0</td>\n",
       "      <td>1</td>\n",
       "      <td>0</td>\n",
       "      <td>2</td>\n",
       "      <td>10</td>\n",
       "    </tr>\n",
       "  </tbody>\n",
       "</table>\n",
       "</div>"
      ],
      "text/plain": [
       "   age  romantic  internet  Pstatus  health  absences  goout  famsup  paid  \\\n",
       "0   18         0         0        0       3         6      4       0     0   \n",
       "1   17         0         1        1       3         4      3       1     0   \n",
       "2   15         0         1        1       3        10      2       0     1   \n",
       "3   15         1         1        1       5         2      2       1     1   \n",
       "4   16         0         0        1       5         4      2       1     1   \n",
       "\n",
       "   failures  higher  schoolsup  studytime  G3  \n",
       "0         0       1          1          2   6  \n",
       "1         0       1          0          2   6  \n",
       "2         3       1          1          2  10  \n",
       "3         0       1          0          3  15  \n",
       "4         0       1          0          2  10  "
      ]
     },
     "execution_count": 50,
     "metadata": {},
     "output_type": "execute_result"
    }
   ],
   "source": [
    "selectedData.romantic = pd.Categorical(selectedData.romantic).codes\n",
    "selectedData.internet = pd.Categorical(selectedData.internet).codes\n",
    "selectedData.Pstatus = pd.Categorical(selectedData.Pstatus).codes\n",
    "selectedData.famsup = pd.Categorical(selectedData.famsup).codes\n",
    "selectedData.paid = pd.Categorical(selectedData.paid).codes\n",
    "selectedData.higher = pd.Categorical(selectedData.higher).codes\n",
    "selectedData.schoolsup = pd.Categorical(selectedData.schoolsup).codes\n",
    "selectedData.head()"
   ]
  },
  {
   "cell_type": "code",
   "execution_count": 53,
   "id": "2343cc29-6f11-42ac-acf9-e4b968dc5e6a",
   "metadata": {},
   "outputs": [],
   "source": [
    "X,y = selectedData, selectedData.loc[:, ['G3']] # train and test with 2 parameters \n",
    "X_train,X_test,y_train,y_test = train_test_split(X,y, test_size=.2)"
   ]
  },
  {
   "cell_type": "code",
   "execution_count": null,
   "id": "b4d9476e-d505-4572-9981-70bb031300d4",
   "metadata": {},
   "outputs": [],
   "source": []
  }
 ],
 "metadata": {
  "kernelspec": {
   "display_name": "Python 3 (ipykernel)",
   "language": "python",
   "name": "python3"
  },
  "language_info": {
   "codemirror_mode": {
    "name": "ipython",
    "version": 3
   },
   "file_extension": ".py",
   "mimetype": "text/x-python",
   "name": "python",
   "nbconvert_exporter": "python",
   "pygments_lexer": "ipython3",
   "version": "3.8.5"
  }
 },
 "nbformat": 4,
 "nbformat_minor": 5
}
