{
 "cells": [
  {
   "cell_type": "markdown",
   "id": "1ae637b1-f256-48b3-b6d6-f5a6b5118b96",
   "metadata": {},
   "source": [
    "Ben Kahan  \n",
    "DS210  \n",
    "Homework 2  \n",
    "Collaborators: none"
   ]
  },
  {
   "cell_type": "code",
   "execution_count": 1,
   "id": "009fe140-fd70-40f2-870e-4d64432677dc",
   "metadata": {},
   "outputs": [],
   "source": [
    "import numpy as np"
   ]
  },
  {
   "cell_type": "markdown",
   "id": "59960fc1-94f6-4721-9304-fd6734e6fb9e",
   "metadata": {},
   "source": [
    "# Question 1"
   ]
  },
  {
   "cell_type": "code",
   "execution_count": 2,
   "id": "d3f274dc-63b4-4681-8a51-729fa743b3b3",
   "metadata": {},
   "outputs": [
    {
     "data": {
      "text/plain": [
       "array([0.77705907, 0.1524523 , 0.69730127, 0.65539378, 0.88934609,\n",
       "       0.85871369, 0.07135603, 0.68803553, 0.98485819, 0.69192367,\n",
       "       0.63233043, 0.81164451, 0.16265036, 0.72100076, 0.7427812 ,\n",
       "       0.77048561, 0.91415767, 0.80714637, 0.26800576, 0.7254081 ,\n",
       "       0.38400698, 0.24450328, 0.98426679, 0.49675951, 0.06049249,\n",
       "       0.03891374, 0.62113934, 0.24209686, 0.08576048, 0.42093651,\n",
       "       0.08379234, 0.66256089, 0.66605277, 0.86127952, 0.94605963])"
      ]
     },
     "execution_count": 2,
     "metadata": {},
     "output_type": "execute_result"
    }
   ],
   "source": [
    "A = np.random.rand(35)\n",
    "A"
   ]
  },
  {
   "cell_type": "code",
   "execution_count": 3,
   "id": "34bafc8c-4aa6-4786-8e81-198572d59f3b",
   "metadata": {},
   "outputs": [
    {
     "name": "stdout",
     "output_type": "stream",
     "text": [
      "0.7770590676982819\n",
      "0.6973012748570396\n",
      "0.6553937841705868\n",
      "0.8893460930267243\n",
      "0.8587136941246958\n",
      "0.6880355301354878\n",
      "0.9848581948938255\n",
      "0.6919236724227836\n",
      "0.6323304349152452\n",
      "0.8116445052324345\n",
      "0.7210007645330389\n",
      "0.7427811994832233\n",
      "0.7704856054654365\n",
      "0.914157670404973\n",
      "0.8071463682257692\n",
      "0.7254081042633956\n",
      "0.9842667931449869\n",
      "0.621139336890205\n",
      "0.6625608877151458\n",
      "0.6660527717748809\n",
      "0.8612795202829662\n",
      "0.9460596323591758\n"
     ]
    }
   ],
   "source": [
    "for x in range(len(A)): \n",
    "    if A[x] > .6: \n",
    "        print(A[x])"
   ]
  },
  {
   "cell_type": "code",
   "execution_count": 4,
   "id": "f2a70048-2b88-4f56-9226-c1bb9bce7d99",
   "metadata": {},
   "outputs": [
    {
     "data": {
      "text/plain": [
       "array([0.60382079, 0.0232417 , 0.48622907, 0.42954101, 0.79093647,\n",
       "       0.73738921, 0.00509168, 0.47339289, 0.96994566, 0.47875837,\n",
       "       0.39984178, 0.6587668 , 0.02645514, 0.5198421 , 0.55172391,\n",
       "       0.59364807, 0.83568425, 0.65148526, 0.07182709, 0.52621692,\n",
       "       0.14746136, 0.05978185, 0.96878112, 0.24677001, 0.00365934,\n",
       "       0.00151428, 0.38581408, 0.05861089, 0.00735486, 0.17718755,\n",
       "       0.00702116, 0.43898693, 0.44362629, 0.74180241, 0.89502883])"
      ]
     },
     "execution_count": 4,
     "metadata": {},
     "output_type": "execute_result"
    }
   ],
   "source": [
    "A = np.square(A)\n",
    "A"
   ]
  },
  {
   "cell_type": "code",
   "execution_count": 5,
   "id": "098f3fcb-1437-4032-95f5-6cfa9f2cbb35",
   "metadata": {},
   "outputs": [
    {
     "data": {
      "text/plain": [
       "array([[0.60382079, 0.0232417 , 0.48622907, 0.42954101, 0.79093647,\n",
       "        0.73738921, 0.00509168],\n",
       "       [0.47339289, 0.96994566, 0.47875837, 0.39984178, 0.6587668 ,\n",
       "        0.02645514, 0.5198421 ],\n",
       "       [0.55172391, 0.59364807, 0.83568425, 0.65148526, 0.07182709,\n",
       "        0.52621692, 0.14746136],\n",
       "       [0.05978185, 0.96878112, 0.24677001, 0.00365934, 0.00151428,\n",
       "        0.38581408, 0.05861089],\n",
       "       [0.00735486, 0.17718755, 0.00702116, 0.43898693, 0.44362629,\n",
       "        0.74180241, 0.89502883]])"
      ]
     },
     "execution_count": 5,
     "metadata": {},
     "output_type": "execute_result"
    }
   ],
   "source": [
    "B = np.reshape(A, (5,7))\n",
    "B"
   ]
  },
  {
   "cell_type": "code",
   "execution_count": 6,
   "id": "00f0408c-8223-4037-8779-c45bdcadc7af",
   "metadata": {},
   "outputs": [
    {
     "name": "stdout",
     "output_type": "stream",
     "text": [
      "0.33921486146559005\n",
      "0.5465608207862636\n",
      "0.41089256916232875\n",
      "0.3847028644736241\n",
      "0.3933341873404578\n",
      "0.4835355509227667\n",
      "0.3252069722293306\n"
     ]
    }
   ],
   "source": [
    "_ , col = B.shape\n",
    "for x in range(col): \n",
    "    print(np.mean(B[:,x]))"
   ]
  },
  {
   "cell_type": "code",
   "execution_count": 7,
   "id": "6662869d-d58e-4c44-89fc-bc3b37daea06",
   "metadata": {},
   "outputs": [],
   "source": [
    "B[:,1] = np.zeros(B[:,1].shape)"
   ]
  },
  {
   "cell_type": "code",
   "execution_count": 8,
   "id": "45336787-2159-46e6-8f73-367e4887712b",
   "metadata": {},
   "outputs": [],
   "source": [
    "for x in range(2,5): \n",
    "    B[x-1,:] = 1 "
   ]
  },
  {
   "cell_type": "code",
   "execution_count": 9,
   "id": "39a1d097-e7d6-44da-be94-9fa9e6fb3603",
   "metadata": {},
   "outputs": [
    {
     "data": {
      "text/plain": [
       "array([[0.60382079, 0.        , 0.48622907, 0.42954101, 0.79093647,\n",
       "        0.73738921, 0.00509168],\n",
       "       [1.        , 1.        , 1.        , 1.        , 1.        ,\n",
       "        1.        , 1.        ],\n",
       "       [1.        , 1.        , 1.        , 1.        , 1.        ,\n",
       "        1.        , 1.        ],\n",
       "       [1.        , 1.        , 1.        , 1.        , 1.        ,\n",
       "        1.        , 1.        ],\n",
       "       [0.00735486, 0.        , 0.00702116, 0.43898693, 0.44362629,\n",
       "        0.74180241, 0.89502883]])"
      ]
     },
     "execution_count": 9,
     "metadata": {},
     "output_type": "execute_result"
    }
   ],
   "source": [
    "B"
   ]
  },
  {
   "cell_type": "code",
   "execution_count": 10,
   "id": "66890f46-f870-4900-b8dd-2613bc534c55",
   "metadata": {},
   "outputs": [
    {
     "data": {
      "text/plain": [
       "array([0.60382079, 0.        , 0.48622907, 0.42954101, 0.79093647,\n",
       "       0.73738921, 0.00509168, 1.        , 1.        , 1.        ,\n",
       "       1.        , 1.        , 1.        , 1.        , 1.        ,\n",
       "       1.        , 1.        , 1.        , 1.        , 1.        ,\n",
       "       1.        , 1.        , 1.        , 1.        , 1.        ,\n",
       "       1.        , 1.        , 1.        , 0.00735486, 0.        ,\n",
       "       0.00702116, 0.43898693, 0.44362629, 0.74180241, 0.89502883])"
      ]
     },
     "execution_count": 10,
     "metadata": {},
     "output_type": "execute_result"
    }
   ],
   "source": [
    "A"
   ]
  },
  {
   "cell_type": "markdown",
   "id": "6b668f6d-0c6e-4c78-ad89-27dff747cc42",
   "metadata": {},
   "source": [
    "Yes, it did modify the original array. This is due to the the way python handles memory and more specificallym , how Python assigns values to variables. It appears that B is a pointer referencing A so when B is modified, it points to A and thus A is modified as well."
   ]
  },
  {
   "cell_type": "markdown",
   "id": "47a8f2dd-28dc-4623-9160-5495a9f901c9",
   "metadata": {},
   "source": [
    "The difference between `numpy.reshape` and `numpy.resize` is that the `resize` directly modifies the original array where `reshape` tries to return a new object but it can also return a copy. "
   ]
  },
  {
   "cell_type": "markdown",
   "id": "c4dd4c6a-ad0e-4ef8-80d2-b6deebe2aa5d",
   "metadata": {},
   "source": [
    "# Question 2"
   ]
  },
  {
   "cell_type": "code",
   "execution_count": 18,
   "id": "a578681e-8ebd-4283-a534-ed8efdca10a8",
   "metadata": {},
   "outputs": [],
   "source": [
    "import pandas as pd\n",
    "from sklearn.model_selection import train_test_split"
   ]
  },
  {
   "cell_type": "code",
   "execution_count": 17,
   "id": "3783f762-f8e3-4f90-8a1b-bd175a904b2a",
   "metadata": {},
   "outputs": [
    {
     "data": {
      "text/html": [
       "<div>\n",
       "<style scoped>\n",
       "    .dataframe tbody tr th:only-of-type {\n",
       "        vertical-align: middle;\n",
       "    }\n",
       "\n",
       "    .dataframe tbody tr th {\n",
       "        vertical-align: top;\n",
       "    }\n",
       "\n",
       "    .dataframe thead th {\n",
       "        text-align: right;\n",
       "    }\n",
       "</style>\n",
       "<table border=\"1\" class=\"dataframe\">\n",
       "  <thead>\n",
       "    <tr style=\"text-align: right;\">\n",
       "      <th></th>\n",
       "      <th>school</th>\n",
       "      <th>sex</th>\n",
       "      <th>age</th>\n",
       "      <th>address</th>\n",
       "      <th>famsize</th>\n",
       "      <th>Pstatus</th>\n",
       "      <th>Medu</th>\n",
       "      <th>Fedu</th>\n",
       "      <th>Mjob</th>\n",
       "      <th>Fjob</th>\n",
       "      <th>...</th>\n",
       "      <th>famrel</th>\n",
       "      <th>freetime</th>\n",
       "      <th>goout</th>\n",
       "      <th>Dalc</th>\n",
       "      <th>Walc</th>\n",
       "      <th>health</th>\n",
       "      <th>absences</th>\n",
       "      <th>G1</th>\n",
       "      <th>G2</th>\n",
       "      <th>G3</th>\n",
       "    </tr>\n",
       "  </thead>\n",
       "  <tbody>\n",
       "    <tr>\n",
       "      <th>0</th>\n",
       "      <td>GP</td>\n",
       "      <td>F</td>\n",
       "      <td>18</td>\n",
       "      <td>U</td>\n",
       "      <td>GT3</td>\n",
       "      <td>A</td>\n",
       "      <td>4</td>\n",
       "      <td>4</td>\n",
       "      <td>at_home</td>\n",
       "      <td>teacher</td>\n",
       "      <td>...</td>\n",
       "      <td>4</td>\n",
       "      <td>3</td>\n",
       "      <td>4</td>\n",
       "      <td>1</td>\n",
       "      <td>1</td>\n",
       "      <td>3</td>\n",
       "      <td>6</td>\n",
       "      <td>5</td>\n",
       "      <td>6</td>\n",
       "      <td>6</td>\n",
       "    </tr>\n",
       "    <tr>\n",
       "      <th>1</th>\n",
       "      <td>GP</td>\n",
       "      <td>F</td>\n",
       "      <td>17</td>\n",
       "      <td>U</td>\n",
       "      <td>GT3</td>\n",
       "      <td>T</td>\n",
       "      <td>1</td>\n",
       "      <td>1</td>\n",
       "      <td>at_home</td>\n",
       "      <td>other</td>\n",
       "      <td>...</td>\n",
       "      <td>5</td>\n",
       "      <td>3</td>\n",
       "      <td>3</td>\n",
       "      <td>1</td>\n",
       "      <td>1</td>\n",
       "      <td>3</td>\n",
       "      <td>4</td>\n",
       "      <td>5</td>\n",
       "      <td>5</td>\n",
       "      <td>6</td>\n",
       "    </tr>\n",
       "    <tr>\n",
       "      <th>2</th>\n",
       "      <td>GP</td>\n",
       "      <td>F</td>\n",
       "      <td>15</td>\n",
       "      <td>U</td>\n",
       "      <td>LE3</td>\n",
       "      <td>T</td>\n",
       "      <td>1</td>\n",
       "      <td>1</td>\n",
       "      <td>at_home</td>\n",
       "      <td>other</td>\n",
       "      <td>...</td>\n",
       "      <td>4</td>\n",
       "      <td>3</td>\n",
       "      <td>2</td>\n",
       "      <td>2</td>\n",
       "      <td>3</td>\n",
       "      <td>3</td>\n",
       "      <td>10</td>\n",
       "      <td>7</td>\n",
       "      <td>8</td>\n",
       "      <td>10</td>\n",
       "    </tr>\n",
       "    <tr>\n",
       "      <th>3</th>\n",
       "      <td>GP</td>\n",
       "      <td>F</td>\n",
       "      <td>15</td>\n",
       "      <td>U</td>\n",
       "      <td>GT3</td>\n",
       "      <td>T</td>\n",
       "      <td>4</td>\n",
       "      <td>2</td>\n",
       "      <td>health</td>\n",
       "      <td>services</td>\n",
       "      <td>...</td>\n",
       "      <td>3</td>\n",
       "      <td>2</td>\n",
       "      <td>2</td>\n",
       "      <td>1</td>\n",
       "      <td>1</td>\n",
       "      <td>5</td>\n",
       "      <td>2</td>\n",
       "      <td>15</td>\n",
       "      <td>14</td>\n",
       "      <td>15</td>\n",
       "    </tr>\n",
       "    <tr>\n",
       "      <th>4</th>\n",
       "      <td>GP</td>\n",
       "      <td>F</td>\n",
       "      <td>16</td>\n",
       "      <td>U</td>\n",
       "      <td>GT3</td>\n",
       "      <td>T</td>\n",
       "      <td>3</td>\n",
       "      <td>3</td>\n",
       "      <td>other</td>\n",
       "      <td>other</td>\n",
       "      <td>...</td>\n",
       "      <td>4</td>\n",
       "      <td>3</td>\n",
       "      <td>2</td>\n",
       "      <td>1</td>\n",
       "      <td>2</td>\n",
       "      <td>5</td>\n",
       "      <td>4</td>\n",
       "      <td>6</td>\n",
       "      <td>10</td>\n",
       "      <td>10</td>\n",
       "    </tr>\n",
       "  </tbody>\n",
       "</table>\n",
       "<p>5 rows × 33 columns</p>\n",
       "</div>"
      ],
      "text/plain": [
       "  school sex  age address famsize Pstatus  Medu  Fedu     Mjob      Fjob  ...  \\\n",
       "0     GP   F   18       U     GT3       A     4     4  at_home   teacher  ...   \n",
       "1     GP   F   17       U     GT3       T     1     1  at_home     other  ...   \n",
       "2     GP   F   15       U     LE3       T     1     1  at_home     other  ...   \n",
       "3     GP   F   15       U     GT3       T     4     2   health  services  ...   \n",
       "4     GP   F   16       U     GT3       T     3     3    other     other  ...   \n",
       "\n",
       "  famrel freetime  goout  Dalc  Walc health absences  G1  G2  G3  \n",
       "0      4        3      4     1     1      3        6   5   6   6  \n",
       "1      5        3      3     1     1      3        4   5   5   6  \n",
       "2      4        3      2     2     3      3       10   7   8  10  \n",
       "3      3        2      2     1     1      5        2  15  14  15  \n",
       "4      4        3      2     1     2      5        4   6  10  10  \n",
       "\n",
       "[5 rows x 33 columns]"
      ]
     },
     "execution_count": 17,
     "metadata": {},
     "output_type": "execute_result"
    }
   ],
   "source": [
    "data = pd.read_csv(\"../homework1/student-mat.csv\", sep=\";\")\n",
    "data.head()"
   ]
  },
  {
   "cell_type": "markdown",
   "id": "d8f835bb-bb43-48df-ac3e-c8ec2b9974e6",
   "metadata": {},
   "source": [
    "I will choose my last subset from Homework 1 and I removed `freetime` and `sex`. In their places, I added: `higher` and `schoolsup`.  \n",
    "\n",
    "The subset that I will use for K-means is: `age`, `romantic`, `internet`, `Pstatus`, `health`, `absences`,`goout`, `famsup`, `paid`, `failures`, `higher`, `schoolsup`, and `studytime`. "
   ]
  },
  {
   "cell_type": "code",
   "execution_count": null,
   "id": "c10e800c-45cc-4db0-aef6-54ab7740aee2",
   "metadata": {},
   "outputs": [],
   "source": []
  }
 ],
 "metadata": {
  "kernelspec": {
   "display_name": "Python 3 (ipykernel)",
   "language": "python",
   "name": "python3"
  },
  "language_info": {
   "codemirror_mode": {
    "name": "ipython",
    "version": 3
   },
   "file_extension": ".py",
   "mimetype": "text/x-python",
   "name": "python",
   "nbconvert_exporter": "python",
   "pygments_lexer": "ipython3",
   "version": "3.8.5"
  }
 },
 "nbformat": 4,
 "nbformat_minor": 5
}
