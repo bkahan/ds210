{
 "cells": [
  {
   "cell_type": "markdown",
   "id": "1ae637b1-f256-48b3-b6d6-f5a6b5118b96",
   "metadata": {},
   "source": [
    "Ben Kahan  \n",
    "DS210  \n",
    "Homework 2  \n",
    "Collaborators: none"
   ]
  },
  {
   "cell_type": "code",
   "execution_count": 1,
   "id": "009fe140-fd70-40f2-870e-4d64432677dc",
   "metadata": {},
   "outputs": [],
   "source": [
    "import numpy as np"
   ]
  },
  {
   "cell_type": "markdown",
   "id": "59960fc1-94f6-4721-9304-fd6734e6fb9e",
   "metadata": {},
   "source": [
    "# Question 1"
   ]
  },
  {
   "cell_type": "code",
   "execution_count": 2,
   "id": "d3f274dc-63b4-4681-8a51-729fa743b3b3",
   "metadata": {},
   "outputs": [
    {
     "data": {
      "text/plain": [
       "array([0.36642716, 0.00895642, 0.02783962, 0.61113034, 0.08669757,\n",
       "       0.4579425 , 0.0123766 , 0.83592322, 0.39647838, 0.36561533,\n",
       "       0.60262127, 0.67533583, 0.75353417, 0.52958923, 0.20951235,\n",
       "       0.95184034, 0.45508616, 0.60011204, 0.59014783, 0.19386474,\n",
       "       0.31644474, 0.95429487, 0.67934482, 0.55425075, 0.66977937,\n",
       "       0.90107637, 0.91110044, 0.35609049, 0.48691169, 0.31765915,\n",
       "       0.4100885 , 0.80231285, 0.90982749, 0.55518333, 0.61689371])"
      ]
     },
     "execution_count": 2,
     "metadata": {},
     "output_type": "execute_result"
    }
   ],
   "source": [
    "A = np.random.rand(35)\n",
    "A"
   ]
  },
  {
   "cell_type": "code",
   "execution_count": 3,
   "id": "34bafc8c-4aa6-4786-8e81-198572d59f3b",
   "metadata": {},
   "outputs": [
    {
     "name": "stdout",
     "output_type": "stream",
     "text": [
      "0.6111303433329154\n",
      "0.8359232209400121\n",
      "0.602621265882192\n",
      "0.6753358277739218\n",
      "0.7535341686314428\n",
      "0.9518403399123071\n",
      "0.6001120410042058\n",
      "0.9542948673019473\n",
      "0.6793448215813842\n",
      "0.6697793725474829\n",
      "0.9010763745667979\n",
      "0.9111004400960925\n",
      "0.8023128506290879\n",
      "0.9098274921510431\n",
      "0.6168937130681448\n"
     ]
    }
   ],
   "source": [
    "for x in range(len(A)): \n",
    "    if A[x] > .6: \n",
    "        print(A[x])"
   ]
  },
  {
   "cell_type": "code",
   "execution_count": 4,
   "id": "f2a70048-2b88-4f56-9226-c1bb9bce7d99",
   "metadata": {},
   "outputs": [
    {
     "data": {
      "text/plain": [
       "array([1.34268862e-01, 8.02174301e-05, 7.75044461e-04, 3.73480297e-01,\n",
       "       7.51646860e-03, 2.09711337e-01, 1.53180268e-04, 6.98767631e-01,\n",
       "       1.57195102e-01, 1.33674568e-01, 3.63152390e-01, 4.56078480e-01,\n",
       "       5.67813743e-01, 2.80464749e-01, 4.38954259e-02, 9.06000033e-01,\n",
       "       2.07103413e-01, 3.60134462e-01, 3.48274464e-01, 3.75835387e-02,\n",
       "       1.00137273e-01, 9.10678694e-01, 4.61509387e-01, 3.07193899e-01,\n",
       "       4.48604408e-01, 8.11938633e-01, 8.30104012e-01, 1.26800441e-01,\n",
       "       2.37082992e-01, 1.00907335e-01, 1.68172579e-01, 6.43705910e-01,\n",
       "       8.27786065e-01, 3.08228532e-01, 3.80557853e-01])"
      ]
     },
     "execution_count": 4,
     "metadata": {},
     "output_type": "execute_result"
    }
   ],
   "source": [
    "A = np.square(A)\n",
    "A"
   ]
  },
  {
   "cell_type": "code",
   "execution_count": 5,
   "id": "098f3fcb-1437-4032-95f5-6cfa9f2cbb35",
   "metadata": {},
   "outputs": [
    {
     "data": {
      "text/plain": [
       "array([[1.34268862e-01, 8.02174301e-05, 7.75044461e-04, 3.73480297e-01,\n",
       "        7.51646860e-03, 2.09711337e-01, 1.53180268e-04],\n",
       "       [6.98767631e-01, 1.57195102e-01, 1.33674568e-01, 3.63152390e-01,\n",
       "        4.56078480e-01, 5.67813743e-01, 2.80464749e-01],\n",
       "       [4.38954259e-02, 9.06000033e-01, 2.07103413e-01, 3.60134462e-01,\n",
       "        3.48274464e-01, 3.75835387e-02, 1.00137273e-01],\n",
       "       [9.10678694e-01, 4.61509387e-01, 3.07193899e-01, 4.48604408e-01,\n",
       "        8.11938633e-01, 8.30104012e-01, 1.26800441e-01],\n",
       "       [2.37082992e-01, 1.00907335e-01, 1.68172579e-01, 6.43705910e-01,\n",
       "        8.27786065e-01, 3.08228532e-01, 3.80557853e-01]])"
      ]
     },
     "execution_count": 5,
     "metadata": {},
     "output_type": "execute_result"
    }
   ],
   "source": [
    "B = np.reshape(A, (5,7))\n",
    "B"
   ]
  },
  {
   "cell_type": "code",
   "execution_count": 6,
   "id": "00f0408c-8223-4037-8779-c45bdcadc7af",
   "metadata": {},
   "outputs": [
    {
     "name": "stdout",
     "output_type": "stream",
     "text": [
      "0.4049387209763598\n",
      "0.32513841481066097\n",
      "0.16338390065609767\n",
      "0.4378154933137138\n",
      "0.4903188223178157\n",
      "0.39068823256452356\n",
      "0.1776226991860168\n"
     ]
    }
   ],
   "source": [
    "_ , col = B.shape\n",
    "for x in range(col): \n",
    "    print(np.mean(B[:,x]))"
   ]
  },
  {
   "cell_type": "code",
   "execution_count": 7,
   "id": "6662869d-d58e-4c44-89fc-bc3b37daea06",
   "metadata": {},
   "outputs": [],
   "source": [
    "B[:,1] = np.zeros(B[:,1].shape)"
   ]
  },
  {
   "cell_type": "code",
   "execution_count": 8,
   "id": "45336787-2159-46e6-8f73-367e4887712b",
   "metadata": {},
   "outputs": [],
   "source": [
    "for x in range(2,5): \n",
    "    B[x-1,:] = 1 "
   ]
  },
  {
   "cell_type": "code",
   "execution_count": 9,
   "id": "39a1d097-e7d6-44da-be94-9fa9e6fb3603",
   "metadata": {},
   "outputs": [
    {
     "data": {
      "text/plain": [
       "array([[1.34268862e-01, 0.00000000e+00, 7.75044461e-04, 3.73480297e-01,\n",
       "        7.51646860e-03, 2.09711337e-01, 1.53180268e-04],\n",
       "       [1.00000000e+00, 1.00000000e+00, 1.00000000e+00, 1.00000000e+00,\n",
       "        1.00000000e+00, 1.00000000e+00, 1.00000000e+00],\n",
       "       [1.00000000e+00, 1.00000000e+00, 1.00000000e+00, 1.00000000e+00,\n",
       "        1.00000000e+00, 1.00000000e+00, 1.00000000e+00],\n",
       "       [1.00000000e+00, 1.00000000e+00, 1.00000000e+00, 1.00000000e+00,\n",
       "        1.00000000e+00, 1.00000000e+00, 1.00000000e+00],\n",
       "       [2.37082992e-01, 0.00000000e+00, 1.68172579e-01, 6.43705910e-01,\n",
       "        8.27786065e-01, 3.08228532e-01, 3.80557853e-01]])"
      ]
     },
     "execution_count": 9,
     "metadata": {},
     "output_type": "execute_result"
    }
   ],
   "source": [
    "B"
   ]
  },
  {
   "cell_type": "code",
   "execution_count": 10,
   "id": "66890f46-f870-4900-b8dd-2613bc534c55",
   "metadata": {},
   "outputs": [
    {
     "data": {
      "text/plain": [
       "array([1.34268862e-01, 0.00000000e+00, 7.75044461e-04, 3.73480297e-01,\n",
       "       7.51646860e-03, 2.09711337e-01, 1.53180268e-04, 1.00000000e+00,\n",
       "       1.00000000e+00, 1.00000000e+00, 1.00000000e+00, 1.00000000e+00,\n",
       "       1.00000000e+00, 1.00000000e+00, 1.00000000e+00, 1.00000000e+00,\n",
       "       1.00000000e+00, 1.00000000e+00, 1.00000000e+00, 1.00000000e+00,\n",
       "       1.00000000e+00, 1.00000000e+00, 1.00000000e+00, 1.00000000e+00,\n",
       "       1.00000000e+00, 1.00000000e+00, 1.00000000e+00, 1.00000000e+00,\n",
       "       2.37082992e-01, 0.00000000e+00, 1.68172579e-01, 6.43705910e-01,\n",
       "       8.27786065e-01, 3.08228532e-01, 3.80557853e-01])"
      ]
     },
     "execution_count": 10,
     "metadata": {},
     "output_type": "execute_result"
    }
   ],
   "source": [
    "A"
   ]
  },
  {
   "cell_type": "markdown",
   "id": "6b668f6d-0c6e-4c78-ad89-27dff747cc42",
   "metadata": {},
   "source": [
    "Yes, it did modify the original array. This is due to the the way python handles memory and more specificallym , how Python assigns values to variables. It appears that B is a pointer referencing A so when B is modified, it points to A and thus A is modified as well."
   ]
  },
  {
   "cell_type": "markdown",
   "id": "47a8f2dd-28dc-4623-9160-5495a9f901c9",
   "metadata": {},
   "source": [
    "The difference between `numpy.reshape` and `numpy.resize` is that the `resize` directly modifies the original array where `reshape` tries to return a new object but it can also return a copy. "
   ]
  },
  {
   "cell_type": "markdown",
   "id": "c4dd4c6a-ad0e-4ef8-80d2-b6deebe2aa5d",
   "metadata": {},
   "source": [
    "# Question 2"
   ]
  },
  {
   "cell_type": "code",
   "execution_count": 11,
   "id": "a578681e-8ebd-4283-a534-ed8efdca10a8",
   "metadata": {},
   "outputs": [],
   "source": [
    "import pandas as pd\n",
    "from sklearn.model_selection import train_test_split"
   ]
  },
  {
   "cell_type": "code",
   "execution_count": 12,
   "id": "3783f762-f8e3-4f90-8a1b-bd175a904b2a",
   "metadata": {},
   "outputs": [
    {
     "data": {
      "text/html": [
       "<div>\n",
       "<style scoped>\n",
       "    .dataframe tbody tr th:only-of-type {\n",
       "        vertical-align: middle;\n",
       "    }\n",
       "\n",
       "    .dataframe tbody tr th {\n",
       "        vertical-align: top;\n",
       "    }\n",
       "\n",
       "    .dataframe thead th {\n",
       "        text-align: right;\n",
       "    }\n",
       "</style>\n",
       "<table border=\"1\" class=\"dataframe\">\n",
       "  <thead>\n",
       "    <tr style=\"text-align: right;\">\n",
       "      <th></th>\n",
       "      <th>school</th>\n",
       "      <th>sex</th>\n",
       "      <th>age</th>\n",
       "      <th>address</th>\n",
       "      <th>famsize</th>\n",
       "      <th>Pstatus</th>\n",
       "      <th>Medu</th>\n",
       "      <th>Fedu</th>\n",
       "      <th>Mjob</th>\n",
       "      <th>Fjob</th>\n",
       "      <th>...</th>\n",
       "      <th>famrel</th>\n",
       "      <th>freetime</th>\n",
       "      <th>goout</th>\n",
       "      <th>Dalc</th>\n",
       "      <th>Walc</th>\n",
       "      <th>health</th>\n",
       "      <th>absences</th>\n",
       "      <th>G1</th>\n",
       "      <th>G2</th>\n",
       "      <th>G3</th>\n",
       "    </tr>\n",
       "  </thead>\n",
       "  <tbody>\n",
       "    <tr>\n",
       "      <th>0</th>\n",
       "      <td>GP</td>\n",
       "      <td>F</td>\n",
       "      <td>18</td>\n",
       "      <td>U</td>\n",
       "      <td>GT3</td>\n",
       "      <td>A</td>\n",
       "      <td>4</td>\n",
       "      <td>4</td>\n",
       "      <td>at_home</td>\n",
       "      <td>teacher</td>\n",
       "      <td>...</td>\n",
       "      <td>4</td>\n",
       "      <td>3</td>\n",
       "      <td>4</td>\n",
       "      <td>1</td>\n",
       "      <td>1</td>\n",
       "      <td>3</td>\n",
       "      <td>6</td>\n",
       "      <td>5</td>\n",
       "      <td>6</td>\n",
       "      <td>6</td>\n",
       "    </tr>\n",
       "    <tr>\n",
       "      <th>1</th>\n",
       "      <td>GP</td>\n",
       "      <td>F</td>\n",
       "      <td>17</td>\n",
       "      <td>U</td>\n",
       "      <td>GT3</td>\n",
       "      <td>T</td>\n",
       "      <td>1</td>\n",
       "      <td>1</td>\n",
       "      <td>at_home</td>\n",
       "      <td>other</td>\n",
       "      <td>...</td>\n",
       "      <td>5</td>\n",
       "      <td>3</td>\n",
       "      <td>3</td>\n",
       "      <td>1</td>\n",
       "      <td>1</td>\n",
       "      <td>3</td>\n",
       "      <td>4</td>\n",
       "      <td>5</td>\n",
       "      <td>5</td>\n",
       "      <td>6</td>\n",
       "    </tr>\n",
       "    <tr>\n",
       "      <th>2</th>\n",
       "      <td>GP</td>\n",
       "      <td>F</td>\n",
       "      <td>15</td>\n",
       "      <td>U</td>\n",
       "      <td>LE3</td>\n",
       "      <td>T</td>\n",
       "      <td>1</td>\n",
       "      <td>1</td>\n",
       "      <td>at_home</td>\n",
       "      <td>other</td>\n",
       "      <td>...</td>\n",
       "      <td>4</td>\n",
       "      <td>3</td>\n",
       "      <td>2</td>\n",
       "      <td>2</td>\n",
       "      <td>3</td>\n",
       "      <td>3</td>\n",
       "      <td>10</td>\n",
       "      <td>7</td>\n",
       "      <td>8</td>\n",
       "      <td>10</td>\n",
       "    </tr>\n",
       "    <tr>\n",
       "      <th>3</th>\n",
       "      <td>GP</td>\n",
       "      <td>F</td>\n",
       "      <td>15</td>\n",
       "      <td>U</td>\n",
       "      <td>GT3</td>\n",
       "      <td>T</td>\n",
       "      <td>4</td>\n",
       "      <td>2</td>\n",
       "      <td>health</td>\n",
       "      <td>services</td>\n",
       "      <td>...</td>\n",
       "      <td>3</td>\n",
       "      <td>2</td>\n",
       "      <td>2</td>\n",
       "      <td>1</td>\n",
       "      <td>1</td>\n",
       "      <td>5</td>\n",
       "      <td>2</td>\n",
       "      <td>15</td>\n",
       "      <td>14</td>\n",
       "      <td>15</td>\n",
       "    </tr>\n",
       "    <tr>\n",
       "      <th>4</th>\n",
       "      <td>GP</td>\n",
       "      <td>F</td>\n",
       "      <td>16</td>\n",
       "      <td>U</td>\n",
       "      <td>GT3</td>\n",
       "      <td>T</td>\n",
       "      <td>3</td>\n",
       "      <td>3</td>\n",
       "      <td>other</td>\n",
       "      <td>other</td>\n",
       "      <td>...</td>\n",
       "      <td>4</td>\n",
       "      <td>3</td>\n",
       "      <td>2</td>\n",
       "      <td>1</td>\n",
       "      <td>2</td>\n",
       "      <td>5</td>\n",
       "      <td>4</td>\n",
       "      <td>6</td>\n",
       "      <td>10</td>\n",
       "      <td>10</td>\n",
       "    </tr>\n",
       "  </tbody>\n",
       "</table>\n",
       "<p>5 rows × 33 columns</p>\n",
       "</div>"
      ],
      "text/plain": [
       "  school sex  age address famsize Pstatus  Medu  Fedu     Mjob      Fjob  ...  \\\n",
       "0     GP   F   18       U     GT3       A     4     4  at_home   teacher  ...   \n",
       "1     GP   F   17       U     GT3       T     1     1  at_home     other  ...   \n",
       "2     GP   F   15       U     LE3       T     1     1  at_home     other  ...   \n",
       "3     GP   F   15       U     GT3       T     4     2   health  services  ...   \n",
       "4     GP   F   16       U     GT3       T     3     3    other     other  ...   \n",
       "\n",
       "  famrel freetime  goout  Dalc  Walc health absences  G1  G2  G3  \n",
       "0      4        3      4     1     1      3        6   5   6   6  \n",
       "1      5        3      3     1     1      3        4   5   5   6  \n",
       "2      4        3      2     2     3      3       10   7   8  10  \n",
       "3      3        2      2     1     1      5        2  15  14  15  \n",
       "4      4        3      2     1     2      5        4   6  10  10  \n",
       "\n",
       "[5 rows x 33 columns]"
      ]
     },
     "execution_count": 12,
     "metadata": {},
     "output_type": "execute_result"
    }
   ],
   "source": [
    "data = pd.read_csv(\"../homework1/student-mat.csv\", sep=\";\")\n",
    "data.head()"
   ]
  },
  {
   "cell_type": "markdown",
   "id": "d8f835bb-bb43-48df-ac3e-c8ec2b9974e6",
   "metadata": {},
   "source": [
    "I will choose my last subset from Homework 1 and I removed `freetime` and `sex`. In their places, I added: `higher` and `schoolsup`.  \n",
    "\n",
    "The subset that I will use for K-means is: `age`, `romantic`, `internet`, `Pstatus`, `health`, `absences`,`goout`, `famsup`, `paid`, `failures`, `higher`, `schoolsup`, and `studytime`. "
   ]
  },
  {
   "cell_type": "code",
   "execution_count": 13,
   "id": "c10e800c-45cc-4db0-aef6-54ab7740aee2",
   "metadata": {},
   "outputs": [
    {
     "data": {
      "text/plain": [
       "0    18\n",
       "1    17\n",
       "2    15\n",
       "3    15\n",
       "4    16\n",
       "Name: age, dtype: int64"
      ]
     },
     "execution_count": 13,
     "metadata": {},
     "output_type": "execute_result"
    }
   ],
   "source": [
    "data.age.head()"
   ]
  },
  {
   "cell_type": "code",
   "execution_count": 14,
   "id": "9f8b336d-bdf9-4295-891d-f27dda6e5b5e",
   "metadata": {},
   "outputs": [
    {
     "data": {
      "text/plain": [
       "0     no\n",
       "1     no\n",
       "2     no\n",
       "3    yes\n",
       "4     no\n",
       "Name: romantic, dtype: object"
      ]
     },
     "execution_count": 14,
     "metadata": {},
     "output_type": "execute_result"
    }
   ],
   "source": [
    "data.romantic.head()"
   ]
  },
  {
   "cell_type": "code",
   "execution_count": 15,
   "id": "935c111e-04f5-4710-bc08-96edd3a89332",
   "metadata": {},
   "outputs": [
    {
     "data": {
      "text/plain": [
       "0     no\n",
       "1    yes\n",
       "2    yes\n",
       "3    yes\n",
       "4     no\n",
       "Name: internet, dtype: object"
      ]
     },
     "execution_count": 15,
     "metadata": {},
     "output_type": "execute_result"
    }
   ],
   "source": [
    "data.internet.head()"
   ]
  },
  {
   "cell_type": "code",
   "execution_count": 16,
   "id": "6c2ffc58-c098-4ff4-8f07-10ec23e412ce",
   "metadata": {},
   "outputs": [
    {
     "data": {
      "text/plain": [
       "0    A\n",
       "1    T\n",
       "2    T\n",
       "3    T\n",
       "4    T\n",
       "Name: Pstatus, dtype: object"
      ]
     },
     "execution_count": 16,
     "metadata": {},
     "output_type": "execute_result"
    }
   ],
   "source": [
    "data.Pstatus.head()"
   ]
  },
  {
   "cell_type": "code",
   "execution_count": 17,
   "id": "7645e5b9-8351-498e-a6f3-e9c1363e8011",
   "metadata": {},
   "outputs": [
    {
     "data": {
      "text/plain": [
       "0    3\n",
       "1    3\n",
       "2    3\n",
       "3    5\n",
       "4    5\n",
       "Name: health, dtype: int64"
      ]
     },
     "execution_count": 17,
     "metadata": {},
     "output_type": "execute_result"
    }
   ],
   "source": [
    "data.health.head()"
   ]
  },
  {
   "cell_type": "code",
   "execution_count": 18,
   "id": "85b4a0fc-69f4-46ae-b695-93ba6ac7be1f",
   "metadata": {},
   "outputs": [
    {
     "data": {
      "text/plain": [
       "0     6\n",
       "1     4\n",
       "2    10\n",
       "3     2\n",
       "4     4\n",
       "Name: absences, dtype: int64"
      ]
     },
     "execution_count": 18,
     "metadata": {},
     "output_type": "execute_result"
    }
   ],
   "source": [
    "data.absences.head()"
   ]
  },
  {
   "cell_type": "code",
   "execution_count": 19,
   "id": "0754747c-79d0-40a5-bce3-32a8f14d00db",
   "metadata": {},
   "outputs": [
    {
     "data": {
      "text/plain": [
       "0    4\n",
       "1    3\n",
       "2    2\n",
       "3    2\n",
       "4    2\n",
       "Name: goout, dtype: int64"
      ]
     },
     "execution_count": 19,
     "metadata": {},
     "output_type": "execute_result"
    }
   ],
   "source": [
    "data.goout.head()"
   ]
  },
  {
   "cell_type": "code",
   "execution_count": 20,
   "id": "5e302106-5091-4cfc-8390-04a49a474738",
   "metadata": {},
   "outputs": [
    {
     "data": {
      "text/plain": [
       "0     no\n",
       "1    yes\n",
       "2     no\n",
       "3    yes\n",
       "4    yes\n",
       "Name: famsup, dtype: object"
      ]
     },
     "execution_count": 20,
     "metadata": {},
     "output_type": "execute_result"
    }
   ],
   "source": [
    "data.famsup.head()"
   ]
  },
  {
   "cell_type": "code",
   "execution_count": 21,
   "id": "0f43bebb-795c-417d-a0f8-e2f6248894df",
   "metadata": {},
   "outputs": [
    {
     "data": {
      "text/plain": [
       "0     no\n",
       "1     no\n",
       "2    yes\n",
       "3    yes\n",
       "4    yes\n",
       "Name: paid, dtype: object"
      ]
     },
     "execution_count": 21,
     "metadata": {},
     "output_type": "execute_result"
    }
   ],
   "source": [
    "data.paid.head()"
   ]
  },
  {
   "cell_type": "code",
   "execution_count": 22,
   "id": "83b0178b-0288-47ba-9575-b4a56c5c2354",
   "metadata": {},
   "outputs": [
    {
     "data": {
      "text/plain": [
       "0    0\n",
       "1    0\n",
       "2    3\n",
       "3    0\n",
       "4    0\n",
       "Name: failures, dtype: int64"
      ]
     },
     "execution_count": 22,
     "metadata": {},
     "output_type": "execute_result"
    }
   ],
   "source": [
    "data.failures.head()"
   ]
  },
  {
   "cell_type": "code",
   "execution_count": 23,
   "id": "eb148a24-f92c-44f4-9d29-7ab06ec690f4",
   "metadata": {},
   "outputs": [
    {
     "data": {
      "text/plain": [
       "0    yes\n",
       "1    yes\n",
       "2    yes\n",
       "3    yes\n",
       "4    yes\n",
       "Name: higher, dtype: object"
      ]
     },
     "execution_count": 23,
     "metadata": {},
     "output_type": "execute_result"
    }
   ],
   "source": [
    "data.higher.head()"
   ]
  },
  {
   "cell_type": "code",
   "execution_count": 24,
   "id": "d617298d-5a00-4297-84f6-5430751f64dd",
   "metadata": {},
   "outputs": [
    {
     "data": {
      "text/plain": [
       "0    yes\n",
       "1     no\n",
       "2    yes\n",
       "3     no\n",
       "4     no\n",
       "Name: schoolsup, dtype: object"
      ]
     },
     "execution_count": 24,
     "metadata": {},
     "output_type": "execute_result"
    }
   ],
   "source": [
    "data.schoolsup.head()"
   ]
  },
  {
   "cell_type": "code",
   "execution_count": 25,
   "id": "7682f4ef-965e-4cdf-9c1e-ab2bbf2562b4",
   "metadata": {},
   "outputs": [
    {
     "data": {
      "text/plain": [
       "0    2\n",
       "1    2\n",
       "2    2\n",
       "3    3\n",
       "4    2\n",
       "Name: studytime, dtype: int64"
      ]
     },
     "execution_count": 25,
     "metadata": {},
     "output_type": "execute_result"
    }
   ],
   "source": [
    "data.studytime.head()"
   ]
  },
  {
   "cell_type": "markdown",
   "id": "e2912633-0666-470d-90dd-ec7d648826e1",
   "metadata": {},
   "source": [
    "From the data above, we can see that we need to apply numerical categories to: `romantic`, `internet`, `Pstatus`, `famsup`, `paid`, `higher`, and `schoolsup`.\n",
    "\n",
    ": `age`, `romantic`, `internet`, `Pstatus`, `health`, `absences`,`goout`, `famsup`, `paid`, `failures`, `higher`, `schoolsup`, and `studytime`. "
   ]
  },
  {
   "cell_type": "code",
   "execution_count": 26,
   "id": "0706fe86-e643-43c0-bb2b-caf08d371c5d",
   "metadata": {},
   "outputs": [],
   "source": [
    "selectedData = data[['age', 'romantic', 'internet', 'Pstatus', 'health', \n",
    "                     'absences', 'goout', 'famsup', 'paid', 'failures', 'higher',\n",
    "                     'schoolsup', 'studytime', 'G3']]"
   ]
  },
  {
   "cell_type": "code",
   "execution_count": 27,
   "id": "7004b8d7-0c48-4190-a889-250ea405d17b",
   "metadata": {},
   "outputs": [
    {
     "data": {
      "text/html": [
       "<div>\n",
       "<style scoped>\n",
       "    .dataframe tbody tr th:only-of-type {\n",
       "        vertical-align: middle;\n",
       "    }\n",
       "\n",
       "    .dataframe tbody tr th {\n",
       "        vertical-align: top;\n",
       "    }\n",
       "\n",
       "    .dataframe thead th {\n",
       "        text-align: right;\n",
       "    }\n",
       "</style>\n",
       "<table border=\"1\" class=\"dataframe\">\n",
       "  <thead>\n",
       "    <tr style=\"text-align: right;\">\n",
       "      <th></th>\n",
       "      <th>age</th>\n",
       "      <th>romantic</th>\n",
       "      <th>internet</th>\n",
       "      <th>Pstatus</th>\n",
       "      <th>health</th>\n",
       "      <th>absences</th>\n",
       "      <th>goout</th>\n",
       "      <th>famsup</th>\n",
       "      <th>paid</th>\n",
       "      <th>failures</th>\n",
       "      <th>higher</th>\n",
       "      <th>schoolsup</th>\n",
       "      <th>studytime</th>\n",
       "      <th>G3</th>\n",
       "    </tr>\n",
       "  </thead>\n",
       "  <tbody>\n",
       "    <tr>\n",
       "      <th>0</th>\n",
       "      <td>18</td>\n",
       "      <td>no</td>\n",
       "      <td>no</td>\n",
       "      <td>A</td>\n",
       "      <td>3</td>\n",
       "      <td>6</td>\n",
       "      <td>4</td>\n",
       "      <td>no</td>\n",
       "      <td>no</td>\n",
       "      <td>0</td>\n",
       "      <td>yes</td>\n",
       "      <td>yes</td>\n",
       "      <td>2</td>\n",
       "      <td>6</td>\n",
       "    </tr>\n",
       "    <tr>\n",
       "      <th>1</th>\n",
       "      <td>17</td>\n",
       "      <td>no</td>\n",
       "      <td>yes</td>\n",
       "      <td>T</td>\n",
       "      <td>3</td>\n",
       "      <td>4</td>\n",
       "      <td>3</td>\n",
       "      <td>yes</td>\n",
       "      <td>no</td>\n",
       "      <td>0</td>\n",
       "      <td>yes</td>\n",
       "      <td>no</td>\n",
       "      <td>2</td>\n",
       "      <td>6</td>\n",
       "    </tr>\n",
       "    <tr>\n",
       "      <th>2</th>\n",
       "      <td>15</td>\n",
       "      <td>no</td>\n",
       "      <td>yes</td>\n",
       "      <td>T</td>\n",
       "      <td>3</td>\n",
       "      <td>10</td>\n",
       "      <td>2</td>\n",
       "      <td>no</td>\n",
       "      <td>yes</td>\n",
       "      <td>3</td>\n",
       "      <td>yes</td>\n",
       "      <td>yes</td>\n",
       "      <td>2</td>\n",
       "      <td>10</td>\n",
       "    </tr>\n",
       "    <tr>\n",
       "      <th>3</th>\n",
       "      <td>15</td>\n",
       "      <td>yes</td>\n",
       "      <td>yes</td>\n",
       "      <td>T</td>\n",
       "      <td>5</td>\n",
       "      <td>2</td>\n",
       "      <td>2</td>\n",
       "      <td>yes</td>\n",
       "      <td>yes</td>\n",
       "      <td>0</td>\n",
       "      <td>yes</td>\n",
       "      <td>no</td>\n",
       "      <td>3</td>\n",
       "      <td>15</td>\n",
       "    </tr>\n",
       "    <tr>\n",
       "      <th>4</th>\n",
       "      <td>16</td>\n",
       "      <td>no</td>\n",
       "      <td>no</td>\n",
       "      <td>T</td>\n",
       "      <td>5</td>\n",
       "      <td>4</td>\n",
       "      <td>2</td>\n",
       "      <td>yes</td>\n",
       "      <td>yes</td>\n",
       "      <td>0</td>\n",
       "      <td>yes</td>\n",
       "      <td>no</td>\n",
       "      <td>2</td>\n",
       "      <td>10</td>\n",
       "    </tr>\n",
       "  </tbody>\n",
       "</table>\n",
       "</div>"
      ],
      "text/plain": [
       "   age romantic internet Pstatus  health  absences  goout famsup paid  \\\n",
       "0   18       no       no       A       3         6      4     no   no   \n",
       "1   17       no      yes       T       3         4      3    yes   no   \n",
       "2   15       no      yes       T       3        10      2     no  yes   \n",
       "3   15      yes      yes       T       5         2      2    yes  yes   \n",
       "4   16       no       no       T       5         4      2    yes  yes   \n",
       "\n",
       "   failures higher schoolsup  studytime  G3  \n",
       "0         0    yes       yes          2   6  \n",
       "1         0    yes        no          2   6  \n",
       "2         3    yes       yes          2  10  \n",
       "3         0    yes        no          3  15  \n",
       "4         0    yes        no          2  10  "
      ]
     },
     "execution_count": 27,
     "metadata": {},
     "output_type": "execute_result"
    }
   ],
   "source": [
    "selectedData.head()"
   ]
  },
  {
   "cell_type": "code",
   "execution_count": 28,
   "id": "3f9b1068-4d75-46f1-95c2-41f12ff5048c",
   "metadata": {},
   "outputs": [],
   "source": [
    "binaryFeatures = ['romantic', 'internet', 'Pstatus', 'famsup', 'paid', 'higher', 'schoolsup']"
   ]
  },
  {
   "cell_type": "code",
   "execution_count": 29,
   "id": "a9f57183-e4d6-4c8f-9ac5-f7f1e4ca01e0",
   "metadata": {},
   "outputs": [
    {
     "name": "stderr",
     "output_type": "stream",
     "text": [
      "/var/folders/0s/cwxnf6m51pj2nyh3t2ty55gh0000gn/T/ipykernel_43487/2833006768.py:1: SettingWithCopyWarning: \n",
      "A value is trying to be set on a copy of a slice from a DataFrame.\n",
      "Try using .loc[row_indexer,col_indexer] = value instead\n",
      "\n",
      "See the caveats in the documentation: https://pandas.pydata.org/pandas-docs/stable/user_guide/indexing.html#returning-a-view-versus-a-copy\n",
      "  selectedData.romantic = pd.Categorical(selectedData.romantic).codes\n",
      "/var/folders/0s/cwxnf6m51pj2nyh3t2ty55gh0000gn/T/ipykernel_43487/2833006768.py:2: SettingWithCopyWarning: \n",
      "A value is trying to be set on a copy of a slice from a DataFrame.\n",
      "Try using .loc[row_indexer,col_indexer] = value instead\n",
      "\n",
      "See the caveats in the documentation: https://pandas.pydata.org/pandas-docs/stable/user_guide/indexing.html#returning-a-view-versus-a-copy\n",
      "  selectedData.internet = pd.Categorical(selectedData.internet).codes\n",
      "/var/folders/0s/cwxnf6m51pj2nyh3t2ty55gh0000gn/T/ipykernel_43487/2833006768.py:3: SettingWithCopyWarning: \n",
      "A value is trying to be set on a copy of a slice from a DataFrame.\n",
      "Try using .loc[row_indexer,col_indexer] = value instead\n",
      "\n",
      "See the caveats in the documentation: https://pandas.pydata.org/pandas-docs/stable/user_guide/indexing.html#returning-a-view-versus-a-copy\n",
      "  selectedData.Pstatus = pd.Categorical(selectedData.Pstatus).codes\n",
      "/var/folders/0s/cwxnf6m51pj2nyh3t2ty55gh0000gn/T/ipykernel_43487/2833006768.py:4: SettingWithCopyWarning: \n",
      "A value is trying to be set on a copy of a slice from a DataFrame.\n",
      "Try using .loc[row_indexer,col_indexer] = value instead\n",
      "\n",
      "See the caveats in the documentation: https://pandas.pydata.org/pandas-docs/stable/user_guide/indexing.html#returning-a-view-versus-a-copy\n",
      "  selectedData.famsup = pd.Categorical(selectedData.famsup).codes\n",
      "/var/folders/0s/cwxnf6m51pj2nyh3t2ty55gh0000gn/T/ipykernel_43487/2833006768.py:5: SettingWithCopyWarning: \n",
      "A value is trying to be set on a copy of a slice from a DataFrame.\n",
      "Try using .loc[row_indexer,col_indexer] = value instead\n",
      "\n",
      "See the caveats in the documentation: https://pandas.pydata.org/pandas-docs/stable/user_guide/indexing.html#returning-a-view-versus-a-copy\n",
      "  selectedData.paid = pd.Categorical(selectedData.paid).codes\n",
      "/var/folders/0s/cwxnf6m51pj2nyh3t2ty55gh0000gn/T/ipykernel_43487/2833006768.py:6: SettingWithCopyWarning: \n",
      "A value is trying to be set on a copy of a slice from a DataFrame.\n",
      "Try using .loc[row_indexer,col_indexer] = value instead\n",
      "\n",
      "See the caveats in the documentation: https://pandas.pydata.org/pandas-docs/stable/user_guide/indexing.html#returning-a-view-versus-a-copy\n",
      "  selectedData.higher = pd.Categorical(selectedData.higher).codes\n",
      "/var/folders/0s/cwxnf6m51pj2nyh3t2ty55gh0000gn/T/ipykernel_43487/2833006768.py:7: SettingWithCopyWarning: \n",
      "A value is trying to be set on a copy of a slice from a DataFrame.\n",
      "Try using .loc[row_indexer,col_indexer] = value instead\n",
      "\n",
      "See the caveats in the documentation: https://pandas.pydata.org/pandas-docs/stable/user_guide/indexing.html#returning-a-view-versus-a-copy\n",
      "  selectedData.schoolsup = pd.Categorical(selectedData.schoolsup).codes\n"
     ]
    },
    {
     "data": {
      "text/html": [
       "<div>\n",
       "<style scoped>\n",
       "    .dataframe tbody tr th:only-of-type {\n",
       "        vertical-align: middle;\n",
       "    }\n",
       "\n",
       "    .dataframe tbody tr th {\n",
       "        vertical-align: top;\n",
       "    }\n",
       "\n",
       "    .dataframe thead th {\n",
       "        text-align: right;\n",
       "    }\n",
       "</style>\n",
       "<table border=\"1\" class=\"dataframe\">\n",
       "  <thead>\n",
       "    <tr style=\"text-align: right;\">\n",
       "      <th></th>\n",
       "      <th>age</th>\n",
       "      <th>romantic</th>\n",
       "      <th>internet</th>\n",
       "      <th>Pstatus</th>\n",
       "      <th>health</th>\n",
       "      <th>absences</th>\n",
       "      <th>goout</th>\n",
       "      <th>famsup</th>\n",
       "      <th>paid</th>\n",
       "      <th>failures</th>\n",
       "      <th>higher</th>\n",
       "      <th>schoolsup</th>\n",
       "      <th>studytime</th>\n",
       "      <th>G3</th>\n",
       "    </tr>\n",
       "  </thead>\n",
       "  <tbody>\n",
       "    <tr>\n",
       "      <th>0</th>\n",
       "      <td>18</td>\n",
       "      <td>0</td>\n",
       "      <td>0</td>\n",
       "      <td>0</td>\n",
       "      <td>3</td>\n",
       "      <td>6</td>\n",
       "      <td>4</td>\n",
       "      <td>0</td>\n",
       "      <td>0</td>\n",
       "      <td>0</td>\n",
       "      <td>1</td>\n",
       "      <td>1</td>\n",
       "      <td>2</td>\n",
       "      <td>6</td>\n",
       "    </tr>\n",
       "    <tr>\n",
       "      <th>1</th>\n",
       "      <td>17</td>\n",
       "      <td>0</td>\n",
       "      <td>1</td>\n",
       "      <td>1</td>\n",
       "      <td>3</td>\n",
       "      <td>4</td>\n",
       "      <td>3</td>\n",
       "      <td>1</td>\n",
       "      <td>0</td>\n",
       "      <td>0</td>\n",
       "      <td>1</td>\n",
       "      <td>0</td>\n",
       "      <td>2</td>\n",
       "      <td>6</td>\n",
       "    </tr>\n",
       "    <tr>\n",
       "      <th>2</th>\n",
       "      <td>15</td>\n",
       "      <td>0</td>\n",
       "      <td>1</td>\n",
       "      <td>1</td>\n",
       "      <td>3</td>\n",
       "      <td>10</td>\n",
       "      <td>2</td>\n",
       "      <td>0</td>\n",
       "      <td>1</td>\n",
       "      <td>3</td>\n",
       "      <td>1</td>\n",
       "      <td>1</td>\n",
       "      <td>2</td>\n",
       "      <td>10</td>\n",
       "    </tr>\n",
       "    <tr>\n",
       "      <th>3</th>\n",
       "      <td>15</td>\n",
       "      <td>1</td>\n",
       "      <td>1</td>\n",
       "      <td>1</td>\n",
       "      <td>5</td>\n",
       "      <td>2</td>\n",
       "      <td>2</td>\n",
       "      <td>1</td>\n",
       "      <td>1</td>\n",
       "      <td>0</td>\n",
       "      <td>1</td>\n",
       "      <td>0</td>\n",
       "      <td>3</td>\n",
       "      <td>15</td>\n",
       "    </tr>\n",
       "    <tr>\n",
       "      <th>4</th>\n",
       "      <td>16</td>\n",
       "      <td>0</td>\n",
       "      <td>0</td>\n",
       "      <td>1</td>\n",
       "      <td>5</td>\n",
       "      <td>4</td>\n",
       "      <td>2</td>\n",
       "      <td>1</td>\n",
       "      <td>1</td>\n",
       "      <td>0</td>\n",
       "      <td>1</td>\n",
       "      <td>0</td>\n",
       "      <td>2</td>\n",
       "      <td>10</td>\n",
       "    </tr>\n",
       "  </tbody>\n",
       "</table>\n",
       "</div>"
      ],
      "text/plain": [
       "   age  romantic  internet  Pstatus  health  absences  goout  famsup  paid  \\\n",
       "0   18         0         0        0       3         6      4       0     0   \n",
       "1   17         0         1        1       3         4      3       1     0   \n",
       "2   15         0         1        1       3        10      2       0     1   \n",
       "3   15         1         1        1       5         2      2       1     1   \n",
       "4   16         0         0        1       5         4      2       1     1   \n",
       "\n",
       "   failures  higher  schoolsup  studytime  G3  \n",
       "0         0       1          1          2   6  \n",
       "1         0       1          0          2   6  \n",
       "2         3       1          1          2  10  \n",
       "3         0       1          0          3  15  \n",
       "4         0       1          0          2  10  "
      ]
     },
     "execution_count": 29,
     "metadata": {},
     "output_type": "execute_result"
    }
   ],
   "source": [
    "selectedData.romantic = pd.Categorical(selectedData.romantic).codes\n",
    "selectedData.internet = pd.Categorical(selectedData.internet).codes\n",
    "selectedData.Pstatus = pd.Categorical(selectedData.Pstatus).codes\n",
    "selectedData.famsup = pd.Categorical(selectedData.famsup).codes\n",
    "selectedData.paid = pd.Categorical(selectedData.paid).codes\n",
    "selectedData.higher = pd.Categorical(selectedData.higher).codes\n",
    "selectedData.schoolsup = pd.Categorical(selectedData.schoolsup).codes\n",
    "selectedData.head()"
   ]
  },
  {
   "cell_type": "code",
   "execution_count": 34,
   "id": "2343cc29-6f11-42ac-acf9-e4b968dc5e6a",
   "metadata": {},
   "outputs": [],
   "source": [
    "X,y = selectedData.astype(float), selectedData.loc[:, ['G3']].astype(float) # train and test with 2 parameters \n",
    "X_train,X_test,y_train,y_test = train_test_split(X,y, test_size=.2)"
   ]
  },
  {
   "cell_type": "code",
   "execution_count": 73,
   "id": "b4d9476e-d505-4572-9981-70bb031300d4",
   "metadata": {},
   "outputs": [],
   "source": [
    "from sklearn.cluster import KMeans\n",
    "import matplotlib.pyplot as plt"
   ]
  },
  {
   "cell_type": "markdown",
   "id": "bfc06d11-0ca9-437f-ba4c-3fbf4c0eeae0",
   "metadata": {},
   "source": [
    "For this homework, I will be trying: 2, 4, 8, and 22 clusters."
   ]
  },
  {
   "cell_type": "markdown",
   "id": "56a74219-c00f-4ea5-abe3-962f454a0889",
   "metadata": {},
   "source": [
    "### 2 Clusters"
   ]
  },
  {
   "cell_type": "code",
   "execution_count": 133,
   "id": "f5644cc0-c218-429e-8c22-0be63fdf81d5",
   "metadata": {},
   "outputs": [],
   "source": [
    "kmeans = KMeans(n_clusters=2)\n",
    "labels = kmeans.fit_predict(X_train)\n",
    "cluster0 = X_train[labels == 0]\n",
    "cluster1 = X_train[labels == 1]"
   ]
  },
  {
   "cell_type": "code",
   "execution_count": 136,
   "id": "ceb4278a-0faf-4861-9fd1-0dbf0efd61c7",
   "metadata": {},
   "outputs": [
    {
     "data": {
      "text/html": [
       "<div>\n",
       "<style scoped>\n",
       "    .dataframe tbody tr th:only-of-type {\n",
       "        vertical-align: middle;\n",
       "    }\n",
       "\n",
       "    .dataframe tbody tr th {\n",
       "        vertical-align: top;\n",
       "    }\n",
       "\n",
       "    .dataframe thead th {\n",
       "        text-align: right;\n",
       "    }\n",
       "</style>\n",
       "<table border=\"1\" class=\"dataframe\">\n",
       "  <thead>\n",
       "    <tr style=\"text-align: right;\">\n",
       "      <th></th>\n",
       "      <th>age</th>\n",
       "      <th>romantic</th>\n",
       "      <th>internet</th>\n",
       "      <th>Pstatus</th>\n",
       "      <th>health</th>\n",
       "      <th>absences</th>\n",
       "      <th>goout</th>\n",
       "      <th>famsup</th>\n",
       "      <th>paid</th>\n",
       "      <th>failures</th>\n",
       "      <th>higher</th>\n",
       "      <th>schoolsup</th>\n",
       "      <th>studytime</th>\n",
       "      <th>G3</th>\n",
       "    </tr>\n",
       "  </thead>\n",
       "  <tbody>\n",
       "    <tr>\n",
       "      <th>257</th>\n",
       "      <td>19.0</td>\n",
       "      <td>0.0</td>\n",
       "      <td>1.0</td>\n",
       "      <td>0.0</td>\n",
       "      <td>1.0</td>\n",
       "      <td>12.0</td>\n",
       "      <td>1.0</td>\n",
       "      <td>1.0</td>\n",
       "      <td>0.0</td>\n",
       "      <td>0.0</td>\n",
       "      <td>1.0</td>\n",
       "      <td>0.0</td>\n",
       "      <td>2.0</td>\n",
       "      <td>11.0</td>\n",
       "    </tr>\n",
       "    <tr>\n",
       "      <th>184</th>\n",
       "      <td>16.0</td>\n",
       "      <td>0.0</td>\n",
       "      <td>1.0</td>\n",
       "      <td>1.0</td>\n",
       "      <td>1.0</td>\n",
       "      <td>14.0</td>\n",
       "      <td>2.0</td>\n",
       "      <td>1.0</td>\n",
       "      <td>1.0</td>\n",
       "      <td>0.0</td>\n",
       "      <td>1.0</td>\n",
       "      <td>0.0</td>\n",
       "      <td>2.0</td>\n",
       "      <td>12.0</td>\n",
       "    </tr>\n",
       "    <tr>\n",
       "      <th>18</th>\n",
       "      <td>17.0</td>\n",
       "      <td>0.0</td>\n",
       "      <td>1.0</td>\n",
       "      <td>1.0</td>\n",
       "      <td>5.0</td>\n",
       "      <td>16.0</td>\n",
       "      <td>5.0</td>\n",
       "      <td>1.0</td>\n",
       "      <td>0.0</td>\n",
       "      <td>3.0</td>\n",
       "      <td>1.0</td>\n",
       "      <td>0.0</td>\n",
       "      <td>1.0</td>\n",
       "      <td>5.0</td>\n",
       "    </tr>\n",
       "    <tr>\n",
       "      <th>270</th>\n",
       "      <td>19.0</td>\n",
       "      <td>0.0</td>\n",
       "      <td>1.0</td>\n",
       "      <td>1.0</td>\n",
       "      <td>5.0</td>\n",
       "      <td>15.0</td>\n",
       "      <td>5.0</td>\n",
       "      <td>1.0</td>\n",
       "      <td>1.0</td>\n",
       "      <td>2.0</td>\n",
       "      <td>1.0</td>\n",
       "      <td>0.0</td>\n",
       "      <td>2.0</td>\n",
       "      <td>9.0</td>\n",
       "    </tr>\n",
       "    <tr>\n",
       "      <th>315</th>\n",
       "      <td>19.0</td>\n",
       "      <td>1.0</td>\n",
       "      <td>1.0</td>\n",
       "      <td>1.0</td>\n",
       "      <td>3.0</td>\n",
       "      <td>40.0</td>\n",
       "      <td>2.0</td>\n",
       "      <td>0.0</td>\n",
       "      <td>0.0</td>\n",
       "      <td>1.0</td>\n",
       "      <td>1.0</td>\n",
       "      <td>0.0</td>\n",
       "      <td>3.0</td>\n",
       "      <td>11.0</td>\n",
       "    </tr>\n",
       "  </tbody>\n",
       "</table>\n",
       "</div>"
      ],
      "text/plain": [
       "      age  romantic  internet  Pstatus  health  absences  goout  famsup  paid  \\\n",
       "257  19.0       0.0       1.0      0.0     1.0      12.0    1.0     1.0   0.0   \n",
       "184  16.0       0.0       1.0      1.0     1.0      14.0    2.0     1.0   1.0   \n",
       "18   17.0       0.0       1.0      1.0     5.0      16.0    5.0     1.0   0.0   \n",
       "270  19.0       0.0       1.0      1.0     5.0      15.0    5.0     1.0   1.0   \n",
       "315  19.0       1.0       1.0      1.0     3.0      40.0    2.0     0.0   0.0   \n",
       "\n",
       "     failures  higher  schoolsup  studytime    G3  \n",
       "257       0.0     1.0        0.0        2.0  11.0  \n",
       "184       0.0     1.0        0.0        2.0  12.0  \n",
       "18        3.0     1.0        0.0        1.0   5.0  \n",
       "270       2.0     1.0        0.0        2.0   9.0  \n",
       "315       1.0     1.0        0.0        3.0  11.0  "
      ]
     },
     "execution_count": 136,
     "metadata": {},
     "output_type": "execute_result"
    }
   ],
   "source": [
    "cluster0.head()"
   ]
  },
  {
   "cell_type": "code",
   "execution_count": 137,
   "id": "afe27472-b092-4927-9b29-2bd57f006357",
   "metadata": {},
   "outputs": [
    {
     "data": {
      "text/html": [
       "<div>\n",
       "<style scoped>\n",
       "    .dataframe tbody tr th:only-of-type {\n",
       "        vertical-align: middle;\n",
       "    }\n",
       "\n",
       "    .dataframe tbody tr th {\n",
       "        vertical-align: top;\n",
       "    }\n",
       "\n",
       "    .dataframe thead th {\n",
       "        text-align: right;\n",
       "    }\n",
       "</style>\n",
       "<table border=\"1\" class=\"dataframe\">\n",
       "  <thead>\n",
       "    <tr style=\"text-align: right;\">\n",
       "      <th></th>\n",
       "      <th>age</th>\n",
       "      <th>romantic</th>\n",
       "      <th>internet</th>\n",
       "      <th>Pstatus</th>\n",
       "      <th>health</th>\n",
       "      <th>absences</th>\n",
       "      <th>goout</th>\n",
       "      <th>famsup</th>\n",
       "      <th>paid</th>\n",
       "      <th>failures</th>\n",
       "      <th>higher</th>\n",
       "      <th>schoolsup</th>\n",
       "      <th>studytime</th>\n",
       "      <th>G3</th>\n",
       "    </tr>\n",
       "  </thead>\n",
       "  <tbody>\n",
       "    <tr>\n",
       "      <th>53</th>\n",
       "      <td>15.0</td>\n",
       "      <td>0.0</td>\n",
       "      <td>1.0</td>\n",
       "      <td>1.0</td>\n",
       "      <td>5.0</td>\n",
       "      <td>0.0</td>\n",
       "      <td>4.0</td>\n",
       "      <td>1.0</td>\n",
       "      <td>1.0</td>\n",
       "      <td>0.0</td>\n",
       "      <td>1.0</td>\n",
       "      <td>1.0</td>\n",
       "      <td>1.0</td>\n",
       "      <td>11.0</td>\n",
       "    </tr>\n",
       "    <tr>\n",
       "      <th>73</th>\n",
       "      <td>16.0</td>\n",
       "      <td>0.0</td>\n",
       "      <td>0.0</td>\n",
       "      <td>1.0</td>\n",
       "      <td>5.0</td>\n",
       "      <td>2.0</td>\n",
       "      <td>2.0</td>\n",
       "      <td>0.0</td>\n",
       "      <td>0.0</td>\n",
       "      <td>0.0</td>\n",
       "      <td>1.0</td>\n",
       "      <td>0.0</td>\n",
       "      <td>1.0</td>\n",
       "      <td>14.0</td>\n",
       "    </tr>\n",
       "    <tr>\n",
       "      <th>288</th>\n",
       "      <td>18.0</td>\n",
       "      <td>0.0</td>\n",
       "      <td>1.0</td>\n",
       "      <td>1.0</td>\n",
       "      <td>2.0</td>\n",
       "      <td>6.0</td>\n",
       "      <td>4.0</td>\n",
       "      <td>0.0</td>\n",
       "      <td>1.0</td>\n",
       "      <td>0.0</td>\n",
       "      <td>1.0</td>\n",
       "      <td>0.0</td>\n",
       "      <td>3.0</td>\n",
       "      <td>14.0</td>\n",
       "    </tr>\n",
       "    <tr>\n",
       "      <th>386</th>\n",
       "      <td>18.0</td>\n",
       "      <td>1.0</td>\n",
       "      <td>1.0</td>\n",
       "      <td>1.0</td>\n",
       "      <td>5.0</td>\n",
       "      <td>7.0</td>\n",
       "      <td>3.0</td>\n",
       "      <td>1.0</td>\n",
       "      <td>1.0</td>\n",
       "      <td>0.0</td>\n",
       "      <td>1.0</td>\n",
       "      <td>0.0</td>\n",
       "      <td>1.0</td>\n",
       "      <td>6.0</td>\n",
       "    </tr>\n",
       "    <tr>\n",
       "      <th>295</th>\n",
       "      <td>17.0</td>\n",
       "      <td>0.0</td>\n",
       "      <td>1.0</td>\n",
       "      <td>1.0</td>\n",
       "      <td>5.0</td>\n",
       "      <td>4.0</td>\n",
       "      <td>3.0</td>\n",
       "      <td>1.0</td>\n",
       "      <td>1.0</td>\n",
       "      <td>0.0</td>\n",
       "      <td>1.0</td>\n",
       "      <td>0.0</td>\n",
       "      <td>1.0</td>\n",
       "      <td>11.0</td>\n",
       "    </tr>\n",
       "  </tbody>\n",
       "</table>\n",
       "</div>"
      ],
      "text/plain": [
       "      age  romantic  internet  Pstatus  health  absences  goout  famsup  paid  \\\n",
       "53   15.0       0.0       1.0      1.0     5.0       0.0    4.0     1.0   1.0   \n",
       "73   16.0       0.0       0.0      1.0     5.0       2.0    2.0     0.0   0.0   \n",
       "288  18.0       0.0       1.0      1.0     2.0       6.0    4.0     0.0   1.0   \n",
       "386  18.0       1.0       1.0      1.0     5.0       7.0    3.0     1.0   1.0   \n",
       "295  17.0       0.0       1.0      1.0     5.0       4.0    3.0     1.0   1.0   \n",
       "\n",
       "     failures  higher  schoolsup  studytime    G3  \n",
       "53        0.0     1.0        1.0        1.0  11.0  \n",
       "73        0.0     1.0        0.0        1.0  14.0  \n",
       "288       0.0     1.0        0.0        3.0  14.0  \n",
       "386       0.0     1.0        0.0        1.0   6.0  \n",
       "295       0.0     1.0        0.0        1.0  11.0  "
      ]
     },
     "execution_count": 137,
     "metadata": {},
     "output_type": "execute_result"
    }
   ],
   "source": [
    "cluster1.head()"
   ]
  },
  {
   "cell_type": "code",
   "execution_count": 138,
   "id": "d0025424-21cd-4046-baea-e82a3ef90211",
   "metadata": {},
   "outputs": [
    {
     "data": {
      "text/plain": [
       "14424.642397336294"
      ]
     },
     "execution_count": 138,
     "metadata": {},
     "output_type": "execute_result"
    }
   ],
   "source": [
    "kmeans.inertia_"
   ]
  },
  {
   "cell_type": "markdown",
   "id": "e857763e-8b5b-4ca5-8b50-adea8b49db8c",
   "metadata": {},
   "source": [
    "This is telling us that our model is not well fit for our data (which we expected). The squared differences from all the points to the centroids of the clusters is very high indicating a poor model."
   ]
  },
  {
   "cell_type": "markdown",
   "id": "5fdca1ec-fb0b-4262-9ab0-38d535d41aaa",
   "metadata": {},
   "source": [
    "### 4 Clusters"
   ]
  },
  {
   "cell_type": "code",
   "execution_count": 141,
   "id": "855d0d72-43bc-4451-8ef5-58d6c572f4ce",
   "metadata": {},
   "outputs": [],
   "source": [
    "kmeans = KMeans(n_clusters=4)\n",
    "labels = kmeans.fit_predict(X_train)\n",
    "cluster0 = X_train[labels == 0]\n",
    "cluster1 = X_train[labels == 1]\n",
    "cluster2 = X_train[labels == 2]\n",
    "cluster3 = X_train[labels == 3]"
   ]
  },
  {
   "cell_type": "code",
   "execution_count": 148,
   "id": "078f7e2c-c748-44c8-94e7-6c9b57d24a6f",
   "metadata": {},
   "outputs": [
    {
     "data": {
      "text/plain": [
       "count    35.000000\n",
       "mean      1.400000\n",
       "std       2.625665\n",
       "min       0.000000\n",
       "25%       0.000000\n",
       "50%       0.000000\n",
       "75%       0.000000\n",
       "max       7.000000\n",
       "Name: G3, dtype: float64"
      ]
     },
     "execution_count": 148,
     "metadata": {},
     "output_type": "execute_result"
    }
   ],
   "source": [
    "cluster0.G3.describe()"
   ]
  },
  {
   "cell_type": "code",
   "execution_count": 149,
   "id": "bcd33bbe-314c-4430-a205-ad078ddcaff1",
   "metadata": {},
   "outputs": [
    {
     "data": {
      "text/plain": [
       "count    186.000000\n",
       "mean      12.500000\n",
       "std        2.906191\n",
       "min        7.000000\n",
       "25%       10.000000\n",
       "50%       12.000000\n",
       "75%       15.000000\n",
       "max       20.000000\n",
       "Name: G3, dtype: float64"
      ]
     },
     "execution_count": 149,
     "metadata": {},
     "output_type": "execute_result"
    }
   ],
   "source": [
    "cluster1.G3.describe()"
   ]
  },
  {
   "cell_type": "code",
   "execution_count": 150,
   "id": "1190a93e-a79a-4c66-89ea-63e888e62b61",
   "metadata": {},
   "outputs": [
    {
     "data": {
      "text/plain": [
       "count    16.000000\n",
       "mean     10.687500\n",
       "std       3.754442\n",
       "min       4.000000\n",
       "25%       8.000000\n",
       "50%      11.000000\n",
       "75%      12.250000\n",
       "max      18.000000\n",
       "Name: G3, dtype: float64"
      ]
     },
     "execution_count": 150,
     "metadata": {},
     "output_type": "execute_result"
    }
   ],
   "source": [
    "cluster2.G3.describe()"
   ]
  },
  {
   "cell_type": "code",
   "execution_count": 152,
   "id": "60baa427-ce7c-489f-b281-3a6c17c90791",
   "metadata": {},
   "outputs": [
    {
     "data": {
      "text/plain": [
       "count    79.000000\n",
       "mean     10.189873\n",
       "std       2.965943\n",
       "min       5.000000\n",
       "25%       8.000000\n",
       "50%      10.000000\n",
       "75%      12.000000\n",
       "max      19.000000\n",
       "Name: G3, dtype: float64"
      ]
     },
     "execution_count": 152,
     "metadata": {},
     "output_type": "execute_result"
    }
   ],
   "source": [
    "cluster3.G3.describe()"
   ]
  },
  {
   "cell_type": "code",
   "execution_count": 153,
   "id": "d34b4517-1ea4-4132-aedb-038b315ed903",
   "metadata": {},
   "outputs": [
    {
     "data": {
      "text/plain": [
       "8034.016448647651"
      ]
     },
     "execution_count": 153,
     "metadata": {},
     "output_type": "execute_result"
    }
   ],
   "source": [
    "kmeans.inertia_"
   ]
  },
  {
   "cell_type": "markdown",
   "id": "a3c4ad76-5417-4d64-8e83-a2b637b57773",
   "metadata": {},
   "source": [
    "From the description of `G3`, it appears that `cluster0` successfully identified all of the minimum grades. Comparing the inertia of the two `kmeans` indicates that 4 clusters is fiting better than 2.  "
   ]
  },
  {
   "cell_type": "markdown",
   "id": "77090ddd-1186-4293-a645-f99385cc0670",
   "metadata": {},
   "source": [
    "### 8 Clusters"
   ]
  },
  {
   "cell_type": "code",
   "execution_count": 156,
   "id": "d64bba6a-656f-4107-a0dc-5739480cf254",
   "metadata": {},
   "outputs": [],
   "source": [
    "kmeans = KMeans(n_clusters=8)\n",
    "labels = kmeans.fit_predict(X_train)\n",
    "cluster0 = X_train[labels == 0]\n",
    "cluster1 = X_train[labels == 1]\n",
    "cluster2 = X_train[labels == 2]\n",
    "cluster3 = X_train[labels == 3]\n",
    "cluster4 = X_train[labels == 4]\n",
    "cluster5 = X_train[labels == 5]\n",
    "cluster6 = X_train[labels == 6]\n",
    "cluster7 = X_train[labels == 7]"
   ]
  },
  {
   "cell_type": "code",
   "execution_count": 157,
   "id": "7fbacb7b-2c3a-4f7c-bf92-dd5487ec80af",
   "metadata": {},
   "outputs": [
    {
     "data": {
      "text/plain": [
       "count    31.000000\n",
       "mean     14.677419\n",
       "std       2.087855\n",
       "min      12.000000\n",
       "25%      13.000000\n",
       "50%      14.000000\n",
       "75%      15.500000\n",
       "max      19.000000\n",
       "Name: G3, dtype: float64"
      ]
     },
     "execution_count": 157,
     "metadata": {},
     "output_type": "execute_result"
    }
   ],
   "source": [
    "cluster0.G3.describe()"
   ]
  },
  {
   "cell_type": "code",
   "execution_count": 158,
   "id": "d6e02ba5-91c2-46a2-abfa-809d418aeb79",
   "metadata": {},
   "outputs": [
    {
     "data": {
      "text/plain": [
       "count    65.000000\n",
       "mean     10.230769\n",
       "std       1.598527\n",
       "min       6.000000\n",
       "25%      10.000000\n",
       "50%      10.000000\n",
       "75%      11.000000\n",
       "max      13.000000\n",
       "Name: G3, dtype: float64"
      ]
     },
     "execution_count": 158,
     "metadata": {},
     "output_type": "execute_result"
    }
   ],
   "source": [
    "cluster1.G3.describe()"
   ]
  },
  {
   "cell_type": "code",
   "execution_count": 159,
   "id": "677f7682-5bd2-4d86-8c2c-6bc68e97b0c5",
   "metadata": {},
   "outputs": [
    {
     "data": {
      "text/plain": [
       "count    19.000000\n",
       "mean     10.157895\n",
       "std       3.819004\n",
       "min       4.000000\n",
       "25%       7.500000\n",
       "50%      10.000000\n",
       "75%      12.500000\n",
       "max      18.000000\n",
       "Name: G3, dtype: float64"
      ]
     },
     "execution_count": 159,
     "metadata": {},
     "output_type": "execute_result"
    }
   ],
   "source": [
    "cluster2.G3.describe()"
   ]
  },
  {
   "cell_type": "code",
   "execution_count": 160,
   "id": "5915f987-8b10-4737-8e03-7929c4f4c2ca",
   "metadata": {},
   "outputs": [
    {
     "data": {
      "text/plain": [
       "count    28.000000\n",
       "mean      0.178571\n",
       "std       0.944911\n",
       "min       0.000000\n",
       "25%       0.000000\n",
       "50%       0.000000\n",
       "75%       0.000000\n",
       "max       5.000000\n",
       "Name: G3, dtype: float64"
      ]
     },
     "execution_count": 160,
     "metadata": {},
     "output_type": "execute_result"
    }
   ],
   "source": [
    "cluster3.G3.describe()"
   ]
  },
  {
   "cell_type": "code",
   "execution_count": 161,
   "id": "0f57c542-37cb-4e3a-8a50-f147e6b44744",
   "metadata": {},
   "outputs": [
    {
     "data": {
      "text/plain": [
       "count     3.000000\n",
       "mean     10.000000\n",
       "std       1.732051\n",
       "min       8.000000\n",
       "25%       9.500000\n",
       "50%      11.000000\n",
       "75%      11.000000\n",
       "max      11.000000\n",
       "Name: G3, dtype: float64"
      ]
     },
     "execution_count": 161,
     "metadata": {},
     "output_type": "execute_result"
    }
   ],
   "source": [
    "cluster4.G3.describe()"
   ]
  },
  {
   "cell_type": "code",
   "execution_count": 162,
   "id": "5b7b6121-27c5-4e39-9ba5-839a1ab16b15",
   "metadata": {},
   "outputs": [
    {
     "data": {
      "text/plain": [
       "count    66.000000\n",
       "mean     15.318182\n",
       "std       1.665571\n",
       "min      13.000000\n",
       "25%      14.000000\n",
       "50%      15.000000\n",
       "75%      16.000000\n",
       "max      20.000000\n",
       "Name: G3, dtype: float64"
      ]
     },
     "execution_count": 162,
     "metadata": {},
     "output_type": "execute_result"
    }
   ],
   "source": [
    "cluster5.G3.describe()"
   ]
  },
  {
   "cell_type": "code",
   "execution_count": 163,
   "id": "f9645af4-02e8-4b92-ad93-7a8b927aa5e5",
   "metadata": {},
   "outputs": [
    {
     "data": {
      "text/plain": [
       "count    66.000000\n",
       "mean      9.424242\n",
       "std       1.728144\n",
       "min       5.000000\n",
       "25%       8.250000\n",
       "50%      10.000000\n",
       "75%      10.750000\n",
       "max      12.000000\n",
       "Name: G3, dtype: float64"
      ]
     },
     "execution_count": 163,
     "metadata": {},
     "output_type": "execute_result"
    }
   ],
   "source": [
    "cluster6.G3.describe()"
   ]
  },
  {
   "cell_type": "code",
   "execution_count": 164,
   "id": "34ec6b40-925b-4c62-9ed4-006440ccae1b",
   "metadata": {},
   "outputs": [
    {
     "data": {
      "text/plain": [
       "count    38.000000\n",
       "mean      9.710526\n",
       "std       2.437410\n",
       "min       5.000000\n",
       "25%       8.250000\n",
       "50%      10.000000\n",
       "75%      11.000000\n",
       "max      14.000000\n",
       "Name: G3, dtype: float64"
      ]
     },
     "execution_count": 164,
     "metadata": {},
     "output_type": "execute_result"
    }
   ],
   "source": [
    "cluster7.G3.describe()"
   ]
  },
  {
   "cell_type": "code",
   "execution_count": 165,
   "id": "56ad5567-ebea-497e-b661-4505d3374ded",
   "metadata": {},
   "outputs": [
    {
     "data": {
      "text/plain": [
       "4384.132541651896"
      ]
     },
     "execution_count": 165,
     "metadata": {},
     "output_type": "execute_result"
    }
   ],
   "source": [
    "kmeans.inertia_"
   ]
  },
  {
   "cell_type": "markdown",
   "id": "39a11310-1ae3-40cd-af63-d540c551d3f9",
   "metadata": {},
   "source": [
    "Now with 8 clusters, we are beginning to separate groups better. This is indicated as we have halved our inertia."
   ]
  },
  {
   "cell_type": "markdown",
   "id": "077ab038-a0bb-4ffd-8d34-722cb3c13b8f",
   "metadata": {},
   "source": [
    "### 22 Clusters (Attempting to Over-fit)"
   ]
  },
  {
   "cell_type": "code",
   "execution_count": 186,
   "id": "deabde25-4c25-4d90-871d-4a7c7deaa650",
   "metadata": {},
   "outputs": [],
   "source": [
    "kmeans = KMeans(n_clusters=22)\n",
    "labels = kmeans.fit_predict(X_train)\n",
    "cluster0 = X_train[labels == 0]\n",
    "cluster1 = X_train[labels == 1]\n",
    "cluster2 = X_train[labels == 2]\n",
    "cluster3 = X_train[labels == 3]\n",
    "cluster4 = X_train[labels == 4]\n",
    "cluster5 = X_train[labels == 5]\n",
    "cluster6 = X_train[labels == 6]\n",
    "cluster7 = X_train[labels == 7]\n",
    "cluster8 = X_train[labels == 8]\n",
    "cluster9 = X_train[labels == 9]\n",
    "cluster10 = X_train[labels == 10]\n",
    "cluster11 = X_train[labels == 11]"
   ]
  },
  {
   "cell_type": "code",
   "execution_count": 187,
   "id": "f912e6f4-51f5-4e21-969f-c7e38b370c54",
   "metadata": {},
   "outputs": [
    {
     "data": {
      "text/plain": [
       "count    20.000000\n",
       "mean     10.500000\n",
       "std       0.888523\n",
       "min       9.000000\n",
       "25%      10.000000\n",
       "50%      10.000000\n",
       "75%      11.000000\n",
       "max      12.000000\n",
       "Name: G3, dtype: float64"
      ]
     },
     "execution_count": 187,
     "metadata": {},
     "output_type": "execute_result"
    }
   ],
   "source": [
    "cluster0.G3.describe()"
   ]
  },
  {
   "cell_type": "code",
   "execution_count": 188,
   "id": "ca546338-b773-4d44-8f85-c9b894fc38ee",
   "metadata": {},
   "outputs": [
    {
     "data": {
      "text/plain": [
       "count     8.00000\n",
       "mean     11.37500\n",
       "std       1.30247\n",
       "min      10.00000\n",
       "25%      10.00000\n",
       "50%      11.50000\n",
       "75%      12.25000\n",
       "max      13.00000\n",
       "Name: G3, dtype: float64"
      ]
     },
     "execution_count": 188,
     "metadata": {},
     "output_type": "execute_result"
    }
   ],
   "source": [
    "cluster1.G3.describe()"
   ]
  },
  {
   "cell_type": "code",
   "execution_count": 189,
   "id": "04b885a9-b094-40bc-9529-816ffdf80ab1",
   "metadata": {},
   "outputs": [
    {
     "data": {
      "text/plain": [
       "count    27.000000\n",
       "mean     15.962963\n",
       "std       1.159625\n",
       "min      14.000000\n",
       "25%      15.000000\n",
       "50%      16.000000\n",
       "75%      17.000000\n",
       "max      18.000000\n",
       "Name: G3, dtype: float64"
      ]
     },
     "execution_count": 189,
     "metadata": {},
     "output_type": "execute_result"
    }
   ],
   "source": [
    "cluster2.G3.describe()"
   ]
  },
  {
   "cell_type": "code",
   "execution_count": 190,
   "id": "3dfd0250-23dd-448f-a6c7-843b8771fb62",
   "metadata": {},
   "outputs": [
    {
     "data": {
      "text/plain": [
       "count    13.0\n",
       "mean      0.0\n",
       "std       0.0\n",
       "min       0.0\n",
       "25%       0.0\n",
       "50%       0.0\n",
       "75%       0.0\n",
       "max       0.0\n",
       "Name: G3, dtype: float64"
      ]
     },
     "execution_count": 190,
     "metadata": {},
     "output_type": "execute_result"
    }
   ],
   "source": [
    "cluster3.G3.describe()"
   ]
  },
  {
   "cell_type": "code",
   "execution_count": 191,
   "id": "f1be3b04-dc45-404d-a588-73d649dd5a83",
   "metadata": {},
   "outputs": [
    {
     "data": {
      "text/plain": [
       "count     2.00000\n",
       "mean      9.50000\n",
       "std       2.12132\n",
       "min       8.00000\n",
       "25%       8.75000\n",
       "50%       9.50000\n",
       "75%      10.25000\n",
       "max      11.00000\n",
       "Name: G3, dtype: float64"
      ]
     },
     "execution_count": 191,
     "metadata": {},
     "output_type": "execute_result"
    }
   ],
   "source": [
    "cluster4.G3.describe()"
   ]
  },
  {
   "cell_type": "code",
   "execution_count": 192,
   "id": "201d8923-305f-4179-a24b-822548b13346",
   "metadata": {},
   "outputs": [
    {
     "data": {
      "text/plain": [
       "count    26.000000\n",
       "mean     10.692308\n",
       "std       1.378963\n",
       "min       8.000000\n",
       "25%      10.000000\n",
       "50%      10.000000\n",
       "75%      11.750000\n",
       "max      13.000000\n",
       "Name: G3, dtype: float64"
      ]
     },
     "execution_count": 192,
     "metadata": {},
     "output_type": "execute_result"
    }
   ],
   "source": [
    "cluster5.G3.describe()"
   ]
  },
  {
   "cell_type": "code",
   "execution_count": 193,
   "id": "582073cd-d142-495d-8c5b-103a38a993eb",
   "metadata": {},
   "outputs": [
    {
     "data": {
      "text/plain": [
       "count    19.000000\n",
       "mean      8.315789\n",
       "std       1.492672\n",
       "min       5.000000\n",
       "25%       8.000000\n",
       "50%       8.000000\n",
       "75%       9.500000\n",
       "max      10.000000\n",
       "Name: G3, dtype: float64"
      ]
     },
     "execution_count": 193,
     "metadata": {},
     "output_type": "execute_result"
    }
   ],
   "source": [
    "cluster6.G3.describe()"
   ]
  },
  {
   "cell_type": "code",
   "execution_count": 194,
   "id": "33c9c56e-02f9-475b-becb-318c4da1bf77",
   "metadata": {},
   "outputs": [
    {
     "data": {
      "text/plain": [
       "count    32.000000\n",
       "mean     12.250000\n",
       "std       1.218142\n",
       "min      10.000000\n",
       "25%      11.000000\n",
       "50%      12.000000\n",
       "75%      13.000000\n",
       "max      14.000000\n",
       "Name: G3, dtype: float64"
      ]
     },
     "execution_count": 194,
     "metadata": {},
     "output_type": "execute_result"
    }
   ],
   "source": [
    "cluster7.G3.describe()"
   ]
  },
  {
   "cell_type": "code",
   "execution_count": 195,
   "id": "897d9806-bc8d-496f-8760-0b90d3c4a966",
   "metadata": {},
   "outputs": [
    {
     "data": {
      "text/plain": [
       "count    15.000000\n",
       "mean      7.866667\n",
       "std       1.767430\n",
       "min       5.000000\n",
       "25%       7.000000\n",
       "50%       8.000000\n",
       "75%       9.000000\n",
       "max      10.000000\n",
       "Name: G3, dtype: float64"
      ]
     },
     "execution_count": 195,
     "metadata": {},
     "output_type": "execute_result"
    }
   ],
   "source": [
    "cluster8.G3.describe()"
   ]
  },
  {
   "cell_type": "code",
   "execution_count": 196,
   "id": "e81ce81e-b4de-4939-9f8b-c9122f2894bd",
   "metadata": {},
   "outputs": [
    {
     "data": {
      "text/plain": [
       "count     1.0\n",
       "mean     11.0\n",
       "std       NaN\n",
       "min      11.0\n",
       "25%      11.0\n",
       "50%      11.0\n",
       "75%      11.0\n",
       "max      11.0\n",
       "Name: G3, dtype: float64"
      ]
     },
     "execution_count": 196,
     "metadata": {},
     "output_type": "execute_result"
    }
   ],
   "source": [
    "cluster9.G3.describe()"
   ]
  },
  {
   "cell_type": "code",
   "execution_count": 197,
   "id": "e4f6e55b-4e87-4ee3-aac9-ea45ab6b0298",
   "metadata": {},
   "outputs": [
    {
     "data": {
      "text/plain": [
       "count    25.000000\n",
       "mean     13.960000\n",
       "std       1.019804\n",
       "min      12.000000\n",
       "25%      13.000000\n",
       "50%      14.000000\n",
       "75%      14.000000\n",
       "max      16.000000\n",
       "Name: G3, dtype: float64"
      ]
     },
     "execution_count": 197,
     "metadata": {},
     "output_type": "execute_result"
    }
   ],
   "source": [
    "cluster10.G3.describe()"
   ]
  },
  {
   "cell_type": "code",
   "execution_count": 198,
   "id": "c4d3d57c-1e57-4710-b277-0389f570c972",
   "metadata": {},
   "outputs": [
    {
     "data": {
      "text/plain": [
       "count    16.000000\n",
       "mean     15.375000\n",
       "std       1.821172\n",
       "min      13.000000\n",
       "25%      14.750000\n",
       "50%      15.000000\n",
       "75%      15.250000\n",
       "max      19.000000\n",
       "Name: G3, dtype: float64"
      ]
     },
     "execution_count": 198,
     "metadata": {},
     "output_type": "execute_result"
    }
   ],
   "source": [
    "cluster11.G3.describe()"
   ]
  },
  {
   "cell_type": "code",
   "execution_count": 199,
   "id": "ef4c441c-c2ad-4e12-a7c5-a1f1583674ab",
   "metadata": {},
   "outputs": [
    {
     "data": {
      "text/plain": [
       "2648.922544020307"
      ]
     },
     "execution_count": 199,
     "metadata": {},
     "output_type": "execute_result"
    }
   ],
   "source": [
    "kmeans.inertia_"
   ]
  },
  {
   "cell_type": "markdown",
   "id": "7e2ac816-e07d-496d-90d7-da771235e13c",
   "metadata": {},
   "source": [
    "For 22 clusters, we can see that there is a lot of overlap between the clusters. We are seeing an asymptote in terms of sum of squares.  \n",
    "\n",
    "To see this relationship further, I will plot the sum of squares versus number of clusters. "
   ]
  },
  {
   "cell_type": "code",
   "execution_count": 205,
   "id": "e8653a2f-9c6a-47d4-a0d3-29317653de06",
   "metadata": {},
   "outputs": [],
   "source": [
    "ss = [] \n",
    "for x in range(1,2*len(data.columns)):\n",
    "    kmeans = KMeans(n_clusters= x)\n",
    "    labels = kmeans.fit_predict(X_train)\n",
    "    ss.append(kmeans.inertia_)"
   ]
  },
  {
   "cell_type": "code",
   "execution_count": 206,
   "id": "99e47089-8746-4b00-b1f6-5c31b57aa138",
   "metadata": {},
   "outputs": [
    {
     "data": {
      "text/plain": [
       "Text(0, 0.5, 'Sum of Squared Distances')"
      ]
     },
     "execution_count": 206,
     "metadata": {},
     "output_type": "execute_result"
    },
    {
     "data": {
      "image/png": "[encoded data removed]",
      "text/plain": [
       "<Figure size 640x480 with 1 Axes>"
      ]
     },
     "metadata": {},
     "output_type": "display_data"
    }
   ],
   "source": [
    "plt.plot(range(1,2*len(data.columns)), ss)\n",
    "plt.title('n-Clusters vs. Sum of Squared Distances')\n",
    "plt.xlabel('# of k-clusters')\n",
    "plt.ylabel('Sum of Squared Distances')"
   ]
  },
  {
   "cell_type": "markdown",
   "id": "fba30ee0-29ba-4d60-945b-b023484624f4",
   "metadata": {},
   "source": [
    "From the graph above, it shows that we should probably chose between 8 and 10 clusters for the best possible result that fits our data but doesn't over fit."
   ]
  },
  {
   "cell_type": "code",
   "execution_count": 207,
   "id": "369a217e-2d57-43b9-9a06-7459789c78ce",
   "metadata": {},
   "outputs": [],
   "source": [
    "from sklearn.metrics import * "
   ]
  },
  {
   "cell_type": "code",
   "execution_count": 217,
   "id": "9ec5d371-f72d-42ab-8901-fa1b58b84fc3",
   "metadata": {},
   "outputs": [],
   "source": [
    "kmeans = KMeans(n_clusters=8)\n",
    "labels = kmeans.fit_predict(X_train)"
   ]
  },
  {
   "cell_type": "code",
   "execution_count": 222,
   "id": "5bb5cad6-03eb-465d-a993-37a96368fce0",
   "metadata": {},
   "outputs": [
    {
     "data": {
      "text/plain": [
       "array([5, 7, 1, 1, 1, 5, 1, 1, 0, 2, 1, 1, 3, 5, 1, 5, 1, 6, 7, 7, 1, 6,\n",
       "       1, 5, 7, 1, 0, 4, 3, 0, 1, 1, 3, 1, 0, 5, 6, 7, 1, 3, 1, 7, 3, 7,\n",
       "       3, 3, 1, 6, 1, 1, 3, 5, 7, 2, 0, 4, 3, 5, 7, 6, 3, 1, 3, 1, 1, 6,\n",
       "       3, 5, 6, 3, 1, 3, 0, 5, 3, 3, 1, 5, 0], dtype=int32)"
      ]
     },
     "execution_count": 222,
     "metadata": {},
     "output_type": "execute_result"
    }
   ],
   "source": [
    "pred = kmeans.predict(X_test)\n",
    "pred"
   ]
  },
  {
   "cell_type": "code",
   "execution_count": 228,
   "id": "8a0716ac-1faf-4303-a538-a7161d0647c5",
   "metadata": {},
   "outputs": [],
   "source": [
    "cluster0 = X_test[pred==0]\n",
    "cluster1 = X_test[pred==1]\n",
    "cluster2 = X_test[pred==2]\n",
    "cluster3 = X_test[pred==3]\n",
    "cluster4 = X_test[pred==4]\n",
    "cluster5 = X_test[pred==5]\n",
    "cluster6 = X_test[pred==6]\n",
    "cluster7 = X_test[pred==7]"
   ]
  },
  {
   "cell_type": "code",
   "execution_count": 229,
   "id": "4695b2e6-97d8-4d66-b080-45933a9d3d54",
   "metadata": {},
   "outputs": [
    {
     "data": {
      "text/html": [
       "<div>\n",
       "<style scoped>\n",
       "    .dataframe tbody tr th:only-of-type {\n",
       "        vertical-align: middle;\n",
       "    }\n",
       "\n",
       "    .dataframe tbody tr th {\n",
       "        vertical-align: top;\n",
       "    }\n",
       "\n",
       "    .dataframe thead th {\n",
       "        text-align: right;\n",
       "    }\n",
       "</style>\n",
       "<table border=\"1\" class=\"dataframe\">\n",
       "  <thead>\n",
       "    <tr style=\"text-align: right;\">\n",
       "      <th></th>\n",
       "      <th>age</th>\n",
       "      <th>romantic</th>\n",
       "      <th>internet</th>\n",
       "      <th>Pstatus</th>\n",
       "      <th>health</th>\n",
       "      <th>absences</th>\n",
       "      <th>goout</th>\n",
       "      <th>famsup</th>\n",
       "      <th>paid</th>\n",
       "      <th>failures</th>\n",
       "      <th>higher</th>\n",
       "      <th>schoolsup</th>\n",
       "      <th>studytime</th>\n",
       "      <th>G3</th>\n",
       "    </tr>\n",
       "  </thead>\n",
       "  <tbody>\n",
       "    <tr>\n",
       "      <th>258</th>\n",
       "      <td>18.0</td>\n",
       "      <td>0.0</td>\n",
       "      <td>1.0</td>\n",
       "      <td>1.0</td>\n",
       "      <td>4.0</td>\n",
       "      <td>8.0</td>\n",
       "      <td>4.0</td>\n",
       "      <td>0.0</td>\n",
       "      <td>0.0</td>\n",
       "      <td>0.0</td>\n",
       "      <td>1.0</td>\n",
       "      <td>0.0</td>\n",
       "      <td>2.0</td>\n",
       "      <td>14.0</td>\n",
       "    </tr>\n",
       "    <tr>\n",
       "      <th>256</th>\n",
       "      <td>17.0</td>\n",
       "      <td>0.0</td>\n",
       "      <td>1.0</td>\n",
       "      <td>1.0</td>\n",
       "      <td>4.0</td>\n",
       "      <td>6.0</td>\n",
       "      <td>3.0</td>\n",
       "      <td>1.0</td>\n",
       "      <td>1.0</td>\n",
       "      <td>0.0</td>\n",
       "      <td>1.0</td>\n",
       "      <td>0.0</td>\n",
       "      <td>4.0</td>\n",
       "      <td>13.0</td>\n",
       "    </tr>\n",
       "    <tr>\n",
       "      <th>342</th>\n",
       "      <td>18.0</td>\n",
       "      <td>1.0</td>\n",
       "      <td>1.0</td>\n",
       "      <td>1.0</td>\n",
       "      <td>5.0</td>\n",
       "      <td>11.0</td>\n",
       "      <td>3.0</td>\n",
       "      <td>0.0</td>\n",
       "      <td>0.0</td>\n",
       "      <td>0.0</td>\n",
       "      <td>1.0</td>\n",
       "      <td>0.0</td>\n",
       "      <td>2.0</td>\n",
       "      <td>15.0</td>\n",
       "    </tr>\n",
       "    <tr>\n",
       "      <th>69</th>\n",
       "      <td>15.0</td>\n",
       "      <td>0.0</td>\n",
       "      <td>1.0</td>\n",
       "      <td>1.0</td>\n",
       "      <td>3.0</td>\n",
       "      <td>12.0</td>\n",
       "      <td>2.0</td>\n",
       "      <td>1.0</td>\n",
       "      <td>0.0</td>\n",
       "      <td>0.0</td>\n",
       "      <td>1.0</td>\n",
       "      <td>0.0</td>\n",
       "      <td>4.0</td>\n",
       "      <td>16.0</td>\n",
       "    </tr>\n",
       "    <tr>\n",
       "      <th>299</th>\n",
       "      <td>18.0</td>\n",
       "      <td>1.0</td>\n",
       "      <td>1.0</td>\n",
       "      <td>1.0</td>\n",
       "      <td>1.0</td>\n",
       "      <td>5.0</td>\n",
       "      <td>2.0</td>\n",
       "      <td>1.0</td>\n",
       "      <td>1.0</td>\n",
       "      <td>0.0</td>\n",
       "      <td>1.0</td>\n",
       "      <td>0.0</td>\n",
       "      <td>1.0</td>\n",
       "      <td>16.0</td>\n",
       "    </tr>\n",
       "    <tr>\n",
       "      <th>331</th>\n",
       "      <td>17.0</td>\n",
       "      <td>1.0</td>\n",
       "      <td>1.0</td>\n",
       "      <td>1.0</td>\n",
       "      <td>5.0</td>\n",
       "      <td>7.0</td>\n",
       "      <td>3.0</td>\n",
       "      <td>1.0</td>\n",
       "      <td>0.0</td>\n",
       "      <td>0.0</td>\n",
       "      <td>1.0</td>\n",
       "      <td>0.0</td>\n",
       "      <td>3.0</td>\n",
       "      <td>14.0</td>\n",
       "    </tr>\n",
       "    <tr>\n",
       "      <th>112</th>\n",
       "      <td>16.0</td>\n",
       "      <td>0.0</td>\n",
       "      <td>1.0</td>\n",
       "      <td>1.0</td>\n",
       "      <td>5.0</td>\n",
       "      <td>6.0</td>\n",
       "      <td>2.0</td>\n",
       "      <td>0.0</td>\n",
       "      <td>0.0</td>\n",
       "      <td>1.0</td>\n",
       "      <td>1.0</td>\n",
       "      <td>1.0</td>\n",
       "      <td>2.0</td>\n",
       "      <td>13.0</td>\n",
       "    </tr>\n",
       "  </tbody>\n",
       "</table>\n",
       "</div>"
      ],
      "text/plain": [
       "      age  romantic  internet  Pstatus  health  absences  goout  famsup  paid  \\\n",
       "258  18.0       0.0       1.0      1.0     4.0       8.0    4.0     0.0   0.0   \n",
       "256  17.0       0.0       1.0      1.0     4.0       6.0    3.0     1.0   1.0   \n",
       "342  18.0       1.0       1.0      1.0     5.0      11.0    3.0     0.0   0.0   \n",
       "69   15.0       0.0       1.0      1.0     3.0      12.0    2.0     1.0   0.0   \n",
       "299  18.0       1.0       1.0      1.0     1.0       5.0    2.0     1.0   1.0   \n",
       "331  17.0       1.0       1.0      1.0     5.0       7.0    3.0     1.0   0.0   \n",
       "112  16.0       0.0       1.0      1.0     5.0       6.0    2.0     0.0   0.0   \n",
       "\n",
       "     failures  higher  schoolsup  studytime    G3  \n",
       "258       0.0     1.0        0.0        2.0  14.0  \n",
       "256       0.0     1.0        0.0        4.0  13.0  \n",
       "342       0.0     1.0        0.0        2.0  15.0  \n",
       "69        0.0     1.0        0.0        4.0  16.0  \n",
       "299       0.0     1.0        0.0        1.0  16.0  \n",
       "331       0.0     1.0        0.0        3.0  14.0  \n",
       "112       1.0     1.0        1.0        2.0  13.0  "
      ]
     },
     "execution_count": 229,
     "metadata": {},
     "output_type": "execute_result"
    }
   ],
   "source": [
    "cluster0"
   ]
  },
  {
   "cell_type": "code",
   "execution_count": 230,
   "id": "0c94efba-72a8-4228-837b-638fe8a4a84f",
   "metadata": {},
   "outputs": [
    {
     "data": {
      "text/html": [
       "<div>\n",
       "<style scoped>\n",
       "    .dataframe tbody tr th:only-of-type {\n",
       "        vertical-align: middle;\n",
       "    }\n",
       "\n",
       "    .dataframe tbody tr th {\n",
       "        vertical-align: top;\n",
       "    }\n",
       "\n",
       "    .dataframe thead th {\n",
       "        text-align: right;\n",
       "    }\n",
       "</style>\n",
       "<table border=\"1\" class=\"dataframe\">\n",
       "  <thead>\n",
       "    <tr style=\"text-align: right;\">\n",
       "      <th></th>\n",
       "      <th>age</th>\n",
       "      <th>romantic</th>\n",
       "      <th>internet</th>\n",
       "      <th>Pstatus</th>\n",
       "      <th>health</th>\n",
       "      <th>absences</th>\n",
       "      <th>goout</th>\n",
       "      <th>famsup</th>\n",
       "      <th>paid</th>\n",
       "      <th>failures</th>\n",
       "      <th>higher</th>\n",
       "      <th>schoolsup</th>\n",
       "      <th>studytime</th>\n",
       "      <th>G3</th>\n",
       "    </tr>\n",
       "  </thead>\n",
       "  <tbody>\n",
       "    <tr>\n",
       "      <th>176</th>\n",
       "      <td>16.0</td>\n",
       "      <td>0.0</td>\n",
       "      <td>1.0</td>\n",
       "      <td>1.0</td>\n",
       "      <td>5.0</td>\n",
       "      <td>2.0</td>\n",
       "      <td>4.0</td>\n",
       "      <td>0.0</td>\n",
       "      <td>1.0</td>\n",
       "      <td>0.0</td>\n",
       "      <td>1.0</td>\n",
       "      <td>0.0</td>\n",
       "      <td>2.0</td>\n",
       "      <td>11.0</td>\n",
       "    </tr>\n",
       "    <tr>\n",
       "      <th>181</th>\n",
       "      <td>16.0</td>\n",
       "      <td>1.0</td>\n",
       "      <td>1.0</td>\n",
       "      <td>1.0</td>\n",
       "      <td>3.0</td>\n",
       "      <td>2.0</td>\n",
       "      <td>3.0</td>\n",
       "      <td>0.0</td>\n",
       "      <td>1.0</td>\n",
       "      <td>0.0</td>\n",
       "      <td>1.0</td>\n",
       "      <td>0.0</td>\n",
       "      <td>2.0</td>\n",
       "      <td>12.0</td>\n",
       "    </tr>\n",
       "    <tr>\n",
       "      <th>49</th>\n",
       "      <td>15.0</td>\n",
       "      <td>0.0</td>\n",
       "      <td>1.0</td>\n",
       "      <td>1.0</td>\n",
       "      <td>3.0</td>\n",
       "      <td>2.0</td>\n",
       "      <td>4.0</td>\n",
       "      <td>1.0</td>\n",
       "      <td>0.0</td>\n",
       "      <td>1.0</td>\n",
       "      <td>1.0</td>\n",
       "      <td>1.0</td>\n",
       "      <td>2.0</td>\n",
       "      <td>7.0</td>\n",
       "    </tr>\n",
       "    <tr>\n",
       "      <th>282</th>\n",
       "      <td>18.0</td>\n",
       "      <td>0.0</td>\n",
       "      <td>0.0</td>\n",
       "      <td>1.0</td>\n",
       "      <td>3.0</td>\n",
       "      <td>1.0</td>\n",
       "      <td>2.0</td>\n",
       "      <td>1.0</td>\n",
       "      <td>1.0</td>\n",
       "      <td>0.0</td>\n",
       "      <td>1.0</td>\n",
       "      <td>0.0</td>\n",
       "      <td>4.0</td>\n",
       "      <td>12.0</td>\n",
       "    </tr>\n",
       "    <tr>\n",
       "      <th>325</th>\n",
       "      <td>18.0</td>\n",
       "      <td>0.0</td>\n",
       "      <td>1.0</td>\n",
       "      <td>1.0</td>\n",
       "      <td>3.0</td>\n",
       "      <td>3.0</td>\n",
       "      <td>3.0</td>\n",
       "      <td>0.0</td>\n",
       "      <td>0.0</td>\n",
       "      <td>0.0</td>\n",
       "      <td>1.0</td>\n",
       "      <td>0.0</td>\n",
       "      <td>3.0</td>\n",
       "      <td>11.0</td>\n",
       "    </tr>\n",
       "    <tr>\n",
       "      <th>365</th>\n",
       "      <td>18.0</td>\n",
       "      <td>0.0</td>\n",
       "      <td>0.0</td>\n",
       "      <td>1.0</td>\n",
       "      <td>3.0</td>\n",
       "      <td>4.0</td>\n",
       "      <td>4.0</td>\n",
       "      <td>1.0</td>\n",
       "      <td>1.0</td>\n",
       "      <td>0.0</td>\n",
       "      <td>1.0</td>\n",
       "      <td>0.0</td>\n",
       "      <td>2.0</td>\n",
       "      <td>10.0</td>\n",
       "    </tr>\n",
       "    <tr>\n",
       "      <th>330</th>\n",
       "      <td>18.0</td>\n",
       "      <td>0.0</td>\n",
       "      <td>1.0</td>\n",
       "      <td>1.0</td>\n",
       "      <td>5.0</td>\n",
       "      <td>2.0</td>\n",
       "      <td>5.0</td>\n",
       "      <td>1.0</td>\n",
       "      <td>0.0</td>\n",
       "      <td>0.0</td>\n",
       "      <td>1.0</td>\n",
       "      <td>0.0</td>\n",
       "      <td>4.0</td>\n",
       "      <td>8.0</td>\n",
       "    </tr>\n",
       "    <tr>\n",
       "      <th>92</th>\n",
       "      <td>16.0</td>\n",
       "      <td>0.0</td>\n",
       "      <td>0.0</td>\n",
       "      <td>1.0</td>\n",
       "      <td>2.0</td>\n",
       "      <td>4.0</td>\n",
       "      <td>3.0</td>\n",
       "      <td>1.0</td>\n",
       "      <td>0.0</td>\n",
       "      <td>0.0</td>\n",
       "      <td>1.0</td>\n",
       "      <td>1.0</td>\n",
       "      <td>2.0</td>\n",
       "      <td>6.0</td>\n",
       "    </tr>\n",
       "    <tr>\n",
       "      <th>375</th>\n",
       "      <td>18.0</td>\n",
       "      <td>0.0</td>\n",
       "      <td>1.0</td>\n",
       "      <td>1.0</td>\n",
       "      <td>4.0</td>\n",
       "      <td>2.0</td>\n",
       "      <td>2.0</td>\n",
       "      <td>0.0</td>\n",
       "      <td>0.0</td>\n",
       "      <td>0.0</td>\n",
       "      <td>1.0</td>\n",
       "      <td>0.0</td>\n",
       "      <td>3.0</td>\n",
       "      <td>10.0</td>\n",
       "    </tr>\n",
       "    <tr>\n",
       "      <th>155</th>\n",
       "      <td>15.0</td>\n",
       "      <td>0.0</td>\n",
       "      <td>0.0</td>\n",
       "      <td>1.0</td>\n",
       "      <td>1.0</td>\n",
       "      <td>2.0</td>\n",
       "      <td>4.0</td>\n",
       "      <td>0.0</td>\n",
       "      <td>1.0</td>\n",
       "      <td>0.0</td>\n",
       "      <td>1.0</td>\n",
       "      <td>1.0</td>\n",
       "      <td>2.0</td>\n",
       "      <td>8.0</td>\n",
       "    </tr>\n",
       "    <tr>\n",
       "      <th>23</th>\n",
       "      <td>16.0</td>\n",
       "      <td>0.0</td>\n",
       "      <td>1.0</td>\n",
       "      <td>1.0</td>\n",
       "      <td>5.0</td>\n",
       "      <td>0.0</td>\n",
       "      <td>4.0</td>\n",
       "      <td>1.0</td>\n",
       "      <td>0.0</td>\n",
       "      <td>0.0</td>\n",
       "      <td>1.0</td>\n",
       "      <td>0.0</td>\n",
       "      <td>2.0</td>\n",
       "      <td>12.0</td>\n",
       "    </tr>\n",
       "    <tr>\n",
       "      <th>10</th>\n",
       "      <td>15.0</td>\n",
       "      <td>0.0</td>\n",
       "      <td>1.0</td>\n",
       "      <td>1.0</td>\n",
       "      <td>2.0</td>\n",
       "      <td>0.0</td>\n",
       "      <td>3.0</td>\n",
       "      <td>1.0</td>\n",
       "      <td>1.0</td>\n",
       "      <td>0.0</td>\n",
       "      <td>1.0</td>\n",
       "      <td>0.0</td>\n",
       "      <td>2.0</td>\n",
       "      <td>9.0</td>\n",
       "    </tr>\n",
       "    <tr>\n",
       "      <th>90</th>\n",
       "      <td>16.0</td>\n",
       "      <td>1.0</td>\n",
       "      <td>1.0</td>\n",
       "      <td>1.0</td>\n",
       "      <td>4.0</td>\n",
       "      <td>0.0</td>\n",
       "      <td>3.0</td>\n",
       "      <td>1.0</td>\n",
       "      <td>1.0</td>\n",
       "      <td>0.0</td>\n",
       "      <td>1.0</td>\n",
       "      <td>0.0</td>\n",
       "      <td>3.0</td>\n",
       "      <td>8.0</td>\n",
       "    </tr>\n",
       "    <tr>\n",
       "      <th>285</th>\n",
       "      <td>17.0</td>\n",
       "      <td>0.0</td>\n",
       "      <td>1.0</td>\n",
       "      <td>1.0</td>\n",
       "      <td>4.0</td>\n",
       "      <td>2.0</td>\n",
       "      <td>3.0</td>\n",
       "      <td>0.0</td>\n",
       "      <td>1.0</td>\n",
       "      <td>0.0</td>\n",
       "      <td>1.0</td>\n",
       "      <td>0.0</td>\n",
       "      <td>2.0</td>\n",
       "      <td>11.0</td>\n",
       "    </tr>\n",
       "    <tr>\n",
       "      <th>241</th>\n",
       "      <td>17.0</td>\n",
       "      <td>0.0</td>\n",
       "      <td>1.0</td>\n",
       "      <td>0.0</td>\n",
       "      <td>4.0</td>\n",
       "      <td>2.0</td>\n",
       "      <td>3.0</td>\n",
       "      <td>1.0</td>\n",
       "      <td>1.0</td>\n",
       "      <td>0.0</td>\n",
       "      <td>1.0</td>\n",
       "      <td>0.0</td>\n",
       "      <td>2.0</td>\n",
       "      <td>12.0</td>\n",
       "    </tr>\n",
       "    <tr>\n",
       "      <th>274</th>\n",
       "      <td>17.0</td>\n",
       "      <td>1.0</td>\n",
       "      <td>1.0</td>\n",
       "      <td>1.0</td>\n",
       "      <td>1.0</td>\n",
       "      <td>2.0</td>\n",
       "      <td>3.0</td>\n",
       "      <td>1.0</td>\n",
       "      <td>1.0</td>\n",
       "      <td>0.0</td>\n",
       "      <td>1.0</td>\n",
       "      <td>0.0</td>\n",
       "      <td>2.0</td>\n",
       "      <td>10.0</td>\n",
       "    </tr>\n",
       "    <tr>\n",
       "      <th>191</th>\n",
       "      <td>17.0</td>\n",
       "      <td>0.0</td>\n",
       "      <td>1.0</td>\n",
       "      <td>1.0</td>\n",
       "      <td>3.0</td>\n",
       "      <td>0.0</td>\n",
       "      <td>3.0</td>\n",
       "      <td>0.0</td>\n",
       "      <td>0.0</td>\n",
       "      <td>0.0</td>\n",
       "      <td>1.0</td>\n",
       "      <td>0.0</td>\n",
       "      <td>2.0</td>\n",
       "      <td>9.0</td>\n",
       "    </tr>\n",
       "    <tr>\n",
       "      <th>263</th>\n",
       "      <td>17.0</td>\n",
       "      <td>0.0</td>\n",
       "      <td>0.0</td>\n",
       "      <td>1.0</td>\n",
       "      <td>4.0</td>\n",
       "      <td>4.0</td>\n",
       "      <td>3.0</td>\n",
       "      <td>0.0</td>\n",
       "      <td>0.0</td>\n",
       "      <td>0.0</td>\n",
       "      <td>1.0</td>\n",
       "      <td>0.0</td>\n",
       "      <td>3.0</td>\n",
       "      <td>9.0</td>\n",
       "    </tr>\n",
       "    <tr>\n",
       "      <th>138</th>\n",
       "      <td>16.0</td>\n",
       "      <td>1.0</td>\n",
       "      <td>0.0</td>\n",
       "      <td>1.0</td>\n",
       "      <td>5.0</td>\n",
       "      <td>0.0</td>\n",
       "      <td>4.0</td>\n",
       "      <td>0.0</td>\n",
       "      <td>0.0</td>\n",
       "      <td>1.0</td>\n",
       "      <td>1.0</td>\n",
       "      <td>0.0</td>\n",
       "      <td>2.0</td>\n",
       "      <td>12.0</td>\n",
       "    </tr>\n",
       "    <tr>\n",
       "      <th>126</th>\n",
       "      <td>15.0</td>\n",
       "      <td>1.0</td>\n",
       "      <td>1.0</td>\n",
       "      <td>0.0</td>\n",
       "      <td>1.0</td>\n",
       "      <td>0.0</td>\n",
       "      <td>2.0</td>\n",
       "      <td>0.0</td>\n",
       "      <td>0.0</td>\n",
       "      <td>0.0</td>\n",
       "      <td>1.0</td>\n",
       "      <td>1.0</td>\n",
       "      <td>2.0</td>\n",
       "      <td>11.0</td>\n",
       "    </tr>\n",
       "    <tr>\n",
       "      <th>177</th>\n",
       "      <td>17.0</td>\n",
       "      <td>0.0</td>\n",
       "      <td>1.0</td>\n",
       "      <td>1.0</td>\n",
       "      <td>4.0</td>\n",
       "      <td>4.0</td>\n",
       "      <td>4.0</td>\n",
       "      <td>0.0</td>\n",
       "      <td>0.0</td>\n",
       "      <td>0.0</td>\n",
       "      <td>1.0</td>\n",
       "      <td>0.0</td>\n",
       "      <td>2.0</td>\n",
       "      <td>6.0</td>\n",
       "    </tr>\n",
       "    <tr>\n",
       "      <th>84</th>\n",
       "      <td>15.0</td>\n",
       "      <td>0.0</td>\n",
       "      <td>1.0</td>\n",
       "      <td>1.0</td>\n",
       "      <td>4.0</td>\n",
       "      <td>2.0</td>\n",
       "      <td>2.0</td>\n",
       "      <td>1.0</td>\n",
       "      <td>0.0</td>\n",
       "      <td>0.0</td>\n",
       "      <td>1.0</td>\n",
       "      <td>0.0</td>\n",
       "      <td>2.0</td>\n",
       "      <td>10.0</td>\n",
       "    </tr>\n",
       "    <tr>\n",
       "      <th>172</th>\n",
       "      <td>17.0</td>\n",
       "      <td>0.0</td>\n",
       "      <td>1.0</td>\n",
       "      <td>1.0</td>\n",
       "      <td>5.0</td>\n",
       "      <td>0.0</td>\n",
       "      <td>4.0</td>\n",
       "      <td>1.0</td>\n",
       "      <td>1.0</td>\n",
       "      <td>0.0</td>\n",
       "      <td>1.0</td>\n",
       "      <td>0.0</td>\n",
       "      <td>2.0</td>\n",
       "      <td>10.0</td>\n",
       "    </tr>\n",
       "    <tr>\n",
       "      <th>58</th>\n",
       "      <td>15.0</td>\n",
       "      <td>0.0</td>\n",
       "      <td>1.0</td>\n",
       "      <td>1.0</td>\n",
       "      <td>5.0</td>\n",
       "      <td>2.0</td>\n",
       "      <td>2.0</td>\n",
       "      <td>1.0</td>\n",
       "      <td>0.0</td>\n",
       "      <td>0.0</td>\n",
       "      <td>1.0</td>\n",
       "      <td>1.0</td>\n",
       "      <td>2.0</td>\n",
       "      <td>9.0</td>\n",
       "    </tr>\n",
       "    <tr>\n",
       "      <th>142</th>\n",
       "      <td>15.0</td>\n",
       "      <td>0.0</td>\n",
       "      <td>1.0</td>\n",
       "      <td>1.0</td>\n",
       "      <td>5.0</td>\n",
       "      <td>2.0</td>\n",
       "      <td>2.0</td>\n",
       "      <td>1.0</td>\n",
       "      <td>1.0</td>\n",
       "      <td>0.0</td>\n",
       "      <td>1.0</td>\n",
       "      <td>0.0</td>\n",
       "      <td>3.0</td>\n",
       "      <td>11.0</td>\n",
       "    </tr>\n",
       "  </tbody>\n",
       "</table>\n",
       "</div>"
      ],
      "text/plain": [
       "      age  romantic  internet  Pstatus  health  absences  goout  famsup  paid  \\\n",
       "176  16.0       0.0       1.0      1.0     5.0       2.0    4.0     0.0   1.0   \n",
       "181  16.0       1.0       1.0      1.0     3.0       2.0    3.0     0.0   1.0   \n",
       "49   15.0       0.0       1.0      1.0     3.0       2.0    4.0     1.0   0.0   \n",
       "282  18.0       0.0       0.0      1.0     3.0       1.0    2.0     1.0   1.0   \n",
       "325  18.0       0.0       1.0      1.0     3.0       3.0    3.0     0.0   0.0   \n",
       "365  18.0       0.0       0.0      1.0     3.0       4.0    4.0     1.0   1.0   \n",
       "330  18.0       0.0       1.0      1.0     5.0       2.0    5.0     1.0   0.0   \n",
       "92   16.0       0.0       0.0      1.0     2.0       4.0    3.0     1.0   0.0   \n",
       "375  18.0       0.0       1.0      1.0     4.0       2.0    2.0     0.0   0.0   \n",
       "155  15.0       0.0       0.0      1.0     1.0       2.0    4.0     0.0   1.0   \n",
       "23   16.0       0.0       1.0      1.0     5.0       0.0    4.0     1.0   0.0   \n",
       "10   15.0       0.0       1.0      1.0     2.0       0.0    3.0     1.0   1.0   \n",
       "90   16.0       1.0       1.0      1.0     4.0       0.0    3.0     1.0   1.0   \n",
       "285  17.0       0.0       1.0      1.0     4.0       2.0    3.0     0.0   1.0   \n",
       "241  17.0       0.0       1.0      0.0     4.0       2.0    3.0     1.0   1.0   \n",
       "274  17.0       1.0       1.0      1.0     1.0       2.0    3.0     1.0   1.0   \n",
       "191  17.0       0.0       1.0      1.0     3.0       0.0    3.0     0.0   0.0   \n",
       "263  17.0       0.0       0.0      1.0     4.0       4.0    3.0     0.0   0.0   \n",
       "138  16.0       1.0       0.0      1.0     5.0       0.0    4.0     0.0   0.0   \n",
       "126  15.0       1.0       1.0      0.0     1.0       0.0    2.0     0.0   0.0   \n",
       "177  17.0       0.0       1.0      1.0     4.0       4.0    4.0     0.0   0.0   \n",
       "84   15.0       0.0       1.0      1.0     4.0       2.0    2.0     1.0   0.0   \n",
       "172  17.0       0.0       1.0      1.0     5.0       0.0    4.0     1.0   1.0   \n",
       "58   15.0       0.0       1.0      1.0     5.0       2.0    2.0     1.0   0.0   \n",
       "142  15.0       0.0       1.0      1.0     5.0       2.0    2.0     1.0   1.0   \n",
       "\n",
       "     failures  higher  schoolsup  studytime    G3  \n",
       "176       0.0     1.0        0.0        2.0  11.0  \n",
       "181       0.0     1.0        0.0        2.0  12.0  \n",
       "49        1.0     1.0        1.0        2.0   7.0  \n",
       "282       0.0     1.0        0.0        4.0  12.0  \n",
       "325       0.0     1.0        0.0        3.0  11.0  \n",
       "365       0.0     1.0        0.0        2.0  10.0  \n",
       "330       0.0     1.0        0.0        4.0   8.0  \n",
       "92        0.0     1.0        1.0        2.0   6.0  \n",
       "375       0.0     1.0        0.0        3.0  10.0  \n",
       "155       0.0     1.0        1.0        2.0   8.0  \n",
       "23        0.0     1.0        0.0        2.0  12.0  \n",
       "10        0.0     1.0        0.0        2.0   9.0  \n",
       "90        0.0     1.0        0.0        3.0   8.0  \n",
       "285       0.0     1.0        0.0        2.0  11.0  \n",
       "241       0.0     1.0        0.0        2.0  12.0  \n",
       "274       0.0     1.0        0.0        2.0  10.0  \n",
       "191       0.0     1.0        0.0        2.0   9.0  \n",
       "263       0.0     1.0        0.0        3.0   9.0  \n",
       "138       1.0     1.0        0.0        2.0  12.0  \n",
       "126       0.0     1.0        1.0        2.0  11.0  \n",
       "177       0.0     1.0        0.0        2.0   6.0  \n",
       "84        0.0     1.0        0.0        2.0  10.0  \n",
       "172       0.0     1.0        0.0        2.0  10.0  \n",
       "58        0.0     1.0        1.0        2.0   9.0  \n",
       "142       0.0     1.0        0.0        3.0  11.0  "
      ]
     },
     "execution_count": 230,
     "metadata": {},
     "output_type": "execute_result"
    }
   ],
   "source": [
    "cluster1"
   ]
  },
  {
   "cell_type": "code",
   "execution_count": 231,
   "id": "a4a158ca-f7f6-4188-a91b-658acd817805",
   "metadata": {},
   "outputs": [
    {
     "data": {
      "text/html": [
       "<div>\n",
       "<style scoped>\n",
       "    .dataframe tbody tr th:only-of-type {\n",
       "        vertical-align: middle;\n",
       "    }\n",
       "\n",
       "    .dataframe tbody tr th {\n",
       "        vertical-align: top;\n",
       "    }\n",
       "\n",
       "    .dataframe thead th {\n",
       "        text-align: right;\n",
       "    }\n",
       "</style>\n",
       "<table border=\"1\" class=\"dataframe\">\n",
       "  <thead>\n",
       "    <tr style=\"text-align: right;\">\n",
       "      <th></th>\n",
       "      <th>age</th>\n",
       "      <th>romantic</th>\n",
       "      <th>internet</th>\n",
       "      <th>Pstatus</th>\n",
       "      <th>health</th>\n",
       "      <th>absences</th>\n",
       "      <th>goout</th>\n",
       "      <th>famsup</th>\n",
       "      <th>paid</th>\n",
       "      <th>failures</th>\n",
       "      <th>higher</th>\n",
       "      <th>schoolsup</th>\n",
       "      <th>studytime</th>\n",
       "      <th>G3</th>\n",
       "    </tr>\n",
       "  </thead>\n",
       "  <tbody>\n",
       "    <tr>\n",
       "      <th>311</th>\n",
       "      <td>19.0</td>\n",
       "      <td>1.0</td>\n",
       "      <td>1.0</td>\n",
       "      <td>1.0</td>\n",
       "      <td>2.0</td>\n",
       "      <td>20.0</td>\n",
       "      <td>1.0</td>\n",
       "      <td>1.0</td>\n",
       "      <td>0.0</td>\n",
       "      <td>0.0</td>\n",
       "      <td>0.0</td>\n",
       "      <td>0.0</td>\n",
       "      <td>2.0</td>\n",
       "      <td>13.0</td>\n",
       "    </tr>\n",
       "    <tr>\n",
       "      <th>205</th>\n",
       "      <td>17.0</td>\n",
       "      <td>1.0</td>\n",
       "      <td>1.0</td>\n",
       "      <td>1.0</td>\n",
       "      <td>5.0</td>\n",
       "      <td>28.0</td>\n",
       "      <td>3.0</td>\n",
       "      <td>1.0</td>\n",
       "      <td>1.0</td>\n",
       "      <td>1.0</td>\n",
       "      <td>1.0</td>\n",
       "      <td>0.0</td>\n",
       "      <td>3.0</td>\n",
       "      <td>9.0</td>\n",
       "    </tr>\n",
       "  </tbody>\n",
       "</table>\n",
       "</div>"
      ],
      "text/plain": [
       "      age  romantic  internet  Pstatus  health  absences  goout  famsup  paid  \\\n",
       "311  19.0       1.0       1.0      1.0     2.0      20.0    1.0     1.0   0.0   \n",
       "205  17.0       1.0       1.0      1.0     5.0      28.0    3.0     1.0   1.0   \n",
       "\n",
       "     failures  higher  schoolsup  studytime    G3  \n",
       "311       0.0     0.0        0.0        2.0  13.0  \n",
       "205       1.0     1.0        0.0        3.0   9.0  "
      ]
     },
     "execution_count": 231,
     "metadata": {},
     "output_type": "execute_result"
    }
   ],
   "source": [
    "cluster2"
   ]
  },
  {
   "cell_type": "code",
   "execution_count": 232,
   "id": "d31f62a9-6aa7-4882-b3fe-ee56b0211e47",
   "metadata": {},
   "outputs": [
    {
     "data": {
      "text/html": [
       "<div>\n",
       "<style scoped>\n",
       "    .dataframe tbody tr th:only-of-type {\n",
       "        vertical-align: middle;\n",
       "    }\n",
       "\n",
       "    .dataframe tbody tr th {\n",
       "        vertical-align: top;\n",
       "    }\n",
       "\n",
       "    .dataframe thead th {\n",
       "        text-align: right;\n",
       "    }\n",
       "</style>\n",
       "<table border=\"1\" class=\"dataframe\">\n",
       "  <thead>\n",
       "    <tr style=\"text-align: right;\">\n",
       "      <th></th>\n",
       "      <th>age</th>\n",
       "      <th>romantic</th>\n",
       "      <th>internet</th>\n",
       "      <th>Pstatus</th>\n",
       "      <th>health</th>\n",
       "      <th>absences</th>\n",
       "      <th>goout</th>\n",
       "      <th>famsup</th>\n",
       "      <th>paid</th>\n",
       "      <th>failures</th>\n",
       "      <th>higher</th>\n",
       "      <th>schoolsup</th>\n",
       "      <th>studytime</th>\n",
       "      <th>G3</th>\n",
       "    </tr>\n",
       "  </thead>\n",
       "  <tbody>\n",
       "    <tr>\n",
       "      <th>329</th>\n",
       "      <td>17.0</td>\n",
       "      <td>1.0</td>\n",
       "      <td>1.0</td>\n",
       "      <td>1.0</td>\n",
       "      <td>4.0</td>\n",
       "      <td>4.0</td>\n",
       "      <td>3.0</td>\n",
       "      <td>1.0</td>\n",
       "      <td>1.0</td>\n",
       "      <td>0.0</td>\n",
       "      <td>1.0</td>\n",
       "      <td>0.0</td>\n",
       "      <td>3.0</td>\n",
       "      <td>14.0</td>\n",
       "    </tr>\n",
       "    <tr>\n",
       "      <th>117</th>\n",
       "      <td>16.0</td>\n",
       "      <td>0.0</td>\n",
       "      <td>1.0</td>\n",
       "      <td>1.0</td>\n",
       "      <td>5.0</td>\n",
       "      <td>0.0</td>\n",
       "      <td>2.0</td>\n",
       "      <td>0.0</td>\n",
       "      <td>0.0</td>\n",
       "      <td>0.0</td>\n",
       "      <td>1.0</td>\n",
       "      <td>0.0</td>\n",
       "      <td>1.0</td>\n",
       "      <td>13.0</td>\n",
       "    </tr>\n",
       "    <tr>\n",
       "      <th>83</th>\n",
       "      <td>15.0</td>\n",
       "      <td>0.0</td>\n",
       "      <td>1.0</td>\n",
       "      <td>1.0</td>\n",
       "      <td>4.0</td>\n",
       "      <td>4.0</td>\n",
       "      <td>3.0</td>\n",
       "      <td>0.0</td>\n",
       "      <td>1.0</td>\n",
       "      <td>0.0</td>\n",
       "      <td>1.0</td>\n",
       "      <td>0.0</td>\n",
       "      <td>2.0</td>\n",
       "      <td>15.0</td>\n",
       "    </tr>\n",
       "    <tr>\n",
       "      <th>324</th>\n",
       "      <td>17.0</td>\n",
       "      <td>0.0</td>\n",
       "      <td>1.0</td>\n",
       "      <td>1.0</td>\n",
       "      <td>2.0</td>\n",
       "      <td>0.0</td>\n",
       "      <td>3.0</td>\n",
       "      <td>0.0</td>\n",
       "      <td>0.0</td>\n",
       "      <td>0.0</td>\n",
       "      <td>1.0</td>\n",
       "      <td>0.0</td>\n",
       "      <td>3.0</td>\n",
       "      <td>15.0</td>\n",
       "    </tr>\n",
       "    <tr>\n",
       "      <th>34</th>\n",
       "      <td>16.0</td>\n",
       "      <td>0.0</td>\n",
       "      <td>1.0</td>\n",
       "      <td>1.0</td>\n",
       "      <td>5.0</td>\n",
       "      <td>0.0</td>\n",
       "      <td>3.0</td>\n",
       "      <td>1.0</td>\n",
       "      <td>1.0</td>\n",
       "      <td>0.0</td>\n",
       "      <td>1.0</td>\n",
       "      <td>0.0</td>\n",
       "      <td>1.0</td>\n",
       "      <td>15.0</td>\n",
       "    </tr>\n",
       "    <tr>\n",
       "      <th>200</th>\n",
       "      <td>16.0</td>\n",
       "      <td>0.0</td>\n",
       "      <td>1.0</td>\n",
       "      <td>1.0</td>\n",
       "      <td>2.0</td>\n",
       "      <td>2.0</td>\n",
       "      <td>5.0</td>\n",
       "      <td>1.0</td>\n",
       "      <td>0.0</td>\n",
       "      <td>0.0</td>\n",
       "      <td>1.0</td>\n",
       "      <td>0.0</td>\n",
       "      <td>2.0</td>\n",
       "      <td>16.0</td>\n",
       "    </tr>\n",
       "    <tr>\n",
       "      <th>187</th>\n",
       "      <td>16.0</td>\n",
       "      <td>1.0</td>\n",
       "      <td>1.0</td>\n",
       "      <td>1.0</td>\n",
       "      <td>5.0</td>\n",
       "      <td>0.0</td>\n",
       "      <td>3.0</td>\n",
       "      <td>0.0</td>\n",
       "      <td>1.0</td>\n",
       "      <td>0.0</td>\n",
       "      <td>1.0</td>\n",
       "      <td>0.0</td>\n",
       "      <td>2.0</td>\n",
       "      <td>15.0</td>\n",
       "    </tr>\n",
       "    <tr>\n",
       "      <th>158</th>\n",
       "      <td>16.0</td>\n",
       "      <td>0.0</td>\n",
       "      <td>0.0</td>\n",
       "      <td>1.0</td>\n",
       "      <td>3.0</td>\n",
       "      <td>2.0</td>\n",
       "      <td>2.0</td>\n",
       "      <td>0.0</td>\n",
       "      <td>0.0</td>\n",
       "      <td>0.0</td>\n",
       "      <td>1.0</td>\n",
       "      <td>0.0</td>\n",
       "      <td>1.0</td>\n",
       "      <td>15.0</td>\n",
       "    </tr>\n",
       "    <tr>\n",
       "      <th>246</th>\n",
       "      <td>17.0</td>\n",
       "      <td>0.0</td>\n",
       "      <td>1.0</td>\n",
       "      <td>1.0</td>\n",
       "      <td>2.0</td>\n",
       "      <td>4.0</td>\n",
       "      <td>2.0</td>\n",
       "      <td>0.0</td>\n",
       "      <td>0.0</td>\n",
       "      <td>0.0</td>\n",
       "      <td>1.0</td>\n",
       "      <td>0.0</td>\n",
       "      <td>1.0</td>\n",
       "      <td>13.0</td>\n",
       "    </tr>\n",
       "    <tr>\n",
       "      <th>115</th>\n",
       "      <td>16.0</td>\n",
       "      <td>0.0</td>\n",
       "      <td>1.0</td>\n",
       "      <td>1.0</td>\n",
       "      <td>5.0</td>\n",
       "      <td>2.0</td>\n",
       "      <td>4.0</td>\n",
       "      <td>1.0</td>\n",
       "      <td>0.0</td>\n",
       "      <td>0.0</td>\n",
       "      <td>1.0</td>\n",
       "      <td>0.0</td>\n",
       "      <td>2.0</td>\n",
       "      <td>16.0</td>\n",
       "    </tr>\n",
       "    <tr>\n",
       "      <th>104</th>\n",
       "      <td>15.0</td>\n",
       "      <td>0.0</td>\n",
       "      <td>1.0</td>\n",
       "      <td>0.0</td>\n",
       "      <td>1.0</td>\n",
       "      <td>0.0</td>\n",
       "      <td>4.0</td>\n",
       "      <td>1.0</td>\n",
       "      <td>1.0</td>\n",
       "      <td>0.0</td>\n",
       "      <td>1.0</td>\n",
       "      <td>0.0</td>\n",
       "      <td>2.0</td>\n",
       "      <td>18.0</td>\n",
       "    </tr>\n",
       "    <tr>\n",
       "      <th>359</th>\n",
       "      <td>18.0</td>\n",
       "      <td>0.0</td>\n",
       "      <td>1.0</td>\n",
       "      <td>1.0</td>\n",
       "      <td>4.0</td>\n",
       "      <td>0.0</td>\n",
       "      <td>2.0</td>\n",
       "      <td>0.0</td>\n",
       "      <td>0.0</td>\n",
       "      <td>0.0</td>\n",
       "      <td>1.0</td>\n",
       "      <td>0.0</td>\n",
       "      <td>3.0</td>\n",
       "      <td>16.0</td>\n",
       "    </tr>\n",
       "    <tr>\n",
       "      <th>306</th>\n",
       "      <td>20.0</td>\n",
       "      <td>0.0</td>\n",
       "      <td>0.0</td>\n",
       "      <td>0.0</td>\n",
       "      <td>5.0</td>\n",
       "      <td>0.0</td>\n",
       "      <td>3.0</td>\n",
       "      <td>0.0</td>\n",
       "      <td>0.0</td>\n",
       "      <td>0.0</td>\n",
       "      <td>1.0</td>\n",
       "      <td>0.0</td>\n",
       "      <td>1.0</td>\n",
       "      <td>18.0</td>\n",
       "    </tr>\n",
       "    <tr>\n",
       "      <th>122</th>\n",
       "      <td>16.0</td>\n",
       "      <td>1.0</td>\n",
       "      <td>1.0</td>\n",
       "      <td>1.0</td>\n",
       "      <td>5.0</td>\n",
       "      <td>2.0</td>\n",
       "      <td>2.0</td>\n",
       "      <td>1.0</td>\n",
       "      <td>1.0</td>\n",
       "      <td>0.0</td>\n",
       "      <td>1.0</td>\n",
       "      <td>0.0</td>\n",
       "      <td>2.0</td>\n",
       "      <td>13.0</td>\n",
       "    </tr>\n",
       "    <tr>\n",
       "      <th>298</th>\n",
       "      <td>18.0</td>\n",
       "      <td>0.0</td>\n",
       "      <td>1.0</td>\n",
       "      <td>1.0</td>\n",
       "      <td>3.0</td>\n",
       "      <td>0.0</td>\n",
       "      <td>3.0</td>\n",
       "      <td>1.0</td>\n",
       "      <td>1.0</td>\n",
       "      <td>0.0</td>\n",
       "      <td>1.0</td>\n",
       "      <td>0.0</td>\n",
       "      <td>4.0</td>\n",
       "      <td>14.0</td>\n",
       "    </tr>\n",
       "    <tr>\n",
       "      <th>360</th>\n",
       "      <td>18.0</td>\n",
       "      <td>1.0</td>\n",
       "      <td>0.0</td>\n",
       "      <td>0.0</td>\n",
       "      <td>5.0</td>\n",
       "      <td>0.0</td>\n",
       "      <td>4.0</td>\n",
       "      <td>0.0</td>\n",
       "      <td>0.0</td>\n",
       "      <td>0.0</td>\n",
       "      <td>1.0</td>\n",
       "      <td>0.0</td>\n",
       "      <td>2.0</td>\n",
       "      <td>13.0</td>\n",
       "    </tr>\n",
       "  </tbody>\n",
       "</table>\n",
       "</div>"
      ],
      "text/plain": [
       "      age  romantic  internet  Pstatus  health  absences  goout  famsup  paid  \\\n",
       "329  17.0       1.0       1.0      1.0     4.0       4.0    3.0     1.0   1.0   \n",
       "117  16.0       0.0       1.0      1.0     5.0       0.0    2.0     0.0   0.0   \n",
       "83   15.0       0.0       1.0      1.0     4.0       4.0    3.0     0.0   1.0   \n",
       "324  17.0       0.0       1.0      1.0     2.0       0.0    3.0     0.0   0.0   \n",
       "34   16.0       0.0       1.0      1.0     5.0       0.0    3.0     1.0   1.0   \n",
       "200  16.0       0.0       1.0      1.0     2.0       2.0    5.0     1.0   0.0   \n",
       "187  16.0       1.0       1.0      1.0     5.0       0.0    3.0     0.0   1.0   \n",
       "158  16.0       0.0       0.0      1.0     3.0       2.0    2.0     0.0   0.0   \n",
       "246  17.0       0.0       1.0      1.0     2.0       4.0    2.0     0.0   0.0   \n",
       "115  16.0       0.0       1.0      1.0     5.0       2.0    4.0     1.0   0.0   \n",
       "104  15.0       0.0       1.0      0.0     1.0       0.0    4.0     1.0   1.0   \n",
       "359  18.0       0.0       1.0      1.0     4.0       0.0    2.0     0.0   0.0   \n",
       "306  20.0       0.0       0.0      0.0     5.0       0.0    3.0     0.0   0.0   \n",
       "122  16.0       1.0       1.0      1.0     5.0       2.0    2.0     1.0   1.0   \n",
       "298  18.0       0.0       1.0      1.0     3.0       0.0    3.0     1.0   1.0   \n",
       "360  18.0       1.0       0.0      0.0     5.0       0.0    4.0     0.0   0.0   \n",
       "\n",
       "     failures  higher  schoolsup  studytime    G3  \n",
       "329       0.0     1.0        0.0        3.0  14.0  \n",
       "117       0.0     1.0        0.0        1.0  13.0  \n",
       "83        0.0     1.0        0.0        2.0  15.0  \n",
       "324       0.0     1.0        0.0        3.0  15.0  \n",
       "34        0.0     1.0        0.0        1.0  15.0  \n",
       "200       0.0     1.0        0.0        2.0  16.0  \n",
       "187       0.0     1.0        0.0        2.0  15.0  \n",
       "158       0.0     1.0        0.0        1.0  15.0  \n",
       "246       0.0     1.0        0.0        1.0  13.0  \n",
       "115       0.0     1.0        0.0        2.0  16.0  \n",
       "104       0.0     1.0        0.0        2.0  18.0  \n",
       "359       0.0     1.0        0.0        3.0  16.0  \n",
       "306       0.0     1.0        0.0        1.0  18.0  \n",
       "122       0.0     1.0        0.0        2.0  13.0  \n",
       "298       0.0     1.0        0.0        4.0  14.0  \n",
       "360       0.0     1.0        0.0        2.0  13.0  "
      ]
     },
     "execution_count": 232,
     "metadata": {},
     "output_type": "execute_result"
    }
   ],
   "source": [
    "cluster3"
   ]
  },
  {
   "cell_type": "code",
   "execution_count": 233,
   "id": "1b6c6cd3-6e7a-4aea-9c29-dbd75d6a61c5",
   "metadata": {},
   "outputs": [
    {
     "data": {
      "text/html": [
       "<div>\n",
       "<style scoped>\n",
       "    .dataframe tbody tr th:only-of-type {\n",
       "        vertical-align: middle;\n",
       "    }\n",
       "\n",
       "    .dataframe tbody tr th {\n",
       "        vertical-align: top;\n",
       "    }\n",
       "\n",
       "    .dataframe thead th {\n",
       "        text-align: right;\n",
       "    }\n",
       "</style>\n",
       "<table border=\"1\" class=\"dataframe\">\n",
       "  <thead>\n",
       "    <tr style=\"text-align: right;\">\n",
       "      <th></th>\n",
       "      <th>age</th>\n",
       "      <th>romantic</th>\n",
       "      <th>internet</th>\n",
       "      <th>Pstatus</th>\n",
       "      <th>health</th>\n",
       "      <th>absences</th>\n",
       "      <th>goout</th>\n",
       "      <th>famsup</th>\n",
       "      <th>paid</th>\n",
       "      <th>failures</th>\n",
       "      <th>higher</th>\n",
       "      <th>schoolsup</th>\n",
       "      <th>studytime</th>\n",
       "      <th>G3</th>\n",
       "    </tr>\n",
       "  </thead>\n",
       "  <tbody>\n",
       "    <tr>\n",
       "      <th>276</th>\n",
       "      <td>18.0</td>\n",
       "      <td>1.0</td>\n",
       "      <td>1.0</td>\n",
       "      <td>0.0</td>\n",
       "      <td>5.0</td>\n",
       "      <td>75.0</td>\n",
       "      <td>1.0</td>\n",
       "      <td>0.0</td>\n",
       "      <td>0.0</td>\n",
       "      <td>0.0</td>\n",
       "      <td>0.0</td>\n",
       "      <td>0.0</td>\n",
       "      <td>2.0</td>\n",
       "      <td>9.0</td>\n",
       "    </tr>\n",
       "    <tr>\n",
       "      <th>183</th>\n",
       "      <td>17.0</td>\n",
       "      <td>1.0</td>\n",
       "      <td>1.0</td>\n",
       "      <td>1.0</td>\n",
       "      <td>1.0</td>\n",
       "      <td>56.0</td>\n",
       "      <td>3.0</td>\n",
       "      <td>1.0</td>\n",
       "      <td>0.0</td>\n",
       "      <td>0.0</td>\n",
       "      <td>1.0</td>\n",
       "      <td>0.0</td>\n",
       "      <td>2.0</td>\n",
       "      <td>8.0</td>\n",
       "    </tr>\n",
       "  </tbody>\n",
       "</table>\n",
       "</div>"
      ],
      "text/plain": [
       "      age  romantic  internet  Pstatus  health  absences  goout  famsup  paid  \\\n",
       "276  18.0       1.0       1.0      0.0     5.0      75.0    1.0     0.0   0.0   \n",
       "183  17.0       1.0       1.0      1.0     1.0      56.0    3.0     1.0   0.0   \n",
       "\n",
       "     failures  higher  schoolsup  studytime   G3  \n",
       "276       0.0     0.0        0.0        2.0  9.0  \n",
       "183       0.0     1.0        0.0        2.0  8.0  "
      ]
     },
     "execution_count": 233,
     "metadata": {},
     "output_type": "execute_result"
    }
   ],
   "source": [
    "cluster4"
   ]
  },
  {
   "cell_type": "code",
   "execution_count": 234,
   "id": "8f73b01d-e844-48d8-a98f-858c0b77604b",
   "metadata": {},
   "outputs": [
    {
     "data": {
      "text/html": [
       "<div>\n",
       "<style scoped>\n",
       "    .dataframe tbody tr th:only-of-type {\n",
       "        vertical-align: middle;\n",
       "    }\n",
       "\n",
       "    .dataframe tbody tr th {\n",
       "        vertical-align: top;\n",
       "    }\n",
       "\n",
       "    .dataframe thead th {\n",
       "        text-align: right;\n",
       "    }\n",
       "</style>\n",
       "<table border=\"1\" class=\"dataframe\">\n",
       "  <thead>\n",
       "    <tr style=\"text-align: right;\">\n",
       "      <th></th>\n",
       "      <th>age</th>\n",
       "      <th>romantic</th>\n",
       "      <th>internet</th>\n",
       "      <th>Pstatus</th>\n",
       "      <th>health</th>\n",
       "      <th>absences</th>\n",
       "      <th>goout</th>\n",
       "      <th>famsup</th>\n",
       "      <th>paid</th>\n",
       "      <th>failures</th>\n",
       "      <th>higher</th>\n",
       "      <th>schoolsup</th>\n",
       "      <th>studytime</th>\n",
       "      <th>G3</th>\n",
       "    </tr>\n",
       "  </thead>\n",
       "  <tbody>\n",
       "    <tr>\n",
       "      <th>135</th>\n",
       "      <td>15.0</td>\n",
       "      <td>1.0</td>\n",
       "      <td>1.0</td>\n",
       "      <td>1.0</td>\n",
       "      <td>5.0</td>\n",
       "      <td>0.0</td>\n",
       "      <td>3.0</td>\n",
       "      <td>1.0</td>\n",
       "      <td>0.0</td>\n",
       "      <td>0.0</td>\n",
       "      <td>1.0</td>\n",
       "      <td>0.0</td>\n",
       "      <td>3.0</td>\n",
       "      <td>0.0</td>\n",
       "    </tr>\n",
       "    <tr>\n",
       "      <th>131</th>\n",
       "      <td>15.0</td>\n",
       "      <td>1.0</td>\n",
       "      <td>1.0</td>\n",
       "      <td>1.0</td>\n",
       "      <td>4.0</td>\n",
       "      <td>0.0</td>\n",
       "      <td>3.0</td>\n",
       "      <td>1.0</td>\n",
       "      <td>0.0</td>\n",
       "      <td>0.0</td>\n",
       "      <td>1.0</td>\n",
       "      <td>0.0</td>\n",
       "      <td>1.0</td>\n",
       "      <td>0.0</td>\n",
       "    </tr>\n",
       "    <tr>\n",
       "      <th>136</th>\n",
       "      <td>17.0</td>\n",
       "      <td>0.0</td>\n",
       "      <td>0.0</td>\n",
       "      <td>1.0</td>\n",
       "      <td>5.0</td>\n",
       "      <td>0.0</td>\n",
       "      <td>5.0</td>\n",
       "      <td>0.0</td>\n",
       "      <td>0.0</td>\n",
       "      <td>0.0</td>\n",
       "      <td>1.0</td>\n",
       "      <td>0.0</td>\n",
       "      <td>2.0</td>\n",
       "      <td>0.0</td>\n",
       "    </tr>\n",
       "    <tr>\n",
       "      <th>341</th>\n",
       "      <td>18.0</td>\n",
       "      <td>0.0</td>\n",
       "      <td>1.0</td>\n",
       "      <td>1.0</td>\n",
       "      <td>2.0</td>\n",
       "      <td>0.0</td>\n",
       "      <td>3.0</td>\n",
       "      <td>1.0</td>\n",
       "      <td>0.0</td>\n",
       "      <td>1.0</td>\n",
       "      <td>1.0</td>\n",
       "      <td>0.0</td>\n",
       "      <td>2.0</td>\n",
       "      <td>0.0</td>\n",
       "    </tr>\n",
       "    <tr>\n",
       "      <th>383</th>\n",
       "      <td>19.0</td>\n",
       "      <td>0.0</td>\n",
       "      <td>0.0</td>\n",
       "      <td>1.0</td>\n",
       "      <td>5.0</td>\n",
       "      <td>0.0</td>\n",
       "      <td>2.0</td>\n",
       "      <td>0.0</td>\n",
       "      <td>0.0</td>\n",
       "      <td>1.0</td>\n",
       "      <td>1.0</td>\n",
       "      <td>0.0</td>\n",
       "      <td>1.0</td>\n",
       "      <td>0.0</td>\n",
       "    </tr>\n",
       "    <tr>\n",
       "      <th>239</th>\n",
       "      <td>18.0</td>\n",
       "      <td>0.0</td>\n",
       "      <td>1.0</td>\n",
       "      <td>1.0</td>\n",
       "      <td>2.0</td>\n",
       "      <td>0.0</td>\n",
       "      <td>4.0</td>\n",
       "      <td>0.0</td>\n",
       "      <td>0.0</td>\n",
       "      <td>1.0</td>\n",
       "      <td>0.0</td>\n",
       "      <td>0.0</td>\n",
       "      <td>2.0</td>\n",
       "      <td>0.0</td>\n",
       "    </tr>\n",
       "    <tr>\n",
       "      <th>310</th>\n",
       "      <td>19.0</td>\n",
       "      <td>1.0</td>\n",
       "      <td>0.0</td>\n",
       "      <td>1.0</td>\n",
       "      <td>3.0</td>\n",
       "      <td>0.0</td>\n",
       "      <td>4.0</td>\n",
       "      <td>0.0</td>\n",
       "      <td>0.0</td>\n",
       "      <td>1.0</td>\n",
       "      <td>1.0</td>\n",
       "      <td>0.0</td>\n",
       "      <td>2.0</td>\n",
       "      <td>0.0</td>\n",
       "    </tr>\n",
       "    <tr>\n",
       "      <th>137</th>\n",
       "      <td>16.0</td>\n",
       "      <td>1.0</td>\n",
       "      <td>1.0</td>\n",
       "      <td>0.0</td>\n",
       "      <td>5.0</td>\n",
       "      <td>0.0</td>\n",
       "      <td>2.0</td>\n",
       "      <td>1.0</td>\n",
       "      <td>0.0</td>\n",
       "      <td>2.0</td>\n",
       "      <td>1.0</td>\n",
       "      <td>0.0</td>\n",
       "      <td>1.0</td>\n",
       "      <td>0.0</td>\n",
       "    </tr>\n",
       "    <tr>\n",
       "      <th>150</th>\n",
       "      <td>18.0</td>\n",
       "      <td>1.0</td>\n",
       "      <td>1.0</td>\n",
       "      <td>1.0</td>\n",
       "      <td>4.0</td>\n",
       "      <td>0.0</td>\n",
       "      <td>5.0</td>\n",
       "      <td>0.0</td>\n",
       "      <td>0.0</td>\n",
       "      <td>3.0</td>\n",
       "      <td>0.0</td>\n",
       "      <td>0.0</td>\n",
       "      <td>1.0</td>\n",
       "      <td>0.0</td>\n",
       "    </tr>\n",
       "    <tr>\n",
       "      <th>316</th>\n",
       "      <td>18.0</td>\n",
       "      <td>0.0</td>\n",
       "      <td>1.0</td>\n",
       "      <td>1.0</td>\n",
       "      <td>1.0</td>\n",
       "      <td>0.0</td>\n",
       "      <td>3.0</td>\n",
       "      <td>1.0</td>\n",
       "      <td>1.0</td>\n",
       "      <td>0.0</td>\n",
       "      <td>1.0</td>\n",
       "      <td>0.0</td>\n",
       "      <td>2.0</td>\n",
       "      <td>0.0</td>\n",
       "    </tr>\n",
       "    <tr>\n",
       "      <th>134</th>\n",
       "      <td>15.0</td>\n",
       "      <td>1.0</td>\n",
       "      <td>0.0</td>\n",
       "      <td>1.0</td>\n",
       "      <td>5.0</td>\n",
       "      <td>0.0</td>\n",
       "      <td>3.0</td>\n",
       "      <td>1.0</td>\n",
       "      <td>0.0</td>\n",
       "      <td>0.0</td>\n",
       "      <td>1.0</td>\n",
       "      <td>0.0</td>\n",
       "      <td>2.0</td>\n",
       "      <td>0.0</td>\n",
       "    </tr>\n",
       "  </tbody>\n",
       "</table>\n",
       "</div>"
      ],
      "text/plain": [
       "      age  romantic  internet  Pstatus  health  absences  goout  famsup  paid  \\\n",
       "135  15.0       1.0       1.0      1.0     5.0       0.0    3.0     1.0   0.0   \n",
       "131  15.0       1.0       1.0      1.0     4.0       0.0    3.0     1.0   0.0   \n",
       "136  17.0       0.0       0.0      1.0     5.0       0.0    5.0     0.0   0.0   \n",
       "341  18.0       0.0       1.0      1.0     2.0       0.0    3.0     1.0   0.0   \n",
       "383  19.0       0.0       0.0      1.0     5.0       0.0    2.0     0.0   0.0   \n",
       "239  18.0       0.0       1.0      1.0     2.0       0.0    4.0     0.0   0.0   \n",
       "310  19.0       1.0       0.0      1.0     3.0       0.0    4.0     0.0   0.0   \n",
       "137  16.0       1.0       1.0      0.0     5.0       0.0    2.0     1.0   0.0   \n",
       "150  18.0       1.0       1.0      1.0     4.0       0.0    5.0     0.0   0.0   \n",
       "316  18.0       0.0       1.0      1.0     1.0       0.0    3.0     1.0   1.0   \n",
       "134  15.0       1.0       0.0      1.0     5.0       0.0    3.0     1.0   0.0   \n",
       "\n",
       "     failures  higher  schoolsup  studytime   G3  \n",
       "135       0.0     1.0        0.0        3.0  0.0  \n",
       "131       0.0     1.0        0.0        1.0  0.0  \n",
       "136       0.0     1.0        0.0        2.0  0.0  \n",
       "341       1.0     1.0        0.0        2.0  0.0  \n",
       "383       1.0     1.0        0.0        1.0  0.0  \n",
       "239       1.0     0.0        0.0        2.0  0.0  \n",
       "310       1.0     1.0        0.0        2.0  0.0  \n",
       "137       2.0     1.0        0.0        1.0  0.0  \n",
       "150       3.0     0.0        0.0        1.0  0.0  \n",
       "316       0.0     1.0        0.0        2.0  0.0  \n",
       "134       0.0     1.0        0.0        2.0  0.0  "
      ]
     },
     "execution_count": 234,
     "metadata": {},
     "output_type": "execute_result"
    }
   ],
   "source": [
    "cluster5"
   ]
  },
  {
   "cell_type": "code",
   "execution_count": 235,
   "id": "a2369917-48d3-4b8f-b821-bb2680994d42",
   "metadata": {},
   "outputs": [
    {
     "data": {
      "text/html": [
       "<div>\n",
       "<style scoped>\n",
       "    .dataframe tbody tr th:only-of-type {\n",
       "        vertical-align: middle;\n",
       "    }\n",
       "\n",
       "    .dataframe tbody tr th {\n",
       "        vertical-align: top;\n",
       "    }\n",
       "\n",
       "    .dataframe thead th {\n",
       "        text-align: right;\n",
       "    }\n",
       "</style>\n",
       "<table border=\"1\" class=\"dataframe\">\n",
       "  <thead>\n",
       "    <tr style=\"text-align: right;\">\n",
       "      <th></th>\n",
       "      <th>age</th>\n",
       "      <th>romantic</th>\n",
       "      <th>internet</th>\n",
       "      <th>Pstatus</th>\n",
       "      <th>health</th>\n",
       "      <th>absences</th>\n",
       "      <th>goout</th>\n",
       "      <th>famsup</th>\n",
       "      <th>paid</th>\n",
       "      <th>failures</th>\n",
       "      <th>higher</th>\n",
       "      <th>schoolsup</th>\n",
       "      <th>studytime</th>\n",
       "      <th>G3</th>\n",
       "    </tr>\n",
       "  </thead>\n",
       "  <tbody>\n",
       "    <tr>\n",
       "      <th>60</th>\n",
       "      <td>16.0</td>\n",
       "      <td>0.0</td>\n",
       "      <td>0.0</td>\n",
       "      <td>1.0</td>\n",
       "      <td>4.0</td>\n",
       "      <td>6.0</td>\n",
       "      <td>4.0</td>\n",
       "      <td>1.0</td>\n",
       "      <td>0.0</td>\n",
       "      <td>0.0</td>\n",
       "      <td>1.0</td>\n",
       "      <td>0.0</td>\n",
       "      <td>2.0</td>\n",
       "      <td>11.0</td>\n",
       "    </tr>\n",
       "    <tr>\n",
       "      <th>161</th>\n",
       "      <td>15.0</td>\n",
       "      <td>1.0</td>\n",
       "      <td>1.0</td>\n",
       "      <td>1.0</td>\n",
       "      <td>3.0</td>\n",
       "      <td>6.0</td>\n",
       "      <td>4.0</td>\n",
       "      <td>1.0</td>\n",
       "      <td>0.0</td>\n",
       "      <td>2.0</td>\n",
       "      <td>1.0</td>\n",
       "      <td>1.0</td>\n",
       "      <td>2.0</td>\n",
       "      <td>7.0</td>\n",
       "    </tr>\n",
       "    <tr>\n",
       "      <th>381</th>\n",
       "      <td>18.0</td>\n",
       "      <td>1.0</td>\n",
       "      <td>1.0</td>\n",
       "      <td>1.0</td>\n",
       "      <td>5.0</td>\n",
       "      <td>5.0</td>\n",
       "      <td>3.0</td>\n",
       "      <td>0.0</td>\n",
       "      <td>0.0</td>\n",
       "      <td>0.0</td>\n",
       "      <td>1.0</td>\n",
       "      <td>0.0</td>\n",
       "      <td>1.0</td>\n",
       "      <td>7.0</td>\n",
       "    </tr>\n",
       "    <tr>\n",
       "      <th>141</th>\n",
       "      <td>16.0</td>\n",
       "      <td>0.0</td>\n",
       "      <td>1.0</td>\n",
       "      <td>1.0</td>\n",
       "      <td>2.0</td>\n",
       "      <td>8.0</td>\n",
       "      <td>3.0</td>\n",
       "      <td>1.0</td>\n",
       "      <td>0.0</td>\n",
       "      <td>2.0</td>\n",
       "      <td>1.0</td>\n",
       "      <td>0.0</td>\n",
       "      <td>1.0</td>\n",
       "      <td>9.0</td>\n",
       "    </tr>\n",
       "    <tr>\n",
       "      <th>210</th>\n",
       "      <td>19.0</td>\n",
       "      <td>0.0</td>\n",
       "      <td>1.0</td>\n",
       "      <td>1.0</td>\n",
       "      <td>3.0</td>\n",
       "      <td>10.0</td>\n",
       "      <td>3.0</td>\n",
       "      <td>1.0</td>\n",
       "      <td>1.0</td>\n",
       "      <td>0.0</td>\n",
       "      <td>1.0</td>\n",
       "      <td>0.0</td>\n",
       "      <td>4.0</td>\n",
       "      <td>8.0</td>\n",
       "    </tr>\n",
       "    <tr>\n",
       "      <th>0</th>\n",
       "      <td>18.0</td>\n",
       "      <td>0.0</td>\n",
       "      <td>0.0</td>\n",
       "      <td>0.0</td>\n",
       "      <td>3.0</td>\n",
       "      <td>6.0</td>\n",
       "      <td>4.0</td>\n",
       "      <td>0.0</td>\n",
       "      <td>0.0</td>\n",
       "      <td>0.0</td>\n",
       "      <td>1.0</td>\n",
       "      <td>1.0</td>\n",
       "      <td>2.0</td>\n",
       "      <td>6.0</td>\n",
       "    </tr>\n",
       "    <tr>\n",
       "      <th>75</th>\n",
       "      <td>15.0</td>\n",
       "      <td>0.0</td>\n",
       "      <td>1.0</td>\n",
       "      <td>1.0</td>\n",
       "      <td>5.0</td>\n",
       "      <td>6.0</td>\n",
       "      <td>3.0</td>\n",
       "      <td>1.0</td>\n",
       "      <td>1.0</td>\n",
       "      <td>0.0</td>\n",
       "      <td>1.0</td>\n",
       "      <td>0.0</td>\n",
       "      <td>2.0</td>\n",
       "      <td>10.0</td>\n",
       "    </tr>\n",
       "  </tbody>\n",
       "</table>\n",
       "</div>"
      ],
      "text/plain": [
       "      age  romantic  internet  Pstatus  health  absences  goout  famsup  paid  \\\n",
       "60   16.0       0.0       0.0      1.0     4.0       6.0    4.0     1.0   0.0   \n",
       "161  15.0       1.0       1.0      1.0     3.0       6.0    4.0     1.0   0.0   \n",
       "381  18.0       1.0       1.0      1.0     5.0       5.0    3.0     0.0   0.0   \n",
       "141  16.0       0.0       1.0      1.0     2.0       8.0    3.0     1.0   0.0   \n",
       "210  19.0       0.0       1.0      1.0     3.0      10.0    3.0     1.0   1.0   \n",
       "0    18.0       0.0       0.0      0.0     3.0       6.0    4.0     0.0   0.0   \n",
       "75   15.0       0.0       1.0      1.0     5.0       6.0    3.0     1.0   1.0   \n",
       "\n",
       "     failures  higher  schoolsup  studytime    G3  \n",
       "60        0.0     1.0        0.0        2.0  11.0  \n",
       "161       2.0     1.0        1.0        2.0   7.0  \n",
       "381       0.0     1.0        0.0        1.0   7.0  \n",
       "141       2.0     1.0        0.0        1.0   9.0  \n",
       "210       0.0     1.0        0.0        4.0   8.0  \n",
       "0         0.0     1.0        1.0        2.0   6.0  \n",
       "75        0.0     1.0        0.0        2.0  10.0  "
      ]
     },
     "execution_count": 235,
     "metadata": {},
     "output_type": "execute_result"
    }
   ],
   "source": [
    "cluster6"
   ]
  },
  {
   "cell_type": "code",
   "execution_count": 236,
   "id": "f0f20d8b-1112-46ac-a814-1191c5bb37e2",
   "metadata": {},
   "outputs": [
    {
     "data": {
      "text/html": [
       "<div>\n",
       "<style scoped>\n",
       "    .dataframe tbody tr th:only-of-type {\n",
       "        vertical-align: middle;\n",
       "    }\n",
       "\n",
       "    .dataframe tbody tr th {\n",
       "        vertical-align: top;\n",
       "    }\n",
       "\n",
       "    .dataframe thead th {\n",
       "        text-align: right;\n",
       "    }\n",
       "</style>\n",
       "<table border=\"1\" class=\"dataframe\">\n",
       "  <thead>\n",
       "    <tr style=\"text-align: right;\">\n",
       "      <th></th>\n",
       "      <th>age</th>\n",
       "      <th>romantic</th>\n",
       "      <th>internet</th>\n",
       "      <th>Pstatus</th>\n",
       "      <th>health</th>\n",
       "      <th>absences</th>\n",
       "      <th>goout</th>\n",
       "      <th>famsup</th>\n",
       "      <th>paid</th>\n",
       "      <th>failures</th>\n",
       "      <th>higher</th>\n",
       "      <th>schoolsup</th>\n",
       "      <th>studytime</th>\n",
       "      <th>G3</th>\n",
       "    </tr>\n",
       "  </thead>\n",
       "  <tbody>\n",
       "    <tr>\n",
       "      <th>278</th>\n",
       "      <td>18.0</td>\n",
       "      <td>1.0</td>\n",
       "      <td>1.0</td>\n",
       "      <td>1.0</td>\n",
       "      <td>4.0</td>\n",
       "      <td>15.0</td>\n",
       "      <td>4.0</td>\n",
       "      <td>1.0</td>\n",
       "      <td>0.0</td>\n",
       "      <td>1.0</td>\n",
       "      <td>1.0</td>\n",
       "      <td>1.0</td>\n",
       "      <td>2.0</td>\n",
       "      <td>8.0</td>\n",
       "    </tr>\n",
       "    <tr>\n",
       "      <th>247</th>\n",
       "      <td>22.0</td>\n",
       "      <td>1.0</td>\n",
       "      <td>1.0</td>\n",
       "      <td>1.0</td>\n",
       "      <td>1.0</td>\n",
       "      <td>16.0</td>\n",
       "      <td>5.0</td>\n",
       "      <td>0.0</td>\n",
       "      <td>0.0</td>\n",
       "      <td>3.0</td>\n",
       "      <td>0.0</td>\n",
       "      <td>0.0</td>\n",
       "      <td>1.0</td>\n",
       "      <td>8.0</td>\n",
       "    </tr>\n",
       "    <tr>\n",
       "      <th>213</th>\n",
       "      <td>18.0</td>\n",
       "      <td>0.0</td>\n",
       "      <td>1.0</td>\n",
       "      <td>1.0</td>\n",
       "      <td>5.0</td>\n",
       "      <td>15.0</td>\n",
       "      <td>4.0</td>\n",
       "      <td>1.0</td>\n",
       "      <td>1.0</td>\n",
       "      <td>1.0</td>\n",
       "      <td>1.0</td>\n",
       "      <td>0.0</td>\n",
       "      <td>2.0</td>\n",
       "      <td>8.0</td>\n",
       "    </tr>\n",
       "    <tr>\n",
       "      <th>300</th>\n",
       "      <td>18.0</td>\n",
       "      <td>1.0</td>\n",
       "      <td>1.0</td>\n",
       "      <td>0.0</td>\n",
       "      <td>4.0</td>\n",
       "      <td>14.0</td>\n",
       "      <td>4.0</td>\n",
       "      <td>1.0</td>\n",
       "      <td>0.0</td>\n",
       "      <td>0.0</td>\n",
       "      <td>1.0</td>\n",
       "      <td>0.0</td>\n",
       "      <td>2.0</td>\n",
       "      <td>11.0</td>\n",
       "    </tr>\n",
       "    <tr>\n",
       "      <th>79</th>\n",
       "      <td>16.0</td>\n",
       "      <td>0.0</td>\n",
       "      <td>1.0</td>\n",
       "      <td>1.0</td>\n",
       "      <td>3.0</td>\n",
       "      <td>12.0</td>\n",
       "      <td>3.0</td>\n",
       "      <td>1.0</td>\n",
       "      <td>0.0</td>\n",
       "      <td>0.0</td>\n",
       "      <td>1.0</td>\n",
       "      <td>0.0</td>\n",
       "      <td>2.0</td>\n",
       "      <td>5.0</td>\n",
       "    </tr>\n",
       "    <tr>\n",
       "      <th>321</th>\n",
       "      <td>17.0</td>\n",
       "      <td>1.0</td>\n",
       "      <td>0.0</td>\n",
       "      <td>1.0</td>\n",
       "      <td>3.0</td>\n",
       "      <td>12.0</td>\n",
       "      <td>2.0</td>\n",
       "      <td>1.0</td>\n",
       "      <td>0.0</td>\n",
       "      <td>0.0</td>\n",
       "      <td>1.0</td>\n",
       "      <td>0.0</td>\n",
       "      <td>2.0</td>\n",
       "      <td>9.0</td>\n",
       "    </tr>\n",
       "    <tr>\n",
       "      <th>25</th>\n",
       "      <td>16.0</td>\n",
       "      <td>0.0</td>\n",
       "      <td>1.0</td>\n",
       "      <td>1.0</td>\n",
       "      <td>5.0</td>\n",
       "      <td>14.0</td>\n",
       "      <td>2.0</td>\n",
       "      <td>1.0</td>\n",
       "      <td>1.0</td>\n",
       "      <td>2.0</td>\n",
       "      <td>1.0</td>\n",
       "      <td>0.0</td>\n",
       "      <td>1.0</td>\n",
       "      <td>8.0</td>\n",
       "    </tr>\n",
       "    <tr>\n",
       "      <th>335</th>\n",
       "      <td>17.0</td>\n",
       "      <td>0.0</td>\n",
       "      <td>1.0</td>\n",
       "      <td>1.0</td>\n",
       "      <td>5.0</td>\n",
       "      <td>16.0</td>\n",
       "      <td>5.0</td>\n",
       "      <td>0.0</td>\n",
       "      <td>0.0</td>\n",
       "      <td>0.0</td>\n",
       "      <td>1.0</td>\n",
       "      <td>0.0</td>\n",
       "      <td>3.0</td>\n",
       "      <td>15.0</td>\n",
       "    </tr>\n",
       "    <tr>\n",
       "      <th>29</th>\n",
       "      <td>16.0</td>\n",
       "      <td>1.0</td>\n",
       "      <td>1.0</td>\n",
       "      <td>1.0</td>\n",
       "      <td>5.0</td>\n",
       "      <td>16.0</td>\n",
       "      <td>5.0</td>\n",
       "      <td>1.0</td>\n",
       "      <td>1.0</td>\n",
       "      <td>0.0</td>\n",
       "      <td>1.0</td>\n",
       "      <td>0.0</td>\n",
       "      <td>2.0</td>\n",
       "      <td>11.0</td>\n",
       "    </tr>\n",
       "  </tbody>\n",
       "</table>\n",
       "</div>"
      ],
      "text/plain": [
       "      age  romantic  internet  Pstatus  health  absences  goout  famsup  paid  \\\n",
       "278  18.0       1.0       1.0      1.0     4.0      15.0    4.0     1.0   0.0   \n",
       "247  22.0       1.0       1.0      1.0     1.0      16.0    5.0     0.0   0.0   \n",
       "213  18.0       0.0       1.0      1.0     5.0      15.0    4.0     1.0   1.0   \n",
       "300  18.0       1.0       1.0      0.0     4.0      14.0    4.0     1.0   0.0   \n",
       "79   16.0       0.0       1.0      1.0     3.0      12.0    3.0     1.0   0.0   \n",
       "321  17.0       1.0       0.0      1.0     3.0      12.0    2.0     1.0   0.0   \n",
       "25   16.0       0.0       1.0      1.0     5.0      14.0    2.0     1.0   1.0   \n",
       "335  17.0       0.0       1.0      1.0     5.0      16.0    5.0     0.0   0.0   \n",
       "29   16.0       1.0       1.0      1.0     5.0      16.0    5.0     1.0   1.0   \n",
       "\n",
       "     failures  higher  schoolsup  studytime    G3  \n",
       "278       1.0     1.0        1.0        2.0   8.0  \n",
       "247       3.0     0.0        0.0        1.0   8.0  \n",
       "213       1.0     1.0        0.0        2.0   8.0  \n",
       "300       0.0     1.0        0.0        2.0  11.0  \n",
       "79        0.0     1.0        0.0        2.0   5.0  \n",
       "321       0.0     1.0        0.0        2.0   9.0  \n",
       "25        2.0     1.0        0.0        1.0   8.0  \n",
       "335       0.0     1.0        0.0        3.0  15.0  \n",
       "29        0.0     1.0        0.0        2.0  11.0  "
      ]
     },
     "execution_count": 236,
     "metadata": {},
     "output_type": "execute_result"
    }
   ],
   "source": [
    "cluster7"
   ]
  },
  {
   "cell_type": "markdown",
   "id": "c8690e69-c285-45e0-b141-a6f707047aee",
   "metadata": {},
   "source": [
    "Overall, this clustering algorithm did a decent job identifying grade ranges. I believe that this ran better than my implementation in Homework 1. "
   ]
  },
  {
   "cell_type": "code",
   "execution_count": null,
   "id": "3b23fe28-4e48-47b5-8d2d-78daad092ba3",
   "metadata": {},
   "outputs": [],
   "source": []
  }
 ],
 "metadata": {
  "kernelspec": {
   "display_name": "Python 3 (ipykernel)",
   "language": "python",
   "name": "python3"
  },
  "language_info": {
   "codemirror_mode": {
    "name": "ipython",
    "version": 3
   },
   "file_extension": ".py",
   "mimetype": "text/x-python",
   "name": "python",
   "nbconvert_exporter": "python",
   "pygments_lexer": "ipython3",
   "version": "3.8.5"
  }
 },
 "nbformat": 4,
 "nbformat_minor": 5
}
