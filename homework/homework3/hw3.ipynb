{
 "cells": [
  {
   "cell_type": "markdown",
   "id": "a0a99367-13e0-4df7-ae8c-1c8b6159f048",
   "metadata": {},
   "source": [
    "Ben Kahan  \n",
    "DS210  \n",
    "3 October 2022  \n",
    "Homework 3  \n",
    "Collaborators: None\n"
   ]
  },
  {
   "cell_type": "markdown",
   "id": "097f637f-10ff-4bb1-8fdb-aa2ceba79f34",
   "metadata": {},
   "source": [
    "# Question 1"
   ]
  },
  {
   "cell_type": "code",
   "execution_count": 16,
   "id": "7fbd696e-6f4b-43ce-9ac3-350b908e275c",
   "metadata": {},
   "outputs": [],
   "source": [
    "import numpy as np\n",
    "import pandas as pd"
   ]
  },
  {
   "cell_type": "code",
   "execution_count": 6,
   "id": "eaf69eda-cbb3-4125-a5e7-edc227982f4d",
   "metadata": {},
   "outputs": [
    {
     "data": {
      "text/plain": [
       "array([17,  6,  4, 11, 17, 15, 11, 19, 15,  4,  9,  4, 19, 17, 14,  3, 18,\n",
       "        3,  2,  0, 13, 13,  4, 12,  2,  7,  4, 19, 18, 10,  4,  8, 13, 14,\n",
       "       14, 10, 15,  4, 11, 11, 14, 16,  2, 18,  5, 18, 15,  2,  8, 13, 16,\n",
       "       19,  2,  2, 12, 19, 12,  5,  8,  4,  0,  6,  2, 11, 13,  8,  5,  6,\n",
       "       14, 16, 10, 16,  2,  0, 16, 19, 19, 16,  6, 17, 10, 19, 12,  3, 19,\n",
       "       19, 12,  1,  5, 10,  5,  5,  0, 13, 10,  3,  2, 16, 17, 17])"
      ]
     },
     "execution_count": 6,
     "metadata": {},
     "output_type": "execute_result"
    }
   ],
   "source": [
    "A = np.random.randint(20, size=100)\n",
    "A"
   ]
  },
  {
   "cell_type": "code",
   "execution_count": 11,
   "id": "63386e98-674f-4324-a5e0-37a49ff66909",
   "metadata": {},
   "outputs": [
    {
     "data": {
      "text/plain": [
       "array([ 4,  4, 10,  5,  4, 15, 12,  6,  4, 14])"
      ]
     },
     "execution_count": 11,
     "metadata": {},
     "output_type": "execute_result"
    }
   ],
   "source": [
    "sample_size_t = 10\n",
    "B = np.random.choice(A, size=sample_size_t, replace=False)\n",
    "B"
   ]
  },
  {
   "cell_type": "code",
   "execution_count": 15,
   "id": "0d142e55-c4d0-4ecb-81be-9d5b43bfb5e0",
   "metadata": {},
   "outputs": [],
   "source": [
    "cars = [\"Tesla Model 3\", \"Toyota Prius\", \"Lucid Air\", \"Porsche 918\", \"Audi RS4\", \n",
    "        \"Honda Accord\", \"Madza 3\", \"Subaru WRX\", \"Mercedes S550\", \"Subaru BRZ\", \"Audi Q7\", \"Alfa Romeo Giulia\", \n",
    "        \"Mini Cooper\", \"Fiat 500\", \"Infiniti G35X\", \"Nissan 370Z\", \"BMW M3\", \"Cybertruck\"]"
   ]
  },
  {
   "cell_type": "code",
   "execution_count": 85,
   "id": "f9f13569-223f-4471-9845-a675be45624d",
   "metadata": {},
   "outputs": [
    {
     "data": {
      "text/plain": [
       "array(['Subaru WRX', 'Alfa Romeo Giulia', 'Audi RS4', 'Cybertruck',\n",
       "       'BMW M3', 'Lucid Air', 'Subaru BRZ', 'Audi Q7', 'Infiniti G35X',\n",
       "       'Toyota Prius'], dtype='<U17')"
      ]
     },
     "execution_count": 85,
     "metadata": {},
     "output_type": "execute_result"
    }
   ],
   "source": [
    "selectedCars = np.random.choice(cars, size=sample_size_t, replace=False)\n",
    "selectedCars"
   ]
  },
  {
   "cell_type": "code",
   "execution_count": 96,
   "id": "82bf6a8d-5cd9-4c29-9cef-0380939fa392",
   "metadata": {},
   "outputs": [],
   "source": [
    "mpg = np.random.randint(5,50, size=(1,sample_size_t))\n",
    "mpg = mpg[0]"
   ]
  },
  {
   "cell_type": "code",
   "execution_count": 103,
   "id": "3a89a89c-4b5c-4450-8e80-656a0eaaf15b",
   "metadata": {},
   "outputs": [],
   "source": [
    "secTo60 = np.random.randint(1,20, size=(1,sample_size_t))\n",
    "secTo60 = secTo60[0]"
   ]
  },
  {
   "cell_type": "code",
   "execution_count": 106,
   "id": "37eb218c-e95b-4810-815e-a708e91c9570",
   "metadata": {},
   "outputs": [
    {
     "data": {
      "text/html": [
       "<div>\n",
       "<style scoped>\n",
       "    .dataframe tbody tr th:only-of-type {\n",
       "        vertical-align: middle;\n",
       "    }\n",
       "\n",
       "    .dataframe tbody tr th {\n",
       "        vertical-align: top;\n",
       "    }\n",
       "\n",
       "    .dataframe thead th {\n",
       "        text-align: right;\n",
       "    }\n",
       "</style>\n",
       "<table border=\"1\" class=\"dataframe\">\n",
       "  <thead>\n",
       "    <tr style=\"text-align: right;\">\n",
       "      <th></th>\n",
       "      <th>Car Name</th>\n",
       "      <th>MPG</th>\n",
       "    </tr>\n",
       "  </thead>\n",
       "  <tbody>\n",
       "    <tr>\n",
       "      <th>0</th>\n",
       "      <td>Madza 3</td>\n",
       "      <td>26</td>\n",
       "    </tr>\n",
       "    <tr>\n",
       "      <th>1</th>\n",
       "      <td>Cybertruck</td>\n",
       "      <td>28</td>\n",
       "    </tr>\n",
       "    <tr>\n",
       "      <th>2</th>\n",
       "      <td>Tesla Model 3</td>\n",
       "      <td>34</td>\n",
       "    </tr>\n",
       "    <tr>\n",
       "      <th>3</th>\n",
       "      <td>BMW M3</td>\n",
       "      <td>38</td>\n",
       "    </tr>\n",
       "    <tr>\n",
       "      <th>4</th>\n",
       "      <td>Mercedes S550</td>\n",
       "      <td>31</td>\n",
       "    </tr>\n",
       "    <tr>\n",
       "      <th>5</th>\n",
       "      <td>Honda Accord</td>\n",
       "      <td>49</td>\n",
       "    </tr>\n",
       "    <tr>\n",
       "      <th>6</th>\n",
       "      <td>Nissan 370Z</td>\n",
       "      <td>40</td>\n",
       "    </tr>\n",
       "    <tr>\n",
       "      <th>7</th>\n",
       "      <td>Mini Cooper</td>\n",
       "      <td>15</td>\n",
       "    </tr>\n",
       "    <tr>\n",
       "      <th>8</th>\n",
       "      <td>Audi Q7</td>\n",
       "      <td>39</td>\n",
       "    </tr>\n",
       "    <tr>\n",
       "      <th>9</th>\n",
       "      <td>Alfa Romeo Giulia</td>\n",
       "      <td>30</td>\n",
       "    </tr>\n",
       "  </tbody>\n",
       "</table>\n",
       "</div>"
      ],
      "text/plain": [
       "            Car Name  MPG\n",
       "0            Madza 3   26\n",
       "1         Cybertruck   28\n",
       "2      Tesla Model 3   34\n",
       "3             BMW M3   38\n",
       "4      Mercedes S550   31\n",
       "5       Honda Accord   49\n",
       "6        Nissan 370Z   40\n",
       "7        Mini Cooper   15\n",
       "8            Audi Q7   39\n",
       "9  Alfa Romeo Giulia   30"
      ]
     },
     "execution_count": 106,
     "metadata": {},
     "output_type": "execute_result"
    }
   ],
   "source": [
    "df1 = pd.DataFrame({'Car Name':np.random.choice(cars, size=sample_size_t, replace=False), 'MPG':mpg})\n",
    "df1"
   ]
  },
  {
   "cell_type": "code",
   "execution_count": 105,
   "id": "51b19c13-df4a-4388-a694-43291ac151f1",
   "metadata": {},
   "outputs": [
    {
     "data": {
      "text/html": [
       "<div>\n",
       "<style scoped>\n",
       "    .dataframe tbody tr th:only-of-type {\n",
       "        vertical-align: middle;\n",
       "    }\n",
       "\n",
       "    .dataframe tbody tr th {\n",
       "        vertical-align: top;\n",
       "    }\n",
       "\n",
       "    .dataframe thead th {\n",
       "        text-align: right;\n",
       "    }\n",
       "</style>\n",
       "<table border=\"1\" class=\"dataframe\">\n",
       "  <thead>\n",
       "    <tr style=\"text-align: right;\">\n",
       "      <th></th>\n",
       "      <th>Car Name</th>\n",
       "      <th>0 to 60</th>\n",
       "    </tr>\n",
       "  </thead>\n",
       "  <tbody>\n",
       "    <tr>\n",
       "      <th>0</th>\n",
       "      <td>Subaru WRX</td>\n",
       "      <td>12</td>\n",
       "    </tr>\n",
       "    <tr>\n",
       "      <th>1</th>\n",
       "      <td>Alfa Romeo Giulia</td>\n",
       "      <td>14</td>\n",
       "    </tr>\n",
       "    <tr>\n",
       "      <th>2</th>\n",
       "      <td>Audi RS4</td>\n",
       "      <td>12</td>\n",
       "    </tr>\n",
       "    <tr>\n",
       "      <th>3</th>\n",
       "      <td>Cybertruck</td>\n",
       "      <td>14</td>\n",
       "    </tr>\n",
       "    <tr>\n",
       "      <th>4</th>\n",
       "      <td>BMW M3</td>\n",
       "      <td>1</td>\n",
       "    </tr>\n",
       "    <tr>\n",
       "      <th>5</th>\n",
       "      <td>Lucid Air</td>\n",
       "      <td>9</td>\n",
       "    </tr>\n",
       "    <tr>\n",
       "      <th>6</th>\n",
       "      <td>Subaru BRZ</td>\n",
       "      <td>7</td>\n",
       "    </tr>\n",
       "    <tr>\n",
       "      <th>7</th>\n",
       "      <td>Audi Q7</td>\n",
       "      <td>10</td>\n",
       "    </tr>\n",
       "    <tr>\n",
       "      <th>8</th>\n",
       "      <td>Infiniti G35X</td>\n",
       "      <td>16</td>\n",
       "    </tr>\n",
       "    <tr>\n",
       "      <th>9</th>\n",
       "      <td>Toyota Prius</td>\n",
       "      <td>19</td>\n",
       "    </tr>\n",
       "  </tbody>\n",
       "</table>\n",
       "</div>"
      ],
      "text/plain": [
       "            Car Name  0 to 60\n",
       "0         Subaru WRX       12\n",
       "1  Alfa Romeo Giulia       14\n",
       "2           Audi RS4       12\n",
       "3         Cybertruck       14\n",
       "4             BMW M3        1\n",
       "5          Lucid Air        9\n",
       "6         Subaru BRZ        7\n",
       "7            Audi Q7       10\n",
       "8      Infiniti G35X       16\n",
       "9       Toyota Prius       19"
      ]
     },
     "execution_count": 105,
     "metadata": {},
     "output_type": "execute_result"
    }
   ],
   "source": [
    "df2 = pd.DataFrame({'Car Name':selectedCars, '0 to 60':secTo60})\n",
    "df2"
   ]
  },
  {
   "cell_type": "code",
   "execution_count": null,
   "id": "64ba2985-2a5b-4d46-b149-f43021f0d392",
   "metadata": {},
   "outputs": [],
   "source": []
  }
 ],
 "metadata": {
  "kernelspec": {
   "display_name": "Python 3 (ipykernel)",
   "language": "python",
   "name": "python3"
  },
  "language_info": {
   "codemirror_mode": {
    "name": "ipython",
    "version": 3
   },
   "file_extension": ".py",
   "mimetype": "text/x-python",
   "name": "python",
   "nbconvert_exporter": "python",
   "pygments_lexer": "ipython3",
   "version": "3.8.5"
  }
 },
 "nbformat": 4,
 "nbformat_minor": 5
}
