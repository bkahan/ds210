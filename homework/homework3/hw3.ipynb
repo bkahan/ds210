{
 "cells": [
  {
   "cell_type": "markdown",
   "id": "a0a99367-13e0-4df7-ae8c-1c8b6159f048",
   "metadata": {},
   "source": [
    "Ben Kahan  \n",
    "DS210  \n",
    "3 October 2022  \n",
    "Homework 3  \n",
    "Collaborators: None\n"
   ]
  },
  {
   "cell_type": "markdown",
   "id": "097f637f-10ff-4bb1-8fdb-aa2ceba79f34",
   "metadata": {},
   "source": [
    "# Question 1"
   ]
  },
  {
   "cell_type": "code",
   "execution_count": 16,
   "id": "7fbd696e-6f4b-43ce-9ac3-350b908e275c",
   "metadata": {},
   "outputs": [],
   "source": [
    "import numpy as np\n",
    "import pandas as pd"
   ]
  },
  {
   "cell_type": "code",
   "execution_count": 6,
   "id": "eaf69eda-cbb3-4125-a5e7-edc227982f4d",
   "metadata": {},
   "outputs": [
    {
     "data": {
      "text/plain": [
       "array([17,  6,  4, 11, 17, 15, 11, 19, 15,  4,  9,  4, 19, 17, 14,  3, 18,\n",
       "        3,  2,  0, 13, 13,  4, 12,  2,  7,  4, 19, 18, 10,  4,  8, 13, 14,\n",
       "       14, 10, 15,  4, 11, 11, 14, 16,  2, 18,  5, 18, 15,  2,  8, 13, 16,\n",
       "       19,  2,  2, 12, 19, 12,  5,  8,  4,  0,  6,  2, 11, 13,  8,  5,  6,\n",
       "       14, 16, 10, 16,  2,  0, 16, 19, 19, 16,  6, 17, 10, 19, 12,  3, 19,\n",
       "       19, 12,  1,  5, 10,  5,  5,  0, 13, 10,  3,  2, 16, 17, 17])"
      ]
     },
     "execution_count": 6,
     "metadata": {},
     "output_type": "execute_result"
    }
   ],
   "source": [
    "A = np.random.randint(20, size=100)\n",
    "A"
   ]
  },
  {
   "cell_type": "code",
   "execution_count": 11,
   "id": "63386e98-674f-4324-a5e0-37a49ff66909",
   "metadata": {},
   "outputs": [
    {
     "data": {
      "text/plain": [
       "array([ 4,  4, 10,  5,  4, 15, 12,  6,  4, 14])"
      ]
     },
     "execution_count": 11,
     "metadata": {},
     "output_type": "execute_result"
    }
   ],
   "source": [
    "sample_size_t = 10\n",
    "B = np.random.choice(A, size=sample_size_t, replace=False)\n",
    "B"
   ]
  },
  {
   "cell_type": "code",
   "execution_count": 15,
   "id": "0d142e55-c4d0-4ecb-81be-9d5b43bfb5e0",
   "metadata": {},
   "outputs": [],
   "source": [
    "cars = [\"Tesla Model 3\", \"Toyota Prius\", \"Lucid Air\", \"Porsche 918\", \"Audi RS4\", \n",
    "        \"Honda Accord\", \"Madza 3\", \"Subaru WRX\", \"Mercedes S550\", \"Subaru BRZ\", \"Audi Q7\", \"Alfa Romeo Giulia\", \n",
    "        \"Mini Cooper\", \"Fiat 500\", \"Infiniti G35X\", \"Nissan 370Z\", \"BMW M3\", \"Cybertruck\"]"
   ]
  },
  {
   "cell_type": "code",
   "execution_count": 85,
   "id": "f9f13569-223f-4471-9845-a675be45624d",
   "metadata": {},
   "outputs": [
    {
     "data": {
      "text/plain": [
       "array(['Subaru WRX', 'Alfa Romeo Giulia', 'Audi RS4', 'Cybertruck',\n",
       "       'BMW M3', 'Lucid Air', 'Subaru BRZ', 'Audi Q7', 'Infiniti G35X',\n",
       "       'Toyota Prius'], dtype='<U17')"
      ]
     },
     "execution_count": 85,
     "metadata": {},
     "output_type": "execute_result"
    }
   ],
   "source": [
    "selectedCars = np.random.choice(cars, size=sample_size_t, replace=False)\n",
    "selectedCars"
   ]
  },
  {
   "cell_type": "code",
   "execution_count": 96,
   "id": "82bf6a8d-5cd9-4c29-9cef-0380939fa392",
   "metadata": {},
   "outputs": [],
   "source": [
    "mpg = np.random.randint(5,50, size=(1,sample_size_t))\n",
    "mpg = mpg[0]"
   ]
  },
  {
   "cell_type": "code",
   "execution_count": 103,
   "id": "3a89a89c-4b5c-4450-8e80-656a0eaaf15b",
   "metadata": {},
   "outputs": [],
   "source": [
    "secTo60 = np.random.randint(1,20, size=(1,sample_size_t))\n",
    "secTo60 = secTo60[0]"
   ]
  },
  {
   "cell_type": "code",
   "execution_count": 110,
   "id": "37eb218c-e95b-4810-815e-a708e91c9570",
   "metadata": {},
   "outputs": [
    {
     "data": {
      "text/html": [
       "<div>\n",
       "<style scoped>\n",
       "    .dataframe tbody tr th:only-of-type {\n",
       "        vertical-align: middle;\n",
       "    }\n",
       "\n",
       "    .dataframe tbody tr th {\n",
       "        vertical-align: top;\n",
       "    }\n",
       "\n",
       "    .dataframe thead th {\n",
       "        text-align: right;\n",
       "    }\n",
       "</style>\n",
       "<table border=\"1\" class=\"dataframe\">\n",
       "  <thead>\n",
       "    <tr style=\"text-align: right;\">\n",
       "      <th></th>\n",
       "      <th>Car Name</th>\n",
       "      <th>MPG</th>\n",
       "    </tr>\n",
       "  </thead>\n",
       "  <tbody>\n",
       "    <tr>\n",
       "      <th>0</th>\n",
       "      <td>Audi Q7</td>\n",
       "      <td>26</td>\n",
       "    </tr>\n",
       "    <tr>\n",
       "      <th>1</th>\n",
       "      <td>Tesla Model 3</td>\n",
       "      <td>28</td>\n",
       "    </tr>\n",
       "    <tr>\n",
       "      <th>2</th>\n",
       "      <td>Alfa Romeo Giulia</td>\n",
       "      <td>34</td>\n",
       "    </tr>\n",
       "    <tr>\n",
       "      <th>3</th>\n",
       "      <td>Cybertruck</td>\n",
       "      <td>38</td>\n",
       "    </tr>\n",
       "    <tr>\n",
       "      <th>4</th>\n",
       "      <td>Toyota Prius</td>\n",
       "      <td>31</td>\n",
       "    </tr>\n",
       "    <tr>\n",
       "      <th>5</th>\n",
       "      <td>Madza 3</td>\n",
       "      <td>49</td>\n",
       "    </tr>\n",
       "    <tr>\n",
       "      <th>6</th>\n",
       "      <td>Porsche 918</td>\n",
       "      <td>40</td>\n",
       "    </tr>\n",
       "    <tr>\n",
       "      <th>7</th>\n",
       "      <td>Infiniti G35X</td>\n",
       "      <td>15</td>\n",
       "    </tr>\n",
       "    <tr>\n",
       "      <th>8</th>\n",
       "      <td>Mini Cooper</td>\n",
       "      <td>39</td>\n",
       "    </tr>\n",
       "    <tr>\n",
       "      <th>9</th>\n",
       "      <td>BMW M3</td>\n",
       "      <td>30</td>\n",
       "    </tr>\n",
       "  </tbody>\n",
       "</table>\n",
       "</div>"
      ],
      "text/plain": [
       "            Car Name  MPG\n",
       "0            Audi Q7   26\n",
       "1      Tesla Model 3   28\n",
       "2  Alfa Romeo Giulia   34\n",
       "3         Cybertruck   38\n",
       "4       Toyota Prius   31\n",
       "5            Madza 3   49\n",
       "6        Porsche 918   40\n",
       "7      Infiniti G35X   15\n",
       "8        Mini Cooper   39\n",
       "9             BMW M3   30"
      ]
     },
     "execution_count": 110,
     "metadata": {},
     "output_type": "execute_result"
    }
   ],
   "source": [
    "df1 = pd.DataFrame({'Car Name':np.random.choice(cars, size=sample_size_t, replace=False), 'MPG':mpg})\n",
    "df1"
   ]
  },
  {
   "cell_type": "code",
   "execution_count": 148,
   "id": "51b19c13-df4a-4388-a694-43291ac151f1",
   "metadata": {},
   "outputs": [
    {
     "data": {
      "text/html": [
       "<div>\n",
       "<style scoped>\n",
       "    .dataframe tbody tr th:only-of-type {\n",
       "        vertical-align: middle;\n",
       "    }\n",
       "\n",
       "    .dataframe tbody tr th {\n",
       "        vertical-align: top;\n",
       "    }\n",
       "\n",
       "    .dataframe thead th {\n",
       "        text-align: right;\n",
       "    }\n",
       "</style>\n",
       "<table border=\"1\" class=\"dataframe\">\n",
       "  <thead>\n",
       "    <tr style=\"text-align: right;\">\n",
       "      <th></th>\n",
       "      <th>Car Name</th>\n",
       "      <th>0 to 60</th>\n",
       "    </tr>\n",
       "  </thead>\n",
       "  <tbody>\n",
       "    <tr>\n",
       "      <th>0</th>\n",
       "      <td>Subaru WRX</td>\n",
       "      <td>12</td>\n",
       "    </tr>\n",
       "    <tr>\n",
       "      <th>1</th>\n",
       "      <td>Alfa Romeo Giulia</td>\n",
       "      <td>14</td>\n",
       "    </tr>\n",
       "    <tr>\n",
       "      <th>2</th>\n",
       "      <td>Audi RS4</td>\n",
       "      <td>12</td>\n",
       "    </tr>\n",
       "    <tr>\n",
       "      <th>3</th>\n",
       "      <td>Cybertruck</td>\n",
       "      <td>14</td>\n",
       "    </tr>\n",
       "    <tr>\n",
       "      <th>4</th>\n",
       "      <td>BMW M3</td>\n",
       "      <td>1</td>\n",
       "    </tr>\n",
       "    <tr>\n",
       "      <th>5</th>\n",
       "      <td>Lucid Air</td>\n",
       "      <td>9</td>\n",
       "    </tr>\n",
       "    <tr>\n",
       "      <th>6</th>\n",
       "      <td>Subaru BRZ</td>\n",
       "      <td>7</td>\n",
       "    </tr>\n",
       "    <tr>\n",
       "      <th>7</th>\n",
       "      <td>Audi Q7</td>\n",
       "      <td>10</td>\n",
       "    </tr>\n",
       "    <tr>\n",
       "      <th>8</th>\n",
       "      <td>Infiniti G35X</td>\n",
       "      <td>16</td>\n",
       "    </tr>\n",
       "    <tr>\n",
       "      <th>9</th>\n",
       "      <td>Toyota Prius</td>\n",
       "      <td>19</td>\n",
       "    </tr>\n",
       "  </tbody>\n",
       "</table>\n",
       "</div>"
      ],
      "text/plain": [
       "            Car Name  0 to 60\n",
       "0         Subaru WRX       12\n",
       "1  Alfa Romeo Giulia       14\n",
       "2           Audi RS4       12\n",
       "3         Cybertruck       14\n",
       "4             BMW M3        1\n",
       "5          Lucid Air        9\n",
       "6         Subaru BRZ        7\n",
       "7            Audi Q7       10\n",
       "8      Infiniti G35X       16\n",
       "9       Toyota Prius       19"
      ]
     },
     "execution_count": 148,
     "metadata": {},
     "output_type": "execute_result"
    }
   ],
   "source": [
    "df2 = pd.DataFrame({'Car Name':selectedCars, '0 to 60':secTo60})\n",
    "df2"
   ]
  },
  {
   "cell_type": "code",
   "execution_count": 205,
   "id": "64ba2985-2a5b-4d46-b149-f43021f0d392",
   "metadata": {},
   "outputs": [
    {
     "data": {
      "text/html": [
       "<div>\n",
       "<style scoped>\n",
       "    .dataframe tbody tr th:only-of-type {\n",
       "        vertical-align: middle;\n",
       "    }\n",
       "\n",
       "    .dataframe tbody tr th {\n",
       "        vertical-align: top;\n",
       "    }\n",
       "\n",
       "    .dataframe thead th {\n",
       "        text-align: right;\n",
       "    }\n",
       "</style>\n",
       "<table border=\"1\" class=\"dataframe\">\n",
       "  <thead>\n",
       "    <tr style=\"text-align: right;\">\n",
       "      <th></th>\n",
       "      <th>Car Name</th>\n",
       "      <th>MPG</th>\n",
       "      <th>0 to 60</th>\n",
       "    </tr>\n",
       "  </thead>\n",
       "  <tbody>\n",
       "    <tr>\n",
       "      <th>0</th>\n",
       "      <td>Audi Q7</td>\n",
       "      <td>26.0</td>\n",
       "      <td>10.0</td>\n",
       "    </tr>\n",
       "    <tr>\n",
       "      <th>1</th>\n",
       "      <td>Tesla Model 3</td>\n",
       "      <td>28.0</td>\n",
       "      <td>NaN</td>\n",
       "    </tr>\n",
       "    <tr>\n",
       "      <th>2</th>\n",
       "      <td>Alfa Romeo Giulia</td>\n",
       "      <td>34.0</td>\n",
       "      <td>14.0</td>\n",
       "    </tr>\n",
       "    <tr>\n",
       "      <th>3</th>\n",
       "      <td>Cybertruck</td>\n",
       "      <td>38.0</td>\n",
       "      <td>14.0</td>\n",
       "    </tr>\n",
       "    <tr>\n",
       "      <th>4</th>\n",
       "      <td>Toyota Prius</td>\n",
       "      <td>31.0</td>\n",
       "      <td>19.0</td>\n",
       "    </tr>\n",
       "    <tr>\n",
       "      <th>5</th>\n",
       "      <td>Madza 3</td>\n",
       "      <td>49.0</td>\n",
       "      <td>NaN</td>\n",
       "    </tr>\n",
       "    <tr>\n",
       "      <th>6</th>\n",
       "      <td>Porsche 918</td>\n",
       "      <td>40.0</td>\n",
       "      <td>NaN</td>\n",
       "    </tr>\n",
       "    <tr>\n",
       "      <th>7</th>\n",
       "      <td>Infiniti G35X</td>\n",
       "      <td>15.0</td>\n",
       "      <td>16.0</td>\n",
       "    </tr>\n",
       "    <tr>\n",
       "      <th>8</th>\n",
       "      <td>Mini Cooper</td>\n",
       "      <td>39.0</td>\n",
       "      <td>NaN</td>\n",
       "    </tr>\n",
       "    <tr>\n",
       "      <th>9</th>\n",
       "      <td>BMW M3</td>\n",
       "      <td>30.0</td>\n",
       "      <td>1.0</td>\n",
       "    </tr>\n",
       "    <tr>\n",
       "      <th>10</th>\n",
       "      <td>Subaru WRX</td>\n",
       "      <td>NaN</td>\n",
       "      <td>12.0</td>\n",
       "    </tr>\n",
       "    <tr>\n",
       "      <th>11</th>\n",
       "      <td>Audi RS4</td>\n",
       "      <td>NaN</td>\n",
       "      <td>12.0</td>\n",
       "    </tr>\n",
       "    <tr>\n",
       "      <th>12</th>\n",
       "      <td>Lucid Air</td>\n",
       "      <td>NaN</td>\n",
       "      <td>9.0</td>\n",
       "    </tr>\n",
       "    <tr>\n",
       "      <th>13</th>\n",
       "      <td>Subaru BRZ</td>\n",
       "      <td>NaN</td>\n",
       "      <td>7.0</td>\n",
       "    </tr>\n",
       "  </tbody>\n",
       "</table>\n",
       "</div>"
      ],
      "text/plain": [
       "             Car Name   MPG  0 to 60\n",
       "0             Audi Q7  26.0     10.0\n",
       "1       Tesla Model 3  28.0      NaN\n",
       "2   Alfa Romeo Giulia  34.0     14.0\n",
       "3          Cybertruck  38.0     14.0\n",
       "4        Toyota Prius  31.0     19.0\n",
       "5             Madza 3  49.0      NaN\n",
       "6         Porsche 918  40.0      NaN\n",
       "7       Infiniti G35X  15.0     16.0\n",
       "8         Mini Cooper  39.0      NaN\n",
       "9              BMW M3  30.0      1.0\n",
       "10         Subaru WRX   NaN     12.0\n",
       "11           Audi RS4   NaN     12.0\n",
       "12          Lucid Air   NaN      9.0\n",
       "13         Subaru BRZ   NaN      7.0"
      ]
     },
     "execution_count": 205,
     "metadata": {},
     "output_type": "execute_result"
    }
   ],
   "source": [
    "df3 = pd.merge(df1, df2, how=\"outer\")\n",
    "df3"
   ]
  },
  {
   "cell_type": "code",
   "execution_count": 206,
   "id": "d05d272d-97e2-4bac-afad-6326287d59cf",
   "metadata": {},
   "outputs": [],
   "source": [
    "avgMPG = df3['MPG'].sum()/len(df3['MPG'])"
   ]
  },
  {
   "cell_type": "code",
   "execution_count": 207,
   "id": "d9fd5a6f-55de-4f85-b6ab-689379d6f6c7",
   "metadata": {},
   "outputs": [],
   "source": [
    "df3['MPG'] = df3['MPG'].fillna(avgMPG)"
   ]
  },
  {
   "cell_type": "code",
   "execution_count": 208,
   "id": "933cae2d-2459-4f44-b935-03afc8c4ce4b",
   "metadata": {},
   "outputs": [
    {
     "data": {
      "text/html": [
       "<div>\n",
       "<style scoped>\n",
       "    .dataframe tbody tr th:only-of-type {\n",
       "        vertical-align: middle;\n",
       "    }\n",
       "\n",
       "    .dataframe tbody tr th {\n",
       "        vertical-align: top;\n",
       "    }\n",
       "\n",
       "    .dataframe thead th {\n",
       "        text-align: right;\n",
       "    }\n",
       "</style>\n",
       "<table border=\"1\" class=\"dataframe\">\n",
       "  <thead>\n",
       "    <tr style=\"text-align: right;\">\n",
       "      <th></th>\n",
       "      <th>Car Name</th>\n",
       "      <th>MPG</th>\n",
       "      <th>0 to 60</th>\n",
       "    </tr>\n",
       "  </thead>\n",
       "  <tbody>\n",
       "    <tr>\n",
       "      <th>0</th>\n",
       "      <td>Audi Q7</td>\n",
       "      <td>26.000000</td>\n",
       "      <td>10.0</td>\n",
       "    </tr>\n",
       "    <tr>\n",
       "      <th>1</th>\n",
       "      <td>Tesla Model 3</td>\n",
       "      <td>28.000000</td>\n",
       "      <td>NaN</td>\n",
       "    </tr>\n",
       "    <tr>\n",
       "      <th>2</th>\n",
       "      <td>Alfa Romeo Giulia</td>\n",
       "      <td>34.000000</td>\n",
       "      <td>14.0</td>\n",
       "    </tr>\n",
       "    <tr>\n",
       "      <th>3</th>\n",
       "      <td>Cybertruck</td>\n",
       "      <td>38.000000</td>\n",
       "      <td>14.0</td>\n",
       "    </tr>\n",
       "    <tr>\n",
       "      <th>4</th>\n",
       "      <td>Toyota Prius</td>\n",
       "      <td>31.000000</td>\n",
       "      <td>19.0</td>\n",
       "    </tr>\n",
       "    <tr>\n",
       "      <th>5</th>\n",
       "      <td>Madza 3</td>\n",
       "      <td>49.000000</td>\n",
       "      <td>NaN</td>\n",
       "    </tr>\n",
       "    <tr>\n",
       "      <th>6</th>\n",
       "      <td>Porsche 918</td>\n",
       "      <td>40.000000</td>\n",
       "      <td>NaN</td>\n",
       "    </tr>\n",
       "    <tr>\n",
       "      <th>7</th>\n",
       "      <td>Infiniti G35X</td>\n",
       "      <td>15.000000</td>\n",
       "      <td>16.0</td>\n",
       "    </tr>\n",
       "    <tr>\n",
       "      <th>8</th>\n",
       "      <td>Mini Cooper</td>\n",
       "      <td>39.000000</td>\n",
       "      <td>NaN</td>\n",
       "    </tr>\n",
       "    <tr>\n",
       "      <th>9</th>\n",
       "      <td>BMW M3</td>\n",
       "      <td>30.000000</td>\n",
       "      <td>1.0</td>\n",
       "    </tr>\n",
       "    <tr>\n",
       "      <th>10</th>\n",
       "      <td>Subaru WRX</td>\n",
       "      <td>23.571429</td>\n",
       "      <td>12.0</td>\n",
       "    </tr>\n",
       "    <tr>\n",
       "      <th>11</th>\n",
       "      <td>Audi RS4</td>\n",
       "      <td>23.571429</td>\n",
       "      <td>12.0</td>\n",
       "    </tr>\n",
       "    <tr>\n",
       "      <th>12</th>\n",
       "      <td>Lucid Air</td>\n",
       "      <td>23.571429</td>\n",
       "      <td>9.0</td>\n",
       "    </tr>\n",
       "    <tr>\n",
       "      <th>13</th>\n",
       "      <td>Subaru BRZ</td>\n",
       "      <td>23.571429</td>\n",
       "      <td>7.0</td>\n",
       "    </tr>\n",
       "  </tbody>\n",
       "</table>\n",
       "</div>"
      ],
      "text/plain": [
       "             Car Name        MPG  0 to 60\n",
       "0             Audi Q7  26.000000     10.0\n",
       "1       Tesla Model 3  28.000000      NaN\n",
       "2   Alfa Romeo Giulia  34.000000     14.0\n",
       "3          Cybertruck  38.000000     14.0\n",
       "4        Toyota Prius  31.000000     19.0\n",
       "5             Madza 3  49.000000      NaN\n",
       "6         Porsche 918  40.000000      NaN\n",
       "7       Infiniti G35X  15.000000     16.0\n",
       "8         Mini Cooper  39.000000      NaN\n",
       "9              BMW M3  30.000000      1.0\n",
       "10         Subaru WRX  23.571429     12.0\n",
       "11           Audi RS4  23.571429     12.0\n",
       "12          Lucid Air  23.571429      9.0\n",
       "13         Subaru BRZ  23.571429      7.0"
      ]
     },
     "execution_count": 208,
     "metadata": {},
     "output_type": "execute_result"
    }
   ],
   "source": [
    "df3"
   ]
  },
  {
   "cell_type": "code",
   "execution_count": 209,
   "id": "a5656f6c-25ce-44d4-8a79-a28f7ed4a409",
   "metadata": {},
   "outputs": [
    {
     "data": {
      "text/plain": [
       "19.0"
      ]
     },
     "execution_count": 209,
     "metadata": {},
     "output_type": "execute_result"
    }
   ],
   "source": [
    "maxSpeed = df3['0 to 60'].max()\n",
    "maxSpeed"
   ]
  },
  {
   "cell_type": "code",
   "execution_count": 210,
   "id": "17c3fdc5-6319-401c-ab63-bb65d876ac54",
   "metadata": {},
   "outputs": [
    {
     "data": {
      "text/html": [
       "<div>\n",
       "<style scoped>\n",
       "    .dataframe tbody tr th:only-of-type {\n",
       "        vertical-align: middle;\n",
       "    }\n",
       "\n",
       "    .dataframe tbody tr th {\n",
       "        vertical-align: top;\n",
       "    }\n",
       "\n",
       "    .dataframe thead th {\n",
       "        text-align: right;\n",
       "    }\n",
       "</style>\n",
       "<table border=\"1\" class=\"dataframe\">\n",
       "  <thead>\n",
       "    <tr style=\"text-align: right;\">\n",
       "      <th></th>\n",
       "      <th>Car Name</th>\n",
       "      <th>MPG</th>\n",
       "      <th>0 to 60</th>\n",
       "    </tr>\n",
       "  </thead>\n",
       "  <tbody>\n",
       "    <tr>\n",
       "      <th>0</th>\n",
       "      <td>Audi Q7</td>\n",
       "      <td>26.000000</td>\n",
       "      <td>10.0</td>\n",
       "    </tr>\n",
       "    <tr>\n",
       "      <th>1</th>\n",
       "      <td>Tesla Model 3</td>\n",
       "      <td>28.000000</td>\n",
       "      <td>19.0</td>\n",
       "    </tr>\n",
       "    <tr>\n",
       "      <th>2</th>\n",
       "      <td>Alfa Romeo Giulia</td>\n",
       "      <td>34.000000</td>\n",
       "      <td>14.0</td>\n",
       "    </tr>\n",
       "    <tr>\n",
       "      <th>3</th>\n",
       "      <td>Cybertruck</td>\n",
       "      <td>38.000000</td>\n",
       "      <td>14.0</td>\n",
       "    </tr>\n",
       "    <tr>\n",
       "      <th>4</th>\n",
       "      <td>Toyota Prius</td>\n",
       "      <td>31.000000</td>\n",
       "      <td>19.0</td>\n",
       "    </tr>\n",
       "    <tr>\n",
       "      <th>5</th>\n",
       "      <td>Madza 3</td>\n",
       "      <td>49.000000</td>\n",
       "      <td>19.0</td>\n",
       "    </tr>\n",
       "    <tr>\n",
       "      <th>6</th>\n",
       "      <td>Porsche 918</td>\n",
       "      <td>40.000000</td>\n",
       "      <td>19.0</td>\n",
       "    </tr>\n",
       "    <tr>\n",
       "      <th>7</th>\n",
       "      <td>Infiniti G35X</td>\n",
       "      <td>15.000000</td>\n",
       "      <td>16.0</td>\n",
       "    </tr>\n",
       "    <tr>\n",
       "      <th>8</th>\n",
       "      <td>Mini Cooper</td>\n",
       "      <td>39.000000</td>\n",
       "      <td>19.0</td>\n",
       "    </tr>\n",
       "    <tr>\n",
       "      <th>9</th>\n",
       "      <td>BMW M3</td>\n",
       "      <td>30.000000</td>\n",
       "      <td>1.0</td>\n",
       "    </tr>\n",
       "    <tr>\n",
       "      <th>10</th>\n",
       "      <td>Subaru WRX</td>\n",
       "      <td>23.571429</td>\n",
       "      <td>12.0</td>\n",
       "    </tr>\n",
       "    <tr>\n",
       "      <th>11</th>\n",
       "      <td>Audi RS4</td>\n",
       "      <td>23.571429</td>\n",
       "      <td>12.0</td>\n",
       "    </tr>\n",
       "    <tr>\n",
       "      <th>12</th>\n",
       "      <td>Lucid Air</td>\n",
       "      <td>23.571429</td>\n",
       "      <td>9.0</td>\n",
       "    </tr>\n",
       "    <tr>\n",
       "      <th>13</th>\n",
       "      <td>Subaru BRZ</td>\n",
       "      <td>23.571429</td>\n",
       "      <td>7.0</td>\n",
       "    </tr>\n",
       "  </tbody>\n",
       "</table>\n",
       "</div>"
      ],
      "text/plain": [
       "             Car Name        MPG  0 to 60\n",
       "0             Audi Q7  26.000000     10.0\n",
       "1       Tesla Model 3  28.000000     19.0\n",
       "2   Alfa Romeo Giulia  34.000000     14.0\n",
       "3          Cybertruck  38.000000     14.0\n",
       "4        Toyota Prius  31.000000     19.0\n",
       "5             Madza 3  49.000000     19.0\n",
       "6         Porsche 918  40.000000     19.0\n",
       "7       Infiniti G35X  15.000000     16.0\n",
       "8         Mini Cooper  39.000000     19.0\n",
       "9              BMW M3  30.000000      1.0\n",
       "10         Subaru WRX  23.571429     12.0\n",
       "11           Audi RS4  23.571429     12.0\n",
       "12          Lucid Air  23.571429      9.0\n",
       "13         Subaru BRZ  23.571429      7.0"
      ]
     },
     "execution_count": 210,
     "metadata": {},
     "output_type": "execute_result"
    }
   ],
   "source": [
    "df3['0 to 60'] = df3['0 to 60'].fillna(maxSpeed)\n",
    "df3"
   ]
  },
  {
   "cell_type": "code",
   "execution_count": 223,
   "id": "0038d6f3-5363-4451-b8cf-d19a60b5543b",
   "metadata": {},
   "outputs": [
    {
     "name": "stderr",
     "output_type": "stream",
     "text": [
      "/var/folders/0s/cwxnf6m51pj2nyh3t2ty55gh0000gn/T/ipykernel_55608/712266061.py:3: SettingWithCopyWarning: \n",
      "A value is trying to be set on a copy of a slice from a DataFrame\n",
      "\n",
      "See the caveats in the documentation: https://pandas.pydata.org/pandas-docs/stable/user_guide/indexing.html#returning-a-view-versus-a-copy\n",
      "  tmp[x] += 'awesome' # I know this creates an warning but I'm not exactly sure how to resolve it\n"
     ]
    }
   ],
   "source": [
    "tmp = df3.iloc[:, 0]\n",
    "for x in range(len(tmp)):\n",
    "    tmp[x] += 'awesome' # I know this creates an warning but I'm not exactly sure how to resolve it"
   ]
  },
  {
   "cell_type": "code",
   "execution_count": 220,
   "id": "5a06c546-1364-4118-89f3-f42b8b737131",
   "metadata": {},
   "outputs": [
    {
     "data": {
      "text/html": [
       "<div>\n",
       "<style scoped>\n",
       "    .dataframe tbody tr th:only-of-type {\n",
       "        vertical-align: middle;\n",
       "    }\n",
       "\n",
       "    .dataframe tbody tr th {\n",
       "        vertical-align: top;\n",
       "    }\n",
       "\n",
       "    .dataframe thead th {\n",
       "        text-align: right;\n",
       "    }\n",
       "</style>\n",
       "<table border=\"1\" class=\"dataframe\">\n",
       "  <thead>\n",
       "    <tr style=\"text-align: right;\">\n",
       "      <th></th>\n",
       "      <th>Car Name</th>\n",
       "      <th>MPG</th>\n",
       "      <th>0 to 60</th>\n",
       "    </tr>\n",
       "  </thead>\n",
       "  <tbody>\n",
       "    <tr>\n",
       "      <th>0</th>\n",
       "      <td>Audi Q7awesome</td>\n",
       "      <td>26.000000</td>\n",
       "      <td>10.0</td>\n",
       "    </tr>\n",
       "    <tr>\n",
       "      <th>1</th>\n",
       "      <td>Tesla Model 3awesome</td>\n",
       "      <td>28.000000</td>\n",
       "      <td>19.0</td>\n",
       "    </tr>\n",
       "    <tr>\n",
       "      <th>2</th>\n",
       "      <td>Alfa Romeo Giuliaawesome</td>\n",
       "      <td>34.000000</td>\n",
       "      <td>14.0</td>\n",
       "    </tr>\n",
       "    <tr>\n",
       "      <th>3</th>\n",
       "      <td>Cybertruckawesome</td>\n",
       "      <td>38.000000</td>\n",
       "      <td>14.0</td>\n",
       "    </tr>\n",
       "    <tr>\n",
       "      <th>4</th>\n",
       "      <td>Toyota Priusawesome</td>\n",
       "      <td>31.000000</td>\n",
       "      <td>19.0</td>\n",
       "    </tr>\n",
       "    <tr>\n",
       "      <th>5</th>\n",
       "      <td>Madza 3awesome</td>\n",
       "      <td>49.000000</td>\n",
       "      <td>19.0</td>\n",
       "    </tr>\n",
       "    <tr>\n",
       "      <th>6</th>\n",
       "      <td>Porsche 918awesome</td>\n",
       "      <td>40.000000</td>\n",
       "      <td>19.0</td>\n",
       "    </tr>\n",
       "    <tr>\n",
       "      <th>7</th>\n",
       "      <td>Infiniti G35Xawesome</td>\n",
       "      <td>15.000000</td>\n",
       "      <td>16.0</td>\n",
       "    </tr>\n",
       "    <tr>\n",
       "      <th>8</th>\n",
       "      <td>Mini Cooperawesome</td>\n",
       "      <td>39.000000</td>\n",
       "      <td>19.0</td>\n",
       "    </tr>\n",
       "    <tr>\n",
       "      <th>9</th>\n",
       "      <td>BMW M3awesome</td>\n",
       "      <td>30.000000</td>\n",
       "      <td>1.0</td>\n",
       "    </tr>\n",
       "    <tr>\n",
       "      <th>10</th>\n",
       "      <td>Subaru WRXawesome</td>\n",
       "      <td>23.571429</td>\n",
       "      <td>12.0</td>\n",
       "    </tr>\n",
       "    <tr>\n",
       "      <th>11</th>\n",
       "      <td>Audi RS4awesome</td>\n",
       "      <td>23.571429</td>\n",
       "      <td>12.0</td>\n",
       "    </tr>\n",
       "    <tr>\n",
       "      <th>12</th>\n",
       "      <td>Lucid Airawesome</td>\n",
       "      <td>23.571429</td>\n",
       "      <td>9.0</td>\n",
       "    </tr>\n",
       "    <tr>\n",
       "      <th>13</th>\n",
       "      <td>Subaru BRZawesome</td>\n",
       "      <td>23.571429</td>\n",
       "      <td>7.0</td>\n",
       "    </tr>\n",
       "  </tbody>\n",
       "</table>\n",
       "</div>"
      ],
      "text/plain": [
       "                    Car Name        MPG  0 to 60\n",
       "0             Audi Q7awesome  26.000000     10.0\n",
       "1       Tesla Model 3awesome  28.000000     19.0\n",
       "2   Alfa Romeo Giuliaawesome  34.000000     14.0\n",
       "3          Cybertruckawesome  38.000000     14.0\n",
       "4        Toyota Priusawesome  31.000000     19.0\n",
       "5             Madza 3awesome  49.000000     19.0\n",
       "6         Porsche 918awesome  40.000000     19.0\n",
       "7       Infiniti G35Xawesome  15.000000     16.0\n",
       "8         Mini Cooperawesome  39.000000     19.0\n",
       "9              BMW M3awesome  30.000000      1.0\n",
       "10         Subaru WRXawesome  23.571429     12.0\n",
       "11           Audi RS4awesome  23.571429     12.0\n",
       "12          Lucid Airawesome  23.571429      9.0\n",
       "13         Subaru BRZawesome  23.571429      7.0"
      ]
     },
     "execution_count": 220,
     "metadata": {},
     "output_type": "execute_result"
    }
   ],
   "source": [
    "df3"
   ]
  },
  {
   "cell_type": "code",
   "execution_count": 221,
   "id": "7047dc55-5c15-452a-99b6-024cd834a241",
   "metadata": {},
   "outputs": [],
   "source": [
    "df_eco = df3.loc[df3['MPG'] > avgMPG]"
   ]
  },
  {
   "cell_type": "code",
   "execution_count": 222,
   "id": "26b12dad-a656-4451-b670-36a0ccc0ce79",
   "metadata": {},
   "outputs": [
    {
     "data": {
      "text/html": [
       "<div>\n",
       "<style scoped>\n",
       "    .dataframe tbody tr th:only-of-type {\n",
       "        vertical-align: middle;\n",
       "    }\n",
       "\n",
       "    .dataframe tbody tr th {\n",
       "        vertical-align: top;\n",
       "    }\n",
       "\n",
       "    .dataframe thead th {\n",
       "        text-align: right;\n",
       "    }\n",
       "</style>\n",
       "<table border=\"1\" class=\"dataframe\">\n",
       "  <thead>\n",
       "    <tr style=\"text-align: right;\">\n",
       "      <th></th>\n",
       "      <th>Car Name</th>\n",
       "      <th>MPG</th>\n",
       "      <th>0 to 60</th>\n",
       "    </tr>\n",
       "  </thead>\n",
       "  <tbody>\n",
       "    <tr>\n",
       "      <th>0</th>\n",
       "      <td>Audi Q7awesome</td>\n",
       "      <td>26.0</td>\n",
       "      <td>10.0</td>\n",
       "    </tr>\n",
       "    <tr>\n",
       "      <th>1</th>\n",
       "      <td>Tesla Model 3awesome</td>\n",
       "      <td>28.0</td>\n",
       "      <td>19.0</td>\n",
       "    </tr>\n",
       "    <tr>\n",
       "      <th>2</th>\n",
       "      <td>Alfa Romeo Giuliaawesome</td>\n",
       "      <td>34.0</td>\n",
       "      <td>14.0</td>\n",
       "    </tr>\n",
       "    <tr>\n",
       "      <th>3</th>\n",
       "      <td>Cybertruckawesome</td>\n",
       "      <td>38.0</td>\n",
       "      <td>14.0</td>\n",
       "    </tr>\n",
       "    <tr>\n",
       "      <th>4</th>\n",
       "      <td>Toyota Priusawesome</td>\n",
       "      <td>31.0</td>\n",
       "      <td>19.0</td>\n",
       "    </tr>\n",
       "    <tr>\n",
       "      <th>5</th>\n",
       "      <td>Madza 3awesome</td>\n",
       "      <td>49.0</td>\n",
       "      <td>19.0</td>\n",
       "    </tr>\n",
       "    <tr>\n",
       "      <th>6</th>\n",
       "      <td>Porsche 918awesome</td>\n",
       "      <td>40.0</td>\n",
       "      <td>19.0</td>\n",
       "    </tr>\n",
       "    <tr>\n",
       "      <th>8</th>\n",
       "      <td>Mini Cooperawesome</td>\n",
       "      <td>39.0</td>\n",
       "      <td>19.0</td>\n",
       "    </tr>\n",
       "    <tr>\n",
       "      <th>9</th>\n",
       "      <td>BMW M3awesome</td>\n",
       "      <td>30.0</td>\n",
       "      <td>1.0</td>\n",
       "    </tr>\n",
       "  </tbody>\n",
       "</table>\n",
       "</div>"
      ],
      "text/plain": [
       "                   Car Name   MPG  0 to 60\n",
       "0            Audi Q7awesome  26.0     10.0\n",
       "1      Tesla Model 3awesome  28.0     19.0\n",
       "2  Alfa Romeo Giuliaawesome  34.0     14.0\n",
       "3         Cybertruckawesome  38.0     14.0\n",
       "4       Toyota Priusawesome  31.0     19.0\n",
       "5            Madza 3awesome  49.0     19.0\n",
       "6        Porsche 918awesome  40.0     19.0\n",
       "8        Mini Cooperawesome  39.0     19.0\n",
       "9             BMW M3awesome  30.0      1.0"
      ]
     },
     "execution_count": 222,
     "metadata": {},
     "output_type": "execute_result"
    }
   ],
   "source": [
    "df_eco"
   ]
  },
  {
   "cell_type": "markdown",
   "id": "c899e84c-ccfd-47e6-b17f-36a800cffba7",
   "metadata": {},
   "source": [
    "# Question 2"
   ]
  },
  {
   "cell_type": "markdown",
   "id": "9f320057-c9f8-4f2f-958c-960c13f83cab",
   "metadata": {},
   "source": [
    "Part of [this dataset](https://github.com/prasertcbs/basic-dataset/blob/master/pastry.xlsx) was used to generate my `pastries.csv` file. "
   ]
  },
  {
   "cell_type": "code",
   "execution_count": 282,
   "id": "80d17212-d3e2-4435-be94-7113df4cdbfb",
   "metadata": {},
   "outputs": [],
   "source": [
    "pastries = pd.read_csv(\"pastries.csv\")\n",
    "ingredients = pd.read_csv(\"ingredients.csv\")"
   ]
  },
  {
   "cell_type": "code",
   "execution_count": 283,
   "id": "4e5cb761-da25-41a1-8f07-3290943c343d",
   "metadata": {},
   "outputs": [
    {
     "data": {
      "text/html": [
       "<div>\n",
       "<style scoped>\n",
       "    .dataframe tbody tr th:only-of-type {\n",
       "        vertical-align: middle;\n",
       "    }\n",
       "\n",
       "    .dataframe tbody tr th {\n",
       "        vertical-align: top;\n",
       "    }\n",
       "\n",
       "    .dataframe thead th {\n",
       "        text-align: right;\n",
       "    }\n",
       "</style>\n",
       "<table border=\"1\" class=\"dataframe\">\n",
       "  <thead>\n",
       "    <tr style=\"text-align: right;\">\n",
       "      <th></th>\n",
       "      <th>Name</th>\n",
       "      <th>Price</th>\n",
       "      <th>Yeast</th>\n",
       "      <th>Flour</th>\n",
       "      <th>Sugar</th>\n",
       "    </tr>\n",
       "  </thead>\n",
       "  <tbody>\n",
       "    <tr>\n",
       "      <th>0</th>\n",
       "      <td>Apple Pie</td>\n",
       "      <td>2.99</td>\n",
       "      <td>0.00</td>\n",
       "      <td>0.75</td>\n",
       "      <td>1.50</td>\n",
       "    </tr>\n",
       "    <tr>\n",
       "      <th>1</th>\n",
       "      <td>Croissant</td>\n",
       "      <td>2.50</td>\n",
       "      <td>0.50</td>\n",
       "      <td>1.50</td>\n",
       "      <td>0.25</td>\n",
       "    </tr>\n",
       "    <tr>\n",
       "      <th>2</th>\n",
       "      <td>Poppy seed roll</td>\n",
       "      <td>5.99</td>\n",
       "      <td>1.15</td>\n",
       "      <td>1.50</td>\n",
       "      <td>0.75</td>\n",
       "    </tr>\n",
       "  </tbody>\n",
       "</table>\n",
       "</div>"
      ],
      "text/plain": [
       "              Name  Price  Yeast  Flour  Sugar\n",
       "0        Apple Pie   2.99   0.00   0.75   1.50\n",
       "1        Croissant   2.50   0.50   1.50   0.25\n",
       "2  Poppy seed roll   5.99   1.15   1.50   0.75"
      ]
     },
     "execution_count": 283,
     "metadata": {},
     "output_type": "execute_result"
    }
   ],
   "source": [
    "pastries.head()"
   ]
  },
  {
   "cell_type": "code",
   "execution_count": 284,
   "id": "dcd823dc-bb11-4ba1-ad80-69cb77f507aa",
   "metadata": {},
   "outputs": [
    {
     "data": {
      "text/html": [
       "<div>\n",
       "<style scoped>\n",
       "    .dataframe tbody tr th:only-of-type {\n",
       "        vertical-align: middle;\n",
       "    }\n",
       "\n",
       "    .dataframe tbody tr th {\n",
       "        vertical-align: top;\n",
       "    }\n",
       "\n",
       "    .dataframe thead th {\n",
       "        text-align: right;\n",
       "    }\n",
       "</style>\n",
       "<table border=\"1\" class=\"dataframe\">\n",
       "  <thead>\n",
       "    <tr style=\"text-align: right;\">\n",
       "      <th></th>\n",
       "      <th>Yeast</th>\n",
       "      <th>Flour</th>\n",
       "      <th>Sugar</th>\n",
       "    </tr>\n",
       "  </thead>\n",
       "  <tbody>\n",
       "    <tr>\n",
       "      <th>0</th>\n",
       "      <td>706</td>\n",
       "      <td>231</td>\n",
       "      <td>436</td>\n",
       "    </tr>\n",
       "  </tbody>\n",
       "</table>\n",
       "</div>"
      ],
      "text/plain": [
       "   Yeast  Flour  Sugar\n",
       "0    706    231    436"
      ]
     },
     "execution_count": 284,
     "metadata": {},
     "output_type": "execute_result"
    }
   ],
   "source": [
    "ingredients.head()"
   ]
  },
  {
   "cell_type": "code",
   "execution_count": 335,
   "id": "38affdfd-372c-4fa6-ac10-1704eb0df501",
   "metadata": {},
   "outputs": [],
   "source": [
    "import cvxpy as cp"
   ]
  },
  {
   "cell_type": "code",
   "execution_count": 339,
   "id": "4e0959e9-6dab-4675-983a-280f763e944e",
   "metadata": {},
   "outputs": [],
   "source": [
    "y1 = cp.Variable()\n",
    "f1 = cp.Variable()\n",
    "s1= cp.Variable()\n",
    "y2= cp.Variable()\n",
    "f2= cp.Variable()\n",
    "s2= cp.Variable()\n",
    "y3= cp.Variable()\n",
    "f3= cp.Variable()\n",
    "s3 = cp.Variable()"
   ]
  },
  {
   "cell_type": "code",
   "execution_count": 357,
   "id": "d32407f1-a99b-40f3-9592-4fc9b2a0c0f5",
   "metadata": {},
   "outputs": [],
   "source": [
    "obj = cp.Maximize(2.99*(0*y1+.75*f1+1.5*s1)+\n",
    "                  2.5*(.5*y2+1.5*f2+.25*s2)+\n",
    "                  5.99*(1.15*y3+1.5*f3+.75*s3))"
   ]
  },
  {
   "cell_type": "code",
   "execution_count": 360,
   "id": "c2bf643d-4f47-4916-ab84-c0383f271582",
   "metadata": {},
   "outputs": [],
   "source": [
    "constraints = [y1 + y2 + y3 <=706, \n",
    "               f1 + f2 + f3 <= 231, \n",
    "               s1 + s2 + s3 <= 436, \n",
    "               y1 >= 0, \n",
    "              y2 >=0 ,\n",
    "              y3 >=0,\n",
    "              f1 >=0 ,\n",
    "              f2 >=0,\n",
    "              f3 >=0,\n",
    "              s1 >=0,\n",
    "              s2 >=0,\n",
    "              s3 >=0,\n",
    "              ]"
   ]
  },
  {
   "cell_type": "code",
   "execution_count": 361,
   "id": "284e6b40-1285-4f93-8165-f98f1cc662cc",
   "metadata": {},
   "outputs": [],
   "source": [
    "prob = cp.Problem(obj, constraints)"
   ]
  },
  {
   "cell_type": "code",
   "execution_count": 379,
   "id": "6b64090d-4f5e-4570-aece-82bcbe9f80eb",
   "metadata": {},
   "outputs": [
    {
     "data": {
      "text/plain": [
       "8897.54599897173"
      ]
     },
     "execution_count": 379,
     "metadata": {},
     "output_type": "execute_result"
    }
   ],
   "source": [
    "profit = prob.solve()\n",
    "profit"
   ]
  },
  {
   "cell_type": "code",
   "execution_count": 380,
   "id": "d86761fb-92b3-491a-a4c9-e53700cbb6ac",
   "metadata": {},
   "outputs": [
    {
     "data": {
      "text/plain": [
       "[[array(1.77071006e-08), array(1.56455862e-08), array(6.18084062e-06)],\n",
       " [array(2.16191431e-08), array(1.96289245e-08), array(3.91935497e-08)],\n",
       " [array(705.99999994), array(230.99999995), array(435.99999375)]]"
      ]
     },
     "execution_count": 380,
     "metadata": {},
     "output_type": "execute_result"
    }
   ],
   "source": [
    "res = [[y1.value, f1.value, s1.value], \n",
    "       [y2.value,f2.value,s2.value],\n",
    "       [y3.value,f3.value,s3.value]]\n",
    "\n",
    "res"
   ]
  },
  {
   "cell_type": "markdown",
   "id": "a5d1faa1-f96a-4ce8-b865-7dc7049e28ed",
   "metadata": {},
   "source": [
    "We can clearly see that neither Apple Pies nor Croissants are the most profitable. From our convex solver, we can get a profit of $8,897.54. "
   ]
  },
  {
   "cell_type": "code",
   "execution_count": 381,
   "id": "994f6d32-1977-4d8a-b83c-523909694f0d",
   "metadata": {},
   "outputs": [
    {
     "name": "stdout",
     "output_type": "stream",
     "text": [
      "The max profit is  8897 and can be acheived by producing: \n",
      " \n",
      " 1485 pieces.\n"
     ]
    }
   ],
   "source": [
    "print(\"The max profit is %5d and can be acheived by producing: \\n \\n %3d pieces.\" % (profit, profit/5.99))"
   ]
  },
  {
   "cell_type": "markdown",
   "id": "07820297-b4d2-4a04-8662-63f768592f92",
   "metadata": {},
   "source": [
    "I found my solution by using the CVXPY package, a convex optimization problem solver. I identified the problem as a linear optimization problem and I set up my equations symbolically.  \n",
    "\n",
    "I had originally tried to use `Scipy.optimize.linprog` but I ran into difficulty manipulating the matricies so I transitioned to a symbolic solver. This allowed me to translate my written math into code much quicker.  "
   ]
  },
  {
   "cell_type": "code",
   "execution_count": null,
   "id": "704bd5e9-f8c1-404e-8046-026c30930847",
   "metadata": {},
   "outputs": [],
   "source": []
  }
 ],
 "metadata": {
  "kernelspec": {
   "display_name": "Python 3 (ipykernel)",
   "language": "python",
   "name": "python3"
  },
  "language_info": {
   "codemirror_mode": {
    "name": "ipython",
    "version": 3
   },
   "file_extension": ".py",
   "mimetype": "text/x-python",
   "name": "python",
   "nbconvert_exporter": "python",
   "pygments_lexer": "ipython3",
   "version": "3.8.5"
  }
 },
 "nbformat": 4,
 "nbformat_minor": 5
}
