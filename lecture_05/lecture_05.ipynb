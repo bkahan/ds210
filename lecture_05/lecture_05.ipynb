{
 "cells": [
  {
   "cell_type": "markdown",
   "id": "eb562b1c",
   "metadata": {
    "cell_style": "center",
    "slideshow": {
     "slide_type": "slide"
    }
   },
   "source": [
    "# DS-210: Programming for Data Science\n",
    "\n",
    "\n",
    "# Lecture 5:<br>&nbsp;&nbsp;&nbsp;Follow-up on Pandas dtypes<br>&nbsp;&nbsp;&nbsp;Classification vs. regression<br>&nbsp;&nbsp;&nbsp;Ethics of data processing\n"
   ]
  },
  {
   "cell_type": "markdown",
   "id": "410402d8",
   "metadata": {
    "cell_style": "split",
    "slideshow": {
     "slide_type": "slide"
    }
   },
   "source": [
    "# Announcements\n",
    "Midterm: 10/14, 1:25–2:15pm, CAS B18<br>\n",
    "Final: 12/21, 12:00-2:00pm, TBD\n",
    "\n",
    "* Both open book (meaning notes and books but not laptops or other forms of electronics)\n",
    "* Midterm: focus on Python + machine learning\n",
    "* Final: focus on Rust + basic algorithms and data structures"
   ]
  },
  {
   "cell_type": "markdown",
   "id": "5af20bc5",
   "metadata": {
    "cell_style": "split",
    "slideshow": {
     "slide_type": "fragment"
    }
   },
   "source": [
    "## Gradescope\n",
    "\n",
    "* Entry code: 7GX5D4\n",
    "* Reminder: submit an IPython notebook. Or a `.zip` file."
   ]
  },
  {
   "cell_type": "markdown",
   "id": "aabb69a8",
   "metadata": {
    "slideshow": {
     "slide_type": "slide"
    }
   },
   "source": [
    "## Setting up our environment for this lecture"
   ]
  },
  {
   "cell_type": "code",
   "execution_count": 28,
   "id": "0ef26642",
   "metadata": {},
   "outputs": [],
   "source": [
    "import numpy as np\n",
    "import pandas as pd\n",
    "import random\n",
    "import math \n",
    "from sklearn.tree import DecisionTreeClassifier, DecisionTreeRegressor\n",
    "from sklearn import tree\n",
    "import matplotlib.pyplot as plt\n",
    "\n",
    "# print a text file\n",
    "def print_file(filename):\n",
    "    with open(filename) as f:\n",
    "        print(f.read(),end='')\n",
    "    print(\"================\")\n",
    "\n",
    "# display data we have read\n",
    "def show_data(data):\n",
    "    print(data.dtypes,data,sep='\\n---\\n')"
   ]
  },
  {
   "cell_type": "markdown",
   "id": "21df2a9c",
   "metadata": {
    "slideshow": {
     "slide_type": "slide"
    }
   },
   "source": [
    "## Follow-up: Panda dtypes"
   ]
  },
  {
   "cell_type": "code",
   "execution_count": 29,
   "id": "4a53d2f4",
   "metadata": {},
   "outputs": [
    {
     "name": "stdout",
     "output_type": "stream",
     "text": [
      "Customer Number,Customer Name,2016,2017,Percent Growth,Jan Units,Month,Day,Year,Active\n",
      "\"10002.0\",Quest Industries,\"$125,000.00\",$162500.00,30.00%,500,1,10,2015,\"Y\"\n",
      "552278,Smith Plumbing,\"$920,000.00\",\"$101,2000.00\",10.00%,700,6,15,2014,\"Y\"\n",
      "23477,ACME Industrial,\"$50,000.00\",$62500.00,25.00%,125,3,29,2016,\"Y\"\n",
      "24900,Brekke LTD,\"$350,000.00\",$490000.00,4.00%,75,10,27,2015,\"Y\"\n",
      "651029,Harbor Co,\"$15,000.00\",$12750.00,-15.00%,Closed,2,2,2014,\"N\"\n",
      "================\n"
     ]
    },
    {
     "data": {
      "text/html": [
       "<div>\n",
       "<style scoped>\n",
       "    .dataframe tbody tr th:only-of-type {\n",
       "        vertical-align: middle;\n",
       "    }\n",
       "\n",
       "    .dataframe tbody tr th {\n",
       "        vertical-align: top;\n",
       "    }\n",
       "\n",
       "    .dataframe thead th {\n",
       "        text-align: right;\n",
       "    }\n",
       "</style>\n",
       "<table border=\"1\" class=\"dataframe\">\n",
       "  <thead>\n",
       "    <tr style=\"text-align: right;\">\n",
       "      <th></th>\n",
       "      <th>Customer Number</th>\n",
       "      <th>Customer Name</th>\n",
       "      <th>2016</th>\n",
       "      <th>2017</th>\n",
       "      <th>Percent Growth</th>\n",
       "      <th>Jan Units</th>\n",
       "      <th>Month</th>\n",
       "      <th>Day</th>\n",
       "      <th>Year</th>\n",
       "      <th>Active</th>\n",
       "    </tr>\n",
       "  </thead>\n",
       "  <tbody>\n",
       "    <tr>\n",
       "      <th>0</th>\n",
       "      <td>10002.0</td>\n",
       "      <td>Quest Industries</td>\n",
       "      <td>$125,000.00</td>\n",
       "      <td>$162500.00</td>\n",
       "      <td>30.00%</td>\n",
       "      <td>500</td>\n",
       "      <td>1</td>\n",
       "      <td>10</td>\n",
       "      <td>2015</td>\n",
       "      <td>Y</td>\n",
       "    </tr>\n",
       "    <tr>\n",
       "      <th>1</th>\n",
       "      <td>552278.0</td>\n",
       "      <td>Smith Plumbing</td>\n",
       "      <td>$920,000.00</td>\n",
       "      <td>$101,2000.00</td>\n",
       "      <td>10.00%</td>\n",
       "      <td>700</td>\n",
       "      <td>6</td>\n",
       "      <td>15</td>\n",
       "      <td>2014</td>\n",
       "      <td>Y</td>\n",
       "    </tr>\n",
       "    <tr>\n",
       "      <th>2</th>\n",
       "      <td>23477.0</td>\n",
       "      <td>ACME Industrial</td>\n",
       "      <td>$50,000.00</td>\n",
       "      <td>$62500.00</td>\n",
       "      <td>25.00%</td>\n",
       "      <td>125</td>\n",
       "      <td>3</td>\n",
       "      <td>29</td>\n",
       "      <td>2016</td>\n",
       "      <td>Y</td>\n",
       "    </tr>\n",
       "    <tr>\n",
       "      <th>3</th>\n",
       "      <td>24900.0</td>\n",
       "      <td>Brekke LTD</td>\n",
       "      <td>$350,000.00</td>\n",
       "      <td>$490000.00</td>\n",
       "      <td>4.00%</td>\n",
       "      <td>75</td>\n",
       "      <td>10</td>\n",
       "      <td>27</td>\n",
       "      <td>2015</td>\n",
       "      <td>Y</td>\n",
       "    </tr>\n",
       "    <tr>\n",
       "      <th>4</th>\n",
       "      <td>651029.0</td>\n",
       "      <td>Harbor Co</td>\n",
       "      <td>$15,000.00</td>\n",
       "      <td>$12750.00</td>\n",
       "      <td>-15.00%</td>\n",
       "      <td>Closed</td>\n",
       "      <td>2</td>\n",
       "      <td>2</td>\n",
       "      <td>2014</td>\n",
       "      <td>N</td>\n",
       "    </tr>\n",
       "  </tbody>\n",
       "</table>\n",
       "</div>"
      ],
      "text/plain": [
       "   Customer Number     Customer Name         2016          2017  \\\n",
       "0          10002.0  Quest Industries  $125,000.00    $162500.00   \n",
       "1         552278.0    Smith Plumbing  $920,000.00  $101,2000.00   \n",
       "2          23477.0   ACME Industrial   $50,000.00     $62500.00   \n",
       "3          24900.0        Brekke LTD  $350,000.00    $490000.00   \n",
       "4         651029.0         Harbor Co   $15,000.00     $12750.00   \n",
       "\n",
       "  Percent Growth Jan Units  Month  Day  Year Active  \n",
       "0         30.00%       500      1   10  2015      Y  \n",
       "1         10.00%       700      6   15  2014      Y  \n",
       "2         25.00%       125      3   29  2016      Y  \n",
       "3          4.00%        75     10   27  2015      Y  \n",
       "4        -15.00%    Closed      2    2  2014      N  "
      ]
     },
     "execution_count": 29,
     "metadata": {},
     "output_type": "execute_result"
    }
   ],
   "source": [
    "filename = \"sales_data_types.csv\"\n",
    "df = pd.read_csv(filename)\n",
    "print_file(filename)\n",
    "df"
   ]
  },
  {
   "cell_type": "code",
   "execution_count": 11,
   "id": "b7feb18c",
   "metadata": {},
   "outputs": [
    {
     "name": "stdout",
     "output_type": "stream",
     "text": [
      "0      $125,000.00$162500.00\n",
      "1    $920,000.00$101,2000.00\n",
      "2        $50,000.00$62500.00\n",
      "3      $350,000.00$490000.00\n",
      "4        $15,000.00$12750.00\n",
      "dtype: object\n"
     ]
    },
    {
     "data": {
      "text/plain": [
       "Customer Number    float64\n",
       "Customer Name       object\n",
       "2016                object\n",
       "2017                object\n",
       "Percent Growth      object\n",
       "Jan Units           object\n",
       "Month                int64\n",
       "Day                  int64\n",
       "Year                 int64\n",
       "Active              object\n",
       "dtype: object"
      ]
     },
     "execution_count": 11,
     "metadata": {},
     "output_type": "execute_result"
    }
   ],
   "source": [
    "print(df['2016'] + df['2017'])\n",
    "df.dtypes"
   ]
  },
  {
   "cell_type": "code",
   "execution_count": 15,
   "id": "455de67e",
   "metadata": {},
   "outputs": [
    {
     "data": {
      "text/plain": [
       "Customer Number     int64\n",
       "Customer Name      object\n",
       "2016               object\n",
       "2017               object\n",
       "Percent Growth     object\n",
       "Jan Units          object\n",
       "Month               int64\n",
       "Day                 int64\n",
       "Year                int64\n",
       "Active             object\n",
       "dtype: object"
      ]
     },
     "execution_count": 15,
     "metadata": {},
     "output_type": "execute_result"
    }
   ],
   "source": [
    "df['Customer Number'] = df['Customer Number'].astype('int')\n",
    "df.dtypes"
   ]
  },
  {
   "cell_type": "code",
   "execution_count": 16,
   "id": "777f0208",
   "metadata": {},
   "outputs": [
    {
     "ename": "ValueError",
     "evalue": "could not convert string to float: '$125,000.00'",
     "output_type": "error",
     "traceback": [
      "\u001b[0;31m---------------------------------------------------------------------------\u001b[0m",
      "\u001b[0;31mValueError\u001b[0m                                Traceback (most recent call last)",
      "Input \u001b[0;32mIn [16]\u001b[0m, in \u001b[0;36m<cell line: 1>\u001b[0;34m()\u001b[0m\n\u001b[0;32m----> 1\u001b[0m \u001b[43mdf\u001b[49m\u001b[43m[\u001b[49m\u001b[38;5;124;43m'\u001b[39;49m\u001b[38;5;124;43m2016\u001b[39;49m\u001b[38;5;124;43m'\u001b[39;49m\u001b[43m]\u001b[49m\u001b[38;5;241;43m.\u001b[39;49m\u001b[43mastype\u001b[49m\u001b[43m(\u001b[49m\u001b[38;5;124;43m'\u001b[39;49m\u001b[38;5;124;43mfloat\u001b[39;49m\u001b[38;5;124;43m'\u001b[39;49m\u001b[43m)\u001b[49m\n",
      "File \u001b[0;32m~/Library/Python/3.8/lib/python/site-packages/pandas/core/generic.py:5912\u001b[0m, in \u001b[0;36mNDFrame.astype\u001b[0;34m(self, dtype, copy, errors)\u001b[0m\n\u001b[1;32m   5905\u001b[0m     results \u001b[38;5;241m=\u001b[39m [\n\u001b[1;32m   5906\u001b[0m         \u001b[38;5;28mself\u001b[39m\u001b[38;5;241m.\u001b[39miloc[:, i]\u001b[38;5;241m.\u001b[39mastype(dtype, copy\u001b[38;5;241m=\u001b[39mcopy)\n\u001b[1;32m   5907\u001b[0m         \u001b[38;5;28;01mfor\u001b[39;00m i \u001b[38;5;129;01min\u001b[39;00m \u001b[38;5;28mrange\u001b[39m(\u001b[38;5;28mlen\u001b[39m(\u001b[38;5;28mself\u001b[39m\u001b[38;5;241m.\u001b[39mcolumns))\n\u001b[1;32m   5908\u001b[0m     ]\n\u001b[1;32m   5910\u001b[0m \u001b[38;5;28;01melse\u001b[39;00m:\n\u001b[1;32m   5911\u001b[0m     \u001b[38;5;66;03m# else, only a single dtype is given\u001b[39;00m\n\u001b[0;32m-> 5912\u001b[0m     new_data \u001b[38;5;241m=\u001b[39m \u001b[38;5;28;43mself\u001b[39;49m\u001b[38;5;241;43m.\u001b[39;49m\u001b[43m_mgr\u001b[49m\u001b[38;5;241;43m.\u001b[39;49m\u001b[43mastype\u001b[49m\u001b[43m(\u001b[49m\u001b[43mdtype\u001b[49m\u001b[38;5;241;43m=\u001b[39;49m\u001b[43mdtype\u001b[49m\u001b[43m,\u001b[49m\u001b[43m \u001b[49m\u001b[43mcopy\u001b[49m\u001b[38;5;241;43m=\u001b[39;49m\u001b[43mcopy\u001b[49m\u001b[43m,\u001b[49m\u001b[43m \u001b[49m\u001b[43merrors\u001b[49m\u001b[38;5;241;43m=\u001b[39;49m\u001b[43merrors\u001b[49m\u001b[43m)\u001b[49m\n\u001b[1;32m   5913\u001b[0m     \u001b[38;5;28;01mreturn\u001b[39;00m \u001b[38;5;28mself\u001b[39m\u001b[38;5;241m.\u001b[39m_constructor(new_data)\u001b[38;5;241m.\u001b[39m__finalize__(\u001b[38;5;28mself\u001b[39m, method\u001b[38;5;241m=\u001b[39m\u001b[38;5;124m\"\u001b[39m\u001b[38;5;124mastype\u001b[39m\u001b[38;5;124m\"\u001b[39m)\n\u001b[1;32m   5915\u001b[0m \u001b[38;5;66;03m# GH 33113: handle empty frame or series\u001b[39;00m\n",
      "File \u001b[0;32m~/Library/Python/3.8/lib/python/site-packages/pandas/core/internals/managers.py:419\u001b[0m, in \u001b[0;36mBaseBlockManager.astype\u001b[0;34m(self, dtype, copy, errors)\u001b[0m\n\u001b[1;32m    418\u001b[0m \u001b[38;5;28;01mdef\u001b[39;00m \u001b[38;5;21mastype\u001b[39m(\u001b[38;5;28mself\u001b[39m: T, dtype, copy: \u001b[38;5;28mbool\u001b[39m \u001b[38;5;241m=\u001b[39m \u001b[38;5;28;01mFalse\u001b[39;00m, errors: \u001b[38;5;28mstr\u001b[39m \u001b[38;5;241m=\u001b[39m \u001b[38;5;124m\"\u001b[39m\u001b[38;5;124mraise\u001b[39m\u001b[38;5;124m\"\u001b[39m) \u001b[38;5;241m-\u001b[39m\u001b[38;5;241m>\u001b[39m T:\n\u001b[0;32m--> 419\u001b[0m     \u001b[38;5;28;01mreturn\u001b[39;00m \u001b[38;5;28;43mself\u001b[39;49m\u001b[38;5;241;43m.\u001b[39;49m\u001b[43mapply\u001b[49m\u001b[43m(\u001b[49m\u001b[38;5;124;43m\"\u001b[39;49m\u001b[38;5;124;43mastype\u001b[39;49m\u001b[38;5;124;43m\"\u001b[39;49m\u001b[43m,\u001b[49m\u001b[43m \u001b[49m\u001b[43mdtype\u001b[49m\u001b[38;5;241;43m=\u001b[39;49m\u001b[43mdtype\u001b[49m\u001b[43m,\u001b[49m\u001b[43m \u001b[49m\u001b[43mcopy\u001b[49m\u001b[38;5;241;43m=\u001b[39;49m\u001b[43mcopy\u001b[49m\u001b[43m,\u001b[49m\u001b[43m \u001b[49m\u001b[43merrors\u001b[49m\u001b[38;5;241;43m=\u001b[39;49m\u001b[43merrors\u001b[49m\u001b[43m)\u001b[49m\n",
      "File \u001b[0;32m~/Library/Python/3.8/lib/python/site-packages/pandas/core/internals/managers.py:304\u001b[0m, in \u001b[0;36mBaseBlockManager.apply\u001b[0;34m(self, f, align_keys, ignore_failures, **kwargs)\u001b[0m\n\u001b[1;32m    302\u001b[0m         applied \u001b[38;5;241m=\u001b[39m b\u001b[38;5;241m.\u001b[39mapply(f, \u001b[38;5;241m*\u001b[39m\u001b[38;5;241m*\u001b[39mkwargs)\n\u001b[1;32m    303\u001b[0m     \u001b[38;5;28;01melse\u001b[39;00m:\n\u001b[0;32m--> 304\u001b[0m         applied \u001b[38;5;241m=\u001b[39m \u001b[38;5;28;43mgetattr\u001b[39;49m\u001b[43m(\u001b[49m\u001b[43mb\u001b[49m\u001b[43m,\u001b[49m\u001b[43m \u001b[49m\u001b[43mf\u001b[49m\u001b[43m)\u001b[49m\u001b[43m(\u001b[49m\u001b[38;5;241;43m*\u001b[39;49m\u001b[38;5;241;43m*\u001b[39;49m\u001b[43mkwargs\u001b[49m\u001b[43m)\u001b[49m\n\u001b[1;32m    305\u001b[0m \u001b[38;5;28;01mexcept\u001b[39;00m (\u001b[38;5;167;01mTypeError\u001b[39;00m, \u001b[38;5;167;01mNotImplementedError\u001b[39;00m):\n\u001b[1;32m    306\u001b[0m     \u001b[38;5;28;01mif\u001b[39;00m \u001b[38;5;129;01mnot\u001b[39;00m ignore_failures:\n",
      "File \u001b[0;32m~/Library/Python/3.8/lib/python/site-packages/pandas/core/internals/blocks.py:580\u001b[0m, in \u001b[0;36mBlock.astype\u001b[0;34m(self, dtype, copy, errors)\u001b[0m\n\u001b[1;32m    562\u001b[0m \u001b[38;5;124;03m\"\"\"\u001b[39;00m\n\u001b[1;32m    563\u001b[0m \u001b[38;5;124;03mCoerce to the new dtype.\u001b[39;00m\n\u001b[1;32m    564\u001b[0m \n\u001b[0;32m   (...)\u001b[0m\n\u001b[1;32m    576\u001b[0m \u001b[38;5;124;03mBlock\u001b[39;00m\n\u001b[1;32m    577\u001b[0m \u001b[38;5;124;03m\"\"\"\u001b[39;00m\n\u001b[1;32m    578\u001b[0m values \u001b[38;5;241m=\u001b[39m \u001b[38;5;28mself\u001b[39m\u001b[38;5;241m.\u001b[39mvalues\n\u001b[0;32m--> 580\u001b[0m new_values \u001b[38;5;241m=\u001b[39m \u001b[43mastype_array_safe\u001b[49m\u001b[43m(\u001b[49m\u001b[43mvalues\u001b[49m\u001b[43m,\u001b[49m\u001b[43m \u001b[49m\u001b[43mdtype\u001b[49m\u001b[43m,\u001b[49m\u001b[43m \u001b[49m\u001b[43mcopy\u001b[49m\u001b[38;5;241;43m=\u001b[39;49m\u001b[43mcopy\u001b[49m\u001b[43m,\u001b[49m\u001b[43m \u001b[49m\u001b[43merrors\u001b[49m\u001b[38;5;241;43m=\u001b[39;49m\u001b[43merrors\u001b[49m\u001b[43m)\u001b[49m\n\u001b[1;32m    582\u001b[0m new_values \u001b[38;5;241m=\u001b[39m maybe_coerce_values(new_values)\n\u001b[1;32m    583\u001b[0m newb \u001b[38;5;241m=\u001b[39m \u001b[38;5;28mself\u001b[39m\u001b[38;5;241m.\u001b[39mmake_block(new_values)\n",
      "File \u001b[0;32m~/Library/Python/3.8/lib/python/site-packages/pandas/core/dtypes/cast.py:1292\u001b[0m, in \u001b[0;36mastype_array_safe\u001b[0;34m(values, dtype, copy, errors)\u001b[0m\n\u001b[1;32m   1289\u001b[0m     dtype \u001b[38;5;241m=\u001b[39m dtype\u001b[38;5;241m.\u001b[39mnumpy_dtype\n\u001b[1;32m   1291\u001b[0m \u001b[38;5;28;01mtry\u001b[39;00m:\n\u001b[0;32m-> 1292\u001b[0m     new_values \u001b[38;5;241m=\u001b[39m \u001b[43mastype_array\u001b[49m\u001b[43m(\u001b[49m\u001b[43mvalues\u001b[49m\u001b[43m,\u001b[49m\u001b[43m \u001b[49m\u001b[43mdtype\u001b[49m\u001b[43m,\u001b[49m\u001b[43m \u001b[49m\u001b[43mcopy\u001b[49m\u001b[38;5;241;43m=\u001b[39;49m\u001b[43mcopy\u001b[49m\u001b[43m)\u001b[49m\n\u001b[1;32m   1293\u001b[0m \u001b[38;5;28;01mexcept\u001b[39;00m (\u001b[38;5;167;01mValueError\u001b[39;00m, \u001b[38;5;167;01mTypeError\u001b[39;00m):\n\u001b[1;32m   1294\u001b[0m     \u001b[38;5;66;03m# e.g. astype_nansafe can fail on object-dtype of strings\u001b[39;00m\n\u001b[1;32m   1295\u001b[0m     \u001b[38;5;66;03m#  trying to convert to float\u001b[39;00m\n\u001b[1;32m   1296\u001b[0m     \u001b[38;5;28;01mif\u001b[39;00m errors \u001b[38;5;241m==\u001b[39m \u001b[38;5;124m\"\u001b[39m\u001b[38;5;124mignore\u001b[39m\u001b[38;5;124m\"\u001b[39m:\n",
      "File \u001b[0;32m~/Library/Python/3.8/lib/python/site-packages/pandas/core/dtypes/cast.py:1237\u001b[0m, in \u001b[0;36mastype_array\u001b[0;34m(values, dtype, copy)\u001b[0m\n\u001b[1;32m   1234\u001b[0m     values \u001b[38;5;241m=\u001b[39m values\u001b[38;5;241m.\u001b[39mastype(dtype, copy\u001b[38;5;241m=\u001b[39mcopy)\n\u001b[1;32m   1236\u001b[0m \u001b[38;5;28;01melse\u001b[39;00m:\n\u001b[0;32m-> 1237\u001b[0m     values \u001b[38;5;241m=\u001b[39m \u001b[43mastype_nansafe\u001b[49m\u001b[43m(\u001b[49m\u001b[43mvalues\u001b[49m\u001b[43m,\u001b[49m\u001b[43m \u001b[49m\u001b[43mdtype\u001b[49m\u001b[43m,\u001b[49m\u001b[43m \u001b[49m\u001b[43mcopy\u001b[49m\u001b[38;5;241;43m=\u001b[39;49m\u001b[43mcopy\u001b[49m\u001b[43m)\u001b[49m\n\u001b[1;32m   1239\u001b[0m \u001b[38;5;66;03m# in pandas we don't store numpy str dtypes, so convert to object\u001b[39;00m\n\u001b[1;32m   1240\u001b[0m \u001b[38;5;28;01mif\u001b[39;00m \u001b[38;5;28misinstance\u001b[39m(dtype, np\u001b[38;5;241m.\u001b[39mdtype) \u001b[38;5;129;01mand\u001b[39;00m \u001b[38;5;28missubclass\u001b[39m(values\u001b[38;5;241m.\u001b[39mdtype\u001b[38;5;241m.\u001b[39mtype, \u001b[38;5;28mstr\u001b[39m):\n",
      "File \u001b[0;32m~/Library/Python/3.8/lib/python/site-packages/pandas/core/dtypes/cast.py:1181\u001b[0m, in \u001b[0;36mastype_nansafe\u001b[0;34m(arr, dtype, copy, skipna)\u001b[0m\n\u001b[1;32m   1177\u001b[0m     \u001b[38;5;28;01mraise\u001b[39;00m \u001b[38;5;167;01mValueError\u001b[39;00m(msg)\n\u001b[1;32m   1179\u001b[0m \u001b[38;5;28;01mif\u001b[39;00m copy \u001b[38;5;129;01mor\u001b[39;00m is_object_dtype(arr\u001b[38;5;241m.\u001b[39mdtype) \u001b[38;5;129;01mor\u001b[39;00m is_object_dtype(dtype):\n\u001b[1;32m   1180\u001b[0m     \u001b[38;5;66;03m# Explicit copy, or required since NumPy can't view from / to object.\u001b[39;00m\n\u001b[0;32m-> 1181\u001b[0m     \u001b[38;5;28;01mreturn\u001b[39;00m \u001b[43marr\u001b[49m\u001b[38;5;241;43m.\u001b[39;49m\u001b[43mastype\u001b[49m\u001b[43m(\u001b[49m\u001b[43mdtype\u001b[49m\u001b[43m,\u001b[49m\u001b[43m \u001b[49m\u001b[43mcopy\u001b[49m\u001b[38;5;241;43m=\u001b[39;49m\u001b[38;5;28;43;01mTrue\u001b[39;49;00m\u001b[43m)\u001b[49m\n\u001b[1;32m   1183\u001b[0m \u001b[38;5;28;01mreturn\u001b[39;00m arr\u001b[38;5;241m.\u001b[39mastype(dtype, copy\u001b[38;5;241m=\u001b[39mcopy)\n",
      "\u001b[0;31mValueError\u001b[0m: could not convert string to float: '$125,000.00'"
     ]
    }
   ],
   "source": [
    "df['2016'].astype('float')"
   ]
  },
  {
   "cell_type": "code",
   "execution_count": 17,
   "id": "d5db2bde",
   "metadata": {},
   "outputs": [
    {
     "data": {
      "text/plain": [
       "0    True\n",
       "1    True\n",
       "2    True\n",
       "3    True\n",
       "4    True\n",
       "Name: Active, dtype: bool"
      ]
     },
     "execution_count": 17,
     "metadata": {},
     "output_type": "execute_result"
    }
   ],
   "source": [
    "df['Active'].astype('bool')"
   ]
  },
  {
   "cell_type": "code",
   "execution_count": 42,
   "id": "adc70b28",
   "metadata": {},
   "outputs": [
    {
     "name": "stdout",
     "output_type": "stream",
     "text": [
      "   Customer Number     Customer Name      2016       2017  Percent Growth  \\\n",
      "0            10002  Quest Industries  125000.0   162500.0            0.30   \n",
      "1           552278    Smith Plumbing  920000.0  1012000.0            0.10   \n",
      "2            23477   ACME Industrial   50000.0    62500.0            0.25   \n",
      "3            24900        Brekke LTD  350000.0   490000.0            0.04   \n",
      "4           651029         Harbor Co   15000.0    12750.0           -0.15   \n",
      "\n",
      "   Jan Units  Month  Day  Year  Active Start_Date  \n",
      "0      500.0      1   10  2015    True 2015-01-10  \n",
      "1      700.0      6   15  2014    True 2014-06-15  \n",
      "2      125.0      3   29  2016    True 2016-03-29  \n",
      "3       75.0     10   27  2015    True 2015-10-27  \n",
      "4        0.0      2    2  2014   False 2014-02-02  \n"
     ]
    },
    {
     "data": {
      "text/plain": [
       "Customer Number             int64\n",
       "Customer Name              object\n",
       "2016                      float64\n",
       "2017                      float64\n",
       "Percent Growth            float64\n",
       "Jan Units                 float64\n",
       "Month                       int64\n",
       "Day                         int64\n",
       "Year                        int64\n",
       "Active                       bool\n",
       "Start_Date         datetime64[ns]\n",
       "dtype: object"
      ]
     },
     "execution_count": 42,
     "metadata": {},
     "output_type": "execute_result"
    }
   ],
   "source": [
    "df = pd.read_csv(\"sales_data_types.csv\")\n",
    "df[\"Customer Number\"] = df['Customer Number'].astype('int')\n",
    "df['2016'] = df['2016'].apply(lambda x: x.replace('$', '').replace(',', '')).astype('float')\n",
    "df['2017'] = df['2017'].apply(lambda x: x.replace('$', '').replace(',', '')).astype('float')\n",
    "df['Percent Growth'] = df['Percent Growth'].apply(lambda x: x.replace('%', '')).astype('float') / 100\n",
    "df[\"Jan Units\"] = pd.to_numeric(df['Jan Units'], errors='coerce').fillna(0)\n",
    "df['Active'] = df['Active'].apply(lambda x: True if x == 'Y' else False)\n",
    "df[\"Start_Date\"] = pd.to_datetime(df[['Month', 'Day', 'Year']])\n",
    "print(df)\n",
    "df.dtypes"
   ]
  },
  {
   "cell_type": "markdown",
   "id": "d9c3622d",
   "metadata": {
    "slideshow": {
     "slide_type": "subslide"
    }
   },
   "source": [
    "## other problems with dtypes "
   ]
  },
  {
   "cell_type": "code",
   "execution_count": 3,
   "id": "f8f63260",
   "metadata": {
    "cell_style": "split",
    "slideshow": {
     "slide_type": "-"
    }
   },
   "outputs": [
    {
     "name": "stdout",
     "output_type": "stream",
     "text": [
      "Name,LikesIceCream,Age\n",
      "Alice,True,54\n",
      "Bob,False,52\n",
      "Carol,False,44\n",
      "Eugene,True,130\n",
      "================\n",
      "Name             object\n",
      "LikesIceCream      bool\n",
      "Age               int64\n",
      "dtype: object\n",
      "---\n",
      "     Name  LikesIceCream  Age\n",
      "0   Alice           True   54\n",
      "1     Bob          False   52\n",
      "2   Carol          False   44\n",
      "3  Eugene           True  130\n"
     ]
    }
   ],
   "source": [
    "print_file('data2.csv') \n",
    "data = pd.read_csv(\"data2.csv\")\n",
    "show_data(data) "
   ]
  },
  {
   "cell_type": "code",
   "execution_count": 6,
   "id": "b0e8c1cc",
   "metadata": {
    "cell_style": "split",
    "slideshow": {
     "slide_type": "-"
    }
   },
   "outputs": [
    {
     "name": "stdout",
     "output_type": "stream",
     "text": [
      "Name             object\n",
      "LikesIceCream      bool\n",
      "Age                int8\n",
      "dtype: object\n",
      "---\n",
      "     Name  LikesIceCream  Age\n",
      "0   Alice           True   54\n",
      "1     Bob          False   52\n",
      "2   Carol          False   44\n",
      "3  Eugene           True -126\n"
     ]
    }
   ],
   "source": [
    "types = {'Age':'int8'}\n",
    "data = pd.read_csv(\"data2.csv\",dtype=types)\n",
    "show_data(data)"
   ]
  },
  {
   "cell_type": "markdown",
   "id": "225159e3",
   "metadata": {
    "cell_style": "split"
   },
   "source": [
    "**Warning: no error when an input integer overflows a small–size integer variable!**"
   ]
  },
  {
   "cell_type": "markdown",
   "id": "30566366",
   "metadata": {
    "slideshow": {
     "slide_type": "subslide"
    }
   },
   "source": [
    "## Follow-up: other dtypes \n",
    "\n",
    "https://pandas.pydata.org/pandas-docs/stable/reference/arrays.html\n",
    "\n",
    "<div align=\"center\">\n",
    "<img width=\"50%\" src=\"data:image/png;base64,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\" alt=\"[image]\">\n",
    "</div>"
   ]
  },
  {
   "cell_type": "markdown",
   "id": "721df95a",
   "metadata": {
    "slideshow": {
     "slide_type": "slide"
    }
   },
   "source": [
    "## Terminology: Classification vs. regression"
   ]
  },
  {
   "cell_type": "markdown",
   "id": "424ae04b",
   "metadata": {
    "cell_style": "split",
    "slideshow": {
     "slide_type": "fragment"
    }
   },
   "source": [
    "### Classification:\n",
    "\n",
    "* **Possible answers:** (small) finite set of options\n",
    "\n",
    "\n",
    "* **Example 1:** `cat`, `dog`, `cow`\n",
    "* **Example 2:** `True` or `False` \n",
    "\n",
    "\n",
    "* **Typical success evaluation:** fraction of samples with correct prediction"
   ]
  },
  {
   "cell_type": "markdown",
   "id": "0439763a",
   "metadata": {
    "cell_style": "split",
    "slideshow": {
     "slide_type": "fragment"
    }
   },
   "source": [
    "### Regression:\n",
    "\n",
    "* **Possible answers:** real numbers \n",
    "\n",
    "\n",
    "* **Example:** approximate the likelihood of disease\n",
    "\n",
    "\n",
    "* **Popular success evaluation:**\n",
    "  $$\\frac{1}{|S|} \\sum_{(x,y) \\in S} \\left(f(x) - y\\right)^2$$\n",
    "  where\n",
    "  * $f$ is a regressor\n",
    "  * $S$ is a test set"
   ]
  },
  {
   "cell_type": "markdown",
   "id": "5927c2ef",
   "metadata": {
    "slideshow": {
     "slide_type": "fragment"
    }
   },
   "source": [
    "\n",
    "<div align=\"center\">\n",
    "    <b>Which is the right choice for Homework 1?</b>\n",
    "</div>"
   ]
  },
  {
   "cell_type": "markdown",
   "id": "36fb6781",
   "metadata": {
    "slideshow": {
     "slide_type": "subslide"
    }
   },
   "source": [
    "## `sklearn.tree.DecisionTree{Classifier,Regressor}`\n",
    "* Use `DecisionTreeClassifier` for classification\n",
    "* Use `DecisionTreeRegressor` for regression"
   ]
  },
  {
   "cell_type": "code",
   "execution_count": 7,
   "id": "94f5a0b4",
   "metadata": {
    "cell_style": "split"
   },
   "outputs": [],
   "source": [
    "# Data preparation\n",
    "samples = 30\n",
    "leafs = 10\n",
    "X = [[random.uniform(0,2*math.pi)]\\\n",
    "     for i in range(samples)]\n",
    "y = [math.sin(x[0]) for x in X]\n",
    "\n",
    "# Training a decision tree regressor\n",
    "reg = DecisionTreeRegressor(max_leaf_nodes=leafs)\n",
    "reg = reg.fit(X,y)\n",
    "\n",
    "# Same thing with a different target error\n",
    "reg_2 = DecisionTreeRegressor(max_leaf_nodes=leafs,\\\n",
    "        criterion='absolute_error')\n",
    "reg_2 = reg_2.fit(X,y)\n",
    "\n",
    "# prepare data for plotting\n",
    "plot_x = np.arange(0,2*math.pi,0.001)\n",
    "plot_y = reg.predict([[x] for x in plot_x])\n",
    "plot_y_2 = reg_2.predict([[x] for x in plot_x])"
   ]
  },
  {
   "cell_type": "code",
   "execution_count": 8,
   "id": "56380a32",
   "metadata": {
    "cell_style": "split"
   },
   "outputs": [
    {
     "data": {
      "image/png": "[encoded data removed]",
      "text/plain": [
       "<Figure size 640x480 with 1 Axes>"
      ]
     },
     "metadata": {},
     "output_type": "display_data"
    }
   ],
   "source": [
    "plt.scatter(X,y,s=10,c='red')\n",
    "plt.plot(plot_x,plot_y,color='orange');\n",
    "plt.plot(plot_x,plot_y_2,color='darkblue');"
   ]
  },
  {
   "cell_type": "markdown",
   "id": "6d488974",
   "metadata": {
    "slideshow": {
     "slide_type": "slide"
    }
   },
   "source": [
    "## Decision area visualization (simple tool)\n",
    "* See the attached `decision_area.py`\n",
    "* Very basic, feel free to modify it"
   ]
  },
  {
   "cell_type": "code",
   "execution_count": 43,
   "id": "25de0a92",
   "metadata": {
    "cell_style": "split"
   },
   "outputs": [
    {
     "data": {
      "text/html": [
       "<div>\n",
       "<style scoped>\n",
       "    .dataframe tbody tr th:only-of-type {\n",
       "        vertical-align: middle;\n",
       "    }\n",
       "\n",
       "    .dataframe tbody tr th {\n",
       "        vertical-align: top;\n",
       "    }\n",
       "\n",
       "    .dataframe thead th {\n",
       "        text-align: right;\n",
       "    }\n",
       "</style>\n",
       "<table border=\"1\" class=\"dataframe\">\n",
       "  <thead>\n",
       "    <tr style=\"text-align: right;\">\n",
       "      <th></th>\n",
       "      <th>Name</th>\n",
       "      <th>Number</th>\n",
       "      <th>PPG</th>\n",
       "      <th>YearBorn</th>\n",
       "      <th>TotalPoints</th>\n",
       "      <th>LikesPizza</th>\n",
       "    </tr>\n",
       "  </thead>\n",
       "  <tbody>\n",
       "    <tr>\n",
       "      <th>0</th>\n",
       "      <td>Kareem</td>\n",
       "      <td>33</td>\n",
       "      <td>24.6</td>\n",
       "      <td>1947</td>\n",
       "      <td>38387</td>\n",
       "      <td>1</td>\n",
       "    </tr>\n",
       "    <tr>\n",
       "      <th>1</th>\n",
       "      <td>Karl</td>\n",
       "      <td>32</td>\n",
       "      <td>25.0</td>\n",
       "      <td>1963</td>\n",
       "      <td>36928</td>\n",
       "      <td>0</td>\n",
       "    </tr>\n",
       "    <tr>\n",
       "      <th>2</th>\n",
       "      <td>LeBron</td>\n",
       "      <td>23</td>\n",
       "      <td>27.0</td>\n",
       "      <td>1984</td>\n",
       "      <td>36381</td>\n",
       "      <td>0</td>\n",
       "    </tr>\n",
       "    <tr>\n",
       "      <th>3</th>\n",
       "      <td>Kobe</td>\n",
       "      <td>24</td>\n",
       "      <td>25.0</td>\n",
       "      <td>1978</td>\n",
       "      <td>33643</td>\n",
       "      <td>1</td>\n",
       "    </tr>\n",
       "    <tr>\n",
       "      <th>4</th>\n",
       "      <td>Michael</td>\n",
       "      <td>23</td>\n",
       "      <td>30.1</td>\n",
       "      <td>1963</td>\n",
       "      <td>32292</td>\n",
       "      <td>0</td>\n",
       "    </tr>\n",
       "  </tbody>\n",
       "</table>\n",
       "</div>"
      ],
      "text/plain": [
       "      Name  Number   PPG  YearBorn  TotalPoints  LikesPizza\n",
       "0   Kareem      33  24.6      1947        38387           1\n",
       "1     Karl      32  25.0      1963        36928           0\n",
       "2   LeBron      23  27.0      1984        36381           0\n",
       "3     Kobe      24  25.0      1978        33643           1\n",
       "4  Michael      23  30.1      1963        32292           0"
      ]
     },
     "execution_count": 43,
     "metadata": {},
     "output_type": "execute_result"
    }
   ],
   "source": [
    "data = pd.read_csv(\"pizza.csv\"); data"
   ]
  },
  {
   "cell_type": "code",
   "execution_count": 44,
   "id": "e4c6ee4c",
   "metadata": {
    "cell_style": "split",
    "slideshow": {
     "slide_type": "fragment"
    }
   },
   "outputs": [],
   "source": [
    "# select features\n",
    "features = ['PPG','YearBorn','TotalPoints']\n",
    "X = data[features]\n",
    "y = data['LikesPizza']\n",
    "\n",
    "# train classifier\n",
    "clf = DecisionTreeClassifier(max_leaf_nodes = 4,\\\n",
    "                             random_state=0)\n",
    "clf = clf.fit(X,y)\n",
    "\n",
    "# export to text form\n",
    "txt = tree.export_text(clf,feature_names = features)"
   ]
  },
  {
   "cell_type": "code",
   "execution_count": 48,
   "id": "b4cd50db",
   "metadata": {
    "cell_style": "split",
    "slideshow": {
     "slide_type": "fragment"
    }
   },
   "outputs": [
    {
     "name": "stdout",
     "output_type": "stream",
     "text": [
      "|--- PPG <= 26.00\n",
      "|   |--- TotalPoints <= 35285.50\n",
      "|   |   |--- class: 1\n",
      "|   |--- TotalPoints >  35285.50\n",
      "|   |   |--- PPG <= 24.80\n",
      "|   |   |   |--- class: 1\n",
      "|   |   |--- PPG >  24.80\n",
      "|   |   |   |--- class: 0\n",
      "|--- PPG >  26.00\n",
      "|   |--- class: 0\n",
      "\n"
     ]
    }
   ],
   "source": [
    "print(txt)"
   ]
  },
  {
   "cell_type": "code",
   "execution_count": 49,
   "id": "5e51a61a",
   "metadata": {
    "cell_style": "split",
    "slideshow": {
     "slide_type": "fragment"
    }
   },
   "outputs": [
    {
     "data": {
      "image/png": "[encoded data removed]",
      "text/plain": [
       "<Figure size 640x480 with 1 Axes>"
      ]
     },
     "metadata": {},
     "output_type": "display_data"
    }
   ],
   "source": [
    "from decision_area import draw_decision_area\n",
    "draw_decision_area(clf,X,'TotalPoints','PPG')"
   ]
  },
  {
   "cell_type": "markdown",
   "id": "007201a9",
   "metadata": {
    "cell_style": "split",
    "slideshow": {
     "slide_type": "slide"
    }
   },
   "source": [
    "## Ethics of data processing\n",
    "\n",
    "* **Lots of data sets have private information**\n",
    "\n",
    "* **Most infamous examples:**\n",
    "\n",
    "  * Enron emails\n",
    "  \n",
    "  * AOL search\n",
    "  \n",
    "  * Netflix data set\n",
    "\n",
    "* **Bottom line:**\n",
    "\n",
    "  * Be careful publishing any data\n",
    "  \n",
    "  * Respect privacy of subjects"
   ]
  },
  {
   "cell_type": "markdown",
   "id": "6d2fe789",
   "metadata": {
    "cell_style": "split",
    "slideshow": {
     "slide_type": "fragment"
    }
   },
   "source": [
    "## Next time\n",
    "\n",
    "* Will discuss the expectations for the final project"
   ]
  }
 ],
 "metadata": {
  "celltoolbar": "Slideshow",
  "kernelspec": {
   "display_name": "Python 3 (ipykernel)",
   "language": "python",
   "name": "python3"
  },
  "language_info": {
   "codemirror_mode": {
    "name": "ipython",
    "version": 3
   },
   "file_extension": ".py",
   "mimetype": "text/x-python",
   "name": "python",
   "nbconvert_exporter": "python",
   "pygments_lexer": "ipython3",
   "version": "3.8.3"
  },
  "rise": {
   "enable_chalkboard": true,
   "theme": "serif"
  }
 },
 "nbformat": 4,
 "nbformat_minor": 5
}
