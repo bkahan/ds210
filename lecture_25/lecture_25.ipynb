{
 "cells": [
  {
   "cell_type": "markdown",
   "id": "cf7f87e3",
   "metadata": {
    "slideshow": {
     "slide_type": "slide"
    }
   },
   "source": [
    "<div align=\"center\">\n",
    "    <h1>DS-210: Programming for Data Science</h1>\n",
    "    <h1>Lecture 25</h1>\n",
    "</div>\n",
    "\n",
    "# 1. Representing graphs: examples in Rust\n",
    "# 2. Sample graph algorithms\n",
    "# 3. Modules"
   ]
  },
  {
   "cell_type": "markdown",
   "id": "fcc5080c",
   "metadata": {
    "slideshow": {
     "slide_type": "slide"
    }
   },
   "source": [
    "## Discussion section today\n",
    "\n",
    "* Reading input from file\n",
    "  * You'll be asked to do this on your homework\n",
    "* Additional examples of using collections"
   ]
  },
  {
   "cell_type": "markdown",
   "id": "8ae6aa49",
   "metadata": {
    "slideshow": {
     "slide_type": "slide"
    }
   },
   "source": [
    "# <font color=\"red\">1. Representing graphs: examples in Rust</font>\n",
    "# 2. Sample graph algorithms\n",
    "# 3. Modules"
   ]
  },
  {
   "cell_type": "markdown",
   "id": "92da2c08",
   "metadata": {
    "cell_style": "split",
    "slideshow": {
     "slide_type": "slide"
    }
   },
   "source": [
    "## Sample graph\n",
    "\n",
    "Sample graph from the previous lecture:\n",
    "\n",
    "<div align=\"center\">\n",
    "    <img src=\"graph.svg\" alt=\"[sample image]\">\n",
    "</div>"
   ]
  },
  {
   "cell_type": "markdown",
   "id": "918d1a29",
   "metadata": {
    "cell_style": "split"
   },
   "source": [
    "This lecture's graphs:\n",
    "* undirected\n",
    "* no self-loops\n",
    "  * self-loop: edge connecting a vertex to itself\n",
    "* no parallel edges (connecting the same pair of vertices)"
   ]
  },
  {
   "cell_type": "markdown",
   "id": "17562807",
   "metadata": {
    "cell_style": "split",
    "slideshow": {
     "slide_type": "fragment"
    }
   },
   "source": [
    "Simplifying assumption:\n",
    "* $n$ vertices labeled $0\\ldots n-1$"
   ]
  },
  {
   "cell_type": "markdown",
   "id": "d6370826",
   "metadata": {
    "slideshow": {
     "slide_type": "subslide"
    }
   },
   "source": [
    "## Adjacency list representation"
   ]
  },
  {
   "cell_type": "markdown",
   "id": "87a27265",
   "metadata": {
    "cell_style": "split"
   },
   "source": [
    "<div align=\"center\">\n",
    "List of neighbors for each vertex\n",
    "</div><br><br>\n",
    "\n",
    "<img src=\"sparse.svg\" alt=\"[adjacency lists]\">\n"
   ]
  },
  {
   "cell_type": "code",
   "execution_count": 2,
   "id": "c15b1e23",
   "metadata": {
    "cell_style": "split",
    "slideshow": {
     "slide_type": "fragment"
    }
   },
   "outputs": [
    {
     "name": "stdout",
     "output_type": "stream",
     "text": [
      "0: [1, 2, 3]\n",
      "1: [0, 2]\n",
      "2: [0, 1, 3, 4, 5]\n",
      "3: [0, 2]\n",
      "4: [2]\n",
      "5: [2]\n"
     ]
    }
   ],
   "source": [
    "// number of vertices\n",
    "let n : usize = 6;\n",
    "\n",
    "// list of edges\n",
    "let edges : Vec<(usize,usize)> = vec![(0,1), (0,2), (0,3), (1,2), (2,3), (2,4), (2,5)];\n",
    "let mut graph_list : Vec<Vec<usize>> = vec![vec![];n];\n",
    "for (v,w) in edges.iter() {\n",
    "    graph_list[*v].push(*w);\n",
    "    graph_list[*w].push(*v);\n",
    "};\n",
    "for i in 0..graph_list.len() {\n",
    "    println!(\"{}: {:?}\", i, graph_list[i]);\n",
    "};"
   ]
  },
  {
   "cell_type": "markdown",
   "id": "fd427e76",
   "metadata": {
    "slideshow": {
     "slide_type": "subslide"
    }
   },
   "source": [
    "## Adjacency matrix representation"
   ]
  },
  {
   "cell_type": "markdown",
   "id": "f57af1f6",
   "metadata": {
    "cell_style": "split"
   },
   "source": [
    "<div align=\"center\">\n",
    "Matrix of Boolean values\n",
    "</div>\n",
    "\n",
    "<br>\n",
    "<img src=\"dense.svg\" alt=\"[adjacency matrix]\">"
   ]
  },
  {
   "cell_type": "code",
   "execution_count": 3,
   "id": "efc4aa02",
   "metadata": {
    "cell_style": "split",
    "slideshow": {
     "slide_type": "fragment"
    }
   },
   "outputs": [],
   "source": [
    "let mut graph_matrix = vec![vec![false;n];n];"
   ]
  },
  {
   "cell_type": "code",
   "execution_count": 4,
   "id": "55e081fe",
   "metadata": {
    "cell_style": "split",
    "slideshow": {
     "slide_type": "fragment"
    }
   },
   "outputs": [],
   "source": [
    "for (v,w) in edges.iter() {\n",
    "    graph_matrix[*v][*w] = true;\n",
    "    graph_matrix[*w][*v] = true; \n",
    "};"
   ]
  },
  {
   "cell_type": "code",
   "execution_count": 5,
   "id": "0c822588",
   "metadata": {
    "cell_style": "split",
    "slideshow": {
     "slide_type": "fragment"
    }
   },
   "outputs": [
    {
     "name": "stdout",
     "output_type": "stream",
     "text": [
      " 0  1  1  1  0  0 \n",
      " 1  0  1  0  0  0 \n",
      " 1  1  0  1  1  1 \n",
      " 1  0  1  0  0  0 \n",
      " 0  0  1  0  0  0 \n",
      " 0  0  1  0  0  0 \n"
     ]
    }
   ],
   "source": [
    "for row in &graph_matrix {\n",
    "    for entry in row.iter() {\n",
    "        print!(\" {} \",if *entry {\"1\"} else {\"0\"});\n",
    "    }\n",
    "    println!(\"\");\n",
    "};"
   ]
  },
  {
   "cell_type": "markdown",
   "id": "d9837018",
   "metadata": {
    "slideshow": {
     "slide_type": "subslide"
    }
   },
   "source": [
    "## What if labels are not in $\\{0,1,\\ldots n-1\\}$?\n",
    "`T`${}={}$type of labels"
   ]
  },
  {
   "cell_type": "markdown",
   "id": "e2490bc5",
   "metadata": {
    "slideshow": {
     "slide_type": "fragment"
    }
   },
   "source": [
    "**Solution 1:** Map everything to this range\n",
    "  * Create hash maps from input labels to $\\{0,1,\\ldots n-1\\}$\n",
    "  * Create a reverse hash map to recover labels when needed"
   ]
  },
  {
   "cell_type": "markdown",
   "id": "35a786d2",
   "metadata": {
    "slideshow": {
     "slide_type": "fragment"
    }
   },
   "source": [
    "**Solution 2:** Replace with hash maps and hash sets\n",
    "  * Adjacency lists: use `HashMap<T,Vec<T>>`\n",
    "  * Adjacency matrix: use `HashSet<(T,T)>`\n",
    "\n",
    "\n",
    "  * Bonus gain: `HashSet<(T,T)>` better than adjacency matrix for sparse graphs"
   ]
  },
  {
   "cell_type": "markdown",
   "id": "d7d27416",
   "metadata": {
    "slideshow": {
     "slide_type": "subslide"
    }
   },
   "source": [
    "## What if the graph is directed?"
   ]
  },
  {
   "cell_type": "markdown",
   "id": "dbac64bb",
   "metadata": {
    "slideshow": {
     "slide_type": "fragment"
    }
   },
   "source": [
    "**Adjacency lists:**\n",
    "* separate lists incoming/outgoing edges\n",
    "* depends on what information needed for your algorithm\n"
   ]
  },
  {
   "cell_type": "markdown",
   "id": "524a5b43",
   "metadata": {
    "slideshow": {
     "slide_type": "fragment"
    }
   },
   "source": [
    "**Adjacency matrix:**\n",
    "* example: edge $u \\rightarrow v$ and no edge in the opposite direction:\n",
    "  * `matrix[u][v] = true`\n",
    "  * `matrix[v][u] = false`\n"
   ]
  },
  {
   "cell_type": "markdown",
   "id": "59def817",
   "metadata": {
    "slideshow": {
     "slide_type": "slide"
    }
   },
   "source": [
    "# 1. Representing graphs: examples in Rust\n",
    "# <font color=\"red\">2. Sample graph algorithms</font>\n",
    "# 3. Modules"
   ]
  },
  {
   "attachments": {
    "spam.png": {
     "image/png": "[encoded data removed]"
    }
   },
   "cell_type": "markdown",
   "id": "9fd0e12e",
   "metadata": {
    "slideshow": {
     "slide_type": "subslide"
    }
   },
   "source": [
    "## Count triangles\n",
    "\n",
    "**Problem to solve:** Consider all triples of vertices. What is the number of those in which all vertices are connected?  And alternatively how many unique triangles does a vertex belong to?\n",
    "* Why is this important?  Turns out that hosts that contain spam pages have a very different triangle patterns then regular hosts (https://chato.cl/papers/becchetti_2007_approximate_count_triangles.pdf)\n",
    "![spam.png](attachment:spam.png)\n",
    "* Also clustering coefficients in social networks: https://cs.stanford.edu/~rishig/courses/ref/l1.pdf"
   ]
  },
  {
   "cell_type": "markdown",
   "id": "407a0564",
   "metadata": {
    "slideshow": {
     "slide_type": "fragment"
    }
   },
   "source": [
    "Solution 1: Enumerate explicitly over all triples and check which are triangles, using the adjacency matrix"
   ]
  },
  {
   "cell_type": "code",
   "execution_count": 18,
   "id": "6670233b",
   "metadata": {},
   "outputs": [
    {
     "name": "stdout",
     "output_type": "stream",
     "text": [
      "2\n",
      "[2, 1, 2, 1, 0, 0]\n"
     ]
    }
   ],
   "source": [
    "let mut count: u32 = 0;\n",
    "let mut coefficients: Vec<u32> = vec![0;n];\n",
    "for u in 0..n {\n",
    "    for v in u+1..n {\n",
    "        for w in v+1..n {\n",
    "            if (graph_matrix[u][v] && graph_matrix[v][w] && graph_matrix[u][w]) {\n",
    "                count += 1;\n",
    "                coefficients[u] += 1;\n",
    "                coefficients[v] += 1;\n",
    "                coefficients[w] += 1;\n",
    "            }\n",
    "        }\n",
    "    }\n",
    "}\n",
    "println!(\"{}\", count);\n",
    "println!(\"{:?}\", coefficients);"
   ]
  },
  {
   "cell_type": "markdown",
   "id": "c4626d94",
   "metadata": {},
   "source": [
    "### Complexity of the algorithm above $O(n^3)$"
   ]
  },
  {
   "cell_type": "markdown",
   "id": "58e5f31e",
   "metadata": {
    "slideshow": {
     "slide_type": "subslide"
    }
   },
   "source": [
    "## Count triangles\n",
    "\n",
    "**Problem to solve:** Consider all triples of vertices. What is the number of those in which all vertices are connected?"
   ]
  },
  {
   "cell_type": "markdown",
   "id": "0ac0ece8",
   "metadata": {
    "slideshow": {
     "slide_type": "-"
    }
   },
   "source": [
    "**Solution 2:** Follow links from each vertex to see if you come back in three steps"
   ]
  },
  {
   "cell_type": "code",
   "execution_count": 19,
   "id": "cdc8af70",
   "metadata": {
    "cell_style": "center"
   },
   "outputs": [
    {
     "data": {
      "text/plain": [
       "12"
      ]
     },
     "execution_count": 19,
     "metadata": {},
     "output_type": "execute_result"
    }
   ],
   "source": [
    "let mut count: u32 = 0;\n",
    "for u in 0..n {\n",
    "    for v in &graph_list[u] {\n",
    "        for w in &graph_list[*v] {\n",
    "            for u2 in &graph_list[*w] {\n",
    "                if u == *u2 {\n",
    "                    count += 1;\n",
    "                    break;\n",
    "                }\n",
    "            }\n",
    "        }\n",
    "    }\n",
    "}\n",
    "count"
   ]
  },
  {
   "cell_type": "code",
   "execution_count": 9,
   "id": "85a60dfb",
   "metadata": {
    "slideshow": {
     "slide_type": "fragment"
    }
   },
   "outputs": [
    {
     "data": {
      "text/plain": [
       "2"
      ]
     },
     "execution_count": 9,
     "metadata": {},
     "output_type": "execute_result"
    }
   ],
   "source": [
    "// need to divide by 6\n",
    "// due to symmetries triangles counted multiple times\n",
    "count / 6"
   ]
  },
  {
   "cell_type": "markdown",
   "id": "03dd326d",
   "metadata": {},
   "source": [
    "### Complexity of the algorithm above $O(n^4)$ if everyone connected to everyone else but if degree is low then this is $O(n*m)$\n",
    "### Why didn't we need the division in the matrix version of the algorithm?"
   ]
  },
  {
   "cell_type": "markdown",
   "id": "92538d2c",
   "metadata": {
    "slideshow": {
     "slide_type": "subslide"
    }
   },
   "source": [
    "## Count triangles\n",
    "\n",
    "**Problem to solve:** Consider all triples of vertices. What is the number of those in which all vertices are connected?"
   ]
  },
  {
   "cell_type": "markdown",
   "id": "019ab81f",
   "metadata": {
    "slideshow": {
     "slide_type": "-"
    }
   },
   "source": [
    "Different implementation of solution 2"
   ]
  },
  {
   "cell_type": "code",
   "execution_count": 10,
   "id": "e4419beb",
   "metadata": {
    "cell_style": "center",
    "slideshow": {
     "slide_type": "-"
    }
   },
   "outputs": [],
   "source": [
    "fn walk(current:usize,destination:usize,steps:usize,adjacency_list:&Vec<Vec<usize>>) -> u32 {\n",
    "    match steps {\n",
    "        0 => if current == destination {1} else {0},\n",
    "        _ => {\n",
    "            let mut count = 0;\n",
    "            for v in &adjacency_list[current] {\n",
    "                count += walk(*v,destination,steps-1,adjacency_list);\n",
    "            }\n",
    "            count\n",
    "        }\n",
    "    }\n",
    "}"
   ]
  },
  {
   "cell_type": "code",
   "execution_count": 11,
   "id": "4311dd40",
   "metadata": {
    "cell_style": "center",
    "slideshow": {
     "slide_type": "fragment"
    }
   },
   "outputs": [
    {
     "data": {
      "text/plain": [
       "2"
      ]
     },
     "execution_count": 11,
     "metadata": {},
     "output_type": "execute_result"
    }
   ],
   "source": [
    "let mut count = 0;\n",
    "for v in 0..n {\n",
    "    count += walk(v,v,3,&graph_list);\n",
    "}\n",
    "count / 6"
   ]
  },
  {
   "cell_type": "markdown",
   "id": "b9d61933",
   "metadata": {
    "slideshow": {
     "slide_type": "subslide"
    }
   },
   "source": [
    "## Count triangles\n",
    "\n",
    "**Problem to solve:** Consider all triples of vertices. What is the number of those in which all vertices are connected?"
   ]
  },
  {
   "cell_type": "markdown",
   "id": "c747abeb",
   "metadata": {
    "slideshow": {
     "slide_type": "-"
    }
   },
   "source": [
    "**Solution 3:** For each vertex try all pairs of neighbors (via adjacency lists) and see if they are connected (via adjacency matrix)"
   ]
  },
  {
   "cell_type": "code",
   "execution_count": 12,
   "id": "d2f9e052",
   "metadata": {},
   "outputs": [
    {
     "data": {
      "text/plain": [
       "2"
      ]
     },
     "execution_count": 12,
     "metadata": {},
     "output_type": "execute_result"
    }
   ],
   "source": [
    "let mut count: u32 = 0;\n",
    "for u in 0..n {\n",
    "    let neighbors = &graph_list[u];\n",
    "    for v in neighbors {\n",
    "        for w in neighbors {\n",
    "            if graph_matrix[*v][*w] {\n",
    "                count += 1;\n",
    "            }\n",
    "        }\n",
    "    }\n",
    "}\n",
    "count / 6"
   ]
  },
  {
   "cell_type": "markdown",
   "id": "6fa5501d",
   "metadata": {
    "slideshow": {
     "slide_type": "slide"
    }
   },
   "source": [
    "# 1. Representing graphs: examples in Rust\n",
    "# 2. Sample graph algorithms\n",
    "# <font color=\"red\">3. Modules</font>"
   ]
  },
  {
   "cell_type": "markdown",
   "id": "88e383c6",
   "metadata": {
    "slideshow": {
     "slide_type": "slide"
    }
   },
   "source": [
    "## Modules\n",
    "\n",
    "Up to now: **our** functions and data types (mostly) in the same namespace<br>\n",
    "&nbsp;&nbsp;&nbsp;$\\bullet$ **exception:** functions in structs and enums"
   ]
  },
  {
   "cell_type": "markdown",
   "id": "00867b15",
   "metadata": {
    "slideshow": {
     "slide_type": "fragment"
    }
   },
   "source": [
    "One can create a namespace, using `mod`"
   ]
  },
  {
   "cell_type": "code",
   "execution_count": 15,
   "id": "0b297e05",
   "metadata": {
    "cell_style": "split"
   },
   "outputs": [],
   "source": [
    "mod things_to_say {\n",
    "    fn say_hi() {\n",
    "        say(\"Hi\");\n",
    "    }\n",
    "    \n",
    "    fn say_bye() {\n",
    "        say(\"Bye\");\n",
    "    }\n",
    "    \n",
    "    fn say(what: &str) {\n",
    "        println!(\"{}!\",what);\n",
    "    }\n",
    "}"
   ]
  },
  {
   "cell_type": "markdown",
   "id": "d7dac1d5",
   "metadata": {
    "cell_style": "split",
    "slideshow": {
     "slide_type": "fragment"
    }
   },
   "source": [
    "You have to use the module name to refer to access a function."
   ]
  },
  {
   "cell_type": "code",
   "execution_count": 16,
   "id": "c0a445fe",
   "metadata": {
    "cell_style": "split"
   },
   "outputs": [
    {
     "ename": "Error",
     "evalue": "function `say_hi` is private",
     "output_type": "error",
     "traceback": [
      "things_to_say::say_hi();",
      "\u001b[91m               ^^^^^^\u001b[0m \u001b[94mprivate function\u001b[0m",
      "function `say_hi` is private"
     ]
    }
   ],
   "source": [
    "things_to_say::say_hi();"
   ]
  },
  {
   "cell_type": "markdown",
   "id": "b9ab1542",
   "metadata": {
    "cell_style": "center",
    "slideshow": {
     "slide_type": "subslide"
    }
   },
   "source": [
    "## Modules\n",
    "\n",
    "* By default, all definitions in the namespace are private.\n",
    "* Advantage: Can hide all internally used code\n",
    "* Use `pub` to make functions or types public"
   ]
  },
  {
   "cell_type": "code",
   "execution_count": 17,
   "id": "25232789",
   "metadata": {
    "cell_style": "split"
   },
   "outputs": [],
   "source": [
    "mod things_to_say {\n",
    "    pub fn say_hi() {\n",
    "        say(\"Hi\");\n",
    "    }\n",
    "    \n",
    "    pub fn say_bye() {\n",
    "        say(\"Bye\");\n",
    "    }\n",
    "    \n",
    "    fn say(what: &str) {\n",
    "        println!(\"{}!\",what);\n",
    "    }\n",
    "}"
   ]
  },
  {
   "cell_type": "code",
   "execution_count": 18,
   "id": "5c9a2612",
   "metadata": {
    "cell_style": "split",
    "slideshow": {
     "slide_type": ""
    }
   },
   "outputs": [
    {
     "name": "stdout",
     "output_type": "stream",
     "text": [
      "Hi!\n"
     ]
    }
   ],
   "source": [
    "things_to_say::say_hi();"
   ]
  },
  {
   "cell_type": "markdown",
   "id": "89ae2b65",
   "metadata": {},
   "source": [
    "### Why modules?\n",
    "\n",
    "* limit number of additional identifiers in the main namespace\n",
    "\n",
    "* organize your codebase into meaningful parts\n",
    "\n",
    "* hide auxiliary internal code\n",
    "\n",
    "\n",
    "* By default, all definitions in the namespace are private.\n",
    "* Advantage: one can hide all internally used code\n",
    "* Use `pub` to make functions or types public"
   ]
  },
  {
   "cell_type": "markdown",
   "id": "af336252",
   "metadata": {},
   "source": [
    "## Nesting possible"
   ]
  },
  {
   "cell_type": "code",
   "execution_count": 20,
   "id": "ce6cc28e",
   "metadata": {
    "cell_style": "split"
   },
   "outputs": [],
   "source": [
    "mod level_1 {\n",
    "\n",
    "    mod level_2_1 {\n",
    "\n",
    "        mod level_3 {\n",
    "\n",
    "            pub fn where_am_i() {println!(\"3\");}\n",
    "\n",
    "        }\n",
    "\n",
    "        pub fn where_am_i() {println!(\"2_1\");}\n",
    "        \n",
    "    }\n",
    "    \n",
    "    mod level_2_2 {\n",
    "        \n",
    "        pub fn where_am_i() {println!(\"2_2\");}\n",
    "        \n",
    "    }\n",
    "    \n",
    "    pub fn where_am_i() {println!(\"1\");}\n",
    "    \n",
    "}"
   ]
  },
  {
   "cell_type": "code",
   "execution_count": 21,
   "id": "d3355a33",
   "metadata": {
    "cell_style": "split"
   },
   "outputs": [
    {
     "ename": "Error",
     "evalue": "module `level_2_1` is private",
     "output_type": "error",
     "traceback": [
      "level_1::level_2_1::level_3::where_am_i();",
      "\u001b[91m         ^^^^^^^^^\u001b[0m \u001b[94mprivate module\u001b[0m",
      "module `level_2_1` is private"
     ]
    }
   ],
   "source": [
    "level_1::level_2_1::level_3::where_am_i();\n",
    "\n",
    "\n",
    "\n",
    "\n",
    "\n",
    "\n",
    "\n",
    "\n",
    "\n",
    "\n",
    "\n",
    "\n",
    "\n",
    "\n",
    "\n",
    "\n",
    "\n",
    "\n"
   ]
  },
  {
   "cell_type": "code",
   "execution_count": 22,
   "id": "aa8f08fc",
   "metadata": {
    "cell_style": "split"
   },
   "outputs": [],
   "source": [
    "mod level_1 {\n",
    "\n",
    "    pub mod level_2_1 {\n",
    "\n",
    "        pub mod level_3 {\n",
    "\n",
    "            pub fn where_am_i() {println!(\"3\");}\n",
    "\n",
    "        }\n",
    "\n",
    "        pub fn where_am_i() {println!(\"2_1\");}\n",
    "        \n",
    "    }\n",
    "    \n",
    "    pub mod level_2_2 {\n",
    "        \n",
    "        pub fn where_am_i() {println!(\"2_2\");}\n",
    "        \n",
    "    }\n",
    "    \n",
    "    pub fn where_am_i() {println!(\"1\");}\n",
    "    \n",
    "}"
   ]
  },
  {
   "cell_type": "code",
   "execution_count": 23,
   "id": "84c8cdb6",
   "metadata": {
    "cell_style": "split"
   },
   "outputs": [
    {
     "name": "stdout",
     "output_type": "stream",
     "text": [
      "3\n"
     ]
    }
   ],
   "source": [
    "level_1::level_2_1::level_3::where_am_i();"
   ]
  },
  {
   "cell_type": "markdown",
   "id": "7336693b",
   "metadata": {},
   "source": [
    "### Read chapter 7 from the Rust book"
   ]
  },
  {
   "cell_type": "code",
   "execution_count": null,
   "id": "e4e89050",
   "metadata": {},
   "outputs": [],
   "source": []
  }
 ],
 "metadata": {
  "celltoolbar": "Slideshow",
  "kernelspec": {
   "display_name": "Rust",
   "language": "rust",
   "name": "rust"
  },
  "language_info": {
   "codemirror_mode": "rust",
   "file_extension": ".rs",
   "mimetype": "text/rust",
   "name": "Rust",
   "pygment_lexer": "rust",
   "version": ""
  },
  "rise": {
   "theme": "beige",
   "transition": "fade"
  }
 },
 "nbformat": 4,
 "nbformat_minor": 5
}
