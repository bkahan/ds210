{
 "cells": [
  {
   "cell_type": "code",
   "execution_count": 3,
   "id": "822fc650-5b09-4c15-a672-dc31fc33e257",
   "metadata": {},
   "outputs": [
    {
     "name": "stdout",
     "output_type": "stream",
     "text": [
      "Hello World\n"
     ]
    },
    {
     "data": {
      "text/plain": [
       "()"
      ]
     },
     "execution_count": 3,
     "metadata": {},
     "output_type": "execute_result"
    }
   ],
   "source": [
    "println!(\"Hello World\")"
   ]
  },
  {
   "cell_type": "code",
   "execution_count": 4,
   "id": "cd45ee98-f713-4ee0-ba09-726a9c40f015",
   "metadata": {},
   "outputs": [],
   "source": [
    "struct Coordinates {\n",
    "    x: i32, \n",
    "    y: i32\n",
    "}"
   ]
  },
  {
   "cell_type": "code",
   "execution_count": 6,
   "id": "8710cec8-2d7b-4393-ad64-9baec2939e21",
   "metadata": {},
   "outputs": [],
   "source": [
    "let point = Coordinates {x: 3, y: -17}; "
   ]
  },
  {
   "cell_type": "code",
   "execution_count": 9,
   "id": "cf211a06-bf48-4ca2-b27c-0f7a6a233ef9",
   "metadata": {},
   "outputs": [
    {
     "name": "stdout",
     "output_type": "stream",
     "text": [
      "3\n"
     ]
    },
    {
     "data": {
      "text/plain": [
       "()"
      ]
     },
     "execution_count": 9,
     "metadata": {},
     "output_type": "execute_result"
    }
   ],
   "source": [
    "println!(\"{}\", point.x)"
   ]
  },
  {
   "cell_type": "code",
   "execution_count": 11,
   "id": "cff356f7-c4c1-473f-b516-8304e5df519a",
   "metadata": {},
   "outputs": [],
   "source": [
    "let point = (-16, 24);"
   ]
  },
  {
   "cell_type": "code",
   "execution_count": 13,
   "id": "76596ad2-e97b-4be3-9b21-f2e0839ce230",
   "metadata": {},
   "outputs": [
    {
     "name": "stdout",
     "output_type": "stream",
     "text": [
      "-16\n"
     ]
    },
    {
     "data": {
      "text/plain": [
       "()"
      ]
     },
     "execution_count": 13,
     "metadata": {},
     "output_type": "execute_result"
    }
   ],
   "source": [
    "println!(\"{}\",point.0)"
   ]
  },
  {
   "cell_type": "code",
   "execution_count": null,
   "id": "039cc084-fad7-4568-8da0-fb4a0694ee00",
   "metadata": {},
   "outputs": [],
   "source": []
  }
 ],
 "metadata": {
  "kernelspec": {
   "display_name": "Rust",
   "language": "rust",
   "name": "rust"
  },
  "language_info": {
   "codemirror_mode": "rust",
   "file_extension": ".rs",
   "mimetype": "text/rust",
   "name": "Rust",
   "pygment_lexer": "rust",
   "version": ""
  }
 },
 "nbformat": 4,
 "nbformat_minor": 5
}
