{
 "cells": [
  {
   "cell_type": "code",
   "execution_count": 35,
   "id": "48630cd0-dd01-49f5-ae70-315c4e5e2244",
   "metadata": {},
   "outputs": [],
   "source": [
    "import numpy as np\n",
    "from sympy import symbols, sqrt, solve"
   ]
  },
  {
   "cell_type": "code",
   "execution_count": 26,
   "id": "68346a61-326a-49e3-9aba-2ecfa0049ba8",
   "metadata": {},
   "outputs": [],
   "source": [
    "x, y, z, h, w, l , r = symbols('x, y, z, h, w, l, r')\n",
    "pi = np.pi"
   ]
  },
  {
   "cell_type": "code",
   "execution_count": 28,
   "id": "8ee8a46e-1ee1-4633-a3db-24c1fc7af52d",
   "metadata": {},
   "outputs": [],
   "source": [
    "f1 = 100*pi + (3*pi*(2*x**2 + y**2)/(sqrt(x**2 + y**2))) - 2*pi*y*x*l/3"
   ]
  },
  {
   "cell_type": "code",
   "execution_count": 29,
   "id": "80234c31-3e37-46ab-b3ba-2c46aed48f03",
   "metadata": {},
   "outputs": [],
   "source": [
    "f2 = 30*pi*x*y/(sqrt(x**2 + y**2)) - (1/3)*pi*l*x**2"
   ]
  },
  {
   "cell_type": "code",
   "execution_count": 31,
   "id": "bc692e87-0f02-4d8e-a1ed-a23367a3e7fa",
   "metadata": {},
   "outputs": [],
   "source": [
    "l = (pi/3)*h*r**2 - 300"
   ]
  },
  {
   "cell_type": "code",
   "execution_count": null,
   "id": "bd9f6085-a5ca-4de6-aec2-512b62f3d579",
   "metadata": {},
   "outputs": [],
   "source": []
  },
  {
   "cell_type": "code",
   "execution_count": 43,
   "id": "8aedb924-d035-43b9-aab4-4e2485d1952b",
   "metadata": {},
   "outputs": [
    {
     "data": {
      "text/plain": [
       "[]"
      ]
     },
     "execution_count": 43,
     "metadata": {},
     "output_type": "execute_result"
    }
   ],
   "source": [
    "ans"
   ]
  },
  {
   "cell_type": "code",
   "execution_count": null,
   "id": "0570d25f-3ce0-48dd-b488-117d9d0aeabd",
   "metadata": {},
   "outputs": [],
   "source": []
  },
  {
   "cell_type": "code",
   "execution_count": null,
   "id": "4597f5f1-072e-433e-922e-65cbae6c1ab2",
   "metadata": {},
   "outputs": [],
   "source": []
  },
  {
   "cell_type": "code",
   "execution_count": null,
   "id": "f26d9c4a-9b5f-478b-bd07-531c30cae1c3",
   "metadata": {},
   "outputs": [],
   "source": []
  }
 ],
 "metadata": {
  "kernelspec": {
   "display_name": "Python 3 (ipykernel)",
   "language": "python",
   "name": "python3"
  },
  "language_info": {
   "codemirror_mode": {
    "name": "ipython",
    "version": 3
   },
   "file_extension": ".py",
   "mimetype": "text/x-python",
   "name": "python",
   "nbconvert_exporter": "python",
   "pygments_lexer": "ipython3",
   "version": "3.8.5"
  }
 },
 "nbformat": 4,
 "nbformat_minor": 5
}
