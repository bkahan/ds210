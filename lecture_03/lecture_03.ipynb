{
 "cells": [
  {
   "cell_type": "markdown",
   "id": "eb562b1c",
   "metadata": {
    "cell_style": "center",
    "slideshow": {
     "slide_type": "slide"
    }
   },
   "source": [
    "# DS-210: Programming for Data Science\n",
    "\n",
    "\n",
    "# Lecture 3: Decision trees (continued)."
   ]
  },
  {
   "cell_type": "markdown",
   "id": "410402d8",
   "metadata": {
    "cell_style": "split",
    "slideshow": {
     "slide_type": "slide"
    }
   },
   "source": [
    "## New students\n",
    "* We're using Piazza and Blackboard)\n",
    "\n",
    "## Everyone\n",
    "* Jupyter Notebook / Jupyter Lab\n",
    "* You can use it to open lecture slides\n",
    "* Homework 1 out on Wed (due next Wed)"
   ]
  },
  {
   "cell_type": "markdown",
   "id": "af167f08",
   "metadata": {
    "cell_style": "split",
    "slideshow": {
     "slide_type": "fragment"
    }
   },
   "source": [
    "## Last time\n",
    "\n",
    "* Supervised vs. unsupervised learning\n",
    "* Decision trees"
   ]
  },
  {
   "cell_type": "markdown",
   "id": "b7d72e01",
   "metadata": {
    "cell_style": "center",
    "slideshow": {
     "slide_type": "slide"
    }
   },
   "source": [
    "## Function arguments in Python: via position or name"
   ]
  },
  {
   "cell_type": "code",
   "execution_count": 1,
   "id": "3bfa618b",
   "metadata": {
    "cell_style": "split",
    "slideshow": {
     "slide_type": "-"
    }
   },
   "outputs": [
    {
     "name": "stdout",
     "output_type": "stream",
     "text": [
      "321\n"
     ]
    }
   ],
   "source": [
    "# simplest function definition\n",
    "def foo(x, y, z):\n",
    "    return x + 10 * y + 100 * z\n",
    "\n",
    "print(foo(1,2,3))"
   ]
  },
  {
   "cell_type": "code",
   "execution_count": 2,
   "id": "41b2dc6d",
   "metadata": {
    "cell_style": "split",
    "slideshow": {
     "slide_type": "fragment"
    }
   },
   "outputs": [
    {
     "name": "stdout",
     "output_type": "stream",
     "text": [
      "1 21 321\n"
     ]
    }
   ],
   "source": [
    "# add default values\n",
    "def moo(x, y = 0, z = 0):\n",
    "    return x + 10 * y + 100 * z\n",
    "\n",
    "# only one argument is mandatory\n",
    "print(moo(1),moo(1,2),moo(1,2,3))"
   ]
  },
  {
   "cell_type": "code",
   "execution_count": 3,
   "id": "962a8e5e",
   "metadata": {
    "cell_style": "split",
    "slideshow": {
     "slide_type": "fragment"
    }
   },
   "outputs": [
    {
     "name": "stdout",
     "output_type": "stream",
     "text": [
      "321\n",
      "321\n"
     ]
    }
   ],
   "source": [
    "# can refer to all or some arguments via variable names\n",
    "print(foo(z = 3, y = 2, x = 1))\n",
    "print(foo(1, z = 3, y = 2))\n",
    "#won't work: print(foo(z = 3, y = 2, 1))"
   ]
  },
  {
   "cell_type": "code",
   "execution_count": 4,
   "id": "ce02ac33",
   "metadata": {
    "cell_style": "split",
    "slideshow": {
     "slide_type": "fragment"
    }
   },
   "outputs": [
    {
     "name": "stdout",
     "output_type": "stream",
     "text": [
      "301\n"
     ]
    }
   ],
   "source": [
    "# can arbitrarily skip over arguments\n",
    "print(moo(1, z = 3))"
   ]
  },
  {
   "cell_type": "markdown",
   "id": "4bba3c01",
   "metadata": {
    "slideshow": {
     "slide_type": "slide"
    }
   },
   "source": [
    "## Decision trees"
   ]
  },
  {
   "cell_type": "markdown",
   "id": "3968842d",
   "metadata": {
    "cell_style": "split",
    "slideshow": {
     "slide_type": "-"
    }
   },
   "source": [
    "Popular machine learning tool for predictive data analysis:\n",
    "* start at the root and keep going down\n",
    "* every internal node labeled with a condition\n",
    "  - if satisfied, go left\n",
    "  - if not satisfied, go right\n",
    "* leafs labeled with predicted labels"
   ]
  },
  {
   "cell_type": "markdown",
   "id": "0db217de",
   "metadata": {
    "cell_style": "split"
   },
   "source": [
    "<div align=\"center\">\n",
    "Does a player like bluegrass?\n",
    "<img alt=\"[Decision tree]\" align=\"center\" width=\"60%\" src=\"dt.png\"/></div>"
   ]
  },
  {
   "cell_type": "markdown",
   "id": "f481568e",
   "metadata": {
    "slideshow": {
     "slide_type": "fragment"
    }
   },
   "source": [
    "<div align=\"center\">\n",
    "    <b>Big challenge: finding a decision tree that matches data!</b>\n",
    "</div>"
   ]
  },
  {
   "cell_type": "markdown",
   "id": "22164570",
   "metadata": {
    "slideshow": {
     "slide_type": "subslide"
    }
   },
   "source": [
    "## Heuristics for constructing decision trees"
   ]
  },
  {
   "cell_type": "markdown",
   "id": "721df95a",
   "metadata": {
    "cell_style": "split",
    "slideshow": {
     "slide_type": "-"
    }
   },
   "source": [
    "* Start from a single node with all samples\n",
    "* Iterate:\n",
    "  * select a node\n",
    "  * use the samples in the node to split it into children\n",
    "  * pass each sample to respective child\n",
    "* Label leafs\n",
    "\n"
   ]
  },
  {
   "cell_type": "markdown",
   "id": "92dccbca",
   "metadata": {
    "cell_style": "split",
    "slideshow": {
     "slide_type": "fragment"
    }
   },
   "source": [
    "<div align=\"center\">\n",
    "Favorite color?\n",
    "<img alt=\"[Decision tree]\" align=\"center\" width=\"60%\" src=\"dt-1.png\"/></div>"
   ]
  },
  {
   "cell_type": "markdown",
   "id": "2666237c",
   "metadata": {
    "slideshow": {
     "slide_type": "subslide"
    }
   },
   "source": [
    "## Heuristics for constructing decision trees"
   ]
  },
  {
   "cell_type": "markdown",
   "id": "56a64e15",
   "metadata": {
    "cell_style": "split",
    "slideshow": {
     "slide_type": "-"
    }
   },
   "source": [
    "* Start from a single node with all samples\n",
    "* Iterate:\n",
    "  * select a node\n",
    "  * use the samples in the node to split it into children\n",
    "  * pass each sample to respective child\n",
    "* Label leafs\n",
    "\n"
   ]
  },
  {
   "cell_type": "markdown",
   "id": "ceea633f",
   "metadata": {
    "cell_style": "split",
    "slideshow": {
     "slide_type": "-"
    }
   },
   "source": [
    "<div align=\"center\">\n",
    "Favorite color?\n",
    "<img alt=\"[Decision tree]\" align=\"center\" width=\"60%\" src=\"dt-2.png\"/></div>"
   ]
  },
  {
   "cell_type": "markdown",
   "id": "bfaf0f13",
   "metadata": {
    "slideshow": {
     "slide_type": "subslide"
    }
   },
   "source": [
    "## Heuristics for constructing decision trees"
   ]
  },
  {
   "cell_type": "markdown",
   "id": "66d5f3a5",
   "metadata": {
    "cell_style": "split",
    "slideshow": {
     "slide_type": "-"
    }
   },
   "source": [
    "* Start from a single node with all samples\n",
    "* Iterate:\n",
    "  * select a node\n",
    "  * use the samples in the node to split it into children\n",
    "  * pass each sample to respective child\n",
    "* Label leafs\n",
    "\n"
   ]
  },
  {
   "cell_type": "markdown",
   "id": "c0e70b90",
   "metadata": {
    "cell_style": "split",
    "slideshow": {
     "slide_type": "-"
    }
   },
   "source": [
    "<div align=\"center\">\n",
    "Favorite color?\n",
    "<img alt=\"[Decision tree]\" align=\"center\" width=\"60%\" src=\"dt-3.png\"/></div>"
   ]
  },
  {
   "cell_type": "markdown",
   "id": "76a24082",
   "metadata": {
    "slideshow": {
     "slide_type": "subslide"
    }
   },
   "source": [
    "## Heuristics for constructing decision trees"
   ]
  },
  {
   "cell_type": "markdown",
   "id": "472d45cb",
   "metadata": {
    "cell_style": "split",
    "slideshow": {
     "slide_type": "-"
    }
   },
   "source": [
    "* Start from a single node with all samples\n",
    "* Iterate:\n",
    "  * select a node\n",
    "  * use the samples in the node to split it into children\n",
    "  * pass each sample to respective child\n",
    "* Label leafs\n",
    "\n"
   ]
  },
  {
   "cell_type": "markdown",
   "id": "a4e08715",
   "metadata": {
    "cell_style": "split",
    "slideshow": {
     "slide_type": "-"
    }
   },
   "source": [
    "<div align=\"center\">\n",
    "Favorite color?\n",
    "<img alt=\"[Decision tree]\" align=\"center\" width=\"60%\" src=\"dt-4.png\"/></div>"
   ]
  },
  {
   "cell_type": "markdown",
   "id": "2aeac5a7",
   "metadata": {
    "cell_style": "split",
    "slideshow": {
     "slide_type": "subslide"
    }
   },
   "source": [
    "## Split selection\n",
    "\n",
    "* Typical heuristic: select a split that improves classification most\n",
    "* Various measures of \"goodness\" or \"badness\":\n",
    "  * Information gain\n",
    "  * Ginni impurity\n",
    "  * Variance\n"
   ]
  },
  {
   "cell_type": "markdown",
   "id": "1f4e98bc",
   "metadata": {
    "cell_style": "split",
    "slideshow": {
     "slide_type": "fragment"
    }
   },
   "source": [
    "## Popular algorithms\n",
    "\n",
    "* ID3\n",
    "* C4.5\n",
    "* C5.0\n",
    "* CART (used by `scikit-learn`)\n",
    "\n",
    "You can read more about those algorithms at https://scikit-learn.org/stable/modules/tree.html#tree-algorithms-id3-c4-5-c5-0-and-cart  \n",
    "\n",
    "and see the mathematical formulation for CART here: https://scikit-learn.org/stable/modules/tree.html#mathematical-formulation"
   ]
  },
  {
   "cell_type": "markdown",
   "id": "a6010f1c",
   "metadata": {
    "slideshow": {
     "slide_type": "subslide"
    }
   },
   "source": [
    "## Advantages and disadvantages of decision trees"
   ]
  },
  {
   "cell_type": "markdown",
   "id": "feade850",
   "metadata": {
    "cell_style": "split",
    "slideshow": {
     "slide_type": "fragment"
    }
   },
   "source": [
    "Advantages:\n",
    "* easy to interpret\n",
    "* not much data preparation needed\n",
    "* categorical and numerical data\n",
    "* relatively fast"
   ]
  },
  {
   "cell_type": "markdown",
   "id": "ae33015e",
   "metadata": {
    "cell_style": "split",
    "slideshow": {
     "slide_type": "fragment"
    }
   },
   "source": [
    "Disadvantages:\n",
    "* can be very sensitive to data changes\n",
    "* can create an overcomplicated tree that matches the sample, but not the underlying problem\n",
    "* hard to find an optimal tree"
   ]
  },
  {
   "cell_type": "markdown",
   "id": "dba6dfaf",
   "metadata": {
    "slideshow": {
     "slide_type": "slide"
    }
   },
   "source": [
    "## Decision tree construction using `scikit-learn`\n",
    "\n",
    "**Note: ignore machine learning context for now**\n",
    "\n",
    "First, we read our sample data and add information who likes pizza"
   ]
  },
  {
   "cell_type": "code",
   "execution_count": 18,
   "id": "ad41aa7c",
   "metadata": {
    "cell_style": "split",
    "slideshow": {
     "slide_type": "fragment"
    }
   },
   "outputs": [
    {
     "data": {
      "text/html": [
       "<div>\n",
       "<style scoped>\n",
       "    .dataframe tbody tr th:only-of-type {\n",
       "        vertical-align: middle;\n",
       "    }\n",
       "\n",
       "    .dataframe tbody tr th {\n",
       "        vertical-align: top;\n",
       "    }\n",
       "\n",
       "    .dataframe thead th {\n",
       "        text-align: right;\n",
       "    }\n",
       "</style>\n",
       "<table border=\"1\" class=\"dataframe\">\n",
       "  <thead>\n",
       "    <tr style=\"text-align: right;\">\n",
       "      <th></th>\n",
       "      <th>Name</th>\n",
       "      <th>Number</th>\n",
       "      <th>PPG</th>\n",
       "      <th>YearBorn</th>\n",
       "      <th>TotalPoints</th>\n",
       "    </tr>\n",
       "  </thead>\n",
       "  <tbody>\n",
       "    <tr>\n",
       "      <th>0</th>\n",
       "      <td>Kareem</td>\n",
       "      <td>33</td>\n",
       "      <td>24.6</td>\n",
       "      <td>1947</td>\n",
       "      <td>38387</td>\n",
       "    </tr>\n",
       "    <tr>\n",
       "      <th>1</th>\n",
       "      <td>Karl</td>\n",
       "      <td>32</td>\n",
       "      <td>25.0</td>\n",
       "      <td>1963</td>\n",
       "      <td>36928</td>\n",
       "    </tr>\n",
       "    <tr>\n",
       "      <th>2</th>\n",
       "      <td>LeBron</td>\n",
       "      <td>23</td>\n",
       "      <td>27.0</td>\n",
       "      <td>1984</td>\n",
       "      <td>36381</td>\n",
       "    </tr>\n",
       "    <tr>\n",
       "      <th>3</th>\n",
       "      <td>Kobe</td>\n",
       "      <td>24</td>\n",
       "      <td>25.0</td>\n",
       "      <td>1978</td>\n",
       "      <td>33643</td>\n",
       "    </tr>\n",
       "    <tr>\n",
       "      <th>4</th>\n",
       "      <td>Michael</td>\n",
       "      <td>23</td>\n",
       "      <td>30.1</td>\n",
       "      <td>1963</td>\n",
       "      <td>32292</td>\n",
       "    </tr>\n",
       "  </tbody>\n",
       "</table>\n",
       "</div>"
      ],
      "text/plain": [
       "      Name  Number   PPG  YearBorn  TotalPoints\n",
       "0   Kareem      33  24.6      1947        38387\n",
       "1     Karl      32  25.0      1963        36928\n",
       "2   LeBron      23  27.0      1984        36381\n",
       "3     Kobe      24  25.0      1978        33643\n",
       "4  Michael      23  30.1      1963        32292"
      ]
     },
     "execution_count": 18,
     "metadata": {},
     "output_type": "execute_result"
    }
   ],
   "source": [
    "# Let's read our sample data\n",
    "import pandas as pd\n",
    "data = pd.read_csv('players.csv')\n",
    "data"
   ]
  },
  {
   "cell_type": "code",
   "execution_count": 19,
   "id": "a8787733",
   "metadata": {
    "cell_style": "split",
    "slideshow": {
     "slide_type": "fragment"
    }
   },
   "outputs": [
    {
     "data": {
      "text/html": [
       "<div>\n",
       "<style scoped>\n",
       "    .dataframe tbody tr th:only-of-type {\n",
       "        vertical-align: middle;\n",
       "    }\n",
       "\n",
       "    .dataframe tbody tr th {\n",
       "        vertical-align: top;\n",
       "    }\n",
       "\n",
       "    .dataframe thead th {\n",
       "        text-align: right;\n",
       "    }\n",
       "</style>\n",
       "<table border=\"1\" class=\"dataframe\">\n",
       "  <thead>\n",
       "    <tr style=\"text-align: right;\">\n",
       "      <th></th>\n",
       "      <th>Name</th>\n",
       "      <th>Number</th>\n",
       "      <th>PPG</th>\n",
       "      <th>YearBorn</th>\n",
       "      <th>TotalPoints</th>\n",
       "      <th>LikesPizza</th>\n",
       "    </tr>\n",
       "  </thead>\n",
       "  <tbody>\n",
       "    <tr>\n",
       "      <th>0</th>\n",
       "      <td>Kareem</td>\n",
       "      <td>33</td>\n",
       "      <td>24.6</td>\n",
       "      <td>1947</td>\n",
       "      <td>38387</td>\n",
       "      <td>1</td>\n",
       "    </tr>\n",
       "    <tr>\n",
       "      <th>1</th>\n",
       "      <td>Karl</td>\n",
       "      <td>32</td>\n",
       "      <td>25.0</td>\n",
       "      <td>1963</td>\n",
       "      <td>36928</td>\n",
       "      <td>0</td>\n",
       "    </tr>\n",
       "    <tr>\n",
       "      <th>2</th>\n",
       "      <td>LeBron</td>\n",
       "      <td>23</td>\n",
       "      <td>27.0</td>\n",
       "      <td>1984</td>\n",
       "      <td>36381</td>\n",
       "      <td>0</td>\n",
       "    </tr>\n",
       "    <tr>\n",
       "      <th>3</th>\n",
       "      <td>Kobe</td>\n",
       "      <td>24</td>\n",
       "      <td>25.0</td>\n",
       "      <td>1978</td>\n",
       "      <td>33643</td>\n",
       "      <td>1</td>\n",
       "    </tr>\n",
       "    <tr>\n",
       "      <th>4</th>\n",
       "      <td>Michael</td>\n",
       "      <td>23</td>\n",
       "      <td>30.1</td>\n",
       "      <td>1963</td>\n",
       "      <td>32292</td>\n",
       "      <td>0</td>\n",
       "    </tr>\n",
       "  </tbody>\n",
       "</table>\n",
       "</div>"
      ],
      "text/plain": [
       "      Name  Number   PPG  YearBorn  TotalPoints  LikesPizza\n",
       "0   Kareem      33  24.6      1947        38387           1\n",
       "1     Karl      32  25.0      1963        36928           0\n",
       "2   LeBron      23  27.0      1984        36381           0\n",
       "3     Kobe      24  25.0      1978        33643           1\n",
       "4  Michael      23  30.1      1963        32292           0"
      ]
     },
     "execution_count": 19,
     "metadata": {},
     "output_type": "execute_result"
    }
   ],
   "source": [
    "likes_pizza = [1,0,0,1,0]\n",
    "data['LikesPizza'] = likes_pizza\n",
    "data"
   ]
  },
  {
   "cell_type": "markdown",
   "id": "66c187d1",
   "metadata": {
    "slideshow": {
     "slide_type": "subslide"
    }
   },
   "source": [
    "## Visualized"
   ]
  },
  {
   "cell_type": "code",
   "execution_count": 20,
   "id": "01e83327",
   "metadata": {
    "cell_style": "center",
    "slideshow": {
     "slide_type": "-"
    }
   },
   "outputs": [
    {
     "data": {
      "image/png": "[encoded data removed]",
      "text/plain": [
       "<Figure size 800x800 with 1 Axes>"
      ]
     },
     "metadata": {},
     "output_type": "display_data"
    }
   ],
   "source": [
    "import matplotlib.pyplot as plt\n",
    "data['radius'] = [1000 for x in data['PPG']]\n",
    "fig,ax = plt.subplots(figsize=(8,8))\n",
    "ax.set_xlabel('Total points')\n",
    "ax.set_ylabel('Points per game')\n",
    "ax.scatter('TotalPoints','PPG','radius','LikesPizza',data=data);"
   ]
  },
  {
   "cell_type": "markdown",
   "id": "44720b72",
   "metadata": {
    "slideshow": {
     "slide_type": "slide"
    }
   },
   "source": [
    "## Data selection\n",
    "* set of inputs: `X`\n",
    "* set of desired outputs:`y`"
   ]
  },
  {
   "cell_type": "code",
   "execution_count": 21,
   "id": "f970db4b",
   "metadata": {
    "cell_style": "split",
    "slideshow": {
     "slide_type": "-"
    }
   },
   "outputs": [
    {
     "data": {
      "text/html": [
       "<div>\n",
       "<style scoped>\n",
       "    .dataframe tbody tr th:only-of-type {\n",
       "        vertical-align: middle;\n",
       "    }\n",
       "\n",
       "    .dataframe tbody tr th {\n",
       "        vertical-align: top;\n",
       "    }\n",
       "\n",
       "    .dataframe thead th {\n",
       "        text-align: right;\n",
       "    }\n",
       "</style>\n",
       "<table border=\"1\" class=\"dataframe\">\n",
       "  <thead>\n",
       "    <tr style=\"text-align: right;\">\n",
       "      <th></th>\n",
       "      <th>Name</th>\n",
       "      <th>Number</th>\n",
       "      <th>PPG</th>\n",
       "      <th>YearBorn</th>\n",
       "      <th>TotalPoints</th>\n",
       "      <th>LikesPizza</th>\n",
       "      <th>radius</th>\n",
       "    </tr>\n",
       "  </thead>\n",
       "  <tbody>\n",
       "    <tr>\n",
       "      <th>0</th>\n",
       "      <td>Kareem</td>\n",
       "      <td>33</td>\n",
       "      <td>24.6</td>\n",
       "      <td>1947</td>\n",
       "      <td>38387</td>\n",
       "      <td>1</td>\n",
       "      <td>1000</td>\n",
       "    </tr>\n",
       "    <tr>\n",
       "      <th>1</th>\n",
       "      <td>Karl</td>\n",
       "      <td>32</td>\n",
       "      <td>25.0</td>\n",
       "      <td>1963</td>\n",
       "      <td>36928</td>\n",
       "      <td>0</td>\n",
       "      <td>1000</td>\n",
       "    </tr>\n",
       "    <tr>\n",
       "      <th>2</th>\n",
       "      <td>LeBron</td>\n",
       "      <td>23</td>\n",
       "      <td>27.0</td>\n",
       "      <td>1984</td>\n",
       "      <td>36381</td>\n",
       "      <td>0</td>\n",
       "      <td>1000</td>\n",
       "    </tr>\n",
       "    <tr>\n",
       "      <th>3</th>\n",
       "      <td>Kobe</td>\n",
       "      <td>24</td>\n",
       "      <td>25.0</td>\n",
       "      <td>1978</td>\n",
       "      <td>33643</td>\n",
       "      <td>1</td>\n",
       "      <td>1000</td>\n",
       "    </tr>\n",
       "    <tr>\n",
       "      <th>4</th>\n",
       "      <td>Michael</td>\n",
       "      <td>23</td>\n",
       "      <td>30.1</td>\n",
       "      <td>1963</td>\n",
       "      <td>32292</td>\n",
       "      <td>0</td>\n",
       "      <td>1000</td>\n",
       "    </tr>\n",
       "  </tbody>\n",
       "</table>\n",
       "</div>"
      ],
      "text/plain": [
       "      Name  Number   PPG  YearBorn  TotalPoints  LikesPizza  radius\n",
       "0   Kareem      33  24.6      1947        38387           1    1000\n",
       "1     Karl      32  25.0      1963        36928           0    1000\n",
       "2   LeBron      23  27.0      1984        36381           0    1000\n",
       "3     Kobe      24  25.0      1978        33643           1    1000\n",
       "4  Michael      23  30.1      1963        32292           0    1000"
      ]
     },
     "execution_count": 21,
     "metadata": {},
     "output_type": "execute_result"
    }
   ],
   "source": [
    "data"
   ]
  },
  {
   "cell_type": "code",
   "execution_count": 22,
   "id": "dae25171",
   "metadata": {
    "cell_style": "split",
    "slideshow": {
     "slide_type": "fragment"
    }
   },
   "outputs": [
    {
     "name": "stdout",
     "output_type": "stream",
     "text": [
      "    PPG  YearBorn  TotalPoints\n",
      "0  24.6      1947        38387\n",
      "1  25.0      1963        36928\n",
      "2  27.0      1984        36381\n",
      "3  25.0      1978        33643\n",
      "4  30.1      1963        32292\n",
      "\n",
      "0    1\n",
      "1    0\n",
      "2    0\n",
      "3    1\n",
      "4    0\n",
      "Name: LikesPizza, dtype: int64\n"
     ]
    }
   ],
   "source": [
    "features = ['PPG','YearBorn','TotalPoints']\n",
    "X = data[features]\n",
    "y = data['LikesPizza']\n",
    "print(X,y,sep='\\n\\n')"
   ]
  },
  {
   "cell_type": "markdown",
   "id": "690785f0",
   "metadata": {
    "slideshow": {
     "slide_type": "slide"
    }
   },
   "source": [
    "## Decision tree construction\n",
    "* How to decide which feature should be located at the root node,\n",
    "* Most accurate feature to serve as internal nodes or leaf nodes,\n",
    "* How to divide tree,\n",
    "* How to measure the accuracy of splitting tree and many more.\n"
   ]
  },
  {
   "cell_type": "code",
   "execution_count": 26,
   "id": "43cedecb",
   "metadata": {
    "cell_style": "center",
    "slideshow": {
     "slide_type": "-"
    }
   },
   "outputs": [
    {
     "name": "stderr",
     "output_type": "stream",
     "text": [
      "/Users/kthanasi/Library/Python/3.8/lib/python/site-packages/sklearn/base.py:450: UserWarning: X does not have valid feature names, but DecisionTreeClassifier was fitted with feature names\n",
      "  warnings.warn(\n"
     ]
    },
    {
     "data": {
      "text/plain": [
       "array([0])"
      ]
     },
     "execution_count": 26,
     "metadata": {},
     "output_type": "execute_result"
    }
   ],
   "source": [
    "from sklearn.tree import DecisionTreeClassifier\n",
    "clf = DecisionTreeClassifier(max_leaf_nodes = 3)\n",
    "clf = clf.fit(X,y)\n",
    "# clf = clf.fit(X.values, y)\n",
    "result = clf.predict([[22.4, 1975, 30000]])\n",
    "result"
   ]
  },
  {
   "cell_type": "markdown",
   "id": "dd1f235c",
   "metadata": {
    "slideshow": {
     "slide_type": "slide"
    }
   },
   "source": [
    "## Visualizing the outcome"
   ]
  },
  {
   "cell_type": "code",
   "execution_count": 7,
   "id": "cbfd2135",
   "metadata": {
    "cell_style": "split",
    "slideshow": {
     "slide_type": "-"
    }
   },
   "outputs": [
    {
     "name": "stdout",
     "output_type": "stream",
     "text": [
      "|--- PPG <= 26.00\n",
      "|   |--- TotalPoints <= 35285.50\n",
      "|   |   |--- class: 1\n",
      "|   |--- TotalPoints >  35285.50\n",
      "|   |   |--- class: 0\n",
      "|--- PPG >  26.00\n",
      "|   |--- class: 0\n",
      "\n"
     ]
    }
   ],
   "source": [
    "from sklearn import tree\n",
    "text = tree.export_text(clf,feature_names = features)\n",
    "print(text)"
   ]
  },
  {
   "cell_type": "code",
   "execution_count": 16,
   "id": "0a6ab9ed",
   "metadata": {
    "cell_style": "split",
    "scrolled": true,
    "slideshow": {
     "slide_type": "fragment"
    }
   },
   "outputs": [
    {
     "data": {
      "image/png": "[encoded data removed]",
      "text/plain": [
       "<Figure size 640x480 with 1 Axes>"
      ]
     },
     "metadata": {},
     "output_type": "display_data"
    }
   ],
   "source": [
    "tree.plot_tree(clf,feature_names = features);"
   ]
  },
  {
   "cell_type": "code",
   "execution_count": 10,
   "id": "e5627f8d",
   "metadata": {},
   "outputs": [
    {
     "data": {
      "text/plain": [
       "array([0.5])"
      ]
     },
     "execution_count": 10,
     "metadata": {},
     "output_type": "execute_result"
    }
   ],
   "source": [
    "from sklearn import tree\n",
    "X = [[0, 0], [2, 2]]\n",
    "y = [0.5, 2.5]\n",
    "clf2 = tree.DecisionTreeRegressor()\n",
    "clf2 = clf2.fit(X, y)\n",
    "clf2.predict([[1, 1]])"
   ]
  },
  {
   "cell_type": "markdown",
   "id": "15ae1c4e",
   "metadata": {
    "slideshow": {
     "slide_type": "slide"
    }
   },
   "source": [
    "## Closing remarks\n",
    "* **Suggested reading:** https://scikit-learn.org/stable/modules/tree.html\n",
    "* **Next time:** using this in the context of a data science pipeline\n",
    "* Homework 1 out on Wednesday."
   ]
  }
 ],
 "metadata": {
  "celltoolbar": "Slideshow",
  "kernelspec": {
   "display_name": "Python 3 (ipykernel)",
   "language": "python",
   "name": "python3"
  },
  "language_info": {
   "codemirror_mode": {
    "name": "ipython",
    "version": 3
   },
   "file_extension": ".py",
   "mimetype": "text/x-python",
   "name": "python",
   "nbconvert_exporter": "python",
   "pygments_lexer": "ipython3",
   "version": "3.8.3"
  },
  "rise": {
   "enable_chalkboard": true,
   "theme": "serif"
  }
 },
 "nbformat": 4,
 "nbformat_minor": 5
}
