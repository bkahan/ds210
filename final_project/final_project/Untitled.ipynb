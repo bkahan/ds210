{
 "cells": [
  {
   "cell_type": "markdown",
   "id": "bc99e46f-9865-4d6c-a331-0913dc454af5",
   "metadata": {},
   "source": [
    "Ben Kahan  \n",
    "DS 210  \n",
    "Final Project  \n",
    "13 December 2022"
   ]
  },
  {
   "cell_type": "code",
   "execution_count": 1,
   "id": "5d9ac3b6-027f-40b2-9b12-af538ee79b5c",
   "metadata": {},
   "outputs": [],
   "source": [
    "import pandas as pd\n",
    "import numpy"
   ]
  },
  {
   "cell_type": "code",
   "execution_count": 2,
   "id": "ec041b2f-4373-4452-a96e-d9b750871c01",
   "metadata": {},
   "outputs": [],
   "source": [
    "data = pd.read_csv(\"data/data.csv\")"
   ]
  },
  {
   "cell_type": "code",
   "execution_count": 3,
   "id": "e2b84278-fe22-4fc6-9eb7-bc7eeaf17701",
   "metadata": {},
   "outputs": [
    {
     "data": {
      "text/html": [
       "<div>\n",
       "<style scoped>\n",
       "    .dataframe tbody tr th:only-of-type {\n",
       "        vertical-align: middle;\n",
       "    }\n",
       "\n",
       "    .dataframe tbody tr th {\n",
       "        vertical-align: top;\n",
       "    }\n",
       "\n",
       "    .dataframe thead th {\n",
       "        text-align: right;\n",
       "    }\n",
       "</style>\n",
       "<table border=\"1\" class=\"dataframe\">\n",
       "  <thead>\n",
       "    <tr style=\"text-align: right;\">\n",
       "      <th></th>\n",
       "      <th>Movie_Title</th>\n",
       "      <th>Year</th>\n",
       "      <th>Director</th>\n",
       "      <th>Actors</th>\n",
       "      <th>Rating</th>\n",
       "      <th>Runtime(Mins)</th>\n",
       "      <th>Censor</th>\n",
       "      <th>Total_Gross</th>\n",
       "      <th>main_genre</th>\n",
       "      <th>side_genre</th>\n",
       "    </tr>\n",
       "  </thead>\n",
       "  <tbody>\n",
       "    <tr>\n",
       "      <th>0</th>\n",
       "      <td>Kantara</td>\n",
       "      <td>2022</td>\n",
       "      <td>Rishab Shetty</td>\n",
       "      <td>Rishab Shetty, Sapthami Gowda, Kishore Kumar G...</td>\n",
       "      <td>9.3</td>\n",
       "      <td>148</td>\n",
       "      <td>UA</td>\n",
       "      <td>Gross Unkown</td>\n",
       "      <td>Action</td>\n",
       "      <td>Adventure,  Drama</td>\n",
       "    </tr>\n",
       "    <tr>\n",
       "      <th>1</th>\n",
       "      <td>The Dark Knight</td>\n",
       "      <td>2008</td>\n",
       "      <td>Christopher Nolan</td>\n",
       "      <td>Christian Bale, Heath Ledger, Aaron Eckhart, M...</td>\n",
       "      <td>9.0</td>\n",
       "      <td>152</td>\n",
       "      <td>UA</td>\n",
       "      <td>$534.86M</td>\n",
       "      <td>Action</td>\n",
       "      <td>Crime,  Drama</td>\n",
       "    </tr>\n",
       "    <tr>\n",
       "      <th>2</th>\n",
       "      <td>The Lord of the Rings: The Return of the King</td>\n",
       "      <td>2003</td>\n",
       "      <td>Peter Jackson</td>\n",
       "      <td>Elijah Wood, Viggo Mortensen, Ian McKellen, Or...</td>\n",
       "      <td>9.0</td>\n",
       "      <td>201</td>\n",
       "      <td>U</td>\n",
       "      <td>$377.85M</td>\n",
       "      <td>Action</td>\n",
       "      <td>Adventure,  Drama</td>\n",
       "    </tr>\n",
       "    <tr>\n",
       "      <th>3</th>\n",
       "      <td>Inception</td>\n",
       "      <td>2010</td>\n",
       "      <td>Christopher Nolan</td>\n",
       "      <td>Leonardo DiCaprio, Joseph Gordon-Levitt, Ellio...</td>\n",
       "      <td>8.8</td>\n",
       "      <td>148</td>\n",
       "      <td>UA</td>\n",
       "      <td>$292.58M</td>\n",
       "      <td>Action</td>\n",
       "      <td>Adventure,  Sci-Fi</td>\n",
       "    </tr>\n",
       "    <tr>\n",
       "      <th>4</th>\n",
       "      <td>The Lord of the Rings: The Two Towers</td>\n",
       "      <td>2002</td>\n",
       "      <td>Peter Jackson</td>\n",
       "      <td>Elijah Wood, Ian McKellen, Viggo Mortensen, Or...</td>\n",
       "      <td>8.8</td>\n",
       "      <td>179</td>\n",
       "      <td>UA</td>\n",
       "      <td>$342.55M</td>\n",
       "      <td>Action</td>\n",
       "      <td>Adventure,  Drama</td>\n",
       "    </tr>\n",
       "  </tbody>\n",
       "</table>\n",
       "</div>"
      ],
      "text/plain": [
       "                                     Movie_Title  Year           Director  \\\n",
       "0                                        Kantara  2022      Rishab Shetty   \n",
       "1                                The Dark Knight  2008  Christopher Nolan   \n",
       "2  The Lord of the Rings: The Return of the King  2003      Peter Jackson   \n",
       "3                                      Inception  2010  Christopher Nolan   \n",
       "4          The Lord of the Rings: The Two Towers  2002      Peter Jackson   \n",
       "\n",
       "                                              Actors  Rating  Runtime(Mins)  \\\n",
       "0  Rishab Shetty, Sapthami Gowda, Kishore Kumar G...     9.3            148   \n",
       "1  Christian Bale, Heath Ledger, Aaron Eckhart, M...     9.0            152   \n",
       "2  Elijah Wood, Viggo Mortensen, Ian McKellen, Or...     9.0            201   \n",
       "3  Leonardo DiCaprio, Joseph Gordon-Levitt, Ellio...     8.8            148   \n",
       "4  Elijah Wood, Ian McKellen, Viggo Mortensen, Or...     8.8            179   \n",
       "\n",
       "  Censor   Total_Gross main_genre           side_genre  \n",
       "0     UA  Gross Unkown     Action    Adventure,  Drama  \n",
       "1     UA      $534.86M     Action        Crime,  Drama  \n",
       "2      U      $377.85M     Action    Adventure,  Drama  \n",
       "3     UA      $292.58M     Action   Adventure,  Sci-Fi  \n",
       "4     UA      $342.55M     Action    Adventure,  Drama  "
      ]
     },
     "execution_count": 3,
     "metadata": {},
     "output_type": "execute_result"
    }
   ],
   "source": [
    "data.head()"
   ]
  },
  {
   "cell_type": "code",
   "execution_count": 4,
   "id": "cd1629f9-c619-4038-a1ff-fd931839241b",
   "metadata": {},
   "outputs": [
    {
     "data": {
      "text/plain": [
       "count       5562\n",
       "unique        13\n",
       "top       Action\n",
       "freq        1577\n",
       "Name: main_genre, dtype: object"
      ]
     },
     "execution_count": 4,
     "metadata": {},
     "output_type": "execute_result"
    }
   ],
   "source": [
    "data['main_genre'].describe()"
   ]
  },
  {
   "cell_type": "code",
   "execution_count": 5,
   "id": "b5658806-cf57-4163-a118-4e856d9aa64d",
   "metadata": {},
   "outputs": [
    {
     "data": {
      "text/plain": [
       "count                 5562\n",
       "unique                 144\n",
       "top        Drama,  Romance\n",
       "freq                   324\n",
       "Name: side_genre, dtype: object"
      ]
     },
     "execution_count": 5,
     "metadata": {},
     "output_type": "execute_result"
    }
   ],
   "source": [
    "data['side_genre'].describe()"
   ]
  },
  {
   "cell_type": "code",
   "execution_count": 16,
   "id": "790d3fec-c67a-46e2-bdd8-223b1a847527",
   "metadata": {},
   "outputs": [
    {
     "data": {
      "text/plain": [
       "count    5562.000000\n",
       "mean     2002.792521\n",
       "std        16.143990\n",
       "min      1920.000000\n",
       "25%      1997.000000\n",
       "50%      2007.000000\n",
       "75%      2014.000000\n",
       "max      2022.000000\n",
       "Name: Year, dtype: float64"
      ]
     },
     "execution_count": 16,
     "metadata": {},
     "output_type": "execute_result"
    }
   ],
   "source": [
    "data['Year'].describe()"
   ]
  },
  {
   "cell_type": "code",
   "execution_count": 18,
   "id": "99acb77f-c2b4-48ea-964d-5835cb7cfc58",
   "metadata": {},
   "outputs": [
    {
     "data": {
      "text/plain": [
       "'Christian Bale, Heath Ledger, Aaron Eckhart, Michael Caine'"
      ]
     },
     "execution_count": 18,
     "metadata": {},
     "output_type": "execute_result"
    }
   ],
   "source": [
    "data['Actors'][1]"
   ]
  },
  {
   "cell_type": "code",
   "execution_count": 19,
   "id": "e2f7ccc2-32e7-44aa-a8ef-1027c425286b",
   "metadata": {},
   "outputs": [
    {
     "data": {
      "text/plain": [
       "count                                                  5562\n",
       "unique                                                 5511\n",
       "top       William Shatner, Leonard Nimoy, DeForest Kelle...\n",
       "freq                                                      6\n",
       "Name: Actors, dtype: object"
      ]
     },
     "execution_count": 19,
     "metadata": {},
     "output_type": "execute_result"
    }
   ],
   "source": [
    "data['Actors'].describe()"
   ]
  },
  {
   "cell_type": "code",
   "execution_count": null,
   "id": "ffb343b5-dbbf-4ea7-babf-03fbf09dc4cd",
   "metadata": {},
   "outputs": [],
   "source": []
  }
 ],
 "metadata": {
  "kernelspec": {
   "display_name": "Python 3 (ipykernel)",
   "language": "python",
   "name": "python3"
  },
  "language_info": {
   "codemirror_mode": {
    "name": "ipython",
    "version": 3
   },
   "file_extension": ".py",
   "mimetype": "text/x-python",
   "name": "python",
   "nbconvert_exporter": "python",
   "pygments_lexer": "ipython3",
   "version": "3.8.5"
  }
 },
 "nbformat": 4,
 "nbformat_minor": 5
}
